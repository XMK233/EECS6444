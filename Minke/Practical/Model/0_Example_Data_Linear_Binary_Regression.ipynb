{
 "cells": [
  {
   "cell_type": "markdown",
   "metadata": {},
   "source": [
    "### Using the example data and code. Do the understanding. "
   ]
  },
  {
   "cell_type": "code",
   "execution_count": 2,
   "metadata": {},
   "outputs": [
    {
     "data": {
      "text/html": [
       "6729"
      ],
      "text/latex": [
       "6729"
      ],
      "text/markdown": [
       "6729"
      ],
      "text/plain": [
       "[1] 6729"
      ]
     },
     "metadata": {},
     "output_type": "display_data"
    },
    {
     "data": {
      "text/html": [
       "7888"
      ],
      "text/latex": [
       "7888"
      ],
      "text/markdown": [
       "7888"
      ],
      "text/plain": [
       "[1] 7888"
      ]
     },
     "metadata": {},
     "output_type": "display_data"
    }
   ],
   "source": [
    "files_20 <- read.table(\"Example/eclipse-metrics-files-2.0.csv\", header=T, sep=\";\")\n",
    "files_21 <- read.table(\"Example/eclipse-metrics-files-2.1.csv\", header=T, sep=\";\")\n",
    "\n",
    "nrow(files_20)\n",
    "nrow(files_21)"
   ]
  },
  {
   "cell_type": "code",
   "execution_count": 9,
   "metadata": {},
   "outputs": [
    {
     "data": {
      "text/html": [
       "<table>\n",
       "<thead><tr><th scope=col>plugin</th><th scope=col>filename</th><th scope=col>pre</th><th scope=col>post</th><th scope=col>ACD</th><th scope=col>FOUT_avg</th><th scope=col>FOUT_max</th><th scope=col>FOUT_sum</th><th scope=col>MLOC_avg</th><th scope=col>MLOC_max</th><th scope=col>...</th><th scope=col>NORM_ParameterizedType</th><th scope=col>NORM_QualifiedType</th><th scope=col>NORM_WildcardType</th><th scope=col>NORM_NormalAnnotation</th><th scope=col>NORM_MarkerAnnotation</th><th scope=col>NORM_SingleMemberAnnotation</th><th scope=col>NORM_MemberValuePair</th><th scope=col>NORM_AnnotationTypeDeclaration</th><th scope=col>NORM_AnnotationTypeMemberDeclaration</th><th scope=col>NORM_Modifier</th></tr></thead>\n",
       "<tbody>\n",
       "\t<tr><td>org.eclipse.jdt.junit                                                                               </td><td>/org.eclipse.jdt.junit/src/org/eclipse/jdt/internal/junit/launcher/JUnitBaseLaunchConfiguration.java</td><td>1                                                                                                   </td><td>0                                                                                                   </td><td>0                                                                                                   </td><td> 6.750000                                                                                           </td><td>29                                                                                                  </td><td> 54                                                                                                 </td><td> 9.250000                                                                                           </td><td>32                                                                                                  </td><td>...                                                                                                 </td><td>0                                                                                                   </td><td>0                                                                                                   </td><td>0                                                                                                   </td><td>0                                                                                                   </td><td>0                                                                                                   </td><td>0                                                                                                   </td><td>0                                                                                                   </td><td>0                                                                                                   </td><td>0                                                                                                   </td><td>0.01978239                                                                                          </td></tr>\n",
       "\t<tr><td>org.eclipse.jdt.junit                                                                               </td><td>/org.eclipse.jdt.junit/src/org/eclipse/jdt/internal/junit/launcher/JUnitLaunchConfiguration.java    </td><td>1                                                                                                   </td><td>0                                                                                                   </td><td>0                                                                                                   </td><td>12.500000                                                                                           </td><td>13                                                                                                  </td><td> 25                                                                                                 </td><td>16.000000                                                                                           </td><td>18                                                                                                  </td><td>...                                                                                                 </td><td>0                                                                                                   </td><td>0                                                                                                   </td><td>0                                                                                                   </td><td>0                                                                                                   </td><td>0                                                                                                   </td><td>0                                                                                                   </td><td>0                                                                                                   </td><td>0                                                                                                   </td><td>0                                                                                                   </td><td>0.01372998                                                                                          </td></tr>\n",
       "\t<tr><td>org.eclipse.jdt.junit                                                                               </td><td>/org.eclipse.jdt.junit/src/org/eclipse/jdt/internal/junit/launcher/JUnitLaunchConfigurationTab.java </td><td>0                                                                                                   </td><td>0                                                                                                   </td><td>0                                                                                                   </td><td> 5.333333                                                                                           </td><td>10                                                                                                  </td><td> 16                                                                                                 </td><td>12.666667                                                                                           </td><td>29                                                                                                  </td><td>...                                                                                                 </td><td>0                                                                                                   </td><td>0                                                                                                   </td><td>0                                                                                                   </td><td>0                                                                                                   </td><td>0                                                                                                   </td><td>0                                                                                                   </td><td>0                                                                                                   </td><td>0                                                                                                   </td><td>0                                                                                                   </td><td>0.01046025                                                                                          </td></tr>\n",
       "\t<tr><td>org.eclipse.jdt.junit                                                                               </td><td>/org.eclipse.jdt.junit/src/org/eclipse/jdt/internal/junit/launcher/JUnitLaunchShortcut.java         </td><td>2                                                                                                   </td><td>0                                                                                                   </td><td>0                                                                                                   </td><td> 7.333333                                                                                           </td><td>16                                                                                                  </td><td> 88                                                                                                 </td><td> 9.666667                                                                                           </td><td>28                                                                                                  </td><td>...                                                                                                 </td><td>0                                                                                                   </td><td>0                                                                                                   </td><td>0                                                                                                   </td><td>0                                                                                                   </td><td>0                                                                                                   </td><td>0                                                                                                   </td><td>0                                                                                                   </td><td>0                                                                                                   </td><td>0                                                                                                   </td><td>0.01144366                                                                                          </td></tr>\n",
       "\t<tr><td>org.eclipse.jdt.junit                                                                               </td><td>/org.eclipse.jdt.junit/src/org/eclipse/jdt/internal/junit/launcher/JUnitMainTab.java                </td><td>2                                                                                                   </td><td>0                                                                                                   </td><td>4                                                                                                   </td><td> 6.210526                                                                                           </td><td>27                                                                                                  </td><td>118                                                                                                 </td><td> 9.894737                                                                                           </td><td>55                                                                                                  </td><td>...                                                                                                 </td><td>0                                                                                                   </td><td>0                                                                                                   </td><td>0                                                                                                   </td><td>0                                                                                                   </td><td>0                                                                                                   </td><td>0                                                                                                   </td><td>0                                                                                                   </td><td>0                                                                                                   </td><td>0                                                                                                   </td><td>0.02002356                                                                                          </td></tr>\n",
       "\t<tr><td>org.eclipse.jdt.junit                                                                               </td><td>/org.eclipse.jdt.junit/src/org/eclipse/jdt/internal/junit/launcher/JUnitTabGroup.java               </td><td>1                                                                                                   </td><td>0                                                                                                   </td><td>0                                                                                                   </td><td> 1.000000                                                                                           </td><td> 1                                                                                                  </td><td>  2                                                                                                 </td><td> 5.000000                                                                                           </td><td> 8                                                                                                  </td><td>...                                                                                                 </td><td>0                                                                                                   </td><td>0                                                                                                   </td><td>0                                                                                                   </td><td>0                                                                                                   </td><td>0                                                                                                   </td><td>0                                                                                                   </td><td>0                                                                                                   </td><td>0                                                                                                   </td><td>0                                                                                                   </td><td>0.01595745                                                                                          </td></tr>\n",
       "</tbody>\n",
       "</table>\n"
      ],
      "text/latex": [
       "\\begin{tabular}{r|llllllllllllllllllllllllllllllllllllllllllllllllllllllllllllllllllllllllllllllllllllllllllllllllllllllllllllllllllllllllllllllllllllllllllllllllllllllllllllllllllllllllllllllllllllllllllllllllllllllllll}\n",
       " plugin & filename & pre & post & ACD & FOUT\\_avg & FOUT\\_max & FOUT\\_sum & MLOC\\_avg & MLOC\\_max & ... & NORM\\_ParameterizedType & NORM\\_QualifiedType & NORM\\_WildcardType & NORM\\_NormalAnnotation & NORM\\_MarkerAnnotation & NORM\\_SingleMemberAnnotation & NORM\\_MemberValuePair & NORM\\_AnnotationTypeDeclaration & NORM\\_AnnotationTypeMemberDeclaration & NORM\\_Modifier\\\\\n",
       "\\hline\n",
       "\t org.eclipse.jdt.junit                                                                                & /org.eclipse.jdt.junit/src/org/eclipse/jdt/internal/junit/launcher/JUnitBaseLaunchConfiguration.java & 1                                                                                                    & 0                                                                                                    & 0                                                                                                    &  6.750000                                                                                            & 29                                                                                                   &  54                                                                                                  &  9.250000                                                                                            & 32                                                                                                   & ...                                                                                                  & 0                                                                                                    & 0                                                                                                    & 0                                                                                                    & 0                                                                                                    & 0                                                                                                    & 0                                                                                                    & 0                                                                                                    & 0                                                                                                    & 0                                                                                                    & 0.01978239                                                                                          \\\\\n",
       "\t org.eclipse.jdt.junit                                                                                & /org.eclipse.jdt.junit/src/org/eclipse/jdt/internal/junit/launcher/JUnitLaunchConfiguration.java     & 1                                                                                                    & 0                                                                                                    & 0                                                                                                    & 12.500000                                                                                            & 13                                                                                                   &  25                                                                                                  & 16.000000                                                                                            & 18                                                                                                   & ...                                                                                                  & 0                                                                                                    & 0                                                                                                    & 0                                                                                                    & 0                                                                                                    & 0                                                                                                    & 0                                                                                                    & 0                                                                                                    & 0                                                                                                    & 0                                                                                                    & 0.01372998                                                                                          \\\\\n",
       "\t org.eclipse.jdt.junit                                                                                & /org.eclipse.jdt.junit/src/org/eclipse/jdt/internal/junit/launcher/JUnitLaunchConfigurationTab.java  & 0                                                                                                    & 0                                                                                                    & 0                                                                                                    &  5.333333                                                                                            & 10                                                                                                   &  16                                                                                                  & 12.666667                                                                                            & 29                                                                                                   & ...                                                                                                  & 0                                                                                                    & 0                                                                                                    & 0                                                                                                    & 0                                                                                                    & 0                                                                                                    & 0                                                                                                    & 0                                                                                                    & 0                                                                                                    & 0                                                                                                    & 0.01046025                                                                                          \\\\\n",
       "\t org.eclipse.jdt.junit                                                                                & /org.eclipse.jdt.junit/src/org/eclipse/jdt/internal/junit/launcher/JUnitLaunchShortcut.java          & 2                                                                                                    & 0                                                                                                    & 0                                                                                                    &  7.333333                                                                                            & 16                                                                                                   &  88                                                                                                  &  9.666667                                                                                            & 28                                                                                                   & ...                                                                                                  & 0                                                                                                    & 0                                                                                                    & 0                                                                                                    & 0                                                                                                    & 0                                                                                                    & 0                                                                                                    & 0                                                                                                    & 0                                                                                                    & 0                                                                                                    & 0.01144366                                                                                          \\\\\n",
       "\t org.eclipse.jdt.junit                                                                                & /org.eclipse.jdt.junit/src/org/eclipse/jdt/internal/junit/launcher/JUnitMainTab.java                 & 2                                                                                                    & 0                                                                                                    & 4                                                                                                    &  6.210526                                                                                            & 27                                                                                                   & 118                                                                                                  &  9.894737                                                                                            & 55                                                                                                   & ...                                                                                                  & 0                                                                                                    & 0                                                                                                    & 0                                                                                                    & 0                                                                                                    & 0                                                                                                    & 0                                                                                                    & 0                                                                                                    & 0                                                                                                    & 0                                                                                                    & 0.02002356                                                                                          \\\\\n",
       "\t org.eclipse.jdt.junit                                                                                & /org.eclipse.jdt.junit/src/org/eclipse/jdt/internal/junit/launcher/JUnitTabGroup.java                & 1                                                                                                    & 0                                                                                                    & 0                                                                                                    &  1.000000                                                                                            &  1                                                                                                   &   2                                                                                                  &  5.000000                                                                                            &  8                                                                                                   & ...                                                                                                  & 0                                                                                                    & 0                                                                                                    & 0                                                                                                    & 0                                                                                                    & 0                                                                                                    & 0                                                                                                    & 0                                                                                                    & 0                                                                                                    & 0                                                                                                    & 0.01595745                                                                                          \\\\\n",
       "\\end{tabular}\n"
      ],
      "text/markdown": [
       "\n",
       "| plugin | filename | pre | post | ACD | FOUT_avg | FOUT_max | FOUT_sum | MLOC_avg | MLOC_max | ... | NORM_ParameterizedType | NORM_QualifiedType | NORM_WildcardType | NORM_NormalAnnotation | NORM_MarkerAnnotation | NORM_SingleMemberAnnotation | NORM_MemberValuePair | NORM_AnnotationTypeDeclaration | NORM_AnnotationTypeMemberDeclaration | NORM_Modifier |\n",
       "|---|---|---|---|---|---|---|---|---|---|---|---|---|---|---|---|---|---|---|---|---|\n",
       "| org.eclipse.jdt.junit                                                                                | /org.eclipse.jdt.junit/src/org/eclipse/jdt/internal/junit/launcher/JUnitBaseLaunchConfiguration.java | 1                                                                                                    | 0                                                                                                    | 0                                                                                                    |  6.750000                                                                                            | 29                                                                                                   |  54                                                                                                  |  9.250000                                                                                            | 32                                                                                                   | ...                                                                                                  | 0                                                                                                    | 0                                                                                                    | 0                                                                                                    | 0                                                                                                    | 0                                                                                                    | 0                                                                                                    | 0                                                                                                    | 0                                                                                                    | 0                                                                                                    | 0.01978239                                                                                           |\n",
       "| org.eclipse.jdt.junit                                                                                | /org.eclipse.jdt.junit/src/org/eclipse/jdt/internal/junit/launcher/JUnitLaunchConfiguration.java     | 1                                                                                                    | 0                                                                                                    | 0                                                                                                    | 12.500000                                                                                            | 13                                                                                                   |  25                                                                                                  | 16.000000                                                                                            | 18                                                                                                   | ...                                                                                                  | 0                                                                                                    | 0                                                                                                    | 0                                                                                                    | 0                                                                                                    | 0                                                                                                    | 0                                                                                                    | 0                                                                                                    | 0                                                                                                    | 0                                                                                                    | 0.01372998                                                                                           |\n",
       "| org.eclipse.jdt.junit                                                                                | /org.eclipse.jdt.junit/src/org/eclipse/jdt/internal/junit/launcher/JUnitLaunchConfigurationTab.java  | 0                                                                                                    | 0                                                                                                    | 0                                                                                                    |  5.333333                                                                                            | 10                                                                                                   |  16                                                                                                  | 12.666667                                                                                            | 29                                                                                                   | ...                                                                                                  | 0                                                                                                    | 0                                                                                                    | 0                                                                                                    | 0                                                                                                    | 0                                                                                                    | 0                                                                                                    | 0                                                                                                    | 0                                                                                                    | 0                                                                                                    | 0.01046025                                                                                           |\n",
       "| org.eclipse.jdt.junit                                                                                | /org.eclipse.jdt.junit/src/org/eclipse/jdt/internal/junit/launcher/JUnitLaunchShortcut.java          | 2                                                                                                    | 0                                                                                                    | 0                                                                                                    |  7.333333                                                                                            | 16                                                                                                   |  88                                                                                                  |  9.666667                                                                                            | 28                                                                                                   | ...                                                                                                  | 0                                                                                                    | 0                                                                                                    | 0                                                                                                    | 0                                                                                                    | 0                                                                                                    | 0                                                                                                    | 0                                                                                                    | 0                                                                                                    | 0                                                                                                    | 0.01144366                                                                                           |\n",
       "| org.eclipse.jdt.junit                                                                                | /org.eclipse.jdt.junit/src/org/eclipse/jdt/internal/junit/launcher/JUnitMainTab.java                 | 2                                                                                                    | 0                                                                                                    | 4                                                                                                    |  6.210526                                                                                            | 27                                                                                                   | 118                                                                                                  |  9.894737                                                                                            | 55                                                                                                   | ...                                                                                                  | 0                                                                                                    | 0                                                                                                    | 0                                                                                                    | 0                                                                                                    | 0                                                                                                    | 0                                                                                                    | 0                                                                                                    | 0                                                                                                    | 0                                                                                                    | 0.02002356                                                                                           |\n",
       "| org.eclipse.jdt.junit                                                                                | /org.eclipse.jdt.junit/src/org/eclipse/jdt/internal/junit/launcher/JUnitTabGroup.java                | 1                                                                                                    | 0                                                                                                    | 0                                                                                                    |  1.000000                                                                                            |  1                                                                                                   |   2                                                                                                  |  5.000000                                                                                            |  8                                                                                                   | ...                                                                                                  | 0                                                                                                    | 0                                                                                                    | 0                                                                                                    | 0                                                                                                    | 0                                                                                                    | 0                                                                                                    | 0                                                                                                    | 0                                                                                                    | 0                                                                                                    | 0.01595745                                                                                           |\n",
       "\n"
      ],
      "text/plain": [
       "  plugin               \n",
       "1 org.eclipse.jdt.junit\n",
       "2 org.eclipse.jdt.junit\n",
       "3 org.eclipse.jdt.junit\n",
       "4 org.eclipse.jdt.junit\n",
       "5 org.eclipse.jdt.junit\n",
       "6 org.eclipse.jdt.junit\n",
       "  filename                                                                                            \n",
       "1 /org.eclipse.jdt.junit/src/org/eclipse/jdt/internal/junit/launcher/JUnitBaseLaunchConfiguration.java\n",
       "2 /org.eclipse.jdt.junit/src/org/eclipse/jdt/internal/junit/launcher/JUnitLaunchConfiguration.java    \n",
       "3 /org.eclipse.jdt.junit/src/org/eclipse/jdt/internal/junit/launcher/JUnitLaunchConfigurationTab.java \n",
       "4 /org.eclipse.jdt.junit/src/org/eclipse/jdt/internal/junit/launcher/JUnitLaunchShortcut.java         \n",
       "5 /org.eclipse.jdt.junit/src/org/eclipse/jdt/internal/junit/launcher/JUnitMainTab.java                \n",
       "6 /org.eclipse.jdt.junit/src/org/eclipse/jdt/internal/junit/launcher/JUnitTabGroup.java               \n",
       "  pre post ACD FOUT_avg  FOUT_max FOUT_sum MLOC_avg  MLOC_max ...\n",
       "1 1   0    0    6.750000 29        54       9.250000 32       ...\n",
       "2 1   0    0   12.500000 13        25      16.000000 18       ...\n",
       "3 0   0    0    5.333333 10        16      12.666667 29       ...\n",
       "4 2   0    0    7.333333 16        88       9.666667 28       ...\n",
       "5 2   0    4    6.210526 27       118       9.894737 55       ...\n",
       "6 1   0    0    1.000000  1         2       5.000000  8       ...\n",
       "  NORM_ParameterizedType NORM_QualifiedType NORM_WildcardType\n",
       "1 0                      0                  0                \n",
       "2 0                      0                  0                \n",
       "3 0                      0                  0                \n",
       "4 0                      0                  0                \n",
       "5 0                      0                  0                \n",
       "6 0                      0                  0                \n",
       "  NORM_NormalAnnotation NORM_MarkerAnnotation NORM_SingleMemberAnnotation\n",
       "1 0                     0                     0                          \n",
       "2 0                     0                     0                          \n",
       "3 0                     0                     0                          \n",
       "4 0                     0                     0                          \n",
       "5 0                     0                     0                          \n",
       "6 0                     0                     0                          \n",
       "  NORM_MemberValuePair NORM_AnnotationTypeDeclaration\n",
       "1 0                    0                             \n",
       "2 0                    0                             \n",
       "3 0                    0                             \n",
       "4 0                    0                             \n",
       "5 0                    0                             \n",
       "6 0                    0                             \n",
       "  NORM_AnnotationTypeMemberDeclaration NORM_Modifier\n",
       "1 0                                    0.01978239   \n",
       "2 0                                    0.01372998   \n",
       "3 0                                    0.01046025   \n",
       "4 0                                    0.01144366   \n",
       "5 0                                    0.02002356   \n",
       "6 0                                    0.01595745   "
      ]
     },
     "metadata": {},
     "output_type": "display_data"
    }
   ],
   "source": [
    "head(files_20)"
   ]
  },
  {
   "cell_type": "code",
   "execution_count": 8,
   "metadata": {},
   "outputs": [
    {
     "data": {
      "image/png": "[encoded data removed]",
      "text/plain": [
       "Plot with title \"\""
      ]
     },
     "metadata": {},
     "output_type": "display_data"
    }
   ],
   "source": [
    "## set the parameter for drawing graphic. \n",
    "par(mar=c(5, 5, 2, 1) + 0.1)\n",
    "## drawing the histogram\n",
    "hist(files_20$post, freq=T, breaks=100, xlim=c(0,40), axes=F, main=\"\", xlab=\"Number of Post-Release Defects (per Package)\", ylab=\"Percentage\", col=\"darkgray\")\n",
    "axis(1)\n",
    "\n",
    "## this line, can draw the 0, 10%, 20% etc.. E.g., the 66.1 means the 661 (total number of lines) / 100 * 10. \n",
    "## the first param is: 2 means y axis. 1 means x. \n",
    "## \n",
    "axis(2, at=c(0, 673, 673*2, 673*3, 673*4, 673*5, 673*6), labels=c(\"0%\",\"10%\",\"20%\",\"30%\",\"40%\",\"50%\",\"60%\"), las=1)"
   ]
  },
  {
   "cell_type": "code",
   "execution_count": 10,
   "metadata": {},
   "outputs": [
    {
     "data": {
      "text/html": [
       "<table>\n",
       "<tbody>\n",
       "\t<tr><th scope=row>pre</th><td> 1.00000000</td><td> 0.3338603 </td><td>1          </td><td>1          </td></tr>\n",
       "\t<tr><th scope=row>post</th><td> 0.33386028</td><td> 1.0000000 </td><td>1          </td><td>1          </td></tr>\n",
       "\t<tr><th scope=row>ACD</th><td> 0.24854108</td><td> 0.1380218 </td><td>1          </td><td>1          </td></tr>\n",
       "\t<tr><th scope=row>FOUT_avg</th><td> 0.36029879</td><td> 0.2797177 </td><td>1          </td><td>1          </td></tr>\n",
       "\t<tr><th scope=row>FOUT_max</th><td> 0.39503888</td><td> 0.3270244 </td><td>1          </td><td>1          </td></tr>\n",
       "\t<tr><th scope=row>FOUT_sum</th><td> 0.39804328</td><td> 0.3512398 </td><td>1          </td><td>1          </td></tr>\n",
       "\t<tr><th scope=row>MLOC_avg</th><td> 0.31924991</td><td> 0.2836856 </td><td>1          </td><td>1          </td></tr>\n",
       "\t<tr><th scope=row>MLOC_max</th><td> 0.35681519</td><td> 0.3221617 </td><td>1          </td><td>1          </td></tr>\n",
       "\t<tr><th scope=row>MLOC_sum</th><td> 0.36970943</td><td> 0.3498652 </td><td>1          </td><td>1          </td></tr>\n",
       "\t<tr><th scope=row>NBD_avg</th><td> 0.31517912</td><td> 0.2806697 </td><td>1          </td><td>1          </td></tr>\n",
       "\t<tr><th scope=row>NBD_max</th><td> 0.35195976</td><td> 0.3211889 </td><td>1          </td><td>1          </td></tr>\n",
       "\t<tr><th scope=row>NBD_sum</th><td> 0.35807024</td><td> 0.3443100 </td><td>1          </td><td>1          </td></tr>\n",
       "\t<tr><th scope=row>NOF_avg</th><td> 0.14915748</td><td> 0.1498801 </td><td>1          </td><td>1          </td></tr>\n",
       "\t<tr><th scope=row>NOF_max</th><td> 0.16176529</td><td> 0.1537027 </td><td>1          </td><td>1          </td></tr>\n",
       "\t<tr><th scope=row>NOF_sum</th><td> 0.16608365</td><td> 0.1569479 </td><td>1          </td><td>1          </td></tr>\n",
       "\t<tr><th scope=row>NOI</th><td>-0.15329563</td><td>-0.1479042 </td><td>1          </td><td>1          </td></tr>\n",
       "\t<tr><th scope=row>NOM_avg</th><td> 0.27062807</td><td> 0.2564915 </td><td>1          </td><td>1          </td></tr>\n",
       "\t<tr><th scope=row>NOM_max</th><td> 0.28550064</td><td> 0.2619494 </td><td>1          </td><td>1          </td></tr>\n",
       "\t<tr><th scope=row>NOM_sum</th><td> 0.29176197</td><td> 0.2644374 </td><td>1          </td><td>1          </td></tr>\n",
       "\t<tr><th scope=row>NOT</th><td> 0.15496451</td><td> 0.1482821 </td><td>1          </td><td>1          </td></tr>\n",
       "\t<tr><th scope=row>NSF_avg</th><td> 0.09935047</td><td> 0.1015574 </td><td>1          </td><td>1          </td></tr>\n",
       "\t<tr><th scope=row>NSF_max</th><td> 0.10746996</td><td> 0.1050537 </td><td>1          </td><td>1          </td></tr>\n",
       "\t<tr><th scope=row>NSF_sum</th><td> 0.10786150</td><td> 0.1052734 </td><td>1          </td><td>1          </td></tr>\n",
       "\t<tr><th scope=row>NSM_avg</th><td> 0.13188802</td><td> 0.1834149 </td><td>1          </td><td>1          </td></tr>\n",
       "\t<tr><th scope=row>NSM_max</th><td> 0.13655492</td><td> 0.1856619 </td><td>1          </td><td>1          </td></tr>\n",
       "\t<tr><th scope=row>NSM_sum</th><td> 0.13657996</td><td> 0.1855228 </td><td>1          </td><td>1          </td></tr>\n",
       "\t<tr><th scope=row>PAR_avg</th><td> 0.10174704</td><td> 0.1100886 </td><td>1          </td><td>1          </td></tr>\n",
       "\t<tr><th scope=row>PAR_max</th><td> 0.22723790</td><td> 0.2523737 </td><td>1          </td><td>1          </td></tr>\n",
       "\t<tr><th scope=row>PAR_sum</th><td> 0.32137952</td><td> 0.3116941 </td><td>1          </td><td>1          </td></tr>\n",
       "\t<tr><th scope=row>TLOC</th><td> 0.38527575</td><td> 0.3568437 </td><td>1          </td><td>1          </td></tr>\n",
       "\t<tr><th scope=row>VG_avg</th><td> 0.29662286</td><td> 0.2978893 </td><td>1          </td><td>1          </td></tr>\n",
       "\t<tr><th scope=row>VG_max</th><td> 0.33239607</td><td> 0.3340875 </td><td>1          </td><td>1          </td></tr>\n",
       "\t<tr><th scope=row>VG_sum</th><td> 0.34917859</td><td> 0.3496138 </td><td>1          </td><td>1          </td></tr>\n",
       "</tbody>\n",
       "</table>\n"
      ],
      "text/latex": [
       "\\begin{tabular}{r|llll}\n",
       "\tpre &  1.00000000 &  0.3338603  & 1           & 1          \\\\\n",
       "\tpost &  0.33386028 &  1.0000000  & 1           & 1          \\\\\n",
       "\tACD &  0.24854108 &  0.1380218  & 1           & 1          \\\\\n",
       "\tFOUT\\_avg &  0.36029879 &  0.2797177  & 1           & 1          \\\\\n",
       "\tFOUT\\_max &  0.39503888 &  0.3270244  & 1           & 1          \\\\\n",
       "\tFOUT\\_sum &  0.39804328 &  0.3512398  & 1           & 1          \\\\\n",
       "\tMLOC\\_avg &  0.31924991 &  0.2836856  & 1           & 1          \\\\\n",
       "\tMLOC\\_max &  0.35681519 &  0.3221617  & 1           & 1          \\\\\n",
       "\tMLOC\\_sum &  0.36970943 &  0.3498652  & 1           & 1          \\\\\n",
       "\tNBD\\_avg &  0.31517912 &  0.2806697  & 1           & 1          \\\\\n",
       "\tNBD\\_max &  0.35195976 &  0.3211889  & 1           & 1          \\\\\n",
       "\tNBD\\_sum &  0.35807024 &  0.3443100  & 1           & 1          \\\\\n",
       "\tNOF\\_avg &  0.14915748 &  0.1498801  & 1           & 1          \\\\\n",
       "\tNOF\\_max &  0.16176529 &  0.1537027  & 1           & 1          \\\\\n",
       "\tNOF\\_sum &  0.16608365 &  0.1569479  & 1           & 1          \\\\\n",
       "\tNOI & -0.15329563 & -0.1479042  & 1           & 1          \\\\\n",
       "\tNOM\\_avg &  0.27062807 &  0.2564915  & 1           & 1          \\\\\n",
       "\tNOM\\_max &  0.28550064 &  0.2619494  & 1           & 1          \\\\\n",
       "\tNOM\\_sum &  0.29176197 &  0.2644374  & 1           & 1          \\\\\n",
       "\tNOT &  0.15496451 &  0.1482821  & 1           & 1          \\\\\n",
       "\tNSF\\_avg &  0.09935047 &  0.1015574  & 1           & 1          \\\\\n",
       "\tNSF\\_max &  0.10746996 &  0.1050537  & 1           & 1          \\\\\n",
       "\tNSF\\_sum &  0.10786150 &  0.1052734  & 1           & 1          \\\\\n",
       "\tNSM\\_avg &  0.13188802 &  0.1834149  & 1           & 1          \\\\\n",
       "\tNSM\\_max &  0.13655492 &  0.1856619  & 1           & 1          \\\\\n",
       "\tNSM\\_sum &  0.13657996 &  0.1855228  & 1           & 1          \\\\\n",
       "\tPAR\\_avg &  0.10174704 &  0.1100886  & 1           & 1          \\\\\n",
       "\tPAR\\_max &  0.22723790 &  0.2523737  & 1           & 1          \\\\\n",
       "\tPAR\\_sum &  0.32137952 &  0.3116941  & 1           & 1          \\\\\n",
       "\tTLOC &  0.38527575 &  0.3568437  & 1           & 1          \\\\\n",
       "\tVG\\_avg &  0.29662286 &  0.2978893  & 1           & 1          \\\\\n",
       "\tVG\\_max &  0.33239607 &  0.3340875  & 1           & 1          \\\\\n",
       "\tVG\\_sum &  0.34917859 &  0.3496138  & 1           & 1          \\\\\n",
       "\\end{tabular}\n"
      ],
      "text/markdown": [
       "\n",
       "| pre |  1.00000000 |  0.3338603  | 1           | 1           |\n",
       "| post |  0.33386028 |  1.0000000  | 1           | 1           |\n",
       "| ACD |  0.24854108 |  0.1380218  | 1           | 1           |\n",
       "| FOUT_avg |  0.36029879 |  0.2797177  | 1           | 1           |\n",
       "| FOUT_max |  0.39503888 |  0.3270244  | 1           | 1           |\n",
       "| FOUT_sum |  0.39804328 |  0.3512398  | 1           | 1           |\n",
       "| MLOC_avg |  0.31924991 |  0.2836856  | 1           | 1           |\n",
       "| MLOC_max |  0.35681519 |  0.3221617  | 1           | 1           |\n",
       "| MLOC_sum |  0.36970943 |  0.3498652  | 1           | 1           |\n",
       "| NBD_avg |  0.31517912 |  0.2806697  | 1           | 1           |\n",
       "| NBD_max |  0.35195976 |  0.3211889  | 1           | 1           |\n",
       "| NBD_sum |  0.35807024 |  0.3443100  | 1           | 1           |\n",
       "| NOF_avg |  0.14915748 |  0.1498801  | 1           | 1           |\n",
       "| NOF_max |  0.16176529 |  0.1537027  | 1           | 1           |\n",
       "| NOF_sum |  0.16608365 |  0.1569479  | 1           | 1           |\n",
       "| NOI | -0.15329563 | -0.1479042  | 1           | 1           |\n",
       "| NOM_avg |  0.27062807 |  0.2564915  | 1           | 1           |\n",
       "| NOM_max |  0.28550064 |  0.2619494  | 1           | 1           |\n",
       "| NOM_sum |  0.29176197 |  0.2644374  | 1           | 1           |\n",
       "| NOT |  0.15496451 |  0.1482821  | 1           | 1           |\n",
       "| NSF_avg |  0.09935047 |  0.1015574  | 1           | 1           |\n",
       "| NSF_max |  0.10746996 |  0.1050537  | 1           | 1           |\n",
       "| NSF_sum |  0.10786150 |  0.1052734  | 1           | 1           |\n",
       "| NSM_avg |  0.13188802 |  0.1834149  | 1           | 1           |\n",
       "| NSM_max |  0.13655492 |  0.1856619  | 1           | 1           |\n",
       "| NSM_sum |  0.13657996 |  0.1855228  | 1           | 1           |\n",
       "| PAR_avg |  0.10174704 |  0.1100886  | 1           | 1           |\n",
       "| PAR_max |  0.22723790 |  0.2523737  | 1           | 1           |\n",
       "| PAR_sum |  0.32137952 |  0.3116941  | 1           | 1           |\n",
       "| TLOC |  0.38527575 |  0.3568437  | 1           | 1           |\n",
       "| VG_avg |  0.29662286 |  0.2978893  | 1           | 1           |\n",
       "| VG_max |  0.33239607 |  0.3340875  | 1           | 1           |\n",
       "| VG_sum |  0.34917859 |  0.3496138  | 1           | 1           |\n",
       "\n"
      ],
      "text/plain": [
       "         [,1]        [,2]       [,3] [,4]\n",
       "pre       1.00000000  0.3338603 1    1   \n",
       "post      0.33386028  1.0000000 1    1   \n",
       "ACD       0.24854108  0.1380218 1    1   \n",
       "FOUT_avg  0.36029879  0.2797177 1    1   \n",
       "FOUT_max  0.39503888  0.3270244 1    1   \n",
       "FOUT_sum  0.39804328  0.3512398 1    1   \n",
       "MLOC_avg  0.31924991  0.2836856 1    1   \n",
       "MLOC_max  0.35681519  0.3221617 1    1   \n",
       "MLOC_sum  0.36970943  0.3498652 1    1   \n",
       "NBD_avg   0.31517912  0.2806697 1    1   \n",
       "NBD_max   0.35195976  0.3211889 1    1   \n",
       "NBD_sum   0.35807024  0.3443100 1    1   \n",
       "NOF_avg   0.14915748  0.1498801 1    1   \n",
       "NOF_max   0.16176529  0.1537027 1    1   \n",
       "NOF_sum   0.16608365  0.1569479 1    1   \n",
       "NOI      -0.15329563 -0.1479042 1    1   \n",
       "NOM_avg   0.27062807  0.2564915 1    1   \n",
       "NOM_max   0.28550064  0.2619494 1    1   \n",
       "NOM_sum   0.29176197  0.2644374 1    1   \n",
       "NOT       0.15496451  0.1482821 1    1   \n",
       "NSF_avg   0.09935047  0.1015574 1    1   \n",
       "NSF_max   0.10746996  0.1050537 1    1   \n",
       "NSF_sum   0.10786150  0.1052734 1    1   \n",
       "NSM_avg   0.13188802  0.1834149 1    1   \n",
       "NSM_max   0.13655492  0.1856619 1    1   \n",
       "NSM_sum   0.13657996  0.1855228 1    1   \n",
       "PAR_avg   0.10174704  0.1100886 1    1   \n",
       "PAR_max   0.22723790  0.2523737 1    1   \n",
       "PAR_sum   0.32137952  0.3116941 1    1   \n",
       "TLOC      0.38527575  0.3568437 1    1   \n",
       "VG_avg    0.29662286  0.2978893 1    1   \n",
       "VG_max    0.33239607  0.3340875 1    1   \n",
       "VG_sum    0.34917859  0.3496138 1    1   "
      ]
     },
     "metadata": {},
     "output_type": "display_data"
    }
   ],
   "source": [
    "pre.p <- rep (-1, 33)\n",
    "post.p <- rep (-1, 33)\n",
    "## they chose 35 metrics from 100+ of them. \n",
    "## files_30[,i] means all of the rows,  ith columns (columns No.i). \n",
    "## cor.text() is used for do the correlation analysis. \n",
    "## The authors first test the correlation between each of the lines with labels. Then saved the p.value results into lists: pre.p and post.p\n",
    "for (i in 3:35) {\n",
    "    pre.p[i-2] <- cor.test(files_20[,i], files_20$pre, method=\"spearman\", exact=FALSE)$p.value\n",
    "    post.p[i-2] <- cor.test(files_20[,i], files_20$post, method=\"spearman\", exact=FALSE)$p.value\n",
    "}\n",
    "## \n",
    "cbind(cor(files_20[,3:35], files_20$pre, method=\"spearman\"), cor(files_20[,3:35], files_20$post, method=\"spearman\"), (pre.p<0.01), (post.p<0.01))"
   ]
  },
  {
   "cell_type": "code",
   "execution_count": 6,
   "metadata": {},
   "outputs": [
    {
     "data": {
      "text/html": [
       "<ol class=list-inline>\n",
       "\t<li>0.14489522960321</li>\n",
       "\t<li>0.691689008042895</li>\n",
       "\t<li>0.264615384615385</li>\n",
       "\t<li>0.876356070738594</li>\n",
       "</ol>\n"
      ],
      "text/latex": [
       "\\begin{enumerate*}\n",
       "\\item 0.14489522960321\n",
       "\\item 0.691689008042895\n",
       "\\item 0.264615384615385\n",
       "\\item 0.876356070738594\n",
       "\\end{enumerate*}\n"
      ],
      "text/markdown": [
       "1. 0.14489522960321\n",
       "2. 0.691689008042895\n",
       "3. 0.264615384615385\n",
       "4. 0.876356070738594\n",
       "\n",
       "\n"
      ],
      "text/plain": [
       "[1] 0.1448952 0.6916890 0.2646154 0.8763561"
      ]
     },
     "metadata": {},
     "output_type": "display_data"
    },
    {
     "data": {
      "text/html": [
       "<ol class=list-inline>\n",
       "\t<li>0.108265720081136</li>\n",
       "\t<li>0.478005865102639</li>\n",
       "\t<li>0.190866510538642</li>\n",
       "\t<li>0.889832657200811</li>\n",
       "</ol>\n"
      ],
      "text/latex": [
       "\\begin{enumerate*}\n",
       "\\item 0.108265720081136\n",
       "\\item 0.478005865102639\n",
       "\\item 0.190866510538642\n",
       "\\item 0.889832657200811\n",
       "\\end{enumerate*}\n"
      ],
      "text/markdown": [
       "1. 0.108265720081136\n",
       "2. 0.478005865102639\n",
       "3. 0.190866510538642\n",
       "4. 0.889832657200811\n",
       "\n",
       "\n"
      ],
      "text/plain": [
       "[1] 0.1082657 0.4780059 0.1908665 0.8898327"
      ]
     },
     "metadata": {},
     "output_type": "display_data"
    },
    {
     "data": {
      "text/html": [
       "<ol class=list-inline>\n",
       "\t<li>0.1480222788634</li>\n",
       "\t<li>0.613272311212815</li>\n",
       "\t<li>0.170918367346939</li>\n",
       "\t<li>0.861323515529123</li>\n",
       "</ol>\n"
      ],
      "text/latex": [
       "\\begin{enumerate*}\n",
       "\\item 0.1480222788634\n",
       "\\item 0.613272311212815\n",
       "\\item 0.170918367346939\n",
       "\\item 0.861323515529123\n",
       "\\end{enumerate*}\n"
      ],
      "text/markdown": [
       "1. 0.1480222788634\n",
       "2. 0.613272311212815\n",
       "3. 0.170918367346939\n",
       "4. 0.861323515529123\n",
       "\n",
       "\n"
      ],
      "text/plain": [
       "[1] 0.1480223 0.6132723 0.1709184 0.8613235"
      ]
     },
     "metadata": {},
     "output_type": "display_data"
    },
    {
     "data": {
      "text/html": [
       "<ol class=list-inline>\n",
       "\t<li>0.14489522960321</li>\n",
       "\t<li>0.664429530201342</li>\n",
       "\t<li>0.203076923076923</li>\n",
       "\t<li>0.869668598603061</li>\n",
       "</ol>\n"
      ],
      "text/latex": [
       "\\begin{enumerate*}\n",
       "\\item 0.14489522960321\n",
       "\\item 0.664429530201342\n",
       "\\item 0.203076923076923\n",
       "\\item 0.869668598603061\n",
       "\\end{enumerate*}\n"
      ],
      "text/markdown": [
       "1. 0.14489522960321\n",
       "2. 0.664429530201342\n",
       "3. 0.203076923076923\n",
       "4. 0.869668598603061\n",
       "\n",
       "\n"
      ],
      "text/plain": [
       "[1] 0.1448952 0.6644295 0.2030769 0.8696686"
      ]
     },
     "metadata": {},
     "output_type": "display_data"
    },
    {
     "data": {
      "text/html": [
       "<ol class=list-inline>\n",
       "\t<li>0.108265720081136</li>\n",
       "\t<li>0.668292682926829</li>\n",
       "\t<li>0.160421545667447</li>\n",
       "\t<li>0.900481744421907</li>\n",
       "</ol>\n"
      ],
      "text/latex": [
       "\\begin{enumerate*}\n",
       "\\item 0.108265720081136\n",
       "\\item 0.668292682926829\n",
       "\\item 0.160421545667447\n",
       "\\item 0.900481744421907\n",
       "\\end{enumerate*}\n"
      ],
      "text/markdown": [
       "1. 0.108265720081136\n",
       "2. 0.668292682926829\n",
       "3. 0.160421545667447\n",
       "4. 0.900481744421907\n",
       "\n",
       "\n"
      ],
      "text/plain": [
       "[1] 0.1082657 0.6682927 0.1604215 0.9004817"
      ]
     },
     "metadata": {},
     "output_type": "display_data"
    },
    {
     "data": {
      "text/html": [
       "<ol class=list-inline>\n",
       "\t<li>0.1480222788634</li>\n",
       "\t<li>0.717105263157895</li>\n",
       "\t<li>0.139030612244898</li>\n",
       "\t<li>0.864438780326631</li>\n",
       "</ol>\n"
      ],
      "text/latex": [
       "\\begin{enumerate*}\n",
       "\\item 0.1480222788634\n",
       "\\item 0.717105263157895\n",
       "\\item 0.139030612244898\n",
       "\\item 0.864438780326631\n",
       "\\end{enumerate*}\n"
      ],
      "text/markdown": [
       "1. 0.1480222788634\n",
       "2. 0.717105263157895\n",
       "3. 0.139030612244898\n",
       "4. 0.864438780326631\n",
       "\n",
       "\n"
      ],
      "text/plain": [
       "[1] 0.1480223 0.7171053 0.1390306 0.8644388"
      ]
     },
     "metadata": {},
     "output_type": "display_data"
    },
    {
     "data": {
      "text/html": [
       "<ol class=list-inline>\n",
       "\t<li>0.14489522960321</li>\n",
       "\t<li>0.578158458244111</li>\n",
       "\t<li>0.276923076923077</li>\n",
       "\t<li>0.865953336305543</li>\n",
       "</ol>\n"
      ],
      "text/latex": [
       "\\begin{enumerate*}\n",
       "\\item 0.14489522960321\n",
       "\\item 0.578158458244111\n",
       "\\item 0.276923076923077\n",
       "\\item 0.865953336305543\n",
       "\\end{enumerate*}\n"
      ],
      "text/markdown": [
       "1. 0.14489522960321\n",
       "2. 0.578158458244111\n",
       "3. 0.276923076923077\n",
       "4. 0.865953336305543\n",
       "\n",
       "\n"
      ],
      "text/plain": [
       "[1] 0.1448952 0.5781585 0.2769231 0.8659533"
      ]
     },
     "metadata": {},
     "output_type": "display_data"
    },
    {
     "data": {
      "text/html": [
       "<ol class=list-inline>\n",
       "\t<li>0.108265720081136</li>\n",
       "\t<li>0.528089887640449</li>\n",
       "\t<li>0.220140515222482</li>\n",
       "\t<li>0.894269776876268</li>\n",
       "</ol>\n"
      ],
      "text/latex": [
       "\\begin{enumerate*}\n",
       "\\item 0.108265720081136\n",
       "\\item 0.528089887640449\n",
       "\\item 0.220140515222482\n",
       "\\item 0.894269776876268\n",
       "\\end{enumerate*}\n"
      ],
      "text/markdown": [
       "1. 0.108265720081136\n",
       "2. 0.528089887640449\n",
       "3. 0.220140515222482\n",
       "4. 0.894269776876268\n",
       "\n",
       "\n"
      ],
      "text/plain": [
       "[1] 0.1082657 0.5280899 0.2201405 0.8942698"
      ]
     },
     "metadata": {},
     "output_type": "display_data"
    },
    {
     "data": {
      "text/html": [
       "<ol class=list-inline>\n",
       "\t<li>0.1480222788634</li>\n",
       "\t<li>0.675</li>\n",
       "\t<li>0.223852040816327</li>\n",
       "\t<li>0.869158878504673</li>\n",
       "</ol>\n"
      ],
      "text/latex": [
       "\\begin{enumerate*}\n",
       "\\item 0.1480222788634\n",
       "\\item 0.675\n",
       "\\item 0.223852040816327\n",
       "\\item 0.869158878504673\n",
       "\\end{enumerate*}\n"
      ],
      "text/markdown": [
       "1. 0.1480222788634\n",
       "2. 0.675\n",
       "3. 0.223852040816327\n",
       "4. 0.869158878504673\n",
       "\n",
       "\n"
      ],
      "text/plain": [
       "[1] 0.1480223 0.6750000 0.2238520 0.8691589"
      ]
     },
     "metadata": {},
     "output_type": "display_data"
    }
   ],
   "source": [
    "test_classification <- function (train, test) \n",
    "{\n",
    "    model.glm <- glm((post>0) ~ pre + ACD + FOUT_avg + FOUT_max + FOUT_sum + MLOC_avg + MLOC_max + MLOC_sum + NBD_avg + NBD_max + NBD_sum + NOF_avg + NOF_max + NOF_sum + NOI + NOM_avg + NOM_max + NOM_sum + NOT + NSF_avg + NSF_max + NSF_sum + NSM_avg + NSM_max + NSM_sum + PAR_avg + PAR_max + PAR_sum + + + TLOC + VG_avg + VG_max + VG_sum, data=train, family = \"binomial\")\n",
    "    test.prob <- predict(model.glm, test, type=\"response\")\n",
    "    test.pred <- test.prob>=0.50\n",
    "\n",
    "    outcome <- table(factor(test$post>0, levels=c(F,T)), factor(test.pred, levels=c(F,T)))\n",
    "    TN <- outcome[1,1]\n",
    "    FN <- outcome[2,1]\n",
    "    FP <- outcome[1,2]\n",
    "    TP <- outcome[2,2]\n",
    "    precision <- if (TP + FP ==0) { 1 } else { TP / (TP + FP) }\n",
    "    recall <- TP / (TP + FN)\n",
    "    accuracy <- (TP + TN) / (TN + FN + FP + TP)\n",
    "    defects <- (TP + FN) / (TN + FN + FP + TP)\n",
    "    return (c(defects, precision, recall, accuracy))\n",
    "}\n",
    "\n",
    "\n",
    "test_classification(files_20, files_20)\n",
    "test_classification(files_20, files_21)\n",
    "test_classification(files_20, files_30)\n",
    "test_classification(files_21, files_20)\n",
    "test_classification(files_21, files_21)\n",
    "test_classification(files_21, files_30)\n",
    "test_classification(files_30, files_20)\n",
    "test_classification(files_30, files_21)\n",
    "test_classification(files_30, files_30)"
   ]
  },
  {
   "cell_type": "code",
   "execution_count": 7,
   "metadata": {},
   "outputs": [
    {
     "name": "stderr",
     "output_type": "stream",
     "text": [
      "Warning message:\n",
      "\"glm.fit: fitted probabilities numerically 0 or 1 occurred\""
     ]
    },
    {
     "data": {
      "text/html": [
       "<ol class=list-inline>\n",
       "\t<li>0.503978779840849</li>\n",
       "\t<li>0.852941176470588</li>\n",
       "\t<li>0.763157894736842</li>\n",
       "\t<li>0.814323607427056</li>\n",
       "</ol>\n"
      ],
      "text/latex": [
       "\\begin{enumerate*}\n",
       "\\item 0.503978779840849\n",
       "\\item 0.852941176470588\n",
       "\\item 0.763157894736842\n",
       "\\item 0.814323607427056\n",
       "\\end{enumerate*}\n"
      ],
      "text/markdown": [
       "1. 0.503978779840849\n",
       "2. 0.852941176470588\n",
       "3. 0.763157894736842\n",
       "4. 0.814323607427056\n",
       "\n",
       "\n"
      ],
      "text/plain": [
       "[1] 0.5039788 0.8529412 0.7631579 0.8143236"
      ]
     },
     "metadata": {},
     "output_type": "display_data"
    },
    {
     "name": "stderr",
     "output_type": "stream",
     "text": [
      "Warning message:\n",
      "\"glm.fit: fitted probabilities numerically 0 or 1 occurred\""
     ]
    },
    {
     "data": {
      "text/html": [
       "<ol class=list-inline>\n",
       "\t<li>0.447004608294931</li>\n",
       "\t<li>0.740963855421687</li>\n",
       "\t<li>0.634020618556701</li>\n",
       "\t<li>0.737327188940092</li>\n",
       "</ol>\n"
      ],
      "text/latex": [
       "\\begin{enumerate*}\n",
       "\\item 0.447004608294931\n",
       "\\item 0.740963855421687\n",
       "\\item 0.634020618556701\n",
       "\\item 0.737327188940092\n",
       "\\end{enumerate*}\n"
      ],
      "text/markdown": [
       "1. 0.447004608294931\n",
       "2. 0.740963855421687\n",
       "3. 0.634020618556701\n",
       "4. 0.737327188940092\n",
       "\n",
       "\n"
      ],
      "text/plain": [
       "[1] 0.4470046 0.7409639 0.6340206 0.7373272"
      ]
     },
     "metadata": {},
     "output_type": "display_data"
    },
    {
     "name": "stderr",
     "output_type": "stream",
     "text": [
      "Warning message:\n",
      "\"glm.fit: fitted probabilities numerically 0 or 1 occurred\""
     ]
    },
    {
     "data": {
      "text/html": [
       "<ol class=list-inline>\n",
       "\t<li>0.473524962178517</li>\n",
       "\t<li>0.786324786324786</li>\n",
       "\t<li>0.587859424920128</li>\n",
       "\t<li>0.729198184568835</li>\n",
       "</ol>\n"
      ],
      "text/latex": [
       "\\begin{enumerate*}\n",
       "\\item 0.473524962178517\n",
       "\\item 0.786324786324786\n",
       "\\item 0.587859424920128\n",
       "\\item 0.729198184568835\n",
       "\\end{enumerate*}\n"
      ],
      "text/markdown": [
       "1. 0.473524962178517\n",
       "2. 0.786324786324786\n",
       "3. 0.587859424920128\n",
       "4. 0.729198184568835\n",
       "\n",
       "\n"
      ],
      "text/plain": [
       "[1] 0.4735250 0.7863248 0.5878594 0.7291982"
      ]
     },
     "metadata": {},
     "output_type": "display_data"
    },
    {
     "name": "stderr",
     "output_type": "stream",
     "text": [
      "Warning message:\n",
      "\"glm.fit: fitted probabilities numerically 0 or 1 occurred\""
     ]
    },
    {
     "data": {
      "text/html": [
       "<ol class=list-inline>\n",
       "\t<li>0.503978779840849</li>\n",
       "\t<li>0.806060606060606</li>\n",
       "\t<li>0.7</li>\n",
       "\t<li>0.763925729442971</li>\n",
       "</ol>\n"
      ],
      "text/latex": [
       "\\begin{enumerate*}\n",
       "\\item 0.503978779840849\n",
       "\\item 0.806060606060606\n",
       "\\item 0.7\n",
       "\\item 0.763925729442971\n",
       "\\end{enumerate*}\n"
      ],
      "text/markdown": [
       "1. 0.503978779840849\n",
       "2. 0.806060606060606\n",
       "3. 0.7\n",
       "4. 0.763925729442971\n",
       "\n",
       "\n"
      ],
      "text/plain": [
       "[1] 0.5039788 0.8060606 0.7000000 0.7639257"
      ]
     },
     "metadata": {},
     "output_type": "display_data"
    },
    {
     "name": "stderr",
     "output_type": "stream",
     "text": [
      "Warning message:\n",
      "\"glm.fit: fitted probabilities numerically 0 or 1 occurred\""
     ]
    },
    {
     "data": {
      "text/html": [
       "<ol class=list-inline>\n",
       "\t<li>0.447004608294931</li>\n",
       "\t<li>0.857142857142857</li>\n",
       "\t<li>0.742268041237113</li>\n",
       "\t<li>0.829493087557604</li>\n",
       "</ol>\n"
      ],
      "text/latex": [
       "\\begin{enumerate*}\n",
       "\\item 0.447004608294931\n",
       "\\item 0.857142857142857\n",
       "\\item 0.742268041237113\n",
       "\\item 0.829493087557604\n",
       "\\end{enumerate*}\n"
      ],
      "text/markdown": [
       "1. 0.447004608294931\n",
       "2. 0.857142857142857\n",
       "3. 0.742268041237113\n",
       "4. 0.829493087557604\n",
       "\n",
       "\n"
      ],
      "text/plain": [
       "[1] 0.4470046 0.8571429 0.7422680 0.8294931"
      ]
     },
     "metadata": {},
     "output_type": "display_data"
    },
    {
     "name": "stderr",
     "output_type": "stream",
     "text": [
      "Warning message:\n",
      "\"glm.fit: fitted probabilities numerically 0 or 1 occurred\""
     ]
    },
    {
     "data": {
      "text/html": [
       "<ol class=list-inline>\n",
       "\t<li>0.473524962178517</li>\n",
       "\t<li>0.861224489795918</li>\n",
       "\t<li>0.674121405750799</li>\n",
       "\t<li>0.794251134644478</li>\n",
       "</ol>\n"
      ],
      "text/latex": [
       "\\begin{enumerate*}\n",
       "\\item 0.473524962178517\n",
       "\\item 0.861224489795918\n",
       "\\item 0.674121405750799\n",
       "\\item 0.794251134644478\n",
       "\\end{enumerate*}\n"
      ],
      "text/markdown": [
       "1. 0.473524962178517\n",
       "2. 0.861224489795918\n",
       "3. 0.674121405750799\n",
       "4. 0.794251134644478\n",
       "\n",
       "\n"
      ],
      "text/plain": [
       "[1] 0.4735250 0.8612245 0.6741214 0.7942511"
      ]
     },
     "metadata": {},
     "output_type": "display_data"
    },
    {
     "name": "stderr",
     "output_type": "stream",
     "text": [
      "Warning message:\n",
      "\"glm.fit: fitted probabilities numerically 0 or 1 occurred\""
     ]
    },
    {
     "data": {
      "text/html": [
       "<ol class=list-inline>\n",
       "\t<li>0.503978779840849</li>\n",
       "\t<li>0.760204081632653</li>\n",
       "\t<li>0.784210526315789</li>\n",
       "\t<li>0.76657824933687</li>\n",
       "</ol>\n"
      ],
      "text/latex": [
       "\\begin{enumerate*}\n",
       "\\item 0.503978779840849\n",
       "\\item 0.760204081632653\n",
       "\\item 0.784210526315789\n",
       "\\item 0.76657824933687\n",
       "\\end{enumerate*}\n"
      ],
      "text/markdown": [
       "1. 0.503978779840849\n",
       "2. 0.760204081632653\n",
       "3. 0.784210526315789\n",
       "4. 0.76657824933687\n",
       "\n",
       "\n"
      ],
      "text/plain": [
       "[1] 0.5039788 0.7602041 0.7842105 0.7665782"
      ]
     },
     "metadata": {},
     "output_type": "display_data"
    },
    {
     "name": "stderr",
     "output_type": "stream",
     "text": [
      "Warning message:\n",
      "\"glm.fit: fitted probabilities numerically 0 or 1 occurred\""
     ]
    },
    {
     "data": {
      "text/html": [
       "<ol class=list-inline>\n",
       "\t<li>0.447004608294931</li>\n",
       "\t<li>0.781914893617021</li>\n",
       "\t<li>0.757731958762887</li>\n",
       "\t<li>0.797235023041475</li>\n",
       "</ol>\n"
      ],
      "text/latex": [
       "\\begin{enumerate*}\n",
       "\\item 0.447004608294931\n",
       "\\item 0.781914893617021\n",
       "\\item 0.757731958762887\n",
       "\\item 0.797235023041475\n",
       "\\end{enumerate*}\n"
      ],
      "text/markdown": [
       "1. 0.447004608294931\n",
       "2. 0.781914893617021\n",
       "3. 0.757731958762887\n",
       "4. 0.797235023041475\n",
       "\n",
       "\n"
      ],
      "text/plain": [
       "[1] 0.4470046 0.7819149 0.7577320 0.7972350"
      ]
     },
     "metadata": {},
     "output_type": "display_data"
    },
    {
     "name": "stderr",
     "output_type": "stream",
     "text": [
      "Warning message:\n",
      "\"glm.fit: fitted probabilities numerically 0 or 1 occurred\""
     ]
    },
    {
     "data": {
      "text/html": [
       "<ol class=list-inline>\n",
       "\t<li>0.473524962178517</li>\n",
       "\t<li>0.891696750902527</li>\n",
       "\t<li>0.789137380191693</li>\n",
       "\t<li>0.854765506807867</li>\n",
       "</ol>\n"
      ],
      "text/latex": [
       "\\begin{enumerate*}\n",
       "\\item 0.473524962178517\n",
       "\\item 0.891696750902527\n",
       "\\item 0.789137380191693\n",
       "\\item 0.854765506807867\n",
       "\\end{enumerate*}\n"
      ],
      "text/markdown": [
       "1. 0.473524962178517\n",
       "2. 0.891696750902527\n",
       "3. 0.789137380191693\n",
       "4. 0.854765506807867\n",
       "\n",
       "\n"
      ],
      "text/plain": [
       "[1] 0.4735250 0.8916968 0.7891374 0.8547655"
      ]
     },
     "metadata": {},
     "output_type": "display_data"
    }
   ],
   "source": [
    "test_classification_pkg <- function (train, test) \n",
    "{\n",
    "    model.glm <- glm((post>0) ~ pre + ACD_avg + ACD_max + ACD_sum + FOUT_avg + FOUT_max + FOUT_sum + MLOC_avg + MLOC_max + MLOC_sum + NBD_avg + NBD_max + NBD_sum + NOCU + NOF_avg + NOF_max + NOF_sum + NOI_avg + NOI_max + NOI_sum + NOM_avg + NOM_max + NOM_sum + NOT_avg + NOT_max + NOT_sum + NSF_avg + NSF_max + NSF_sum + NSM_avg + NSM_max + NSM_sum + PAR_avg + PAR_max + PAR_sum + TLOC_avg + TLOC_max + TLOC_sum + VG_avg + VG_max + VG_sum, data=train, family = \"binomial\")\n",
    "    test.prob <- predict(model.glm, test, type=\"response\")\n",
    "    test.pred <- test.prob>=0.50\n",
    "\n",
    "    outcome <- table(factor(test$post>0, levels=c(F,T)), factor(test.pred, levels=c(F,T)))\n",
    "    TN <- outcome[1,1]\n",
    "    FN <- outcome[2,1]\n",
    "    FP <- outcome[1,2]\n",
    "    TP <- outcome[2,2]\n",
    "    precision <- if (TP + FP ==0) { 1 } else { TP / (TP + FP) }\n",
    "    recall <- TP / (TP + FN)\n",
    "    accuracy <- (TP + TN) / (TN + FN + FP + TP)\n",
    "    defects <- (TP + FN) / (TN + FN + FP + TP)\n",
    "    return (c(defects, precision, recall, accuracy))\n",
    "}\n",
    "\n",
    "\n",
    "test_classification_pkg(packages_20, packages_20)\n",
    "test_classification_pkg(packages_20, packages_21)\n",
    "test_classification_pkg(packages_20, packages_30)\n",
    "test_classification_pkg(packages_21, packages_20)\n",
    "test_classification_pkg(packages_21, packages_21)\n",
    "test_classification_pkg(packages_21, packages_30)\n",
    "test_classification_pkg(packages_30, packages_20)\n",
    "test_classification_pkg(packages_30, packages_21)\n",
    "test_classification_pkg(packages_30, packages_30)"
   ]
  },
  {
   "cell_type": "code",
   "execution_count": 8,
   "metadata": {},
   "outputs": [
    {
     "data": {
      "text/html": [
       "<ol class=list-inline>\n",
       "\t<li>0.324042518180663</li>\n",
       "\t<li>0.569247326019774</li>\n",
       "\t<li>0.398233220755808</li>\n",
       "\t<li>1</li>\n",
       "\t<li>1</li>\n",
       "</ol>\n"
      ],
      "text/latex": [
       "\\begin{enumerate*}\n",
       "\\item 0.324042518180663\n",
       "\\item 0.569247326019774\n",
       "\\item 0.398233220755808\n",
       "\\item 1\n",
       "\\item 1\n",
       "\\end{enumerate*}\n"
      ],
      "text/markdown": [
       "1. 0.324042518180663\n",
       "2. 0.569247326019774\n",
       "3. 0.398233220755808\n",
       "4. 1\n",
       "5. 1\n",
       "\n",
       "\n"
      ],
      "text/plain": [
       "[1] 0.3240425 0.5692473 0.3982332 1.0000000 1.0000000"
      ]
     },
     "metadata": {},
     "output_type": "display_data"
    },
    {
     "data": {
      "text/html": [
       "<ol class=list-inline>\n",
       "\t<li>0.324042518180663</li>\n",
       "\t<li>0.429725170992398</li>\n",
       "\t<li>0.285775559229982</li>\n",
       "\t<li>1</li>\n",
       "\t<li>1</li>\n",
       "</ol>\n"
      ],
      "text/latex": [
       "\\begin{enumerate*}\n",
       "\\item 0.324042518180663\n",
       "\\item 0.429725170992398\n",
       "\\item 0.285775559229982\n",
       "\\item 1\n",
       "\\item 1\n",
       "\\end{enumerate*}\n"
      ],
      "text/markdown": [
       "1. 0.324042518180663\n",
       "2. 0.429725170992398\n",
       "3. 0.285775559229982\n",
       "4. 1\n",
       "5. 1\n",
       "\n",
       "\n"
      ],
      "text/plain": [
       "[1] 0.3240425 0.4297252 0.2857756 1.0000000 1.0000000"
      ]
     },
     "metadata": {},
     "output_type": "display_data"
    },
    {
     "data": {
      "text/html": [
       "<ol class=list-inline>\n",
       "\t<li>0.324042518180663</li>\n",
       "\t<li>0.544398335769975</li>\n",
       "\t<li>0.34002517768872</li>\n",
       "\t<li>1</li>\n",
       "\t<li>1</li>\n",
       "</ol>\n"
      ],
      "text/latex": [
       "\\begin{enumerate*}\n",
       "\\item 0.324042518180663\n",
       "\\item 0.544398335769975\n",
       "\\item 0.34002517768872\n",
       "\\item 1\n",
       "\\item 1\n",
       "\\end{enumerate*}\n"
      ],
      "text/markdown": [
       "1. 0.324042518180663\n",
       "2. 0.544398335769975\n",
       "3. 0.34002517768872\n",
       "4. 1\n",
       "5. 1\n",
       "\n",
       "\n"
      ],
      "text/plain": [
       "[1] 0.3240425 0.5443983 0.3400252 1.0000000 1.0000000"
      ]
     },
     "metadata": {},
     "output_type": "display_data"
    },
    {
     "data": {
      "text/html": [
       "<ol class=list-inline>\n",
       "\t<li>0.239091513607535</li>\n",
       "\t<li>0.517064126630014</li>\n",
       "\t<li>0.376633596748684</li>\n",
       "\t<li>1</li>\n",
       "\t<li>1</li>\n",
       "</ol>\n"
      ],
      "text/latex": [
       "\\begin{enumerate*}\n",
       "\\item 0.239091513607535\n",
       "\\item 0.517064126630014\n",
       "\\item 0.376633596748684\n",
       "\\item 1\n",
       "\\item 1\n",
       "\\end{enumerate*}\n"
      ],
      "text/markdown": [
       "1. 0.239091513607535\n",
       "2. 0.517064126630014\n",
       "3. 0.376633596748684\n",
       "4. 1\n",
       "5. 1\n",
       "\n",
       "\n"
      ],
      "text/plain": [
       "[1] 0.2390915 0.5170641 0.3766336 1.0000000 1.0000000"
      ]
     },
     "metadata": {},
     "output_type": "display_data"
    },
    {
     "data": {
      "text/html": [
       "<ol class=list-inline>\n",
       "\t<li>0.239091513607535</li>\n",
       "\t<li>0.488969849384944</li>\n",
       "\t<li>0.311390465698399</li>\n",
       "\t<li>1</li>\n",
       "\t<li>1</li>\n",
       "</ol>\n"
      ],
      "text/latex": [
       "\\begin{enumerate*}\n",
       "\\item 0.239091513607535\n",
       "\\item 0.488969849384944\n",
       "\\item 0.311390465698399\n",
       "\\item 1\n",
       "\\item 1\n",
       "\\end{enumerate*}\n"
      ],
      "text/markdown": [
       "1. 0.239091513607535\n",
       "2. 0.488969849384944\n",
       "3. 0.311390465698399\n",
       "4. 1\n",
       "5. 1\n",
       "\n",
       "\n"
      ],
      "text/plain": [
       "[1] 0.2390915 0.4889698 0.3113905 1.0000000 1.0000000"
      ]
     },
     "metadata": {},
     "output_type": "display_data"
    },
    {
     "data": {
      "text/html": [
       "<ol class=list-inline>\n",
       "\t<li>0.239091513607535</li>\n",
       "\t<li>0.561923322814289</li>\n",
       "\t<li>0.358771989453616</li>\n",
       "\t<li>1</li>\n",
       "\t<li>1</li>\n",
       "</ol>\n"
      ],
      "text/latex": [
       "\\begin{enumerate*}\n",
       "\\item 0.239091513607535\n",
       "\\item 0.561923322814289\n",
       "\\item 0.358771989453616\n",
       "\\item 1\n",
       "\\item 1\n",
       "\\end{enumerate*}\n"
      ],
      "text/markdown": [
       "1. 0.239091513607535\n",
       "2. 0.561923322814289\n",
       "3. 0.358771989453616\n",
       "4. 1\n",
       "5. 1\n",
       "\n",
       "\n"
      ],
      "text/plain": [
       "[1] 0.2390915 0.5619233 0.3587720 1.0000000 1.0000000"
      ]
     },
     "metadata": {},
     "output_type": "display_data"
    },
    {
     "data": {
      "text/html": [
       "<ol class=list-inline>\n",
       "\t<li>0.373698328469937</li>\n",
       "\t<li>0.51774054460915</li>\n",
       "\t<li>0.383243826297455</li>\n",
       "\t<li>1</li>\n",
       "\t<li>1</li>\n",
       "</ol>\n"
      ],
      "text/latex": [
       "\\begin{enumerate*}\n",
       "\\item 0.373698328469937\n",
       "\\item 0.51774054460915\n",
       "\\item 0.383243826297455\n",
       "\\item 1\n",
       "\\item 1\n",
       "\\end{enumerate*}\n"
      ],
      "text/markdown": [
       "1. 0.373698328469937\n",
       "2. 0.51774054460915\n",
       "3. 0.383243826297455\n",
       "4. 1\n",
       "5. 1\n",
       "\n",
       "\n"
      ],
      "text/plain": [
       "[1] 0.3736983 0.5177405 0.3832438 1.0000000 1.0000000"
      ]
     },
     "metadata": {},
     "output_type": "display_data"
    },
    {
     "data": {
      "text/html": [
       "<ol class=list-inline>\n",
       "\t<li>0.373698328469937</li>\n",
       "\t<li>0.433541812084677</li>\n",
       "\t<li>0.305300940224514</li>\n",
       "\t<li>1</li>\n",
       "\t<li>1</li>\n",
       "</ol>\n"
      ],
      "text/latex": [
       "\\begin{enumerate*}\n",
       "\\item 0.373698328469937\n",
       "\\item 0.433541812084677\n",
       "\\item 0.305300940224514\n",
       "\\item 1\n",
       "\\item 1\n",
       "\\end{enumerate*}\n"
      ],
      "text/markdown": [
       "1. 0.373698328469937\n",
       "2. 0.433541812084677\n",
       "3. 0.305300940224514\n",
       "4. 1\n",
       "5. 1\n",
       "\n",
       "\n"
      ],
      "text/plain": [
       "[1] 0.3736983 0.4335418 0.3053009 1.0000000 1.0000000"
      ]
     },
     "metadata": {},
     "output_type": "display_data"
    },
    {
     "data": {
      "text/html": [
       "<ol class=list-inline>\n",
       "\t<li>0.373698328469937</li>\n",
       "\t<li>0.611308701451187</li>\n",
       "\t<li>0.361783374594786</li>\n",
       "\t<li>1</li>\n",
       "\t<li>1</li>\n",
       "</ol>\n"
      ],
      "text/latex": [
       "\\begin{enumerate*}\n",
       "\\item 0.373698328469937\n",
       "\\item 0.611308701451187\n",
       "\\item 0.361783374594786\n",
       "\\item 1\n",
       "\\item 1\n",
       "\\end{enumerate*}\n"
      ],
      "text/markdown": [
       "1. 0.373698328469937\n",
       "2. 0.611308701451187\n",
       "3. 0.361783374594786\n",
       "4. 1\n",
       "5. 1\n",
       "\n",
       "\n"
      ],
      "text/plain": [
       "[1] 0.3736983 0.6113087 0.3617834 1.0000000 1.0000000"
      ]
     },
     "metadata": {},
     "output_type": "display_data"
    }
   ],
   "source": [
    "test_ranking <- function (train, test) \n",
    "{\n",
    "    model.lm <- lm(post ~ pre + ACD + FOUT_avg + FOUT_max + FOUT_sum + MLOC_avg + MLOC_max + MLOC_sum + NBD_avg + NBD_max + NBD_sum + NOF_avg + NOF_max + NOF_sum + NOI + NOM_avg + NOM_max + NOM_sum + NOT + NSF_avg + NSF_max + NSF_sum + NSM_avg + NSM_max + NSM_sum + PAR_avg + PAR_max + PAR_sum + + + TLOC + VG_avg + VG_max + VG_sum, data=train)\n",
    "    test.pred <- predict(model.lm, test)\n",
    "\n",
    "    r.squared <- summary(model.lm)$r.squared\n",
    "    pearson <- cor(test$post, test.pred, method=\"pearson\")\n",
    "    spearman <- cor(test$post, test.pred, method=\"spearman\")\n",
    "    pearson.p <- cor.test(test$post, test.pred, method=\"pearson\")$p.value\n",
    "    spearman.p <- cor.test(test$post, test.pred, method=\"spearman\", exact=FALSE)$p.value\n",
    "\n",
    "    return (c(r.squared, pearson, spearman, pearson.p<0.01, spearman.p<0.01))\n",
    "}\n",
    "\n",
    "\n",
    "test_ranking(files_20, files_20)\n",
    "test_ranking(files_20, files_21)\n",
    "test_ranking(files_20, files_30)\n",
    "test_ranking(files_21, files_20)\n",
    "test_ranking(files_21, files_21)\n",
    "test_ranking(files_21, files_30)\n",
    "test_ranking(files_30, files_20)\n",
    "test_ranking(files_30, files_21)\n",
    "test_ranking(files_30, files_30)"
   ]
  },
  {
   "cell_type": "code",
   "execution_count": 9,
   "metadata": {},
   "outputs": [
    {
     "data": {
      "text/html": [
       "<ol class=list-inline>\n",
       "\t<li>0.792889201045279</li>\n",
       "\t<li>0.890443260991558</li>\n",
       "\t<li>0.646542250606413</li>\n",
       "\t<li>1</li>\n",
       "\t<li>1</li>\n",
       "</ol>\n"
      ],
      "text/latex": [
       "\\begin{enumerate*}\n",
       "\\item 0.792889201045279\n",
       "\\item 0.890443260991558\n",
       "\\item 0.646542250606413\n",
       "\\item 1\n",
       "\\item 1\n",
       "\\end{enumerate*}\n"
      ],
      "text/markdown": [
       "1. 0.792889201045279\n",
       "2. 0.890443260991558\n",
       "3. 0.646542250606413\n",
       "4. 1\n",
       "5. 1\n",
       "\n",
       "\n"
      ],
      "text/plain": [
       "[1] 0.7928892 0.8904433 0.6465423 1.0000000 1.0000000"
      ]
     },
     "metadata": {},
     "output_type": "display_data"
    },
    {
     "data": {
      "text/html": [
       "<ol class=list-inline>\n",
       "\t<li>0.792889201045279</li>\n",
       "\t<li>0.869654607722228</li>\n",
       "\t<li>0.49242235884632</li>\n",
       "\t<li>1</li>\n",
       "\t<li>1</li>\n",
       "</ol>\n"
      ],
      "text/latex": [
       "\\begin{enumerate*}\n",
       "\\item 0.792889201045279\n",
       "\\item 0.869654607722228\n",
       "\\item 0.49242235884632\n",
       "\\item 1\n",
       "\\item 1\n",
       "\\end{enumerate*}\n"
      ],
      "text/markdown": [
       "1. 0.792889201045279\n",
       "2. 0.869654607722228\n",
       "3. 0.49242235884632\n",
       "4. 1\n",
       "5. 1\n",
       "\n",
       "\n"
      ],
      "text/plain": [
       "[1] 0.7928892 0.8696546 0.4924224 1.0000000 1.0000000"
      ]
     },
     "metadata": {},
     "output_type": "display_data"
    },
    {
     "data": {
      "text/html": [
       "<ol class=list-inline>\n",
       "\t<li>0.792889201045279</li>\n",
       "\t<li>0.732626416185187</li>\n",
       "\t<li>0.545740728884089</li>\n",
       "\t<li>1</li>\n",
       "\t<li>1</li>\n",
       "</ol>\n"
      ],
      "text/latex": [
       "\\begin{enumerate*}\n",
       "\\item 0.792889201045279\n",
       "\\item 0.732626416185187\n",
       "\\item 0.545740728884089\n",
       "\\item 1\n",
       "\\item 1\n",
       "\\end{enumerate*}\n"
      ],
      "text/markdown": [
       "1. 0.792889201045279\n",
       "2. 0.732626416185187\n",
       "3. 0.545740728884089\n",
       "4. 1\n",
       "5. 1\n",
       "\n",
       "\n"
      ],
      "text/plain": [
       "[1] 0.7928892 0.7326264 0.5457407 1.0000000 1.0000000"
      ]
     },
     "metadata": {},
     "output_type": "display_data"
    },
    {
     "data": {
      "text/html": [
       "<ol class=list-inline>\n",
       "\t<li>0.865456657977683</li>\n",
       "\t<li>0.833220940751403</li>\n",
       "\t<li>0.641249744180771</li>\n",
       "\t<li>1</li>\n",
       "\t<li>1</li>\n",
       "</ol>\n"
      ],
      "text/latex": [
       "\\begin{enumerate*}\n",
       "\\item 0.865456657977683\n",
       "\\item 0.833220940751403\n",
       "\\item 0.641249744180771\n",
       "\\item 1\n",
       "\\item 1\n",
       "\\end{enumerate*}\n"
      ],
      "text/markdown": [
       "1. 0.865456657977683\n",
       "2. 0.833220940751403\n",
       "3. 0.641249744180771\n",
       "4. 1\n",
       "5. 1\n",
       "\n",
       "\n"
      ],
      "text/plain": [
       "[1] 0.8654567 0.8332209 0.6412497 1.0000000 1.0000000"
      ]
     },
     "metadata": {},
     "output_type": "display_data"
    },
    {
     "data": {
      "text/html": [
       "<ol class=list-inline>\n",
       "\t<li>0.865456657977683</li>\n",
       "\t<li>0.930299230343486</li>\n",
       "\t<li>0.703607046161672</li>\n",
       "\t<li>1</li>\n",
       "\t<li>1</li>\n",
       "</ol>\n"
      ],
      "text/latex": [
       "\\begin{enumerate*}\n",
       "\\item 0.865456657977683\n",
       "\\item 0.930299230343486\n",
       "\\item 0.703607046161672\n",
       "\\item 1\n",
       "\\item 1\n",
       "\\end{enumerate*}\n"
      ],
      "text/markdown": [
       "1. 0.865456657977683\n",
       "2. 0.930299230343486\n",
       "3. 0.703607046161672\n",
       "4. 1\n",
       "5. 1\n",
       "\n",
       "\n"
      ],
      "text/plain": [
       "[1] 0.8654567 0.9302992 0.7036070 1.0000000 1.0000000"
      ]
     },
     "metadata": {},
     "output_type": "display_data"
    },
    {
     "data": {
      "text/html": [
       "<ol class=list-inline>\n",
       "\t<li>0.865456657977683</li>\n",
       "\t<li>0.730928375262663</li>\n",
       "\t<li>0.703930813762089</li>\n",
       "\t<li>1</li>\n",
       "\t<li>1</li>\n",
       "</ol>\n"
      ],
      "text/latex": [
       "\\begin{enumerate*}\n",
       "\\item 0.865456657977683\n",
       "\\item 0.730928375262663\n",
       "\\item 0.703930813762089\n",
       "\\item 1\n",
       "\\item 1\n",
       "\\end{enumerate*}\n"
      ],
      "text/markdown": [
       "1. 0.865456657977683\n",
       "2. 0.730928375262663\n",
       "3. 0.703930813762089\n",
       "4. 1\n",
       "5. 1\n",
       "\n",
       "\n"
      ],
      "text/plain": [
       "[1] 0.8654567 0.7309284 0.7039308 1.0000000 1.0000000"
      ]
     },
     "metadata": {},
     "output_type": "display_data"
    },
    {
     "data": {
      "text/html": [
       "<ol class=list-inline>\n",
       "\t<li>0.77859194950823</li>\n",
       "\t<li>0.72726694308396</li>\n",
       "\t<li>0.654544086158431</li>\n",
       "\t<li>1</li>\n",
       "\t<li>1</li>\n",
       "</ol>\n"
      ],
      "text/latex": [
       "\\begin{enumerate*}\n",
       "\\item 0.77859194950823\n",
       "\\item 0.72726694308396\n",
       "\\item 0.654544086158431\n",
       "\\item 1\n",
       "\\item 1\n",
       "\\end{enumerate*}\n"
      ],
      "text/markdown": [
       "1. 0.77859194950823\n",
       "2. 0.72726694308396\n",
       "3. 0.654544086158431\n",
       "4. 1\n",
       "5. 1\n",
       "\n",
       "\n"
      ],
      "text/plain": [
       "[1] 0.7785919 0.7272669 0.6545441 1.0000000 1.0000000"
      ]
     },
     "metadata": {},
     "output_type": "display_data"
    },
    {
     "data": {
      "text/html": [
       "<ol class=list-inline>\n",
       "\t<li>0.77859194950823</li>\n",
       "\t<li>0.782450938165668</li>\n",
       "\t<li>0.558195160797902</li>\n",
       "\t<li>1</li>\n",
       "\t<li>1</li>\n",
       "</ol>\n"
      ],
      "text/latex": [
       "\\begin{enumerate*}\n",
       "\\item 0.77859194950823\n",
       "\\item 0.782450938165668\n",
       "\\item 0.558195160797902\n",
       "\\item 1\n",
       "\\item 1\n",
       "\\end{enumerate*}\n"
      ],
      "text/markdown": [
       "1. 0.77859194950823\n",
       "2. 0.782450938165668\n",
       "3. 0.558195160797902\n",
       "4. 1\n",
       "5. 1\n",
       "\n",
       "\n"
      ],
      "text/plain": [
       "[1] 0.7785919 0.7824509 0.5581952 1.0000000 1.0000000"
      ]
     },
     "metadata": {},
     "output_type": "display_data"
    },
    {
     "data": {
      "text/html": [
       "<ol class=list-inline>\n",
       "\t<li>0.77859194950823</li>\n",
       "\t<li>0.882378574937215</li>\n",
       "\t<li>0.690579968483975</li>\n",
       "\t<li>1</li>\n",
       "\t<li>1</li>\n",
       "</ol>\n"
      ],
      "text/latex": [
       "\\begin{enumerate*}\n",
       "\\item 0.77859194950823\n",
       "\\item 0.882378574937215\n",
       "\\item 0.690579968483975\n",
       "\\item 1\n",
       "\\item 1\n",
       "\\end{enumerate*}\n"
      ],
      "text/markdown": [
       "1. 0.77859194950823\n",
       "2. 0.882378574937215\n",
       "3. 0.690579968483975\n",
       "4. 1\n",
       "5. 1\n",
       "\n",
       "\n"
      ],
      "text/plain": [
       "[1] 0.7785919 0.8823786 0.6905800 1.0000000 1.0000000"
      ]
     },
     "metadata": {},
     "output_type": "display_data"
    }
   ],
   "source": [
    "\n",
    "test_ranking_pkg <- function (train, test) \n",
    "{\n",
    "    model.lm <- lm(post ~ pre + ACD_avg + ACD_max + ACD_sum + FOUT_avg + FOUT_max + FOUT_sum + MLOC_avg + MLOC_max + MLOC_sum + NBD_avg + NBD_max + NBD_sum + NOCU + NOF_avg + NOF_max + NOF_sum + NOI_avg + NOI_max + NOI_sum + NOM_avg + NOM_max + NOM_sum + NOT_avg + NOT_max + NOT_sum + NSF_avg + NSF_max + NSF_sum + NSM_avg + NSM_max + NSM_sum + PAR_avg + PAR_max + PAR_sum + TLOC_avg + TLOC_max + TLOC_sum + VG_avg + VG_max + VG_sum, data=train)\n",
    "    test.pred <- predict(model.lm, test)\n",
    "\n",
    "    r.squared <- summary(model.lm)$r.squared\n",
    "    pearson <- cor(test$post, test.pred, method=\"pearson\")\n",
    "    spearman <- cor(test$post, test.pred, method=\"spearman\")\n",
    "    pearson.p <- cor.test(test$post, test.pred, method=\"pearson\")$p.value\n",
    "    spearman.p <- cor.test(test$post, test.pred, method=\"spearman\", exact=FALSE)$p.value\n",
    "\n",
    "    return (c(r.squared, pearson, spearman, pearson.p<0.01, spearman.p<0.01))\n",
    "}\n",
    "\n",
    "\n",
    "test_ranking_pkg(packages_20, packages_20)\n",
    "test_ranking_pkg(packages_20, packages_21)\n",
    "test_ranking_pkg(packages_20, packages_30)\n",
    "test_ranking_pkg(packages_21, packages_20)\n",
    "test_ranking_pkg(packages_21, packages_21)\n",
    "test_ranking_pkg(packages_21, packages_30)\n",
    "test_ranking_pkg(packages_30, packages_20)\n",
    "test_ranking_pkg(packages_30, packages_21)\n",
    "test_ranking_pkg(packages_30, packages_30)"
   ]
  }
 ],
 "metadata": {
  "kernelspec": {
   "display_name": "R",
   "language": "R",
   "name": "ir"
  },
  "language_info": {
   "codemirror_mode": "r",
   "file_extension": ".r",
   "mimetype": "text/x-r-source",
   "name": "R",
   "pygments_lexer": "r",
   "version": "3.5.1"
  }
 },
 "nbformat": 4,
 "nbformat_minor": 2
}
