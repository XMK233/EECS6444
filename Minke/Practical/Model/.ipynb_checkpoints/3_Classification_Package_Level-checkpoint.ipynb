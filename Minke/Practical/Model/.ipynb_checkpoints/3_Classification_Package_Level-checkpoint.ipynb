{
 "cells": [
  {
   "cell_type": "markdown",
   "metadata": {},
   "source": [
    "### Fit the old code to our dataset. \n",
    "\n",
    "纸上得来终觉浅，绝知此事要躬行。"
   ]
  },
  {
   "cell_type": "code",
   "execution_count": 1,
   "metadata": {},
   "outputs": [
    {
     "name": "stderr",
     "output_type": "stream",
     "text": [
      "randomForest 4.6-14\n",
      "Type rfNews() to see new features/changes/bug fixes.\n",
      "Type 'citation(\"pROC\")' for a citation.\n",
      "\n",
      "Attaching package: 'pROC'\n",
      "\n",
      "The following objects are masked from 'package:stats':\n",
      "\n",
      "    cov, smooth, var\n",
      "\n",
      "Loading required package: gplots\n",
      "\n",
      "Attaching package: 'gplots'\n",
      "\n",
      "The following object is masked from 'package:stats':\n",
      "\n",
      "    lowess\n",
      "\n",
      "Loading required package: lattice\n",
      "Loading required package: ggplot2\n",
      "\n",
      "Attaching package: 'ggplot2'\n",
      "\n",
      "The following object is masked from 'package:randomForest':\n",
      "\n",
      "    margin\n",
      "\n"
     ]
    }
   ],
   "source": [
    "#import the package\n",
    "options(warn=-1)\n",
    "library(randomForest)\n",
    "library(pROC)\n",
    "library(ROCR)\n",
    "\n",
    "library(data.table)\n",
    "library(xgboost)\n",
    "library(caret)"
   ]
  },
  {
   "cell_type": "code",
   "execution_count": 2,
   "metadata": {},
   "outputs": [
    {
     "data": {
      "text/html": [
       "44"
      ],
      "text/latex": [
       "44"
      ],
      "text/markdown": [
       "44"
      ],
      "text/plain": [
       "[1] 44"
      ]
     },
     "metadata": {},
     "output_type": "display_data"
    },
    {
     "data": {
      "text/html": [
       "44"
      ],
      "text/latex": [
       "44"
      ],
      "text/markdown": [
       "44"
      ],
      "text/plain": [
       "[1] 44"
      ]
     },
     "metadata": {},
     "output_type": "display_data"
    },
    {
     "data": {
      "text/html": [
       "44"
      ],
      "text/latex": [
       "44"
      ],
      "text/markdown": [
       "44"
      ],
      "text/plain": [
       "[1] 44"
      ]
     },
     "metadata": {},
     "output_type": "display_data"
    }
   ],
   "source": [
    "files_32 <- read.table(\"../org.eclipse.jdt.core_3.2/dataset-_3.2-packagelevel.csv\", header=T, sep=\",\")\n",
    "files_34 <- read.table(\"../org.eclipse.jdt.core_3.4/dataset-_3.4-packagelevel.csv\", header=T, sep=\",\")\n",
    "files_35 <- read.table(\"../org.eclipse.jdt.core_3.5/dataset-_3.5-packagelevel.csv\", header=T, sep=\",\")\n",
    "\n",
    "nrow(files_32)\n",
    "nrow(files_34)\n",
    "nrow(files_35)"
   ]
  },
  {
   "cell_type": "code",
   "execution_count": 3,
   "metadata": {},
   "outputs": [
    {
     "data": {
      "text/html": [
       "<table>\n",
       "<thead><tr><th scope=col>plugin</th><th scope=col>package</th><th scope=col>NOCU</th><th scope=col>NOT_total</th><th scope=col>NOT_max</th><th scope=col>NOT_avg</th><th scope=col>NOI_total</th><th scope=col>NOI_max</th><th scope=col>NOI_avg</th><th scope=col>TLOC_total</th><th scope=col>...</th><th scope=col>MLOC_max</th><th scope=col>NBD_max</th><th scope=col>PAR_max</th><th scope=col>VG_max</th><th scope=col>FOUT_max</th><th scope=col>MLOC_avg</th><th scope=col>NBD_avg</th><th scope=col>PAR_avg</th><th scope=col>VG_avg</th><th scope=col>FOUT_avg</th></tr></thead>\n",
       "<tbody>\n",
       "\t<tr><td>org.eclipse.jdt.core            </td><td>org.eclipse.jdt.core            </td><td> 64                             </td><td> 20                             </td><td>1                               </td><td>0.3125000                       </td><td>44                              </td><td>1                               </td><td>0.68750000                      </td><td> 5949                           </td><td>...                             </td><td>168                             </td><td> 7                              </td><td>13                              </td><td> 39                             </td><td>30                              </td><td> 5.740489                       </td><td>-0.2282609                      </td><td>1.5625000                       </td><td>2.125000                        </td><td>1.1073370                       </td></tr>\n",
       "\t<tr><td>org.eclipse.jdt.core            </td><td>org.eclipse.jdt.core.compiler   </td><td>  9                             </td><td>  6                             </td><td>1                               </td><td>0.6666667                       </td><td> 3                              </td><td>1                               </td><td>0.33333333                      </td><td> 1984                           </td><td>...                             </td><td> 86                             </td><td> 4                              </td><td> 7                              </td><td> 37                             </td><td>10                              </td><td> 8.094017                       </td><td> 0.2222222                      </td><td>1.7179487                       </td><td>3.743590                        </td><td>0.6153846                       </td></tr>\n",
       "\t<tr><td>org.eclipse.jdt.core            </td><td>org.eclipse.jdt.core.dom        </td><td>133                             </td><td>124                             </td><td>1                               </td><td>0.9323308                       </td><td> 9                              </td><td>1                               </td><td>0.06766917                      </td><td>27428                           </td><td>...                             </td><td>285                             </td><td> 9                              </td><td> 9                              </td><td>103                             </td><td>48                              </td><td> 8.612487                       </td><td> 0.5809114                      </td><td>0.8937926                       </td><td>2.508791                        </td><td>2.3738787                       </td></tr>\n",
       "\t<tr><td>org.eclipse.jdt.core            </td><td>org.eclipse.jdt.core.dom.rewrite</td><td>  5                             </td><td>  4                             </td><td>1                               </td><td>0.8000000                       </td><td> 1                              </td><td>1                               </td><td>0.20000000                      </td><td> 1012                           </td><td>...                             </td><td> 55                             </td><td> 4                              </td><td> 6                              </td><td> 16                             </td><td>29                              </td><td> 9.606383                       </td><td> 0.7765957                      </td><td>1.4468085                       </td><td>2.914894                        </td><td>3.4680851                       </td></tr>\n",
       "\t<tr><td>org.eclipse.jdt.core            </td><td>org.eclipse.jdt.core.eval       </td><td>  3                             </td><td>  0                             </td><td>0                               </td><td>0.0000000                       </td><td> 3                              </td><td>1                               </td><td>1.00000000                      </td><td>   97                           </td><td>...                             </td><td>  1                             </td><td>-1                              </td><td> 9                              </td><td>  1                             </td><td> 0                              </td><td> 1.000000                       </td><td>-1.0000000                      </td><td>2.1666667                       </td><td>1.000000                        </td><td>0.0000000                       </td></tr>\n",
       "\t<tr><td>org.eclipse.jdt.core            </td><td>org.eclipse.jdt.core.formatter  </td><td>  4                             </td><td>  4                             </td><td>1                               </td><td>1.0000000                       </td><td> 0                              </td><td>0                               </td><td>0.00000000                      </td><td>  932                           </td><td>...                             </td><td> 76                             </td><td> 3                              </td><td> 6                              </td><td> 19                             </td><td>16                              </td><td>18.531250                       </td><td> 1.2187500                      </td><td>1.9062500                       </td><td>5.312500                        </td><td>3.5000000                       </td></tr>\n",
       "</tbody>\n",
       "</table>\n"
      ],
      "text/latex": [
       "\\begin{tabular}{r|llllllllllllllllllllllllllllllllllllllllllll}\n",
       " plugin & package & NOCU & NOT\\_total & NOT\\_max & NOT\\_avg & NOI\\_total & NOI\\_max & NOI\\_avg & TLOC\\_total & ... & MLOC\\_max & NBD\\_max & PAR\\_max & VG\\_max & FOUT\\_max & MLOC\\_avg & NBD\\_avg & PAR\\_avg & VG\\_avg & FOUT\\_avg\\\\\n",
       "\\hline\n",
       "\t org.eclipse.jdt.core             & org.eclipse.jdt.core             &  64                              &  20                              & 1                                & 0.3125000                        & 44                               & 1                                & 0.68750000                       &  5949                            & ...                              & 168                              &  7                               & 13                               &  39                              & 30                               &  5.740489                        & -0.2282609                       & 1.5625000                        & 2.125000                         & 1.1073370                       \\\\\n",
       "\t org.eclipse.jdt.core             & org.eclipse.jdt.core.compiler    &   9                              &   6                              & 1                                & 0.6666667                        &  3                               & 1                                & 0.33333333                       &  1984                            & ...                              &  86                              &  4                               &  7                               &  37                              & 10                               &  8.094017                        &  0.2222222                       & 1.7179487                        & 3.743590                         & 0.6153846                       \\\\\n",
       "\t org.eclipse.jdt.core             & org.eclipse.jdt.core.dom         & 133                              & 124                              & 1                                & 0.9323308                        &  9                               & 1                                & 0.06766917                       & 27428                            & ...                              & 285                              &  9                               &  9                               & 103                              & 48                               &  8.612487                        &  0.5809114                       & 0.8937926                        & 2.508791                         & 2.3738787                       \\\\\n",
       "\t org.eclipse.jdt.core             & org.eclipse.jdt.core.dom.rewrite &   5                              &   4                              & 1                                & 0.8000000                        &  1                               & 1                                & 0.20000000                       &  1012                            & ...                              &  55                              &  4                               &  6                               &  16                              & 29                               &  9.606383                        &  0.7765957                       & 1.4468085                        & 2.914894                         & 3.4680851                       \\\\\n",
       "\t org.eclipse.jdt.core             & org.eclipse.jdt.core.eval        &   3                              &   0                              & 0                                & 0.0000000                        &  3                               & 1                                & 1.00000000                       &    97                            & ...                              &   1                              & -1                               &  9                               &   1                              &  0                               &  1.000000                        & -1.0000000                       & 2.1666667                        & 1.000000                         & 0.0000000                       \\\\\n",
       "\t org.eclipse.jdt.core             & org.eclipse.jdt.core.formatter   &   4                              &   4                              & 1                                & 1.0000000                        &  0                               & 0                                & 0.00000000                       &   932                            & ...                              &  76                              &  3                               &  6                               &  19                              & 16                               & 18.531250                        &  1.2187500                       & 1.9062500                        & 5.312500                         & 3.5000000                       \\\\\n",
       "\\end{tabular}\n"
      ],
      "text/markdown": [
       "\n",
       "| plugin | package | NOCU | NOT_total | NOT_max | NOT_avg | NOI_total | NOI_max | NOI_avg | TLOC_total | ... | MLOC_max | NBD_max | PAR_max | VG_max | FOUT_max | MLOC_avg | NBD_avg | PAR_avg | VG_avg | FOUT_avg |\n",
       "|---|---|---|---|---|---|---|---|---|---|---|---|---|---|---|---|---|---|---|---|---|\n",
       "| org.eclipse.jdt.core             | org.eclipse.jdt.core             |  64                              |  20                              | 1                                | 0.3125000                        | 44                               | 1                                | 0.68750000                       |  5949                            | ...                              | 168                              |  7                               | 13                               |  39                              | 30                               |  5.740489                        | -0.2282609                       | 1.5625000                        | 2.125000                         | 1.1073370                        |\n",
       "| org.eclipse.jdt.core             | org.eclipse.jdt.core.compiler    |   9                              |   6                              | 1                                | 0.6666667                        |  3                               | 1                                | 0.33333333                       |  1984                            | ...                              |  86                              |  4                               |  7                               |  37                              | 10                               |  8.094017                        |  0.2222222                       | 1.7179487                        | 3.743590                         | 0.6153846                        |\n",
       "| org.eclipse.jdt.core             | org.eclipse.jdt.core.dom         | 133                              | 124                              | 1                                | 0.9323308                        |  9                               | 1                                | 0.06766917                       | 27428                            | ...                              | 285                              |  9                               |  9                               | 103                              | 48                               |  8.612487                        |  0.5809114                       | 0.8937926                        | 2.508791                         | 2.3738787                        |\n",
       "| org.eclipse.jdt.core             | org.eclipse.jdt.core.dom.rewrite |   5                              |   4                              | 1                                | 0.8000000                        |  1                               | 1                                | 0.20000000                       |  1012                            | ...                              |  55                              |  4                               |  6                               |  16                              | 29                               |  9.606383                        |  0.7765957                       | 1.4468085                        | 2.914894                         | 3.4680851                        |\n",
       "| org.eclipse.jdt.core             | org.eclipse.jdt.core.eval        |   3                              |   0                              | 0                                | 0.0000000                        |  3                               | 1                                | 1.00000000                       |    97                            | ...                              |   1                              | -1                               |  9                               |   1                              |  0                               |  1.000000                        | -1.0000000                       | 2.1666667                        | 1.000000                         | 0.0000000                        |\n",
       "| org.eclipse.jdt.core             | org.eclipse.jdt.core.formatter   |   4                              |   4                              | 1                                | 1.0000000                        |  0                               | 0                                | 0.00000000                       |   932                            | ...                              |  76                              |  3                               |  6                               |  19                              | 16                               | 18.531250                        |  1.2187500                       | 1.9062500                        | 5.312500                         | 3.5000000                        |\n",
       "\n"
      ],
      "text/plain": [
       "  plugin               package                          NOCU NOT_total NOT_max\n",
       "1 org.eclipse.jdt.core org.eclipse.jdt.core              64   20       1      \n",
       "2 org.eclipse.jdt.core org.eclipse.jdt.core.compiler      9    6       1      \n",
       "3 org.eclipse.jdt.core org.eclipse.jdt.core.dom         133  124       1      \n",
       "4 org.eclipse.jdt.core org.eclipse.jdt.core.dom.rewrite   5    4       1      \n",
       "5 org.eclipse.jdt.core org.eclipse.jdt.core.eval          3    0       0      \n",
       "6 org.eclipse.jdt.core org.eclipse.jdt.core.formatter     4    4       1      \n",
       "  NOT_avg   NOI_total NOI_max NOI_avg    TLOC_total ... MLOC_max NBD_max\n",
       "1 0.3125000 44        1       0.68750000  5949      ... 168       7     \n",
       "2 0.6666667  3        1       0.33333333  1984      ...  86       4     \n",
       "3 0.9323308  9        1       0.06766917 27428      ... 285       9     \n",
       "4 0.8000000  1        1       0.20000000  1012      ...  55       4     \n",
       "5 0.0000000  3        1       1.00000000    97      ...   1      -1     \n",
       "6 1.0000000  0        0       0.00000000   932      ...  76       3     \n",
       "  PAR_max VG_max FOUT_max MLOC_avg  NBD_avg    PAR_avg   VG_avg   FOUT_avg \n",
       "1 13       39    30        5.740489 -0.2282609 1.5625000 2.125000 1.1073370\n",
       "2  7       37    10        8.094017  0.2222222 1.7179487 3.743590 0.6153846\n",
       "3  9      103    48        8.612487  0.5809114 0.8937926 2.508791 2.3738787\n",
       "4  6       16    29        9.606383  0.7765957 1.4468085 2.914894 3.4680851\n",
       "5  9        1     0        1.000000 -1.0000000 2.1666667 1.000000 0.0000000\n",
       "6  6       19    16       18.531250  1.2187500 1.9062500 5.312500 3.5000000"
      ]
     },
     "metadata": {},
     "output_type": "display_data"
    }
   ],
   "source": [
    "head(files_32)"
   ]
  },
  {
   "cell_type": "markdown",
   "metadata": {},
   "source": [
    "### preprocess the dataframe to make it the same as example csv files. "
   ]
  },
  {
   "cell_type": "code",
   "execution_count": 4,
   "metadata": {},
   "outputs": [],
   "source": [
    "library(caret)\n",
    "library(RANN)\n",
    "data_preprocess <- function(dataset){\n",
    "    subSet_that_dont_need_preProcess <- dataset[c(\"pre\", \"post\")]\n",
    "    hehe <- preProcess(dataset, method = c(\"range\", \"knnImpute\")) \n",
    "    new_set <- predict(hehe, dataset)\n",
    "    new_set[c(\"pre\", \"post\")] <- subSet_that_dont_need_preProcess\n",
    "    return (new_set)\n",
    "}\n",
    "files_32 <- data_preprocess(files_32)\n",
    "files_34 <- data_preprocess(files_34)\n",
    "files_35 <- data_preprocess(files_35)"
   ]
  },
  {
   "cell_type": "code",
   "execution_count": 5,
   "metadata": {},
   "outputs": [],
   "source": [
    "files_32 = cbind(files_32[c(\"plugin\", \"package\")], files_32[c(\"pre\", \"post\")], files_32[,3:32], files_32[,35:44])\n",
    "files_32 <- na.omit(files_32)\n",
    "\n",
    "files_34 = cbind(files_34[c(\"plugin\", \"package\")], files_34[c(\"pre\", \"post\")], files_34[,3:32], files_34[,35:44])\n",
    "files_34 <- na.omit(files_34)\n",
    "\n",
    "files_35 = cbind(files_35[c(\"plugin\", \"package\")], files_35[c(\"pre\", \"post\")], files_35[,3:32], files_35[,35:44])\n",
    "files_35 <- na.omit(files_35)"
   ]
  },
  {
   "cell_type": "code",
   "execution_count": 6,
   "metadata": {},
   "outputs": [],
   "source": [
    "files_32$buggy = files_32$post > 0\n",
    "files_34$buggy = files_34$post > 0\n",
    "files_35$buggy = files_35$post > 0\n"
   ]
  },
  {
   "cell_type": "code",
   "execution_count": 7,
   "metadata": {},
   "outputs": [
    {
     "data": {
      "text/html": [
       "<table>\n",
       "<thead><tr><th scope=col>plugin</th><th scope=col>package</th><th scope=col>pre</th><th scope=col>post</th><th scope=col>NOCU</th><th scope=col>NOT_total</th><th scope=col>NOT_max</th><th scope=col>NOT_avg</th><th scope=col>NOI_total</th><th scope=col>NOI_max</th><th scope=col>...</th><th scope=col>NBD_max</th><th scope=col>PAR_max</th><th scope=col>VG_max</th><th scope=col>FOUT_max</th><th scope=col>MLOC_avg</th><th scope=col>NBD_avg</th><th scope=col>PAR_avg</th><th scope=col>VG_avg</th><th scope=col>FOUT_avg</th><th scope=col>buggy</th></tr></thead>\n",
       "<tbody>\n",
       "\t<tr><td>org.eclipse.jdt.core            </td><td>org.eclipse.jdt.core            </td><td> 85                             </td><td> 7                              </td><td>0.45985401                      </td><td>0.14925373                      </td><td>1                               </td><td>0.3125000                       </td><td>1.00000000                      </td><td>1                               </td><td>...                             </td><td>0.6666667                       </td><td>0.4782609                       </td><td>0.04622871                      </td><td>0.10489510                      </td><td>0.07075357                      </td><td>0.1929348                       </td><td>0.4810456                       </td><td>0.09909972                      </td><td>0.11150511                      </td><td> TRUE                           </td></tr>\n",
       "\t<tr><td>org.eclipse.jdt.core            </td><td>org.eclipse.jdt.core.compiler   </td><td> 42                             </td><td> 0                              </td><td>0.05839416                      </td><td>0.04477612                      </td><td>1                               </td><td>0.6666667                       </td><td>0.06818182                      </td><td>1                               </td><td>...                             </td><td>0.4166667                       </td><td>0.2173913                       </td><td>0.04379562                      </td><td>0.03496503                      </td><td>0.10588085                      </td><td>0.3055556                       </td><td>0.5376598                       </td><td>0.24167910                      </td><td>0.06196717                      </td><td>FALSE                           </td></tr>\n",
       "\t<tr><td>org.eclipse.jdt.core            </td><td>org.eclipse.jdt.core.dom        </td><td>673                             </td><td>66                              </td><td>0.96350365                      </td><td>0.92537313                      </td><td>1                               </td><td>0.9323308                       </td><td>0.20454545                      </td><td>1                               </td><td>...                             </td><td>0.8333333                       </td><td>0.3043478                       </td><td>0.12408759                      </td><td>0.16783217                      </td><td>0.11361920                      </td><td>0.3952278                       </td><td>0.2375033                       </td><td>0.13290733                      </td><td>0.23904162                      </td><td> TRUE                           </td></tr>\n",
       "\t<tr><td>org.eclipse.jdt.core            </td><td>org.eclipse.jdt.core.dom.rewrite</td><td>  1                             </td><td> 0                              </td><td>0.02919708                      </td><td>0.02985075                      </td><td>1                               </td><td>0.8000000                       </td><td>0.02272727                      </td><td>1                               </td><td>...                             </td><td>0.4166667                       </td><td>0.1739130                       </td><td>0.01824818                      </td><td>0.10139860                      </td><td>0.12845348                      </td><td>0.4441489                       </td><td>0.4389110                       </td><td>0.16868038                      </td><td>0.34922453                      </td><td>FALSE                           </td></tr>\n",
       "\t<tr><td>org.eclipse.jdt.core            </td><td>org.eclipse.jdt.core.eval       </td><td>  0                             </td><td> 0                              </td><td>0.01459854                      </td><td>0.00000000                      </td><td>0                               </td><td>0.0000000                       </td><td>0.06818182                      </td><td>1                               </td><td>...                             </td><td>0.0000000                       </td><td>0.3043478                       </td><td>0.00000000                      </td><td>0.00000000                      </td><td>0.00000000                      </td><td>0.0000000                       </td><td>0.7010823                       </td><td>0.00000000                      </td><td>0.00000000                      </td><td>FALSE                           </td></tr>\n",
       "\t<tr><td>org.eclipse.jdt.core            </td><td>org.eclipse.jdt.core.formatter  </td><td> 21                             </td><td> 0                              </td><td>0.02189781                      </td><td>0.02985075                      </td><td>1                               </td><td>1.0000000                       </td><td>0.00000000                      </td><td>0                               </td><td>...                             </td><td>0.3333333                       </td><td>0.1739130                       </td><td>0.02189781                      </td><td>0.05594406                      </td><td>0.26166045                      </td><td>0.5546875                       </td><td>0.6062389                       </td><td>0.37988227                      </td><td>0.35243825                      </td><td>FALSE                           </td></tr>\n",
       "</tbody>\n",
       "</table>\n"
      ],
      "text/latex": [
       "\\begin{tabular}{r|lllllllllllllllllllllllllllllllllllllllllllll}\n",
       " plugin & package & pre & post & NOCU & NOT\\_total & NOT\\_max & NOT\\_avg & NOI\\_total & NOI\\_max & ... & NBD\\_max & PAR\\_max & VG\\_max & FOUT\\_max & MLOC\\_avg & NBD\\_avg & PAR\\_avg & VG\\_avg & FOUT\\_avg & buggy\\\\\n",
       "\\hline\n",
       "\t org.eclipse.jdt.core             & org.eclipse.jdt.core             &  85                              &  7                               & 0.45985401                       & 0.14925373                       & 1                                & 0.3125000                        & 1.00000000                       & 1                                & ...                              & 0.6666667                        & 0.4782609                        & 0.04622871                       & 0.10489510                       & 0.07075357                       & 0.1929348                        & 0.4810456                        & 0.09909972                       & 0.11150511                       &  TRUE                           \\\\\n",
       "\t org.eclipse.jdt.core             & org.eclipse.jdt.core.compiler    &  42                              &  0                               & 0.05839416                       & 0.04477612                       & 1                                & 0.6666667                        & 0.06818182                       & 1                                & ...                              & 0.4166667                        & 0.2173913                        & 0.04379562                       & 0.03496503                       & 0.10588085                       & 0.3055556                        & 0.5376598                        & 0.24167910                       & 0.06196717                       & FALSE                           \\\\\n",
       "\t org.eclipse.jdt.core             & org.eclipse.jdt.core.dom         & 673                              & 66                               & 0.96350365                       & 0.92537313                       & 1                                & 0.9323308                        & 0.20454545                       & 1                                & ...                              & 0.8333333                        & 0.3043478                        & 0.12408759                       & 0.16783217                       & 0.11361920                       & 0.3952278                        & 0.2375033                        & 0.13290733                       & 0.23904162                       &  TRUE                           \\\\\n",
       "\t org.eclipse.jdt.core             & org.eclipse.jdt.core.dom.rewrite &   1                              &  0                               & 0.02919708                       & 0.02985075                       & 1                                & 0.8000000                        & 0.02272727                       & 1                                & ...                              & 0.4166667                        & 0.1739130                        & 0.01824818                       & 0.10139860                       & 0.12845348                       & 0.4441489                        & 0.4389110                        & 0.16868038                       & 0.34922453                       & FALSE                           \\\\\n",
       "\t org.eclipse.jdt.core             & org.eclipse.jdt.core.eval        &   0                              &  0                               & 0.01459854                       & 0.00000000                       & 0                                & 0.0000000                        & 0.06818182                       & 1                                & ...                              & 0.0000000                        & 0.3043478                        & 0.00000000                       & 0.00000000                       & 0.00000000                       & 0.0000000                        & 0.7010823                        & 0.00000000                       & 0.00000000                       & FALSE                           \\\\\n",
       "\t org.eclipse.jdt.core             & org.eclipse.jdt.core.formatter   &  21                              &  0                               & 0.02189781                       & 0.02985075                       & 1                                & 1.0000000                        & 0.00000000                       & 0                                & ...                              & 0.3333333                        & 0.1739130                        & 0.02189781                       & 0.05594406                       & 0.26166045                       & 0.5546875                        & 0.6062389                        & 0.37988227                       & 0.35243825                       & FALSE                           \\\\\n",
       "\\end{tabular}\n"
      ],
      "text/markdown": [
       "\n",
       "| plugin | package | pre | post | NOCU | NOT_total | NOT_max | NOT_avg | NOI_total | NOI_max | ... | NBD_max | PAR_max | VG_max | FOUT_max | MLOC_avg | NBD_avg | PAR_avg | VG_avg | FOUT_avg | buggy |\n",
       "|---|---|---|---|---|---|---|---|---|---|---|---|---|---|---|---|---|---|---|---|---|\n",
       "| org.eclipse.jdt.core             | org.eclipse.jdt.core             |  85                              |  7                               | 0.45985401                       | 0.14925373                       | 1                                | 0.3125000                        | 1.00000000                       | 1                                | ...                              | 0.6666667                        | 0.4782609                        | 0.04622871                       | 0.10489510                       | 0.07075357                       | 0.1929348                        | 0.4810456                        | 0.09909972                       | 0.11150511                       |  TRUE                            |\n",
       "| org.eclipse.jdt.core             | org.eclipse.jdt.core.compiler    |  42                              |  0                               | 0.05839416                       | 0.04477612                       | 1                                | 0.6666667                        | 0.06818182                       | 1                                | ...                              | 0.4166667                        | 0.2173913                        | 0.04379562                       | 0.03496503                       | 0.10588085                       | 0.3055556                        | 0.5376598                        | 0.24167910                       | 0.06196717                       | FALSE                            |\n",
       "| org.eclipse.jdt.core             | org.eclipse.jdt.core.dom         | 673                              | 66                               | 0.96350365                       | 0.92537313                       | 1                                | 0.9323308                        | 0.20454545                       | 1                                | ...                              | 0.8333333                        | 0.3043478                        | 0.12408759                       | 0.16783217                       | 0.11361920                       | 0.3952278                        | 0.2375033                        | 0.13290733                       | 0.23904162                       |  TRUE                            |\n",
       "| org.eclipse.jdt.core             | org.eclipse.jdt.core.dom.rewrite |   1                              |  0                               | 0.02919708                       | 0.02985075                       | 1                                | 0.8000000                        | 0.02272727                       | 1                                | ...                              | 0.4166667                        | 0.1739130                        | 0.01824818                       | 0.10139860                       | 0.12845348                       | 0.4441489                        | 0.4389110                        | 0.16868038                       | 0.34922453                       | FALSE                            |\n",
       "| org.eclipse.jdt.core             | org.eclipse.jdt.core.eval        |   0                              |  0                               | 0.01459854                       | 0.00000000                       | 0                                | 0.0000000                        | 0.06818182                       | 1                                | ...                              | 0.0000000                        | 0.3043478                        | 0.00000000                       | 0.00000000                       | 0.00000000                       | 0.0000000                        | 0.7010823                        | 0.00000000                       | 0.00000000                       | FALSE                            |\n",
       "| org.eclipse.jdt.core             | org.eclipse.jdt.core.formatter   |  21                              |  0                               | 0.02189781                       | 0.02985075                       | 1                                | 1.0000000                        | 0.00000000                       | 0                                | ...                              | 0.3333333                        | 0.1739130                        | 0.02189781                       | 0.05594406                       | 0.26166045                       | 0.5546875                        | 0.6062389                        | 0.37988227                       | 0.35243825                       | FALSE                            |\n",
       "\n"
      ],
      "text/plain": [
       "  plugin               package                          pre post NOCU      \n",
       "1 org.eclipse.jdt.core org.eclipse.jdt.core              85  7   0.45985401\n",
       "2 org.eclipse.jdt.core org.eclipse.jdt.core.compiler     42  0   0.05839416\n",
       "3 org.eclipse.jdt.core org.eclipse.jdt.core.dom         673 66   0.96350365\n",
       "4 org.eclipse.jdt.core org.eclipse.jdt.core.dom.rewrite   1  0   0.02919708\n",
       "5 org.eclipse.jdt.core org.eclipse.jdt.core.eval          0  0   0.01459854\n",
       "6 org.eclipse.jdt.core org.eclipse.jdt.core.formatter    21  0   0.02189781\n",
       "  NOT_total  NOT_max NOT_avg   NOI_total  NOI_max ... NBD_max   PAR_max  \n",
       "1 0.14925373 1       0.3125000 1.00000000 1       ... 0.6666667 0.4782609\n",
       "2 0.04477612 1       0.6666667 0.06818182 1       ... 0.4166667 0.2173913\n",
       "3 0.92537313 1       0.9323308 0.20454545 1       ... 0.8333333 0.3043478\n",
       "4 0.02985075 1       0.8000000 0.02272727 1       ... 0.4166667 0.1739130\n",
       "5 0.00000000 0       0.0000000 0.06818182 1       ... 0.0000000 0.3043478\n",
       "6 0.02985075 1       1.0000000 0.00000000 0       ... 0.3333333 0.1739130\n",
       "  VG_max     FOUT_max   MLOC_avg   NBD_avg   PAR_avg   VG_avg     FOUT_avg  \n",
       "1 0.04622871 0.10489510 0.07075357 0.1929348 0.4810456 0.09909972 0.11150511\n",
       "2 0.04379562 0.03496503 0.10588085 0.3055556 0.5376598 0.24167910 0.06196717\n",
       "3 0.12408759 0.16783217 0.11361920 0.3952278 0.2375033 0.13290733 0.23904162\n",
       "4 0.01824818 0.10139860 0.12845348 0.4441489 0.4389110 0.16868038 0.34922453\n",
       "5 0.00000000 0.00000000 0.00000000 0.0000000 0.7010823 0.00000000 0.00000000\n",
       "6 0.02189781 0.05594406 0.26166045 0.5546875 0.6062389 0.37988227 0.35243825\n",
       "  buggy\n",
       "1  TRUE\n",
       "2 FALSE\n",
       "3  TRUE\n",
       "4 FALSE\n",
       "5 FALSE\n",
       "6 FALSE"
      ]
     },
     "metadata": {},
     "output_type": "display_data"
    }
   ],
   "source": [
    "head(files_32)"
   ]
  },
  {
   "cell_type": "code",
   "execution_count": 8,
   "metadata": {},
   "outputs": [],
   "source": [
    "# col_name <- names(files_32)\n",
    "# env_vars <- col_name\n",
    "# for (env in env_vars){\n",
    "#    print(paste(env, \"+\"))\n",
    "# }\n",
    "# env_vars"
   ]
  },
  {
   "cell_type": "markdown",
   "metadata": {},
   "source": [
    "### Logistic Regression"
   ]
  },
  {
   "cell_type": "code",
   "execution_count": null,
   "metadata": {},
   "outputs": [],
   "source": [
    "test_classification_pkg <- function (label, train, test) \n",
    "{\n",
    "    cat(\"-------------------\", label, \"-------------------\\n\")\n",
    "    model.glm <- glm((post>0) ~ \n",
    "                        pre +\n",
    "                        NOCU +\n",
    "                        NOT_total +\n",
    "                        NOT_max +\n",
    "                        NOT_avg +\n",
    "                        NOI_total +\n",
    "                        NOI_max +\n",
    "                        NOI_avg +\n",
    "                        TLOC_total +\n",
    "                        TLOC_max +\n",
    "                        TLOC_avg +\n",
    "                        ACD_total +\n",
    "                        ACD_max +\n",
    "                        ACD_avg +\n",
    "                        NSM_total +\n",
    "                        NSM_max +\n",
    "                        NSM_avg +\n",
    "                        NSF_total +\n",
    "                        NSF_max +\n",
    "                        NSF_avg +\n",
    "                        NOM_total +\n",
    "                        NOM_max +\n",
    "                        NOM_avg +\n",
    "                        NOF_total +\n",
    "                        NOF_max +\n",
    "                        NOF_avg +\n",
    "                        MLOC_total +\n",
    "                        NBD_total +\n",
    "                        PAR_total +\n",
    "                        VG_total +\n",
    "                        FOUT_total +\n",
    "                        MLOC_max +\n",
    "                        NBD_max +\n",
    "                        PAR_max +\n",
    "                        VG_max +\n",
    "                        FOUT_max +\n",
    "                        MLOC_avg +\n",
    "                        NBD_avg +\n",
    "                        PAR_avg +\n",
    "                        VG_avg +\n",
    "                        FOUT_avg\n",
    "                     \n",
    "                     , data=train, family = \"binomial\")\n",
    "    test.prob <- predict(model.glm, test, type=\"response\")\n",
    "    test.pred <- test.prob>=0.50\n",
    "\n",
    "    outcome <- table(factor(test$post>0, levels=c(F,T)), factor(test.pred, levels=c(F,T)))\n",
    "    TN <- outcome[1,1]\n",
    "    FN <- outcome[2,1]\n",
    "    FP <- outcome[1,2]\n",
    "    TP <- outcome[2,2]\n",
    "    precision <- if (TP + FP ==0) { 1 } else { TP / (TP + FP) }\n",
    "    recall <- TP / (TP + FN)\n",
    "    accuracy <- (TP + TN) / (TN + FN + FP + TP)\n",
    "    defects <- (TP + FN) / (TN + FN + FP + TP)\n",
    "    cat(\"defects, precision, recall, accuracy \\n\")\n",
    "    return (c(defects, precision, recall, accuracy))\n",
    "}\n",
    "\n",
    "cat(\"Logistic regression classification packageLevel. \\nx.y means that trained on x, predict on y\\n\\n\")\n",
    "test_classification_pkg(2.2, files_32, files_32)\n",
    "test_classification_pkg(2.4, files_32, files_34)\n",
    "test_classification_pkg(2.5, files_32, files_35)\n",
    "\n",
    "test_classification_pkg(4.2,files_34, files_32)\n",
    "test_classification_pkg(4.4,files_34, files_34)\n",
    "test_classification_pkg(4.5,files_34, files_35)\n",
    "\n",
    "test_classification_pkg(5.2,files_35, files_32)\n",
    "test_classification_pkg(5.3,files_35, files_34)\n",
    "test_classification_pkg(5.4,files_35, files_35)"
   ]
  },
  {
   "cell_type": "markdown",
   "metadata": {},
   "source": [
    "### RandomForest Classification"
   ]
  },
  {
   "cell_type": "code",
   "execution_count": 8,
   "metadata": {},
   "outputs": [
    {
     "name": "stdout",
     "output_type": "stream",
     "text": [
      "Random Forest classification packageLevel \n",
      "x.y means that trained on x, predict on y\n",
      "\n",
      "--------------- 2.2 ------------------- \n",
      "defects, precision, recall, accuracy, auc \n"
     ]
    },
    {
     "data": {
      "text/html": [
       "<ol class=list-inline>\n",
       "\t<li>0.545454545454545</li>\n",
       "\t<li>0.84</li>\n",
       "\t<li>0.875</li>\n",
       "\t<li>0.840909090909091</li>\n",
       "\t<li>1</li>\n",
       "</ol>\n"
      ],
      "text/latex": [
       "\\begin{enumerate*}\n",
       "\\item 0.545454545454545\n",
       "\\item 0.84\n",
       "\\item 0.875\n",
       "\\item 0.840909090909091\n",
       "\\item 1\n",
       "\\end{enumerate*}\n"
      ],
      "text/markdown": [
       "1. 0.545454545454545\n",
       "2. 0.84\n",
       "3. 0.875\n",
       "4. 0.840909090909091\n",
       "5. 1\n",
       "\n",
       "\n"
      ],
      "text/plain": [
       "[1] 0.5454545 0.8400000 0.8750000 0.8409091 1.0000000"
      ]
     },
     "metadata": {},
     "output_type": "display_data"
    },
    {
     "name": "stdout",
     "output_type": "stream",
     "text": [
      "--------------- 2.4 ------------------- \n",
      "defects, precision, recall, accuracy, auc \n"
     ]
    },
    {
     "data": {
      "text/html": [
       "<ol class=list-inline>\n",
       "\t<li>0.545454545454545</li>\n",
       "\t<li>0.833333333333333</li>\n",
       "\t<li>0.833333333333333</li>\n",
       "\t<li>0.818181818181818</li>\n",
       "\t<li>0.889978213507625</li>\n",
       "</ol>\n"
      ],
      "text/latex": [
       "\\begin{enumerate*}\n",
       "\\item 0.545454545454545\n",
       "\\item 0.833333333333333\n",
       "\\item 0.833333333333333\n",
       "\\item 0.818181818181818\n",
       "\\item 0.889978213507625\n",
       "\\end{enumerate*}\n"
      ],
      "text/markdown": [
       "1. 0.545454545454545\n",
       "2. 0.833333333333333\n",
       "3. 0.833333333333333\n",
       "4. 0.818181818181818\n",
       "5. 0.889978213507625\n",
       "\n",
       "\n"
      ],
      "text/plain": [
       "[1] 0.5454545 0.8333333 0.8333333 0.8181818 0.8899782"
      ]
     },
     "metadata": {},
     "output_type": "display_data"
    },
    {
     "name": "stdout",
     "output_type": "stream",
     "text": [
      "--------------- 2.5 ------------------- \n",
      "defects, precision, recall, accuracy, auc \n"
     ]
    },
    {
     "data": {
      "text/html": [
       "<ol class=list-inline>\n",
       "\t<li>0.545454545454545</li>\n",
       "\t<li>0.84</li>\n",
       "\t<li>0.875</li>\n",
       "\t<li>0.840909090909091</li>\n",
       "\t<li>0.865263157894737</li>\n",
       "</ol>\n"
      ],
      "text/latex": [
       "\\begin{enumerate*}\n",
       "\\item 0.545454545454545\n",
       "\\item 0.84\n",
       "\\item 0.875\n",
       "\\item 0.840909090909091\n",
       "\\item 0.865263157894737\n",
       "\\end{enumerate*}\n"
      ],
      "text/markdown": [
       "1. 0.545454545454545\n",
       "2. 0.84\n",
       "3. 0.875\n",
       "4. 0.840909090909091\n",
       "5. 0.865263157894737\n",
       "\n",
       "\n"
      ],
      "text/plain": [
       "[1] 0.5454545 0.8400000 0.8750000 0.8409091 0.8652632"
      ]
     },
     "metadata": {},
     "output_type": "display_data"
    },
    {
     "name": "stdout",
     "output_type": "stream",
     "text": [
      "--------------- 4.2 ------------------- \n",
      "defects, precision, recall, accuracy, auc \n"
     ]
    },
    {
     "data": {
      "text/html": [
       "<ol class=list-inline>\n",
       "\t<li>0.613636363636364</li>\n",
       "\t<li>0.78125</li>\n",
       "\t<li>0.925925925925926</li>\n",
       "\t<li>0.795454545454545</li>\n",
       "\t<li>0.923958333333333</li>\n",
       "</ol>\n"
      ],
      "text/latex": [
       "\\begin{enumerate*}\n",
       "\\item 0.613636363636364\n",
       "\\item 0.78125\n",
       "\\item 0.925925925925926\n",
       "\\item 0.795454545454545\n",
       "\\item 0.923958333333333\n",
       "\\end{enumerate*}\n"
      ],
      "text/markdown": [
       "1. 0.613636363636364\n",
       "2. 0.78125\n",
       "3. 0.925925925925926\n",
       "4. 0.795454545454545\n",
       "5. 0.923958333333333\n",
       "\n",
       "\n"
      ],
      "text/plain": [
       "[1] 0.6136364 0.7812500 0.9259259 0.7954545 0.9239583"
      ]
     },
     "metadata": {},
     "output_type": "display_data"
    },
    {
     "name": "stdout",
     "output_type": "stream",
     "text": [
      "--------------- 4.4 ------------------- \n",
      "defects, precision, recall, accuracy, auc \n"
     ]
    },
    {
     "data": {
      "text/html": [
       "<ol class=list-inline>\n",
       "\t<li>0.613636363636364</li>\n",
       "\t<li>0.814814814814815</li>\n",
       "\t<li>0.814814814814815</li>\n",
       "\t<li>0.772727272727273</li>\n",
       "\t<li>1</li>\n",
       "</ol>\n"
      ],
      "text/latex": [
       "\\begin{enumerate*}\n",
       "\\item 0.613636363636364\n",
       "\\item 0.814814814814815\n",
       "\\item 0.814814814814815\n",
       "\\item 0.772727272727273\n",
       "\\item 1\n",
       "\\end{enumerate*}\n"
      ],
      "text/markdown": [
       "1. 0.613636363636364\n",
       "2. 0.814814814814815\n",
       "3. 0.814814814814815\n",
       "4. 0.772727272727273\n",
       "5. 1\n",
       "\n",
       "\n"
      ],
      "text/plain": [
       "[1] 0.6136364 0.8148148 0.8148148 0.7727273 1.0000000"
      ]
     },
     "metadata": {},
     "output_type": "display_data"
    },
    {
     "name": "stdout",
     "output_type": "stream",
     "text": [
      "--------------- 4.5 ------------------- \n",
      "defects, precision, recall, accuracy, auc \n"
     ]
    },
    {
     "data": {
      "text/html": [
       "<ol class=list-inline>\n",
       "\t<li>0.613636363636364</li>\n",
       "\t<li>0.846153846153846</li>\n",
       "\t<li>0.814814814814815</li>\n",
       "\t<li>0.795454545454545</li>\n",
       "\t<li>0.854736842105263</li>\n",
       "</ol>\n"
      ],
      "text/latex": [
       "\\begin{enumerate*}\n",
       "\\item 0.613636363636364\n",
       "\\item 0.846153846153846\n",
       "\\item 0.814814814814815\n",
       "\\item 0.795454545454545\n",
       "\\item 0.854736842105263\n",
       "\\end{enumerate*}\n"
      ],
      "text/markdown": [
       "1. 0.613636363636364\n",
       "2. 0.846153846153846\n",
       "3. 0.814814814814815\n",
       "4. 0.795454545454545\n",
       "5. 0.854736842105263\n",
       "\n",
       "\n"
      ],
      "text/plain": [
       "[1] 0.6136364 0.8461538 0.8148148 0.7954545 0.8547368"
      ]
     },
     "metadata": {},
     "output_type": "display_data"
    },
    {
     "name": "stdout",
     "output_type": "stream",
     "text": [
      "--------------- 5.2 ------------------- \n",
      "defects, precision, recall, accuracy, auc \n"
     ]
    },
    {
     "data": {
      "text/html": [
       "<ol class=list-inline>\n",
       "\t<li>0.568181818181818</li>\n",
       "\t<li>0.68</li>\n",
       "\t<li>0.68</li>\n",
       "\t<li>0.636363636363636</li>\n",
       "\t<li>0.914583333333333</li>\n",
       "</ol>\n"
      ],
      "text/latex": [
       "\\begin{enumerate*}\n",
       "\\item 0.568181818181818\n",
       "\\item 0.68\n",
       "\\item 0.68\n",
       "\\item 0.636363636363636\n",
       "\\item 0.914583333333333\n",
       "\\end{enumerate*}\n"
      ],
      "text/markdown": [
       "1. 0.568181818181818\n",
       "2. 0.68\n",
       "3. 0.68\n",
       "4. 0.636363636363636\n",
       "5. 0.914583333333333\n",
       "\n",
       "\n"
      ],
      "text/plain": [
       "[1] 0.5681818 0.6800000 0.6800000 0.6363636 0.9145833"
      ]
     },
     "metadata": {},
     "output_type": "display_data"
    },
    {
     "name": "stdout",
     "output_type": "stream",
     "text": [
      "--------------- 5.4 ------------------- \n",
      "defects, precision, recall, accuracy, auc \n"
     ]
    },
    {
     "data": {
      "text/html": [
       "<ol class=list-inline>\n",
       "\t<li>0.568181818181818</li>\n",
       "\t<li>0.68</li>\n",
       "\t<li>0.68</li>\n",
       "\t<li>0.636363636363636</li>\n",
       "\t<li>0.901960784313726</li>\n",
       "</ol>\n"
      ],
      "text/latex": [
       "\\begin{enumerate*}\n",
       "\\item 0.568181818181818\n",
       "\\item 0.68\n",
       "\\item 0.68\n",
       "\\item 0.636363636363636\n",
       "\\item 0.901960784313726\n",
       "\\end{enumerate*}\n"
      ],
      "text/markdown": [
       "1. 0.568181818181818\n",
       "2. 0.68\n",
       "3. 0.68\n",
       "4. 0.636363636363636\n",
       "5. 0.901960784313726\n",
       "\n",
       "\n"
      ],
      "text/plain": [
       "[1] 0.5681818 0.6800000 0.6800000 0.6363636 0.9019608"
      ]
     },
     "metadata": {},
     "output_type": "display_data"
    },
    {
     "name": "stdout",
     "output_type": "stream",
     "text": [
      "--------------- 5.5 ------------------- \n",
      "defects, precision, recall, accuracy, auc \n"
     ]
    },
    {
     "data": {
      "text/html": [
       "<ol class=list-inline>\n",
       "\t<li>0.568181818181818</li>\n",
       "\t<li>0.791666666666667</li>\n",
       "\t<li>0.76</li>\n",
       "\t<li>0.75</li>\n",
       "\t<li>1</li>\n",
       "</ol>\n"
      ],
      "text/latex": [
       "\\begin{enumerate*}\n",
       "\\item 0.568181818181818\n",
       "\\item 0.791666666666667\n",
       "\\item 0.76\n",
       "\\item 0.75\n",
       "\\item 1\n",
       "\\end{enumerate*}\n"
      ],
      "text/markdown": [
       "1. 0.568181818181818\n",
       "2. 0.791666666666667\n",
       "3. 0.76\n",
       "4. 0.75\n",
       "5. 1\n",
       "\n",
       "\n"
      ],
      "text/plain": [
       "[1] 0.5681818 0.7916667 0.7600000 0.7500000 1.0000000"
      ]
     },
     "metadata": {},
     "output_type": "display_data"
    }
   ],
   "source": [
    "# Perform training:\n",
    "test_classification <- function (label, train, testSet, graph_name) {\n",
    "    cat(\"---------------\", label, \"-------------------\", \"\\n\")\n",
    "    rf_classifier2 = randomForest(as.factor(buggy) ~\n",
    "\n",
    "                                        pre +\n",
    "                                        NOCU +\n",
    "                                        NOT_total +\n",
    "                                        NOT_max +\n",
    "                                        NOT_avg +\n",
    "                                        NOI_total +\n",
    "                                        NOI_max +\n",
    "                                        NOI_avg +\n",
    "                                        TLOC_total +\n",
    "                                        TLOC_max +\n",
    "                                        TLOC_avg +\n",
    "                                        ACD_total +\n",
    "                                        ACD_max +\n",
    "                                        ACD_avg +\n",
    "                                        NSM_total +\n",
    "                                        NSM_max +\n",
    "                                        NSM_avg +\n",
    "                                        NSF_total +\n",
    "                                        NSF_max +\n",
    "                                        NSF_avg +\n",
    "                                        NOM_total +\n",
    "                                        NOM_max +\n",
    "                                        NOM_avg +\n",
    "                                        NOF_total +\n",
    "                                        NOF_max +\n",
    "                                        NOF_avg +\n",
    "                                        MLOC_total +\n",
    "                                        NBD_total +\n",
    "                                        PAR_total +\n",
    "                                        VG_total +\n",
    "                                        FOUT_total +\n",
    "                                        MLOC_max +\n",
    "                                        NBD_max +\n",
    "                                        PAR_max +\n",
    "                                        VG_max +\n",
    "                                        FOUT_max +\n",
    "                                        MLOC_avg +\n",
    "                                        NBD_avg +\n",
    "                                        PAR_avg +\n",
    "                                        VG_avg +\n",
    "                                        FOUT_avg\n",
    "\n",
    "                                  , data=train, ntree=100, mtry=2, importance=TRUE)\n",
    "    # because of the as.factor(...), randomforest can fit a classification model. \n",
    "#     print(rf_classifier2$confusion)\n",
    "    \n",
    "    TN <- rf_classifier2$confusion[1,1]\n",
    "    FN <- rf_classifier2$confusion[2,1]\n",
    "    FP <- rf_classifier2$confusion[1,2]\n",
    "    TP <- rf_classifier2$confusion[2,2]\n",
    "    precision <- if (TP + FP ==0) { 1 } else { TP / (TP + FP) }\n",
    "    recall <- TP / (TP + FN)\n",
    "    accuracy <- (TP + TN) / (TN + FN + FP + TP)\n",
    "    defects <- (TP + FN) / (TN + FN + FP + TP)\n",
    "    \n",
    "    # print(importance(rf_classifier2))\n",
    "    pdf(file=graph_name, width = 11, height = 8.5)\n",
    "    varImpPlot(rf_classifier2, main = label)\n",
    "    dev.off()\n",
    "\n",
    "    rf_p_train <- predict(rf_classifier2, type=\"prob\", newdata = testSet)[,2]\n",
    "    rf_pr_train <- prediction(rf_p_train, testSet$buggy)\n",
    "    r_auc_train <- performance(rf_pr_train, measure = \"auc\")@y.values[[1]] \n",
    "#     print(r_auc_train)\n",
    "#     cat(\"--------------------------------------\\n\\n\\n\\n\")\n",
    "    cat(\"defects, precision, recall, accuracy, auc \\n\")\n",
    "    return (c(defects, precision, recall, accuracy, r_auc_train))\n",
    "}\n",
    "\n",
    "cat(\"Random Forest classification packageLevel \\nx.y means that trained on x, predict on y\\n\\n\")\n",
    "test_classification(2.2, files_32, files_32, \"RF_2.2_pkgLevel.pdf\")\n",
    "test_classification(2.4, files_32, files_34, \"RF_2.4_pkgLevel.pdf\")\n",
    "test_classification(2.5, files_32, files_35, \"RF_2.5_pkgLevel.pdf\")\n",
    "\n",
    "test_classification(4.2, files_34, files_32, \"RF_4.2_pkgLevel.pdf\")\n",
    "test_classification(4.4, files_34, files_34, \"RF_4.4_pkgLevel.pdf\")\n",
    "test_classification(4.5, files_34, files_35, \"RF_4.5_pkgLevel.pdf\")\n",
    "\n",
    "test_classification(5.2, files_35, files_32, \"RF_5.2_pkgLevel.pdf\")\n",
    "test_classification(5.4, files_35, files_34, \"RF_5.4_pkgLevel.pdf\")\n",
    "test_classification(5.5, files_35, files_35, \"RF_5.5_pkgLevel.pdf\")"
   ]
  },
  {
   "cell_type": "markdown",
   "metadata": {},
   "source": [
    "### XGBoost Classification"
   ]
  },
  {
   "cell_type": "code",
   "execution_count": 10,
   "metadata": {},
   "outputs": [
    {
     "name": "stdout",
     "output_type": "stream",
     "text": [
      "XGBoost classification packageLevel \n",
      "x.y means that trained on x, predict on y\n",
      "\n",
      "--------------- 2.2 ------------------- \n",
      "defects, precision, recall, accuracy \n"
     ]
    },
    {
     "data": {
      "text/html": [
       "<ol class=list-inline>\n",
       "\t<li>0.545454545454545</li>\n",
       "\t<li>1</li>\n",
       "\t<li>1</li>\n",
       "\t<li>1</li>\n",
       "</ol>\n"
      ],
      "text/latex": [
       "\\begin{enumerate*}\n",
       "\\item 0.545454545454545\n",
       "\\item 1\n",
       "\\item 1\n",
       "\\item 1\n",
       "\\end{enumerate*}\n"
      ],
      "text/markdown": [
       "1. 0.545454545454545\n",
       "2. 1\n",
       "3. 1\n",
       "4. 1\n",
       "\n",
       "\n"
      ],
      "text/plain": [
       "[1] 0.5454545 1.0000000 1.0000000 1.0000000"
      ]
     },
     "metadata": {},
     "output_type": "display_data"
    },
    {
     "name": "stdout",
     "output_type": "stream",
     "text": [
      "--------------- 2.4 ------------------- \n",
      "defects, precision, recall, accuracy \n"
     ]
    },
    {
     "data": {
      "text/html": [
       "<ol class=list-inline>\n",
       "\t<li>0.613636363636364</li>\n",
       "\t<li>0.875</li>\n",
       "\t<li>0.777777777777778</li>\n",
       "\t<li>0.795454545454545</li>\n",
       "</ol>\n"
      ],
      "text/latex": [
       "\\begin{enumerate*}\n",
       "\\item 0.613636363636364\n",
       "\\item 0.875\n",
       "\\item 0.777777777777778\n",
       "\\item 0.795454545454545\n",
       "\\end{enumerate*}\n"
      ],
      "text/markdown": [
       "1. 0.613636363636364\n",
       "2. 0.875\n",
       "3. 0.777777777777778\n",
       "4. 0.795454545454545\n",
       "\n",
       "\n"
      ],
      "text/plain": [
       "[1] 0.6136364 0.8750000 0.7777778 0.7954545"
      ]
     },
     "metadata": {},
     "output_type": "display_data"
    },
    {
     "name": "stdout",
     "output_type": "stream",
     "text": [
      "--------------- 2.5 ------------------- \n",
      "defects, precision, recall, accuracy \n"
     ]
    },
    {
     "data": {
      "text/html": [
       "<ol class=list-inline>\n",
       "\t<li>0.568181818181818</li>\n",
       "\t<li>0.833333333333333</li>\n",
       "\t<li>0.8</li>\n",
       "\t<li>0.795454545454545</li>\n",
       "</ol>\n"
      ],
      "text/latex": [
       "\\begin{enumerate*}\n",
       "\\item 0.568181818181818\n",
       "\\item 0.833333333333333\n",
       "\\item 0.8\n",
       "\\item 0.795454545454545\n",
       "\\end{enumerate*}\n"
      ],
      "text/markdown": [
       "1. 0.568181818181818\n",
       "2. 0.833333333333333\n",
       "3. 0.8\n",
       "4. 0.795454545454545\n",
       "\n",
       "\n"
      ],
      "text/plain": [
       "[1] 0.5681818 0.8333333 0.8000000 0.7954545"
      ]
     },
     "metadata": {},
     "output_type": "display_data"
    },
    {
     "name": "stdout",
     "output_type": "stream",
     "text": [
      "--------------- 4.2 ------------------- \n",
      "defects, precision, recall, accuracy \n"
     ]
    },
    {
     "data": {
      "text/html": [
       "<ol class=list-inline>\n",
       "\t<li>0.545454545454545</li>\n",
       "\t<li>0.777777777777778</li>\n",
       "\t<li>0.875</li>\n",
       "\t<li>0.795454545454545</li>\n",
       "</ol>\n"
      ],
      "text/latex": [
       "\\begin{enumerate*}\n",
       "\\item 0.545454545454545\n",
       "\\item 0.777777777777778\n",
       "\\item 0.875\n",
       "\\item 0.795454545454545\n",
       "\\end{enumerate*}\n"
      ],
      "text/markdown": [
       "1. 0.545454545454545\n",
       "2. 0.777777777777778\n",
       "3. 0.875\n",
       "4. 0.795454545454545\n",
       "\n",
       "\n"
      ],
      "text/plain": [
       "[1] 0.5454545 0.7777778 0.8750000 0.7954545"
      ]
     },
     "metadata": {},
     "output_type": "display_data"
    },
    {
     "name": "stdout",
     "output_type": "stream",
     "text": [
      "--------------- 4.4 ------------------- \n",
      "defects, precision, recall, accuracy \n"
     ]
    },
    {
     "data": {
      "text/html": [
       "<ol class=list-inline>\n",
       "\t<li>0.613636363636364</li>\n",
       "\t<li>1</li>\n",
       "\t<li>1</li>\n",
       "\t<li>1</li>\n",
       "</ol>\n"
      ],
      "text/latex": [
       "\\begin{enumerate*}\n",
       "\\item 0.613636363636364\n",
       "\\item 1\n",
       "\\item 1\n",
       "\\item 1\n",
       "\\end{enumerate*}\n"
      ],
      "text/markdown": [
       "1. 0.613636363636364\n",
       "2. 1\n",
       "3. 1\n",
       "4. 1\n",
       "\n",
       "\n"
      ],
      "text/plain": [
       "[1] 0.6136364 1.0000000 1.0000000 1.0000000"
      ]
     },
     "metadata": {},
     "output_type": "display_data"
    },
    {
     "name": "stdout",
     "output_type": "stream",
     "text": [
      "--------------- 4.5 ------------------- \n",
      "defects, precision, recall, accuracy \n"
     ]
    },
    {
     "data": {
      "text/html": [
       "<ol class=list-inline>\n",
       "\t<li>0.568181818181818</li>\n",
       "\t<li>0.777777777777778</li>\n",
       "\t<li>0.84</li>\n",
       "\t<li>0.772727272727273</li>\n",
       "</ol>\n"
      ],
      "text/latex": [
       "\\begin{enumerate*}\n",
       "\\item 0.568181818181818\n",
       "\\item 0.777777777777778\n",
       "\\item 0.84\n",
       "\\item 0.772727272727273\n",
       "\\end{enumerate*}\n"
      ],
      "text/markdown": [
       "1. 0.568181818181818\n",
       "2. 0.777777777777778\n",
       "3. 0.84\n",
       "4. 0.772727272727273\n",
       "\n",
       "\n"
      ],
      "text/plain": [
       "[1] 0.5681818 0.7777778 0.8400000 0.7727273"
      ]
     },
     "metadata": {},
     "output_type": "display_data"
    },
    {
     "name": "stdout",
     "output_type": "stream",
     "text": [
      "--------------- 5.2 ------------------- \n",
      "defects, precision, recall, accuracy \n"
     ]
    },
    {
     "data": {
      "text/html": [
       "<ol class=list-inline>\n",
       "\t<li>0.545454545454545</li>\n",
       "\t<li>0.8</li>\n",
       "\t<li>0.833333333333333</li>\n",
       "\t<li>0.795454545454545</li>\n",
       "</ol>\n"
      ],
      "text/latex": [
       "\\begin{enumerate*}\n",
       "\\item 0.545454545454545\n",
       "\\item 0.8\n",
       "\\item 0.833333333333333\n",
       "\\item 0.795454545454545\n",
       "\\end{enumerate*}\n"
      ],
      "text/markdown": [
       "1. 0.545454545454545\n",
       "2. 0.8\n",
       "3. 0.833333333333333\n",
       "4. 0.795454545454545\n",
       "\n",
       "\n"
      ],
      "text/plain": [
       "[1] 0.5454545 0.8000000 0.8333333 0.7954545"
      ]
     },
     "metadata": {},
     "output_type": "display_data"
    },
    {
     "name": "stdout",
     "output_type": "stream",
     "text": [
      "--------------- 5.4 ------------------- \n",
      "defects, precision, recall, accuracy \n"
     ]
    },
    {
     "data": {
      "text/html": [
       "<ol class=list-inline>\n",
       "\t<li>0.613636363636364</li>\n",
       "\t<li>0.84</li>\n",
       "\t<li>0.777777777777778</li>\n",
       "\t<li>0.772727272727273</li>\n",
       "</ol>\n"
      ],
      "text/latex": [
       "\\begin{enumerate*}\n",
       "\\item 0.613636363636364\n",
       "\\item 0.84\n",
       "\\item 0.777777777777778\n",
       "\\item 0.772727272727273\n",
       "\\end{enumerate*}\n"
      ],
      "text/markdown": [
       "1. 0.613636363636364\n",
       "2. 0.84\n",
       "3. 0.777777777777778\n",
       "4. 0.772727272727273\n",
       "\n",
       "\n"
      ],
      "text/plain": [
       "[1] 0.6136364 0.8400000 0.7777778 0.7727273"
      ]
     },
     "metadata": {},
     "output_type": "display_data"
    },
    {
     "name": "stdout",
     "output_type": "stream",
     "text": [
      "--------------- 5.5 ------------------- \n",
      "defects, precision, recall, accuracy \n"
     ]
    },
    {
     "data": {
      "text/html": [
       "<ol class=list-inline>\n",
       "\t<li>0.568181818181818</li>\n",
       "\t<li>1</li>\n",
       "\t<li>1</li>\n",
       "\t<li>1</li>\n",
       "</ol>\n"
      ],
      "text/latex": [
       "\\begin{enumerate*}\n",
       "\\item 0.568181818181818\n",
       "\\item 1\n",
       "\\item 1\n",
       "\\item 1\n",
       "\\end{enumerate*}\n"
      ],
      "text/markdown": [
       "1. 0.568181818181818\n",
       "2. 1\n",
       "3. 1\n",
       "4. 1\n",
       "\n",
       "\n"
      ],
      "text/plain": [
       "[1] 0.5681818 1.0000000 1.0000000 1.0000000"
      ]
     },
     "metadata": {},
     "output_type": "display_data"
    }
   ],
   "source": [
    "test_classification_xgb <- function (label, train, test, graph_name) {\n",
    "    cat(\"---------------\", label, \"-------------------\", \"\\n\")\n",
    "    \n",
    "    setDT(train)\n",
    "    setDT(test)\n",
    "    \n",
    "    labels <- train$buggy\n",
    "    ts_label <- test$buggy\n",
    "    new_tr <- model.matrix(~.+0,data = train[,-c(\"buggy\", \"post\", \"plugin\", \"package\"),with=F])\n",
    "    new_ts <- model.matrix(~.+0,data = test[,-c(\"buggy\", \"post\", \"plugin\", \"package\"),with=F])\n",
    "    labels <- as.numeric(labels) #-1\n",
    "    ts_label <- as.numeric(ts_label) #-1\n",
    "    dtrain <- xgb.DMatrix(data = new_tr, label = labels)\n",
    "    dtest <- xgb.DMatrix(data = new_ts,label=ts_label)\n",
    "\n",
    "    params <- list(\n",
    "            booster = \"gbtree\",\n",
    "            objective = \"binary:logistic\",\n",
    "            eta=0.3,\n",
    "            gamma=0,\n",
    "            max_depth=6,\n",
    "            min_child_weight=1,\n",
    "            subsample=1,\n",
    "            colsample_bytree=1\n",
    "    )\n",
    "\n",
    "#     xgbcv <- xgb.cv(params = params\n",
    "#                     ,data = dtrain\n",
    "#                     ,nrounds = 1000\n",
    "#                     ,nfold = 5\n",
    "#                     ,showsd = T\n",
    "#                     ,stratified = T\n",
    "#                     ,print.every.n = 10\n",
    "#                     ,early.stop.round = 20\n",
    "#                     ,maximize = F\n",
    "#     )\n",
    "\n",
    "    xgb1 <- xgb.train(\n",
    "               params = params\n",
    "              ,data = dtrain\n",
    "              ,nrounds = 57\n",
    "              ,watchlist = list(val=dtest,train=dtrain)\n",
    "              ,print.every.n = 10\n",
    "              ,early.stop.round = 10\n",
    "              ,maximize = F\n",
    "              ,eval_metric = \"error\"\n",
    "                ,verbose = 0\n",
    "    )\n",
    "\n",
    "    xgbpred <- predict(xgb1,dtest)\n",
    "    xgbpred <- ifelse(xgbpred > 0.5,1,0)\n",
    "    xgbpred[xgbpred == 1] <- TRUE\n",
    "    \n",
    "    cm <- confusionMatrix(factor(xgbpred), factor(ts_label))\n",
    "#     print(cm$table)\n",
    "    \n",
    "    TN <- as.numeric(cm$table[1])\n",
    "    FN <- as.numeric(cm$table[3])\n",
    "    FP <- as.numeric(cm$table[2])\n",
    "    TP <- as.numeric(cm$table[4])\n",
    "    precision <- if (TP + FP ==0) { 1 } else { TP / (TP + FP) }\n",
    "    recall <- TP / (TP + FN)\n",
    "    accuracy <- (TP + TN) / (TN + FN + FP + TP)\n",
    "    defects <- (TP + FN) / (TN + FN + FP + TP)\n",
    "\n",
    "    pdf(file=graph_name, width = 11, height = 8.5)\n",
    "    mat <- xgb.importance(feature_names = colnames(new_tr),model = xgb1)\n",
    "    xgb.plot.importance(importance_matrix = mat[1:20]) #first 20 variables\n",
    "    dev.off()\n",
    "    \n",
    "    cat(\"defects, precision, recall, accuracy \\n\")\n",
    "    return (c(defects, precision, recall, accuracy))\n",
    "}\n",
    "\n",
    "cat(\"XGBoost classification packageLevel \\nx.y means that trained on x, predict on y\\n\\n\")\n",
    "test_classification_xgb(2.2, files_32, files_32, \"XGB_2.2_packageLevel.pdf\")\n",
    "test_classification_xgb(2.4, files_32, files_34, \"XGB_2.4_packageLevel.pdf\")\n",
    "test_classification_xgb(2.5, files_32, files_35, \"XGB_2.5_packageLevel.pdf\")\n",
    "\n",
    "test_classification_xgb(4.2, files_34, files_32, \"XGB_4.2_packageLevel.pdf\")\n",
    "test_classification_xgb(4.4, files_34, files_34, \"XGB_4.4_packageLevel.pdf\")\n",
    "test_classification_xgb(4.5, files_34, files_35, \"XGB_4.5_packageLevel.pdf\")\n",
    "\n",
    "test_classification_xgb(5.2, files_35, files_32, \"XGB_5.2_packageLevel.pdf\")\n",
    "test_classification_xgb(5.4, files_35, files_34, \"XGB_5.4_packageLevel.pdf\")\n",
    "test_classification_xgb(5.5, files_35, files_35, \"XGB_5.5_packageLevel.pdf\")"
   ]
  }
 ],
 "metadata": {
  "kernelspec": {
   "display_name": "R",
   "language": "R",
   "name": "ir"
  },
  "language_info": {
   "codemirror_mode": "r",
   "file_extension": ".r",
   "mimetype": "text/x-r-source",
   "name": "R",
   "pygments_lexer": "r",
   "version": "3.5.1"
  }
 },
 "nbformat": 4,
 "nbformat_minor": 2
}
