{
 "cells": [
  {
   "cell_type": "markdown",
   "metadata": {},
   "source": [
    "### Records:\n",
    "* trained on only one version.\n",
    "* trained on package level. I guess the file level is much more imbalanced. "
   ]
  },
  {
   "cell_type": "code",
   "execution_count": 2,
   "metadata": {},
   "outputs": [],
   "source": [
    "options(warn=-1)"
   ]
  },
  {
   "cell_type": "code",
   "execution_count": 6,
   "metadata": {},
   "outputs": [
    {
     "data": {
      "text/html": [
       "633"
      ],
      "text/latex": [
       "633"
      ],
      "text/markdown": [
       "633"
      ],
      "text/plain": [
       "[1] 633"
      ]
     },
     "metadata": {},
     "output_type": "display_data"
    }
   ],
   "source": [
    "library(rms)\n",
    "files32 <- read.table(\"../org.eclipse.jdt.core_3.2/dataset-_3.2-filelevel.csv\", header=T, , sep=\",\")\n",
    "files32 <- na.omit(files32)\n",
    "nrow(files301)"
   ]
  },
  {
   "cell_type": "code",
   "execution_count": 7,
   "metadata": {},
   "outputs": [
    {
     "data": {
      "text/html": [
       "<table>\n",
       "<thead><tr><th scope=col>plugin</th><th scope=col>package</th><th scope=col>NOF_num</th><th scope=col>NOF_total</th><th scope=col>NSF_num</th><th scope=col>NSF_total</th><th scope=col>NOM_num</th><th scope=col>NOM_total</th><th scope=col>NSM_num</th><th scope=col>NSM_total</th><th scope=col>...</th><th scope=col>num_of_bug</th><th scope=col>NOF_max</th><th scope=col>NSF_max</th><th scope=col>NOM_max</th><th scope=col>NSM_max</th><th scope=col>buggy</th><th scope=col>NOF_avg</th><th scope=col>NSF_avg</th><th scope=col>NOM_avg</th><th scope=col>NSM_avg</th></tr></thead>\n",
       "<tbody>\n",
       "\t<tr><td>org.apache.lucene                                  </td><td>org.apache.lucene.demo.html                        </td><td>12                                                 </td><td>85                                                 </td><td>12                                                 </td><td>18                                                 </td><td>12                                                 </td><td>113                                                </td><td>12                                                 </td><td>8                                                  </td><td>...                                                </td><td>0                                                  </td><td>41                                                 </td><td> 8                                                 </td><td>52                                                 </td><td>3                                                  </td><td>False                                              </td><td>7.083333                                           </td><td>1.5000000                                          </td><td> 9.416667                                          </td><td>0.6666667                                          </td></tr>\n",
       "\t<tr><td>org.eclipse.ant.core                               </td><td>org.eclipse.ant.core                               </td><td> 9                                                 </td><td>44                                                 </td><td> 9                                                 </td><td>19                                                 </td><td> 9                                                 </td><td>135                                                </td><td> 9                                                 </td><td>3                                                  </td><td>...                                                </td><td>0                                                  </td><td>18                                                 </td><td>18                                                 </td><td>78                                                 </td><td>2                                                  </td><td>False                                              </td><td>4.888889                                           </td><td>2.1111111                                          </td><td>15.000000                                          </td><td>0.3333333                                          </td></tr>\n",
       "\t<tr><td>org.eclipse.ant.core                               </td><td>org.eclipse.ant.internal.core                      </td><td> 5                                                 </td><td>11                                                 </td><td> 5                                                 </td><td> 3                                                 </td><td> 5                                                 </td><td> 25                                                </td><td> 5                                                 </td><td>1                                                  </td><td>...                                                </td><td>0                                                  </td><td> 6                                                 </td><td> 2                                                 </td><td>13                                                 </td><td>1                                                  </td><td>False                                              </td><td>2.200000                                           </td><td>0.6000000                                          </td><td> 5.000000                                          </td><td>0.2000000                                          </td></tr>\n",
       "\t<tr><td>org.eclipse.ant.core                               </td><td>org.eclipse.ant.internal.core.ant                  </td><td> 9                                                 </td><td>38                                                 </td><td> 9                                                 </td><td> 2                                                 </td><td> 9                                                 </td><td>128                                                </td><td> 9                                                 </td><td>1                                                  </td><td>...                                                </td><td>0                                                  </td><td>24                                                 </td><td> 2                                                 </td><td>58                                                 </td><td>1                                                  </td><td>False                                              </td><td>4.222222                                           </td><td>0.2222222                                          </td><td>14.222222                                          </td><td>0.1111111                                          </td></tr>\n",
       "\t<tr><td>org.eclipse.ant.ui                                 </td><td>org.eclipse.ant.internal.ui.antsupport             </td><td> 7                                                 </td><td>23                                                 </td><td> 7                                                 </td><td> 5                                                 </td><td> 7                                                 </td><td> 74                                                </td><td> 7                                                 </td><td>4                                                  </td><td>...                                                </td><td>0                                                  </td><td>22                                                 </td><td> 2                                                 </td><td>38                                                 </td><td>2                                                  </td><td>False                                              </td><td>3.285714                                           </td><td>0.7142857                                          </td><td>10.571429                                          </td><td>0.5714286                                          </td></tr>\n",
       "\t<tr><td>org.eclipse.ant.ui                                 </td><td>org.eclipse.ant.internal.ui.antsupport.inputhandler</td><td> 1                                                 </td><td> 0                                                 </td><td> 1                                                 </td><td> 0                                                 </td><td> 1                                                 </td><td>  4                                                </td><td> 1                                                 </td><td>0                                                  </td><td>...                                                </td><td>0                                                  </td><td> 0                                                 </td><td> 0                                                 </td><td> 4                                                 </td><td>0                                                  </td><td>False                                              </td><td>0.000000                                           </td><td>0.0000000                                          </td><td> 4.000000                                          </td><td>0.0000000                                          </td></tr>\n",
       "</tbody>\n",
       "</table>\n"
      ],
      "text/latex": [
       "\\begin{tabular}{r|lllllllllllllllllllllll}\n",
       " plugin & package & NOF\\_num & NOF\\_total & NSF\\_num & NSF\\_total & NOM\\_num & NOM\\_total & NSM\\_num & NSM\\_total & ... & num\\_of\\_bug & NOF\\_max & NSF\\_max & NOM\\_max & NSM\\_max & buggy & NOF\\_avg & NSF\\_avg & NOM\\_avg & NSM\\_avg\\\\\n",
       "\\hline\n",
       "\t org.apache.lucene                                   & org.apache.lucene.demo.html                         & 12                                                  & 85                                                  & 12                                                  & 18                                                  & 12                                                  & 113                                                 & 12                                                  & 8                                                   & ...                                                 & 0                                                   & 41                                                  &  8                                                  & 52                                                  & 3                                                   & False                                               & 7.083333                                            & 1.5000000                                           &  9.416667                                           & 0.6666667                                          \\\\\n",
       "\t org.eclipse.ant.core                                & org.eclipse.ant.core                                &  9                                                  & 44                                                  &  9                                                  & 19                                                  &  9                                                  & 135                                                 &  9                                                  & 3                                                   & ...                                                 & 0                                                   & 18                                                  & 18                                                  & 78                                                  & 2                                                   & False                                               & 4.888889                                            & 2.1111111                                           & 15.000000                                           & 0.3333333                                          \\\\\n",
       "\t org.eclipse.ant.core                                & org.eclipse.ant.internal.core                       &  5                                                  & 11                                                  &  5                                                  &  3                                                  &  5                                                  &  25                                                 &  5                                                  & 1                                                   & ...                                                 & 0                                                   &  6                                                  &  2                                                  & 13                                                  & 1                                                   & False                                               & 2.200000                                            & 0.6000000                                           &  5.000000                                           & 0.2000000                                          \\\\\n",
       "\t org.eclipse.ant.core                                & org.eclipse.ant.internal.core.ant                   &  9                                                  & 38                                                  &  9                                                  &  2                                                  &  9                                                  & 128                                                 &  9                                                  & 1                                                   & ...                                                 & 0                                                   & 24                                                  &  2                                                  & 58                                                  & 1                                                   & False                                               & 4.222222                                            & 0.2222222                                           & 14.222222                                           & 0.1111111                                          \\\\\n",
       "\t org.eclipse.ant.ui                                  & org.eclipse.ant.internal.ui.antsupport              &  7                                                  & 23                                                  &  7                                                  &  5                                                  &  7                                                  &  74                                                 &  7                                                  & 4                                                   & ...                                                 & 0                                                   & 22                                                  &  2                                                  & 38                                                  & 2                                                   & False                                               & 3.285714                                            & 0.7142857                                           & 10.571429                                           & 0.5714286                                          \\\\\n",
       "\t org.eclipse.ant.ui                                  & org.eclipse.ant.internal.ui.antsupport.inputhandler &  1                                                  &  0                                                  &  1                                                  &  0                                                  &  1                                                  &   4                                                 &  1                                                  & 0                                                   & ...                                                 & 0                                                   &  0                                                  &  0                                                  &  4                                                  & 0                                                   & False                                               & 0.000000                                            & 0.0000000                                           &  4.000000                                           & 0.0000000                                          \\\\\n",
       "\\end{tabular}\n"
      ],
      "text/markdown": [
       "\n",
       "| plugin | package | NOF_num | NOF_total | NSF_num | NSF_total | NOM_num | NOM_total | NSM_num | NSM_total | ... | num_of_bug | NOF_max | NSF_max | NOM_max | NSM_max | buggy | NOF_avg | NSF_avg | NOM_avg | NSM_avg |\n",
       "|---|---|---|---|---|---|---|---|---|---|---|---|---|---|---|---|---|---|---|---|---|\n",
       "| org.apache.lucene                                   | org.apache.lucene.demo.html                         | 12                                                  | 85                                                  | 12                                                  | 18                                                  | 12                                                  | 113                                                 | 12                                                  | 8                                                   | ...                                                 | 0                                                   | 41                                                  |  8                                                  | 52                                                  | 3                                                   | False                                               | 7.083333                                            | 1.5000000                                           |  9.416667                                           | 0.6666667                                           |\n",
       "| org.eclipse.ant.core                                | org.eclipse.ant.core                                |  9                                                  | 44                                                  |  9                                                  | 19                                                  |  9                                                  | 135                                                 |  9                                                  | 3                                                   | ...                                                 | 0                                                   | 18                                                  | 18                                                  | 78                                                  | 2                                                   | False                                               | 4.888889                                            | 2.1111111                                           | 15.000000                                           | 0.3333333                                           |\n",
       "| org.eclipse.ant.core                                | org.eclipse.ant.internal.core                       |  5                                                  | 11                                                  |  5                                                  |  3                                                  |  5                                                  |  25                                                 |  5                                                  | 1                                                   | ...                                                 | 0                                                   |  6                                                  |  2                                                  | 13                                                  | 1                                                   | False                                               | 2.200000                                            | 0.6000000                                           |  5.000000                                           | 0.2000000                                           |\n",
       "| org.eclipse.ant.core                                | org.eclipse.ant.internal.core.ant                   |  9                                                  | 38                                                  |  9                                                  |  2                                                  |  9                                                  | 128                                                 |  9                                                  | 1                                                   | ...                                                 | 0                                                   | 24                                                  |  2                                                  | 58                                                  | 1                                                   | False                                               | 4.222222                                            | 0.2222222                                           | 14.222222                                           | 0.1111111                                           |\n",
       "| org.eclipse.ant.ui                                  | org.eclipse.ant.internal.ui.antsupport              |  7                                                  | 23                                                  |  7                                                  |  5                                                  |  7                                                  |  74                                                 |  7                                                  | 4                                                   | ...                                                 | 0                                                   | 22                                                  |  2                                                  | 38                                                  | 2                                                   | False                                               | 3.285714                                            | 0.7142857                                           | 10.571429                                           | 0.5714286                                           |\n",
       "| org.eclipse.ant.ui                                  | org.eclipse.ant.internal.ui.antsupport.inputhandler |  1                                                  |  0                                                  |  1                                                  |  0                                                  |  1                                                  |   4                                                 |  1                                                  | 0                                                   | ...                                                 | 0                                                   |  0                                                  |  0                                                  |  4                                                  | 0                                                   | False                                               | 0.000000                                            | 0.0000000                                           |  4.000000                                           | 0.0000000                                           |\n",
       "\n"
      ],
      "text/plain": [
       "  plugin               package                                            \n",
       "1 org.apache.lucene    org.apache.lucene.demo.html                        \n",
       "2 org.eclipse.ant.core org.eclipse.ant.core                               \n",
       "3 org.eclipse.ant.core org.eclipse.ant.internal.core                      \n",
       "4 org.eclipse.ant.core org.eclipse.ant.internal.core.ant                  \n",
       "5 org.eclipse.ant.ui   org.eclipse.ant.internal.ui.antsupport             \n",
       "6 org.eclipse.ant.ui   org.eclipse.ant.internal.ui.antsupport.inputhandler\n",
       "  NOF_num NOF_total NSF_num NSF_total NOM_num NOM_total NSM_num NSM_total ...\n",
       "1 12      85        12      18        12      113       12      8         ...\n",
       "2  9      44         9      19         9      135        9      3         ...\n",
       "3  5      11         5       3         5       25        5      1         ...\n",
       "4  9      38         9       2         9      128        9      1         ...\n",
       "5  7      23         7       5         7       74        7      4         ...\n",
       "6  1       0         1       0         1        4        1      0         ...\n",
       "  num_of_bug NOF_max NSF_max NOM_max NSM_max buggy NOF_avg  NSF_avg   NOM_avg  \n",
       "1 0          41       8      52      3       False 7.083333 1.5000000  9.416667\n",
       "2 0          18      18      78      2       False 4.888889 2.1111111 15.000000\n",
       "3 0           6       2      13      1       False 2.200000 0.6000000  5.000000\n",
       "4 0          24       2      58      1       False 4.222222 0.2222222 14.222222\n",
       "5 0          22       2      38      2       False 3.285714 0.7142857 10.571429\n",
       "6 0           0       0       4      0       False 0.000000 0.0000000  4.000000\n",
       "  NSM_avg  \n",
       "1 0.6666667\n",
       "2 0.3333333\n",
       "3 0.2000000\n",
       "4 0.1111111\n",
       "5 0.5714286\n",
       "6 0.0000000"
      ]
     },
     "metadata": {},
     "output_type": "display_data"
    }
   ],
   "source": [
    "head(files301)"
   ]
  },
  {
   "cell_type": "code",
   "execution_count": 8,
   "metadata": {},
   "outputs": [],
   "source": [
    "col_name <- names(files301)\n",
    "env_vars <- col_name"
   ]
  },
  {
   "cell_type": "code",
   "execution_count": 9,
   "metadata": {},
   "outputs": [
    {
     "name": "stdout",
     "output_type": "stream",
     "text": [
      "[1] \"NOF_num +\"\n",
      "[1] \"NOF_total +\"\n",
      "[1] \"NSF_num +\"\n",
      "[1] \"NSF_total +\"\n",
      "[1] \"NOM_num +\"\n",
      "[1] \"NOM_total +\"\n",
      "[1] \"NSM_num +\"\n",
      "[1] \"NSM_total +\"\n",
      "[1] \"NOI +\"\n",
      "[1] \"NOT +\"\n",
      "[1] \"TLOC +\"\n",
      "[1] \"NOF_max +\"\n",
      "[1] \"NSF_max +\"\n",
      "[1] \"NOM_max +\"\n",
      "[1] \"NSM_max +\"\n",
      "[1] \"NOF_avg +\"\n",
      "[1] \"NSF_avg +\"\n",
      "[1] \"NOM_avg +\"\n",
      "[1] \"NSM_avg +\"\n"
     ]
    },
    {
     "data": {
      "text/html": [
       "<table>\n",
       "<thead><tr><th scope=col>NOF_num</th><th scope=col>NOF_total</th><th scope=col>NSF_num</th><th scope=col>NSF_total</th><th scope=col>NOM_num</th><th scope=col>NOM_total</th><th scope=col>NSM_num</th><th scope=col>NSM_total</th><th scope=col>NOI</th><th scope=col>NOT</th><th scope=col>TLOC</th><th scope=col>NOF_max</th><th scope=col>NSF_max</th><th scope=col>NOM_max</th><th scope=col>NSM_max</th><th scope=col>NOF_avg</th><th scope=col>NSF_avg</th><th scope=col>NOM_avg</th><th scope=col>NSM_avg</th></tr></thead>\n",
       "<tbody>\n",
       "\t<tr><td>12       </td><td>85       </td><td>12       </td><td>18       </td><td>12       </td><td>113      </td><td>12       </td><td>8        </td><td>1        </td><td>12       </td><td>3899     </td><td>41       </td><td> 8       </td><td>52       </td><td>3        </td><td>7.083333 </td><td>1.5000000</td><td> 9.416667</td><td>0.6666667</td></tr>\n",
       "\t<tr><td> 9       </td><td>44       </td><td> 9       </td><td>19       </td><td> 9       </td><td>135      </td><td> 9       </td><td>3        </td><td>2        </td><td> 9       </td><td>2858     </td><td>18       </td><td>18       </td><td>78       </td><td>2        </td><td>4.888889 </td><td>2.1111111</td><td>15.000000</td><td>0.3333333</td></tr>\n",
       "\t<tr><td> 5       </td><td>11       </td><td> 5       </td><td> 3       </td><td> 5       </td><td> 25      </td><td> 5       </td><td>1        </td><td>1        </td><td> 5       </td><td> 467     </td><td> 6       </td><td> 2       </td><td>13       </td><td>1        </td><td>2.200000 </td><td>0.6000000</td><td> 5.000000</td><td>0.2000000</td></tr>\n",
       "\t<tr><td> 9       </td><td>38       </td><td> 9       </td><td> 2       </td><td> 9       </td><td>128      </td><td> 9       </td><td>1        </td><td>0        </td><td> 9       </td><td>2471     </td><td>24       </td><td> 2       </td><td>58       </td><td>1        </td><td>4.222222 </td><td>0.2222222</td><td>14.222222</td><td>0.1111111</td></tr>\n",
       "\t<tr><td> 7       </td><td>23       </td><td> 7       </td><td> 5       </td><td> 7       </td><td> 74      </td><td> 7       </td><td>4        </td><td>0        </td><td> 7       </td><td>1698     </td><td>22       </td><td> 2       </td><td>38       </td><td>2        </td><td>3.285714 </td><td>0.7142857</td><td>10.571429</td><td>0.5714286</td></tr>\n",
       "\t<tr><td> 1       </td><td> 0       </td><td> 1       </td><td> 0       </td><td> 1       </td><td>  4      </td><td> 1       </td><td>0        </td><td>0        </td><td> 1       </td><td>  69     </td><td> 0       </td><td> 0       </td><td> 4       </td><td>0        </td><td>0.000000 </td><td>0.0000000</td><td> 4.000000</td><td>0.0000000</td></tr>\n",
       "</tbody>\n",
       "</table>\n"
      ],
      "text/latex": [
       "\\begin{tabular}{r|lllllllllllllllllll}\n",
       " NOF\\_num & NOF\\_total & NSF\\_num & NSF\\_total & NOM\\_num & NOM\\_total & NSM\\_num & NSM\\_total & NOI & NOT & TLOC & NOF\\_max & NSF\\_max & NOM\\_max & NSM\\_max & NOF\\_avg & NSF\\_avg & NOM\\_avg & NSM\\_avg\\\\\n",
       "\\hline\n",
       "\t 12        & 85        & 12        & 18        & 12        & 113       & 12        & 8         & 1         & 12        & 3899      & 41        &  8        & 52        & 3         & 7.083333  & 1.5000000 &  9.416667 & 0.6666667\\\\\n",
       "\t  9        & 44        &  9        & 19        &  9        & 135       &  9        & 3         & 2         &  9        & 2858      & 18        & 18        & 78        & 2         & 4.888889  & 2.1111111 & 15.000000 & 0.3333333\\\\\n",
       "\t  5        & 11        &  5        &  3        &  5        &  25       &  5        & 1         & 1         &  5        &  467      &  6        &  2        & 13        & 1         & 2.200000  & 0.6000000 &  5.000000 & 0.2000000\\\\\n",
       "\t  9        & 38        &  9        &  2        &  9        & 128       &  9        & 1         & 0         &  9        & 2471      & 24        &  2        & 58        & 1         & 4.222222  & 0.2222222 & 14.222222 & 0.1111111\\\\\n",
       "\t  7        & 23        &  7        &  5        &  7        &  74       &  7        & 4         & 0         &  7        & 1698      & 22        &  2        & 38        & 2         & 3.285714  & 0.7142857 & 10.571429 & 0.5714286\\\\\n",
       "\t  1        &  0        &  1        &  0        &  1        &   4       &  1        & 0         & 0         &  1        &   69      &  0        &  0        &  4        & 0         & 0.000000  & 0.0000000 &  4.000000 & 0.0000000\\\\\n",
       "\\end{tabular}\n"
      ],
      "text/markdown": [
       "\n",
       "| NOF_num | NOF_total | NSF_num | NSF_total | NOM_num | NOM_total | NSM_num | NSM_total | NOI | NOT | TLOC | NOF_max | NSF_max | NOM_max | NSM_max | NOF_avg | NSF_avg | NOM_avg | NSM_avg |\n",
       "|---|---|---|---|---|---|---|---|---|---|---|---|---|---|---|---|---|---|---|\n",
       "| 12        | 85        | 12        | 18        | 12        | 113       | 12        | 8         | 1         | 12        | 3899      | 41        |  8        | 52        | 3         | 7.083333  | 1.5000000 |  9.416667 | 0.6666667 |\n",
       "|  9        | 44        |  9        | 19        |  9        | 135       |  9        | 3         | 2         |  9        | 2858      | 18        | 18        | 78        | 2         | 4.888889  | 2.1111111 | 15.000000 | 0.3333333 |\n",
       "|  5        | 11        |  5        |  3        |  5        |  25       |  5        | 1         | 1         |  5        |  467      |  6        |  2        | 13        | 1         | 2.200000  | 0.6000000 |  5.000000 | 0.2000000 |\n",
       "|  9        | 38        |  9        |  2        |  9        | 128       |  9        | 1         | 0         |  9        | 2471      | 24        |  2        | 58        | 1         | 4.222222  | 0.2222222 | 14.222222 | 0.1111111 |\n",
       "|  7        | 23        |  7        |  5        |  7        |  74       |  7        | 4         | 0         |  7        | 1698      | 22        |  2        | 38        | 2         | 3.285714  | 0.7142857 | 10.571429 | 0.5714286 |\n",
       "|  1        |  0        |  1        |  0        |  1        |   4       |  1        | 0         | 0         |  1        |   69      |  0        |  0        |  4        | 0         | 0.000000  | 0.0000000 |  4.000000 | 0.0000000 |\n",
       "\n"
      ],
      "text/plain": [
       "  NOF_num NOF_total NSF_num NSF_total NOM_num NOM_total NSM_num NSM_total NOI\n",
       "1 12      85        12      18        12      113       12      8         1  \n",
       "2  9      44         9      19         9      135        9      3         2  \n",
       "3  5      11         5       3         5       25        5      1         1  \n",
       "4  9      38         9       2         9      128        9      1         0  \n",
       "5  7      23         7       5         7       74        7      4         0  \n",
       "6  1       0         1       0         1        4        1      0         0  \n",
       "  NOT TLOC NOF_max NSF_max NOM_max NSM_max NOF_avg  NSF_avg   NOM_avg  \n",
       "1 12  3899 41       8      52      3       7.083333 1.5000000  9.416667\n",
       "2  9  2858 18      18      78      2       4.888889 2.1111111 15.000000\n",
       "3  5   467  6       2      13      1       2.200000 0.6000000  5.000000\n",
       "4  9  2471 24       2      58      1       4.222222 0.2222222 14.222222\n",
       "5  7  1698 22       2      38      2       3.285714 0.7142857 10.571429\n",
       "6  1    69  0       0       4      0       0.000000 0.0000000  4.000000\n",
       "  NSM_avg  \n",
       "1 0.6666667\n",
       "2 0.3333333\n",
       "3 0.2000000\n",
       "4 0.1111111\n",
       "5 0.5714286\n",
       "6 0.0000000"
      ]
     },
     "metadata": {},
     "output_type": "display_data"
    }
   ],
   "source": [
    "bug_num <- files301[c(\"num_of_bug\")]\n",
    "buggy <- files301[c(\"buggy\")]\n",
    "\n",
    "# reject_vars <- c(\"file\", \"buggy\", \"num_of_bug\")\n",
    "reject_vars <- c(\"plugin\", \"package\", \"buggy\", \"num_of_bug\")\n",
    "\n",
    "env_vars <- env_vars[!(env_vars %in% reject_vars)]\n",
    "for (env in env_vars){\n",
    "   print(paste(env, \"+\"))\n",
    "}\n",
    "files301 <- files301[env_vars]\n",
    "head(files301)"
   ]
  },
  {
   "cell_type": "code",
   "execution_count": 10,
   "metadata": {},
   "outputs": [],
   "source": [
    "draw_correlation <- function (data) \n",
    "{\n",
    "    \n",
    "    vcobj = varclus(~ ., \n",
    "        data = data, \n",
    "        similarity = \"spearman\",\n",
    "        trans = \"abs\"\n",
    "    )\n",
    "    plot(vcobj)\n",
    "    thresh = 0.7\n",
    "    abline (h = 1 - thresh, col = \"red\", lty = 2)\n",
    "    \n",
    "    pdf(file=\"correlation.pdf\", width = 15, height = 15)\n",
    "    plot(vcobj)\n",
    "    thresh = 0.7\n",
    "    abline (h = 1 - thresh, col = \"red\", lty = 2)\n",
    "    dev.off()\n",
    "}"
   ]
  },
  {
   "cell_type": "code",
   "execution_count": 11,
   "metadata": {},
   "outputs": [
    {
     "data": {
      "text/html": [
       "<strong>png:</strong> 2"
      ],
      "text/latex": [
       "\\textbf{png:} 2"
      ],
      "text/markdown": [
       "**png:** 2"
      ],
      "text/plain": [
       "png \n",
       "  2 "
      ]
     },
     "metadata": {},
     "output_type": "display_data"
    },
    {
     "data": {
      "image/png": "[encoded data removed]",
      "text/plain": [
       "plot without title"
      ]
     },
     "metadata": {},
     "output_type": "display_data"
    }
   ],
   "source": [
    "draw_correlation(files301)"
   ]
  },
  {
   "cell_type": "code",
   "execution_count": 12,
   "metadata": {},
   "outputs": [
    {
     "data": {
      "text/html": [
       "<strong>png:</strong> 2"
      ],
      "text/latex": [
       "\\textbf{png:} 2"
      ],
      "text/markdown": [
       "**png:** 2"
      ],
      "text/plain": [
       "png \n",
       "  2 "
      ]
     },
     "metadata": {},
     "output_type": "display_data"
    },
    {
     "data": {
      "image/png": "[encoded data removed]",
      "text/plain": [
       "plot without title"
      ]
     },
     "metadata": {},
     "output_type": "display_data"
    }
   ],
   "source": [
    "env_vars <- c(\n",
    "    \"NSM_avg\", \n",
    "    \"NSF_avg\", \n",
    "    \"NOT\", \n",
    "    \"NOF_avg\", \n",
    "    \"NOM_max\"\n",
    " )\n",
    "files301 <- files301[env_vars]\n",
    "draw_correlation(files301)"
   ]
  },
  {
   "cell_type": "markdown",
   "metadata": {},
   "source": [
    "### Random Forest"
   ]
  },
  {
   "cell_type": "code",
   "execution_count": 13,
   "metadata": {},
   "outputs": [],
   "source": [
    "data_classification = cbind(files301, buggy)"
   ]
  },
  {
   "cell_type": "code",
   "execution_count": 14,
   "metadata": {},
   "outputs": [
    {
     "data": {
      "text/plain": [
       "    NSM_avg           NSF_avg              NOT            NOF_avg      \n",
       " Min.   : 0.0000   Min.   :  0.0000   Min.   :  1.00   Min.   : 0.000  \n",
       " 1st Qu.: 0.0625   1st Qu.:  0.3636   1st Qu.:  4.00   1st Qu.: 1.308  \n",
       " Median : 0.4000   Median :  0.9231   Median : 10.00   Median : 2.556  \n",
       " Mean   : 1.3235   Mean   :  2.2392   Mean   : 16.89   Mean   : 2.901  \n",
       " 3rd Qu.: 1.3333   3rd Qu.:  2.0000   3rd Qu.: 20.00   3rd Qu.: 3.692  \n",
       " Max.   :25.5000   Max.   :112.6667   Max.   :218.00   Max.   :23.000  \n",
       "    NOM_max         buggy    \n",
       " Min.   :  0.00   False:606  \n",
       " 1st Qu.: 10.00   True : 27  \n",
       " Median : 24.00              \n",
       " Mean   : 34.82              \n",
       " 3rd Qu.: 44.00              \n",
       " Max.   :302.00              "
      ]
     },
     "metadata": {},
     "output_type": "display_data"
    }
   ],
   "source": [
    "summary(data_classification)"
   ]
  },
  {
   "cell_type": "code",
   "execution_count": 15,
   "metadata": {},
   "outputs": [],
   "source": [
    "## 75% of the sample size\n",
    "smp_size <- floor(0.75 * nrow(data_classification))\n",
    "\n",
    "## set the seed to make your partition reproducible\n",
    "set.seed(123)\n",
    "train_ind <- sample(seq_len(nrow(data_classification)), size = smp_size)\n",
    "\n",
    "train <- data_classification[train_ind, ]\n",
    "test <- data_classification[-train_ind, ]"
   ]
  },
  {
   "cell_type": "code",
   "execution_count": 16,
   "metadata": {},
   "outputs": [
    {
     "name": "stderr",
     "output_type": "stream",
     "text": [
      "randomForest 4.6-14\n",
      "Type rfNews() to see new features/changes/bug fixes.\n",
      "\n",
      "Attaching package: 'randomForest'\n",
      "\n",
      "The following object is masked from 'package:ggplot2':\n",
      "\n",
      "    margin\n",
      "\n"
     ]
    },
    {
     "data": {
      "text/plain": [
       "\n",
       "Call:\n",
       " randomForest(formula = as.factor(buggy) ~ ., data = train, ntree = 100,      mtry = 2, importance = TRUE) \n",
       "               Type of random forest: classification\n",
       "                     Number of trees: 100\n",
       "No. of variables tried at each split: 2\n",
       "\n",
       "        OOB estimate of  error rate: 4.22%\n",
       "Confusion matrix:\n",
       "      False True class.error\n",
       "False   453    2 0.004395604\n",
       "True     18    1 0.947368421"
      ]
     },
     "metadata": {},
     "output_type": "display_data"
    }
   ],
   "source": [
    "#import the package\n",
    "library(randomForest)\n",
    "# Perform training:\n",
    "rf_classifier2 = randomForest(as.factor(buggy) ~ ., data=train, ntree=100, mtry=2, importance=TRUE)\n",
    "# because of the as.factor(...), randomforest can fit a classification model. \n",
    "rf_classifier2"
   ]
  },
  {
   "cell_type": "code",
   "execution_count": 18,
   "metadata": {},
   "outputs": [
    {
     "data": {
      "text/html": [
       "<table>\n",
       "<thead><tr><th></th><th scope=col>False</th><th scope=col>True</th><th scope=col>MeanDecreaseAccuracy</th><th scope=col>MeanDecreaseGini</th></tr></thead>\n",
       "<tbody>\n",
       "\t<tr><th scope=row>NSM_avg</th><td> 2.0607813</td><td>-1.1171908</td><td> 1.8005853</td><td>8.041556  </td></tr>\n",
       "\t<tr><th scope=row>NSF_avg</th><td>-1.0479142</td><td> 0.5356988</td><td>-0.9183235</td><td>6.443790  </td></tr>\n",
       "\t<tr><th scope=row>NOT</th><td> 4.3123178</td><td> 4.7795329</td><td> 5.9550111</td><td>8.988934  </td></tr>\n",
       "\t<tr><th scope=row>NOF_avg</th><td>-0.5888845</td><td>-1.3239895</td><td>-0.8350663</td><td>6.101259  </td></tr>\n",
       "\t<tr><th scope=row>NOM_max</th><td> 1.6928530</td><td>-0.3243665</td><td> 1.6792924</td><td>5.715041  </td></tr>\n",
       "</tbody>\n",
       "</table>\n"
      ],
      "text/latex": [
       "\\begin{tabular}{r|llll}\n",
       "  & False & True & MeanDecreaseAccuracy & MeanDecreaseGini\\\\\n",
       "\\hline\n",
       "\tNSM\\_avg &  2.0607813 & -1.1171908 &  1.8005853 & 8.041556  \\\\\n",
       "\tNSF\\_avg & -1.0479142 &  0.5356988 & -0.9183235 & 6.443790  \\\\\n",
       "\tNOT &  4.3123178 &  4.7795329 &  5.9550111 & 8.988934  \\\\\n",
       "\tNOF\\_avg & -0.5888845 & -1.3239895 & -0.8350663 & 6.101259  \\\\\n",
       "\tNOM\\_max &  1.6928530 & -0.3243665 &  1.6792924 & 5.715041  \\\\\n",
       "\\end{tabular}\n"
      ],
      "text/markdown": [
       "\n",
       "| <!--/--> | False | True | MeanDecreaseAccuracy | MeanDecreaseGini |\n",
       "|---|---|---|---|---|\n",
       "| NSM_avg |  2.0607813 | -1.1171908 |  1.8005853 | 8.041556   |\n",
       "| NSF_avg | -1.0479142 |  0.5356988 | -0.9183235 | 6.443790   |\n",
       "| NOT |  4.3123178 |  4.7795329 |  5.9550111 | 8.988934   |\n",
       "| NOF_avg | -0.5888845 | -1.3239895 | -0.8350663 | 6.101259   |\n",
       "| NOM_max |  1.6928530 | -0.3243665 |  1.6792924 | 5.715041   |\n",
       "\n"
      ],
      "text/plain": [
       "        False      True       MeanDecreaseAccuracy MeanDecreaseGini\n",
       "NSM_avg  2.0607813 -1.1171908  1.8005853           8.041556        \n",
       "NSF_avg -1.0479142  0.5356988 -0.9183235           6.443790        \n",
       "NOT      4.3123178  4.7795329  5.9550111           8.988934        \n",
       "NOF_avg -0.5888845 -1.3239895 -0.8350663           6.101259        \n",
       "NOM_max  1.6928530 -0.3243665  1.6792924           5.715041        "
      ]
     },
     "metadata": {},
     "output_type": "display_data"
    }
   ],
   "source": [
    "importance(rf_classifier2)"
   ]
  },
  {
   "cell_type": "markdown",
   "metadata": {},
   "source": [
    "AUC"
   ]
  },
  {
   "cell_type": "code",
   "execution_count": 19,
   "metadata": {},
   "outputs": [
    {
     "name": "stderr",
     "output_type": "stream",
     "text": [
      "Type 'citation(\"pROC\")' for a citation.\n",
      "\n",
      "Attaching package: 'pROC'\n",
      "\n",
      "The following objects are masked from 'package:stats':\n",
      "\n",
      "    cov, smooth, var\n",
      "\n",
      "Loading required package: gplots\n",
      "\n",
      "Attaching package: 'gplots'\n",
      "\n",
      "The following object is masked from 'package:stats':\n",
      "\n",
      "    lowess\n",
      "\n"
     ]
    }
   ],
   "source": [
    "library(pROC)\n",
    "library(ROCR)"
   ]
  },
  {
   "cell_type": "code",
   "execution_count": 21,
   "metadata": {},
   "outputs": [
    {
     "data": {
      "text/html": [
       "0.531463273568537"
      ],
      "text/latex": [
       "0.531463273568537"
      ],
      "text/markdown": [
       "0.531463273568537"
      ],
      "text/plain": [
       "[1] 0.5314633"
      ]
     },
     "metadata": {},
     "output_type": "display_data"
    }
   ],
   "source": [
    "rf_p_train <- predict(rf_classifier2, type=\"prob\")[,2]\n",
    "rf_pr_train <- prediction(rf_p_train, train$buggy)\n",
    "r_auc_train <- performance(rf_pr_train, measure = \"auc\")@y.values[[1]] \n",
    "r_auc_train"
   ]
  },
  {
   "cell_type": "code",
   "execution_count": 23,
   "metadata": {},
   "outputs": [
    {
     "data": {
      "text/html": [
       "0.577814569536424"
      ],
      "text/latex": [
       "0.577814569536424"
      ],
      "text/markdown": [
       "0.577814569536424"
      ],
      "text/plain": [
       "[1] 0.5778146"
      ]
     },
     "metadata": {},
     "output_type": "display_data"
    }
   ],
   "source": [
    "#https://stats.stackexchange.com/questions/308645/why-does-randomforest-has-higher-test-auc-than-train-auc-is-this-possible\n",
    "#the test AUC\n",
    "rf_p_test <- predict(rf_classifier2, type=\"prob\", newdata = test)[,2]\n",
    "rf_pr_test <- prediction(rf_p_test, test$buggy)\n",
    "r_auc_test <- performance(rf_pr_test, measure = \"auc\")@y.values[[1]] \n",
    "r_auc_test"
   ]
  },
  {
   "cell_type": "markdown",
   "metadata": {},
   "source": [
    "### Logistic Regression"
   ]
  },
  {
   "cell_type": "code",
   "execution_count": 24,
   "metadata": {},
   "outputs": [
    {
     "name": "stdout",
     "output_type": "stream",
     "text": [
      "         AUC AUC_optimism \n",
      "  0.67455176   0.05615579 \n"
     ]
    }
   ],
   "source": [
    "library(rms)\n",
    "fit <- lrm(buggy ~ .,\n",
    "           data=train, x=T, y=T)\n",
    "\n",
    "val <- validate(fit, B=1000)\n",
    "AUC = 0.5 + val[1,1]/2\n",
    "AUC_optimism_reduced = (0.5 + val[1,5]/2)\n",
    "AUC_optimism = AUC - AUC_optimism_reduced\n",
    "print(c(\"AUC\"=AUC,\"AUC_optimism\"=AUC_optimism))"
   ]
  },
  {
   "cell_type": "markdown",
   "metadata": {},
   "source": [
    "### XGBoost"
   ]
  },
  {
   "cell_type": "code",
   "execution_count": 35,
   "metadata": {},
   "outputs": [
    {
     "name": "stdout",
     "output_type": "stream",
     "text": [
      "[1]\ttrain-error:0.035862+0.003912\ttest-error:0.042206+0.026068 \n",
      "Multiple eval metrics are present. Will use test_error for early stopping.\n",
      "Will train until test_error hasn't improved in 20 rounds.\n",
      "\n",
      "[11]\ttrain-error:0.029535+0.004819\ttest-error:0.040078+0.025512 \n",
      "[21]\ttrain-error:0.017413+0.005450\ttest-error:0.040165+0.023791 \n",
      "[31]\ttrain-error:0.005795+0.003063\ttest-error:0.040165+0.023791 \n",
      "Stopping. Best iteration:\n",
      "[12]\ttrain-error:0.030062+0.005408\ttest-error:0.038037+0.025778\n",
      "\n",
      "[1]\tval-error:0.050314\ttrain-error:0.033755 \n",
      "Multiple eval metrics are present. Will use train_error for early stopping.\n",
      "Will train until train_error hasn't improved in 10 rounds.\n",
      "\n",
      "[11]\tval-error:0.050314\ttrain-error:0.031646 \n",
      "[21]\tval-error:0.050314\ttrain-error:0.014768 \n",
      "[31]\tval-error:0.056604\ttrain-error:0.008439 \n",
      "[41]\tval-error:0.056604\ttrain-error:0.004219 \n",
      "[51]\tval-error:0.050314\ttrain-error:0.002110 \n",
      "Stopping. Best iteration:\n",
      "[42]\tval-error:0.056604\ttrain-error:0.002110\n",
      "\n"
     ]
    },
    {
     "data": {
      "text/plain": [
       "Confusion Matrix and Statistics\n",
       "\n",
       "          Reference\n",
       "Prediction   0   1\n",
       "         0 149   7\n",
       "         1   2   1\n",
       "                                          \n",
       "               Accuracy : 0.9434          \n",
       "                 95% CI : (0.8953, 0.9738)\n",
       "    No Information Rate : 0.9497          \n",
       "    P-Value [Acc > NIR] : 0.7199          \n",
       "                                          \n",
       "                  Kappa : 0.1587          \n",
       " Mcnemar's Test P-Value : 0.1824          \n",
       "                                          \n",
       "            Sensitivity : 0.9868          \n",
       "            Specificity : 0.1250          \n",
       "         Pos Pred Value : 0.9551          \n",
       "         Neg Pred Value : 0.3333          \n",
       "             Prevalence : 0.9497          \n",
       "         Detection Rate : 0.9371          \n",
       "   Detection Prevalence : 0.9811          \n",
       "      Balanced Accuracy : 0.5559          \n",
       "                                          \n",
       "       'Positive' Class : 0               \n",
       "                                          "
      ]
     },
     "metadata": {},
     "output_type": "display_data"
    },
    {
     "data": {
      "image/png": "[encoded data removed]",
      "text/plain": [
       "plot without title"
      ]
     },
     "metadata": {},
     "output_type": "display_data"
    }
   ],
   "source": [
    "library(data.table)\n",
    "setDT(train)\n",
    "setDT(test)\n",
    "\n",
    "library(xgboost)\n",
    "\n",
    "labels <- train$buggy\n",
    "ts_label <- test$buggy\n",
    "new_tr <- model.matrix(~.+0,data = train[,-c(\"buggy\"),with=F])\n",
    "new_ts <- model.matrix(~.+0,data = test[,-c(\"buggy\"),with=F])\n",
    "labels <- as.numeric(labels)-1\n",
    "ts_label <- as.numeric(ts_label)-1\n",
    "dtrain <- xgb.DMatrix(data = new_tr,label = labels)\n",
    "dtest <- xgb.DMatrix(data = new_ts,label=ts_label)\n",
    "\n",
    "params <- list(\n",
    "        booster = \"gbtree\",\n",
    "        objective = \"binary:logistic\",\n",
    "        eta=0.3,\n",
    "        gamma=0,\n",
    "        max_depth=6,\n",
    "        min_child_weight=1,\n",
    "        subsample=1,\n",
    "        colsample_bytree=1\n",
    ")\n",
    "\n",
    "xgbcv <- xgb.cv(params = params\n",
    "                ,data = dtrain\n",
    "                ,nrounds = 1000\n",
    "                ,nfold = 5\n",
    "                ,showsd = T\n",
    "                ,stratified = T\n",
    "                ,print.every.n = 10\n",
    "                ,early.stop.round = 20\n",
    "                ,maximize = F\n",
    ")\n",
    "\n",
    "xgb1 <- xgb.train(\n",
    "           params = params\n",
    "          ,data = dtrain\n",
    "          ,nrounds = 57\n",
    "          ,watchlist = list(val=dtest,train=dtrain)\n",
    "          ,print.every.n = 10\n",
    "          ,early.stop.round = 10\n",
    "          ,maximize = F\n",
    "          ,eval_metric = \"error\"\n",
    ")\n",
    "\n",
    "xgbpred <- predict(xgb1,dtest)\n",
    "xgbpred <- ifelse(xgbpred > 0.5,1,0)\n",
    "\n",
    "xgbpred[xgbpred == 1] <- TRUE\n",
    "\n",
    "library(caret)\n",
    "confusionMatrix(factor(xgbpred), factor(ts_label))\n",
    "\n",
    "mat <- xgb.importance(feature_names = colnames(new_tr),model = xgb1)\n",
    "xgb.plot.importance(importance_matrix = mat[1:20]) #first 20 variables"
   ]
  }
 ],
 "metadata": {
  "kernelspec": {
   "display_name": "R",
   "language": "R",
   "name": "ir"
  },
  "language_info": {
   "codemirror_mode": "r",
   "file_extension": ".r",
   "mimetype": "text/x-r-source",
   "name": "R",
   "pygments_lexer": "r",
   "version": "3.5.1"
  }
 },
 "nbformat": 4,
 "nbformat_minor": 2
}
