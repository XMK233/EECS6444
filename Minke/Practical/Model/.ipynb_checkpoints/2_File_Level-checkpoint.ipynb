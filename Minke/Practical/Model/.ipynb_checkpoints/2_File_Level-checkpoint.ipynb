{
 "cells": [
  {
   "cell_type": "markdown",
   "metadata": {},
   "source": [
    "### Fit the old code to our dataset. \n",
    "\n",
    "纸上得来终觉浅，绝知此事要躬行。"
   ]
  },
  {
   "cell_type": "code",
   "execution_count": 16,
   "metadata": {},
   "outputs": [
    {
     "data": {
      "text/html": [
       "1112"
      ],
      "text/latex": [
       "1112"
      ],
      "text/markdown": [
       "1112"
      ],
      "text/plain": [
       "[1] 1112"
      ]
     },
     "metadata": {},
     "output_type": "display_data"
    },
    {
     "data": {
      "text/html": [
       "1100"
      ],
      "text/latex": [
       "1100"
      ],
      "text/markdown": [
       "1100"
      ],
      "text/plain": [
       "[1] 1100"
      ]
     },
     "metadata": {},
     "output_type": "display_data"
    },
    {
     "data": {
      "text/html": [
       "1094"
      ],
      "text/latex": [
       "1094"
      ],
      "text/markdown": [
       "1094"
      ],
      "text/plain": [
       "[1] 1094"
      ]
     },
     "metadata": {},
     "output_type": "display_data"
    }
   ],
   "source": [
    "files_32 <- read.table(\"../org.eclipse.jdt.core_3.2/dataset-_3.2-filelevel.csv\", header=T, sep=\",\")\n",
    "files_34 <- read.table(\"../org.eclipse.jdt.core_3.4/dataset-_3.4-filelevel.csv\", header=T, sep=\",\")\n",
    "files_35 <- read.table(\"../org.eclipse.jdt.core_3.5/dataset-_3.5-filelevel.csv\", header=T, sep=\",\")\n",
    "\n",
    "nrow(files_32)\n",
    "nrow(files_34)\n",
    "nrow(files_35)"
   ]
  },
  {
   "cell_type": "markdown",
   "metadata": {},
   "source": [
    "### preprocess the dataframe to make it the same as example csv files. "
   ]
  },
  {
   "cell_type": "code",
   "execution_count": 17,
   "metadata": {},
   "outputs": [
    {
     "data": {
      "text/html": [
       "<table>\n",
       "<thead><tr><th scope=col>NOT</th><th scope=col>NOI</th><th scope=col>TLOC</th><th scope=col>ACD</th><th scope=col>NSM</th><th scope=col>NSF</th><th scope=col>NOM</th><th scope=col>NOF</th><th scope=col>MLOC_total</th><th scope=col>MLOC_max</th><th scope=col>...</th><th scope=col>FOUT_total</th><th scope=col>FOUT_max</th><th scope=col>file</th><th scope=col>pre</th><th scope=col>post</th><th scope=col>MLOC_avg</th><th scope=col>NBD_avg</th><th scope=col>PAR_avg</th><th scope=col>VG_avg</th><th scope=col>FOUT_avg</th></tr></thead>\n",
       "<tbody>\n",
       "\t<tr><td>1                                                                                                                     </td><td>0                                                                                                                     </td><td>516                                                                                                                   </td><td>0                                                                                                                     </td><td>0                                                                                                                     </td><td>0                                                                                                                     </td><td>33                                                                                                                    </td><td>7                                                                                                                     </td><td>448                                                                                                                   </td><td>115                                                                                                                   </td><td>...                                                                                                                   </td><td>142                                                                                                                   </td><td>20                                                                                                                    </td><td>eclipse\\org.eclipse.jdt.core\\compiler\\org\\eclipse\\jdt\\internal\\compiler\\lookup\\MethodVerifier.java           </td><td>1                                                                                                                     </td><td>0                                                                                                                     </td><td>13.575758                                                                                                             </td><td> 1.0303030                                                                                                            </td><td>1.4848485                                                                                                             </td><td>6.181818                                                                                                              </td><td>4.303030                                                                                                              </td></tr>\n",
       "\t<tr><td>0                                                                                                                     </td><td>1                                                                                                                     </td><td> 11                                                                                                                   </td><td>0                                                                                                                     </td><td>0                                                                                                                     </td><td>0                                                                                                                     </td><td> 7                                                                                                                    </td><td>0                                                                                                                     </td><td>  7                                                                                                                   </td><td>  1                                                                                                                   </td><td>...                                                                                                                   </td><td>  0                                                                                                                   </td><td> 0                                                                                                                    </td><td>eclipse\\org.eclipse.jdt.core\\model\\org\\eclipse\\jdt\\core\\IClassFile.java                                        </td><td>0                                                                                                                     </td><td>0                                                                                                                     </td><td> 1.000000                                                                                                             </td><td>-1.0000000                                                                                                            </td><td>1.1428571                                                                                                             </td><td>1.000000                                                                                                              </td><td>0.000000                                                                                                              </td></tr>\n",
       "\t<tr><td>1                                                                                                                     </td><td>0                                                                                                                     </td><td>  5                                                                                                                   </td><td>0                                                                                                                     </td><td>0                                                                                                                     </td><td>0                                                                                                                     </td><td> 1                                                                                                                    </td><td>0                                                                                                                     </td><td>  2                                                                                                                   </td><td>  2                                                                                                                   </td><td>...                                                                                                                   </td><td>  0                                                                                                                   </td><td> 0                                                                                                                    </td><td>eclipse\\org.eclipse.jdt.core\\search\\org\\eclipse\\jdt\\core\\search\\TypeNameRequestor.java                        </td><td>0                                                                                                                     </td><td>0                                                                                                                     </td><td> 2.000000                                                                                                             </td><td> 0.0000000                                                                                                            </td><td>5.0000000                                                                                                             </td><td>1.000000                                                                                                              </td><td>0.000000                                                                                                              </td></tr>\n",
       "\t<tr><td>1                                                                                                                     </td><td>0                                                                                                                     </td><td> 35                                                                                                                   </td><td>0                                                                                                                     </td><td>0                                                                                                                     </td><td>0                                                                                                                     </td><td> 6                                                                                                                    </td><td>1                                                                                                                     </td><td> 28                                                                                                                   </td><td> 10                                                                                                                   </td><td>...                                                                                                                   </td><td>  7                                                                                                                   </td><td> 4                                                                                                                    </td><td>eclipse\\org.eclipse.jdt.core\\compiler\\org\\eclipse\\jdt\\internal\\compiler\\flow\\InsideSubRoutineFlowContext.java</td><td>0                                                                                                                     </td><td>0                                                                                                                     </td><td> 4.666667                                                                                                             </td><td> 0.3333333                                                                                                            </td><td>0.5000000                                                                                                             </td><td>1.500000                                                                                                              </td><td>1.166667                                                                                                              </td></tr>\n",
       "\t<tr><td>1                                                                                                                     </td><td>0                                                                                                                     </td><td> 39                                                                                                                   </td><td>0                                                                                                                     </td><td>0                                                                                                                     </td><td>0                                                                                                                     </td><td> 5                                                                                                                    </td><td>0                                                                                                                     </td><td> 24                                                                                                                   </td><td>  8                                                                                                                   </td><td>...                                                                                                                   </td><td>  8                                                                                                                   </td><td> 5                                                                                                                    </td><td>eclipse\\org.eclipse.jdt.core\\model\\org\\eclipse\\jdt\\internal\\core\\RenameElementsOperation.java                 </td><td>0                                                                                                                     </td><td>0                                                                                                                     </td><td> 4.800000                                                                                                             </td><td> 0.0000000                                                                                                            </td><td>1.0000000                                                                                                             </td><td>2.800000                                                                                                              </td><td>1.600000                                                                                                              </td></tr>\n",
       "\t<tr><td>1                                                                                                                     </td><td>0                                                                                                                     </td><td> 71                                                                                                                   </td><td>0                                                                                                                     </td><td>1                                                                                                                     </td><td>2                                                                                                                     </td><td>12                                                                                                                    </td><td>3                                                                                                                     </td><td> 55                                                                                                                   </td><td> 12                                                                                                                   </td><td>...                                                                                                                   </td><td> 20                                                                                                                   </td><td> 6                                                                                                                    </td><td>eclipse\\org.eclipse.jdt.core\\dom\\org\\eclipse\\jdt\\core\\dom\\ThisExpression.java                                 </td><td>0                                                                                                                     </td><td>0                                                                                                                     </td><td> 4.583333                                                                                                             </td><td> 0.2500000                                                                                                            </td><td>0.9166667                                                                                                             </td><td>1.333333                                                                                                              </td><td>1.666667                                                                                                              </td></tr>\n",
       "</tbody>\n",
       "</table>\n"
      ],
      "text/latex": [
       "\\begin{tabular}{r|llllllllllllllllllllllllll}\n",
       " NOT & NOI & TLOC & ACD & NSM & NSF & NOM & NOF & MLOC\\_total & MLOC\\_max & ... & FOUT\\_total & FOUT\\_max & file & pre & post & MLOC\\_avg & NBD\\_avg & PAR\\_avg & VG\\_avg & FOUT\\_avg\\\\\n",
       "\\hline\n",
       "\t 1                                                                                                                                                                                                                                                             & 0                                                                                                                                                                                                                                                             & 516                                                                                                                                                                                                                                                           & 0                                                                                                                                                                                                                                                             & 0                                                                                                                                                                                                                                                             & 0                                                                                                                                                                                                                                                             & 33                                                                                                                                                                                                                                                            & 7                                                                                                                                                                                                                                                             & 448                                                                                                                                                                                                                                                           & 115                                                                                                                                                                                                                                                           & ...                                                                                                                                                                                                                                                           & 142                                                                                                                                                                                                                                                           & 20                                                                                                                                                                                                                                                            & eclipse\\textbackslash{}org.eclipse.jdt.core\\textbackslash{}compiler\\textbackslash{}org\\textbackslash{}eclipse\\textbackslash{}jdt\\textbackslash{}internal\\textbackslash{}compiler\\textbackslash{}lookup\\textbackslash{}MethodVerifier.java            & 1                                                                                                                                                                                                                                                             & 0                                                                                                                                                                                                                                                             & 13.575758                                                                                                                                                                                                                                                     &  1.0303030                                                                                                                                                                                                                                                    & 1.4848485                                                                                                                                                                                                                                                     & 6.181818                                                                                                                                                                                                                                                      & 4.303030                                                                                                                                                                                                                                                     \\\\\n",
       "\t 0                                                                                                                                                                                                                               & 1                                                                                                                                                                                                                               &  11                                                                                                                                                                                                                             & 0                                                                                                                                                                                                                               & 0                                                                                                                                                                                                                               & 0                                                                                                                                                                                                                               &  7                                                                                                                                                                                                                              & 0                                                                                                                                                                                                                               &   7                                                                                                                                                                                                                             &   1                                                                                                                                                                                                                             & ...                                                                                                                                                                                                                             &   0                                                                                                                                                                                                                             &  0                                                                                                                                                                                                                              & eclipse\\textbackslash{}org.eclipse.jdt.core\\textbackslash{}model\\textbackslash{}org\\textbackslash{}eclipse\\textbackslash{}jdt\\textbackslash{}core\\textbackslash{}IClassFile.java                                         & 0                                                                                                                                                                                                                               & 0                                                                                                                                                                                                                               &  1.000000                                                                                                                                                                                                                       & -1.0000000                                                                                                                                                                                                                      & 1.1428571                                                                                                                                                                                                                       & 1.000000                                                                                                                                                                                                                        & 0.000000                                                                                                                                                                                                                       \\\\\n",
       "\t 1                                                                                                                                                                                                                                              & 0                                                                                                                                                                                                                                              &   5                                                                                                                                                                                                                                            & 0                                                                                                                                                                                                                                              & 0                                                                                                                                                                                                                                              & 0                                                                                                                                                                                                                                              &  1                                                                                                                                                                                                                                             & 0                                                                                                                                                                                                                                              &   2                                                                                                                                                                                                                                            &   2                                                                                                                                                                                                                                            & ...                                                                                                                                                                                                                                            &   0                                                                                                                                                                                                                                            &  0                                                                                                                                                                                                                                             & eclipse\\textbackslash{}org.eclipse.jdt.core\\textbackslash{}search\\textbackslash{}org\\textbackslash{}eclipse\\textbackslash{}jdt\\textbackslash{}core\\textbackslash{}search\\textbackslash{}TypeNameRequestor.java                         & 0                                                                                                                                                                                                                                              & 0                                                                                                                                                                                                                                              &  2.000000                                                                                                                                                                                                                                      &  0.0000000                                                                                                                                                                                                                                     & 5.0000000                                                                                                                                                                                                                                      & 1.000000                                                                                                                                                                                                                                       & 0.000000                                                                                                                                                                                                                                      \\\\\n",
       "\t 1                                                                                                                                                                                                                                                             & 0                                                                                                                                                                                                                                                             &  35                                                                                                                                                                                                                                                           & 0                                                                                                                                                                                                                                                             & 0                                                                                                                                                                                                                                                             & 0                                                                                                                                                                                                                                                             &  6                                                                                                                                                                                                                                                            & 1                                                                                                                                                                                                                                                             &  28                                                                                                                                                                                                                                                           &  10                                                                                                                                                                                                                                                           & ...                                                                                                                                                                                                                                                           &   7                                                                                                                                                                                                                                                           &  4                                                                                                                                                                                                                                                            & eclipse\\textbackslash{}org.eclipse.jdt.core\\textbackslash{}compiler\\textbackslash{}org\\textbackslash{}eclipse\\textbackslash{}jdt\\textbackslash{}internal\\textbackslash{}compiler\\textbackslash{}flow\\textbackslash{}InsideSubRoutineFlowContext.java & 0                                                                                                                                                                                                                                                             & 0                                                                                                                                                                                                                                                             &  4.666667                                                                                                                                                                                                                                                     &  0.3333333                                                                                                                                                                                                                                                    & 0.5000000                                                                                                                                                                                                                                                     & 1.500000                                                                                                                                                                                                                                                      & 1.166667                                                                                                                                                                                                                                                     \\\\\n",
       "\t 1                                                                                                                                                                                                                                              & 0                                                                                                                                                                                                                                              &  39                                                                                                                                                                                                                                            & 0                                                                                                                                                                                                                                              & 0                                                                                                                                                                                                                                              & 0                                                                                                                                                                                                                                              &  5                                                                                                                                                                                                                                             & 0                                                                                                                                                                                                                                              &  24                                                                                                                                                                                                                                            &   8                                                                                                                                                                                                                                            & ...                                                                                                                                                                                                                                            &   8                                                                                                                                                                                                                                            &  5                                                                                                                                                                                                                                             & eclipse\\textbackslash{}org.eclipse.jdt.core\\textbackslash{}model\\textbackslash{}org\\textbackslash{}eclipse\\textbackslash{}jdt\\textbackslash{}internal\\textbackslash{}core\\textbackslash{}RenameElementsOperation.java                  & 0                                                                                                                                                                                                                                              & 0                                                                                                                                                                                                                                              &  4.800000                                                                                                                                                                                                                                      &  0.0000000                                                                                                                                                                                                                                     & 1.0000000                                                                                                                                                                                                                                      & 2.800000                                                                                                                                                                                                                                       & 1.600000                                                                                                                                                                                                                                      \\\\\n",
       "\t 1                                                                                                                                                                                                                                              & 0                                                                                                                                                                                                                                              &  71                                                                                                                                                                                                                                            & 0                                                                                                                                                                                                                                              & 1                                                                                                                                                                                                                                              & 2                                                                                                                                                                                                                                              & 12                                                                                                                                                                                                                                             & 3                                                                                                                                                                                                                                              &  55                                                                                                                                                                                                                                            &  12                                                                                                                                                                                                                                            & ...                                                                                                                                                                                                                                            &  20                                                                                                                                                                                                                                            &  6                                                                                                                                                                                                                                             & eclipse\\textbackslash{}org.eclipse.jdt.core\\textbackslash{}dom\\textbackslash{}org\\textbackslash{}eclipse\\textbackslash{}jdt\\textbackslash{}core\\textbackslash{}dom\\textbackslash{}ThisExpression.java                                  & 0                                                                                                                                                                                                                                              & 0                                                                                                                                                                                                                                              &  4.583333                                                                                                                                                                                                                                      &  0.2500000                                                                                                                                                                                                                                     & 0.9166667                                                                                                                                                                                                                                      & 1.333333                                                                                                                                                                                                                                       & 1.666667                                                                                                                                                                                                                                      \\\\\n",
       "\\end{tabular}\n"
      ],
      "text/markdown": [
       "\n",
       "| NOT | NOI | TLOC | ACD | NSM | NSF | NOM | NOF | MLOC_total | MLOC_max | ... | FOUT_total | FOUT_max | file | pre | post | MLOC_avg | NBD_avg | PAR_avg | VG_avg | FOUT_avg |\n",
       "|---|---|---|---|---|---|---|---|---|---|---|---|---|---|---|---|---|---|---|---|---|\n",
       "| 1                                                                                                                      | 0                                                                                                                      | 516                                                                                                                    | 0                                                                                                                      | 0                                                                                                                      | 0                                                                                                                      | 33                                                                                                                     | 7                                                                                                                      | 448                                                                                                                    | 115                                                                                                                    | ...                                                                                                                    | 142                                                                                                                    | 20                                                                                                                     | eclipse\\org.eclipse.jdt.core\\compiler\\org\\eclipse\\jdt\\internal\\compiler\\lookup\\MethodVerifier.java            | 1                                                                                                                      | 0                                                                                                                      | 13.575758                                                                                                              |  1.0303030                                                                                                             | 1.4848485                                                                                                              | 6.181818                                                                                                               | 4.303030                                                                                                               |\n",
       "| 0                                                                                                                      | 1                                                                                                                      |  11                                                                                                                    | 0                                                                                                                      | 0                                                                                                                      | 0                                                                                                                      |  7                                                                                                                     | 0                                                                                                                      |   7                                                                                                                    |   1                                                                                                                    | ...                                                                                                                    |   0                                                                                                                    |  0                                                                                                                     | eclipse\\org.eclipse.jdt.core\\model\\org\\eclipse\\jdt\\core\\IClassFile.java                                         | 0                                                                                                                      | 0                                                                                                                      |  1.000000                                                                                                              | -1.0000000                                                                                                             | 1.1428571                                                                                                              | 1.000000                                                                                                               | 0.000000                                                                                                               |\n",
       "| 1                                                                                                                      | 0                                                                                                                      |   5                                                                                                                    | 0                                                                                                                      | 0                                                                                                                      | 0                                                                                                                      |  1                                                                                                                     | 0                                                                                                                      |   2                                                                                                                    |   2                                                                                                                    | ...                                                                                                                    |   0                                                                                                                    |  0                                                                                                                     | eclipse\\org.eclipse.jdt.core\\search\\org\\eclipse\\jdt\\core\\search\\TypeNameRequestor.java                         | 0                                                                                                                      | 0                                                                                                                      |  2.000000                                                                                                              |  0.0000000                                                                                                             | 5.0000000                                                                                                              | 1.000000                                                                                                               | 0.000000                                                                                                               |\n",
       "| 1                                                                                                                      | 0                                                                                                                      |  35                                                                                                                    | 0                                                                                                                      | 0                                                                                                                      | 0                                                                                                                      |  6                                                                                                                     | 1                                                                                                                      |  28                                                                                                                    |  10                                                                                                                    | ...                                                                                                                    |   7                                                                                                                    |  4                                                                                                                     | eclipse\\org.eclipse.jdt.core\\compiler\\org\\eclipse\\jdt\\internal\\compiler\\flow\\InsideSubRoutineFlowContext.java | 0                                                                                                                      | 0                                                                                                                      |  4.666667                                                                                                              |  0.3333333                                                                                                             | 0.5000000                                                                                                              | 1.500000                                                                                                               | 1.166667                                                                                                               |\n",
       "| 1                                                                                                                      | 0                                                                                                                      |  39                                                                                                                    | 0                                                                                                                      | 0                                                                                                                      | 0                                                                                                                      |  5                                                                                                                     | 0                                                                                                                      |  24                                                                                                                    |   8                                                                                                                    | ...                                                                                                                    |   8                                                                                                                    |  5                                                                                                                     | eclipse\\org.eclipse.jdt.core\\model\\org\\eclipse\\jdt\\internal\\core\\RenameElementsOperation.java                  | 0                                                                                                                      | 0                                                                                                                      |  4.800000                                                                                                              |  0.0000000                                                                                                             | 1.0000000                                                                                                              | 2.800000                                                                                                               | 1.600000                                                                                                               |\n",
       "| 1                                                                                                                      | 0                                                                                                                      |  71                                                                                                                    | 0                                                                                                                      | 1                                                                                                                      | 2                                                                                                                      | 12                                                                                                                     | 3                                                                                                                      |  55                                                                                                                    |  12                                                                                                                    | ...                                                                                                                    |  20                                                                                                                    |  6                                                                                                                     | eclipse\\org.eclipse.jdt.core\\dom\\org\\eclipse\\jdt\\core\\dom\\ThisExpression.java                                  | 0                                                                                                                      | 0                                                                                                                      |  4.583333                                                                                                              |  0.2500000                                                                                                             | 0.9166667                                                                                                              | 1.333333                                                                                                               | 1.666667                                                                                                               |\n",
       "\n"
      ],
      "text/plain": [
       "  NOT NOI TLOC ACD NSM NSF NOM NOF MLOC_total MLOC_max ... FOUT_total FOUT_max\n",
       "1 1   0   516  0   0   0   33  7   448        115      ... 142        20      \n",
       "2 0   1    11  0   0   0    7  0     7          1      ...   0         0      \n",
       "3 1   0     5  0   0   0    1  0     2          2      ...   0         0      \n",
       "4 1   0    35  0   0   0    6  1    28         10      ...   7         4      \n",
       "5 1   0    39  0   0   0    5  0    24          8      ...   8         5      \n",
       "6 1   0    71  0   1   2   12  3    55         12      ...  20         6      \n",
       "  file                                                                                                                  \n",
       "1 eclipse\\\\org.eclipse.jdt.core\\\\compiler\\\\org\\\\eclipse\\\\jdt\\\\internal\\\\compiler\\\\lookup\\\\MethodVerifier.java           \n",
       "2 eclipse\\\\org.eclipse.jdt.core\\\\model\\\\org\\\\eclipse\\\\jdt\\\\core\\\\IClassFile.java                                        \n",
       "3 eclipse\\\\org.eclipse.jdt.core\\\\search\\\\org\\\\eclipse\\\\jdt\\\\core\\\\search\\\\TypeNameRequestor.java                        \n",
       "4 eclipse\\\\org.eclipse.jdt.core\\\\compiler\\\\org\\\\eclipse\\\\jdt\\\\internal\\\\compiler\\\\flow\\\\InsideSubRoutineFlowContext.java\n",
       "5 eclipse\\\\org.eclipse.jdt.core\\\\model\\\\org\\\\eclipse\\\\jdt\\\\internal\\\\core\\\\RenameElementsOperation.java                 \n",
       "6 eclipse\\\\org.eclipse.jdt.core\\\\dom\\\\org\\\\eclipse\\\\jdt\\\\core\\\\dom\\\\ThisExpression.java                                 \n",
       "  pre post MLOC_avg  NBD_avg    PAR_avg   VG_avg   FOUT_avg\n",
       "1 1   0    13.575758  1.0303030 1.4848485 6.181818 4.303030\n",
       "2 0   0     1.000000 -1.0000000 1.1428571 1.000000 0.000000\n",
       "3 0   0     2.000000  0.0000000 5.0000000 1.000000 0.000000\n",
       "4 0   0     4.666667  0.3333333 0.5000000 1.500000 1.166667\n",
       "5 0   0     4.800000  0.0000000 1.0000000 2.800000 1.600000\n",
       "6 0   0     4.583333  0.2500000 0.9166667 1.333333 1.666667"
      ]
     },
     "metadata": {},
     "output_type": "display_data"
    }
   ],
   "source": [
    "head(files_32)"
   ]
  },
  {
   "cell_type": "code",
   "execution_count": 18,
   "metadata": {},
   "outputs": [
    {
     "data": {
      "text/html": [
       "<table>\n",
       "<thead><tr><th scope=col>files_35[, 19]</th><th scope=col>pre</th><th scope=col>post</th><th scope=col>NOT</th><th scope=col>NOI</th><th scope=col>TLOC</th><th scope=col>ACD</th><th scope=col>NSM</th><th scope=col>NSF</th><th scope=col>NOM</th><th scope=col>...</th><th scope=col>PAR_max</th><th scope=col>VG_total</th><th scope=col>VG_max</th><th scope=col>FOUT_total</th><th scope=col>FOUT_max</th><th scope=col>MLOC_avg</th><th scope=col>NBD_avg</th><th scope=col>PAR_avg</th><th scope=col>VG_avg</th><th scope=col>FOUT_avg</th></tr></thead>\n",
       "<tbody>\n",
       "\t<tr><td>eclipse\\org.eclipse.jdt.core\\compiler\\org\\eclipse\\jdt\\internal\\compiler\\lookup\\MethodVerifier.java           </td><td>8                                                                                                                     </td><td>15                                                                                                                    </td><td>1                                                                                                                     </td><td>0                                                                                                                     </td><td>516                                                                                                                   </td><td>0                                                                                                                     </td><td>0                                                                                                                     </td><td>0                                                                                                                     </td><td>33                                                                                                                    </td><td>...                                                                                                                   </td><td>4                                                                                                                     </td><td>204                                                                                                                   </td><td>44                                                                                                                    </td><td>142                                                                                                                   </td><td>20                                                                                                                    </td><td>13.575758                                                                                                             </td><td> 1.0303030                                                                                                            </td><td>1.4848485                                                                                                             </td><td>6.181818                                                                                                              </td><td>4.303030                                                                                                              </td></tr>\n",
       "\t<tr><td>eclipse\\org.eclipse.jdt.core\\model\\org\\eclipse\\jdt\\core\\IClassFile.java                                        </td><td>0                                                                                                                     </td><td> 0                                                                                                                    </td><td>0                                                                                                                     </td><td>1                                                                                                                     </td><td> 11                                                                                                                   </td><td>0                                                                                                                     </td><td>0                                                                                                                     </td><td>0                                                                                                                     </td><td> 7                                                                                                                    </td><td>...                                                                                                                   </td><td>3                                                                                                                     </td><td>  7                                                                                                                   </td><td> 1                                                                                                                    </td><td>  0                                                                                                                   </td><td> 0                                                                                                                    </td><td> 1.000000                                                                                                             </td><td>-1.0000000                                                                                                            </td><td>1.1428571                                                                                                             </td><td>1.000000                                                                                                              </td><td>0.000000                                                                                                              </td></tr>\n",
       "\t<tr><td>eclipse\\org.eclipse.jdt.core\\search\\org\\eclipse\\jdt\\core\\search\\TypeNameRequestor.java                        </td><td>0                                                                                                                     </td><td> 0                                                                                                                    </td><td>1                                                                                                                     </td><td>0                                                                                                                     </td><td>  5                                                                                                                   </td><td>0                                                                                                                     </td><td>0                                                                                                                     </td><td>0                                                                                                                     </td><td> 1                                                                                                                    </td><td>...                                                                                                                   </td><td>5                                                                                                                     </td><td>  1                                                                                                                   </td><td> 1                                                                                                                    </td><td>  0                                                                                                                   </td><td> 0                                                                                                                    </td><td> 2.000000                                                                                                             </td><td> 0.0000000                                                                                                            </td><td>5.0000000                                                                                                             </td><td>1.000000                                                                                                              </td><td>0.000000                                                                                                              </td></tr>\n",
       "\t<tr><td>eclipse\\org.eclipse.jdt.core\\compiler\\org\\eclipse\\jdt\\internal\\compiler\\flow\\InsideSubRoutineFlowContext.java</td><td>0                                                                                                                     </td><td> 0                                                                                                                    </td><td>1                                                                                                                     </td><td>0                                                                                                                     </td><td> 35                                                                                                                   </td><td>0                                                                                                                     </td><td>0                                                                                                                     </td><td>0                                                                                                                     </td><td> 6                                                                                                                    </td><td>...                                                                                                                   </td><td>2                                                                                                                     </td><td>  9                                                                                                                   </td><td> 4                                                                                                                    </td><td>  7                                                                                                                   </td><td> 4                                                                                                                    </td><td> 4.666667                                                                                                             </td><td> 0.3333333                                                                                                            </td><td>0.5000000                                                                                                             </td><td>1.500000                                                                                                              </td><td>1.166667                                                                                                              </td></tr>\n",
       "\t<tr><td>eclipse\\org.eclipse.jdt.core\\model\\org\\eclipse\\jdt\\internal\\core\\RenameElementsOperation.java                 </td><td>0                                                                                                                     </td><td> 0                                                                                                                    </td><td>1                                                                                                                     </td><td>0                                                                                                                     </td><td> 39                                                                                                                   </td><td>0                                                                                                                     </td><td>0                                                                                                                     </td><td>0                                                                                                                     </td><td> 5                                                                                                                    </td><td>...                                                                                                                   </td><td>4                                                                                                                     </td><td> 14                                                                                                                   </td><td> 7                                                                                                                    </td><td>  8                                                                                                                   </td><td> 5                                                                                                                    </td><td> 4.800000                                                                                                             </td><td> 0.0000000                                                                                                            </td><td>1.0000000                                                                                                             </td><td>2.800000                                                                                                              </td><td>1.600000                                                                                                              </td></tr>\n",
       "\t<tr><td>eclipse\\org.eclipse.jdt.core\\dom\\org\\eclipse\\jdt\\core\\dom\\ThisExpression.java                                 </td><td>0                                                                                                                     </td><td> 0                                                                                                                    </td><td>1                                                                                                                     </td><td>0                                                                                                                     </td><td> 71                                                                                                                   </td><td>0                                                                                                                     </td><td>1                                                                                                                     </td><td>2                                                                                                                     </td><td>12                                                                                                                    </td><td>...                                                                                                                   </td><td>3                                                                                                                     </td><td> 16                                                                                                                   </td><td> 3                                                                                                                    </td><td> 20                                                                                                                   </td><td> 6                                                                                                                    </td><td> 4.583333                                                                                                             </td><td> 0.2500000                                                                                                            </td><td>0.9166667                                                                                                             </td><td>1.333333                                                                                                              </td><td>1.666667                                                                                                              </td></tr>\n",
       "</tbody>\n",
       "</table>\n"
      ],
      "text/latex": [
       "\\begin{tabular}{r|llllllllllllllllllllllllll}\n",
       " files\\_35{[}, 19{]} & pre & post & NOT & NOI & TLOC & ACD & NSM & NSF & NOM & ... & PAR\\_max & VG\\_total & VG\\_max & FOUT\\_total & FOUT\\_max & MLOC\\_avg & NBD\\_avg & PAR\\_avg & VG\\_avg & FOUT\\_avg\\\\\n",
       "\\hline\n",
       "\t eclipse\\textbackslash{}org.eclipse.jdt.core\\textbackslash{}compiler\\textbackslash{}org\\textbackslash{}eclipse\\textbackslash{}jdt\\textbackslash{}internal\\textbackslash{}compiler\\textbackslash{}lookup\\textbackslash{}MethodVerifier.java            & 8                                                                                                                                                                                                                                                             & 15                                                                                                                                                                                                                                                            & 1                                                                                                                                                                                                                                                             & 0                                                                                                                                                                                                                                                             & 516                                                                                                                                                                                                                                                           & 0                                                                                                                                                                                                                                                             & 0                                                                                                                                                                                                                                                             & 0                                                                                                                                                                                                                                                             & 33                                                                                                                                                                                                                                                            & ...                                                                                                                                                                                                                                                           & 4                                                                                                                                                                                                                                                             & 204                                                                                                                                                                                                                                                           & 44                                                                                                                                                                                                                                                            & 142                                                                                                                                                                                                                                                           & 20                                                                                                                                                                                                                                                            & 13.575758                                                                                                                                                                                                                                                     &  1.0303030                                                                                                                                                                                                                                                    & 1.4848485                                                                                                                                                                                                                                                     & 6.181818                                                                                                                                                                                                                                                      & 4.303030                                                                                                                                                                                                                                                     \\\\\n",
       "\t eclipse\\textbackslash{}org.eclipse.jdt.core\\textbackslash{}model\\textbackslash{}org\\textbackslash{}eclipse\\textbackslash{}jdt\\textbackslash{}core\\textbackslash{}IClassFile.java                                         & 0                                                                                                                                                                                                                               &  0                                                                                                                                                                                                                              & 0                                                                                                                                                                                                                               & 1                                                                                                                                                                                                                               &  11                                                                                                                                                                                                                             & 0                                                                                                                                                                                                                               & 0                                                                                                                                                                                                                               & 0                                                                                                                                                                                                                               &  7                                                                                                                                                                                                                              & ...                                                                                                                                                                                                                             & 3                                                                                                                                                                                                                               &   7                                                                                                                                                                                                                             &  1                                                                                                                                                                                                                              &   0                                                                                                                                                                                                                             &  0                                                                                                                                                                                                                              &  1.000000                                                                                                                                                                                                                       & -1.0000000                                                                                                                                                                                                                      & 1.1428571                                                                                                                                                                                                                       & 1.000000                                                                                                                                                                                                                        & 0.000000                                                                                                                                                                                                                       \\\\\n",
       "\t eclipse\\textbackslash{}org.eclipse.jdt.core\\textbackslash{}search\\textbackslash{}org\\textbackslash{}eclipse\\textbackslash{}jdt\\textbackslash{}core\\textbackslash{}search\\textbackslash{}TypeNameRequestor.java                         & 0                                                                                                                                                                                                                                              &  0                                                                                                                                                                                                                                             & 1                                                                                                                                                                                                                                              & 0                                                                                                                                                                                                                                              &   5                                                                                                                                                                                                                                            & 0                                                                                                                                                                                                                                              & 0                                                                                                                                                                                                                                              & 0                                                                                                                                                                                                                                              &  1                                                                                                                                                                                                                                             & ...                                                                                                                                                                                                                                            & 5                                                                                                                                                                                                                                              &   1                                                                                                                                                                                                                                            &  1                                                                                                                                                                                                                                             &   0                                                                                                                                                                                                                                            &  0                                                                                                                                                                                                                                             &  2.000000                                                                                                                                                                                                                                      &  0.0000000                                                                                                                                                                                                                                     & 5.0000000                                                                                                                                                                                                                                      & 1.000000                                                                                                                                                                                                                                       & 0.000000                                                                                                                                                                                                                                      \\\\\n",
       "\t eclipse\\textbackslash{}org.eclipse.jdt.core\\textbackslash{}compiler\\textbackslash{}org\\textbackslash{}eclipse\\textbackslash{}jdt\\textbackslash{}internal\\textbackslash{}compiler\\textbackslash{}flow\\textbackslash{}InsideSubRoutineFlowContext.java & 0                                                                                                                                                                                                                                                             &  0                                                                                                                                                                                                                                                            & 1                                                                                                                                                                                                                                                             & 0                                                                                                                                                                                                                                                             &  35                                                                                                                                                                                                                                                           & 0                                                                                                                                                                                                                                                             & 0                                                                                                                                                                                                                                                             & 0                                                                                                                                                                                                                                                             &  6                                                                                                                                                                                                                                                            & ...                                                                                                                                                                                                                                                           & 2                                                                                                                                                                                                                                                             &   9                                                                                                                                                                                                                                                           &  4                                                                                                                                                                                                                                                            &   7                                                                                                                                                                                                                                                           &  4                                                                                                                                                                                                                                                            &  4.666667                                                                                                                                                                                                                                                     &  0.3333333                                                                                                                                                                                                                                                    & 0.5000000                                                                                                                                                                                                                                                     & 1.500000                                                                                                                                                                                                                                                      & 1.166667                                                                                                                                                                                                                                                     \\\\\n",
       "\t eclipse\\textbackslash{}org.eclipse.jdt.core\\textbackslash{}model\\textbackslash{}org\\textbackslash{}eclipse\\textbackslash{}jdt\\textbackslash{}internal\\textbackslash{}core\\textbackslash{}RenameElementsOperation.java                  & 0                                                                                                                                                                                                                                              &  0                                                                                                                                                                                                                                             & 1                                                                                                                                                                                                                                              & 0                                                                                                                                                                                                                                              &  39                                                                                                                                                                                                                                            & 0                                                                                                                                                                                                                                              & 0                                                                                                                                                                                                                                              & 0                                                                                                                                                                                                                                              &  5                                                                                                                                                                                                                                             & ...                                                                                                                                                                                                                                            & 4                                                                                                                                                                                                                                              &  14                                                                                                                                                                                                                                            &  7                                                                                                                                                                                                                                             &   8                                                                                                                                                                                                                                            &  5                                                                                                                                                                                                                                             &  4.800000                                                                                                                                                                                                                                      &  0.0000000                                                                                                                                                                                                                                     & 1.0000000                                                                                                                                                                                                                                      & 2.800000                                                                                                                                                                                                                                       & 1.600000                                                                                                                                                                                                                                      \\\\\n",
       "\t eclipse\\textbackslash{}org.eclipse.jdt.core\\textbackslash{}dom\\textbackslash{}org\\textbackslash{}eclipse\\textbackslash{}jdt\\textbackslash{}core\\textbackslash{}dom\\textbackslash{}ThisExpression.java                                  & 0                                                                                                                                                                                                                                              &  0                                                                                                                                                                                                                                             & 1                                                                                                                                                                                                                                              & 0                                                                                                                                                                                                                                              &  71                                                                                                                                                                                                                                            & 0                                                                                                                                                                                                                                              & 1                                                                                                                                                                                                                                              & 2                                                                                                                                                                                                                                              & 12                                                                                                                                                                                                                                             & ...                                                                                                                                                                                                                                            & 3                                                                                                                                                                                                                                              &  16                                                                                                                                                                                                                                            &  3                                                                                                                                                                                                                                             &  20                                                                                                                                                                                                                                            &  6                                                                                                                                                                                                                                             &  4.583333                                                                                                                                                                                                                                      &  0.2500000                                                                                                                                                                                                                                     & 0.9166667                                                                                                                                                                                                                                      & 1.333333                                                                                                                                                                                                                                       & 1.666667                                                                                                                                                                                                                                      \\\\\n",
       "\\end{tabular}\n"
      ],
      "text/markdown": [
       "\n",
       "| files_35[, 19] | pre | post | NOT | NOI | TLOC | ACD | NSM | NSF | NOM | ... | PAR_max | VG_total | VG_max | FOUT_total | FOUT_max | MLOC_avg | NBD_avg | PAR_avg | VG_avg | FOUT_avg |\n",
       "|---|---|---|---|---|---|---|---|---|---|---|---|---|---|---|---|---|---|---|---|---|\n",
       "| eclipse\\org.eclipse.jdt.core\\compiler\\org\\eclipse\\jdt\\internal\\compiler\\lookup\\MethodVerifier.java            | 8                                                                                                                      | 15                                                                                                                     | 1                                                                                                                      | 0                                                                                                                      | 516                                                                                                                    | 0                                                                                                                      | 0                                                                                                                      | 0                                                                                                                      | 33                                                                                                                     | ...                                                                                                                    | 4                                                                                                                      | 204                                                                                                                    | 44                                                                                                                     | 142                                                                                                                    | 20                                                                                                                     | 13.575758                                                                                                              |  1.0303030                                                                                                             | 1.4848485                                                                                                              | 6.181818                                                                                                               | 4.303030                                                                                                               |\n",
       "| eclipse\\org.eclipse.jdt.core\\model\\org\\eclipse\\jdt\\core\\IClassFile.java                                         | 0                                                                                                                      |  0                                                                                                                     | 0                                                                                                                      | 1                                                                                                                      |  11                                                                                                                    | 0                                                                                                                      | 0                                                                                                                      | 0                                                                                                                      |  7                                                                                                                     | ...                                                                                                                    | 3                                                                                                                      |   7                                                                                                                    |  1                                                                                                                     |   0                                                                                                                    |  0                                                                                                                     |  1.000000                                                                                                              | -1.0000000                                                                                                             | 1.1428571                                                                                                              | 1.000000                                                                                                               | 0.000000                                                                                                               |\n",
       "| eclipse\\org.eclipse.jdt.core\\search\\org\\eclipse\\jdt\\core\\search\\TypeNameRequestor.java                         | 0                                                                                                                      |  0                                                                                                                     | 1                                                                                                                      | 0                                                                                                                      |   5                                                                                                                    | 0                                                                                                                      | 0                                                                                                                      | 0                                                                                                                      |  1                                                                                                                     | ...                                                                                                                    | 5                                                                                                                      |   1                                                                                                                    |  1                                                                                                                     |   0                                                                                                                    |  0                                                                                                                     |  2.000000                                                                                                              |  0.0000000                                                                                                             | 5.0000000                                                                                                              | 1.000000                                                                                                               | 0.000000                                                                                                               |\n",
       "| eclipse\\org.eclipse.jdt.core\\compiler\\org\\eclipse\\jdt\\internal\\compiler\\flow\\InsideSubRoutineFlowContext.java | 0                                                                                                                      |  0                                                                                                                     | 1                                                                                                                      | 0                                                                                                                      |  35                                                                                                                    | 0                                                                                                                      | 0                                                                                                                      | 0                                                                                                                      |  6                                                                                                                     | ...                                                                                                                    | 2                                                                                                                      |   9                                                                                                                    |  4                                                                                                                     |   7                                                                                                                    |  4                                                                                                                     |  4.666667                                                                                                              |  0.3333333                                                                                                             | 0.5000000                                                                                                              | 1.500000                                                                                                               | 1.166667                                                                                                               |\n",
       "| eclipse\\org.eclipse.jdt.core\\model\\org\\eclipse\\jdt\\internal\\core\\RenameElementsOperation.java                  | 0                                                                                                                      |  0                                                                                                                     | 1                                                                                                                      | 0                                                                                                                      |  39                                                                                                                    | 0                                                                                                                      | 0                                                                                                                      | 0                                                                                                                      |  5                                                                                                                     | ...                                                                                                                    | 4                                                                                                                      |  14                                                                                                                    |  7                                                                                                                     |   8                                                                                                                    |  5                                                                                                                     |  4.800000                                                                                                              |  0.0000000                                                                                                             | 1.0000000                                                                                                              | 2.800000                                                                                                               | 1.600000                                                                                                               |\n",
       "| eclipse\\org.eclipse.jdt.core\\dom\\org\\eclipse\\jdt\\core\\dom\\ThisExpression.java                                  | 0                                                                                                                      |  0                                                                                                                     | 1                                                                                                                      | 0                                                                                                                      |  71                                                                                                                    | 0                                                                                                                      | 1                                                                                                                      | 2                                                                                                                      | 12                                                                                                                     | ...                                                                                                                    | 3                                                                                                                      |  16                                                                                                                    |  3                                                                                                                     |  20                                                                                                                    |  6                                                                                                                     |  4.583333                                                                                                              |  0.2500000                                                                                                             | 0.9166667                                                                                                              | 1.333333                                                                                                               | 1.666667                                                                                                               |\n",
       "\n"
      ],
      "text/plain": [
       "  files_35[, 19]                                                                                                        \n",
       "1 eclipse\\\\org.eclipse.jdt.core\\\\compiler\\\\org\\\\eclipse\\\\jdt\\\\internal\\\\compiler\\\\lookup\\\\MethodVerifier.java           \n",
       "2 eclipse\\\\org.eclipse.jdt.core\\\\model\\\\org\\\\eclipse\\\\jdt\\\\core\\\\IClassFile.java                                        \n",
       "3 eclipse\\\\org.eclipse.jdt.core\\\\search\\\\org\\\\eclipse\\\\jdt\\\\core\\\\search\\\\TypeNameRequestor.java                        \n",
       "4 eclipse\\\\org.eclipse.jdt.core\\\\compiler\\\\org\\\\eclipse\\\\jdt\\\\internal\\\\compiler\\\\flow\\\\InsideSubRoutineFlowContext.java\n",
       "5 eclipse\\\\org.eclipse.jdt.core\\\\model\\\\org\\\\eclipse\\\\jdt\\\\internal\\\\core\\\\RenameElementsOperation.java                 \n",
       "6 eclipse\\\\org.eclipse.jdt.core\\\\dom\\\\org\\\\eclipse\\\\jdt\\\\core\\\\dom\\\\ThisExpression.java                                 \n",
       "  pre post NOT NOI TLOC ACD NSM NSF NOM ... PAR_max VG_total VG_max FOUT_total\n",
       "1 8   15   1   0   516  0   0   0   33  ... 4       204      44     142       \n",
       "2 0    0   0   1    11  0   0   0    7  ... 3         7       1       0       \n",
       "3 0    0   1   0     5  0   0   0    1  ... 5         1       1       0       \n",
       "4 0    0   1   0    35  0   0   0    6  ... 2         9       4       7       \n",
       "5 0    0   1   0    39  0   0   0    5  ... 4        14       7       8       \n",
       "6 0    0   1   0    71  0   1   2   12  ... 3        16       3      20       \n",
       "  FOUT_max MLOC_avg  NBD_avg    PAR_avg   VG_avg   FOUT_avg\n",
       "1 20       13.575758  1.0303030 1.4848485 6.181818 4.303030\n",
       "2  0        1.000000 -1.0000000 1.1428571 1.000000 0.000000\n",
       "3  0        2.000000  0.0000000 5.0000000 1.000000 0.000000\n",
       "4  4        4.666667  0.3333333 0.5000000 1.500000 1.166667\n",
       "5  5        4.800000  0.0000000 1.0000000 2.800000 1.600000\n",
       "6  6        4.583333  0.2500000 0.9166667 1.333333 1.666667"
      ]
     },
     "metadata": {},
     "output_type": "display_data"
    }
   ],
   "source": [
    "files_32 = cbind(files_32[,19], files_32[c(\"pre\", \"post\")], files_32[,1:18], files_32[,22:26])\n",
    "files_32 <- na.omit(files_32)\n",
    "\n",
    "files_34 = cbind(files_34[,19], files_34[c(\"pre\", \"post\")], files_34[,1:18], files_34[,22:26])\n",
    "files_34 <- na.omit(files_34)\n",
    "\n",
    "files_35 = cbind(files_35[,19], files_35[c(\"pre\", \"post\")], files_35[,1:18], files_35[,22:26])\n",
    "files_35 <- na.omit(files_35)\n",
    "\n",
    "head(files_35)"
   ]
  },
  {
   "cell_type": "code",
   "execution_count": 20,
   "metadata": {},
   "outputs": [
    {
     "data": {
      "image/png": "[encoded data removed]",
      "text/plain": [
       "Plot with title \"\""
      ]
     },
     "metadata": {},
     "output_type": "display_data"
    }
   ],
   "source": [
    "## set the parameter for drawing graphic. \n",
    "par(mar=c(5, 5, 2, 1) + 0.1)\n",
    "## drawing the histogram\n",
    "hist(files_35$post, freq=T, breaks=100, xlim=c(0,50), axes=F, main=\"\", xlab=\"Number of Post-Release Defects (per Package)\", ylab=\"Percentage\", col=\"darkgray\")\n",
    "axis(1)\n",
    "\n",
    "## this line, can draw the 0, 10%, 20% etc.. E.g., the 66.1 means the 661 (total number of lines) / 100 * 10. \n",
    "## the first param is: 2 means y axis. 1 means x. \n",
    "## \n",
    "axis(2, at=c(0, 110, 110*2, 110*3, 110*4, 110*5, 110*6), labels=c(\"0%\",\"10%\",\"20%\",\"30%\",\"40%\",\"50%\",\"60%\"), las=1)"
   ]
  },
  {
   "cell_type": "code",
   "execution_count": 13,
   "metadata": {},
   "outputs": [],
   "source": [
    "# col_name <- names(files_32)\n",
    "# env_vars <- col_name\n",
    "# for (env in env_vars){\n",
    "#    print(paste(env, \"+\"))\n",
    "# }\n",
    "# env_vars"
   ]
  },
  {
   "cell_type": "code",
   "execution_count": 21,
   "metadata": {},
   "outputs": [
    {
     "name": "stderr",
     "output_type": "stream",
     "text": [
      "Your code contains a unicode char which cannot be displayed in your\n",
      "current locale and R will silently convert it to an escaped form when the\n",
      "R kernel executes this code. This can lead to subtle errors if you use\n",
      "such chars to do comparisons. For more information, please see\n",
      "https://github.com/IRkernel/repr/wiki/Problems-with-unicode-on-windows"
     ]
    },
    {
     "data": {
      "text/html": [
       "<table>\n",
       "<tbody>\n",
       "\t<tr><th scope=row>pre</th><td> 1.00000000</td><td>1          </td><td> 0.24562770</td><td>1          </td></tr>\n",
       "\t<tr><th scope=row>post</th><td> 0.24562770</td><td>1          </td><td> 1.00000000</td><td>1          </td></tr>\n",
       "\t<tr><th scope=row>NOT</th><td> 0.12131557</td><td>1          </td><td> 0.08703734</td><td>1          </td></tr>\n",
       "\t<tr><th scope=row>NOI</th><td>-0.12131557</td><td>1          </td><td>-0.08703734</td><td>1          </td></tr>\n",
       "\t<tr><th scope=row>TLOC</th><td> 0.33490874</td><td>1          </td><td> 0.26604747</td><td>1          </td></tr>\n",
       "\t<tr><th scope=row>ACD</th><td> 0.15024836</td><td>1          </td><td> 0.14026917</td><td>1          </td></tr>\n",
       "\t<tr><th scope=row>NSM</th><td> 0.09495718</td><td>1          </td><td> 0.10740645</td><td>1          </td></tr>\n",
       "\t<tr><th scope=row>NSF</th><td> 0.13670012</td><td>1          </td><td> 0.06045530</td><td>0          </td></tr>\n",
       "\t<tr><th scope=row>NOM</th><td> 0.28150739</td><td>1          </td><td> 0.17743048</td><td>1          </td></tr>\n",
       "\t<tr><th scope=row>NOF</th><td> 0.23775541</td><td>1          </td><td> 0.17964279</td><td>1          </td></tr>\n",
       "\t<tr><th scope=row>MLOC_total</th><td> 0.34066363</td><td>1          </td><td> 0.25864895</td><td>1          </td></tr>\n",
       "\t<tr><th scope=row>MLOC_max</th><td> 0.34207078</td><td>1          </td><td> 0.26180410</td><td>1          </td></tr>\n",
       "\t<tr><th scope=row>NBD_total</th><td> 0.31552947</td><td>1          </td><td> 0.25362225</td><td>1          </td></tr>\n",
       "\t<tr><th scope=row>NBD_max</th><td> 0.32900818</td><td>1          </td><td> 0.24788471</td><td>1          </td></tr>\n",
       "\t<tr><th scope=row>PAR_total</th><td> 0.28069033</td><td>1          </td><td> 0.25969569</td><td>1          </td></tr>\n",
       "\t<tr><th scope=row>PAR_max</th><td> 0.20118666</td><td>1          </td><td> 0.23331400</td><td>1          </td></tr>\n",
       "\t<tr><th scope=row>VG_total</th><td> 0.34853517</td><td>1          </td><td> 0.25833270</td><td>1          </td></tr>\n",
       "\t<tr><th scope=row>VG_max</th><td> 0.35213299</td><td>1          </td><td> 0.26179214</td><td>1          </td></tr>\n",
       "\t<tr><th scope=row>FOUT_total</th><td> 0.31801193</td><td>1          </td><td> 0.25882580</td><td>1          </td></tr>\n",
       "\t<tr><th scope=row>FOUT_max</th><td> 0.30445187</td><td>1          </td><td> 0.24094789</td><td>1          </td></tr>\n",
       "\t<tr><th scope=row>MLOC_avg</th><td> 0.28778291</td><td>1          </td><td> 0.24843718</td><td>1          </td></tr>\n",
       "\t<tr><th scope=row>NBD_avg</th><td> 0.25697806</td><td>1          </td><td> 0.22307916</td><td>1          </td></tr>\n",
       "\t<tr><th scope=row>PAR_avg</th><td> 0.08320977</td><td>1          </td><td> 0.16448802</td><td>1          </td></tr>\n",
       "\t<tr><th scope=row>VG_avg</th><td> 0.30369335</td><td>1          </td><td> 0.25091875</td><td>1          </td></tr>\n",
       "\t<tr><th scope=row>FOUT_avg</th><td> 0.25576437</td><td>1          </td><td> 0.23925230</td><td>1          </td></tr>\n",
       "</tbody>\n",
       "</table>\n"
      ],
      "text/latex": [
       "\\begin{tabular}{r|llll}\n",
       "\tpre &  1.00000000 & 1           &  0.24562770 & 1          \\\\\n",
       "\tpost &  0.24562770 & 1           &  1.00000000 & 1          \\\\\n",
       "\tNOT &  0.12131557 & 1           &  0.08703734 & 1          \\\\\n",
       "\tNOI & -0.12131557 & 1           & -0.08703734 & 1          \\\\\n",
       "\tTLOC &  0.33490874 & 1           &  0.26604747 & 1          \\\\\n",
       "\tACD &  0.15024836 & 1           &  0.14026917 & 1          \\\\\n",
       "\tNSM &  0.09495718 & 1           &  0.10740645 & 1          \\\\\n",
       "\tNSF &  0.13670012 & 1           &  0.06045530 & 0          \\\\\n",
       "\tNOM &  0.28150739 & 1           &  0.17743048 & 1          \\\\\n",
       "\tNOF &  0.23775541 & 1           &  0.17964279 & 1          \\\\\n",
       "\tMLOC\\_total &  0.34066363 & 1           &  0.25864895 & 1          \\\\\n",
       "\tMLOC\\_max &  0.34207078 & 1           &  0.26180410 & 1          \\\\\n",
       "\tNBD\\_total &  0.31552947 & 1           &  0.25362225 & 1          \\\\\n",
       "\tNBD\\_max &  0.32900818 & 1           &  0.24788471 & 1          \\\\\n",
       "\tPAR\\_total &  0.28069033 & 1           &  0.25969569 & 1          \\\\\n",
       "\tPAR\\_max &  0.20118666 & 1           &  0.23331400 & 1          \\\\\n",
       "\tVG\\_total &  0.34853517 & 1           &  0.25833270 & 1          \\\\\n",
       "\tVG\\_max &  0.35213299 & 1           &  0.26179214 & 1          \\\\\n",
       "\tFOUT\\_total &  0.31801193 & 1           &  0.25882580 & 1          \\\\\n",
       "\tFOUT\\_max &  0.30445187 & 1           &  0.24094789 & 1          \\\\\n",
       "\tMLOC\\_avg &  0.28778291 & 1           &  0.24843718 & 1          \\\\\n",
       "\tNBD\\_avg &  0.25697806 & 1           &  0.22307916 & 1          \\\\\n",
       "\tPAR\\_avg &  0.08320977 & 1           &  0.16448802 & 1          \\\\\n",
       "\tVG\\_avg &  0.30369335 & 1           &  0.25091875 & 1          \\\\\n",
       "\tFOUT\\_avg &  0.25576437 & 1           &  0.23925230 & 1          \\\\\n",
       "\\end{tabular}\n"
      ],
      "text/markdown": [
       "\n",
       "| pre |  1.00000000 | 1           |  0.24562770 | 1           |\n",
       "| post |  0.24562770 | 1           |  1.00000000 | 1           |\n",
       "| NOT |  0.12131557 | 1           |  0.08703734 | 1           |\n",
       "| NOI | -0.12131557 | 1           | -0.08703734 | 1           |\n",
       "| TLOC |  0.33490874 | 1           |  0.26604747 | 1           |\n",
       "| ACD |  0.15024836 | 1           |  0.14026917 | 1           |\n",
       "| NSM |  0.09495718 | 1           |  0.10740645 | 1           |\n",
       "| NSF |  0.13670012 | 1           |  0.06045530 | 0           |\n",
       "| NOM |  0.28150739 | 1           |  0.17743048 | 1           |\n",
       "| NOF |  0.23775541 | 1           |  0.17964279 | 1           |\n",
       "| MLOC_total |  0.34066363 | 1           |  0.25864895 | 1           |\n",
       "| MLOC_max |  0.34207078 | 1           |  0.26180410 | 1           |\n",
       "| NBD_total |  0.31552947 | 1           |  0.25362225 | 1           |\n",
       "| NBD_max |  0.32900818 | 1           |  0.24788471 | 1           |\n",
       "| PAR_total |  0.28069033 | 1           |  0.25969569 | 1           |\n",
       "| PAR_max |  0.20118666 | 1           |  0.23331400 | 1           |\n",
       "| VG_total |  0.34853517 | 1           |  0.25833270 | 1           |\n",
       "| VG_max |  0.35213299 | 1           |  0.26179214 | 1           |\n",
       "| FOUT_total |  0.31801193 | 1           |  0.25882580 | 1           |\n",
       "| FOUT_max |  0.30445187 | 1           |  0.24094789 | 1           |\n",
       "| MLOC_avg |  0.28778291 | 1           |  0.24843718 | 1           |\n",
       "| NBD_avg |  0.25697806 | 1           |  0.22307916 | 1           |\n",
       "| PAR_avg |  0.08320977 | 1           |  0.16448802 | 1           |\n",
       "| VG_avg |  0.30369335 | 1           |  0.25091875 | 1           |\n",
       "| FOUT_avg |  0.25576437 | 1           |  0.23925230 | 1           |\n",
       "\n"
      ],
      "text/plain": [
       "           [,1]        [,2] [,3]        [,4]\n",
       "pre         1.00000000 1     0.24562770 1   \n",
       "post        0.24562770 1     1.00000000 1   \n",
       "NOT         0.12131557 1     0.08703734 1   \n",
       "NOI        -0.12131557 1    -0.08703734 1   \n",
       "TLOC        0.33490874 1     0.26604747 1   \n",
       "ACD         0.15024836 1     0.14026917 1   \n",
       "NSM         0.09495718 1     0.10740645 1   \n",
       "NSF         0.13670012 1     0.06045530 0   \n",
       "NOM         0.28150739 1     0.17743048 1   \n",
       "NOF         0.23775541 1     0.17964279 1   \n",
       "MLOC_total  0.34066363 1     0.25864895 1   \n",
       "MLOC_max    0.34207078 1     0.26180410 1   \n",
       "NBD_total   0.31552947 1     0.25362225 1   \n",
       "NBD_max     0.32900818 1     0.24788471 1   \n",
       "PAR_total   0.28069033 1     0.25969569 1   \n",
       "PAR_max     0.20118666 1     0.23331400 1   \n",
       "VG_total    0.34853517 1     0.25833270 1   \n",
       "VG_max      0.35213299 1     0.26179214 1   \n",
       "FOUT_total  0.31801193 1     0.25882580 1   \n",
       "FOUT_max    0.30445187 1     0.24094789 1   \n",
       "MLOC_avg    0.28778291 1     0.24843718 1   \n",
       "NBD_avg     0.25697806 1     0.22307916 1   \n",
       "PAR_avg     0.08320977 1     0.16448802 1   \n",
       "VG_avg      0.30369335 1     0.25091875 1   \n",
       "FOUT_avg    0.25576437 1     0.23925230 1   "
      ]
     },
     "metadata": {},
     "output_type": "display_data"
    }
   ],
   "source": [
    "## till now 2019年10月12日 there are only 22 columns in files. 21 of them are useful (the useless one is line ID)\n",
    "pre.p <- rep (-1, 25)\n",
    "post.p <- rep (-1, 25)\n",
    "for (i in 2:26) {\n",
    "    pre.p[i-1] <- cor.test(files_35[,i], files_35$pre, method=\"spearman\", exact=FALSE)$p.value\n",
    "    post.p[i-1] <- cor.test(files_35[,i], files_35$post, method=\"spearman\", exact=FALSE)$p.value\n",
    "}\n",
    "\n",
    "# p.value is the significance. If the significance is not enough (p is not small enough), the correlation results may not hold. \n",
    "cbind(\n",
    "    cor(files_35[,2:26], files_35$pre, method=\"spearman\"),\n",
    "    (pre.p<0.01),\n",
    "    cor(files_35[,2:26], files_35$post, method=\"spearman\"), \n",
    "    (post.p<0.01)\n",
    ")"
   ]
  },
  {
   "cell_type": "markdown",
   "metadata": {},
   "source": [
    "The correlation should be larger than `0.4` (according to the paper), but there is no such a feature that is larger than this value. So we cannot say **in file level, the more complex a file is, the more likely this file will be buggy**. "
   ]
  },
  {
   "cell_type": "code",
   "execution_count": 22,
   "metadata": {},
   "outputs": [
    {
     "name": "stderr",
     "output_type": "stream",
     "text": [
      "Warning message in predict.lm(object, newdata, se.fit, scale = 1, type = ifelse(type == :\n",
      "\"prediction from a rank-deficient fit may be misleading\""
     ]
    },
    {
     "data": {
      "text/html": [
       "<ol class=list-inline>\n",
       "\t<li>0.125815470643057</li>\n",
       "\t<li>0.627906976744186</li>\n",
       "\t<li>0.2</li>\n",
       "\t<li>0.884436160298229</li>\n",
       "</ol>\n"
      ],
      "text/latex": [
       "\\begin{enumerate*}\n",
       "\\item 0.125815470643057\n",
       "\\item 0.627906976744186\n",
       "\\item 0.2\n",
       "\\item 0.884436160298229\n",
       "\\end{enumerate*}\n"
      ],
      "text/markdown": [
       "1. 0.125815470643057\n",
       "2. 0.627906976744186\n",
       "3. 0.2\n",
       "4. 0.884436160298229\n",
       "\n",
       "\n"
      ],
      "text/plain": [
       "[1] 0.1258155 0.6279070 0.2000000 0.8844362"
      ]
     },
     "metadata": {},
     "output_type": "display_data"
    },
    {
     "name": "stderr",
     "output_type": "stream",
     "text": [
      "Warning message in predict.lm(object, newdata, se.fit, scale = 1, type = ifelse(type == :\n",
      "\"prediction from a rank-deficient fit may be misleading\""
     ]
    },
    {
     "data": {
      "text/html": [
       "<ol class=list-inline>\n",
       "\t<li>0.139491046182846</li>\n",
       "\t<li>0.682926829268293</li>\n",
       "\t<li>0.189189189189189</li>\n",
       "\t<li>0.874646559849199</li>\n",
       "</ol>\n"
      ],
      "text/latex": [
       "\\begin{enumerate*}\n",
       "\\item 0.139491046182846\n",
       "\\item 0.682926829268293\n",
       "\\item 0.189189189189189\n",
       "\\item 0.874646559849199\n",
       "\\end{enumerate*}\n"
      ],
      "text/markdown": [
       "1. 0.139491046182846\n",
       "2. 0.682926829268293\n",
       "3. 0.189189189189189\n",
       "4. 0.874646559849199\n",
       "\n",
       "\n"
      ],
      "text/plain": [
       "[1] 0.1394910 0.6829268 0.1891892 0.8746466"
      ]
     },
     "metadata": {},
     "output_type": "display_data"
    },
    {
     "name": "stderr",
     "output_type": "stream",
     "text": [
      "Warning message in predict.lm(object, newdata, se.fit, scale = 1, type = ifelse(type == :\n",
      "\"prediction from a rank-deficient fit may be misleading\""
     ]
    },
    {
     "data": {
      "text/html": [
       "<ol class=list-inline>\n",
       "\t<li>0.0796208530805687</li>\n",
       "\t<li>0.41025641025641</li>\n",
       "\t<li>0.19047619047619</li>\n",
       "\t<li>0.913744075829384</li>\n",
       "</ol>\n"
      ],
      "text/latex": [
       "\\begin{enumerate*}\n",
       "\\item 0.0796208530805687\n",
       "\\item 0.41025641025641\n",
       "\\item 0.19047619047619\n",
       "\\item 0.913744075829384\n",
       "\\end{enumerate*}\n"
      ],
      "text/markdown": [
       "1. 0.0796208530805687\n",
       "2. 0.41025641025641\n",
       "3. 0.19047619047619\n",
       "4. 0.913744075829384\n",
       "\n",
       "\n"
      ],
      "text/plain": [
       "[1] 0.07962085 0.41025641 0.19047619 0.91374408"
      ]
     },
     "metadata": {},
     "output_type": "display_data"
    },
    {
     "name": "stderr",
     "output_type": "stream",
     "text": [
      "Warning message in predict.lm(object, newdata, se.fit, scale = 1, type = ifelse(type == :\n",
      "\"prediction from a rank-deficient fit may be misleading\""
     ]
    },
    {
     "data": {
      "text/html": [
       "<ol class=list-inline>\n",
       "\t<li>0.125815470643057</li>\n",
       "\t<li>0.274809160305344</li>\n",
       "\t<li>0.266666666666667</li>\n",
       "\t<li>0.819198508853681</li>\n",
       "</ol>\n"
      ],
      "text/latex": [
       "\\begin{enumerate*}\n",
       "\\item 0.125815470643057\n",
       "\\item 0.274809160305344\n",
       "\\item 0.266666666666667\n",
       "\\item 0.819198508853681\n",
       "\\end{enumerate*}\n"
      ],
      "text/markdown": [
       "1. 0.125815470643057\n",
       "2. 0.274809160305344\n",
       "3. 0.266666666666667\n",
       "4. 0.819198508853681\n",
       "\n",
       "\n"
      ],
      "text/plain": [
       "[1] 0.1258155 0.2748092 0.2666667 0.8191985"
      ]
     },
     "metadata": {},
     "output_type": "display_data"
    },
    {
     "name": "stderr",
     "output_type": "stream",
     "text": [
      "Warning message in predict.lm(object, newdata, se.fit, scale = 1, type = ifelse(type == :\n",
      "\"prediction from a rank-deficient fit may be misleading\""
     ]
    },
    {
     "data": {
      "text/html": [
       "<ol class=list-inline>\n",
       "\t<li>0.139491046182846</li>\n",
       "\t<li>0.722222222222222</li>\n",
       "\t<li>0.351351351351351</li>\n",
       "\t<li>0.89066918001885</li>\n",
       "</ol>\n"
      ],
      "text/latex": [
       "\\begin{enumerate*}\n",
       "\\item 0.139491046182846\n",
       "\\item 0.722222222222222\n",
       "\\item 0.351351351351351\n",
       "\\item 0.89066918001885\n",
       "\\end{enumerate*}\n"
      ],
      "text/markdown": [
       "1. 0.139491046182846\n",
       "2. 0.722222222222222\n",
       "3. 0.351351351351351\n",
       "4. 0.89066918001885\n",
       "\n",
       "\n"
      ],
      "text/plain": [
       "[1] 0.1394910 0.7222222 0.3513514 0.8906692"
      ]
     },
     "metadata": {},
     "output_type": "display_data"
    },
    {
     "name": "stderr",
     "output_type": "stream",
     "text": [
      "Warning message in predict.lm(object, newdata, se.fit, scale = 1, type = ifelse(type == :\n",
      "\"prediction from a rank-deficient fit may be misleading\""
     ]
    },
    {
     "data": {
      "text/html": [
       "<ol class=list-inline>\n",
       "\t<li>0.0796208530805687</li>\n",
       "\t<li>0.259615384615385</li>\n",
       "\t<li>0.321428571428571</li>\n",
       "\t<li>0.872985781990521</li>\n",
       "</ol>\n"
      ],
      "text/latex": [
       "\\begin{enumerate*}\n",
       "\\item 0.0796208530805687\n",
       "\\item 0.259615384615385\n",
       "\\item 0.321428571428571\n",
       "\\item 0.872985781990521\n",
       "\\end{enumerate*}\n"
      ],
      "text/markdown": [
       "1. 0.0796208530805687\n",
       "2. 0.259615384615385\n",
       "3. 0.321428571428571\n",
       "4. 0.872985781990521\n",
       "\n",
       "\n"
      ],
      "text/plain": [
       "[1] 0.07962085 0.25961538 0.32142857 0.87298578"
      ]
     },
     "metadata": {},
     "output_type": "display_data"
    },
    {
     "name": "stderr",
     "output_type": "stream",
     "text": [
      "Warning message in predict.lm(object, newdata, se.fit, scale = 1, type = ifelse(type == :\n",
      "\"prediction from a rank-deficient fit may be misleading\""
     ]
    },
    {
     "data": {
      "text/html": [
       "<ol class=list-inline>\n",
       "\t<li>0.125815470643057</li>\n",
       "\t<li>0.571428571428571</li>\n",
       "\t<li>0.0888888888888889</li>\n",
       "\t<li>0.876980428704567</li>\n",
       "</ol>\n"
      ],
      "text/latex": [
       "\\begin{enumerate*}\n",
       "\\item 0.125815470643057\n",
       "\\item 0.571428571428571\n",
       "\\item 0.0888888888888889\n",
       "\\item 0.876980428704567\n",
       "\\end{enumerate*}\n"
      ],
      "text/markdown": [
       "1. 0.125815470643057\n",
       "2. 0.571428571428571\n",
       "3. 0.0888888888888889\n",
       "4. 0.876980428704567\n",
       "\n",
       "\n"
      ],
      "text/plain": [
       "[1] 0.12581547 0.57142857 0.08888889 0.87698043"
      ]
     },
     "metadata": {},
     "output_type": "display_data"
    },
    {
     "name": "stderr",
     "output_type": "stream",
     "text": [
      "Warning message in predict.lm(object, newdata, se.fit, scale = 1, type = ifelse(type == :\n",
      "\"prediction from a rank-deficient fit may be misleading\""
     ]
    },
    {
     "data": {
      "text/html": [
       "<ol class=list-inline>\n",
       "\t<li>0.139491046182846</li>\n",
       "\t<li>0.708333333333333</li>\n",
       "\t<li>0.114864864864865</li>\n",
       "\t<li>0.869934024505184</li>\n",
       "</ol>\n"
      ],
      "text/latex": [
       "\\begin{enumerate*}\n",
       "\\item 0.139491046182846\n",
       "\\item 0.708333333333333\n",
       "\\item 0.114864864864865\n",
       "\\item 0.869934024505184\n",
       "\\end{enumerate*}\n"
      ],
      "text/markdown": [
       "1. 0.139491046182846\n",
       "2. 0.708333333333333\n",
       "3. 0.114864864864865\n",
       "4. 0.869934024505184\n",
       "\n",
       "\n"
      ],
      "text/plain": [
       "[1] 0.1394910 0.7083333 0.1148649 0.8699340"
      ]
     },
     "metadata": {},
     "output_type": "display_data"
    },
    {
     "name": "stderr",
     "output_type": "stream",
     "text": [
      "Warning message in predict.lm(object, newdata, se.fit, scale = 1, type = ifelse(type == :\n",
      "\"prediction from a rank-deficient fit may be misleading\""
     ]
    },
    {
     "data": {
      "text/html": [
       "<ol class=list-inline>\n",
       "\t<li>0.0796208530805687</li>\n",
       "\t<li>0.8125</li>\n",
       "\t<li>0.154761904761905</li>\n",
       "\t<li>0.929857819905213</li>\n",
       "</ol>\n"
      ],
      "text/latex": [
       "\\begin{enumerate*}\n",
       "\\item 0.0796208530805687\n",
       "\\item 0.8125\n",
       "\\item 0.154761904761905\n",
       "\\item 0.929857819905213\n",
       "\\end{enumerate*}\n"
      ],
      "text/markdown": [
       "1. 0.0796208530805687\n",
       "2. 0.8125\n",
       "3. 0.154761904761905\n",
       "4. 0.929857819905213\n",
       "\n",
       "\n"
      ],
      "text/plain": [
       "[1] 0.07962085 0.81250000 0.15476190 0.92985782"
      ]
     },
     "metadata": {},
     "output_type": "display_data"
    }
   ],
   "source": [
    "test_classification <- function (train, test) \n",
    "{\n",
    "    model.glm <- glm((post>0) ~ \n",
    "                    NOT +\n",
    "                    NOI +\n",
    "                    TLOC +\n",
    "                    ACD +\n",
    "                    NSM +\n",
    "                    NSF +\n",
    "                    NOM +\n",
    "                    NOF +\n",
    "                    MLOC_total +\n",
    "                    MLOC_max +\n",
    "                    NBD_total +\n",
    "                    NBD_max +\n",
    "                    PAR_total +\n",
    "                    PAR_max +\n",
    "                    VG_total +\n",
    "                    VG_max +\n",
    "                    FOUT_total +\n",
    "                    FOUT_max +\n",
    "                    pre +\n",
    "                    MLOC_avg +\n",
    "                    NBD_avg +\n",
    "                    PAR_avg +\n",
    "                    VG_avg +\n",
    "                    FOUT_avg\n",
    "                    , data=train, family = \"binomial\")\n",
    "    test.prob <- predict(model.glm, test, type=\"response\")\n",
    "    test.pred <- test.prob>=0.50\n",
    "\n",
    "    outcome <- table(factor(test$post>0, levels=c(F,T)), factor(test.pred, levels=c(F,T)))\n",
    "    TN <- outcome[1,1]\n",
    "    FN <- outcome[2,1]\n",
    "    FP <- outcome[1,2]\n",
    "    TP <- outcome[2,2]\n",
    "    precision <- if (TP + FP ==0) { 1 } else { TP / (TP + FP) }\n",
    "    recall <- TP / (TP + FN)\n",
    "    accuracy <- (TP + TN) / (TN + FN + FP + TP)\n",
    "    defects <- (TP + FN) / (TN + FN + FP + TP)\n",
    "    return (c(defects, precision, recall, accuracy))\n",
    "}\n",
    "\n",
    "\n",
    "test_classification(files_32, files_32)\n",
    "test_classification(files_32, files_34)\n",
    "test_classification(files_32, files_35)\n",
    "\n",
    "test_classification(files_34, files_32)\n",
    "test_classification(files_34, files_34)\n",
    "test_classification(files_34, files_35)\n",
    "\n",
    "test_classification(files_35, files_32)\n",
    "test_classification(files_35, files_34)\n",
    "test_classification(files_35, files_35)"
   ]
  },
  {
   "cell_type": "markdown",
   "metadata": {},
   "source": [
    "Recall is low. Which means there are still a lot of the buggy file are not identified.\n",
    "\n",
    "But the precision are generally higher than `0.6`, it means when this model say \"this file is defect-prone\", this decision is most likely to be true. "
   ]
  },
  {
   "cell_type": "code",
   "execution_count": 23,
   "metadata": {},
   "outputs": [
    {
     "name": "stderr",
     "output_type": "stream",
     "text": [
      "Warning message in predict.lm(model.lm, test):\n",
      "\"prediction from a rank-deficient fit may be misleading\""
     ]
    },
    {
     "data": {
      "text/html": [
       "<ol class=list-inline>\n",
       "\t<li>0.172995076347026</li>\n",
       "\t<li>0.415926768009737</li>\n",
       "\t<li>0.352754101737218</li>\n",
       "\t<li>1</li>\n",
       "\t<li>1</li>\n",
       "</ol>\n"
      ],
      "text/latex": [
       "\\begin{enumerate*}\n",
       "\\item 0.172995076347026\n",
       "\\item 0.415926768009737\n",
       "\\item 0.352754101737218\n",
       "\\item 1\n",
       "\\item 1\n",
       "\\end{enumerate*}\n"
      ],
      "text/markdown": [
       "1. 0.172995076347026\n",
       "2. 0.415926768009737\n",
       "3. 0.352754101737218\n",
       "4. 1\n",
       "5. 1\n",
       "\n",
       "\n"
      ],
      "text/plain": [
       "[1] 0.1729951 0.4159268 0.3527541 1.0000000 1.0000000"
      ]
     },
     "metadata": {},
     "output_type": "display_data"
    },
    {
     "name": "stderr",
     "output_type": "stream",
     "text": [
      "Warning message in predict.lm(model.lm, test):\n",
      "\"prediction from a rank-deficient fit may be misleading\""
     ]
    },
    {
     "data": {
      "text/html": [
       "<ol class=list-inline>\n",
       "\t<li>0.172995076347026</li>\n",
       "\t<li>0.364358691788801</li>\n",
       "\t<li>0.347028369809234</li>\n",
       "\t<li>1</li>\n",
       "\t<li>1</li>\n",
       "</ol>\n"
      ],
      "text/latex": [
       "\\begin{enumerate*}\n",
       "\\item 0.172995076347026\n",
       "\\item 0.364358691788801\n",
       "\\item 0.347028369809234\n",
       "\\item 1\n",
       "\\item 1\n",
       "\\end{enumerate*}\n"
      ],
      "text/markdown": [
       "1. 0.172995076347026\n",
       "2. 0.364358691788801\n",
       "3. 0.347028369809234\n",
       "4. 1\n",
       "5. 1\n",
       "\n",
       "\n"
      ],
      "text/plain": [
       "[1] 0.1729951 0.3643587 0.3470284 1.0000000 1.0000000"
      ]
     },
     "metadata": {},
     "output_type": "display_data"
    },
    {
     "name": "stderr",
     "output_type": "stream",
     "text": [
      "Warning message in predict.lm(model.lm, test):\n",
      "\"prediction from a rank-deficient fit may be misleading\""
     ]
    },
    {
     "data": {
      "text/html": [
       "<ol class=list-inline>\n",
       "\t<li>0.172995076347026</li>\n",
       "\t<li>0.304470797944005</li>\n",
       "\t<li>0.272592189314531</li>\n",
       "\t<li>1</li>\n",
       "\t<li>1</li>\n",
       "</ol>\n"
      ],
      "text/latex": [
       "\\begin{enumerate*}\n",
       "\\item 0.172995076347026\n",
       "\\item 0.304470797944005\n",
       "\\item 0.272592189314531\n",
       "\\item 1\n",
       "\\item 1\n",
       "\\end{enumerate*}\n"
      ],
      "text/markdown": [
       "1. 0.172995076347026\n",
       "2. 0.304470797944005\n",
       "3. 0.272592189314531\n",
       "4. 1\n",
       "5. 1\n",
       "\n",
       "\n"
      ],
      "text/plain": [
       "[1] 0.1729951 0.3044708 0.2725922 1.0000000 1.0000000"
      ]
     },
     "metadata": {},
     "output_type": "display_data"
    },
    {
     "name": "stderr",
     "output_type": "stream",
     "text": [
      "Warning message in predict.lm(model.lm, test):\n",
      "\"prediction from a rank-deficient fit may be misleading\""
     ]
    },
    {
     "data": {
      "text/html": [
       "<ol class=list-inline>\n",
       "\t<li>0.233886142675426</li>\n",
       "\t<li>0.273090110882686</li>\n",
       "\t<li>0.293861798799026</li>\n",
       "\t<li>1</li>\n",
       "\t<li>1</li>\n",
       "</ol>\n"
      ],
      "text/latex": [
       "\\begin{enumerate*}\n",
       "\\item 0.233886142675426\n",
       "\\item 0.273090110882686\n",
       "\\item 0.293861798799026\n",
       "\\item 1\n",
       "\\item 1\n",
       "\\end{enumerate*}\n"
      ],
      "text/markdown": [
       "1. 0.233886142675426\n",
       "2. 0.273090110882686\n",
       "3. 0.293861798799026\n",
       "4. 1\n",
       "5. 1\n",
       "\n",
       "\n"
      ],
      "text/plain": [
       "[1] 0.2338861 0.2730901 0.2938618 1.0000000 1.0000000"
      ]
     },
     "metadata": {},
     "output_type": "display_data"
    },
    {
     "name": "stderr",
     "output_type": "stream",
     "text": [
      "Warning message in predict.lm(model.lm, test):\n",
      "\"prediction from a rank-deficient fit may be misleading\""
     ]
    },
    {
     "data": {
      "text/html": [
       "<ol class=list-inline>\n",
       "\t<li>0.233886142675426</li>\n",
       "\t<li>0.483617765053587</li>\n",
       "\t<li>0.38760760567315</li>\n",
       "\t<li>1</li>\n",
       "\t<li>1</li>\n",
       "</ol>\n"
      ],
      "text/latex": [
       "\\begin{enumerate*}\n",
       "\\item 0.233886142675426\n",
       "\\item 0.483617765053587\n",
       "\\item 0.38760760567315\n",
       "\\item 1\n",
       "\\item 1\n",
       "\\end{enumerate*}\n"
      ],
      "text/markdown": [
       "1. 0.233886142675426\n",
       "2. 0.483617765053587\n",
       "3. 0.38760760567315\n",
       "4. 1\n",
       "5. 1\n",
       "\n",
       "\n"
      ],
      "text/plain": [
       "[1] 0.2338861 0.4836178 0.3876076 1.0000000 1.0000000"
      ]
     },
     "metadata": {},
     "output_type": "display_data"
    },
    {
     "name": "stderr",
     "output_type": "stream",
     "text": [
      "Warning message in predict.lm(model.lm, test):\n",
      "\"prediction from a rank-deficient fit may be misleading\""
     ]
    },
    {
     "data": {
      "text/html": [
       "<ol class=list-inline>\n",
       "\t<li>0.233886142675426</li>\n",
       "\t<li>0.298089663031621</li>\n",
       "\t<li>0.237144215771538</li>\n",
       "\t<li>1</li>\n",
       "\t<li>1</li>\n",
       "</ol>\n"
      ],
      "text/latex": [
       "\\begin{enumerate*}\n",
       "\\item 0.233886142675426\n",
       "\\item 0.298089663031621\n",
       "\\item 0.237144215771538\n",
       "\\item 1\n",
       "\\item 1\n",
       "\\end{enumerate*}\n"
      ],
      "text/markdown": [
       "1. 0.233886142675426\n",
       "2. 0.298089663031621\n",
       "3. 0.237144215771538\n",
       "4. 1\n",
       "5. 1\n",
       "\n",
       "\n"
      ],
      "text/plain": [
       "[1] 0.2338861 0.2980897 0.2371442 1.0000000 1.0000000"
      ]
     },
     "metadata": {},
     "output_type": "display_data"
    },
    {
     "name": "stderr",
     "output_type": "stream",
     "text": [
      "Warning message in predict.lm(model.lm, test):\n",
      "\"prediction from a rank-deficient fit may be misleading\""
     ]
    },
    {
     "data": {
      "text/html": [
       "<ol class=list-inline>\n",
       "\t<li>0.181019566844138</li>\n",
       "\t<li>0.304001723115129</li>\n",
       "\t<li>0.327774270459313</li>\n",
       "\t<li>1</li>\n",
       "\t<li>1</li>\n",
       "</ol>\n"
      ],
      "text/latex": [
       "\\begin{enumerate*}\n",
       "\\item 0.181019566844138\n",
       "\\item 0.304001723115129\n",
       "\\item 0.327774270459313\n",
       "\\item 1\n",
       "\\item 1\n",
       "\\end{enumerate*}\n"
      ],
      "text/markdown": [
       "1. 0.181019566844138\n",
       "2. 0.304001723115129\n",
       "3. 0.327774270459313\n",
       "4. 1\n",
       "5. 1\n",
       "\n",
       "\n"
      ],
      "text/plain": [
       "[1] 0.1810196 0.3040017 0.3277743 1.0000000 1.0000000"
      ]
     },
     "metadata": {},
     "output_type": "display_data"
    },
    {
     "name": "stderr",
     "output_type": "stream",
     "text": [
      "Warning message in predict.lm(model.lm, test):\n",
      "\"prediction from a rank-deficient fit may be misleading\""
     ]
    },
    {
     "data": {
      "text/html": [
       "<ol class=list-inline>\n",
       "\t<li>0.181019566844138</li>\n",
       "\t<li>0.377929597580843</li>\n",
       "\t<li>0.344565467704246</li>\n",
       "\t<li>1</li>\n",
       "\t<li>1</li>\n",
       "</ol>\n"
      ],
      "text/latex": [
       "\\begin{enumerate*}\n",
       "\\item 0.181019566844138\n",
       "\\item 0.377929597580843\n",
       "\\item 0.344565467704246\n",
       "\\item 1\n",
       "\\item 1\n",
       "\\end{enumerate*}\n"
      ],
      "text/markdown": [
       "1. 0.181019566844138\n",
       "2. 0.377929597580843\n",
       "3. 0.344565467704246\n",
       "4. 1\n",
       "5. 1\n",
       "\n",
       "\n"
      ],
      "text/plain": [
       "[1] 0.1810196 0.3779296 0.3445655 1.0000000 1.0000000"
      ]
     },
     "metadata": {},
     "output_type": "display_data"
    },
    {
     "name": "stderr",
     "output_type": "stream",
     "text": [
      "Warning message in predict.lm(model.lm, test):\n",
      "\"prediction from a rank-deficient fit may be misleading\""
     ]
    },
    {
     "data": {
      "text/html": [
       "<ol class=list-inline>\n",
       "\t<li>0.181019566844138</li>\n",
       "\t<li>0.425463943059971</li>\n",
       "\t<li>0.268214903965013</li>\n",
       "\t<li>1</li>\n",
       "\t<li>1</li>\n",
       "</ol>\n"
      ],
      "text/latex": [
       "\\begin{enumerate*}\n",
       "\\item 0.181019566844138\n",
       "\\item 0.425463943059971\n",
       "\\item 0.268214903965013\n",
       "\\item 1\n",
       "\\item 1\n",
       "\\end{enumerate*}\n"
      ],
      "text/markdown": [
       "1. 0.181019566844138\n",
       "2. 0.425463943059971\n",
       "3. 0.268214903965013\n",
       "4. 1\n",
       "5. 1\n",
       "\n",
       "\n"
      ],
      "text/plain": [
       "[1] 0.1810196 0.4254639 0.2682149 1.0000000 1.0000000"
      ]
     },
     "metadata": {},
     "output_type": "display_data"
    }
   ],
   "source": [
    "## need to understand how to interprete the r^2, pearson, spearman, and their p.value. \n",
    "test_ranking <- function (train, test) \n",
    "{\n",
    "    model.lm <- lm(post ~ \n",
    "                        NOT +\n",
    "                        NOI +\n",
    "                        TLOC +\n",
    "                        ACD +\n",
    "                        NSM +\n",
    "                        NSF +\n",
    "                        NOM +\n",
    "                        NOF +\n",
    "                        MLOC_total +\n",
    "                        MLOC_max +\n",
    "                        NBD_total +\n",
    "                        NBD_max +\n",
    "                        PAR_total +\n",
    "                        PAR_max +\n",
    "                        VG_total +\n",
    "                        VG_max +\n",
    "                        FOUT_total +\n",
    "                        FOUT_max +\n",
    "                        pre +\n",
    "                        MLOC_avg +\n",
    "                        NBD_avg +\n",
    "                        PAR_avg +\n",
    "                        VG_avg +\n",
    "                        FOUT_avg\n",
    "                   , data=train)\n",
    "    test.pred <- predict(model.lm, test)\n",
    "\n",
    "    r.squared <- summary(model.lm)$r.squared\n",
    "    pearson <- cor(test$post, test.pred, method=\"pearson\")\n",
    "    spearman <- cor(test$post, test.pred, method=\"spearman\")\n",
    "    pearson.p <- cor.test(test$post, test.pred, method=\"pearson\")$p.value\n",
    "    spearman.p <- cor.test(test$post, test.pred, method=\"spearman\", exact=FALSE)$p.value\n",
    "\n",
    "    return (c(r.squared, pearson, spearman, pearson.p<0.01, spearman.p<0.01))\n",
    "}\n",
    "\n",
    "test_ranking(files_32, files_32)\n",
    "test_ranking(files_32, files_34)\n",
    "test_ranking(files_32, files_35)\n",
    "\n",
    "test_ranking(files_34, files_32)\n",
    "test_ranking(files_34, files_34)\n",
    "test_ranking(files_34, files_35)\n",
    "\n",
    "test_ranking(files_35, files_32)\n",
    "test_ranking(files_35, files_34)\n",
    "test_ranking(files_35, files_35)"
   ]
  },
  {
   "cell_type": "markdown",
   "metadata": {},
   "source": [
    "According to r.square, \"only up to `23.3%` of variance are explained by complexity metrics\".\n",
    "\n",
    "\" The Spearman correlation values ρ are low, reaching `0.484` at most, but positive. Therefore, files having a higher predicted rank are more likely to have a high observed rank, too\". "
   ]
  }
 ],
 "metadata": {
  "kernelspec": {
   "display_name": "R",
   "language": "R",
   "name": "ir"
  },
  "language_info": {
   "codemirror_mode": "r",
   "file_extension": ".r",
   "mimetype": "text/x-r-source",
   "name": "R",
   "pygments_lexer": "r",
   "version": "3.5.1"
  }
 },
 "nbformat": 4,
 "nbformat_minor": 2
}
