{
 "cells": [
  {
   "cell_type": "markdown",
   "metadata": {},
   "source": [
    "### Fit the old code to our dataset. \n",
    "\n",
    "纸上得来终觉浅，绝知此事要躬行。"
   ]
  },
  {
   "cell_type": "code",
   "execution_count": 36,
   "metadata": {},
   "outputs": [
    {
     "data": {
      "text/html": [
       "1112"
      ],
      "text/latex": [
       "1112"
      ],
      "text/markdown": [
       "1112"
      ],
      "text/plain": [
       "[1] 1112"
      ]
     },
     "metadata": {},
     "output_type": "display_data"
    },
    {
     "data": {
      "text/html": [
       "1100"
      ],
      "text/latex": [
       "1100"
      ],
      "text/markdown": [
       "1100"
      ],
      "text/plain": [
       "[1] 1100"
      ]
     },
     "metadata": {},
     "output_type": "display_data"
    },
    {
     "data": {
      "text/html": [
       "1094"
      ],
      "text/latex": [
       "1094"
      ],
      "text/markdown": [
       "1094"
      ],
      "text/plain": [
       "[1] 1094"
      ]
     },
     "metadata": {},
     "output_type": "display_data"
    }
   ],
   "source": [
    "options(warn=-1)\n",
    "files_32 <- read.table(\"../org.eclipse.jdt.core_3.2/dataset-_3.2-filelevel.csv\", header=T, sep=\",\")\n",
    "files_34 <- read.table(\"../org.eclipse.jdt.core_3.4/dataset-_3.4-filelevel.csv\", header=T, sep=\",\")\n",
    "files_35 <- read.table(\"../org.eclipse.jdt.core_3.5/dataset-_3.5-filelevel.csv\", header=T, sep=\",\")\n",
    "\n",
    "nrow(files_32)\n",
    "nrow(files_34)\n",
    "nrow(files_35)"
   ]
  },
  {
   "cell_type": "markdown",
   "metadata": {},
   "source": [
    "### preprocess the dataframe to make it the same as example csv files. "
   ]
  },
  {
   "cell_type": "code",
   "execution_count": 37,
   "metadata": {},
   "outputs": [
    {
     "data": {
      "text/html": [
       "<table>\n",
       "<thead><tr><th scope=col>NOT</th><th scope=col>NOI</th><th scope=col>TLOC</th><th scope=col>ACD</th><th scope=col>NSM</th><th scope=col>NSF</th><th scope=col>NOM</th><th scope=col>NOF</th><th scope=col>MLOC_total</th><th scope=col>MLOC_max</th><th scope=col>...</th><th scope=col>FOUT_total</th><th scope=col>FOUT_max</th><th scope=col>file</th><th scope=col>pre</th><th scope=col>post</th><th scope=col>MLOC_avg</th><th scope=col>NBD_avg</th><th scope=col>PAR_avg</th><th scope=col>VG_avg</th><th scope=col>FOUT_avg</th></tr></thead>\n",
       "<tbody>\n",
       "\t<tr><td>1                                                                                                                     </td><td>0                                                                                                                     </td><td>516                                                                                                                   </td><td>0                                                                                                                     </td><td>0                                                                                                                     </td><td>0                                                                                                                     </td><td>33                                                                                                                    </td><td>7                                                                                                                     </td><td>448                                                                                                                   </td><td>115                                                                                                                   </td><td>...                                                                                                                   </td><td>142                                                                                                                   </td><td>20                                                                                                                    </td><td>eclipse\\org.eclipse.jdt.core\\compiler\\org\\eclipse\\jdt\\internal\\compiler\\lookup\\MethodVerifier.java           </td><td>1                                                                                                                     </td><td>0                                                                                                                     </td><td>13.575758                                                                                                             </td><td> 1.0303030                                                                                                            </td><td>1.4848485                                                                                                             </td><td>6.181818                                                                                                              </td><td>4.303030                                                                                                              </td></tr>\n",
       "\t<tr><td>0                                                                                                                     </td><td>1                                                                                                                     </td><td> 11                                                                                                                   </td><td>0                                                                                                                     </td><td>0                                                                                                                     </td><td>0                                                                                                                     </td><td> 7                                                                                                                    </td><td>0                                                                                                                     </td><td>  7                                                                                                                   </td><td>  1                                                                                                                   </td><td>...                                                                                                                   </td><td>  0                                                                                                                   </td><td> 0                                                                                                                    </td><td>eclipse\\org.eclipse.jdt.core\\model\\org\\eclipse\\jdt\\core\\IClassFile.java                                        </td><td>0                                                                                                                     </td><td>0                                                                                                                     </td><td> 1.000000                                                                                                             </td><td>-1.0000000                                                                                                            </td><td>1.1428571                                                                                                             </td><td>1.000000                                                                                                              </td><td>0.000000                                                                                                              </td></tr>\n",
       "\t<tr><td>1                                                                                                                     </td><td>0                                                                                                                     </td><td>  5                                                                                                                   </td><td>0                                                                                                                     </td><td>0                                                                                                                     </td><td>0                                                                                                                     </td><td> 1                                                                                                                    </td><td>0                                                                                                                     </td><td>  2                                                                                                                   </td><td>  2                                                                                                                   </td><td>...                                                                                                                   </td><td>  0                                                                                                                   </td><td> 0                                                                                                                    </td><td>eclipse\\org.eclipse.jdt.core\\search\\org\\eclipse\\jdt\\core\\search\\TypeNameRequestor.java                        </td><td>0                                                                                                                     </td><td>0                                                                                                                     </td><td> 2.000000                                                                                                             </td><td> 0.0000000                                                                                                            </td><td>5.0000000                                                                                                             </td><td>1.000000                                                                                                              </td><td>0.000000                                                                                                              </td></tr>\n",
       "\t<tr><td>1                                                                                                                     </td><td>0                                                                                                                     </td><td> 35                                                                                                                   </td><td>0                                                                                                                     </td><td>0                                                                                                                     </td><td>0                                                                                                                     </td><td> 6                                                                                                                    </td><td>1                                                                                                                     </td><td> 28                                                                                                                   </td><td> 10                                                                                                                   </td><td>...                                                                                                                   </td><td>  7                                                                                                                   </td><td> 4                                                                                                                    </td><td>eclipse\\org.eclipse.jdt.core\\compiler\\org\\eclipse\\jdt\\internal\\compiler\\flow\\InsideSubRoutineFlowContext.java</td><td>0                                                                                                                     </td><td>0                                                                                                                     </td><td> 4.666667                                                                                                             </td><td> 0.3333333                                                                                                            </td><td>0.5000000                                                                                                             </td><td>1.500000                                                                                                              </td><td>1.166667                                                                                                              </td></tr>\n",
       "\t<tr><td>1                                                                                                                     </td><td>0                                                                                                                     </td><td> 39                                                                                                                   </td><td>0                                                                                                                     </td><td>0                                                                                                                     </td><td>0                                                                                                                     </td><td> 5                                                                                                                    </td><td>0                                                                                                                     </td><td> 24                                                                                                                   </td><td>  8                                                                                                                   </td><td>...                                                                                                                   </td><td>  8                                                                                                                   </td><td> 5                                                                                                                    </td><td>eclipse\\org.eclipse.jdt.core\\model\\org\\eclipse\\jdt\\internal\\core\\RenameElementsOperation.java                 </td><td>0                                                                                                                     </td><td>0                                                                                                                     </td><td> 4.800000                                                                                                             </td><td> 0.0000000                                                                                                            </td><td>1.0000000                                                                                                             </td><td>2.800000                                                                                                              </td><td>1.600000                                                                                                              </td></tr>\n",
       "\t<tr><td>1                                                                                                                     </td><td>0                                                                                                                     </td><td> 71                                                                                                                   </td><td>0                                                                                                                     </td><td>1                                                                                                                     </td><td>2                                                                                                                     </td><td>12                                                                                                                    </td><td>3                                                                                                                     </td><td> 55                                                                                                                   </td><td> 12                                                                                                                   </td><td>...                                                                                                                   </td><td> 20                                                                                                                   </td><td> 6                                                                                                                    </td><td>eclipse\\org.eclipse.jdt.core\\dom\\org\\eclipse\\jdt\\core\\dom\\ThisExpression.java                                 </td><td>0                                                                                                                     </td><td>0                                                                                                                     </td><td> 4.583333                                                                                                             </td><td> 0.2500000                                                                                                            </td><td>0.9166667                                                                                                             </td><td>1.333333                                                                                                              </td><td>1.666667                                                                                                              </td></tr>\n",
       "</tbody>\n",
       "</table>\n"
      ],
      "text/latex": [
       "\\begin{tabular}{r|llllllllllllllllllllllllll}\n",
       " NOT & NOI & TLOC & ACD & NSM & NSF & NOM & NOF & MLOC\\_total & MLOC\\_max & ... & FOUT\\_total & FOUT\\_max & file & pre & post & MLOC\\_avg & NBD\\_avg & PAR\\_avg & VG\\_avg & FOUT\\_avg\\\\\n",
       "\\hline\n",
       "\t 1                                                                                                                                                                                                                                                             & 0                                                                                                                                                                                                                                                             & 516                                                                                                                                                                                                                                                           & 0                                                                                                                                                                                                                                                             & 0                                                                                                                                                                                                                                                             & 0                                                                                                                                                                                                                                                             & 33                                                                                                                                                                                                                                                            & 7                                                                                                                                                                                                                                                             & 448                                                                                                                                                                                                                                                           & 115                                                                                                                                                                                                                                                           & ...                                                                                                                                                                                                                                                           & 142                                                                                                                                                                                                                                                           & 20                                                                                                                                                                                                                                                            & eclipse\\textbackslash{}org.eclipse.jdt.core\\textbackslash{}compiler\\textbackslash{}org\\textbackslash{}eclipse\\textbackslash{}jdt\\textbackslash{}internal\\textbackslash{}compiler\\textbackslash{}lookup\\textbackslash{}MethodVerifier.java            & 1                                                                                                                                                                                                                                                             & 0                                                                                                                                                                                                                                                             & 13.575758                                                                                                                                                                                                                                                     &  1.0303030                                                                                                                                                                                                                                                    & 1.4848485                                                                                                                                                                                                                                                     & 6.181818                                                                                                                                                                                                                                                      & 4.303030                                                                                                                                                                                                                                                     \\\\\n",
       "\t 0                                                                                                                                                                                                                               & 1                                                                                                                                                                                                                               &  11                                                                                                                                                                                                                             & 0                                                                                                                                                                                                                               & 0                                                                                                                                                                                                                               & 0                                                                                                                                                                                                                               &  7                                                                                                                                                                                                                              & 0                                                                                                                                                                                                                               &   7                                                                                                                                                                                                                             &   1                                                                                                                                                                                                                             & ...                                                                                                                                                                                                                             &   0                                                                                                                                                                                                                             &  0                                                                                                                                                                                                                              & eclipse\\textbackslash{}org.eclipse.jdt.core\\textbackslash{}model\\textbackslash{}org\\textbackslash{}eclipse\\textbackslash{}jdt\\textbackslash{}core\\textbackslash{}IClassFile.java                                         & 0                                                                                                                                                                                                                               & 0                                                                                                                                                                                                                               &  1.000000                                                                                                                                                                                                                       & -1.0000000                                                                                                                                                                                                                      & 1.1428571                                                                                                                                                                                                                       & 1.000000                                                                                                                                                                                                                        & 0.000000                                                                                                                                                                                                                       \\\\\n",
       "\t 1                                                                                                                                                                                                                                              & 0                                                                                                                                                                                                                                              &   5                                                                                                                                                                                                                                            & 0                                                                                                                                                                                                                                              & 0                                                                                                                                                                                                                                              & 0                                                                                                                                                                                                                                              &  1                                                                                                                                                                                                                                             & 0                                                                                                                                                                                                                                              &   2                                                                                                                                                                                                                                            &   2                                                                                                                                                                                                                                            & ...                                                                                                                                                                                                                                            &   0                                                                                                                                                                                                                                            &  0                                                                                                                                                                                                                                             & eclipse\\textbackslash{}org.eclipse.jdt.core\\textbackslash{}search\\textbackslash{}org\\textbackslash{}eclipse\\textbackslash{}jdt\\textbackslash{}core\\textbackslash{}search\\textbackslash{}TypeNameRequestor.java                         & 0                                                                                                                                                                                                                                              & 0                                                                                                                                                                                                                                              &  2.000000                                                                                                                                                                                                                                      &  0.0000000                                                                                                                                                                                                                                     & 5.0000000                                                                                                                                                                                                                                      & 1.000000                                                                                                                                                                                                                                       & 0.000000                                                                                                                                                                                                                                      \\\\\n",
       "\t 1                                                                                                                                                                                                                                                             & 0                                                                                                                                                                                                                                                             &  35                                                                                                                                                                                                                                                           & 0                                                                                                                                                                                                                                                             & 0                                                                                                                                                                                                                                                             & 0                                                                                                                                                                                                                                                             &  6                                                                                                                                                                                                                                                            & 1                                                                                                                                                                                                                                                             &  28                                                                                                                                                                                                                                                           &  10                                                                                                                                                                                                                                                           & ...                                                                                                                                                                                                                                                           &   7                                                                                                                                                                                                                                                           &  4                                                                                                                                                                                                                                                            & eclipse\\textbackslash{}org.eclipse.jdt.core\\textbackslash{}compiler\\textbackslash{}org\\textbackslash{}eclipse\\textbackslash{}jdt\\textbackslash{}internal\\textbackslash{}compiler\\textbackslash{}flow\\textbackslash{}InsideSubRoutineFlowContext.java & 0                                                                                                                                                                                                                                                             & 0                                                                                                                                                                                                                                                             &  4.666667                                                                                                                                                                                                                                                     &  0.3333333                                                                                                                                                                                                                                                    & 0.5000000                                                                                                                                                                                                                                                     & 1.500000                                                                                                                                                                                                                                                      & 1.166667                                                                                                                                                                                                                                                     \\\\\n",
       "\t 1                                                                                                                                                                                                                                              & 0                                                                                                                                                                                                                                              &  39                                                                                                                                                                                                                                            & 0                                                                                                                                                                                                                                              & 0                                                                                                                                                                                                                                              & 0                                                                                                                                                                                                                                              &  5                                                                                                                                                                                                                                             & 0                                                                                                                                                                                                                                              &  24                                                                                                                                                                                                                                            &   8                                                                                                                                                                                                                                            & ...                                                                                                                                                                                                                                            &   8                                                                                                                                                                                                                                            &  5                                                                                                                                                                                                                                             & eclipse\\textbackslash{}org.eclipse.jdt.core\\textbackslash{}model\\textbackslash{}org\\textbackslash{}eclipse\\textbackslash{}jdt\\textbackslash{}internal\\textbackslash{}core\\textbackslash{}RenameElementsOperation.java                  & 0                                                                                                                                                                                                                                              & 0                                                                                                                                                                                                                                              &  4.800000                                                                                                                                                                                                                                      &  0.0000000                                                                                                                                                                                                                                     & 1.0000000                                                                                                                                                                                                                                      & 2.800000                                                                                                                                                                                                                                       & 1.600000                                                                                                                                                                                                                                      \\\\\n",
       "\t 1                                                                                                                                                                                                                                              & 0                                                                                                                                                                                                                                              &  71                                                                                                                                                                                                                                            & 0                                                                                                                                                                                                                                              & 1                                                                                                                                                                                                                                              & 2                                                                                                                                                                                                                                              & 12                                                                                                                                                                                                                                             & 3                                                                                                                                                                                                                                              &  55                                                                                                                                                                                                                                            &  12                                                                                                                                                                                                                                            & ...                                                                                                                                                                                                                                            &  20                                                                                                                                                                                                                                            &  6                                                                                                                                                                                                                                             & eclipse\\textbackslash{}org.eclipse.jdt.core\\textbackslash{}dom\\textbackslash{}org\\textbackslash{}eclipse\\textbackslash{}jdt\\textbackslash{}core\\textbackslash{}dom\\textbackslash{}ThisExpression.java                                  & 0                                                                                                                                                                                                                                              & 0                                                                                                                                                                                                                                              &  4.583333                                                                                                                                                                                                                                      &  0.2500000                                                                                                                                                                                                                                     & 0.9166667                                                                                                                                                                                                                                      & 1.333333                                                                                                                                                                                                                                       & 1.666667                                                                                                                                                                                                                                      \\\\\n",
       "\\end{tabular}\n"
      ],
      "text/markdown": [
       "\n",
       "| NOT | NOI | TLOC | ACD | NSM | NSF | NOM | NOF | MLOC_total | MLOC_max | ... | FOUT_total | FOUT_max | file | pre | post | MLOC_avg | NBD_avg | PAR_avg | VG_avg | FOUT_avg |\n",
       "|---|---|---|---|---|---|---|---|---|---|---|---|---|---|---|---|---|---|---|---|---|\n",
       "| 1                                                                                                                      | 0                                                                                                                      | 516                                                                                                                    | 0                                                                                                                      | 0                                                                                                                      | 0                                                                                                                      | 33                                                                                                                     | 7                                                                                                                      | 448                                                                                                                    | 115                                                                                                                    | ...                                                                                                                    | 142                                                                                                                    | 20                                                                                                                     | eclipse\\org.eclipse.jdt.core\\compiler\\org\\eclipse\\jdt\\internal\\compiler\\lookup\\MethodVerifier.java            | 1                                                                                                                      | 0                                                                                                                      | 13.575758                                                                                                              |  1.0303030                                                                                                             | 1.4848485                                                                                                              | 6.181818                                                                                                               | 4.303030                                                                                                               |\n",
       "| 0                                                                                                                      | 1                                                                                                                      |  11                                                                                                                    | 0                                                                                                                      | 0                                                                                                                      | 0                                                                                                                      |  7                                                                                                                     | 0                                                                                                                      |   7                                                                                                                    |   1                                                                                                                    | ...                                                                                                                    |   0                                                                                                                    |  0                                                                                                                     | eclipse\\org.eclipse.jdt.core\\model\\org\\eclipse\\jdt\\core\\IClassFile.java                                         | 0                                                                                                                      | 0                                                                                                                      |  1.000000                                                                                                              | -1.0000000                                                                                                             | 1.1428571                                                                                                              | 1.000000                                                                                                               | 0.000000                                                                                                               |\n",
       "| 1                                                                                                                      | 0                                                                                                                      |   5                                                                                                                    | 0                                                                                                                      | 0                                                                                                                      | 0                                                                                                                      |  1                                                                                                                     | 0                                                                                                                      |   2                                                                                                                    |   2                                                                                                                    | ...                                                                                                                    |   0                                                                                                                    |  0                                                                                                                     | eclipse\\org.eclipse.jdt.core\\search\\org\\eclipse\\jdt\\core\\search\\TypeNameRequestor.java                         | 0                                                                                                                      | 0                                                                                                                      |  2.000000                                                                                                              |  0.0000000                                                                                                             | 5.0000000                                                                                                              | 1.000000                                                                                                               | 0.000000                                                                                                               |\n",
       "| 1                                                                                                                      | 0                                                                                                                      |  35                                                                                                                    | 0                                                                                                                      | 0                                                                                                                      | 0                                                                                                                      |  6                                                                                                                     | 1                                                                                                                      |  28                                                                                                                    |  10                                                                                                                    | ...                                                                                                                    |   7                                                                                                                    |  4                                                                                                                     | eclipse\\org.eclipse.jdt.core\\compiler\\org\\eclipse\\jdt\\internal\\compiler\\flow\\InsideSubRoutineFlowContext.java | 0                                                                                                                      | 0                                                                                                                      |  4.666667                                                                                                              |  0.3333333                                                                                                             | 0.5000000                                                                                                              | 1.500000                                                                                                               | 1.166667                                                                                                               |\n",
       "| 1                                                                                                                      | 0                                                                                                                      |  39                                                                                                                    | 0                                                                                                                      | 0                                                                                                                      | 0                                                                                                                      |  5                                                                                                                     | 0                                                                                                                      |  24                                                                                                                    |   8                                                                                                                    | ...                                                                                                                    |   8                                                                                                                    |  5                                                                                                                     | eclipse\\org.eclipse.jdt.core\\model\\org\\eclipse\\jdt\\internal\\core\\RenameElementsOperation.java                  | 0                                                                                                                      | 0                                                                                                                      |  4.800000                                                                                                              |  0.0000000                                                                                                             | 1.0000000                                                                                                              | 2.800000                                                                                                               | 1.600000                                                                                                               |\n",
       "| 1                                                                                                                      | 0                                                                                                                      |  71                                                                                                                    | 0                                                                                                                      | 1                                                                                                                      | 2                                                                                                                      | 12                                                                                                                     | 3                                                                                                                      |  55                                                                                                                    |  12                                                                                                                    | ...                                                                                                                    |  20                                                                                                                    |  6                                                                                                                     | eclipse\\org.eclipse.jdt.core\\dom\\org\\eclipse\\jdt\\core\\dom\\ThisExpression.java                                  | 0                                                                                                                      | 0                                                                                                                      |  4.583333                                                                                                              |  0.2500000                                                                                                             | 0.9166667                                                                                                              | 1.333333                                                                                                               | 1.666667                                                                                                               |\n",
       "\n"
      ],
      "text/plain": [
       "  NOT NOI TLOC ACD NSM NSF NOM NOF MLOC_total MLOC_max ... FOUT_total FOUT_max\n",
       "1 1   0   516  0   0   0   33  7   448        115      ... 142        20      \n",
       "2 0   1    11  0   0   0    7  0     7          1      ...   0         0      \n",
       "3 1   0     5  0   0   0    1  0     2          2      ...   0         0      \n",
       "4 1   0    35  0   0   0    6  1    28         10      ...   7         4      \n",
       "5 1   0    39  0   0   0    5  0    24          8      ...   8         5      \n",
       "6 1   0    71  0   1   2   12  3    55         12      ...  20         6      \n",
       "  file                                                                                                                  \n",
       "1 eclipse\\\\org.eclipse.jdt.core\\\\compiler\\\\org\\\\eclipse\\\\jdt\\\\internal\\\\compiler\\\\lookup\\\\MethodVerifier.java           \n",
       "2 eclipse\\\\org.eclipse.jdt.core\\\\model\\\\org\\\\eclipse\\\\jdt\\\\core\\\\IClassFile.java                                        \n",
       "3 eclipse\\\\org.eclipse.jdt.core\\\\search\\\\org\\\\eclipse\\\\jdt\\\\core\\\\search\\\\TypeNameRequestor.java                        \n",
       "4 eclipse\\\\org.eclipse.jdt.core\\\\compiler\\\\org\\\\eclipse\\\\jdt\\\\internal\\\\compiler\\\\flow\\\\InsideSubRoutineFlowContext.java\n",
       "5 eclipse\\\\org.eclipse.jdt.core\\\\model\\\\org\\\\eclipse\\\\jdt\\\\internal\\\\core\\\\RenameElementsOperation.java                 \n",
       "6 eclipse\\\\org.eclipse.jdt.core\\\\dom\\\\org\\\\eclipse\\\\jdt\\\\core\\\\dom\\\\ThisExpression.java                                 \n",
       "  pre post MLOC_avg  NBD_avg    PAR_avg   VG_avg   FOUT_avg\n",
       "1 1   0    13.575758  1.0303030 1.4848485 6.181818 4.303030\n",
       "2 0   0     1.000000 -1.0000000 1.1428571 1.000000 0.000000\n",
       "3 0   0     2.000000  0.0000000 5.0000000 1.000000 0.000000\n",
       "4 0   0     4.666667  0.3333333 0.5000000 1.500000 1.166667\n",
       "5 0   0     4.800000  0.0000000 1.0000000 2.800000 1.600000\n",
       "6 0   0     4.583333  0.2500000 0.9166667 1.333333 1.666667"
      ]
     },
     "metadata": {},
     "output_type": "display_data"
    }
   ],
   "source": [
    "head(files_32)"
   ]
  },
  {
   "cell_type": "code",
   "execution_count": 59,
   "metadata": {},
   "outputs": [],
   "source": [
    "library(caret)\n",
    "library(RANN)\n",
    "data_preprocess <- function(dataset){\n",
    "    subSet_that_dont_need_preProcess <- dataset[c(\"pre\", \"post\")]\n",
    "    hehe <- preProcess(dataset, method = c(\"range\", \"knnImpute\")) \n",
    "    new_set <- predict(hehe, dataset)\n",
    "    new_set[c(\"pre\", \"post\")] <- subSet_that_dont_need_preProcess\n",
    "    return (new_set)\n",
    "}\n",
    "files_32 <- data_preprocess(files_32)\n",
    "files_34 <- data_preprocess(files_34)\n",
    "files_35 <- data_preprocess(files_35)"
   ]
  },
  {
   "cell_type": "code",
   "execution_count": 60,
   "metadata": {},
   "outputs": [
    {
     "data": {
      "text/html": [
       "<table>\n",
       "<thead><tr><th scope=col>files_35[, 19]</th><th scope=col>pre</th><th scope=col>post</th><th scope=col>NOT</th><th scope=col>NOI</th><th scope=col>TLOC</th><th scope=col>ACD</th><th scope=col>NSM</th><th scope=col>NSF</th><th scope=col>NOM</th><th scope=col>...</th><th scope=col>PAR_max</th><th scope=col>VG_total</th><th scope=col>VG_max</th><th scope=col>FOUT_total</th><th scope=col>FOUT_max</th><th scope=col>MLOC_avg</th><th scope=col>NBD_avg</th><th scope=col>PAR_avg</th><th scope=col>VG_avg</th><th scope=col>FOUT_avg</th></tr></thead>\n",
       "<tbody>\n",
       "\t<tr><td>eclipse\\org.eclipse.jdt.core\\compiler\\org\\eclipse\\jdt\\internal\\compiler\\lookup\\MethodVerifier.java           </td><td>8                                                                                                                     </td><td>15                                                                                                                    </td><td>1                                                                                                                     </td><td>0                                                                                                                     </td><td>0.0671290238                                                                                                          </td><td>0                                                                                                                     </td><td>0.0000000                                                                                                             </td><td>0.000000000                                                                                                           </td><td>0.079136691                                                                                                           </td><td>...                                                                                                                   </td><td>0.16                                                                                                                  </td><td>0.0951048951                                                                                                          </td><td>0.053462940                                                                                                           </td><td>0.102824041                                                                                                           </td><td>0.06993007                                                                                                            </td><td>0.065067419                                                                                                           </td><td>0.3806818                                                                                                             </td><td>0.20718816                                                                                                            </td><td>0.106542056                                                                                                           </td><td>0.22949495                                                                                                            </td></tr>\n",
       "\t<tr><td>eclipse\\org.eclipse.jdt.core\\model\\org\\eclipse\\jdt\\core\\IClassFile.java                                        </td><td>0                                                                                                                     </td><td> 0                                                                                                                    </td><td>0                                                                                                                     </td><td>1                                                                                                                     </td><td>0.0010468464                                                                                                          </td><td>0                                                                                                                     </td><td>0.0000000                                                                                                             </td><td>0.000000000                                                                                                           </td><td>0.016786571                                                                                                           </td><td>...                                                                                                                   </td><td>0.12                                                                                                                  </td><td>0.0032634033                                                                                                          </td><td>0.001215067                                                                                                           </td><td>0.000000000                                                                                                           </td><td>0.00000000                                                                                                            </td><td>0.000000000                                                                                                           </td><td>0.0000000                                                                                                             </td><td>0.15946844                                                                                                            </td><td>0.000000000                                                                                                           </td><td>0.00000000                                                                                                            </td></tr>\n",
       "\t<tr><td>eclipse\\org.eclipse.jdt.core\\search\\org\\eclipse\\jdt\\core\\search\\TypeNameRequestor.java                        </td><td>0                                                                                                                     </td><td> 0                                                                                                                    </td><td>1                                                                                                                     </td><td>0                                                                                                                     </td><td>0.0002617116                                                                                                          </td><td>0                                                                                                                     </td><td>0.0000000                                                                                                             </td><td>0.000000000                                                                                                           </td><td>0.002398082                                                                                                           </td><td>...                                                                                                                   </td><td>0.20                                                                                                                  </td><td>0.0004662005                                                                                                          </td><td>0.001215067                                                                                                           </td><td>0.000000000                                                                                                           </td><td>0.00000000                                                                                                            </td><td>0.005174036                                                                                                           </td><td>0.1875000                                                                                                             </td><td>0.69767442                                                                                                            </td><td>0.000000000                                                                                                           </td><td>0.00000000                                                                                                            </td></tr>\n",
       "\t<tr><td>eclipse\\org.eclipse.jdt.core\\compiler\\org\\eclipse\\jdt\\internal\\compiler\\flow\\InsideSubRoutineFlowContext.java</td><td>0                                                                                                                     </td><td> 0                                                                                                                    </td><td>1                                                                                                                     </td><td>0                                                                                                                     </td><td>0.0041873855                                                                                                          </td><td>0                                                                                                                     </td><td>0.0000000                                                                                                             </td><td>0.000000000                                                                                                           </td><td>0.014388489                                                                                                           </td><td>...                                                                                                                   </td><td>0.08                                                                                                                  </td><td>0.0041958042                                                                                                          </td><td>0.004860267                                                                                                           </td><td>0.005068791                                                                                                           </td><td>0.01398601                                                                                                            </td><td>0.018971464                                                                                                           </td><td>0.2500000                                                                                                             </td><td>0.06976744                                                                                                            </td><td>0.010280374                                                                                                           </td><td>0.06222222                                                                                                            </td></tr>\n",
       "\t<tr><td>eclipse\\org.eclipse.jdt.core\\model\\org\\eclipse\\jdt\\internal\\core\\RenameElementsOperation.java                 </td><td>0                                                                                                                     </td><td> 0                                                                                                                    </td><td>1                                                                                                                     </td><td>0                                                                                                                     </td><td>0.0047108087                                                                                                          </td><td>0                                                                                                                     </td><td>0.0000000                                                                                                             </td><td>0.000000000                                                                                                           </td><td>0.011990408                                                                                                           </td><td>...                                                                                                                   </td><td>0.16                                                                                                                  </td><td>0.0065268065                                                                                                          </td><td>0.008505468                                                                                                           </td><td>0.005792904                                                                                                           </td><td>0.01748252                                                                                                            </td><td>0.019661336                                                                                                           </td><td>0.1875000                                                                                                             </td><td>0.13953488                                                                                                            </td><td>0.037009346                                                                                                           </td><td>0.08533333                                                                                                            </td></tr>\n",
       "\t<tr><td>eclipse\\org.eclipse.jdt.core\\dom\\org\\eclipse\\jdt\\core\\dom\\ThisExpression.java                                 </td><td>0                                                                                                                     </td><td> 0                                                                                                                    </td><td>1                                                                                                                     </td><td>0                                                                                                                     </td><td>0.0088981942                                                                                                          </td><td>0                                                                                                                     </td><td>0.0078125                                                                                                             </td><td>0.006430868                                                                                                           </td><td>0.028776978                                                                                                           </td><td>...                                                                                                                   </td><td>0.12                                                                                                                  </td><td>0.0074592075                                                                                                          </td><td>0.003645200                                                                                                           </td><td>0.014482259                                                                                                           </td><td>0.02097902                                                                                                            </td><td>0.018540295                                                                                                           </td><td>0.2343750                                                                                                             </td><td>0.12790698                                                                                                            </td><td>0.006853583                                                                                                           </td><td>0.08888889                                                                                                            </td></tr>\n",
       "</tbody>\n",
       "</table>\n"
      ],
      "text/latex": [
       "\\begin{tabular}{r|llllllllllllllllllllllllll}\n",
       " files\\_35{[}, 19{]} & pre & post & NOT & NOI & TLOC & ACD & NSM & NSF & NOM & ... & PAR\\_max & VG\\_total & VG\\_max & FOUT\\_total & FOUT\\_max & MLOC\\_avg & NBD\\_avg & PAR\\_avg & VG\\_avg & FOUT\\_avg\\\\\n",
       "\\hline\n",
       "\t eclipse\\textbackslash{}org.eclipse.jdt.core\\textbackslash{}compiler\\textbackslash{}org\\textbackslash{}eclipse\\textbackslash{}jdt\\textbackslash{}internal\\textbackslash{}compiler\\textbackslash{}lookup\\textbackslash{}MethodVerifier.java            & 8                                                                                                                                                                                                                                                             & 15                                                                                                                                                                                                                                                            & 1                                                                                                                                                                                                                                                             & 0                                                                                                                                                                                                                                                             & 0.0671290238                                                                                                                                                                                                                                                  & 0                                                                                                                                                                                                                                                             & 0.0000000                                                                                                                                                                                                                                                     & 0.000000000                                                                                                                                                                                                                                                   & 0.079136691                                                                                                                                                                                                                                                   & ...                                                                                                                                                                                                                                                           & 0.16                                                                                                                                                                                                                                                          & 0.0951048951                                                                                                                                                                                                                                                  & 0.053462940                                                                                                                                                                                                                                                   & 0.102824041                                                                                                                                                                                                                                                   & 0.06993007                                                                                                                                                                                                                                                    & 0.065067419                                                                                                                                                                                                                                                   & 0.3806818                                                                                                                                                                                                                                                     & 0.20718816                                                                                                                                                                                                                                                    & 0.106542056                                                                                                                                                                                                                                                   & 0.22949495                                                                                                                                                                                                                                                   \\\\\n",
       "\t eclipse\\textbackslash{}org.eclipse.jdt.core\\textbackslash{}model\\textbackslash{}org\\textbackslash{}eclipse\\textbackslash{}jdt\\textbackslash{}core\\textbackslash{}IClassFile.java                                         & 0                                                                                                                                                                                                                               &  0                                                                                                                                                                                                                              & 0                                                                                                                                                                                                                               & 1                                                                                                                                                                                                                               & 0.0010468464                                                                                                                                                                                                                    & 0                                                                                                                                                                                                                               & 0.0000000                                                                                                                                                                                                                       & 0.000000000                                                                                                                                                                                                                     & 0.016786571                                                                                                                                                                                                                     & ...                                                                                                                                                                                                                             & 0.12                                                                                                                                                                                                                            & 0.0032634033                                                                                                                                                                                                                    & 0.001215067                                                                                                                                                                                                                     & 0.000000000                                                                                                                                                                                                                     & 0.00000000                                                                                                                                                                                                                      & 0.000000000                                                                                                                                                                                                                     & 0.0000000                                                                                                                                                                                                                       & 0.15946844                                                                                                                                                                                                                      & 0.000000000                                                                                                                                                                                                                     & 0.00000000                                                                                                                                                                                                                     \\\\\n",
       "\t eclipse\\textbackslash{}org.eclipse.jdt.core\\textbackslash{}search\\textbackslash{}org\\textbackslash{}eclipse\\textbackslash{}jdt\\textbackslash{}core\\textbackslash{}search\\textbackslash{}TypeNameRequestor.java                         & 0                                                                                                                                                                                                                                              &  0                                                                                                                                                                                                                                             & 1                                                                                                                                                                                                                                              & 0                                                                                                                                                                                                                                              & 0.0002617116                                                                                                                                                                                                                                   & 0                                                                                                                                                                                                                                              & 0.0000000                                                                                                                                                                                                                                      & 0.000000000                                                                                                                                                                                                                                    & 0.002398082                                                                                                                                                                                                                                    & ...                                                                                                                                                                                                                                            & 0.20                                                                                                                                                                                                                                           & 0.0004662005                                                                                                                                                                                                                                   & 0.001215067                                                                                                                                                                                                                                    & 0.000000000                                                                                                                                                                                                                                    & 0.00000000                                                                                                                                                                                                                                     & 0.005174036                                                                                                                                                                                                                                    & 0.1875000                                                                                                                                                                                                                                      & 0.69767442                                                                                                                                                                                                                                     & 0.000000000                                                                                                                                                                                                                                    & 0.00000000                                                                                                                                                                                                                                    \\\\\n",
       "\t eclipse\\textbackslash{}org.eclipse.jdt.core\\textbackslash{}compiler\\textbackslash{}org\\textbackslash{}eclipse\\textbackslash{}jdt\\textbackslash{}internal\\textbackslash{}compiler\\textbackslash{}flow\\textbackslash{}InsideSubRoutineFlowContext.java & 0                                                                                                                                                                                                                                                             &  0                                                                                                                                                                                                                                                            & 1                                                                                                                                                                                                                                                             & 0                                                                                                                                                                                                                                                             & 0.0041873855                                                                                                                                                                                                                                                  & 0                                                                                                                                                                                                                                                             & 0.0000000                                                                                                                                                                                                                                                     & 0.000000000                                                                                                                                                                                                                                                   & 0.014388489                                                                                                                                                                                                                                                   & ...                                                                                                                                                                                                                                                           & 0.08                                                                                                                                                                                                                                                          & 0.0041958042                                                                                                                                                                                                                                                  & 0.004860267                                                                                                                                                                                                                                                   & 0.005068791                                                                                                                                                                                                                                                   & 0.01398601                                                                                                                                                                                                                                                    & 0.018971464                                                                                                                                                                                                                                                   & 0.2500000                                                                                                                                                                                                                                                     & 0.06976744                                                                                                                                                                                                                                                    & 0.010280374                                                                                                                                                                                                                                                   & 0.06222222                                                                                                                                                                                                                                                   \\\\\n",
       "\t eclipse\\textbackslash{}org.eclipse.jdt.core\\textbackslash{}model\\textbackslash{}org\\textbackslash{}eclipse\\textbackslash{}jdt\\textbackslash{}internal\\textbackslash{}core\\textbackslash{}RenameElementsOperation.java                  & 0                                                                                                                                                                                                                                              &  0                                                                                                                                                                                                                                             & 1                                                                                                                                                                                                                                              & 0                                                                                                                                                                                                                                              & 0.0047108087                                                                                                                                                                                                                                   & 0                                                                                                                                                                                                                                              & 0.0000000                                                                                                                                                                                                                                      & 0.000000000                                                                                                                                                                                                                                    & 0.011990408                                                                                                                                                                                                                                    & ...                                                                                                                                                                                                                                            & 0.16                                                                                                                                                                                                                                           & 0.0065268065                                                                                                                                                                                                                                   & 0.008505468                                                                                                                                                                                                                                    & 0.005792904                                                                                                                                                                                                                                    & 0.01748252                                                                                                                                                                                                                                     & 0.019661336                                                                                                                                                                                                                                    & 0.1875000                                                                                                                                                                                                                                      & 0.13953488                                                                                                                                                                                                                                     & 0.037009346                                                                                                                                                                                                                                    & 0.08533333                                                                                                                                                                                                                                    \\\\\n",
       "\t eclipse\\textbackslash{}org.eclipse.jdt.core\\textbackslash{}dom\\textbackslash{}org\\textbackslash{}eclipse\\textbackslash{}jdt\\textbackslash{}core\\textbackslash{}dom\\textbackslash{}ThisExpression.java                                  & 0                                                                                                                                                                                                                                              &  0                                                                                                                                                                                                                                             & 1                                                                                                                                                                                                                                              & 0                                                                                                                                                                                                                                              & 0.0088981942                                                                                                                                                                                                                                   & 0                                                                                                                                                                                                                                              & 0.0078125                                                                                                                                                                                                                                      & 0.006430868                                                                                                                                                                                                                                    & 0.028776978                                                                                                                                                                                                                                    & ...                                                                                                                                                                                                                                            & 0.12                                                                                                                                                                                                                                           & 0.0074592075                                                                                                                                                                                                                                   & 0.003645200                                                                                                                                                                                                                                    & 0.014482259                                                                                                                                                                                                                                    & 0.02097902                                                                                                                                                                                                                                     & 0.018540295                                                                                                                                                                                                                                    & 0.2343750                                                                                                                                                                                                                                      & 0.12790698                                                                                                                                                                                                                                     & 0.006853583                                                                                                                                                                                                                                    & 0.08888889                                                                                                                                                                                                                                    \\\\\n",
       "\\end{tabular}\n"
      ],
      "text/markdown": [
       "\n",
       "| files_35[, 19] | pre | post | NOT | NOI | TLOC | ACD | NSM | NSF | NOM | ... | PAR_max | VG_total | VG_max | FOUT_total | FOUT_max | MLOC_avg | NBD_avg | PAR_avg | VG_avg | FOUT_avg |\n",
       "|---|---|---|---|---|---|---|---|---|---|---|---|---|---|---|---|---|---|---|---|---|\n",
       "| eclipse\\org.eclipse.jdt.core\\compiler\\org\\eclipse\\jdt\\internal\\compiler\\lookup\\MethodVerifier.java            | 8                                                                                                                      | 15                                                                                                                     | 1                                                                                                                      | 0                                                                                                                      | 0.0671290238                                                                                                           | 0                                                                                                                      | 0.0000000                                                                                                              | 0.000000000                                                                                                            | 0.079136691                                                                                                            | ...                                                                                                                    | 0.16                                                                                                                   | 0.0951048951                                                                                                           | 0.053462940                                                                                                            | 0.102824041                                                                                                            | 0.06993007                                                                                                             | 0.065067419                                                                                                            | 0.3806818                                                                                                              | 0.20718816                                                                                                             | 0.106542056                                                                                                            | 0.22949495                                                                                                             |\n",
       "| eclipse\\org.eclipse.jdt.core\\model\\org\\eclipse\\jdt\\core\\IClassFile.java                                         | 0                                                                                                                      |  0                                                                                                                     | 0                                                                                                                      | 1                                                                                                                      | 0.0010468464                                                                                                           | 0                                                                                                                      | 0.0000000                                                                                                              | 0.000000000                                                                                                            | 0.016786571                                                                                                            | ...                                                                                                                    | 0.12                                                                                                                   | 0.0032634033                                                                                                           | 0.001215067                                                                                                            | 0.000000000                                                                                                            | 0.00000000                                                                                                             | 0.000000000                                                                                                            | 0.0000000                                                                                                              | 0.15946844                                                                                                             | 0.000000000                                                                                                            | 0.00000000                                                                                                             |\n",
       "| eclipse\\org.eclipse.jdt.core\\search\\org\\eclipse\\jdt\\core\\search\\TypeNameRequestor.java                         | 0                                                                                                                      |  0                                                                                                                     | 1                                                                                                                      | 0                                                                                                                      | 0.0002617116                                                                                                           | 0                                                                                                                      | 0.0000000                                                                                                              | 0.000000000                                                                                                            | 0.002398082                                                                                                            | ...                                                                                                                    | 0.20                                                                                                                   | 0.0004662005                                                                                                           | 0.001215067                                                                                                            | 0.000000000                                                                                                            | 0.00000000                                                                                                             | 0.005174036                                                                                                            | 0.1875000                                                                                                              | 0.69767442                                                                                                             | 0.000000000                                                                                                            | 0.00000000                                                                                                             |\n",
       "| eclipse\\org.eclipse.jdt.core\\compiler\\org\\eclipse\\jdt\\internal\\compiler\\flow\\InsideSubRoutineFlowContext.java | 0                                                                                                                      |  0                                                                                                                     | 1                                                                                                                      | 0                                                                                                                      | 0.0041873855                                                                                                           | 0                                                                                                                      | 0.0000000                                                                                                              | 0.000000000                                                                                                            | 0.014388489                                                                                                            | ...                                                                                                                    | 0.08                                                                                                                   | 0.0041958042                                                                                                           | 0.004860267                                                                                                            | 0.005068791                                                                                                            | 0.01398601                                                                                                             | 0.018971464                                                                                                            | 0.2500000                                                                                                              | 0.06976744                                                                                                             | 0.010280374                                                                                                            | 0.06222222                                                                                                             |\n",
       "| eclipse\\org.eclipse.jdt.core\\model\\org\\eclipse\\jdt\\internal\\core\\RenameElementsOperation.java                  | 0                                                                                                                      |  0                                                                                                                     | 1                                                                                                                      | 0                                                                                                                      | 0.0047108087                                                                                                           | 0                                                                                                                      | 0.0000000                                                                                                              | 0.000000000                                                                                                            | 0.011990408                                                                                                            | ...                                                                                                                    | 0.16                                                                                                                   | 0.0065268065                                                                                                           | 0.008505468                                                                                                            | 0.005792904                                                                                                            | 0.01748252                                                                                                             | 0.019661336                                                                                                            | 0.1875000                                                                                                              | 0.13953488                                                                                                             | 0.037009346                                                                                                            | 0.08533333                                                                                                             |\n",
       "| eclipse\\org.eclipse.jdt.core\\dom\\org\\eclipse\\jdt\\core\\dom\\ThisExpression.java                                  | 0                                                                                                                      |  0                                                                                                                     | 1                                                                                                                      | 0                                                                                                                      | 0.0088981942                                                                                                           | 0                                                                                                                      | 0.0078125                                                                                                              | 0.006430868                                                                                                            | 0.028776978                                                                                                            | ...                                                                                                                    | 0.12                                                                                                                   | 0.0074592075                                                                                                           | 0.003645200                                                                                                            | 0.014482259                                                                                                            | 0.02097902                                                                                                             | 0.018540295                                                                                                            | 0.2343750                                                                                                              | 0.12790698                                                                                                             | 0.006853583                                                                                                            | 0.08888889                                                                                                             |\n",
       "\n"
      ],
      "text/plain": [
       "  files_35[, 19]                                                                                                        \n",
       "1 eclipse\\\\org.eclipse.jdt.core\\\\compiler\\\\org\\\\eclipse\\\\jdt\\\\internal\\\\compiler\\\\lookup\\\\MethodVerifier.java           \n",
       "2 eclipse\\\\org.eclipse.jdt.core\\\\model\\\\org\\\\eclipse\\\\jdt\\\\core\\\\IClassFile.java                                        \n",
       "3 eclipse\\\\org.eclipse.jdt.core\\\\search\\\\org\\\\eclipse\\\\jdt\\\\core\\\\search\\\\TypeNameRequestor.java                        \n",
       "4 eclipse\\\\org.eclipse.jdt.core\\\\compiler\\\\org\\\\eclipse\\\\jdt\\\\internal\\\\compiler\\\\flow\\\\InsideSubRoutineFlowContext.java\n",
       "5 eclipse\\\\org.eclipse.jdt.core\\\\model\\\\org\\\\eclipse\\\\jdt\\\\internal\\\\core\\\\RenameElementsOperation.java                 \n",
       "6 eclipse\\\\org.eclipse.jdt.core\\\\dom\\\\org\\\\eclipse\\\\jdt\\\\core\\\\dom\\\\ThisExpression.java                                 \n",
       "  pre post NOT NOI TLOC         ACD NSM       NSF         NOM         ...\n",
       "1 8   15   1   0   0.0671290238 0   0.0000000 0.000000000 0.079136691 ...\n",
       "2 0    0   0   1   0.0010468464 0   0.0000000 0.000000000 0.016786571 ...\n",
       "3 0    0   1   0   0.0002617116 0   0.0000000 0.000000000 0.002398082 ...\n",
       "4 0    0   1   0   0.0041873855 0   0.0000000 0.000000000 0.014388489 ...\n",
       "5 0    0   1   0   0.0047108087 0   0.0000000 0.000000000 0.011990408 ...\n",
       "6 0    0   1   0   0.0088981942 0   0.0078125 0.006430868 0.028776978 ...\n",
       "  PAR_max VG_total     VG_max      FOUT_total  FOUT_max   MLOC_avg    NBD_avg  \n",
       "1 0.16    0.0951048951 0.053462940 0.102824041 0.06993007 0.065067419 0.3806818\n",
       "2 0.12    0.0032634033 0.001215067 0.000000000 0.00000000 0.000000000 0.0000000\n",
       "3 0.20    0.0004662005 0.001215067 0.000000000 0.00000000 0.005174036 0.1875000\n",
       "4 0.08    0.0041958042 0.004860267 0.005068791 0.01398601 0.018971464 0.2500000\n",
       "5 0.16    0.0065268065 0.008505468 0.005792904 0.01748252 0.019661336 0.1875000\n",
       "6 0.12    0.0074592075 0.003645200 0.014482259 0.02097902 0.018540295 0.2343750\n",
       "  PAR_avg    VG_avg      FOUT_avg  \n",
       "1 0.20718816 0.106542056 0.22949495\n",
       "2 0.15946844 0.000000000 0.00000000\n",
       "3 0.69767442 0.000000000 0.00000000\n",
       "4 0.06976744 0.010280374 0.06222222\n",
       "5 0.13953488 0.037009346 0.08533333\n",
       "6 0.12790698 0.006853583 0.08888889"
      ]
     },
     "metadata": {},
     "output_type": "display_data"
    }
   ],
   "source": [
    "files_32 = cbind(files_32[,19], files_32[c(\"pre\", \"post\")], files_32[,1:18], files_32[,22:26])\n",
    "# files_32 <- na.omit(files_32)\n",
    "\n",
    "files_34 = cbind(files_34[,19], files_34[c(\"pre\", \"post\")], files_34[,1:18], files_34[,22:26])\n",
    "# files_34 <- na.omit(files_34)\n",
    "\n",
    "files_35 = cbind(files_35[,19], files_35[c(\"pre\", \"post\")], files_35[,1:18], files_35[,22:26])\n",
    "# files_35 <- na.omit(files_35)\n",
    "\n",
    "head(files_35)"
   ]
  },
  {
   "cell_type": "code",
   "execution_count": 13,
   "metadata": {},
   "outputs": [],
   "source": [
    "# col_name <- names(files_32)\n",
    "# env_vars <- col_name\n",
    "# for (env in env_vars){\n",
    "#    print(paste(env, \"+\"))\n",
    "# }\n",
    "# env_vars"
   ]
  },
  {
   "cell_type": "raw",
   "metadata": {},
   "source": [
    "test_classification <- function (label, train, test) \n",
    "{\n",
    "    cat(\"-------------------\", label, \"-------------------\\n\")\n",
    "    model.glm <- glm((post>0) ~ \n",
    "                    NOT +\n",
    "                    NOI +\n",
    "                    TLOC +\n",
    "                    ACD +\n",
    "                    NSM +\n",
    "                    NSF +\n",
    "                    NOM +\n",
    "                    NOF +\n",
    "                    MLOC_total +\n",
    "                    MLOC_max +\n",
    "                    NBD_total +\n",
    "                    NBD_max +\n",
    "                    PAR_total +\n",
    "                    PAR_max +\n",
    "                    VG_total +\n",
    "                    VG_max +\n",
    "                    FOUT_total +\n",
    "                    FOUT_max +\n",
    "                    pre +\n",
    "                    MLOC_avg +\n",
    "                    NBD_avg +\n",
    "                    PAR_avg +\n",
    "                    VG_avg +\n",
    "                    FOUT_avg\n",
    "                    , data=train, family = \"binomial\")\n",
    "    test.prob <- predict(model.glm, test, type=\"response\")\n",
    "    test.pred <- test.prob>=0.50\n",
    "\n",
    "    outcome <- table(factor(test$post>0, levels=c(F,T)), factor(test.pred, levels=c(F,T)))\n",
    "    TN <- outcome[1,1]\n",
    "    FN <- outcome[2,1]\n",
    "    FP <- outcome[1,2]\n",
    "    TP <- outcome[2,2]\n",
    "    precision <- if (TP + FP ==0) { 1 } else { TP / (TP + FP) }\n",
    "    recall <- TP / (TP + FN)\n",
    "    accuracy <- (TP + TN) / (TN + FN + FP + TP)\n",
    "    defects <- (TP + FN) / (TN + FN + FP + TP)\n",
    "    cat(\"defects, precision, recall, accuracy \\n\")\n",
    "    return (c(defects, precision, recall, accuracy))\n",
    "}\n",
    "\n",
    "cat(\"Logistic regression classification fileLevel. \\nx.y means that trained on x, predict on y\\n\\n\")\n",
    "test_classification(2.2, files_32, files_32)\n",
    "test_classification(2.4, files_32, files_34)\n",
    "test_classification(2.5, files_32, files_35)\n",
    "\n",
    "test_classification(4.2,files_34, files_32)\n",
    "test_classification(4.4,files_34, files_34)\n",
    "test_classification(4.5,files_34, files_35)\n",
    "\n",
    "test_classification(5.2,files_35, files_32)\n",
    "test_classification(5.3,files_35, files_34)\n",
    "test_classification(5.4,files_35, files_35)"
   ]
  },
  {
   "cell_type": "markdown",
   "metadata": {},
   "source": [
    "Recall is low. Which means there are still a lot of the buggy file are not identified.\n",
    "\n",
    "But the precision are generally higher than `0.6`, it means when this model say \"this file is defect-prone\", this decision is most likely to be true. "
   ]
  },
  {
   "cell_type": "code",
   "execution_count": 69,
   "metadata": {},
   "outputs": [
    {
     "name": "stdout",
     "output_type": "stream",
     "text": [
      "linear regression randing. \n",
      "x.y means that trained on x, predict on y\n",
      "\n",
      "------------------- 2.2 -------------------\n",
      "r.squared, pearson, spearman, pearson.p<0.01, spearman.p<0.01 \n"
     ]
    },
    {
     "data": {
      "text/html": [
       "<ol class=list-inline>\n",
       "\t<li>0.168508138795377</li>\n",
       "\t<li>0.410497428488141</li>\n",
       "\t<li>0.339369856985235</li>\n",
       "\t<li>1</li>\n",
       "\t<li>1</li>\n",
       "</ol>\n"
      ],
      "text/latex": [
       "\\begin{enumerate*}\n",
       "\\item 0.168508138795377\n",
       "\\item 0.410497428488141\n",
       "\\item 0.339369856985235\n",
       "\\item 1\n",
       "\\item 1\n",
       "\\end{enumerate*}\n"
      ],
      "text/markdown": [
       "1. 0.168508138795377\n",
       "2. 0.410497428488141\n",
       "3. 0.339369856985235\n",
       "4. 1\n",
       "5. 1\n",
       "\n",
       "\n"
      ],
      "text/plain": [
       "[1] 0.1685081 0.4104974 0.3393699 1.0000000 1.0000000"
      ]
     },
     "metadata": {},
     "output_type": "display_data"
    },
    {
     "name": "stdout",
     "output_type": "stream",
     "text": [
      "------------------- 2.4 -------------------\n",
      "r.squared, pearson, spearman, pearson.p<0.01, spearman.p<0.01 \n"
     ]
    },
    {
     "data": {
      "text/html": [
       "<ol class=list-inline>\n",
       "\t<li>0.168508138795377</li>\n",
       "\t<li>0.368871058735762</li>\n",
       "\t<li>0.3388405356759</li>\n",
       "\t<li>1</li>\n",
       "\t<li>1</li>\n",
       "</ol>\n"
      ],
      "text/latex": [
       "\\begin{enumerate*}\n",
       "\\item 0.168508138795377\n",
       "\\item 0.368871058735762\n",
       "\\item 0.3388405356759\n",
       "\\item 1\n",
       "\\item 1\n",
       "\\end{enumerate*}\n"
      ],
      "text/markdown": [
       "1. 0.168508138795377\n",
       "2. 0.368871058735762\n",
       "3. 0.3388405356759\n",
       "4. 1\n",
       "5. 1\n",
       "\n",
       "\n"
      ],
      "text/plain": [
       "[1] 0.1685081 0.3688711 0.3388405 1.0000000 1.0000000"
      ]
     },
     "metadata": {},
     "output_type": "display_data"
    },
    {
     "name": "stdout",
     "output_type": "stream",
     "text": [
      "------------------- 2.5 -------------------\n",
      "r.squared, pearson, spearman, pearson.p<0.01, spearman.p<0.01 \n"
     ]
    },
    {
     "data": {
      "text/html": [
       "<ol class=list-inline>\n",
       "\t<li>0.168508138795377</li>\n",
       "\t<li>0.290774428376969</li>\n",
       "\t<li>0.264008929754004</li>\n",
       "\t<li>1</li>\n",
       "\t<li>1</li>\n",
       "</ol>\n"
      ],
      "text/latex": [
       "\\begin{enumerate*}\n",
       "\\item 0.168508138795377\n",
       "\\item 0.290774428376969\n",
       "\\item 0.264008929754004\n",
       "\\item 1\n",
       "\\item 1\n",
       "\\end{enumerate*}\n"
      ],
      "text/markdown": [
       "1. 0.168508138795377\n",
       "2. 0.290774428376969\n",
       "3. 0.264008929754004\n",
       "4. 1\n",
       "5. 1\n",
       "\n",
       "\n"
      ],
      "text/plain": [
       "[1] 0.1685081 0.2907744 0.2640089 1.0000000 1.0000000"
      ]
     },
     "metadata": {},
     "output_type": "display_data"
    },
    {
     "name": "stdout",
     "output_type": "stream",
     "text": [
      "------------------- 4.2 -------------------\n",
      "r.squared, pearson, spearman, pearson.p<0.01, spearman.p<0.01 \n"
     ]
    },
    {
     "data": {
      "text/html": [
       "<ol class=list-inline>\n",
       "\t<li>0.234421842655095</li>\n",
       "\t<li>0.283287654931466</li>\n",
       "\t<li>0.292163006725007</li>\n",
       "\t<li>1</li>\n",
       "\t<li>1</li>\n",
       "</ol>\n"
      ],
      "text/latex": [
       "\\begin{enumerate*}\n",
       "\\item 0.234421842655095\n",
       "\\item 0.283287654931466\n",
       "\\item 0.292163006725007\n",
       "\\item 1\n",
       "\\item 1\n",
       "\\end{enumerate*}\n"
      ],
      "text/markdown": [
       "1. 0.234421842655095\n",
       "2. 0.283287654931466\n",
       "3. 0.292163006725007\n",
       "4. 1\n",
       "5. 1\n",
       "\n",
       "\n"
      ],
      "text/plain": [
       "[1] 0.2344218 0.2832877 0.2921630 1.0000000 1.0000000"
      ]
     },
     "metadata": {},
     "output_type": "display_data"
    },
    {
     "name": "stdout",
     "output_type": "stream",
     "text": [
      "------------------- 4.4 -------------------\n",
      "r.squared, pearson, spearman, pearson.p<0.01, spearman.p<0.01 \n"
     ]
    },
    {
     "data": {
      "text/html": [
       "<ol class=list-inline>\n",
       "\t<li>0.234421842655095</li>\n",
       "\t<li>0.484171294745047</li>\n",
       "\t<li>0.383089479284818</li>\n",
       "\t<li>1</li>\n",
       "\t<li>1</li>\n",
       "</ol>\n"
      ],
      "text/latex": [
       "\\begin{enumerate*}\n",
       "\\item 0.234421842655095\n",
       "\\item 0.484171294745047\n",
       "\\item 0.383089479284818\n",
       "\\item 1\n",
       "\\item 1\n",
       "\\end{enumerate*}\n"
      ],
      "text/markdown": [
       "1. 0.234421842655095\n",
       "2. 0.484171294745047\n",
       "3. 0.383089479284818\n",
       "4. 1\n",
       "5. 1\n",
       "\n",
       "\n"
      ],
      "text/plain": [
       "[1] 0.2344218 0.4841713 0.3830895 1.0000000 1.0000000"
      ]
     },
     "metadata": {},
     "output_type": "display_data"
    },
    {
     "name": "stdout",
     "output_type": "stream",
     "text": [
      "------------------- 4.5 -------------------\n",
      "r.squared, pearson, spearman, pearson.p<0.01, spearman.p<0.01 \n"
     ]
    },
    {
     "data": {
      "text/html": [
       "<ol class=list-inline>\n",
       "\t<li>0.234421842655095</li>\n",
       "\t<li>0.294118526217422</li>\n",
       "\t<li>0.233024921917043</li>\n",
       "\t<li>1</li>\n",
       "\t<li>1</li>\n",
       "</ol>\n"
      ],
      "text/latex": [
       "\\begin{enumerate*}\n",
       "\\item 0.234421842655095\n",
       "\\item 0.294118526217422\n",
       "\\item 0.233024921917043\n",
       "\\item 1\n",
       "\\item 1\n",
       "\\end{enumerate*}\n"
      ],
      "text/markdown": [
       "1. 0.234421842655095\n",
       "2. 0.294118526217422\n",
       "3. 0.233024921917043\n",
       "4. 1\n",
       "5. 1\n",
       "\n",
       "\n"
      ],
      "text/plain": [
       "[1] 0.2344218 0.2941185 0.2330249 1.0000000 1.0000000"
      ]
     },
     "metadata": {},
     "output_type": "display_data"
    },
    {
     "name": "stdout",
     "output_type": "stream",
     "text": [
      "------------------- 5.2 -------------------\n",
      "r.squared, pearson, spearman, pearson.p<0.01, spearman.p<0.01 \n"
     ]
    },
    {
     "data": {
      "text/html": [
       "<ol class=list-inline>\n",
       "\t<li>0.16625264792398</li>\n",
       "\t<li>0.299205918281789</li>\n",
       "\t<li>0.315807135253069</li>\n",
       "\t<li>1</li>\n",
       "\t<li>1</li>\n",
       "</ol>\n"
      ],
      "text/latex": [
       "\\begin{enumerate*}\n",
       "\\item 0.16625264792398\n",
       "\\item 0.299205918281789\n",
       "\\item 0.315807135253069\n",
       "\\item 1\n",
       "\\item 1\n",
       "\\end{enumerate*}\n"
      ],
      "text/markdown": [
       "1. 0.16625264792398\n",
       "2. 0.299205918281789\n",
       "3. 0.315807135253069\n",
       "4. 1\n",
       "5. 1\n",
       "\n",
       "\n"
      ],
      "text/plain": [
       "[1] 0.1662526 0.2992059 0.3158071 1.0000000 1.0000000"
      ]
     },
     "metadata": {},
     "output_type": "display_data"
    },
    {
     "name": "stdout",
     "output_type": "stream",
     "text": [
      "------------------- 5.3 -------------------\n",
      "r.squared, pearson, spearman, pearson.p<0.01, spearman.p<0.01 \n"
     ]
    },
    {
     "data": {
      "text/html": [
       "<ol class=list-inline>\n",
       "\t<li>0.16625264792398</li>\n",
       "\t<li>0.380270911717172</li>\n",
       "\t<li>0.336505974399043</li>\n",
       "\t<li>1</li>\n",
       "\t<li>1</li>\n",
       "</ol>\n"
      ],
      "text/latex": [
       "\\begin{enumerate*}\n",
       "\\item 0.16625264792398\n",
       "\\item 0.380270911717172\n",
       "\\item 0.336505974399043\n",
       "\\item 1\n",
       "\\item 1\n",
       "\\end{enumerate*}\n"
      ],
      "text/markdown": [
       "1. 0.16625264792398\n",
       "2. 0.380270911717172\n",
       "3. 0.336505974399043\n",
       "4. 1\n",
       "5. 1\n",
       "\n",
       "\n"
      ],
      "text/plain": [
       "[1] 0.1662526 0.3802709 0.3365060 1.0000000 1.0000000"
      ]
     },
     "metadata": {},
     "output_type": "display_data"
    },
    {
     "name": "stdout",
     "output_type": "stream",
     "text": [
      "------------------- 5.4 -------------------\n",
      "r.squared, pearson, spearman, pearson.p<0.01, spearman.p<0.01 \n"
     ]
    },
    {
     "data": {
      "text/html": [
       "<ol class=list-inline>\n",
       "\t<li>0.16625264792398</li>\n",
       "\t<li>0.407740907837293</li>\n",
       "\t<li>0.262365587715652</li>\n",
       "\t<li>1</li>\n",
       "\t<li>1</li>\n",
       "</ol>\n"
      ],
      "text/latex": [
       "\\begin{enumerate*}\n",
       "\\item 0.16625264792398\n",
       "\\item 0.407740907837293\n",
       "\\item 0.262365587715652\n",
       "\\item 1\n",
       "\\item 1\n",
       "\\end{enumerate*}\n"
      ],
      "text/markdown": [
       "1. 0.16625264792398\n",
       "2. 0.407740907837293\n",
       "3. 0.262365587715652\n",
       "4. 1\n",
       "5. 1\n",
       "\n",
       "\n"
      ],
      "text/plain": [
       "[1] 0.1662526 0.4077409 0.2623656 1.0000000 1.0000000"
      ]
     },
     "metadata": {},
     "output_type": "display_data"
    }
   ],
   "source": [
    "## need to understand how to interprete the r^2, pearson, spearman, and their p.value. \n",
    "test_ranking <- function (label, train, test) \n",
    "{\n",
    "    cat(\"-------------------\", label, \"-------------------\\n\")\n",
    "    model.lm <- lm(post ~ \n",
    "                        NOT +\n",
    "                        NOI +\n",
    "                        TLOC +\n",
    "                        ACD +\n",
    "                        NSM +\n",
    "                        NSF +\n",
    "                        NOM +\n",
    "                        NOF +\n",
    "                        MLOC_total +\n",
    "                        MLOC_max +\n",
    "                        NBD_total +\n",
    "                        NBD_max +\n",
    "                        PAR_total +\n",
    "                        PAR_max +\n",
    "                        VG_total +\n",
    "                        VG_max +\n",
    "                        FOUT_total +\n",
    "                        FOUT_max +\n",
    "                        pre +\n",
    "                        MLOC_avg +\n",
    "                        NBD_avg +\n",
    "                        PAR_avg +\n",
    "                        VG_avg +\n",
    "                        FOUT_avg\n",
    "                   , data=train)\n",
    "    test.pred <- predict(model.lm, test)\n",
    "\n",
    "    r.squared <- summary(model.lm)$r.squared\n",
    "    pearson <- cor(test$post, test.pred, method=\"pearson\")\n",
    "    spearman <- cor(test$post, test.pred, method=\"spearman\")\n",
    "    pearson.p <- cor.test(test$post, test.pred, method=\"pearson\")$p.value\n",
    "    spearman.p <- cor.test(test$post, test.pred, method=\"spearman\", exact=FALSE)$p.value\n",
    "    cat(\"r.squared, pearson, spearman, pearson.p<0.01, spearman.p<0.01 \\n\")\n",
    "    return (c(r.squared, pearson, spearman, pearson.p<0.01, spearman.p<0.01))\n",
    "}\n",
    "\n",
    "cat(\"linear regression ranking fileLevel. \\nx.y means that trained on x, predict on y\\n\\n\")\n",
    "test_ranking(2.2, files_32, files_32)\n",
    "test_ranking(2.4, files_32, files_34)\n",
    "test_ranking(2.5, files_32, files_35)\n",
    "\n",
    "test_ranking(4.2,files_34, files_32)\n",
    "test_ranking(4.4,files_34, files_34)\n",
    "test_ranking(4.5,files_34, files_35)\n",
    "\n",
    "test_ranking(5.2,files_35, files_32)\n",
    "test_ranking(5.3,files_35, files_34)\n",
    "test_ranking(5.4,files_35, files_35)"
   ]
  },
  {
   "cell_type": "markdown",
   "metadata": {},
   "source": [
    "According to r.square, \"only up to `23.3%` of variance are explained by complexity metrics\".\n",
    "\n",
    "\" The Spearman correlation values ρ are low, reaching `0.484` at most, but positive. Therefore, files having a higher predicted rank are more likely to have a high observed rank, too\". "
   ]
  }
 ],
 "metadata": {
  "kernelspec": {
   "display_name": "R",
   "language": "R",
   "name": "ir"
  },
  "language_info": {
   "codemirror_mode": "r",
   "file_extension": ".r",
   "mimetype": "text/x-r-source",
   "name": "R",
   "pygments_lexer": "r",
   "version": "3.5.1"
  }
 },
 "nbformat": 4,
 "nbformat_minor": 2
}
