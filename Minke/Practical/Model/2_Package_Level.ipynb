{
 "cells": [
  {
   "cell_type": "markdown",
   "metadata": {},
   "source": [
    "### Fit the old code to our dataset. \n",
    "\n",
    "纸上得来终觉浅，绝知此事要躬行。"
   ]
  },
  {
   "cell_type": "code",
   "execution_count": 8,
   "metadata": {},
   "outputs": [
    {
     "data": {
      "text/html": [
       "44"
      ],
      "text/latex": [
       "44"
      ],
      "text/markdown": [
       "44"
      ],
      "text/plain": [
       "[1] 44"
      ]
     },
     "metadata": {},
     "output_type": "display_data"
    },
    {
     "data": {
      "text/html": [
       "44"
      ],
      "text/latex": [
       "44"
      ],
      "text/markdown": [
       "44"
      ],
      "text/plain": [
       "[1] 44"
      ]
     },
     "metadata": {},
     "output_type": "display_data"
    },
    {
     "data": {
      "text/html": [
       "44"
      ],
      "text/latex": [
       "44"
      ],
      "text/markdown": [
       "44"
      ],
      "text/plain": [
       "[1] 44"
      ]
     },
     "metadata": {},
     "output_type": "display_data"
    }
   ],
   "source": [
    "files_32 <- read.table(\"../org.eclipse.jdt.core_3.2/dataset-_3.2-packagelevel.csv\", header=T, sep=\",\")\n",
    "files_34 <- read.table(\"../org.eclipse.jdt.core_3.4/dataset-_3.4-packagelevel.csv\", header=T, sep=\",\")\n",
    "files_35 <- read.table(\"../org.eclipse.jdt.core_3.5/dataset-_3.5-packagelevel.csv\", header=T, sep=\",\")\n",
    "\n",
    "nrow(files_32)\n",
    "nrow(files_34)\n",
    "nrow(files_35)"
   ]
  },
  {
   "cell_type": "markdown",
   "metadata": {},
   "source": [
    "### preprocess the dataframe to make it the same as example csv files. "
   ]
  },
  {
   "cell_type": "code",
   "execution_count": 9,
   "metadata": {},
   "outputs": [
    {
     "data": {
      "text/html": [
       "<table>\n",
       "<thead><tr><th scope=col>plugin</th><th scope=col>package</th><th scope=col>NOCU</th><th scope=col>NOT_total</th><th scope=col>NOT_max</th><th scope=col>NOT_avg</th><th scope=col>NOI_total</th><th scope=col>NOI_max</th><th scope=col>NOI_avg</th><th scope=col>TLOC_total</th><th scope=col>...</th><th scope=col>MLOC_max</th><th scope=col>NBD_max</th><th scope=col>PAR_max</th><th scope=col>VG_max</th><th scope=col>FOUT_max</th><th scope=col>MLOC_avg</th><th scope=col>NBD_avg</th><th scope=col>PAR_avg</th><th scope=col>VG_avg</th><th scope=col>FOUT_avg</th></tr></thead>\n",
       "<tbody>\n",
       "\t<tr><td>org.eclipse.jdt.core            </td><td>org.eclipse.jdt.core            </td><td> 64                             </td><td> 20                             </td><td>1                               </td><td>0.3125000                       </td><td>44                              </td><td>1                               </td><td>0.68750000                      </td><td> 5949                           </td><td>...                             </td><td>168                             </td><td> 7                              </td><td>13                              </td><td> 39                             </td><td>30                              </td><td> 5.740489                       </td><td>-0.2282609                      </td><td>1.5625000                       </td><td>2.125000                        </td><td>1.1073370                       </td></tr>\n",
       "\t<tr><td>org.eclipse.jdt.core            </td><td>org.eclipse.jdt.core.compiler   </td><td>  9                             </td><td>  6                             </td><td>1                               </td><td>0.6666667                       </td><td> 3                              </td><td>1                               </td><td>0.33333333                      </td><td> 1984                           </td><td>...                             </td><td> 86                             </td><td> 4                              </td><td> 7                              </td><td> 37                             </td><td>10                              </td><td> 8.094017                       </td><td> 0.2222222                      </td><td>1.7179487                       </td><td>3.743590                        </td><td>0.6153846                       </td></tr>\n",
       "\t<tr><td>org.eclipse.jdt.core            </td><td>org.eclipse.jdt.core.dom        </td><td>133                             </td><td>124                             </td><td>1                               </td><td>0.9323308                       </td><td> 9                              </td><td>1                               </td><td>0.06766917                      </td><td>27428                           </td><td>...                             </td><td>285                             </td><td> 9                              </td><td> 9                              </td><td>103                             </td><td>48                              </td><td> 8.612487                       </td><td> 0.5809114                      </td><td>0.8937926                       </td><td>2.508791                        </td><td>2.3738787                       </td></tr>\n",
       "\t<tr><td>org.eclipse.jdt.core            </td><td>org.eclipse.jdt.core.dom.rewrite</td><td>  5                             </td><td>  4                             </td><td>1                               </td><td>0.8000000                       </td><td> 1                              </td><td>1                               </td><td>0.20000000                      </td><td> 1012                           </td><td>...                             </td><td> 55                             </td><td> 4                              </td><td> 6                              </td><td> 16                             </td><td>29                              </td><td> 9.606383                       </td><td> 0.7765957                      </td><td>1.4468085                       </td><td>2.914894                        </td><td>3.4680851                       </td></tr>\n",
       "\t<tr><td>org.eclipse.jdt.core            </td><td>org.eclipse.jdt.core.eval       </td><td>  3                             </td><td>  0                             </td><td>0                               </td><td>0.0000000                       </td><td> 3                              </td><td>1                               </td><td>1.00000000                      </td><td>   97                           </td><td>...                             </td><td>  1                             </td><td>-1                              </td><td> 9                              </td><td>  1                             </td><td> 0                              </td><td> 1.000000                       </td><td>-1.0000000                      </td><td>2.1666667                       </td><td>1.000000                        </td><td>0.0000000                       </td></tr>\n",
       "\t<tr><td>org.eclipse.jdt.core            </td><td>org.eclipse.jdt.core.formatter  </td><td>  4                             </td><td>  4                             </td><td>1                               </td><td>1.0000000                       </td><td> 0                              </td><td>0                               </td><td>0.00000000                      </td><td>  932                           </td><td>...                             </td><td> 76                             </td><td> 3                              </td><td> 6                              </td><td> 19                             </td><td>16                              </td><td>18.531250                       </td><td> 1.2187500                      </td><td>1.9062500                       </td><td>5.312500                        </td><td>3.5000000                       </td></tr>\n",
       "</tbody>\n",
       "</table>\n"
      ],
      "text/latex": [
       "\\begin{tabular}{r|llllllllllllllllllllllllllllllllllllllllllll}\n",
       " plugin & package & NOCU & NOT\\_total & NOT\\_max & NOT\\_avg & NOI\\_total & NOI\\_max & NOI\\_avg & TLOC\\_total & ... & MLOC\\_max & NBD\\_max & PAR\\_max & VG\\_max & FOUT\\_max & MLOC\\_avg & NBD\\_avg & PAR\\_avg & VG\\_avg & FOUT\\_avg\\\\\n",
       "\\hline\n",
       "\t org.eclipse.jdt.core             & org.eclipse.jdt.core             &  64                              &  20                              & 1                                & 0.3125000                        & 44                               & 1                                & 0.68750000                       &  5949                            & ...                              & 168                              &  7                               & 13                               &  39                              & 30                               &  5.740489                        & -0.2282609                       & 1.5625000                        & 2.125000                         & 1.1073370                       \\\\\n",
       "\t org.eclipse.jdt.core             & org.eclipse.jdt.core.compiler    &   9                              &   6                              & 1                                & 0.6666667                        &  3                               & 1                                & 0.33333333                       &  1984                            & ...                              &  86                              &  4                               &  7                               &  37                              & 10                               &  8.094017                        &  0.2222222                       & 1.7179487                        & 3.743590                         & 0.6153846                       \\\\\n",
       "\t org.eclipse.jdt.core             & org.eclipse.jdt.core.dom         & 133                              & 124                              & 1                                & 0.9323308                        &  9                               & 1                                & 0.06766917                       & 27428                            & ...                              & 285                              &  9                               &  9                               & 103                              & 48                               &  8.612487                        &  0.5809114                       & 0.8937926                        & 2.508791                         & 2.3738787                       \\\\\n",
       "\t org.eclipse.jdt.core             & org.eclipse.jdt.core.dom.rewrite &   5                              &   4                              & 1                                & 0.8000000                        &  1                               & 1                                & 0.20000000                       &  1012                            & ...                              &  55                              &  4                               &  6                               &  16                              & 29                               &  9.606383                        &  0.7765957                       & 1.4468085                        & 2.914894                         & 3.4680851                       \\\\\n",
       "\t org.eclipse.jdt.core             & org.eclipse.jdt.core.eval        &   3                              &   0                              & 0                                & 0.0000000                        &  3                               & 1                                & 1.00000000                       &    97                            & ...                              &   1                              & -1                               &  9                               &   1                              &  0                               &  1.000000                        & -1.0000000                       & 2.1666667                        & 1.000000                         & 0.0000000                       \\\\\n",
       "\t org.eclipse.jdt.core             & org.eclipse.jdt.core.formatter   &   4                              &   4                              & 1                                & 1.0000000                        &  0                               & 0                                & 0.00000000                       &   932                            & ...                              &  76                              &  3                               &  6                               &  19                              & 16                               & 18.531250                        &  1.2187500                       & 1.9062500                        & 5.312500                         & 3.5000000                       \\\\\n",
       "\\end{tabular}\n"
      ],
      "text/markdown": [
       "\n",
       "| plugin | package | NOCU | NOT_total | NOT_max | NOT_avg | NOI_total | NOI_max | NOI_avg | TLOC_total | ... | MLOC_max | NBD_max | PAR_max | VG_max | FOUT_max | MLOC_avg | NBD_avg | PAR_avg | VG_avg | FOUT_avg |\n",
       "|---|---|---|---|---|---|---|---|---|---|---|---|---|---|---|---|---|---|---|---|---|\n",
       "| org.eclipse.jdt.core             | org.eclipse.jdt.core             |  64                              |  20                              | 1                                | 0.3125000                        | 44                               | 1                                | 0.68750000                       |  5949                            | ...                              | 168                              |  7                               | 13                               |  39                              | 30                               |  5.740489                        | -0.2282609                       | 1.5625000                        | 2.125000                         | 1.1073370                        |\n",
       "| org.eclipse.jdt.core             | org.eclipse.jdt.core.compiler    |   9                              |   6                              | 1                                | 0.6666667                        |  3                               | 1                                | 0.33333333                       |  1984                            | ...                              |  86                              |  4                               |  7                               |  37                              | 10                               |  8.094017                        |  0.2222222                       | 1.7179487                        | 3.743590                         | 0.6153846                        |\n",
       "| org.eclipse.jdt.core             | org.eclipse.jdt.core.dom         | 133                              | 124                              | 1                                | 0.9323308                        |  9                               | 1                                | 0.06766917                       | 27428                            | ...                              | 285                              |  9                               |  9                               | 103                              | 48                               |  8.612487                        |  0.5809114                       | 0.8937926                        | 2.508791                         | 2.3738787                        |\n",
       "| org.eclipse.jdt.core             | org.eclipse.jdt.core.dom.rewrite |   5                              |   4                              | 1                                | 0.8000000                        |  1                               | 1                                | 0.20000000                       |  1012                            | ...                              |  55                              |  4                               |  6                               |  16                              | 29                               |  9.606383                        |  0.7765957                       | 1.4468085                        | 2.914894                         | 3.4680851                        |\n",
       "| org.eclipse.jdt.core             | org.eclipse.jdt.core.eval        |   3                              |   0                              | 0                                | 0.0000000                        |  3                               | 1                                | 1.00000000                       |    97                            | ...                              |   1                              | -1                               |  9                               |   1                              |  0                               |  1.000000                        | -1.0000000                       | 2.1666667                        | 1.000000                         | 0.0000000                        |\n",
       "| org.eclipse.jdt.core             | org.eclipse.jdt.core.formatter   |   4                              |   4                              | 1                                | 1.0000000                        |  0                               | 0                                | 0.00000000                       |   932                            | ...                              |  76                              |  3                               |  6                               |  19                              | 16                               | 18.531250                        |  1.2187500                       | 1.9062500                        | 5.312500                         | 3.5000000                        |\n",
       "\n"
      ],
      "text/plain": [
       "  plugin               package                          NOCU NOT_total NOT_max\n",
       "1 org.eclipse.jdt.core org.eclipse.jdt.core              64   20       1      \n",
       "2 org.eclipse.jdt.core org.eclipse.jdt.core.compiler      9    6       1      \n",
       "3 org.eclipse.jdt.core org.eclipse.jdt.core.dom         133  124       1      \n",
       "4 org.eclipse.jdt.core org.eclipse.jdt.core.dom.rewrite   5    4       1      \n",
       "5 org.eclipse.jdt.core org.eclipse.jdt.core.eval          3    0       0      \n",
       "6 org.eclipse.jdt.core org.eclipse.jdt.core.formatter     4    4       1      \n",
       "  NOT_avg   NOI_total NOI_max NOI_avg    TLOC_total ... MLOC_max NBD_max\n",
       "1 0.3125000 44        1       0.68750000  5949      ... 168       7     \n",
       "2 0.6666667  3        1       0.33333333  1984      ...  86       4     \n",
       "3 0.9323308  9        1       0.06766917 27428      ... 285       9     \n",
       "4 0.8000000  1        1       0.20000000  1012      ...  55       4     \n",
       "5 0.0000000  3        1       1.00000000    97      ...   1      -1     \n",
       "6 1.0000000  0        0       0.00000000   932      ...  76       3     \n",
       "  PAR_max VG_max FOUT_max MLOC_avg  NBD_avg    PAR_avg   VG_avg   FOUT_avg \n",
       "1 13       39    30        5.740489 -0.2282609 1.5625000 2.125000 1.1073370\n",
       "2  7       37    10        8.094017  0.2222222 1.7179487 3.743590 0.6153846\n",
       "3  9      103    48        8.612487  0.5809114 0.8937926 2.508791 2.3738787\n",
       "4  6       16    29        9.606383  0.7765957 1.4468085 2.914894 3.4680851\n",
       "5  9        1     0        1.000000 -1.0000000 2.1666667 1.000000 0.0000000\n",
       "6  6       19    16       18.531250  1.2187500 1.9062500 5.312500 3.5000000"
      ]
     },
     "metadata": {},
     "output_type": "display_data"
    }
   ],
   "source": [
    "head(files_32)"
   ]
  },
  {
   "cell_type": "code",
   "execution_count": 10,
   "metadata": {},
   "outputs": [
    {
     "data": {
      "text/html": [
       "<table>\n",
       "<thead><tr><th scope=col>plugin</th><th scope=col>package</th><th scope=col>pre</th><th scope=col>post</th><th scope=col>NOCU</th><th scope=col>NOT_total</th><th scope=col>NOT_max</th><th scope=col>NOT_avg</th><th scope=col>NOI_total</th><th scope=col>NOI_max</th><th scope=col>...</th><th scope=col>MLOC_max</th><th scope=col>NBD_max</th><th scope=col>PAR_max</th><th scope=col>VG_max</th><th scope=col>FOUT_max</th><th scope=col>MLOC_avg</th><th scope=col>NBD_avg</th><th scope=col>PAR_avg</th><th scope=col>VG_avg</th><th scope=col>FOUT_avg</th></tr></thead>\n",
       "<tbody>\n",
       "\t<tr><td>org.eclipse.jdt.core            </td><td>org.eclipse.jdt.core            </td><td>90                              </td><td>21                              </td><td> 64                             </td><td> 20                             </td><td>1                               </td><td>0.3125000                       </td><td>44                              </td><td>1                               </td><td>...                             </td><td>168                             </td><td> 7                              </td><td>13                              </td><td> 39                             </td><td>30                              </td><td> 5.740489                       </td><td>-0.2282609                      </td><td>1.5625000                       </td><td>2.125000                        </td><td>1.1073370                       </td></tr>\n",
       "\t<tr><td>org.eclipse.jdt.core            </td><td>org.eclipse.jdt.core.compiler   </td><td> 0                              </td><td> 0                              </td><td>  9                             </td><td>  6                             </td><td>1                               </td><td>0.6666667                       </td><td> 3                              </td><td>1                               </td><td>...                             </td><td> 86                             </td><td> 4                              </td><td> 7                              </td><td> 37                             </td><td>10                              </td><td> 8.094017                       </td><td> 0.2222222                      </td><td>1.7179487                       </td><td>3.743590                        </td><td>0.6153846                       </td></tr>\n",
       "\t<tr><td>org.eclipse.jdt.core            </td><td>org.eclipse.jdt.core.dom        </td><td>66                              </td><td> 8                              </td><td>132                             </td><td>123                             </td><td>1                               </td><td>0.9318182                       </td><td> 9                              </td><td>1                               </td><td>...                             </td><td>285                             </td><td> 9                              </td><td> 9                              </td><td>103                             </td><td>48                              </td><td> 8.460712                       </td><td> 0.5667161                      </td><td>0.8917717                       </td><td>2.487769                        </td><td>2.2435137                       </td></tr>\n",
       "\t<tr><td>org.eclipse.jdt.core            </td><td>org.eclipse.jdt.core.dom.rewrite</td><td> 0                              </td><td> 0                              </td><td>  5                             </td><td>  4                             </td><td>1                               </td><td>0.8000000                       </td><td> 1                              </td><td>1                               </td><td>...                             </td><td> 55                             </td><td> 4                              </td><td> 6                              </td><td> 16                             </td><td>29                              </td><td> 9.606383                       </td><td> 0.7765957                      </td><td>1.4468085                       </td><td>2.914894                        </td><td>3.4680851                       </td></tr>\n",
       "\t<tr><td>org.eclipse.jdt.core            </td><td>org.eclipse.jdt.core.eval       </td><td> 0                              </td><td> 0                              </td><td>  3                             </td><td>  0                             </td><td>0                               </td><td>0.0000000                       </td><td> 3                              </td><td>1                               </td><td>...                             </td><td>  1                             </td><td>-1                              </td><td> 9                              </td><td>  1                             </td><td> 0                              </td><td> 1.000000                       </td><td>-1.0000000                      </td><td>2.1666667                       </td><td>1.000000                        </td><td>0.0000000                       </td></tr>\n",
       "\t<tr><td>org.eclipse.jdt.core            </td><td>org.eclipse.jdt.core.formatter  </td><td> 0                              </td><td>21                              </td><td>  4                             </td><td>  4                             </td><td>1                               </td><td>1.0000000                       </td><td> 0                              </td><td>0                               </td><td>...                             </td><td> 76                             </td><td> 3                              </td><td> 6                              </td><td> 19                             </td><td>16                              </td><td>18.531250                       </td><td> 1.2187500                      </td><td>1.9062500                       </td><td>5.312500                        </td><td>3.5000000                       </td></tr>\n",
       "</tbody>\n",
       "</table>\n"
      ],
      "text/latex": [
       "\\begin{tabular}{r|llllllllllllllllllllllllllllllllllllllllllll}\n",
       " plugin & package & pre & post & NOCU & NOT\\_total & NOT\\_max & NOT\\_avg & NOI\\_total & NOI\\_max & ... & MLOC\\_max & NBD\\_max & PAR\\_max & VG\\_max & FOUT\\_max & MLOC\\_avg & NBD\\_avg & PAR\\_avg & VG\\_avg & FOUT\\_avg\\\\\n",
       "\\hline\n",
       "\t org.eclipse.jdt.core             & org.eclipse.jdt.core             & 90                               & 21                               &  64                              &  20                              & 1                                & 0.3125000                        & 44                               & 1                                & ...                              & 168                              &  7                               & 13                               &  39                              & 30                               &  5.740489                        & -0.2282609                       & 1.5625000                        & 2.125000                         & 1.1073370                       \\\\\n",
       "\t org.eclipse.jdt.core             & org.eclipse.jdt.core.compiler    &  0                               &  0                               &   9                              &   6                              & 1                                & 0.6666667                        &  3                               & 1                                & ...                              &  86                              &  4                               &  7                               &  37                              & 10                               &  8.094017                        &  0.2222222                       & 1.7179487                        & 3.743590                         & 0.6153846                       \\\\\n",
       "\t org.eclipse.jdt.core             & org.eclipse.jdt.core.dom         & 66                               &  8                               & 132                              & 123                              & 1                                & 0.9318182                        &  9                               & 1                                & ...                              & 285                              &  9                               &  9                               & 103                              & 48                               &  8.460712                        &  0.5667161                       & 0.8917717                        & 2.487769                         & 2.2435137                       \\\\\n",
       "\t org.eclipse.jdt.core             & org.eclipse.jdt.core.dom.rewrite &  0                               &  0                               &   5                              &   4                              & 1                                & 0.8000000                        &  1                               & 1                                & ...                              &  55                              &  4                               &  6                               &  16                              & 29                               &  9.606383                        &  0.7765957                       & 1.4468085                        & 2.914894                         & 3.4680851                       \\\\\n",
       "\t org.eclipse.jdt.core             & org.eclipse.jdt.core.eval        &  0                               &  0                               &   3                              &   0                              & 0                                & 0.0000000                        &  3                               & 1                                & ...                              &   1                              & -1                               &  9                               &   1                              &  0                               &  1.000000                        & -1.0000000                       & 2.1666667                        & 1.000000                         & 0.0000000                       \\\\\n",
       "\t org.eclipse.jdt.core             & org.eclipse.jdt.core.formatter   &  0                               & 21                               &   4                              &   4                              & 1                                & 1.0000000                        &  0                               & 0                                & ...                              &  76                              &  3                               &  6                               &  19                              & 16                               & 18.531250                        &  1.2187500                       & 1.9062500                        & 5.312500                         & 3.5000000                       \\\\\n",
       "\\end{tabular}\n"
      ],
      "text/markdown": [
       "\n",
       "| plugin | package | pre | post | NOCU | NOT_total | NOT_max | NOT_avg | NOI_total | NOI_max | ... | MLOC_max | NBD_max | PAR_max | VG_max | FOUT_max | MLOC_avg | NBD_avg | PAR_avg | VG_avg | FOUT_avg |\n",
       "|---|---|---|---|---|---|---|---|---|---|---|---|---|---|---|---|---|---|---|---|---|\n",
       "| org.eclipse.jdt.core             | org.eclipse.jdt.core             | 90                               | 21                               |  64                              |  20                              | 1                                | 0.3125000                        | 44                               | 1                                | ...                              | 168                              |  7                               | 13                               |  39                              | 30                               |  5.740489                        | -0.2282609                       | 1.5625000                        | 2.125000                         | 1.1073370                        |\n",
       "| org.eclipse.jdt.core             | org.eclipse.jdt.core.compiler    |  0                               |  0                               |   9                              |   6                              | 1                                | 0.6666667                        |  3                               | 1                                | ...                              |  86                              |  4                               |  7                               |  37                              | 10                               |  8.094017                        |  0.2222222                       | 1.7179487                        | 3.743590                         | 0.6153846                        |\n",
       "| org.eclipse.jdt.core             | org.eclipse.jdt.core.dom         | 66                               |  8                               | 132                              | 123                              | 1                                | 0.9318182                        |  9                               | 1                                | ...                              | 285                              |  9                               |  9                               | 103                              | 48                               |  8.460712                        |  0.5667161                       | 0.8917717                        | 2.487769                         | 2.2435137                        |\n",
       "| org.eclipse.jdt.core             | org.eclipse.jdt.core.dom.rewrite |  0                               |  0                               |   5                              |   4                              | 1                                | 0.8000000                        |  1                               | 1                                | ...                              |  55                              |  4                               |  6                               |  16                              | 29                               |  9.606383                        |  0.7765957                       | 1.4468085                        | 2.914894                         | 3.4680851                        |\n",
       "| org.eclipse.jdt.core             | org.eclipse.jdt.core.eval        |  0                               |  0                               |   3                              |   0                              | 0                                | 0.0000000                        |  3                               | 1                                | ...                              |   1                              | -1                               |  9                               |   1                              |  0                               |  1.000000                        | -1.0000000                       | 2.1666667                        | 1.000000                         | 0.0000000                        |\n",
       "| org.eclipse.jdt.core             | org.eclipse.jdt.core.formatter   |  0                               | 21                               |   4                              |   4                              | 1                                | 1.0000000                        |  0                               | 0                                | ...                              |  76                              |  3                               |  6                               |  19                              | 16                               | 18.531250                        |  1.2187500                       | 1.9062500                        | 5.312500                         | 3.5000000                        |\n",
       "\n"
      ],
      "text/plain": [
       "  plugin               package                          pre post NOCU NOT_total\n",
       "1 org.eclipse.jdt.core org.eclipse.jdt.core             90  21    64   20      \n",
       "2 org.eclipse.jdt.core org.eclipse.jdt.core.compiler     0   0     9    6      \n",
       "3 org.eclipse.jdt.core org.eclipse.jdt.core.dom         66   8   132  123      \n",
       "4 org.eclipse.jdt.core org.eclipse.jdt.core.dom.rewrite  0   0     5    4      \n",
       "5 org.eclipse.jdt.core org.eclipse.jdt.core.eval         0   0     3    0      \n",
       "6 org.eclipse.jdt.core org.eclipse.jdt.core.formatter    0  21     4    4      \n",
       "  NOT_max NOT_avg   NOI_total NOI_max ... MLOC_max NBD_max PAR_max VG_max\n",
       "1 1       0.3125000 44        1       ... 168       7      13       39   \n",
       "2 1       0.6666667  3        1       ...  86       4       7       37   \n",
       "3 1       0.9318182  9        1       ... 285       9       9      103   \n",
       "4 1       0.8000000  1        1       ...  55       4       6       16   \n",
       "5 0       0.0000000  3        1       ...   1      -1       9        1   \n",
       "6 1       1.0000000  0        0       ...  76       3       6       19   \n",
       "  FOUT_max MLOC_avg  NBD_avg    PAR_avg   VG_avg   FOUT_avg \n",
       "1 30        5.740489 -0.2282609 1.5625000 2.125000 1.1073370\n",
       "2 10        8.094017  0.2222222 1.7179487 3.743590 0.6153846\n",
       "3 48        8.460712  0.5667161 0.8917717 2.487769 2.2435137\n",
       "4 29        9.606383  0.7765957 1.4468085 2.914894 3.4680851\n",
       "5  0        1.000000 -1.0000000 2.1666667 1.000000 0.0000000\n",
       "6 16       18.531250  1.2187500 1.9062500 5.312500 3.5000000"
      ]
     },
     "metadata": {},
     "output_type": "display_data"
    }
   ],
   "source": [
    "files_32 = cbind(files_32[,1:2], files_32[c(\"pre\", \"post\")], files_32[,3:32], files_32[,35:44])\n",
    "files_32 <- na.omit(files_32)\n",
    "\n",
    "files_34 = cbind(files_34[,1:2], files_34[c(\"pre\", \"post\")], files_34[,3:32], files_34[,35:44])\n",
    "files_34 <- na.omit(files_34)\n",
    "\n",
    "files_35 = cbind(files_35[,1:2], files_35[c(\"pre\", \"post\")], files_35[,3:32], files_35[,35:44])\n",
    "files_35 <- na.omit(files_35)\n",
    "\n",
    "head(files_35)"
   ]
  },
  {
   "cell_type": "code",
   "execution_count": 11,
   "metadata": {},
   "outputs": [
    {
     "data": {
      "image/png": "[encoded data removed]",
      "text/plain": [
       "Plot with title \"\""
      ]
     },
     "metadata": {},
     "output_type": "display_data"
    }
   ],
   "source": [
    "## set the parameter for drawing graphic. \n",
    "par(mar=c(5, 5, 2, 1) + 0.1)\n",
    "## drawing the histogram\n",
    "hist(files_35$post, freq=T, breaks=100, xlim=c(0,100), axes=F, main=\"\", xlab=\"Number of Post-Release Defects (per Package)\", ylab=\"Percentage\", col=\"darkgray\")\n",
    "axis(1)\n",
    "\n",
    "## this line, can draw the 0, 10%, 20% etc.. E.g., the 66.1 means the 661 (total number of lines) / 100 * 10. \n",
    "## the first param is: 2 means y axis. 1 means x. \n",
    "## \n",
    "axis(2, at=c(0, 4.4, 4.4*2, 4.4*3, 4.4*4, 4.4*5, 4.4*6), labels=c(\"0%\",\"10%\",\"20%\",\"30%\",\"40%\",\"50%\",\"60%\"), las=1)"
   ]
  },
  {
   "cell_type": "code",
   "execution_count": 12,
   "metadata": {},
   "outputs": [
    {
     "name": "stdout",
     "output_type": "stream",
     "text": [
      "[1] \"plugin +\"\n",
      "[1] \"package +\"\n",
      "[1] \"pre +\"\n",
      "[1] \"post +\"\n",
      "[1] \"NOCU +\"\n",
      "[1] \"NOT_total +\"\n",
      "[1] \"NOT_max +\"\n",
      "[1] \"NOT_avg +\"\n",
      "[1] \"NOI_total +\"\n",
      "[1] \"NOI_max +\"\n",
      "[1] \"NOI_avg +\"\n",
      "[1] \"TLOC_total +\"\n",
      "[1] \"TLOC_max +\"\n",
      "[1] \"TLOC_avg +\"\n",
      "[1] \"ACD_total +\"\n",
      "[1] \"ACD_max +\"\n",
      "[1] \"ACD_avg +\"\n",
      "[1] \"NSM_total +\"\n",
      "[1] \"NSM_max +\"\n",
      "[1] \"NSM_avg +\"\n",
      "[1] \"NSF_total +\"\n",
      "[1] \"NSF_max +\"\n",
      "[1] \"NSF_avg +\"\n",
      "[1] \"NOM_total +\"\n",
      "[1] \"NOM_max +\"\n",
      "[1] \"NOM_avg +\"\n",
      "[1] \"NOF_total +\"\n",
      "[1] \"NOF_max +\"\n",
      "[1] \"NOF_avg +\"\n",
      "[1] \"MLOC_total +\"\n",
      "[1] \"NBD_total +\"\n",
      "[1] \"PAR_total +\"\n",
      "[1] \"VG_total +\"\n",
      "[1] \"FOUT_total +\"\n",
      "[1] \"MLOC_max +\"\n",
      "[1] \"NBD_max +\"\n",
      "[1] \"PAR_max +\"\n",
      "[1] \"VG_max +\"\n",
      "[1] \"FOUT_max +\"\n",
      "[1] \"MLOC_avg +\"\n",
      "[1] \"NBD_avg +\"\n",
      "[1] \"PAR_avg +\"\n",
      "[1] \"VG_avg +\"\n",
      "[1] \"FOUT_avg +\"\n"
     ]
    },
    {
     "data": {
      "text/html": [
       "<ol class=list-inline>\n",
       "\t<li>'plugin'</li>\n",
       "\t<li>'package'</li>\n",
       "\t<li>'pre'</li>\n",
       "\t<li>'post'</li>\n",
       "\t<li>'NOCU'</li>\n",
       "\t<li>'NOT_total'</li>\n",
       "\t<li>'NOT_max'</li>\n",
       "\t<li>'NOT_avg'</li>\n",
       "\t<li>'NOI_total'</li>\n",
       "\t<li>'NOI_max'</li>\n",
       "\t<li>'NOI_avg'</li>\n",
       "\t<li>'TLOC_total'</li>\n",
       "\t<li>'TLOC_max'</li>\n",
       "\t<li>'TLOC_avg'</li>\n",
       "\t<li>'ACD_total'</li>\n",
       "\t<li>'ACD_max'</li>\n",
       "\t<li>'ACD_avg'</li>\n",
       "\t<li>'NSM_total'</li>\n",
       "\t<li>'NSM_max'</li>\n",
       "\t<li>'NSM_avg'</li>\n",
       "\t<li>'NSF_total'</li>\n",
       "\t<li>'NSF_max'</li>\n",
       "\t<li>'NSF_avg'</li>\n",
       "\t<li>'NOM_total'</li>\n",
       "\t<li>'NOM_max'</li>\n",
       "\t<li>'NOM_avg'</li>\n",
       "\t<li>'NOF_total'</li>\n",
       "\t<li>'NOF_max'</li>\n",
       "\t<li>'NOF_avg'</li>\n",
       "\t<li>'MLOC_total'</li>\n",
       "\t<li>'NBD_total'</li>\n",
       "\t<li>'PAR_total'</li>\n",
       "\t<li>'VG_total'</li>\n",
       "\t<li>'FOUT_total'</li>\n",
       "\t<li>'MLOC_max'</li>\n",
       "\t<li>'NBD_max'</li>\n",
       "\t<li>'PAR_max'</li>\n",
       "\t<li>'VG_max'</li>\n",
       "\t<li>'FOUT_max'</li>\n",
       "\t<li>'MLOC_avg'</li>\n",
       "\t<li>'NBD_avg'</li>\n",
       "\t<li>'PAR_avg'</li>\n",
       "\t<li>'VG_avg'</li>\n",
       "\t<li>'FOUT_avg'</li>\n",
       "</ol>\n"
      ],
      "text/latex": [
       "\\begin{enumerate*}\n",
       "\\item 'plugin'\n",
       "\\item 'package'\n",
       "\\item 'pre'\n",
       "\\item 'post'\n",
       "\\item 'NOCU'\n",
       "\\item 'NOT\\_total'\n",
       "\\item 'NOT\\_max'\n",
       "\\item 'NOT\\_avg'\n",
       "\\item 'NOI\\_total'\n",
       "\\item 'NOI\\_max'\n",
       "\\item 'NOI\\_avg'\n",
       "\\item 'TLOC\\_total'\n",
       "\\item 'TLOC\\_max'\n",
       "\\item 'TLOC\\_avg'\n",
       "\\item 'ACD\\_total'\n",
       "\\item 'ACD\\_max'\n",
       "\\item 'ACD\\_avg'\n",
       "\\item 'NSM\\_total'\n",
       "\\item 'NSM\\_max'\n",
       "\\item 'NSM\\_avg'\n",
       "\\item 'NSF\\_total'\n",
       "\\item 'NSF\\_max'\n",
       "\\item 'NSF\\_avg'\n",
       "\\item 'NOM\\_total'\n",
       "\\item 'NOM\\_max'\n",
       "\\item 'NOM\\_avg'\n",
       "\\item 'NOF\\_total'\n",
       "\\item 'NOF\\_max'\n",
       "\\item 'NOF\\_avg'\n",
       "\\item 'MLOC\\_total'\n",
       "\\item 'NBD\\_total'\n",
       "\\item 'PAR\\_total'\n",
       "\\item 'VG\\_total'\n",
       "\\item 'FOUT\\_total'\n",
       "\\item 'MLOC\\_max'\n",
       "\\item 'NBD\\_max'\n",
       "\\item 'PAR\\_max'\n",
       "\\item 'VG\\_max'\n",
       "\\item 'FOUT\\_max'\n",
       "\\item 'MLOC\\_avg'\n",
       "\\item 'NBD\\_avg'\n",
       "\\item 'PAR\\_avg'\n",
       "\\item 'VG\\_avg'\n",
       "\\item 'FOUT\\_avg'\n",
       "\\end{enumerate*}\n"
      ],
      "text/markdown": [
       "1. 'plugin'\n",
       "2. 'package'\n",
       "3. 'pre'\n",
       "4. 'post'\n",
       "5. 'NOCU'\n",
       "6. 'NOT_total'\n",
       "7. 'NOT_max'\n",
       "8. 'NOT_avg'\n",
       "9. 'NOI_total'\n",
       "10. 'NOI_max'\n",
       "11. 'NOI_avg'\n",
       "12. 'TLOC_total'\n",
       "13. 'TLOC_max'\n",
       "14. 'TLOC_avg'\n",
       "15. 'ACD_total'\n",
       "16. 'ACD_max'\n",
       "17. 'ACD_avg'\n",
       "18. 'NSM_total'\n",
       "19. 'NSM_max'\n",
       "20. 'NSM_avg'\n",
       "21. 'NSF_total'\n",
       "22. 'NSF_max'\n",
       "23. 'NSF_avg'\n",
       "24. 'NOM_total'\n",
       "25. 'NOM_max'\n",
       "26. 'NOM_avg'\n",
       "27. 'NOF_total'\n",
       "28. 'NOF_max'\n",
       "29. 'NOF_avg'\n",
       "30. 'MLOC_total'\n",
       "31. 'NBD_total'\n",
       "32. 'PAR_total'\n",
       "33. 'VG_total'\n",
       "34. 'FOUT_total'\n",
       "35. 'MLOC_max'\n",
       "36. 'NBD_max'\n",
       "37. 'PAR_max'\n",
       "38. 'VG_max'\n",
       "39. 'FOUT_max'\n",
       "40. 'MLOC_avg'\n",
       "41. 'NBD_avg'\n",
       "42. 'PAR_avg'\n",
       "43. 'VG_avg'\n",
       "44. 'FOUT_avg'\n",
       "\n",
       "\n"
      ],
      "text/plain": [
       " [1] \"plugin\"     \"package\"    \"pre\"        \"post\"       \"NOCU\"      \n",
       " [6] \"NOT_total\"  \"NOT_max\"    \"NOT_avg\"    \"NOI_total\"  \"NOI_max\"   \n",
       "[11] \"NOI_avg\"    \"TLOC_total\" \"TLOC_max\"   \"TLOC_avg\"   \"ACD_total\" \n",
       "[16] \"ACD_max\"    \"ACD_avg\"    \"NSM_total\"  \"NSM_max\"    \"NSM_avg\"   \n",
       "[21] \"NSF_total\"  \"NSF_max\"    \"NSF_avg\"    \"NOM_total\"  \"NOM_max\"   \n",
       "[26] \"NOM_avg\"    \"NOF_total\"  \"NOF_max\"    \"NOF_avg\"    \"MLOC_total\"\n",
       "[31] \"NBD_total\"  \"PAR_total\"  \"VG_total\"   \"FOUT_total\" \"MLOC_max\"  \n",
       "[36] \"NBD_max\"    \"PAR_max\"    \"VG_max\"     \"FOUT_max\"   \"MLOC_avg\"  \n",
       "[41] \"NBD_avg\"    \"PAR_avg\"    \"VG_avg\"     \"FOUT_avg\"  "
      ]
     },
     "metadata": {},
     "output_type": "display_data"
    }
   ],
   "source": [
    "# col_name <- names(files_32)\n",
    "# env_vars <- col_name\n",
    "# for (env in env_vars){\n",
    "#    print(paste(env, \"+\"))\n",
    "# }\n",
    "# env_vars"
   ]
  },
  {
   "cell_type": "code",
   "execution_count": 7,
   "metadata": {},
   "outputs": [
    {
     "name": "stderr",
     "output_type": "stream",
     "text": [
      "Your code contains a unicode char which cannot be displayed in your\n",
      "current locale and R will silently convert it to an escaped form when the\n",
      "R kernel executes this code. This can lead to subtle errors if you use\n",
      "such chars to do comparisons. For more information, please see\n",
      "https://github.com/IRkernel/repr/wiki/Problems-with-unicode-on-windowsWarning message in cbind(cor(files_35[, 3:44], files_35$pre, method = \"spearman\"), :\n",
      "\"number of rows of result is not a multiple of vector length (arg 2)\""
     ]
    },
    {
     "data": {
      "text/html": [
       "<table>\n",
       "<tbody>\n",
       "\t<tr><th scope=row>pre</th><td> 1.00000000</td><td>1          </td><td> 0.60276552</td><td>1          </td></tr>\n",
       "\t<tr><th scope=row>post</th><td> 0.60276552</td><td>1          </td><td> 1.00000000</td><td>1          </td></tr>\n",
       "\t<tr><th scope=row>NOCU</th><td> 0.70428084</td><td>1          </td><td> 0.40081499</td><td>1          </td></tr>\n",
       "\t<tr><th scope=row>NOT_total</th><td> 0.79152229</td><td>1          </td><td> 0.50605011</td><td>1          </td></tr>\n",
       "\t<tr><th scope=row>NOT_max</th><td> 0.17810053</td><td>1          </td><td> 0.15677560</td><td>1          </td></tr>\n",
       "\t<tr><th scope=row>NOT_avg</th><td>-0.01772520</td><td>0          </td><td> 0.14731047</td><td>0          </td></tr>\n",
       "\t<tr><th scope=row>NOI_total</th><td> 0.26368713</td><td>0          </td><td>-0.01236596</td><td>0          </td></tr>\n",
       "\t<tr><th scope=row>NOI_max</th><td> 0.28384036</td><td>0          </td><td> 0.01380149</td><td>0          </td></tr>\n",
       "\t<tr><th scope=row>NOI_avg</th><td> 0.01772520</td><td>0          </td><td>-0.14731047</td><td>0          </td></tr>\n",
       "\t<tr><th scope=row>TLOC_total</th><td> 0.77677777</td><td>0          </td><td> 0.58761204</td><td>0          </td></tr>\n",
       "\t<tr><th scope=row>TLOC_max</th><td> 0.58440328</td><td>1          </td><td> 0.49465687</td><td>1          </td></tr>\n",
       "\t<tr><th scope=row>TLOC_avg</th><td> 0.24650459</td><td>1          </td><td> 0.38219806</td><td>1          </td></tr>\n",
       "\t<tr><th scope=row>ACD_total</th><td> 0.57885672</td><td>0          </td><td> 0.48249529</td><td>0          </td></tr>\n",
       "\t<tr><th scope=row>ACD_max</th><td> 0.55113606</td><td>1          </td><td> 0.47401980</td><td>1          </td></tr>\n",
       "\t<tr><th scope=row>ACD_avg</th><td> 0.42412024</td><td>1          </td><td> 0.35679961</td><td>1          </td></tr>\n",
       "\t<tr><th scope=row>NSM_total</th><td> 0.38768640</td><td>1          </td><td> 0.50997170</td><td>0          </td></tr>\n",
       "\t<tr><th scope=row>NSM_max</th><td> 0.31597620</td><td>1          </td><td> 0.44420862</td><td>1          </td></tr>\n",
       "\t<tr><th scope=row>NSM_avg</th><td> 0.07686697</td><td>0          </td><td> 0.30854197</td><td>1          </td></tr>\n",
       "\t<tr><th scope=row>NSF_total</th><td> 0.49005786</td><td>0          </td><td> 0.35649326</td><td>0          </td></tr>\n",
       "\t<tr><th scope=row>NSF_max</th><td> 0.37830710</td><td>1          </td><td> 0.25159810</td><td>0          </td></tr>\n",
       "\t<tr><th scope=row>NSF_avg</th><td> 0.05522099</td><td>0          </td><td> 0.08656733</td><td>0          </td></tr>\n",
       "\t<tr><th scope=row>NOM_total</th><td> 0.71207738</td><td>0          </td><td> 0.47347713</td><td>0          </td></tr>\n",
       "\t<tr><th scope=row>NOM_max</th><td> 0.48981143</td><td>1          </td><td> 0.39228596</td><td>1          </td></tr>\n",
       "\t<tr><th scope=row>NOM_avg</th><td> 0.25321671</td><td>1          </td><td> 0.22010467</td><td>1          </td></tr>\n",
       "\t<tr><th scope=row>NOF_total</th><td> 0.53838378</td><td>0          </td><td> 0.47198494</td><td>0          </td></tr>\n",
       "\t<tr><th scope=row>NOF_max</th><td> 0.30456903</td><td>1          </td><td> 0.33279354</td><td>1          </td></tr>\n",
       "\t<tr><th scope=row>NOF_avg</th><td>-0.01629178</td><td>0          </td><td> 0.17599930</td><td>0          </td></tr>\n",
       "\t<tr><th scope=row>MLOC_total</th><td> 0.80063537</td><td>0          </td><td> 0.59519270</td><td>0          </td></tr>\n",
       "\t<tr><th scope=row>NBD_total</th><td> 0.66227017</td><td>1          </td><td> 0.53868788</td><td>1          </td></tr>\n",
       "\t<tr><th scope=row>PAR_total</th><td> 0.68749814</td><td>1          </td><td> 0.52989253</td><td>1          </td></tr>\n",
       "\t<tr><th scope=row>VG_total</th><td> 0.77781426</td><td>1          </td><td> 0.56982123</td><td>1          </td></tr>\n",
       "\t<tr><th scope=row>FOUT_total</th><td> 0.75950596</td><td>1          </td><td> 0.61744127</td><td>1          </td></tr>\n",
       "\t<tr><th scope=row>MLOC_max</th><td> 0.58043902</td><td>1          </td><td> 0.51644209</td><td>1          </td></tr>\n",
       "\t<tr><th scope=row>NBD_max</th><td> 0.67429189</td><td>1          </td><td> 0.54935675</td><td>1          </td></tr>\n",
       "\t<tr><th scope=row>PAR_max</th><td> 0.49668204</td><td>1          </td><td> 0.42127876</td><td>1          </td></tr>\n",
       "\t<tr><th scope=row>VG_max</th><td> 0.55831789</td><td>1          </td><td> 0.48964758</td><td>1          </td></tr>\n",
       "\t<tr><th scope=row>FOUT_max</th><td> 0.65558626</td><td>1          </td><td> 0.54146028</td><td>1          </td></tr>\n",
       "\t<tr><th scope=row>MLOC_avg</th><td> 0.19590628</td><td>1          </td><td> 0.32434948</td><td>1          </td></tr>\n",
       "\t<tr><th scope=row>NBD_avg</th><td> 0.11885558</td><td>0          </td><td> 0.30896735</td><td>0          </td></tr>\n",
       "\t<tr><th scope=row>PAR_avg</th><td>-0.06609494</td><td>0          </td><td> 0.12975451</td><td>0          </td></tr>\n",
       "\t<tr><th scope=row>VG_avg</th><td> 0.21140291</td><td>0          </td><td> 0.32177352</td><td>0          </td></tr>\n",
       "\t<tr><th scope=row>FOUT_avg</th><td> 0.23404345</td><td>0          </td><td> 0.38077630</td><td>0          </td></tr>\n",
       "</tbody>\n",
       "</table>\n"
      ],
      "text/latex": [
       "\\begin{tabular}{r|llll}\n",
       "\tpre &  1.00000000 & 1           &  0.60276552 & 1          \\\\\n",
       "\tpost &  0.60276552 & 1           &  1.00000000 & 1          \\\\\n",
       "\tNOCU &  0.70428084 & 1           &  0.40081499 & 1          \\\\\n",
       "\tNOT\\_total &  0.79152229 & 1           &  0.50605011 & 1          \\\\\n",
       "\tNOT\\_max &  0.17810053 & 1           &  0.15677560 & 1          \\\\\n",
       "\tNOT\\_avg & -0.01772520 & 0           &  0.14731047 & 0          \\\\\n",
       "\tNOI\\_total &  0.26368713 & 0           & -0.01236596 & 0          \\\\\n",
       "\tNOI\\_max &  0.28384036 & 0           &  0.01380149 & 0          \\\\\n",
       "\tNOI\\_avg &  0.01772520 & 0           & -0.14731047 & 0          \\\\\n",
       "\tTLOC\\_total &  0.77677777 & 0           &  0.58761204 & 0          \\\\\n",
       "\tTLOC\\_max &  0.58440328 & 1           &  0.49465687 & 1          \\\\\n",
       "\tTLOC\\_avg &  0.24650459 & 1           &  0.38219806 & 1          \\\\\n",
       "\tACD\\_total &  0.57885672 & 0           &  0.48249529 & 0          \\\\\n",
       "\tACD\\_max &  0.55113606 & 1           &  0.47401980 & 1          \\\\\n",
       "\tACD\\_avg &  0.42412024 & 1           &  0.35679961 & 1          \\\\\n",
       "\tNSM\\_total &  0.38768640 & 1           &  0.50997170 & 0          \\\\\n",
       "\tNSM\\_max &  0.31597620 & 1           &  0.44420862 & 1          \\\\\n",
       "\tNSM\\_avg &  0.07686697 & 0           &  0.30854197 & 1          \\\\\n",
       "\tNSF\\_total &  0.49005786 & 0           &  0.35649326 & 0          \\\\\n",
       "\tNSF\\_max &  0.37830710 & 1           &  0.25159810 & 0          \\\\\n",
       "\tNSF\\_avg &  0.05522099 & 0           &  0.08656733 & 0          \\\\\n",
       "\tNOM\\_total &  0.71207738 & 0           &  0.47347713 & 0          \\\\\n",
       "\tNOM\\_max &  0.48981143 & 1           &  0.39228596 & 1          \\\\\n",
       "\tNOM\\_avg &  0.25321671 & 1           &  0.22010467 & 1          \\\\\n",
       "\tNOF\\_total &  0.53838378 & 0           &  0.47198494 & 0          \\\\\n",
       "\tNOF\\_max &  0.30456903 & 1           &  0.33279354 & 1          \\\\\n",
       "\tNOF\\_avg & -0.01629178 & 0           &  0.17599930 & 0          \\\\\n",
       "\tMLOC\\_total &  0.80063537 & 0           &  0.59519270 & 0          \\\\\n",
       "\tNBD\\_total &  0.66227017 & 1           &  0.53868788 & 1          \\\\\n",
       "\tPAR\\_total &  0.68749814 & 1           &  0.52989253 & 1          \\\\\n",
       "\tVG\\_total &  0.77781426 & 1           &  0.56982123 & 1          \\\\\n",
       "\tFOUT\\_total &  0.75950596 & 1           &  0.61744127 & 1          \\\\\n",
       "\tMLOC\\_max &  0.58043902 & 1           &  0.51644209 & 1          \\\\\n",
       "\tNBD\\_max &  0.67429189 & 1           &  0.54935675 & 1          \\\\\n",
       "\tPAR\\_max &  0.49668204 & 1           &  0.42127876 & 1          \\\\\n",
       "\tVG\\_max &  0.55831789 & 1           &  0.48964758 & 1          \\\\\n",
       "\tFOUT\\_max &  0.65558626 & 1           &  0.54146028 & 1          \\\\\n",
       "\tMLOC\\_avg &  0.19590628 & 1           &  0.32434948 & 1          \\\\\n",
       "\tNBD\\_avg &  0.11885558 & 0           &  0.30896735 & 0          \\\\\n",
       "\tPAR\\_avg & -0.06609494 & 0           &  0.12975451 & 0          \\\\\n",
       "\tVG\\_avg &  0.21140291 & 0           &  0.32177352 & 0          \\\\\n",
       "\tFOUT\\_avg &  0.23404345 & 0           &  0.38077630 & 0          \\\\\n",
       "\\end{tabular}\n"
      ],
      "text/markdown": [
       "\n",
       "| pre |  1.00000000 | 1           |  0.60276552 | 1           |\n",
       "| post |  0.60276552 | 1           |  1.00000000 | 1           |\n",
       "| NOCU |  0.70428084 | 1           |  0.40081499 | 1           |\n",
       "| NOT_total |  0.79152229 | 1           |  0.50605011 | 1           |\n",
       "| NOT_max |  0.17810053 | 1           |  0.15677560 | 1           |\n",
       "| NOT_avg | -0.01772520 | 0           |  0.14731047 | 0           |\n",
       "| NOI_total |  0.26368713 | 0           | -0.01236596 | 0           |\n",
       "| NOI_max |  0.28384036 | 0           |  0.01380149 | 0           |\n",
       "| NOI_avg |  0.01772520 | 0           | -0.14731047 | 0           |\n",
       "| TLOC_total |  0.77677777 | 0           |  0.58761204 | 0           |\n",
       "| TLOC_max |  0.58440328 | 1           |  0.49465687 | 1           |\n",
       "| TLOC_avg |  0.24650459 | 1           |  0.38219806 | 1           |\n",
       "| ACD_total |  0.57885672 | 0           |  0.48249529 | 0           |\n",
       "| ACD_max |  0.55113606 | 1           |  0.47401980 | 1           |\n",
       "| ACD_avg |  0.42412024 | 1           |  0.35679961 | 1           |\n",
       "| NSM_total |  0.38768640 | 1           |  0.50997170 | 0           |\n",
       "| NSM_max |  0.31597620 | 1           |  0.44420862 | 1           |\n",
       "| NSM_avg |  0.07686697 | 0           |  0.30854197 | 1           |\n",
       "| NSF_total |  0.49005786 | 0           |  0.35649326 | 0           |\n",
       "| NSF_max |  0.37830710 | 1           |  0.25159810 | 0           |\n",
       "| NSF_avg |  0.05522099 | 0           |  0.08656733 | 0           |\n",
       "| NOM_total |  0.71207738 | 0           |  0.47347713 | 0           |\n",
       "| NOM_max |  0.48981143 | 1           |  0.39228596 | 1           |\n",
       "| NOM_avg |  0.25321671 | 1           |  0.22010467 | 1           |\n",
       "| NOF_total |  0.53838378 | 0           |  0.47198494 | 0           |\n",
       "| NOF_max |  0.30456903 | 1           |  0.33279354 | 1           |\n",
       "| NOF_avg | -0.01629178 | 0           |  0.17599930 | 0           |\n",
       "| MLOC_total |  0.80063537 | 0           |  0.59519270 | 0           |\n",
       "| NBD_total |  0.66227017 | 1           |  0.53868788 | 1           |\n",
       "| PAR_total |  0.68749814 | 1           |  0.52989253 | 1           |\n",
       "| VG_total |  0.77781426 | 1           |  0.56982123 | 1           |\n",
       "| FOUT_total |  0.75950596 | 1           |  0.61744127 | 1           |\n",
       "| MLOC_max |  0.58043902 | 1           |  0.51644209 | 1           |\n",
       "| NBD_max |  0.67429189 | 1           |  0.54935675 | 1           |\n",
       "| PAR_max |  0.49668204 | 1           |  0.42127876 | 1           |\n",
       "| VG_max |  0.55831789 | 1           |  0.48964758 | 1           |\n",
       "| FOUT_max |  0.65558626 | 1           |  0.54146028 | 1           |\n",
       "| MLOC_avg |  0.19590628 | 1           |  0.32434948 | 1           |\n",
       "| NBD_avg |  0.11885558 | 0           |  0.30896735 | 0           |\n",
       "| PAR_avg | -0.06609494 | 0           |  0.12975451 | 0           |\n",
       "| VG_avg |  0.21140291 | 0           |  0.32177352 | 0           |\n",
       "| FOUT_avg |  0.23404345 | 0           |  0.38077630 | 0           |\n",
       "\n"
      ],
      "text/plain": [
       "           [,1]        [,2] [,3]        [,4]\n",
       "pre         1.00000000 1     0.60276552 1   \n",
       "post        0.60276552 1     1.00000000 1   \n",
       "NOCU        0.70428084 1     0.40081499 1   \n",
       "NOT_total   0.79152229 1     0.50605011 1   \n",
       "NOT_max     0.17810053 1     0.15677560 1   \n",
       "NOT_avg    -0.01772520 0     0.14731047 0   \n",
       "NOI_total   0.26368713 0    -0.01236596 0   \n",
       "NOI_max     0.28384036 0     0.01380149 0   \n",
       "NOI_avg     0.01772520 0    -0.14731047 0   \n",
       "TLOC_total  0.77677777 0     0.58761204 0   \n",
       "TLOC_max    0.58440328 1     0.49465687 1   \n",
       "TLOC_avg    0.24650459 1     0.38219806 1   \n",
       "ACD_total   0.57885672 0     0.48249529 0   \n",
       "ACD_max     0.55113606 1     0.47401980 1   \n",
       "ACD_avg     0.42412024 1     0.35679961 1   \n",
       "NSM_total   0.38768640 1     0.50997170 0   \n",
       "NSM_max     0.31597620 1     0.44420862 1   \n",
       "NSM_avg     0.07686697 0     0.30854197 1   \n",
       "NSF_total   0.49005786 0     0.35649326 0   \n",
       "NSF_max     0.37830710 1     0.25159810 0   \n",
       "NSF_avg     0.05522099 0     0.08656733 0   \n",
       "NOM_total   0.71207738 0     0.47347713 0   \n",
       "NOM_max     0.48981143 1     0.39228596 1   \n",
       "NOM_avg     0.25321671 1     0.22010467 1   \n",
       "NOF_total   0.53838378 0     0.47198494 0   \n",
       "NOF_max     0.30456903 1     0.33279354 1   \n",
       "NOF_avg    -0.01629178 0     0.17599930 0   \n",
       "MLOC_total  0.80063537 0     0.59519270 0   \n",
       "NBD_total   0.66227017 1     0.53868788 1   \n",
       "PAR_total   0.68749814 1     0.52989253 1   \n",
       "VG_total    0.77781426 1     0.56982123 1   \n",
       "FOUT_total  0.75950596 1     0.61744127 1   \n",
       "MLOC_max    0.58043902 1     0.51644209 1   \n",
       "NBD_max     0.67429189 1     0.54935675 1   \n",
       "PAR_max     0.49668204 1     0.42127876 1   \n",
       "VG_max      0.55831789 1     0.48964758 1   \n",
       "FOUT_max    0.65558626 1     0.54146028 1   \n",
       "MLOC_avg    0.19590628 1     0.32434948 1   \n",
       "NBD_avg     0.11885558 0     0.30896735 0   \n",
       "PAR_avg    -0.06609494 0     0.12975451 0   \n",
       "VG_avg      0.21140291 0     0.32177352 0   \n",
       "FOUT_avg    0.23404345 0     0.38077630 0   "
      ]
     },
     "metadata": {},
     "output_type": "display_data"
    }
   ],
   "source": [
    "## till now 2019年10月12日 there are only 22 columns in files. 21 of them are useful (the useless one is line ID)\n",
    "pre.p <- rep (-1, 42)\n",
    "post.p <- rep (-1, 42)\n",
    "for (i in 3:44) {\n",
    "    pre.p[i-1] <- cor.test(files_35[,i], files_35$pre, method=\"spearman\", exact=FALSE)$p.value\n",
    "    post.p[i-1] <- cor.test(files_35[,i], files_35$post, method=\"spearman\", exact=FALSE)$p.value\n",
    "}\n",
    "\n",
    "# p.value is the significance. If the significance is not enough (p is not small enough), the correlation results may not hold. \n",
    "cbind(\n",
    "    cor(files_35[,3:44], files_35$pre, method=\"spearman\"),\n",
    "    (pre.p<0.01),\n",
    "    cor(files_35[,3:44], files_35$post, method=\"spearman\"), \n",
    "    (post.p<0.01)\n",
    ")"
   ]
  },
  {
   "cell_type": "markdown",
   "metadata": {},
   "source": [
    "As we can see, there are some metrics have correlations that are above 0.400 threshold. \n",
    "\n",
    "Like `NOT, NOCU, TLOC, ACD, NSM, method level metrics`. \n",
    "\n",
    "Especially in `Method level`, \" However, in many cases the maximum metrics (_max) show correlation values comparable to the accumulated ones (except for PAR_max).\"\n",
    "\n",
    "<table>\n",
    "<tbody>\n",
    "\t<tr><th scope=row>pre</th><td> 1.00000000</td><td>1          </td><td> **0.60276552**</td><td>1          </td></tr>\n",
    "\t<tr><th scope=row>post</th><td> **0.60276552**</td><td>1          </td><td> 1.00000000</td><td>1          </td></tr>\n",
    "\t<tr><th scope=row>NOCU</th><td> **0.70428084**</td><td>1          </td><td> **0.40081499**</td><td>1          </td></tr>\n",
    "\t<tr><th scope=row>NOT_total</th><td> **0.79152229**</td><td>1          </td><td> **0.50605011**</td><td>1          </td></tr>\n",
    "\t<tr><th scope=row>NOT_max</th><td> 0.17810053</td><td>1          </td><td> 0.15677560</td><td>1          </td></tr>\n",
    "\t<tr><th scope=row>NOT_avg</th><td>-0.01772520</td><td>0          </td><td> 0.14731047</td><td>0          </td></tr>\n",
    "\t<tr><th scope=row>NOI_total</th><td> 0.26368713</td><td>0          </td><td>-0.01236596</td><td>0          </td></tr>\n",
    "\t<tr><th scope=row>NOI_max</th><td> 0.28384036</td><td>0          </td><td> 0.01380149</td><td>0          </td></tr>\n",
    "\t<tr><th scope=row>NOI_avg</th><td> 0.01772520</td><td>0          </td><td>-0.14731047</td><td>0          </td></tr>\n",
    "\t<tr><th scope=row>TLOC_total</th><td> 0.77677777</td><td>0          </td><td> 0.58761204</td><td>0          </td></tr>\n",
    "\t<tr><th scope=row>TLOC_max</th><td> **0.58440328**</td><td>1          </td><td> **0.49465687**</td><td>1          </td></tr>\n",
    "\t<tr><th scope=row>TLOC_avg</th><td> 0.24650459</td><td>1          </td><td> 0.38219806</td><td>1          </td></tr>\n",
    "\t<tr><th scope=row>ACD_total</th><td> 0.57885672</td><td>0          </td><td> 0.48249529</td><td>0          </td></tr>\n",
    "\t<tr><th scope=row>ACD_max</th><td> **0.55113606**</td><td>1          </td><td> **0.47401980**</td><td>1          </td></tr>\n",
    "\t<tr><th scope=row>ACD_avg</th><td> **0.42412024**</td><td>1          </td><td> 0.35679961</td><td>1          </td></tr>\n",
    "\t<tr><th scope=row>NSM_total</th><td> 0.38768640</td><td>1          </td><td> 0.50997170</td><td>0          </td></tr>\n",
    "\t<tr><th scope=row>NSM_max</th><td> 0.31597620</td><td>1          </td><td>** 0.44420862**</td><td>1          </td></tr>\n",
    "\t<tr><th scope=row>NSM_avg</th><td> 0.07686697</td><td>0          </td><td> 0.30854197</td><td>1          </td></tr>\n",
    "\t<tr><th scope=row>NSF_total</th><td> 0.49005786</td><td>0          </td><td> 0.35649326</td><td>0          </td></tr>\n",
    "\t<tr><th scope=row>NSF_max</th><td> 0.37830710</td><td>1          </td><td> 0.25159810</td><td>0          </td></tr>\n",
    "\t<tr><th scope=row>NSF_avg</th><td> 0.05522099</td><td>0          </td><td> 0.08656733</td><td>0          </td></tr>\n",
    "\t<tr><th scope=row>NOM_total</th><td> 0.71207738</td><td>0          </td><td> 0.47347713</td><td>0          </td></tr>\n",
    "\t<tr><th scope=row>NOM_max</th><td> 0.48981143</td><td>1          </td><td> 0.39228596</td><td>1          </td></tr>\n",
    "\t<tr><th scope=row>NOM_avg</th><td> 0.25321671</td><td>1          </td><td> 0.22010467</td><td>1          </td></tr>\n",
    "\t<tr><th scope=row>NOF_total</th><td> 0.53838378</td><td>0          </td><td> 0.47198494</td><td>0          </td></tr>\n",
    "\t<tr><th scope=row>NOF_max</th><td> 0.30456903</td><td>1          </td><td> 0.33279354</td><td>1          </td></tr>\n",
    "\t<tr><th scope=row>NOF_avg</th><td>-0.01629178</td><td>0          </td><td> 0.17599930</td><td>0          </td></tr>\n",
    "\t<tr><th scope=row>MLOC_total</th><td> 0.80063537</td><td>0          </td><td> 0.59519270</td><td>0          </td></tr>\n",
    "\t<tr><th scope=row>NBD_total</th><td> **0.66227017**</td><td>1          </td><td> **0.53868788**</td><td>1          </td></tr>\n",
    "\t<tr><th scope=row>PAR_total</th><td> **0.68749814**</td><td>1          </td><td> **0.52989253**</td><td>1          </td></tr>\n",
    "\t<tr><th scope=row>VG_total</th><td> **0.77781426**</td><td>1          </td><td> **0.56982123**</td><td>1          </td></tr>\n",
    "\t<tr><th scope=row>FOUT_total</th><td> **0.75950596**</td><td>1          </td><td> **0.61744127**</td><td>1          </td></tr>\n",
    "\t<tr><th scope=row>MLOC_max</th><td> **0.58043902**</td><td>1          </td><td> **0.51644209**</td><td>1          </td></tr>\n",
    "\t<tr><th scope=row>NBD_max</th><td> **0.67429189**</td><td>1          </td><td> **0.54935675**</td><td>1          </td></tr>\n",
    "\t<tr><th scope=row>PAR_max</th><td> **0.49668204**</td><td>1          </td><td> **0.42127876**</td><td>1          </td></tr>\n",
    "\t<tr><th scope=row>VG_max</th><td> **0.55831789**</td><td>1          </td><td> **0.48964758**</td><td>1          </td></tr>\n",
    "\t<tr><th scope=row>FOUT_max</th><td> **0.65558626**</td><td>1          </td><td> **0.54146028**</td><td>1          </td></tr>\n",
    "\t<tr><th scope=row>MLOC_avg</th><td> **0.19590628**</td><td>1          </td><td> 0.32434948</td><td>1          </td></tr>\n",
    "\t<tr><th scope=row>NBD_avg</th><td> 0.11885558</td><td>0          </td><td> 0.30896735</td><td>0          </td></tr>\n",
    "\t<tr><th scope=row>PAR_avg</th><td>-0.06609494</td><td>0          </td><td> 0.12975451</td><td>0          </td></tr>\n",
    "\t<tr><th scope=row>VG_avg</th><td> 0.21140291</td><td>0          </td><td> 0.32177352</td><td>0          </td></tr>\n",
    "\t<tr><th scope=row>FOUT_avg</th><td> 0.23404345</td><td>0          </td><td> 0.38077630</td><td>0          </td></tr>\n",
    "</tbody>\n",
    "</table>"
   ]
  },
  {
   "cell_type": "code",
   "execution_count": 13,
   "metadata": {},
   "outputs": [
    {
     "name": "stderr",
     "output_type": "stream",
     "text": [
      "Warning message:\n",
      "\"glm.fit: fitted probabilities numerically 0 or 1 occurred\"Warning message in predict.lm(object, newdata, se.fit, scale = 1, type = ifelse(type == :\n",
      "\"prediction from a rank-deficient fit may be misleading\""
     ]
    },
    {
     "data": {
      "text/html": [
       "<ol class=list-inline>\n",
       "\t<li>0.545454545454545</li>\n",
       "\t<li>1</li>\n",
       "\t<li>1</li>\n",
       "\t<li>1</li>\n",
       "</ol>\n"
      ],
      "text/latex": [
       "\\begin{enumerate*}\n",
       "\\item 0.545454545454545\n",
       "\\item 1\n",
       "\\item 1\n",
       "\\item 1\n",
       "\\end{enumerate*}\n"
      ],
      "text/markdown": [
       "1. 0.545454545454545\n",
       "2. 1\n",
       "3. 1\n",
       "4. 1\n",
       "\n",
       "\n"
      ],
      "text/plain": [
       "[1] 0.5454545 1.0000000 1.0000000 1.0000000"
      ]
     },
     "metadata": {},
     "output_type": "display_data"
    },
    {
     "name": "stderr",
     "output_type": "stream",
     "text": [
      "Warning message:\n",
      "\"glm.fit: fitted probabilities numerically 0 or 1 occurred\"Warning message in predict.lm(object, newdata, se.fit, scale = 1, type = ifelse(type == :\n",
      "\"prediction from a rank-deficient fit may be misleading\""
     ]
    },
    {
     "data": {
      "text/html": [
       "<ol class=list-inline>\n",
       "\t<li>0.613636363636364</li>\n",
       "\t<li>0.666666666666667</li>\n",
       "\t<li>0.222222222222222</li>\n",
       "\t<li>0.454545454545455</li>\n",
       "</ol>\n"
      ],
      "text/latex": [
       "\\begin{enumerate*}\n",
       "\\item 0.613636363636364\n",
       "\\item 0.666666666666667\n",
       "\\item 0.222222222222222\n",
       "\\item 0.454545454545455\n",
       "\\end{enumerate*}\n"
      ],
      "text/markdown": [
       "1. 0.613636363636364\n",
       "2. 0.666666666666667\n",
       "3. 0.222222222222222\n",
       "4. 0.454545454545455\n",
       "\n",
       "\n"
      ],
      "text/plain": [
       "[1] 0.6136364 0.6666667 0.2222222 0.4545455"
      ]
     },
     "metadata": {},
     "output_type": "display_data"
    },
    {
     "name": "stderr",
     "output_type": "stream",
     "text": [
      "Warning message:\n",
      "\"glm.fit: fitted probabilities numerically 0 or 1 occurred\"Warning message in predict.lm(object, newdata, se.fit, scale = 1, type = ifelse(type == :\n",
      "\"prediction from a rank-deficient fit may be misleading\""
     ]
    },
    {
     "data": {
      "text/html": [
       "<ol class=list-inline>\n",
       "\t<li>0.568181818181818</li>\n",
       "\t<li>0.789473684210526</li>\n",
       "\t<li>0.6</li>\n",
       "\t<li>0.681818181818182</li>\n",
       "</ol>\n"
      ],
      "text/latex": [
       "\\begin{enumerate*}\n",
       "\\item 0.568181818181818\n",
       "\\item 0.789473684210526\n",
       "\\item 0.6\n",
       "\\item 0.681818181818182\n",
       "\\end{enumerate*}\n"
      ],
      "text/markdown": [
       "1. 0.568181818181818\n",
       "2. 0.789473684210526\n",
       "3. 0.6\n",
       "4. 0.681818181818182\n",
       "\n",
       "\n"
      ],
      "text/plain": [
       "[1] 0.5681818 0.7894737 0.6000000 0.6818182"
      ]
     },
     "metadata": {},
     "output_type": "display_data"
    },
    {
     "name": "stderr",
     "output_type": "stream",
     "text": [
      "Warning message:\n",
      "\"glm.fit: fitted probabilities numerically 0 or 1 occurred\"Warning message in predict.lm(object, newdata, se.fit, scale = 1, type = ifelse(type == :\n",
      "\"prediction from a rank-deficient fit may be misleading\""
     ]
    },
    {
     "data": {
      "text/html": [
       "<ol class=list-inline>\n",
       "\t<li>0.545454545454545</li>\n",
       "\t<li>0.72</li>\n",
       "\t<li>0.75</li>\n",
       "\t<li>0.704545454545455</li>\n",
       "</ol>\n"
      ],
      "text/latex": [
       "\\begin{enumerate*}\n",
       "\\item 0.545454545454545\n",
       "\\item 0.72\n",
       "\\item 0.75\n",
       "\\item 0.704545454545455\n",
       "\\end{enumerate*}\n"
      ],
      "text/markdown": [
       "1. 0.545454545454545\n",
       "2. 0.72\n",
       "3. 0.75\n",
       "4. 0.704545454545455\n",
       "\n",
       "\n"
      ],
      "text/plain": [
       "[1] 0.5454545 0.7200000 0.7500000 0.7045455"
      ]
     },
     "metadata": {},
     "output_type": "display_data"
    },
    {
     "name": "stderr",
     "output_type": "stream",
     "text": [
      "Warning message:\n",
      "\"glm.fit: fitted probabilities numerically 0 or 1 occurred\"Warning message in predict.lm(object, newdata, se.fit, scale = 1, type = ifelse(type == :\n",
      "\"prediction from a rank-deficient fit may be misleading\""
     ]
    },
    {
     "data": {
      "text/html": [
       "<ol class=list-inline>\n",
       "\t<li>0.613636363636364</li>\n",
       "\t<li>1</li>\n",
       "\t<li>1</li>\n",
       "\t<li>1</li>\n",
       "</ol>\n"
      ],
      "text/latex": [
       "\\begin{enumerate*}\n",
       "\\item 0.613636363636364\n",
       "\\item 1\n",
       "\\item 1\n",
       "\\item 1\n",
       "\\end{enumerate*}\n"
      ],
      "text/markdown": [
       "1. 0.613636363636364\n",
       "2. 1\n",
       "3. 1\n",
       "4. 1\n",
       "\n",
       "\n"
      ],
      "text/plain": [
       "[1] 0.6136364 1.0000000 1.0000000 1.0000000"
      ]
     },
     "metadata": {},
     "output_type": "display_data"
    },
    {
     "name": "stderr",
     "output_type": "stream",
     "text": [
      "Warning message:\n",
      "\"glm.fit: fitted probabilities numerically 0 or 1 occurred\"Warning message in predict.lm(object, newdata, se.fit, scale = 1, type = ifelse(type == :\n",
      "\"prediction from a rank-deficient fit may be misleading\""
     ]
    },
    {
     "data": {
      "text/html": [
       "<ol class=list-inline>\n",
       "\t<li>0.568181818181818</li>\n",
       "\t<li>0.777777777777778</li>\n",
       "\t<li>0.84</li>\n",
       "\t<li>0.772727272727273</li>\n",
       "</ol>\n"
      ],
      "text/latex": [
       "\\begin{enumerate*}\n",
       "\\item 0.568181818181818\n",
       "\\item 0.777777777777778\n",
       "\\item 0.84\n",
       "\\item 0.772727272727273\n",
       "\\end{enumerate*}\n"
      ],
      "text/markdown": [
       "1. 0.568181818181818\n",
       "2. 0.777777777777778\n",
       "3. 0.84\n",
       "4. 0.772727272727273\n",
       "\n",
       "\n"
      ],
      "text/plain": [
       "[1] 0.5681818 0.7777778 0.8400000 0.7727273"
      ]
     },
     "metadata": {},
     "output_type": "display_data"
    },
    {
     "name": "stderr",
     "output_type": "stream",
     "text": [
      "Warning message:\n",
      "\"glm.fit: fitted probabilities numerically 0 or 1 occurred\"Warning message in predict.lm(object, newdata, se.fit, scale = 1, type = ifelse(type == :\n",
      "\"prediction from a rank-deficient fit may be misleading\""
     ]
    },
    {
     "data": {
      "text/html": [
       "<ol class=list-inline>\n",
       "\t<li>0.545454545454545</li>\n",
       "\t<li>0.708333333333333</li>\n",
       "\t<li>0.708333333333333</li>\n",
       "\t<li>0.681818181818182</li>\n",
       "</ol>\n"
      ],
      "text/latex": [
       "\\begin{enumerate*}\n",
       "\\item 0.545454545454545\n",
       "\\item 0.708333333333333\n",
       "\\item 0.708333333333333\n",
       "\\item 0.681818181818182\n",
       "\\end{enumerate*}\n"
      ],
      "text/markdown": [
       "1. 0.545454545454545\n",
       "2. 0.708333333333333\n",
       "3. 0.708333333333333\n",
       "4. 0.681818181818182\n",
       "\n",
       "\n"
      ],
      "text/plain": [
       "[1] 0.5454545 0.7083333 0.7083333 0.6818182"
      ]
     },
     "metadata": {},
     "output_type": "display_data"
    },
    {
     "name": "stderr",
     "output_type": "stream",
     "text": [
      "Warning message:\n",
      "\"glm.fit: fitted probabilities numerically 0 or 1 occurred\"Warning message in predict.lm(object, newdata, se.fit, scale = 1, type = ifelse(type == :\n",
      "\"prediction from a rank-deficient fit may be misleading\""
     ]
    },
    {
     "data": {
      "text/html": [
       "<ol class=list-inline>\n",
       "\t<li>0.613636363636364</li>\n",
       "\t<li>0.777777777777778</li>\n",
       "\t<li>0.518518518518518</li>\n",
       "\t<li>0.613636363636364</li>\n",
       "</ol>\n"
      ],
      "text/latex": [
       "\\begin{enumerate*}\n",
       "\\item 0.613636363636364\n",
       "\\item 0.777777777777778\n",
       "\\item 0.518518518518518\n",
       "\\item 0.613636363636364\n",
       "\\end{enumerate*}\n"
      ],
      "text/markdown": [
       "1. 0.613636363636364\n",
       "2. 0.777777777777778\n",
       "3. 0.518518518518518\n",
       "4. 0.613636363636364\n",
       "\n",
       "\n"
      ],
      "text/plain": [
       "[1] 0.6136364 0.7777778 0.5185185 0.6136364"
      ]
     },
     "metadata": {},
     "output_type": "display_data"
    },
    {
     "name": "stderr",
     "output_type": "stream",
     "text": [
      "Warning message:\n",
      "\"glm.fit: fitted probabilities numerically 0 or 1 occurred\"Warning message in predict.lm(object, newdata, se.fit, scale = 1, type = ifelse(type == :\n",
      "\"prediction from a rank-deficient fit may be misleading\""
     ]
    },
    {
     "data": {
      "text/html": [
       "<ol class=list-inline>\n",
       "\t<li>0.568181818181818</li>\n",
       "\t<li>1</li>\n",
       "\t<li>1</li>\n",
       "\t<li>1</li>\n",
       "</ol>\n"
      ],
      "text/latex": [
       "\\begin{enumerate*}\n",
       "\\item 0.568181818181818\n",
       "\\item 1\n",
       "\\item 1\n",
       "\\item 1\n",
       "\\end{enumerate*}\n"
      ],
      "text/markdown": [
       "1. 0.568181818181818\n",
       "2. 1\n",
       "3. 1\n",
       "4. 1\n",
       "\n",
       "\n"
      ],
      "text/plain": [
       "[1] 0.5681818 1.0000000 1.0000000 1.0000000"
      ]
     },
     "metadata": {},
     "output_type": "display_data"
    }
   ],
   "source": [
    "test_classification_pkg <- function (train, test) \n",
    "{\n",
    "    model.glm <- glm((post>0) ~ \n",
    "                        pre +\n",
    "                        NOCU +\n",
    "                        NOT_total +\n",
    "                        NOT_max +\n",
    "                        NOT_avg +\n",
    "                        NOI_total +\n",
    "                        NOI_max +\n",
    "                        NOI_avg +\n",
    "                        TLOC_total +\n",
    "                        TLOC_max +\n",
    "                        TLOC_avg +\n",
    "                        ACD_total +\n",
    "                        ACD_max +\n",
    "                        ACD_avg +\n",
    "                        NSM_total +\n",
    "                        NSM_max +\n",
    "                        NSM_avg +\n",
    "                        NSF_total +\n",
    "                        NSF_max +\n",
    "                        NSF_avg +\n",
    "                        NOM_total +\n",
    "                        NOM_max +\n",
    "                        NOM_avg +\n",
    "                        NOF_total +\n",
    "                        NOF_max +\n",
    "                        NOF_avg +\n",
    "                        MLOC_total +\n",
    "                        NBD_total +\n",
    "                        PAR_total +\n",
    "                        VG_total +\n",
    "                        FOUT_total +\n",
    "                        MLOC_max +\n",
    "                        NBD_max +\n",
    "                        PAR_max +\n",
    "                        VG_max +\n",
    "                        FOUT_max +\n",
    "                        MLOC_avg +\n",
    "                        NBD_avg +\n",
    "                        PAR_avg +\n",
    "                        VG_avg +\n",
    "                        FOUT_avg\n",
    "                     \n",
    "                     , data=train, family = \"binomial\")\n",
    "    test.prob <- predict(model.glm, test, type=\"response\")\n",
    "    test.pred <- test.prob>=0.50\n",
    "\n",
    "    outcome <- table(factor(test$post>0, levels=c(F,T)), factor(test.pred, levels=c(F,T)))\n",
    "    TN <- outcome[1,1]\n",
    "    FN <- outcome[2,1]\n",
    "    FP <- outcome[1,2]\n",
    "    TP <- outcome[2,2]\n",
    "    precision <- if (TP + FP ==0) { 1 } else { TP / (TP + FP) }\n",
    "    recall <- TP / (TP + FN)\n",
    "    accuracy <- (TP + TN) / (TN + FN + FP + TP)\n",
    "    defects <- (TP + FN) / (TN + FN + FP + TP)\n",
    "    return (c(defects, precision, recall, accuracy))\n",
    "}\n",
    "\n",
    "test_classification_pkg(files_32, files_32)\n",
    "test_classification_pkg(files_32, files_34)\n",
    "test_classification_pkg(files_32, files_35)\n",
    "\n",
    "test_classification_pkg(files_34, files_32)\n",
    "test_classification_pkg(files_34, files_34)\n",
    "test_classification_pkg(files_34, files_35)\n",
    "\n",
    "test_classification_pkg(files_35, files_32)\n",
    "test_classification_pkg(files_35, files_34)\n",
    "test_classification_pkg(files_35, files_35)"
   ]
  },
  {
   "cell_type": "markdown",
   "metadata": {},
   "source": [
    "Prrecision increased, but accuracy decreased.\n",
    "\n",
    "Defect higher. \n",
    "\n",
    "\"However, the recall increases substantially. \""
   ]
  },
  {
   "cell_type": "markdown",
   "metadata": {},
   "source": [
    "Recall is low. Which means there are still a lot of the buggy file are not identified.\n",
    "\n",
    "But the precision are generally higher than `0.6`, it means when this model say \"this file is defect-prone\", this decision is most likely to be true. "
   ]
  },
  {
   "cell_type": "code",
   "execution_count": 14,
   "metadata": {},
   "outputs": [
    {
     "name": "stderr",
     "output_type": "stream",
     "text": [
      "Warning message in predict.lm(model.lm, test):\n",
      "\"prediction from a rank-deficient fit may be misleading\""
     ]
    },
    {
     "data": {
      "text/html": [
       "<ol class=list-inline>\n",
       "\t<li>0.990155576360544</li>\n",
       "\t<li>0.995065614098158</li>\n",
       "\t<li>0.927136709631445</li>\n",
       "\t<li>1</li>\n",
       "\t<li>1</li>\n",
       "</ol>\n"
      ],
      "text/latex": [
       "\\begin{enumerate*}\n",
       "\\item 0.990155576360544\n",
       "\\item 0.995065614098158\n",
       "\\item 0.927136709631445\n",
       "\\item 1\n",
       "\\item 1\n",
       "\\end{enumerate*}\n"
      ],
      "text/markdown": [
       "1. 0.990155576360544\n",
       "2. 0.995065614098158\n",
       "3. 0.927136709631445\n",
       "4. 1\n",
       "5. 1\n",
       "\n",
       "\n"
      ],
      "text/plain": [
       "[1] 0.9901556 0.9950656 0.9271367 1.0000000 1.0000000"
      ]
     },
     "metadata": {},
     "output_type": "display_data"
    },
    {
     "name": "stderr",
     "output_type": "stream",
     "text": [
      "Warning message in predict.lm(model.lm, test):\n",
      "\"prediction from a rank-deficient fit may be misleading\""
     ]
    },
    {
     "data": {
      "text/html": [
       "<ol class=list-inline>\n",
       "\t<li>0.990155576360544</li>\n",
       "\t<li>0.848032107766074</li>\n",
       "\t<li>0.640002480575549</li>\n",
       "\t<li>1</li>\n",
       "\t<li>1</li>\n",
       "</ol>\n"
      ],
      "text/latex": [
       "\\begin{enumerate*}\n",
       "\\item 0.990155576360544\n",
       "\\item 0.848032107766074\n",
       "\\item 0.640002480575549\n",
       "\\item 1\n",
       "\\item 1\n",
       "\\end{enumerate*}\n"
      ],
      "text/markdown": [
       "1. 0.990155576360544\n",
       "2. 0.848032107766074\n",
       "3. 0.640002480575549\n",
       "4. 1\n",
       "5. 1\n",
       "\n",
       "\n"
      ],
      "text/plain": [
       "[1] 0.9901556 0.8480321 0.6400025 1.0000000 1.0000000"
      ]
     },
     "metadata": {},
     "output_type": "display_data"
    },
    {
     "name": "stderr",
     "output_type": "stream",
     "text": [
      "Warning message in predict.lm(model.lm, test):\n",
      "\"prediction from a rank-deficient fit may be misleading\""
     ]
    },
    {
     "data": {
      "text/html": [
       "<ol class=list-inline>\n",
       "\t<li>0.990155576360544</li>\n",
       "\t<li>0.881700191715213</li>\n",
       "\t<li>0.468602934426974</li>\n",
       "\t<li>1</li>\n",
       "\t<li>1</li>\n",
       "</ol>\n"
      ],
      "text/latex": [
       "\\begin{enumerate*}\n",
       "\\item 0.990155576360544\n",
       "\\item 0.881700191715213\n",
       "\\item 0.468602934426974\n",
       "\\item 1\n",
       "\\item 1\n",
       "\\end{enumerate*}\n"
      ],
      "text/markdown": [
       "1. 0.990155576360544\n",
       "2. 0.881700191715213\n",
       "3. 0.468602934426974\n",
       "4. 1\n",
       "5. 1\n",
       "\n",
       "\n"
      ],
      "text/plain": [
       "[1] 0.9901556 0.8817002 0.4686029 1.0000000 1.0000000"
      ]
     },
     "metadata": {},
     "output_type": "display_data"
    },
    {
     "name": "stderr",
     "output_type": "stream",
     "text": [
      "Warning message in predict.lm(model.lm, test):\n",
      "\"prediction from a rank-deficient fit may be misleading\""
     ]
    },
    {
     "data": {
      "text/html": [
       "<ol class=list-inline>\n",
       "\t<li>0.987343410474809</li>\n",
       "\t<li>0.658392538950519</li>\n",
       "\t<li>0.491006980178647</li>\n",
       "\t<li>1</li>\n",
       "\t<li>1</li>\n",
       "</ol>\n"
      ],
      "text/latex": [
       "\\begin{enumerate*}\n",
       "\\item 0.987343410474809\n",
       "\\item 0.658392538950519\n",
       "\\item 0.491006980178647\n",
       "\\item 1\n",
       "\\item 1\n",
       "\\end{enumerate*}\n"
      ],
      "text/markdown": [
       "1. 0.987343410474809\n",
       "2. 0.658392538950519\n",
       "3. 0.491006980178647\n",
       "4. 1\n",
       "5. 1\n",
       "\n",
       "\n"
      ],
      "text/plain": [
       "[1] 0.9873434 0.6583925 0.4910070 1.0000000 1.0000000"
      ]
     },
     "metadata": {},
     "output_type": "display_data"
    },
    {
     "name": "stderr",
     "output_type": "stream",
     "text": [
      "Warning message in predict.lm(model.lm, test):\n",
      "\"prediction from a rank-deficient fit may be misleading\""
     ]
    },
    {
     "data": {
      "text/html": [
       "<ol class=list-inline>\n",
       "\t<li>0.987343410474809</li>\n",
       "\t<li>0.993651553853165</li>\n",
       "\t<li>0.844817795119353</li>\n",
       "\t<li>1</li>\n",
       "\t<li>1</li>\n",
       "</ol>\n"
      ],
      "text/latex": [
       "\\begin{enumerate*}\n",
       "\\item 0.987343410474809\n",
       "\\item 0.993651553853165\n",
       "\\item 0.844817795119353\n",
       "\\item 1\n",
       "\\item 1\n",
       "\\end{enumerate*}\n"
      ],
      "text/markdown": [
       "1. 0.987343410474809\n",
       "2. 0.993651553853165\n",
       "3. 0.844817795119353\n",
       "4. 1\n",
       "5. 1\n",
       "\n",
       "\n"
      ],
      "text/plain": [
       "[1] 0.9873434 0.9936516 0.8448178 1.0000000 1.0000000"
      ]
     },
     "metadata": {},
     "output_type": "display_data"
    },
    {
     "name": "stderr",
     "output_type": "stream",
     "text": [
      "Warning message in predict.lm(model.lm, test):\n",
      "\"prediction from a rank-deficient fit may be misleading\""
     ]
    },
    {
     "data": {
      "text/html": [
       "<ol class=list-inline>\n",
       "\t<li>0.987343410474809</li>\n",
       "\t<li>0.872996739995015</li>\n",
       "\t<li>0.614843554924288</li>\n",
       "\t<li>1</li>\n",
       "\t<li>1</li>\n",
       "</ol>\n"
      ],
      "text/latex": [
       "\\begin{enumerate*}\n",
       "\\item 0.987343410474809\n",
       "\\item 0.872996739995015\n",
       "\\item 0.614843554924288\n",
       "\\item 1\n",
       "\\item 1\n",
       "\\end{enumerate*}\n"
      ],
      "text/markdown": [
       "1. 0.987343410474809\n",
       "2. 0.872996739995015\n",
       "3. 0.614843554924288\n",
       "4. 1\n",
       "5. 1\n",
       "\n",
       "\n"
      ],
      "text/plain": [
       "[1] 0.9873434 0.8729967 0.6148436 1.0000000 1.0000000"
      ]
     },
     "metadata": {},
     "output_type": "display_data"
    },
    {
     "name": "stderr",
     "output_type": "stream",
     "text": [
      "Warning message in predict.lm(model.lm, test):\n",
      "\"prediction from a rank-deficient fit may be misleading\""
     ]
    },
    {
     "data": {
      "text/html": [
       "<ol class=list-inline>\n",
       "\t<li>0.987163290688056</li>\n",
       "\t<li>0.777785679209703</li>\n",
       "\t<li>0.424798799140983</li>\n",
       "\t<li>1</li>\n",
       "\t<li>1</li>\n",
       "</ol>\n"
      ],
      "text/latex": [
       "\\begin{enumerate*}\n",
       "\\item 0.987163290688056\n",
       "\\item 0.777785679209703\n",
       "\\item 0.424798799140983\n",
       "\\item 1\n",
       "\\item 1\n",
       "\\end{enumerate*}\n"
      ],
      "text/markdown": [
       "1. 0.987163290688056\n",
       "2. 0.777785679209703\n",
       "3. 0.424798799140983\n",
       "4. 1\n",
       "5. 1\n",
       "\n",
       "\n"
      ],
      "text/plain": [
       "[1] 0.9871633 0.7777857 0.4247988 1.0000000 1.0000000"
      ]
     },
     "metadata": {},
     "output_type": "display_data"
    },
    {
     "name": "stderr",
     "output_type": "stream",
     "text": [
      "Warning message in predict.lm(model.lm, test):\n",
      "\"prediction from a rank-deficient fit may be misleading\""
     ]
    },
    {
     "data": {
      "text/html": [
       "<ol class=list-inline>\n",
       "\t<li>0.987163290688056</li>\n",
       "\t<li>0.905492689957103</li>\n",
       "\t<li>0.53015293399463</li>\n",
       "\t<li>1</li>\n",
       "\t<li>1</li>\n",
       "</ol>\n"
      ],
      "text/latex": [
       "\\begin{enumerate*}\n",
       "\\item 0.987163290688056\n",
       "\\item 0.905492689957103\n",
       "\\item 0.53015293399463\n",
       "\\item 1\n",
       "\\item 1\n",
       "\\end{enumerate*}\n"
      ],
      "text/markdown": [
       "1. 0.987163290688056\n",
       "2. 0.905492689957103\n",
       "3. 0.53015293399463\n",
       "4. 1\n",
       "5. 1\n",
       "\n",
       "\n"
      ],
      "text/plain": [
       "[1] 0.9871633 0.9054927 0.5301529 1.0000000 1.0000000"
      ]
     },
     "metadata": {},
     "output_type": "display_data"
    },
    {
     "name": "stderr",
     "output_type": "stream",
     "text": [
      "Warning message in predict.lm(model.lm, test):\n",
      "\"prediction from a rank-deficient fit may be misleading\""
     ]
    },
    {
     "data": {
      "text/html": [
       "<ol class=list-inline>\n",
       "\t<li>0.987163290688056</li>\n",
       "\t<li>0.993560914432555</li>\n",
       "\t<li>0.80936492380924</li>\n",
       "\t<li>1</li>\n",
       "\t<li>1</li>\n",
       "</ol>\n"
      ],
      "text/latex": [
       "\\begin{enumerate*}\n",
       "\\item 0.987163290688056\n",
       "\\item 0.993560914432555\n",
       "\\item 0.80936492380924\n",
       "\\item 1\n",
       "\\item 1\n",
       "\\end{enumerate*}\n"
      ],
      "text/markdown": [
       "1. 0.987163290688056\n",
       "2. 0.993560914432555\n",
       "3. 0.80936492380924\n",
       "4. 1\n",
       "5. 1\n",
       "\n",
       "\n"
      ],
      "text/plain": [
       "[1] 0.9871633 0.9935609 0.8093649 1.0000000 1.0000000"
      ]
     },
     "metadata": {},
     "output_type": "display_data"
    }
   ],
   "source": [
    "## need to understand how to interprete the r^2, pearson, spearman, and their p.value. \n",
    "test_ranking_pkg <- function (train, test) \n",
    "{\n",
    "    model.lm <- lm(post ~ \n",
    "                   \n",
    "                        pre +\n",
    "                        NOCU +\n",
    "                        NOT_total +\n",
    "                        NOT_max +\n",
    "                        NOT_avg +\n",
    "                        NOI_total +\n",
    "                        NOI_max +\n",
    "                        NOI_avg +\n",
    "                        TLOC_total +\n",
    "                        TLOC_max +\n",
    "                        TLOC_avg +\n",
    "                        ACD_total +\n",
    "                        ACD_max +\n",
    "                        ACD_avg +\n",
    "                        NSM_total +\n",
    "                        NSM_max +\n",
    "                        NSM_avg +\n",
    "                        NSF_total +\n",
    "                        NSF_max +\n",
    "                        NSF_avg +\n",
    "                        NOM_total +\n",
    "                        NOM_max +\n",
    "                        NOM_avg +\n",
    "                        NOF_total +\n",
    "                        NOF_max +\n",
    "                        NOF_avg +\n",
    "                        MLOC_total +\n",
    "                        NBD_total +\n",
    "                        PAR_total +\n",
    "                        VG_total +\n",
    "                        FOUT_total +\n",
    "                        MLOC_max +\n",
    "                        NBD_max +\n",
    "                        PAR_max +\n",
    "                        VG_max +\n",
    "                        FOUT_max +\n",
    "                        MLOC_avg +\n",
    "                        NBD_avg +\n",
    "                        PAR_avg +\n",
    "                        VG_avg +\n",
    "                        FOUT_avg\n",
    "                   \n",
    "                   , data=train)\n",
    "    test.pred <- predict(model.lm, test)\n",
    "\n",
    "    r.squared <- summary(model.lm)$r.squared\n",
    "    pearson <- cor(test$post, test.pred, method=\"pearson\")\n",
    "    spearman <- cor(test$post, test.pred, method=\"spearman\")\n",
    "    pearson.p <- cor.test(test$post, test.pred, method=\"pearson\")$p.value\n",
    "    spearman.p <- cor.test(test$post, test.pred, method=\"spearman\", exact=FALSE)$p.value\n",
    "\n",
    "    return (c(r.squared, pearson, spearman, pearson.p<0.01, spearman.p<0.01))\n",
    "}\n",
    "\n",
    "test_ranking_pkg(files_32, files_32)\n",
    "test_ranking_pkg(files_32, files_34)\n",
    "test_ranking_pkg(files_32, files_35)\n",
    "\n",
    "test_ranking_pkg(files_34, files_32)\n",
    "test_ranking_pkg(files_34, files_34)\n",
    "test_ranking_pkg(files_34, files_35)\n",
    "\n",
    "test_ranking_pkg(files_35, files_32)\n",
    "test_ranking_pkg(files_35, files_34)\n",
    "test_ranking_pkg(files_35, files_35)"
   ]
  },
  {
   "cell_type": "markdown",
   "metadata": {},
   "source": [
    "According to r.square, around `99%` \"of variance are explained by complexity metrics\".\n",
    "\n",
    "Except for training and predicting on it self, the spearman correlation value ρ are various, some are as high as `0.640`, some are as low as `0.425`. And they are also positive. \n",
    "\n",
    "\"Also, models learned from earlier releases can be used to predict for future releases; for instance the model trained from release `3.2` showed a correlation of `0.640` on release `3.4`\". \n",
    "\n",
    "\"Again the increase in correlation and R2 values demonstrates that it is easier to make predictions for packages than for files.\""
   ]
  }
 ],
 "metadata": {
  "kernelspec": {
   "display_name": "R",
   "language": "R",
   "name": "ir"
  },
  "language_info": {
   "codemirror_mode": "r",
   "file_extension": ".r",
   "mimetype": "text/x-r-source",
   "name": "R",
   "pygments_lexer": "r",
   "version": "3.5.1"
  }
 },
 "nbformat": 4,
 "nbformat_minor": 2
}
