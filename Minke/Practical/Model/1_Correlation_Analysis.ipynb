{
 "cells": [
  {
   "cell_type": "code",
   "execution_count": 12,
   "metadata": {},
   "outputs": [],
   "source": [
    "library(stargazer)"
   ]
  },
  {
   "cell_type": "code",
   "execution_count": 13,
   "metadata": {},
   "outputs": [
    {
     "data": {
      "text/html": [
       "1112"
      ],
      "text/latex": [
       "1112"
      ],
      "text/markdown": [
       "1112"
      ],
      "text/plain": [
       "[1] 1112"
      ]
     },
     "metadata": {},
     "output_type": "display_data"
    },
    {
     "data": {
      "text/html": [
       "1100"
      ],
      "text/latex": [
       "1100"
      ],
      "text/markdown": [
       "1100"
      ],
      "text/plain": [
       "[1] 1100"
      ]
     },
     "metadata": {},
     "output_type": "display_data"
    },
    {
     "data": {
      "text/html": [
       "1094"
      ],
      "text/latex": [
       "1094"
      ],
      "text/markdown": [
       "1094"
      ],
      "text/plain": [
       "[1] 1094"
      ]
     },
     "metadata": {},
     "output_type": "display_data"
    },
    {
     "data": {
      "text/html": [
       "<table>\n",
       "<thead><tr><th scope=col>files_35_file[, 19]</th><th scope=col>pre</th><th scope=col>post</th><th scope=col>NOT</th><th scope=col>NOI</th><th scope=col>TLOC</th><th scope=col>ACD</th><th scope=col>NSM</th><th scope=col>NSF</th><th scope=col>NOM</th><th scope=col>...</th><th scope=col>PAR_max</th><th scope=col>VG_total</th><th scope=col>VG_max</th><th scope=col>FOUT_total</th><th scope=col>FOUT_max</th><th scope=col>MLOC_avg</th><th scope=col>NBD_avg</th><th scope=col>PAR_avg</th><th scope=col>VG_avg</th><th scope=col>FOUT_avg</th></tr></thead>\n",
       "<tbody>\n",
       "\t<tr><td>eclipse\\org.eclipse.jdt.core\\compiler\\org\\eclipse\\jdt\\internal\\compiler\\lookup\\MethodVerifier.java           </td><td>8                                                                                                                     </td><td>15                                                                                                                    </td><td>1                                                                                                                     </td><td>0                                                                                                                     </td><td>516                                                                                                                   </td><td>0                                                                                                                     </td><td>0                                                                                                                     </td><td>0                                                                                                                     </td><td>33                                                                                                                    </td><td>...                                                                                                                   </td><td>4                                                                                                                     </td><td>204                                                                                                                   </td><td>44                                                                                                                    </td><td>142                                                                                                                   </td><td>20                                                                                                                    </td><td>13.575758                                                                                                             </td><td> 1.0303030                                                                                                            </td><td>1.4848485                                                                                                             </td><td>6.181818                                                                                                              </td><td>4.303030                                                                                                              </td></tr>\n",
       "\t<tr><td>eclipse\\org.eclipse.jdt.core\\model\\org\\eclipse\\jdt\\core\\IClassFile.java                                        </td><td>0                                                                                                                     </td><td> 0                                                                                                                    </td><td>0                                                                                                                     </td><td>1                                                                                                                     </td><td> 11                                                                                                                   </td><td>0                                                                                                                     </td><td>0                                                                                                                     </td><td>0                                                                                                                     </td><td> 7                                                                                                                    </td><td>...                                                                                                                   </td><td>3                                                                                                                     </td><td>  7                                                                                                                   </td><td> 1                                                                                                                    </td><td>  0                                                                                                                   </td><td> 0                                                                                                                    </td><td> 1.000000                                                                                                             </td><td>-1.0000000                                                                                                            </td><td>1.1428571                                                                                                             </td><td>1.000000                                                                                                              </td><td>0.000000                                                                                                              </td></tr>\n",
       "\t<tr><td>eclipse\\org.eclipse.jdt.core\\search\\org\\eclipse\\jdt\\core\\search\\TypeNameRequestor.java                        </td><td>0                                                                                                                     </td><td> 0                                                                                                                    </td><td>1                                                                                                                     </td><td>0                                                                                                                     </td><td>  5                                                                                                                   </td><td>0                                                                                                                     </td><td>0                                                                                                                     </td><td>0                                                                                                                     </td><td> 1                                                                                                                    </td><td>...                                                                                                                   </td><td>5                                                                                                                     </td><td>  1                                                                                                                   </td><td> 1                                                                                                                    </td><td>  0                                                                                                                   </td><td> 0                                                                                                                    </td><td> 2.000000                                                                                                             </td><td> 0.0000000                                                                                                            </td><td>5.0000000                                                                                                             </td><td>1.000000                                                                                                              </td><td>0.000000                                                                                                              </td></tr>\n",
       "\t<tr><td>eclipse\\org.eclipse.jdt.core\\compiler\\org\\eclipse\\jdt\\internal\\compiler\\flow\\InsideSubRoutineFlowContext.java</td><td>0                                                                                                                     </td><td> 0                                                                                                                    </td><td>1                                                                                                                     </td><td>0                                                                                                                     </td><td> 35                                                                                                                   </td><td>0                                                                                                                     </td><td>0                                                                                                                     </td><td>0                                                                                                                     </td><td> 6                                                                                                                    </td><td>...                                                                                                                   </td><td>2                                                                                                                     </td><td>  9                                                                                                                   </td><td> 4                                                                                                                    </td><td>  7                                                                                                                   </td><td> 4                                                                                                                    </td><td> 4.666667                                                                                                             </td><td> 0.3333333                                                                                                            </td><td>0.5000000                                                                                                             </td><td>1.500000                                                                                                              </td><td>1.166667                                                                                                              </td></tr>\n",
       "\t<tr><td>eclipse\\org.eclipse.jdt.core\\model\\org\\eclipse\\jdt\\internal\\core\\RenameElementsOperation.java                 </td><td>0                                                                                                                     </td><td> 0                                                                                                                    </td><td>1                                                                                                                     </td><td>0                                                                                                                     </td><td> 39                                                                                                                   </td><td>0                                                                                                                     </td><td>0                                                                                                                     </td><td>0                                                                                                                     </td><td> 5                                                                                                                    </td><td>...                                                                                                                   </td><td>4                                                                                                                     </td><td> 14                                                                                                                   </td><td> 7                                                                                                                    </td><td>  8                                                                                                                   </td><td> 5                                                                                                                    </td><td> 4.800000                                                                                                             </td><td> 0.0000000                                                                                                            </td><td>1.0000000                                                                                                             </td><td>2.800000                                                                                                              </td><td>1.600000                                                                                                              </td></tr>\n",
       "\t<tr><td>eclipse\\org.eclipse.jdt.core\\dom\\org\\eclipse\\jdt\\core\\dom\\ThisExpression.java                                 </td><td>0                                                                                                                     </td><td> 0                                                                                                                    </td><td>1                                                                                                                     </td><td>0                                                                                                                     </td><td> 71                                                                                                                   </td><td>0                                                                                                                     </td><td>1                                                                                                                     </td><td>2                                                                                                                     </td><td>12                                                                                                                    </td><td>...                                                                                                                   </td><td>3                                                                                                                     </td><td> 16                                                                                                                   </td><td> 3                                                                                                                    </td><td> 20                                                                                                                   </td><td> 6                                                                                                                    </td><td> 4.583333                                                                                                             </td><td> 0.2500000                                                                                                            </td><td>0.9166667                                                                                                             </td><td>1.333333                                                                                                              </td><td>1.666667                                                                                                              </td></tr>\n",
       "</tbody>\n",
       "</table>\n"
      ],
      "text/latex": [
       "\\begin{tabular}{r|llllllllllllllllllllllllll}\n",
       " files\\_35\\_file{[}, 19{]} & pre & post & NOT & NOI & TLOC & ACD & NSM & NSF & NOM & ... & PAR\\_max & VG\\_total & VG\\_max & FOUT\\_total & FOUT\\_max & MLOC\\_avg & NBD\\_avg & PAR\\_avg & VG\\_avg & FOUT\\_avg\\\\\n",
       "\\hline\n",
       "\t eclipse\\textbackslash{}org.eclipse.jdt.core\\textbackslash{}compiler\\textbackslash{}org\\textbackslash{}eclipse\\textbackslash{}jdt\\textbackslash{}internal\\textbackslash{}compiler\\textbackslash{}lookup\\textbackslash{}MethodVerifier.java            & 8                                                                                                                                                                                                                                                             & 15                                                                                                                                                                                                                                                            & 1                                                                                                                                                                                                                                                             & 0                                                                                                                                                                                                                                                             & 516                                                                                                                                                                                                                                                           & 0                                                                                                                                                                                                                                                             & 0                                                                                                                                                                                                                                                             & 0                                                                                                                                                                                                                                                             & 33                                                                                                                                                                                                                                                            & ...                                                                                                                                                                                                                                                           & 4                                                                                                                                                                                                                                                             & 204                                                                                                                                                                                                                                                           & 44                                                                                                                                                                                                                                                            & 142                                                                                                                                                                                                                                                           & 20                                                                                                                                                                                                                                                            & 13.575758                                                                                                                                                                                                                                                     &  1.0303030                                                                                                                                                                                                                                                    & 1.4848485                                                                                                                                                                                                                                                     & 6.181818                                                                                                                                                                                                                                                      & 4.303030                                                                                                                                                                                                                                                     \\\\\n",
       "\t eclipse\\textbackslash{}org.eclipse.jdt.core\\textbackslash{}model\\textbackslash{}org\\textbackslash{}eclipse\\textbackslash{}jdt\\textbackslash{}core\\textbackslash{}IClassFile.java                                         & 0                                                                                                                                                                                                                               &  0                                                                                                                                                                                                                              & 0                                                                                                                                                                                                                               & 1                                                                                                                                                                                                                               &  11                                                                                                                                                                                                                             & 0                                                                                                                                                                                                                               & 0                                                                                                                                                                                                                               & 0                                                                                                                                                                                                                               &  7                                                                                                                                                                                                                              & ...                                                                                                                                                                                                                             & 3                                                                                                                                                                                                                               &   7                                                                                                                                                                                                                             &  1                                                                                                                                                                                                                              &   0                                                                                                                                                                                                                             &  0                                                                                                                                                                                                                              &  1.000000                                                                                                                                                                                                                       & -1.0000000                                                                                                                                                                                                                      & 1.1428571                                                                                                                                                                                                                       & 1.000000                                                                                                                                                                                                                        & 0.000000                                                                                                                                                                                                                       \\\\\n",
       "\t eclipse\\textbackslash{}org.eclipse.jdt.core\\textbackslash{}search\\textbackslash{}org\\textbackslash{}eclipse\\textbackslash{}jdt\\textbackslash{}core\\textbackslash{}search\\textbackslash{}TypeNameRequestor.java                         & 0                                                                                                                                                                                                                                              &  0                                                                                                                                                                                                                                             & 1                                                                                                                                                                                                                                              & 0                                                                                                                                                                                                                                              &   5                                                                                                                                                                                                                                            & 0                                                                                                                                                                                                                                              & 0                                                                                                                                                                                                                                              & 0                                                                                                                                                                                                                                              &  1                                                                                                                                                                                                                                             & ...                                                                                                                                                                                                                                            & 5                                                                                                                                                                                                                                              &   1                                                                                                                                                                                                                                            &  1                                                                                                                                                                                                                                             &   0                                                                                                                                                                                                                                            &  0                                                                                                                                                                                                                                             &  2.000000                                                                                                                                                                                                                                      &  0.0000000                                                                                                                                                                                                                                     & 5.0000000                                                                                                                                                                                                                                      & 1.000000                                                                                                                                                                                                                                       & 0.000000                                                                                                                                                                                                                                      \\\\\n",
       "\t eclipse\\textbackslash{}org.eclipse.jdt.core\\textbackslash{}compiler\\textbackslash{}org\\textbackslash{}eclipse\\textbackslash{}jdt\\textbackslash{}internal\\textbackslash{}compiler\\textbackslash{}flow\\textbackslash{}InsideSubRoutineFlowContext.java & 0                                                                                                                                                                                                                                                             &  0                                                                                                                                                                                                                                                            & 1                                                                                                                                                                                                                                                             & 0                                                                                                                                                                                                                                                             &  35                                                                                                                                                                                                                                                           & 0                                                                                                                                                                                                                                                             & 0                                                                                                                                                                                                                                                             & 0                                                                                                                                                                                                                                                             &  6                                                                                                                                                                                                                                                            & ...                                                                                                                                                                                                                                                           & 2                                                                                                                                                                                                                                                             &   9                                                                                                                                                                                                                                                           &  4                                                                                                                                                                                                                                                            &   7                                                                                                                                                                                                                                                           &  4                                                                                                                                                                                                                                                            &  4.666667                                                                                                                                                                                                                                                     &  0.3333333                                                                                                                                                                                                                                                    & 0.5000000                                                                                                                                                                                                                                                     & 1.500000                                                                                                                                                                                                                                                      & 1.166667                                                                                                                                                                                                                                                     \\\\\n",
       "\t eclipse\\textbackslash{}org.eclipse.jdt.core\\textbackslash{}model\\textbackslash{}org\\textbackslash{}eclipse\\textbackslash{}jdt\\textbackslash{}internal\\textbackslash{}core\\textbackslash{}RenameElementsOperation.java                  & 0                                                                                                                                                                                                                                              &  0                                                                                                                                                                                                                                             & 1                                                                                                                                                                                                                                              & 0                                                                                                                                                                                                                                              &  39                                                                                                                                                                                                                                            & 0                                                                                                                                                                                                                                              & 0                                                                                                                                                                                                                                              & 0                                                                                                                                                                                                                                              &  5                                                                                                                                                                                                                                             & ...                                                                                                                                                                                                                                            & 4                                                                                                                                                                                                                                              &  14                                                                                                                                                                                                                                            &  7                                                                                                                                                                                                                                             &   8                                                                                                                                                                                                                                            &  5                                                                                                                                                                                                                                             &  4.800000                                                                                                                                                                                                                                      &  0.0000000                                                                                                                                                                                                                                     & 1.0000000                                                                                                                                                                                                                                      & 2.800000                                                                                                                                                                                                                                       & 1.600000                                                                                                                                                                                                                                      \\\\\n",
       "\t eclipse\\textbackslash{}org.eclipse.jdt.core\\textbackslash{}dom\\textbackslash{}org\\textbackslash{}eclipse\\textbackslash{}jdt\\textbackslash{}core\\textbackslash{}dom\\textbackslash{}ThisExpression.java                                  & 0                                                                                                                                                                                                                                              &  0                                                                                                                                                                                                                                             & 1                                                                                                                                                                                                                                              & 0                                                                                                                                                                                                                                              &  71                                                                                                                                                                                                                                            & 0                                                                                                                                                                                                                                              & 1                                                                                                                                                                                                                                              & 2                                                                                                                                                                                                                                              & 12                                                                                                                                                                                                                                             & ...                                                                                                                                                                                                                                            & 3                                                                                                                                                                                                                                              &  16                                                                                                                                                                                                                                            &  3                                                                                                                                                                                                                                             &  20                                                                                                                                                                                                                                            &  6                                                                                                                                                                                                                                             &  4.583333                                                                                                                                                                                                                                      &  0.2500000                                                                                                                                                                                                                                     & 0.9166667                                                                                                                                                                                                                                      & 1.333333                                                                                                                                                                                                                                       & 1.666667                                                                                                                                                                                                                                      \\\\\n",
       "\\end{tabular}\n"
      ],
      "text/markdown": [
       "\n",
       "| files_35_file[, 19] | pre | post | NOT | NOI | TLOC | ACD | NSM | NSF | NOM | ... | PAR_max | VG_total | VG_max | FOUT_total | FOUT_max | MLOC_avg | NBD_avg | PAR_avg | VG_avg | FOUT_avg |\n",
       "|---|---|---|---|---|---|---|---|---|---|---|---|---|---|---|---|---|---|---|---|---|\n",
       "| eclipse\\org.eclipse.jdt.core\\compiler\\org\\eclipse\\jdt\\internal\\compiler\\lookup\\MethodVerifier.java            | 8                                                                                                                      | 15                                                                                                                     | 1                                                                                                                      | 0                                                                                                                      | 516                                                                                                                    | 0                                                                                                                      | 0                                                                                                                      | 0                                                                                                                      | 33                                                                                                                     | ...                                                                                                                    | 4                                                                                                                      | 204                                                                                                                    | 44                                                                                                                     | 142                                                                                                                    | 20                                                                                                                     | 13.575758                                                                                                              |  1.0303030                                                                                                             | 1.4848485                                                                                                              | 6.181818                                                                                                               | 4.303030                                                                                                               |\n",
       "| eclipse\\org.eclipse.jdt.core\\model\\org\\eclipse\\jdt\\core\\IClassFile.java                                         | 0                                                                                                                      |  0                                                                                                                     | 0                                                                                                                      | 1                                                                                                                      |  11                                                                                                                    | 0                                                                                                                      | 0                                                                                                                      | 0                                                                                                                      |  7                                                                                                                     | ...                                                                                                                    | 3                                                                                                                      |   7                                                                                                                    |  1                                                                                                                     |   0                                                                                                                    |  0                                                                                                                     |  1.000000                                                                                                              | -1.0000000                                                                                                             | 1.1428571                                                                                                              | 1.000000                                                                                                               | 0.000000                                                                                                               |\n",
       "| eclipse\\org.eclipse.jdt.core\\search\\org\\eclipse\\jdt\\core\\search\\TypeNameRequestor.java                         | 0                                                                                                                      |  0                                                                                                                     | 1                                                                                                                      | 0                                                                                                                      |   5                                                                                                                    | 0                                                                                                                      | 0                                                                                                                      | 0                                                                                                                      |  1                                                                                                                     | ...                                                                                                                    | 5                                                                                                                      |   1                                                                                                                    |  1                                                                                                                     |   0                                                                                                                    |  0                                                                                                                     |  2.000000                                                                                                              |  0.0000000                                                                                                             | 5.0000000                                                                                                              | 1.000000                                                                                                               | 0.000000                                                                                                               |\n",
       "| eclipse\\org.eclipse.jdt.core\\compiler\\org\\eclipse\\jdt\\internal\\compiler\\flow\\InsideSubRoutineFlowContext.java | 0                                                                                                                      |  0                                                                                                                     | 1                                                                                                                      | 0                                                                                                                      |  35                                                                                                                    | 0                                                                                                                      | 0                                                                                                                      | 0                                                                                                                      |  6                                                                                                                     | ...                                                                                                                    | 2                                                                                                                      |   9                                                                                                                    |  4                                                                                                                     |   7                                                                                                                    |  4                                                                                                                     |  4.666667                                                                                                              |  0.3333333                                                                                                             | 0.5000000                                                                                                              | 1.500000                                                                                                               | 1.166667                                                                                                               |\n",
       "| eclipse\\org.eclipse.jdt.core\\model\\org\\eclipse\\jdt\\internal\\core\\RenameElementsOperation.java                  | 0                                                                                                                      |  0                                                                                                                     | 1                                                                                                                      | 0                                                                                                                      |  39                                                                                                                    | 0                                                                                                                      | 0                                                                                                                      | 0                                                                                                                      |  5                                                                                                                     | ...                                                                                                                    | 4                                                                                                                      |  14                                                                                                                    |  7                                                                                                                     |   8                                                                                                                    |  5                                                                                                                     |  4.800000                                                                                                              |  0.0000000                                                                                                             | 1.0000000                                                                                                              | 2.800000                                                                                                               | 1.600000                                                                                                               |\n",
       "| eclipse\\org.eclipse.jdt.core\\dom\\org\\eclipse\\jdt\\core\\dom\\ThisExpression.java                                  | 0                                                                                                                      |  0                                                                                                                     | 1                                                                                                                      | 0                                                                                                                      |  71                                                                                                                    | 0                                                                                                                      | 1                                                                                                                      | 2                                                                                                                      | 12                                                                                                                     | ...                                                                                                                    | 3                                                                                                                      |  16                                                                                                                    |  3                                                                                                                     |  20                                                                                                                    |  6                                                                                                                     |  4.583333                                                                                                              |  0.2500000                                                                                                             | 0.9166667                                                                                                              | 1.333333                                                                                                               | 1.666667                                                                                                               |\n",
       "\n"
      ],
      "text/plain": [
       "  files_35_file[, 19]                                                                                                   \n",
       "1 eclipse\\\\org.eclipse.jdt.core\\\\compiler\\\\org\\\\eclipse\\\\jdt\\\\internal\\\\compiler\\\\lookup\\\\MethodVerifier.java           \n",
       "2 eclipse\\\\org.eclipse.jdt.core\\\\model\\\\org\\\\eclipse\\\\jdt\\\\core\\\\IClassFile.java                                        \n",
       "3 eclipse\\\\org.eclipse.jdt.core\\\\search\\\\org\\\\eclipse\\\\jdt\\\\core\\\\search\\\\TypeNameRequestor.java                        \n",
       "4 eclipse\\\\org.eclipse.jdt.core\\\\compiler\\\\org\\\\eclipse\\\\jdt\\\\internal\\\\compiler\\\\flow\\\\InsideSubRoutineFlowContext.java\n",
       "5 eclipse\\\\org.eclipse.jdt.core\\\\model\\\\org\\\\eclipse\\\\jdt\\\\internal\\\\core\\\\RenameElementsOperation.java                 \n",
       "6 eclipse\\\\org.eclipse.jdt.core\\\\dom\\\\org\\\\eclipse\\\\jdt\\\\core\\\\dom\\\\ThisExpression.java                                 \n",
       "  pre post NOT NOI TLOC ACD NSM NSF NOM ... PAR_max VG_total VG_max FOUT_total\n",
       "1 8   15   1   0   516  0   0   0   33  ... 4       204      44     142       \n",
       "2 0    0   0   1    11  0   0   0    7  ... 3         7       1       0       \n",
       "3 0    0   1   0     5  0   0   0    1  ... 5         1       1       0       \n",
       "4 0    0   1   0    35  0   0   0    6  ... 2         9       4       7       \n",
       "5 0    0   1   0    39  0   0   0    5  ... 4        14       7       8       \n",
       "6 0    0   1   0    71  0   1   2   12  ... 3        16       3      20       \n",
       "  FOUT_max MLOC_avg  NBD_avg    PAR_avg   VG_avg   FOUT_avg\n",
       "1 20       13.575758  1.0303030 1.4848485 6.181818 4.303030\n",
       "2  0        1.000000 -1.0000000 1.1428571 1.000000 0.000000\n",
       "3  0        2.000000  0.0000000 5.0000000 1.000000 0.000000\n",
       "4  4        4.666667  0.3333333 0.5000000 1.500000 1.166667\n",
       "5  5        4.800000  0.0000000 1.0000000 2.800000 1.600000\n",
       "6  6        4.583333  0.2500000 0.9166667 1.333333 1.666667"
      ]
     },
     "metadata": {},
     "output_type": "display_data"
    },
    {
     "data": {
      "text/html": [
       "44"
      ],
      "text/latex": [
       "44"
      ],
      "text/markdown": [
       "44"
      ],
      "text/plain": [
       "[1] 44"
      ]
     },
     "metadata": {},
     "output_type": "display_data"
    },
    {
     "data": {
      "text/html": [
       "44"
      ],
      "text/latex": [
       "44"
      ],
      "text/markdown": [
       "44"
      ],
      "text/plain": [
       "[1] 44"
      ]
     },
     "metadata": {},
     "output_type": "display_data"
    },
    {
     "data": {
      "text/html": [
       "44"
      ],
      "text/latex": [
       "44"
      ],
      "text/markdown": [
       "44"
      ],
      "text/plain": [
       "[1] 44"
      ]
     },
     "metadata": {},
     "output_type": "display_data"
    },
    {
     "data": {
      "text/html": [
       "<table>\n",
       "<thead><tr><th scope=col>plugin</th><th scope=col>package</th><th scope=col>pre</th><th scope=col>post</th><th scope=col>NOCU</th><th scope=col>NOT_total</th><th scope=col>NOT_max</th><th scope=col>NOT_avg</th><th scope=col>NOI_total</th><th scope=col>NOI_max</th><th scope=col>...</th><th scope=col>MLOC_max</th><th scope=col>NBD_max</th><th scope=col>PAR_max</th><th scope=col>VG_max</th><th scope=col>FOUT_max</th><th scope=col>MLOC_avg</th><th scope=col>NBD_avg</th><th scope=col>PAR_avg</th><th scope=col>VG_avg</th><th scope=col>FOUT_avg</th></tr></thead>\n",
       "<tbody>\n",
       "\t<tr><td>org.eclipse.jdt.core            </td><td>org.eclipse.jdt.core            </td><td>90                              </td><td>21                              </td><td> 64                             </td><td> 20                             </td><td>1                               </td><td>0.3125000                       </td><td>44                              </td><td>1                               </td><td>...                             </td><td>168                             </td><td> 7                              </td><td>13                              </td><td> 39                             </td><td>30                              </td><td> 5.740489                       </td><td>-0.2282609                      </td><td>1.5625000                       </td><td>2.125000                        </td><td>1.1073370                       </td></tr>\n",
       "\t<tr><td>org.eclipse.jdt.core            </td><td>org.eclipse.jdt.core.compiler   </td><td> 0                              </td><td> 0                              </td><td>  9                             </td><td>  6                             </td><td>1                               </td><td>0.6666667                       </td><td> 3                              </td><td>1                               </td><td>...                             </td><td> 86                             </td><td> 4                              </td><td> 7                              </td><td> 37                             </td><td>10                              </td><td> 8.094017                       </td><td> 0.2222222                      </td><td>1.7179487                       </td><td>3.743590                        </td><td>0.6153846                       </td></tr>\n",
       "\t<tr><td>org.eclipse.jdt.core            </td><td>org.eclipse.jdt.core.dom        </td><td>66                              </td><td> 8                              </td><td>132                             </td><td>123                             </td><td>1                               </td><td>0.9318182                       </td><td> 9                              </td><td>1                               </td><td>...                             </td><td>285                             </td><td> 9                              </td><td> 9                              </td><td>103                             </td><td>48                              </td><td> 8.460712                       </td><td> 0.5667161                      </td><td>0.8917717                       </td><td>2.487769                        </td><td>2.2435137                       </td></tr>\n",
       "\t<tr><td>org.eclipse.jdt.core            </td><td>org.eclipse.jdt.core.dom.rewrite</td><td> 0                              </td><td> 0                              </td><td>  5                             </td><td>  4                             </td><td>1                               </td><td>0.8000000                       </td><td> 1                              </td><td>1                               </td><td>...                             </td><td> 55                             </td><td> 4                              </td><td> 6                              </td><td> 16                             </td><td>29                              </td><td> 9.606383                       </td><td> 0.7765957                      </td><td>1.4468085                       </td><td>2.914894                        </td><td>3.4680851                       </td></tr>\n",
       "\t<tr><td>org.eclipse.jdt.core            </td><td>org.eclipse.jdt.core.eval       </td><td> 0                              </td><td> 0                              </td><td>  3                             </td><td>  0                             </td><td>0                               </td><td>0.0000000                       </td><td> 3                              </td><td>1                               </td><td>...                             </td><td>  1                             </td><td>-1                              </td><td> 9                              </td><td>  1                             </td><td> 0                              </td><td> 1.000000                       </td><td>-1.0000000                      </td><td>2.1666667                       </td><td>1.000000                        </td><td>0.0000000                       </td></tr>\n",
       "\t<tr><td>org.eclipse.jdt.core            </td><td>org.eclipse.jdt.core.formatter  </td><td> 0                              </td><td>21                              </td><td>  4                             </td><td>  4                             </td><td>1                               </td><td>1.0000000                       </td><td> 0                              </td><td>0                               </td><td>...                             </td><td> 76                             </td><td> 3                              </td><td> 6                              </td><td> 19                             </td><td>16                              </td><td>18.531250                       </td><td> 1.2187500                      </td><td>1.9062500                       </td><td>5.312500                        </td><td>3.5000000                       </td></tr>\n",
       "</tbody>\n",
       "</table>\n"
      ],
      "text/latex": [
       "\\begin{tabular}{r|llllllllllllllllllllllllllllllllllllllllllll}\n",
       " plugin & package & pre & post & NOCU & NOT\\_total & NOT\\_max & NOT\\_avg & NOI\\_total & NOI\\_max & ... & MLOC\\_max & NBD\\_max & PAR\\_max & VG\\_max & FOUT\\_max & MLOC\\_avg & NBD\\_avg & PAR\\_avg & VG\\_avg & FOUT\\_avg\\\\\n",
       "\\hline\n",
       "\t org.eclipse.jdt.core             & org.eclipse.jdt.core             & 90                               & 21                               &  64                              &  20                              & 1                                & 0.3125000                        & 44                               & 1                                & ...                              & 168                              &  7                               & 13                               &  39                              & 30                               &  5.740489                        & -0.2282609                       & 1.5625000                        & 2.125000                         & 1.1073370                       \\\\\n",
       "\t org.eclipse.jdt.core             & org.eclipse.jdt.core.compiler    &  0                               &  0                               &   9                              &   6                              & 1                                & 0.6666667                        &  3                               & 1                                & ...                              &  86                              &  4                               &  7                               &  37                              & 10                               &  8.094017                        &  0.2222222                       & 1.7179487                        & 3.743590                         & 0.6153846                       \\\\\n",
       "\t org.eclipse.jdt.core             & org.eclipse.jdt.core.dom         & 66                               &  8                               & 132                              & 123                              & 1                                & 0.9318182                        &  9                               & 1                                & ...                              & 285                              &  9                               &  9                               & 103                              & 48                               &  8.460712                        &  0.5667161                       & 0.8917717                        & 2.487769                         & 2.2435137                       \\\\\n",
       "\t org.eclipse.jdt.core             & org.eclipse.jdt.core.dom.rewrite &  0                               &  0                               &   5                              &   4                              & 1                                & 0.8000000                        &  1                               & 1                                & ...                              &  55                              &  4                               &  6                               &  16                              & 29                               &  9.606383                        &  0.7765957                       & 1.4468085                        & 2.914894                         & 3.4680851                       \\\\\n",
       "\t org.eclipse.jdt.core             & org.eclipse.jdt.core.eval        &  0                               &  0                               &   3                              &   0                              & 0                                & 0.0000000                        &  3                               & 1                                & ...                              &   1                              & -1                               &  9                               &   1                              &  0                               &  1.000000                        & -1.0000000                       & 2.1666667                        & 1.000000                         & 0.0000000                       \\\\\n",
       "\t org.eclipse.jdt.core             & org.eclipse.jdt.core.formatter   &  0                               & 21                               &   4                              &   4                              & 1                                & 1.0000000                        &  0                               & 0                                & ...                              &  76                              &  3                               &  6                               &  19                              & 16                               & 18.531250                        &  1.2187500                       & 1.9062500                        & 5.312500                         & 3.5000000                       \\\\\n",
       "\\end{tabular}\n"
      ],
      "text/markdown": [
       "\n",
       "| plugin | package | pre | post | NOCU | NOT_total | NOT_max | NOT_avg | NOI_total | NOI_max | ... | MLOC_max | NBD_max | PAR_max | VG_max | FOUT_max | MLOC_avg | NBD_avg | PAR_avg | VG_avg | FOUT_avg |\n",
       "|---|---|---|---|---|---|---|---|---|---|---|---|---|---|---|---|---|---|---|---|---|\n",
       "| org.eclipse.jdt.core             | org.eclipse.jdt.core             | 90                               | 21                               |  64                              |  20                              | 1                                | 0.3125000                        | 44                               | 1                                | ...                              | 168                              |  7                               | 13                               |  39                              | 30                               |  5.740489                        | -0.2282609                       | 1.5625000                        | 2.125000                         | 1.1073370                        |\n",
       "| org.eclipse.jdt.core             | org.eclipse.jdt.core.compiler    |  0                               |  0                               |   9                              |   6                              | 1                                | 0.6666667                        |  3                               | 1                                | ...                              |  86                              |  4                               |  7                               |  37                              | 10                               |  8.094017                        |  0.2222222                       | 1.7179487                        | 3.743590                         | 0.6153846                        |\n",
       "| org.eclipse.jdt.core             | org.eclipse.jdt.core.dom         | 66                               |  8                               | 132                              | 123                              | 1                                | 0.9318182                        |  9                               | 1                                | ...                              | 285                              |  9                               |  9                               | 103                              | 48                               |  8.460712                        |  0.5667161                       | 0.8917717                        | 2.487769                         | 2.2435137                        |\n",
       "| org.eclipse.jdt.core             | org.eclipse.jdt.core.dom.rewrite |  0                               |  0                               |   5                              |   4                              | 1                                | 0.8000000                        |  1                               | 1                                | ...                              |  55                              |  4                               |  6                               |  16                              | 29                               |  9.606383                        |  0.7765957                       | 1.4468085                        | 2.914894                         | 3.4680851                        |\n",
       "| org.eclipse.jdt.core             | org.eclipse.jdt.core.eval        |  0                               |  0                               |   3                              |   0                              | 0                                | 0.0000000                        |  3                               | 1                                | ...                              |   1                              | -1                               |  9                               |   1                              |  0                               |  1.000000                        | -1.0000000                       | 2.1666667                        | 1.000000                         | 0.0000000                        |\n",
       "| org.eclipse.jdt.core             | org.eclipse.jdt.core.formatter   |  0                               | 21                               |   4                              |   4                              | 1                                | 1.0000000                        |  0                               | 0                                | ...                              |  76                              |  3                               |  6                               |  19                              | 16                               | 18.531250                        |  1.2187500                       | 1.9062500                        | 5.312500                         | 3.5000000                        |\n",
       "\n"
      ],
      "text/plain": [
       "  plugin               package                          pre post NOCU NOT_total\n",
       "1 org.eclipse.jdt.core org.eclipse.jdt.core             90  21    64   20      \n",
       "2 org.eclipse.jdt.core org.eclipse.jdt.core.compiler     0   0     9    6      \n",
       "3 org.eclipse.jdt.core org.eclipse.jdt.core.dom         66   8   132  123      \n",
       "4 org.eclipse.jdt.core org.eclipse.jdt.core.dom.rewrite  0   0     5    4      \n",
       "5 org.eclipse.jdt.core org.eclipse.jdt.core.eval         0   0     3    0      \n",
       "6 org.eclipse.jdt.core org.eclipse.jdt.core.formatter    0  21     4    4      \n",
       "  NOT_max NOT_avg   NOI_total NOI_max ... MLOC_max NBD_max PAR_max VG_max\n",
       "1 1       0.3125000 44        1       ... 168       7      13       39   \n",
       "2 1       0.6666667  3        1       ...  86       4       7       37   \n",
       "3 1       0.9318182  9        1       ... 285       9       9      103   \n",
       "4 1       0.8000000  1        1       ...  55       4       6       16   \n",
       "5 0       0.0000000  3        1       ...   1      -1       9        1   \n",
       "6 1       1.0000000  0        0       ...  76       3       6       19   \n",
       "  FOUT_max MLOC_avg  NBD_avg    PAR_avg   VG_avg   FOUT_avg \n",
       "1 30        5.740489 -0.2282609 1.5625000 2.125000 1.1073370\n",
       "2 10        8.094017  0.2222222 1.7179487 3.743590 0.6153846\n",
       "3 48        8.460712  0.5667161 0.8917717 2.487769 2.2435137\n",
       "4 29        9.606383  0.7765957 1.4468085 2.914894 3.4680851\n",
       "5  0        1.000000 -1.0000000 2.1666667 1.000000 0.0000000\n",
       "6 16       18.531250  1.2187500 1.9062500 5.312500 3.5000000"
      ]
     },
     "metadata": {},
     "output_type": "display_data"
    }
   ],
   "source": [
    "options(warn=-1)\n",
    "\n",
    "files_32_file <- read.table(\"../org.eclipse.jdt.core_3.2/dataset-_3.2-filelevel.csv\", header=T, sep=\",\")\n",
    "files_34_file <- read.table(\"../org.eclipse.jdt.core_3.4/dataset-_3.4-filelevel.csv\", header=T, sep=\",\")\n",
    "files_35_file <- read.table(\"../org.eclipse.jdt.core_3.5/dataset-_3.5-filelevel.csv\", header=T, sep=\",\")\n",
    "\n",
    "nrow(files_32_file)\n",
    "nrow(files_34_file)\n",
    "nrow(files_35_file)\n",
    "\n",
    "files_32_file = cbind(files_32_file[,19], files_32_file[c(\"pre\", \"post\")], files_32_file[,1:18], files_32_file[,22:26])\n",
    "files_32_file <- na.omit(files_32_file)\n",
    "\n",
    "files_34_file = cbind(files_34_file[,19], files_34_file[c(\"pre\", \"post\")], files_34_file[,1:18], files_34_file[,22:26])\n",
    "files_34_file <- na.omit(files_34_file)\n",
    "\n",
    "files_35_file = cbind(files_35_file[,19], files_35_file[c(\"pre\", \"post\")], files_35_file[,1:18], files_35_file[,22:26])\n",
    "files_35_file <- na.omit(files_35_file)\n",
    "\n",
    "head(files_35_file)\n",
    "\n",
    "## -------------------------------------------------------------------------------------------------------------------\n",
    "files_32_pkg <- read.table(\"../org.eclipse.jdt.core_3.2/dataset-_3.2-packagelevel.csv\", header=T, sep=\",\")\n",
    "files_34_pkg <- read.table(\"../org.eclipse.jdt.core_3.4/dataset-_3.4-packagelevel.csv\", header=T, sep=\",\")\n",
    "files_35_pkg <- read.table(\"../org.eclipse.jdt.core_3.5/dataset-_3.5-packagelevel.csv\", header=T, sep=\",\")\n",
    "\n",
    "nrow(files_32_pkg)\n",
    "nrow(files_34_pkg)\n",
    "nrow(files_35_pkg)\n",
    "\n",
    "files_32_pkg = cbind(files_32_pkg[,1:2], files_32_pkg[c(\"pre\", \"post\")], files_32_pkg[,3:32], files_32_pkg[,35:44])\n",
    "files_32_pkg <- na.omit(files_32_pkg)\n",
    "\n",
    "files_34_pkg = cbind(files_34_pkg[,1:2], files_34_pkg[c(\"pre\", \"post\")], files_34_pkg[,3:32], files_34_pkg[,35:44])\n",
    "files_34_pkg <- na.omit(files_34_pkg)\n",
    "\n",
    "files_35_pkg = cbind(files_35_pkg[,1:2], files_35_pkg[c(\"pre\", \"post\")], files_35_pkg[,3:32], files_35_pkg[,35:44])\n",
    "files_35_pkg <- na.omit(files_35_pkg)\n",
    "\n",
    "head(files_35_pkg)"
   ]
  },
  {
   "cell_type": "markdown",
   "metadata": {},
   "source": [
    "### File Level"
   ]
  },
  {
   "cell_type": "code",
   "execution_count": 14,
   "metadata": {},
   "outputs": [
    {
     "data": {
      "text/html": [
       "<strong>png:</strong> 2"
      ],
      "text/latex": [
       "\\textbf{png:} 2"
      ],
      "text/markdown": [
       "**png:** 2"
      ],
      "text/plain": [
       "png \n",
       "  2 "
      ]
     },
     "metadata": {},
     "output_type": "display_data"
    },
    {
     "data": {
      "text/html": [
       "<strong>png:</strong> 2"
      ],
      "text/latex": [
       "\\textbf{png:} 2"
      ],
      "text/markdown": [
       "**png:** 2"
      ],
      "text/plain": [
       "png \n",
       "  2 "
      ]
     },
     "metadata": {},
     "output_type": "display_data"
    },
    {
     "data": {
      "text/html": [
       "<strong>png:</strong> 2"
      ],
      "text/latex": [
       "\\textbf{png:} 2"
      ],
      "text/markdown": [
       "**png:** 2"
      ],
      "text/plain": [
       "png \n",
       "  2 "
      ]
     },
     "metadata": {},
     "output_type": "display_data"
    }
   ],
   "source": [
    "## set the parameter for drawing graphic. \n",
    "draw_histogram_file <- function (graph_name, dataset, hundred_percent_data) {\n",
    "    par(mar=c(5, 5, 2, 1) + 0.1)\n",
    "    ## drawing the histogram\n",
    "\n",
    "    pdf(file=graph_name, width = 11, height = 8.5)\n",
    "\n",
    "    hist(dataset$post, freq=T, breaks=100, xlim=c(0,50), axes=F, main=\"\", xlab=\"Number of Post-Release Defects (per File)\", ylab=\"Percentage\", col=\"darkgray\")\n",
    "    axis(1)\n",
    "\n",
    "    ## this line, can draw the 0, 10%, 20% etc.. E.g., the 66.1 means the 661 (total number of lines) / 100 * 10. \n",
    "    ## the first param is: 2 means y axis. 1 means x. \n",
    "    ## \n",
    "    axis(2, at=c(0, hundred_percent_data, hundred_percent_data*2, \n",
    "                 hundred_percent_data*3, hundred_percent_data*4, \n",
    "                 hundred_percent_data*5, hundred_percent_data*6), \n",
    "         labels=c(\"0%\",\"10%\",\"20%\",\"30%\",\"40%\",\"50%\",\"60%\"), las=1)\n",
    "\n",
    "    dev.off()\n",
    "}\n",
    "\n",
    "draw_histogram_file(\"histo_32_file_level.pdf\", files_32_file, 111)\n",
    "draw_histogram_file(\"histo_34_file_level.pdf\", files_34_file, 110)\n",
    "draw_histogram_file(\"histo_35_file_level.pdf\", files_35_file, 109)"
   ]
  },
  {
   "cell_type": "code",
   "execution_count": 23,
   "metadata": {},
   "outputs": [
    {
     "name": "stderr",
     "output_type": "stream",
     "text": [
      "Your code contains a unicode char which cannot be displayed in your\n",
      "current locale and R will silently convert it to an escaped form when the\n",
      "R kernel executes this code. This can lead to subtle errors if you use\n",
      "such chars to do comparisons. For more information, please see\n",
      "https://github.com/IRkernel/repr/wiki/Problems-with-unicode-on-windows"
     ]
    },
    {
     "name": "stdout",
     "output_type": "stream",
     "text": [
      "\n",
      "% Table created by stargazer v.5.2.2 by Marek Hlavac, Harvard University. E-mail: hlavac at fas.harvard.edu\n",
      "% Date and time: Sun, Oct 20, 2019 - 5:53:49 PM\n",
      "\\begin{table}[!htbp] \\centering \n",
      "  \\caption{File level, V3.2} \n",
      "  \\label{} \n",
      "\\begin{tabular}{@{\\extracolsep{5pt}} ccccc} \n",
      "\\\\[-1.8ex]\\hline \n",
      "\\hline \\\\[-1.8ex] \n",
      "pre & $1$ & $1$ & $0.167$ & $1$ \\\\ \n",
      "post & $0.167$ & $1$ & $1$ & $1$ \\\\ \n",
      "NOT & $0.113$ & $1$ & $0.140$ & $1$ \\\\ \n",
      "NOI & $$-$0.113$ & $1$ & $$-$0.140$ & $1$ \\\\ \n",
      "TLOC & $0.347$ & $1$ & $0.348$ & $1$ \\\\ \n",
      "ACD & $0.116$ & $1$ & $0.154$ & $1$ \\\\ \n",
      "NSM & $0.249$ & $1$ & $0.072$ & $0$ \\\\ \n",
      "NSF & $0.233$ & $1$ & $0.126$ & $1$ \\\\ \n",
      "NOM & $0.301$ & $1$ & $0.244$ & $1$ \\\\ \n",
      "NOF & $0.301$ & $1$ & $0.228$ & $1$ \\\\ \n",
      "MLOC\\_total & $0.346$ & $1$ & $0.342$ & $1$ \\\\ \n",
      "MLOC\\_max & $0.312$ & $1$ & $0.347$ & $1$ \\\\ \n",
      "NBD\\_total & $0.336$ & $1$ & $0.323$ & $1$ \\\\ \n",
      "NBD\\_max & $0.310$ & $1$ & $0.321$ & $1$ \\\\ \n",
      "PAR\\_total & $0.269$ & $1$ & $0.297$ & $1$ \\\\ \n",
      "PAR\\_max & $0.166$ & $1$ & $0.262$ & $1$ \\\\ \n",
      "VG\\_total & $0.338$ & $1$ & $0.340$ & $1$ \\\\ \n",
      "VG\\_max & $0.303$ & $1$ & $0.356$ & $1$ \\\\ \n",
      "FOUT\\_total & $0.344$ & $1$ & $0.335$ & $1$ \\\\ \n",
      "FOUT\\_max & $0.324$ & $1$ & $0.320$ & $1$ \\\\ \n",
      "MLOC\\_avg & $0.269$ & $1$ & $0.329$ & $1$ \\\\ \n",
      "NBD\\_avg & $0.257$ & $1$ & $0.292$ & $1$ \\\\ \n",
      "PAR\\_avg & $0.036$ & $0$ & $0.164$ & $1$ \\\\ \n",
      "VG\\_avg & $0.264$ & $1$ & $0.335$ & $1$ \\\\ \n",
      "FOUT\\_avg & $0.278$ & $1$ & $0.303$ & $1$ \\\\ \n",
      "\\hline \\\\[-1.8ex] \n",
      "\\end{tabular} \n",
      "\\end{table} \n",
      "\n",
      "% Table created by stargazer v.5.2.2 by Marek Hlavac, Harvard University. E-mail: hlavac at fas.harvard.edu\n",
      "% Date and time: Sun, Oct 20, 2019 - 5:53:49 PM\n",
      "\\begin{table}[!htbp] \\centering \n",
      "  \\caption{File level, V3.4} \n",
      "  \\label{} \n",
      "\\begin{tabular}{@{\\extracolsep{5pt}} ccccc} \n",
      "\\\\[-1.8ex]\\hline \n",
      "\\hline \\\\[-1.8ex] \n",
      "pre & $1$ & $1$ & $0.270$ & $1$ \\\\ \n",
      "post & $0.270$ & $1$ & $1$ & $1$ \\\\ \n",
      "NOT & $0.061$ & $0$ & $0.158$ & $1$ \\\\ \n",
      "NOI & $$-$0.061$ & $0$ & $$-$0.158$ & $1$ \\\\ \n",
      "TLOC & $0.169$ & $1$ & $0.371$ & $1$ \\\\ \n",
      "ACD & $0.125$ & $1$ & $0.113$ & $1$ \\\\ \n",
      "NSM & $0.106$ & $1$ & $0.051$ & $0$ \\\\ \n",
      "NSF & $0.134$ & $1$ & $0.117$ & $1$ \\\\ \n",
      "NOM & $0.150$ & $1$ & $0.291$ & $1$ \\\\ \n",
      "NOF & $0.155$ & $1$ & $0.231$ & $1$ \\\\ \n",
      "MLOC\\_total & $0.169$ & $1$ & $0.376$ & $1$ \\\\ \n",
      "MLOC\\_max & $0.150$ & $1$ & $0.382$ & $1$ \\\\ \n",
      "NBD\\_total & $0.183$ & $1$ & $0.365$ & $1$ \\\\ \n",
      "NBD\\_max & $0.166$ & $1$ & $0.347$ & $1$ \\\\ \n",
      "PAR\\_total & $0.170$ & $1$ & $0.328$ & $1$ \\\\ \n",
      "PAR\\_max & $0.155$ & $1$ & $0.284$ & $1$ \\\\ \n",
      "VG\\_total & $0.168$ & $1$ & $0.379$ & $1$ \\\\ \n",
      "VG\\_max & $0.149$ & $1$ & $0.384$ & $1$ \\\\ \n",
      "FOUT\\_total & $0.176$ & $1$ & $0.367$ & $1$ \\\\ \n",
      "FOUT\\_max & $0.157$ & $1$ & $0.349$ & $1$ \\\\ \n",
      "MLOC\\_avg & $0.137$ & $1$ & $0.348$ & $1$ \\\\ \n",
      "NBD\\_avg & $0.142$ & $1$ & $0.296$ & $1$ \\\\ \n",
      "PAR\\_avg & $0.079$ & $1$ & $0.135$ & $1$ \\\\ \n",
      "VG\\_avg & $0.141$ & $1$ & $0.352$ & $1$ \\\\ \n",
      "FOUT\\_avg & $0.143$ & $1$ & $0.301$ & $1$ \\\\ \n",
      "\\hline \\\\[-1.8ex] \n",
      "\\end{tabular} \n",
      "\\end{table} \n",
      "\n",
      "% Table created by stargazer v.5.2.2 by Marek Hlavac, Harvard University. E-mail: hlavac at fas.harvard.edu\n",
      "% Date and time: Sun, Oct 20, 2019 - 5:53:49 PM\n",
      "\\begin{table}[!htbp] \\centering \n",
      "  \\caption{File level, V3.5} \n",
      "  \\label{} \n",
      "\\begin{tabular}{@{\\extracolsep{5pt}} ccccc} \n",
      "\\\\[-1.8ex]\\hline \n",
      "\\hline \\\\[-1.8ex] \n",
      "pre & $1$ & $1$ & $0.246$ & $1$ \\\\ \n",
      "post & $0.246$ & $1$ & $1$ & $1$ \\\\ \n",
      "NOT & $0.121$ & $1$ & $0.087$ & $1$ \\\\ \n",
      "NOI & $$-$0.121$ & $1$ & $$-$0.087$ & $1$ \\\\ \n",
      "TLOC & $0.335$ & $1$ & $0.266$ & $1$ \\\\ \n",
      "ACD & $0.150$ & $1$ & $0.140$ & $1$ \\\\ \n",
      "NSM & $0.095$ & $1$ & $0.107$ & $1$ \\\\ \n",
      "NSF & $0.137$ & $1$ & $0.060$ & $0$ \\\\ \n",
      "NOM & $0.282$ & $1$ & $0.177$ & $1$ \\\\ \n",
      "NOF & $0.238$ & $1$ & $0.180$ & $1$ \\\\ \n",
      "MLOC\\_total & $0.341$ & $1$ & $0.259$ & $1$ \\\\ \n",
      "MLOC\\_max & $0.342$ & $1$ & $0.262$ & $1$ \\\\ \n",
      "NBD\\_total & $0.316$ & $1$ & $0.254$ & $1$ \\\\ \n",
      "NBD\\_max & $0.329$ & $1$ & $0.248$ & $1$ \\\\ \n",
      "PAR\\_total & $0.281$ & $1$ & $0.260$ & $1$ \\\\ \n",
      "PAR\\_max & $0.201$ & $1$ & $0.233$ & $1$ \\\\ \n",
      "VG\\_total & $0.349$ & $1$ & $0.258$ & $1$ \\\\ \n",
      "VG\\_max & $0.352$ & $1$ & $0.262$ & $1$ \\\\ \n",
      "FOUT\\_total & $0.318$ & $1$ & $0.259$ & $1$ \\\\ \n",
      "FOUT\\_max & $0.304$ & $1$ & $0.241$ & $1$ \\\\ \n",
      "MLOC\\_avg & $0.288$ & $1$ & $0.248$ & $1$ \\\\ \n",
      "NBD\\_avg & $0.257$ & $1$ & $0.223$ & $1$ \\\\ \n",
      "PAR\\_avg & $0.083$ & $1$ & $0.164$ & $1$ \\\\ \n",
      "VG\\_avg & $0.304$ & $1$ & $0.251$ & $1$ \\\\ \n",
      "FOUT\\_avg & $0.256$ & $1$ & $0.239$ & $1$ \\\\ \n",
      "\\hline \\\\[-1.8ex] \n",
      "\\end{tabular} \n",
      "\\end{table} \n"
     ]
    }
   ],
   "source": [
    "correlation_analysis_file <- function (dataset, title_info) {\n",
    "    ## till now 2019年10月12日 there are only 22 columns in files. 21 of them are useful (the useless one is line ID)\n",
    "    pre.p <- rep (-1, 25)\n",
    "    post.p <- rep (-1, 25)\n",
    "    for (i in 2:26) {\n",
    "        pre.p[i-1] <- cor.test(dataset[,i], dataset$pre, method=\"spearman\", exact=FALSE)$p.value\n",
    "        post.p[i-1] <- cor.test(dataset[,i], dataset$post, method=\"spearman\", exact=FALSE)$p.value\n",
    "    }\n",
    "\n",
    "    # p.value is the significance. If the significance is not enough (p is not small enough), the correlation results may not hold. \n",
    "    rst <- cbind(\n",
    "        cor(dataset[,2:26], dataset$pre, method=\"spearman\"),\n",
    "        (pre.p<0.01),\n",
    "        cor(dataset[,2:26], dataset$post, method=\"spearman\"), \n",
    "        (post.p<0.01)\n",
    "    )\n",
    "#     return rst\n",
    "    \n",
    "    stargazer(\n",
    "        rst, \n",
    "        title = title_info\n",
    "    )\n",
    "}\n",
    "correlation_analysis_file(files_32_file, \"File level, V3.2\")\n",
    "correlation_analysis_file(files_34_file, \"File level, V3.4\")\n",
    "correlation_analysis_file(files_35_file, \"File level, V3.5\")"
   ]
  },
  {
   "cell_type": "markdown",
   "metadata": {},
   "source": [
    "The correlation should be larger than `0.4` (according to the paper), but there is no such a feature that is larger than this value. So we cannot say **in file level, the more complex a file is, the more likely this file will be buggy**. "
   ]
  },
  {
   "cell_type": "markdown",
   "metadata": {},
   "source": [
    "### Pakcage Level"
   ]
  },
  {
   "cell_type": "code",
   "execution_count": 22,
   "metadata": {},
   "outputs": [
    {
     "data": {
      "text/html": [
       "<strong>png:</strong> 2"
      ],
      "text/latex": [
       "\\textbf{png:} 2"
      ],
      "text/markdown": [
       "**png:** 2"
      ],
      "text/plain": [
       "png \n",
       "  2 "
      ]
     },
     "metadata": {},
     "output_type": "display_data"
    },
    {
     "data": {
      "text/html": [
       "<strong>png:</strong> 2"
      ],
      "text/latex": [
       "\\textbf{png:} 2"
      ],
      "text/markdown": [
       "**png:** 2"
      ],
      "text/plain": [
       "png \n",
       "  2 "
      ]
     },
     "metadata": {},
     "output_type": "display_data"
    },
    {
     "data": {
      "text/html": [
       "<strong>png:</strong> 2"
      ],
      "text/latex": [
       "\\textbf{png:} 2"
      ],
      "text/markdown": [
       "**png:** 2"
      ],
      "text/plain": [
       "png \n",
       "  2 "
      ]
     },
     "metadata": {},
     "output_type": "display_data"
    }
   ],
   "source": [
    "## set the parameter for drawing graphic. \n",
    "draw_histogram_pkg <- function (graph_name, dataset, hundred_percent_data, xlimit = 400) {\n",
    "    par(mar=c(5, 5, 2, 1) + 0.1)\n",
    "    \n",
    "    pdf(file=graph_name, width = 11, height = 8.5)\n",
    "    \n",
    "    ## drawing the histogram    \n",
    "    hist(dataset$post, freq=T, breaks=100, xlim=c(0, xlimit), axes=F, main=\"\", xlab=\"Number of Post-Release Defects (per Package)\", ylab=\"Percentage\", col=\"darkgray\")\n",
    "    axis(1)\n",
    "\n",
    "    ## this line, can draw the 0, 10%, 20% etc.. E.g., the 66.1 means the 661 (total number of lines) / 100 * 10. \n",
    "    ## the first param is: 2 means y axis. 1 means x. \n",
    "    ## \n",
    "    axis(2, at=c(0, hundred_percent_data, hundred_percent_data*2, \n",
    "                 hundred_percent_data*3, hundred_percent_data*4, \n",
    "                 hundred_percent_data*5, hundred_percent_data*6), labels=c(\"0%\",\"10%\",\"20%\",\"30%\",\"40%\",\"50%\",\"60%\"), las=1)\n",
    "    \n",
    "    dev.off()\n",
    "}\n",
    "draw_histogram_pkg(\"histo_32_pkg_level.pdf\", files_32_pkg, 4.4)\n",
    "draw_histogram_pkg(\"histo_34_pkg_level.pdf\", files_34_pkg, 4.4, 300)\n",
    "draw_histogram_pkg(\"histo_35_pkg_level.pdf\", files_35_pkg, 4.4)"
   ]
  },
  {
   "cell_type": "code",
   "execution_count": 25,
   "metadata": {},
   "outputs": [
    {
     "name": "stderr",
     "output_type": "stream",
     "text": [
      "Your code contains a unicode char which cannot be displayed in your\n",
      "current locale and R will silently convert it to an escaped form when the\n",
      "R kernel executes this code. This can lead to subtle errors if you use\n",
      "such chars to do comparisons. For more information, please see\n",
      "https://github.com/IRkernel/repr/wiki/Problems-with-unicode-on-windows"
     ]
    },
    {
     "name": "stdout",
     "output_type": "stream",
     "text": [
      "\n",
      "% Table created by stargazer v.5.2.2 by Marek Hlavac, Harvard University. E-mail: hlavac at fas.harvard.edu\n",
      "% Date and time: Sun, Oct 20, 2019 - 5:59:14 PM\n",
      "\\begin{table}[!htbp] \\centering \n",
      "  \\caption{Package level, V3.2} \n",
      "  \\label{} \n",
      "\\begin{tabular}{@{\\extracolsep{5pt}} ccccc} \n",
      "\\\\[-1.8ex]\\hline \n",
      "\\hline \\\\[-1.8ex] \n",
      "pre & $1$ & $1$ & $0.497$ & $1$ \\\\ \n",
      "post & $0.497$ & $1$ & $1$ & $1$ \\\\ \n",
      "NOCU & $0.584$ & $1$ & $0.620$ & $1$ \\\\ \n",
      "NOT\\_total & $0.627$ & $1$ & $0.733$ & $1$ \\\\ \n",
      "NOT\\_max & $0.178$ & $1$ & $0.151$ & $1$ \\\\ \n",
      "NOT\\_avg & $$-$0.021$ & $0$ & $0.225$ & $0$ \\\\ \n",
      "NOI\\_total & $0.270$ & $0$ & $0.087$ & $0$ \\\\ \n",
      "NOI\\_max & $0.214$ & $0$ & $0.034$ & $0$ \\\\ \n",
      "NOI\\_avg & $0.021$ & $0$ & $$-$0.225$ & $0$ \\\\ \n",
      "TLOC\\_total & $0.685$ & $0$ & $0.788$ & $0$ \\\\ \n",
      "TLOC\\_max & $0.516$ & $1$ & $0.669$ & $1$ \\\\ \n",
      "TLOC\\_avg & $0.316$ & $1$ & $0.363$ & $1$ \\\\ \n",
      "ACD\\_total & $0.491$ & $0$ & $0.535$ & $0$ \\\\ \n",
      "ACD\\_max & $0.467$ & $1$ & $0.494$ & $1$ \\\\ \n",
      "ACD\\_avg & $0.347$ & $1$ & $0.422$ & $1$ \\\\ \n",
      "NSM\\_total & $0.680$ & $0$ & $0.373$ & $1$ \\\\ \n",
      "NSM\\_max & $0.612$ & $1$ & $0.312$ & $0$ \\\\ \n",
      "NSM\\_avg & $0.455$ & $1$ & $0.034$ & $0$ \\\\ \n",
      "NSF\\_total & $0.533$ & $1$ & $0.375$ & $0$ \\\\ \n",
      "NSF\\_max & $0.453$ & $1$ & $0.284$ & $0$ \\\\ \n",
      "NSF\\_avg & $0.217$ & $1$ & $$-$0.014$ & $0$ \\\\ \n",
      "NOM\\_total & $0.618$ & $0$ & $0.671$ & $0$ \\\\ \n",
      "NOM\\_max & $0.439$ & $1$ & $0.489$ & $1$ \\\\ \n",
      "NOM\\_avg & $0.265$ & $1$ & $0.280$ & $1$ \\\\ \n",
      "NOF\\_total & $0.656$ & $0$ & $0.488$ & $0$ \\\\ \n",
      "NOF\\_max & $0.493$ & $1$ & $0.321$ & $1$ \\\\ \n",
      "NOF\\_avg & $0.229$ & $1$ & $0.014$ & $0$ \\\\ \n",
      "MLOC\\_total & $0.669$ & $0$ & $0.778$ & $0$ \\\\ \n",
      "NBD\\_total & $0.548$ & $1$ & $0.773$ & $1$ \\\\ \n",
      "PAR\\_total & $0.574$ & $1$ & $0.684$ & $1$ \\\\ \n",
      "VG\\_total & $0.677$ & $1$ & $0.763$ & $1$ \\\\ \n",
      "FOUT\\_total & $0.642$ & $1$ & $0.731$ & $1$ \\\\ \n",
      "MLOC\\_max & $0.558$ & $1$ & $0.610$ & $1$ \\\\ \n",
      "NBD\\_max & $0.553$ & $1$ & $0.776$ & $1$ \\\\ \n",
      "PAR\\_max & $0.280$ & $1$ & $0.425$ & $1$ \\\\ \n",
      "VG\\_max & $0.557$ & $0$ & $0.598$ & $1$ \\\\ \n",
      "FOUT\\_max & $0.581$ & $1$ & $0.719$ & $1$ \\\\ \n",
      "MLOC\\_avg & $0.153$ & $1$ & $0.311$ & $1$ \\\\ \n",
      "NBD\\_avg & $0.081$ & $0$ & $0.288$ & $0$ \\\\ \n",
      "PAR\\_avg & $$-$0.133$ & $0$ & $0.023$ & $0$ \\\\ \n",
      "VG\\_avg & $0.188$ & $0$ & $0.317$ & $0$ \\\\ \n",
      "FOUT\\_avg & $0.177$ & $0$ & $0.326$ & $0$ \\\\ \n",
      "\\hline \\\\[-1.8ex] \n",
      "\\end{tabular} \n",
      "\\end{table} \n",
      "\n",
      "% Table created by stargazer v.5.2.2 by Marek Hlavac, Harvard University. E-mail: hlavac at fas.harvard.edu\n",
      "% Date and time: Sun, Oct 20, 2019 - 5:59:14 PM\n",
      "\\begin{table}[!htbp] \\centering \n",
      "  \\caption{Package level, V3.4} \n",
      "  \\label{} \n",
      "\\begin{tabular}{@{\\extracolsep{5pt}} ccccc} \n",
      "\\\\[-1.8ex]\\hline \n",
      "\\hline \\\\[-1.8ex] \n",
      "pre & $1$ & $1$ & $0.524$ & $1$ \\\\ \n",
      "post & $0.524$ & $1$ & $1$ & $1$ \\\\ \n",
      "NOCU & $0.329$ & $1$ & $0.597$ & $1$ \\\\ \n",
      "NOT\\_total & $0.369$ & $0$ & $0.681$ & $1$ \\\\ \n",
      "NOT\\_max & $0.092$ & $0$ & $0.167$ & $1$ \\\\ \n",
      "NOT\\_avg & $0.030$ & $0$ & $0.033$ & $0$ \\\\ \n",
      "NOI\\_total & $0.128$ & $0$ & $0.214$ & $0$ \\\\ \n",
      "NOI\\_max & $0.031$ & $0$ & $0.196$ & $0$ \\\\ \n",
      "NOI\\_avg & $$-$0.030$ & $0$ & $$-$0.033$ & $0$ \\\\ \n",
      "TLOC\\_total & $0.350$ & $0$ & $0.806$ & $0$ \\\\ \n",
      "TLOC\\_max & $0.284$ & $0$ & $0.744$ & $1$ \\\\ \n",
      "TLOC\\_avg & $0.121$ & $0$ & $0.472$ & $1$ \\\\ \n",
      "ACD\\_total & $0.250$ & $0$ & $0.477$ & $1$ \\\\ \n",
      "ACD\\_max & $0.258$ & $0$ & $0.444$ & $1$ \\\\ \n",
      "ACD\\_avg & $0.190$ & $0$ & $0.370$ & $1$ \\\\ \n",
      "NSM\\_total & $0.427$ & $0$ & $0.488$ & $0$ \\\\ \n",
      "NSM\\_max & $0.415$ & $1$ & $0.419$ & $1$ \\\\ \n",
      "NSM\\_avg & $0.197$ & $1$ & $0.207$ & $1$ \\\\ \n",
      "NSF\\_total & $0.174$ & $0$ & $0.502$ & $0$ \\\\ \n",
      "NSF\\_max & $0.101$ & $0$ & $0.374$ & $1$ \\\\ \n",
      "NSF\\_avg & $$-$0.097$ & $0$ & $0.145$ & $0$ \\\\ \n",
      "NOM\\_total & $0.313$ & $0$ & $0.705$ & $0$ \\\\ \n",
      "NOM\\_max & $0.135$ & $0$ & $0.690$ & $1$ \\\\ \n",
      "NOM\\_avg & $0.055$ & $0$ & $0.434$ & $1$ \\\\ \n",
      "NOF\\_total & $0.269$ & $0$ & $0.604$ & $1$ \\\\ \n",
      "NOF\\_max & $0.180$ & $0$ & $0.430$ & $1$ \\\\ \n",
      "NOF\\_avg & $$-$0.033$ & $0$ & $0.118$ & $1$ \\\\ \n",
      "MLOC\\_total & $0.334$ & $0$ & $0.810$ & $0$ \\\\ \n",
      "NBD\\_total & $0.266$ & $0$ & $0.742$ & $1$ \\\\ \n",
      "PAR\\_total & $0.364$ & $0$ & $0.742$ & $1$ \\\\ \n",
      "VG\\_total & $0.354$ & $0$ & $0.788$ & $1$ \\\\ \n",
      "FOUT\\_total & $0.331$ & $0$ & $0.828$ & $1$ \\\\ \n",
      "MLOC\\_max & $0.331$ & $0$ & $0.609$ & $1$ \\\\ \n",
      "NBD\\_max & $0.342$ & $0$ & $0.647$ & $1$ \\\\ \n",
      "PAR\\_max & $0.217$ & $0$ & $0.411$ & $1$ \\\\ \n",
      "VG\\_max & $0.356$ & $0$ & $0.680$ & $1$ \\\\ \n",
      "FOUT\\_max & $0.383$ & $0$ & $0.668$ & $1$ \\\\ \n",
      "MLOC\\_avg & $0.085$ & $0$ & $0.208$ & $1$ \\\\ \n",
      "NBD\\_avg & $0.121$ & $0$ & $0.113$ & $0$ \\\\ \n",
      "PAR\\_avg & $0.099$ & $0$ & $$-$0.004$ & $0$ \\\\ \n",
      "VG\\_avg & $0.162$ & $0$ & $0.207$ & $0$ \\\\ \n",
      "FOUT\\_avg & $0.129$ & $0$ & $0.296$ & $0$ \\\\ \n",
      "\\hline \\\\[-1.8ex] \n",
      "\\end{tabular} \n",
      "\\end{table} \n",
      "\n",
      "% Table created by stargazer v.5.2.2 by Marek Hlavac, Harvard University. E-mail: hlavac at fas.harvard.edu\n",
      "% Date and time: Sun, Oct 20, 2019 - 5:59:14 PM\n",
      "\\begin{table}[!htbp] \\centering \n",
      "  \\caption{Package level, V3.5} \n",
      "  \\label{} \n",
      "\\begin{tabular}{@{\\extracolsep{5pt}} ccccc} \n",
      "\\\\[-1.8ex]\\hline \n",
      "\\hline \\\\[-1.8ex] \n",
      "pre & $1$ & $1$ & $0.603$ & $1$ \\\\ \n",
      "post & $0.603$ & $1$ & $1$ & $1$ \\\\ \n",
      "NOCU & $0.704$ & $1$ & $0.401$ & $1$ \\\\ \n",
      "NOT\\_total & $0.792$ & $1$ & $0.506$ & $1$ \\\\ \n",
      "NOT\\_max & $0.178$ & $1$ & $0.157$ & $1$ \\\\ \n",
      "NOT\\_avg & $$-$0.018$ & $0$ & $0.147$ & $0$ \\\\ \n",
      "NOI\\_total & $0.264$ & $0$ & $$-$0.012$ & $0$ \\\\ \n",
      "NOI\\_max & $0.284$ & $0$ & $0.014$ & $0$ \\\\ \n",
      "NOI\\_avg & $0.018$ & $0$ & $$-$0.147$ & $0$ \\\\ \n",
      "TLOC\\_total & $0.777$ & $0$ & $0.588$ & $0$ \\\\ \n",
      "TLOC\\_max & $0.584$ & $1$ & $0.495$ & $1$ \\\\ \n",
      "TLOC\\_avg & $0.247$ & $1$ & $0.382$ & $1$ \\\\ \n",
      "ACD\\_total & $0.579$ & $0$ & $0.482$ & $0$ \\\\ \n",
      "ACD\\_max & $0.551$ & $1$ & $0.474$ & $1$ \\\\ \n",
      "ACD\\_avg & $0.424$ & $1$ & $0.357$ & $1$ \\\\ \n",
      "NSM\\_total & $0.388$ & $1$ & $0.510$ & $0$ \\\\ \n",
      "NSM\\_max & $0.316$ & $1$ & $0.444$ & $1$ \\\\ \n",
      "NSM\\_avg & $0.077$ & $0$ & $0.309$ & $1$ \\\\ \n",
      "NSF\\_total & $0.490$ & $0$ & $0.356$ & $0$ \\\\ \n",
      "NSF\\_max & $0.378$ & $1$ & $0.252$ & $0$ \\\\ \n",
      "NSF\\_avg & $0.055$ & $0$ & $0.087$ & $0$ \\\\ \n",
      "NOM\\_total & $0.712$ & $0$ & $0.473$ & $0$ \\\\ \n",
      "NOM\\_max & $0.490$ & $1$ & $0.392$ & $1$ \\\\ \n",
      "NOM\\_avg & $0.253$ & $1$ & $0.220$ & $1$ \\\\ \n",
      "NOF\\_total & $0.538$ & $0$ & $0.472$ & $0$ \\\\ \n",
      "NOF\\_max & $0.305$ & $1$ & $0.333$ & $1$ \\\\ \n",
      "NOF\\_avg & $$-$0.016$ & $0$ & $0.176$ & $0$ \\\\ \n",
      "MLOC\\_total & $0.801$ & $0$ & $0.595$ & $0$ \\\\ \n",
      "NBD\\_total & $0.662$ & $1$ & $0.539$ & $1$ \\\\ \n",
      "PAR\\_total & $0.687$ & $1$ & $0.530$ & $1$ \\\\ \n",
      "VG\\_total & $0.778$ & $1$ & $0.570$ & $1$ \\\\ \n",
      "FOUT\\_total & $0.760$ & $1$ & $0.617$ & $1$ \\\\ \n",
      "MLOC\\_max & $0.580$ & $1$ & $0.516$ & $1$ \\\\ \n",
      "NBD\\_max & $0.674$ & $1$ & $0.549$ & $1$ \\\\ \n",
      "PAR\\_max & $0.497$ & $1$ & $0.421$ & $1$ \\\\ \n",
      "VG\\_max & $0.558$ & $1$ & $0.490$ & $1$ \\\\ \n",
      "FOUT\\_max & $0.656$ & $1$ & $0.541$ & $1$ \\\\ \n",
      "MLOC\\_avg & $0.196$ & $1$ & $0.324$ & $1$ \\\\ \n",
      "NBD\\_avg & $0.119$ & $0$ & $0.309$ & $0$ \\\\ \n",
      "PAR\\_avg & $$-$0.066$ & $0$ & $0.130$ & $0$ \\\\ \n",
      "VG\\_avg & $0.211$ & $0$ & $0.322$ & $0$ \\\\ \n",
      "FOUT\\_avg & $0.234$ & $0$ & $0.381$ & $0$ \\\\ \n",
      "\\hline \\\\[-1.8ex] \n",
      "\\end{tabular} \n",
      "\\end{table} \n"
     ]
    }
   ],
   "source": [
    "correlation_analysis_pkg <- function (dataset, title_info) {\n",
    "\n",
    "    ## till now 2019年10月12日 there are only 22 columns in files. 21 of them are useful (the useless one is line ID)\n",
    "    pre.p <- rep (-1, 42)\n",
    "    post.p <- rep (-1, 42)\n",
    "    for (i in 3:44) {\n",
    "        pre.p[i-1] <- cor.test(dataset[,i], dataset$pre, method=\"spearman\", exact=FALSE)$p.value\n",
    "        post.p[i-1] <- cor.test(dataset[,i], dataset$post, method=\"spearman\", exact=FALSE)$p.value\n",
    "    }\n",
    "\n",
    "    # p.value is the significance. If the significance is not enough (p is not small enough), the correlation results may not hold. \n",
    "    stargazer(\n",
    "        cbind(\n",
    "            cor(dataset[,3:44], dataset$pre, method=\"spearman\"),\n",
    "            (pre.p<0.01),\n",
    "            cor(dataset[,3:44], dataset$post, method=\"spearman\"), \n",
    "            (post.p<0.01)\n",
    "        ), \n",
    "        title = title_info\n",
    "    )\n",
    "}\n",
    "\n",
    "correlation_analysis_pkg(files_32_pkg, \"Package level, V3.2\")\n",
    "correlation_analysis_pkg(files_34_pkg, \"Package level, V3.4\")\n",
    "correlation_analysis_pkg(files_35_pkg, \"Package level, V3.5\")"
   ]
  },
  {
   "cell_type": "markdown",
   "metadata": {},
   "source": [
    "As we can see, there are some metrics have correlations that are above 0.400 threshold. \n",
    "\n",
    "Like `NOT, NOCU, TLOC, ACD, NSM, method level metrics`. \n",
    "\n",
    "Especially in `Method level`, \" However, in many cases the maximum metrics (_max) show correlation values comparable to the accumulated ones (except for PAR_max).\"\n",
    "\n",
    "<table>\n",
    "<tbody>\n",
    "\t<tr><th scope=row>pre</th><td> 1.00000000</td><td>1          </td><td> **0.60276552**</td><td>1          </td></tr>\n",
    "\t<tr><th scope=row>post</th><td> **0.60276552**</td><td>1          </td><td> 1.00000000</td><td>1          </td></tr>\n",
    "\t<tr><th scope=row>NOCU</th><td> **0.70428084**</td><td>1          </td><td> **0.40081499**</td><td>1          </td></tr>\n",
    "\t<tr><th scope=row>NOT_total</th><td> **0.79152229**</td><td>1          </td><td> **0.50605011**</td><td>1          </td></tr>\n",
    "\t<tr><th scope=row>NOT_max</th><td> 0.17810053</td><td>1          </td><td> 0.15677560</td><td>1          </td></tr>\n",
    "\t<tr><th scope=row>NOT_avg</th><td>-0.01772520</td><td>0          </td><td> 0.14731047</td><td>0          </td></tr>\n",
    "\t<tr><th scope=row>NOI_total</th><td> 0.26368713</td><td>0          </td><td>-0.01236596</td><td>0          </td></tr>\n",
    "\t<tr><th scope=row>NOI_max</th><td> 0.28384036</td><td>0          </td><td> 0.01380149</td><td>0          </td></tr>\n",
    "\t<tr><th scope=row>NOI_avg</th><td> 0.01772520</td><td>0          </td><td>-0.14731047</td><td>0          </td></tr>\n",
    "\t<tr><th scope=row>TLOC_total</th><td> 0.77677777</td><td>0          </td><td> 0.58761204</td><td>0          </td></tr>\n",
    "\t<tr><th scope=row>TLOC_max</th><td> **0.58440328**</td><td>1          </td><td> **0.49465687**</td><td>1          </td></tr>\n",
    "\t<tr><th scope=row>TLOC_avg</th><td> 0.24650459</td><td>1          </td><td> 0.38219806</td><td>1          </td></tr>\n",
    "\t<tr><th scope=row>ACD_total</th><td> 0.57885672</td><td>0          </td><td> 0.48249529</td><td>0          </td></tr>\n",
    "\t<tr><th scope=row>ACD_max</th><td> **0.55113606**</td><td>1          </td><td> **0.47401980**</td><td>1          </td></tr>\n",
    "\t<tr><th scope=row>ACD_avg</th><td> **0.42412024**</td><td>1          </td><td> 0.35679961</td><td>1          </td></tr>\n",
    "\t<tr><th scope=row>NSM_total</th><td> 0.38768640</td><td>1          </td><td> 0.50997170</td><td>0          </td></tr>\n",
    "\t<tr><th scope=row>NSM_max</th><td> 0.31597620</td><td>1          </td><td>** 0.44420862**</td><td>1          </td></tr>\n",
    "\t<tr><th scope=row>NSM_avg</th><td> 0.07686697</td><td>0          </td><td> 0.30854197</td><td>1          </td></tr>\n",
    "\t<tr><th scope=row>NSF_total</th><td> 0.49005786</td><td>0          </td><td> 0.35649326</td><td>0          </td></tr>\n",
    "\t<tr><th scope=row>NSF_max</th><td> 0.37830710</td><td>1          </td><td> 0.25159810</td><td>0          </td></tr>\n",
    "\t<tr><th scope=row>NSF_avg</th><td> 0.05522099</td><td>0          </td><td> 0.08656733</td><td>0          </td></tr>\n",
    "\t<tr><th scope=row>NOM_total</th><td> 0.71207738</td><td>0          </td><td> 0.47347713</td><td>0          </td></tr>\n",
    "\t<tr><th scope=row>NOM_max</th><td> 0.48981143</td><td>1          </td><td> 0.39228596</td><td>1          </td></tr>\n",
    "\t<tr><th scope=row>NOM_avg</th><td> 0.25321671</td><td>1          </td><td> 0.22010467</td><td>1          </td></tr>\n",
    "\t<tr><th scope=row>NOF_total</th><td> 0.53838378</td><td>0          </td><td> 0.47198494</td><td>0          </td></tr>\n",
    "\t<tr><th scope=row>NOF_max</th><td> 0.30456903</td><td>1          </td><td> 0.33279354</td><td>1          </td></tr>\n",
    "\t<tr><th scope=row>NOF_avg</th><td>-0.01629178</td><td>0          </td><td> 0.17599930</td><td>0          </td></tr>\n",
    "\t<tr><th scope=row>MLOC_total</th><td> 0.80063537</td><td>0          </td><td> 0.59519270</td><td>0          </td></tr>\n",
    "\t<tr><th scope=row>NBD_total</th><td> **0.66227017**</td><td>1          </td><td> **0.53868788**</td><td>1          </td></tr>\n",
    "\t<tr><th scope=row>PAR_total</th><td> **0.68749814**</td><td>1          </td><td> **0.52989253**</td><td>1          </td></tr>\n",
    "\t<tr><th scope=row>VG_total</th><td> **0.77781426**</td><td>1          </td><td> **0.56982123**</td><td>1          </td></tr>\n",
    "\t<tr><th scope=row>FOUT_total</th><td> **0.75950596**</td><td>1          </td><td> **0.61744127**</td><td>1          </td></tr>\n",
    "\t<tr><th scope=row>MLOC_max</th><td> **0.58043902**</td><td>1          </td><td> **0.51644209**</td><td>1          </td></tr>\n",
    "\t<tr><th scope=row>NBD_max</th><td> **0.67429189**</td><td>1          </td><td> **0.54935675**</td><td>1          </td></tr>\n",
    "\t<tr><th scope=row>PAR_max</th><td> **0.49668204**</td><td>1          </td><td> **0.42127876**</td><td>1          </td></tr>\n",
    "\t<tr><th scope=row>VG_max</th><td> **0.55831789**</td><td>1          </td><td> **0.48964758**</td><td>1          </td></tr>\n",
    "\t<tr><th scope=row>FOUT_max</th><td> **0.65558626**</td><td>1          </td><td> **0.54146028**</td><td>1          </td></tr>\n",
    "\t<tr><th scope=row>MLOC_avg</th><td> **0.19590628**</td><td>1          </td><td> 0.32434948</td><td>1          </td></tr>\n",
    "\t<tr><th scope=row>NBD_avg</th><td> 0.11885558</td><td>0          </td><td> 0.30896735</td><td>0          </td></tr>\n",
    "\t<tr><th scope=row>PAR_avg</th><td>-0.06609494</td><td>0          </td><td> 0.12975451</td><td>0          </td></tr>\n",
    "\t<tr><th scope=row>VG_avg</th><td> 0.21140291</td><td>0          </td><td> 0.32177352</td><td>0          </td></tr>\n",
    "\t<tr><th scope=row>FOUT_avg</th><td> 0.23404345</td><td>0          </td><td> 0.38077630</td><td>0          </td></tr>\n",
    "</tbody>\n",
    "</table>"
   ]
  }
 ],
 "metadata": {
  "kernelspec": {
   "display_name": "R",
   "language": "R",
   "name": "ir"
  },
  "language_info": {
   "codemirror_mode": "r",
   "file_extension": ".r",
   "mimetype": "text/x-r-source",
   "name": "R",
   "pygments_lexer": "r",
   "version": "3.5.1"
  }
 },
 "nbformat": 4,
 "nbformat_minor": 2
}
