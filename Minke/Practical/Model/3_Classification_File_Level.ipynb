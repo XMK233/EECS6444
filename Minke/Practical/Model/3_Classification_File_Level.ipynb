{
 "cells": [
  {
   "cell_type": "markdown",
   "metadata": {},
   "source": [
    "### Fit the old code to our dataset. \n",
    "\n",
    "纸上得来终觉浅，绝知此事要躬行。"
   ]
  },
  {
   "cell_type": "code",
   "execution_count": 1,
   "metadata": {},
   "outputs": [
    {
     "name": "stderr",
     "output_type": "stream",
     "text": [
      "randomForest 4.6-14\n",
      "Type rfNews() to see new features/changes/bug fixes.\n",
      "Type 'citation(\"pROC\")' for a citation.\n",
      "\n",
      "Attaching package: 'pROC'\n",
      "\n",
      "The following objects are masked from 'package:stats':\n",
      "\n",
      "    cov, smooth, var\n",
      "\n",
      "Loading required package: gplots\n",
      "\n",
      "Attaching package: 'gplots'\n",
      "\n",
      "The following object is masked from 'package:stats':\n",
      "\n",
      "    lowess\n",
      "\n",
      "Loading required package: lattice\n",
      "Loading required package: ggplot2\n",
      "\n",
      "Attaching package: 'ggplot2'\n",
      "\n",
      "The following object is masked from 'package:randomForest':\n",
      "\n",
      "    margin\n",
      "\n"
     ]
    }
   ],
   "source": [
    "options(warn=-1)\n",
    "#import the package\n",
    "library(randomForest)\n",
    "library(pROC)\n",
    "library(ROCR)\n",
    "\n",
    "library(data.table)\n",
    "library(xgboost)\n",
    "library(caret)"
   ]
  },
  {
   "cell_type": "code",
   "execution_count": 2,
   "metadata": {},
   "outputs": [
    {
     "data": {
      "text/html": [
       "1112"
      ],
      "text/latex": [
       "1112"
      ],
      "text/markdown": [
       "1112"
      ],
      "text/plain": [
       "[1] 1112"
      ]
     },
     "metadata": {},
     "output_type": "display_data"
    },
    {
     "data": {
      "text/html": [
       "1100"
      ],
      "text/latex": [
       "1100"
      ],
      "text/markdown": [
       "1100"
      ],
      "text/plain": [
       "[1] 1100"
      ]
     },
     "metadata": {},
     "output_type": "display_data"
    },
    {
     "data": {
      "text/html": [
       "1094"
      ],
      "text/latex": [
       "1094"
      ],
      "text/markdown": [
       "1094"
      ],
      "text/plain": [
       "[1] 1094"
      ]
     },
     "metadata": {},
     "output_type": "display_data"
    }
   ],
   "source": [
    "files_32 <- read.table(\"../org.eclipse.jdt.core_3.2/dataset-_3.2-filelevel.csv\", header=T, sep=\",\")\n",
    "files_34 <- read.table(\"../org.eclipse.jdt.core_3.4/dataset-_3.4-filelevel.csv\", header=T, sep=\",\")\n",
    "files_35 <- read.table(\"../org.eclipse.jdt.core_3.5/dataset-_3.5-filelevel.csv\", header=T, sep=\",\")\n",
    "\n",
    "nrow(files_32)\n",
    "nrow(files_34)\n",
    "nrow(files_35)"
   ]
  },
  {
   "cell_type": "markdown",
   "metadata": {},
   "source": [
    "### preprocess the dataframe to make it the same as example csv files. "
   ]
  },
  {
   "cell_type": "code",
   "execution_count": 3,
   "metadata": {},
   "outputs": [],
   "source": [
    "library(caret)\n",
    "library(RANN)\n",
    "data_preprocess <- function(dataset){\n",
    "    subSet_that_dont_need_preProcess <- dataset[c(\"pre\", \"post\")]\n",
    "    hehe <- preProcess(dataset, method = c(\"range\", \"knnImpute\")) \n",
    "    new_set <- predict(hehe, dataset)\n",
    "    new_set[c(\"pre\", \"post\")] <- subSet_that_dont_need_preProcess\n",
    "    return (new_set)\n",
    "}\n",
    "files_32 <- data_preprocess(files_32)\n",
    "files_34 <- data_preprocess(files_34)\n",
    "files_35 <- data_preprocess(files_35)"
   ]
  },
  {
   "cell_type": "code",
   "execution_count": 4,
   "metadata": {},
   "outputs": [],
   "source": [
    "files_32 = cbind(files_32[c(\"file\")], files_32[c(\"pre\", \"post\")], files_32[,1:18], files_32[,22:26])\n",
    "# files_32 <- na.omit(files_32)\n",
    "\n",
    "files_34 = cbind(files_34[c(\"file\")], files_34[c(\"pre\", \"post\")], files_34[,1:18], files_34[,22:26])\n",
    "# files_34 <- na.omit(files_34)\n",
    "\n",
    "files_35 = cbind(files_35[c(\"file\")], files_35[c(\"pre\", \"post\")], files_35[,1:18], files_35[,22:26])\n",
    "# files_35 <- na.omit(files_35)"
   ]
  },
  {
   "cell_type": "code",
   "execution_count": 5,
   "metadata": {},
   "outputs": [],
   "source": [
    "files_32$buggy = files_32$post > 0\n",
    "files_34$buggy = files_34$post > 0\n",
    "files_35$buggy = files_35$post > 0\n"
   ]
  },
  {
   "cell_type": "code",
   "execution_count": 6,
   "metadata": {},
   "outputs": [
    {
     "data": {
      "text/html": [
       "<table>\n",
       "<thead><tr><th scope=col>file</th><th scope=col>pre</th><th scope=col>post</th><th scope=col>NOT</th><th scope=col>NOI</th><th scope=col>TLOC</th><th scope=col>ACD</th><th scope=col>NSM</th><th scope=col>NSF</th><th scope=col>NOM</th><th scope=col>...</th><th scope=col>VG_total</th><th scope=col>VG_max</th><th scope=col>FOUT_total</th><th scope=col>FOUT_max</th><th scope=col>MLOC_avg</th><th scope=col>NBD_avg</th><th scope=col>PAR_avg</th><th scope=col>VG_avg</th><th scope=col>FOUT_avg</th><th scope=col>buggy</th></tr></thead>\n",
       "<tbody>\n",
       "\t<tr><td>eclipse\\org.eclipse.jdt.core\\compiler\\org\\eclipse\\jdt\\internal\\compiler\\lookup\\MethodVerifier.java           </td><td>1                                                                                                                     </td><td>0                                                                                                                     </td><td>1                                                                                                                     </td><td>0                                                                                                                     </td><td>0.0671290238                                                                                                          </td><td>0                                                                                                                     </td><td>0.0000000                                                                                                             </td><td>0.000000000                                                                                                           </td><td>0.079136691                                                                                                           </td><td>...                                                                                                                   </td><td>0.0951048951                                                                                                          </td><td>0.053462940                                                                                                           </td><td>0.102824041                                                                                                           </td><td>0.06993007                                                                                                            </td><td>0.065067419                                                                                                           </td><td>0.3806818                                                                                                             </td><td>0.20718816                                                                                                            </td><td>0.106542056                                                                                                           </td><td>0.22949495                                                                                                            </td><td>FALSE                                                                                                                 </td></tr>\n",
       "\t<tr><td>eclipse\\org.eclipse.jdt.core\\model\\org\\eclipse\\jdt\\core\\IClassFile.java                                        </td><td>0                                                                                                                     </td><td>0                                                                                                                     </td><td>0                                                                                                                     </td><td>1                                                                                                                     </td><td>0.0010468464                                                                                                          </td><td>0                                                                                                                     </td><td>0.0000000                                                                                                             </td><td>0.000000000                                                                                                           </td><td>0.016786571                                                                                                           </td><td>...                                                                                                                   </td><td>0.0032634033                                                                                                          </td><td>0.001215067                                                                                                           </td><td>0.000000000                                                                                                           </td><td>0.00000000                                                                                                            </td><td>0.000000000                                                                                                           </td><td>0.0000000                                                                                                             </td><td>0.15946844                                                                                                            </td><td>0.000000000                                                                                                           </td><td>0.00000000                                                                                                            </td><td>FALSE                                                                                                                 </td></tr>\n",
       "\t<tr><td>eclipse\\org.eclipse.jdt.core\\search\\org\\eclipse\\jdt\\core\\search\\TypeNameRequestor.java                        </td><td>0                                                                                                                     </td><td>0                                                                                                                     </td><td>1                                                                                                                     </td><td>0                                                                                                                     </td><td>0.0002617116                                                                                                          </td><td>0                                                                                                                     </td><td>0.0000000                                                                                                             </td><td>0.000000000                                                                                                           </td><td>0.002398082                                                                                                           </td><td>...                                                                                                                   </td><td>0.0004662005                                                                                                          </td><td>0.001215067                                                                                                           </td><td>0.000000000                                                                                                           </td><td>0.00000000                                                                                                            </td><td>0.005174036                                                                                                           </td><td>0.1875000                                                                                                             </td><td>0.69767442                                                                                                            </td><td>0.000000000                                                                                                           </td><td>0.00000000                                                                                                            </td><td>FALSE                                                                                                                 </td></tr>\n",
       "\t<tr><td>eclipse\\org.eclipse.jdt.core\\compiler\\org\\eclipse\\jdt\\internal\\compiler\\flow\\InsideSubRoutineFlowContext.java</td><td>0                                                                                                                     </td><td>0                                                                                                                     </td><td>1                                                                                                                     </td><td>0                                                                                                                     </td><td>0.0041873855                                                                                                          </td><td>0                                                                                                                     </td><td>0.0000000                                                                                                             </td><td>0.000000000                                                                                                           </td><td>0.014388489                                                                                                           </td><td>...                                                                                                                   </td><td>0.0041958042                                                                                                          </td><td>0.004860267                                                                                                           </td><td>0.005068791                                                                                                           </td><td>0.01398601                                                                                                            </td><td>0.018971464                                                                                                           </td><td>0.2500000                                                                                                             </td><td>0.06976744                                                                                                            </td><td>0.010280374                                                                                                           </td><td>0.06222222                                                                                                            </td><td>FALSE                                                                                                                 </td></tr>\n",
       "\t<tr><td>eclipse\\org.eclipse.jdt.core\\model\\org\\eclipse\\jdt\\internal\\core\\RenameElementsOperation.java                 </td><td>0                                                                                                                     </td><td>0                                                                                                                     </td><td>1                                                                                                                     </td><td>0                                                                                                                     </td><td>0.0047108087                                                                                                          </td><td>0                                                                                                                     </td><td>0.0000000                                                                                                             </td><td>0.000000000                                                                                                           </td><td>0.011990408                                                                                                           </td><td>...                                                                                                                   </td><td>0.0065268065                                                                                                          </td><td>0.008505468                                                                                                           </td><td>0.005792904                                                                                                           </td><td>0.01748252                                                                                                            </td><td>0.019661336                                                                                                           </td><td>0.1875000                                                                                                             </td><td>0.13953488                                                                                                            </td><td>0.037009346                                                                                                           </td><td>0.08533333                                                                                                            </td><td>FALSE                                                                                                                 </td></tr>\n",
       "\t<tr><td>eclipse\\org.eclipse.jdt.core\\dom\\org\\eclipse\\jdt\\core\\dom\\ThisExpression.java                                 </td><td>0                                                                                                                     </td><td>0                                                                                                                     </td><td>1                                                                                                                     </td><td>0                                                                                                                     </td><td>0.0088981942                                                                                                          </td><td>0                                                                                                                     </td><td>0.0078125                                                                                                             </td><td>0.006430868                                                                                                           </td><td>0.028776978                                                                                                           </td><td>...                                                                                                                   </td><td>0.0074592075                                                                                                          </td><td>0.003645200                                                                                                           </td><td>0.014482259                                                                                                           </td><td>0.02097902                                                                                                            </td><td>0.018540295                                                                                                           </td><td>0.2343750                                                                                                             </td><td>0.12790698                                                                                                            </td><td>0.006853583                                                                                                           </td><td>0.08888889                                                                                                            </td><td>FALSE                                                                                                                 </td></tr>\n",
       "</tbody>\n",
       "</table>\n"
      ],
      "text/latex": [
       "\\begin{tabular}{r|lllllllllllllllllllllllllll}\n",
       " file & pre & post & NOT & NOI & TLOC & ACD & NSM & NSF & NOM & ... & VG\\_total & VG\\_max & FOUT\\_total & FOUT\\_max & MLOC\\_avg & NBD\\_avg & PAR\\_avg & VG\\_avg & FOUT\\_avg & buggy\\\\\n",
       "\\hline\n",
       "\t eclipse\\textbackslash{}org.eclipse.jdt.core\\textbackslash{}compiler\\textbackslash{}org\\textbackslash{}eclipse\\textbackslash{}jdt\\textbackslash{}internal\\textbackslash{}compiler\\textbackslash{}lookup\\textbackslash{}MethodVerifier.java            & 1                                                                                                                                                                                                                                                             & 0                                                                                                                                                                                                                                                             & 1                                                                                                                                                                                                                                                             & 0                                                                                                                                                                                                                                                             & 0.0671290238                                                                                                                                                                                                                                                  & 0                                                                                                                                                                                                                                                             & 0.0000000                                                                                                                                                                                                                                                     & 0.000000000                                                                                                                                                                                                                                                   & 0.079136691                                                                                                                                                                                                                                                   & ...                                                                                                                                                                                                                                                           & 0.0951048951                                                                                                                                                                                                                                                  & 0.053462940                                                                                                                                                                                                                                                   & 0.102824041                                                                                                                                                                                                                                                   & 0.06993007                                                                                                                                                                                                                                                    & 0.065067419                                                                                                                                                                                                                                                   & 0.3806818                                                                                                                                                                                                                                                     & 0.20718816                                                                                                                                                                                                                                                    & 0.106542056                                                                                                                                                                                                                                                   & 0.22949495                                                                                                                                                                                                                                                    & FALSE                                                                                                                                                                                                                                                        \\\\\n",
       "\t eclipse\\textbackslash{}org.eclipse.jdt.core\\textbackslash{}model\\textbackslash{}org\\textbackslash{}eclipse\\textbackslash{}jdt\\textbackslash{}core\\textbackslash{}IClassFile.java                                         & 0                                                                                                                                                                                                                               & 0                                                                                                                                                                                                                               & 0                                                                                                                                                                                                                               & 1                                                                                                                                                                                                                               & 0.0010468464                                                                                                                                                                                                                    & 0                                                                                                                                                                                                                               & 0.0000000                                                                                                                                                                                                                       & 0.000000000                                                                                                                                                                                                                     & 0.016786571                                                                                                                                                                                                                     & ...                                                                                                                                                                                                                             & 0.0032634033                                                                                                                                                                                                                    & 0.001215067                                                                                                                                                                                                                     & 0.000000000                                                                                                                                                                                                                     & 0.00000000                                                                                                                                                                                                                      & 0.000000000                                                                                                                                                                                                                     & 0.0000000                                                                                                                                                                                                                       & 0.15946844                                                                                                                                                                                                                      & 0.000000000                                                                                                                                                                                                                     & 0.00000000                                                                                                                                                                                                                      & FALSE                                                                                                                                                                                                                          \\\\\n",
       "\t eclipse\\textbackslash{}org.eclipse.jdt.core\\textbackslash{}search\\textbackslash{}org\\textbackslash{}eclipse\\textbackslash{}jdt\\textbackslash{}core\\textbackslash{}search\\textbackslash{}TypeNameRequestor.java                         & 0                                                                                                                                                                                                                                              & 0                                                                                                                                                                                                                                              & 1                                                                                                                                                                                                                                              & 0                                                                                                                                                                                                                                              & 0.0002617116                                                                                                                                                                                                                                   & 0                                                                                                                                                                                                                                              & 0.0000000                                                                                                                                                                                                                                      & 0.000000000                                                                                                                                                                                                                                    & 0.002398082                                                                                                                                                                                                                                    & ...                                                                                                                                                                                                                                            & 0.0004662005                                                                                                                                                                                                                                   & 0.001215067                                                                                                                                                                                                                                    & 0.000000000                                                                                                                                                                                                                                    & 0.00000000                                                                                                                                                                                                                                     & 0.005174036                                                                                                                                                                                                                                    & 0.1875000                                                                                                                                                                                                                                      & 0.69767442                                                                                                                                                                                                                                     & 0.000000000                                                                                                                                                                                                                                    & 0.00000000                                                                                                                                                                                                                                     & FALSE                                                                                                                                                                                                                                         \\\\\n",
       "\t eclipse\\textbackslash{}org.eclipse.jdt.core\\textbackslash{}compiler\\textbackslash{}org\\textbackslash{}eclipse\\textbackslash{}jdt\\textbackslash{}internal\\textbackslash{}compiler\\textbackslash{}flow\\textbackslash{}InsideSubRoutineFlowContext.java & 0                                                                                                                                                                                                                                                             & 0                                                                                                                                                                                                                                                             & 1                                                                                                                                                                                                                                                             & 0                                                                                                                                                                                                                                                             & 0.0041873855                                                                                                                                                                                                                                                  & 0                                                                                                                                                                                                                                                             & 0.0000000                                                                                                                                                                                                                                                     & 0.000000000                                                                                                                                                                                                                                                   & 0.014388489                                                                                                                                                                                                                                                   & ...                                                                                                                                                                                                                                                           & 0.0041958042                                                                                                                                                                                                                                                  & 0.004860267                                                                                                                                                                                                                                                   & 0.005068791                                                                                                                                                                                                                                                   & 0.01398601                                                                                                                                                                                                                                                    & 0.018971464                                                                                                                                                                                                                                                   & 0.2500000                                                                                                                                                                                                                                                     & 0.06976744                                                                                                                                                                                                                                                    & 0.010280374                                                                                                                                                                                                                                                   & 0.06222222                                                                                                                                                                                                                                                    & FALSE                                                                                                                                                                                                                                                        \\\\\n",
       "\t eclipse\\textbackslash{}org.eclipse.jdt.core\\textbackslash{}model\\textbackslash{}org\\textbackslash{}eclipse\\textbackslash{}jdt\\textbackslash{}internal\\textbackslash{}core\\textbackslash{}RenameElementsOperation.java                  & 0                                                                                                                                                                                                                                              & 0                                                                                                                                                                                                                                              & 1                                                                                                                                                                                                                                              & 0                                                                                                                                                                                                                                              & 0.0047108087                                                                                                                                                                                                                                   & 0                                                                                                                                                                                                                                              & 0.0000000                                                                                                                                                                                                                                      & 0.000000000                                                                                                                                                                                                                                    & 0.011990408                                                                                                                                                                                                                                    & ...                                                                                                                                                                                                                                            & 0.0065268065                                                                                                                                                                                                                                   & 0.008505468                                                                                                                                                                                                                                    & 0.005792904                                                                                                                                                                                                                                    & 0.01748252                                                                                                                                                                                                                                     & 0.019661336                                                                                                                                                                                                                                    & 0.1875000                                                                                                                                                                                                                                      & 0.13953488                                                                                                                                                                                                                                     & 0.037009346                                                                                                                                                                                                                                    & 0.08533333                                                                                                                                                                                                                                     & FALSE                                                                                                                                                                                                                                         \\\\\n",
       "\t eclipse\\textbackslash{}org.eclipse.jdt.core\\textbackslash{}dom\\textbackslash{}org\\textbackslash{}eclipse\\textbackslash{}jdt\\textbackslash{}core\\textbackslash{}dom\\textbackslash{}ThisExpression.java                                  & 0                                                                                                                                                                                                                                              & 0                                                                                                                                                                                                                                              & 1                                                                                                                                                                                                                                              & 0                                                                                                                                                                                                                                              & 0.0088981942                                                                                                                                                                                                                                   & 0                                                                                                                                                                                                                                              & 0.0078125                                                                                                                                                                                                                                      & 0.006430868                                                                                                                                                                                                                                    & 0.028776978                                                                                                                                                                                                                                    & ...                                                                                                                                                                                                                                            & 0.0074592075                                                                                                                                                                                                                                   & 0.003645200                                                                                                                                                                                                                                    & 0.014482259                                                                                                                                                                                                                                    & 0.02097902                                                                                                                                                                                                                                     & 0.018540295                                                                                                                                                                                                                                    & 0.2343750                                                                                                                                                                                                                                      & 0.12790698                                                                                                                                                                                                                                     & 0.006853583                                                                                                                                                                                                                                    & 0.08888889                                                                                                                                                                                                                                     & FALSE                                                                                                                                                                                                                                         \\\\\n",
       "\\end{tabular}\n"
      ],
      "text/markdown": [
       "\n",
       "| file | pre | post | NOT | NOI | TLOC | ACD | NSM | NSF | NOM | ... | VG_total | VG_max | FOUT_total | FOUT_max | MLOC_avg | NBD_avg | PAR_avg | VG_avg | FOUT_avg | buggy |\n",
       "|---|---|---|---|---|---|---|---|---|---|---|---|---|---|---|---|---|---|---|---|---|\n",
       "| eclipse\\org.eclipse.jdt.core\\compiler\\org\\eclipse\\jdt\\internal\\compiler\\lookup\\MethodVerifier.java            | 1                                                                                                                      | 0                                                                                                                      | 1                                                                                                                      | 0                                                                                                                      | 0.0671290238                                                                                                           | 0                                                                                                                      | 0.0000000                                                                                                              | 0.000000000                                                                                                            | 0.079136691                                                                                                            | ...                                                                                                                    | 0.0951048951                                                                                                           | 0.053462940                                                                                                            | 0.102824041                                                                                                            | 0.06993007                                                                                                             | 0.065067419                                                                                                            | 0.3806818                                                                                                              | 0.20718816                                                                                                             | 0.106542056                                                                                                            | 0.22949495                                                                                                             | FALSE                                                                                                                  |\n",
       "| eclipse\\org.eclipse.jdt.core\\model\\org\\eclipse\\jdt\\core\\IClassFile.java                                         | 0                                                                                                                      | 0                                                                                                                      | 0                                                                                                                      | 1                                                                                                                      | 0.0010468464                                                                                                           | 0                                                                                                                      | 0.0000000                                                                                                              | 0.000000000                                                                                                            | 0.016786571                                                                                                            | ...                                                                                                                    | 0.0032634033                                                                                                           | 0.001215067                                                                                                            | 0.000000000                                                                                                            | 0.00000000                                                                                                             | 0.000000000                                                                                                            | 0.0000000                                                                                                              | 0.15946844                                                                                                             | 0.000000000                                                                                                            | 0.00000000                                                                                                             | FALSE                                                                                                                  |\n",
       "| eclipse\\org.eclipse.jdt.core\\search\\org\\eclipse\\jdt\\core\\search\\TypeNameRequestor.java                         | 0                                                                                                                      | 0                                                                                                                      | 1                                                                                                                      | 0                                                                                                                      | 0.0002617116                                                                                                           | 0                                                                                                                      | 0.0000000                                                                                                              | 0.000000000                                                                                                            | 0.002398082                                                                                                            | ...                                                                                                                    | 0.0004662005                                                                                                           | 0.001215067                                                                                                            | 0.000000000                                                                                                            | 0.00000000                                                                                                             | 0.005174036                                                                                                            | 0.1875000                                                                                                              | 0.69767442                                                                                                             | 0.000000000                                                                                                            | 0.00000000                                                                                                             | FALSE                                                                                                                  |\n",
       "| eclipse\\org.eclipse.jdt.core\\compiler\\org\\eclipse\\jdt\\internal\\compiler\\flow\\InsideSubRoutineFlowContext.java | 0                                                                                                                      | 0                                                                                                                      | 1                                                                                                                      | 0                                                                                                                      | 0.0041873855                                                                                                           | 0                                                                                                                      | 0.0000000                                                                                                              | 0.000000000                                                                                                            | 0.014388489                                                                                                            | ...                                                                                                                    | 0.0041958042                                                                                                           | 0.004860267                                                                                                            | 0.005068791                                                                                                            | 0.01398601                                                                                                             | 0.018971464                                                                                                            | 0.2500000                                                                                                              | 0.06976744                                                                                                             | 0.010280374                                                                                                            | 0.06222222                                                                                                             | FALSE                                                                                                                  |\n",
       "| eclipse\\org.eclipse.jdt.core\\model\\org\\eclipse\\jdt\\internal\\core\\RenameElementsOperation.java                  | 0                                                                                                                      | 0                                                                                                                      | 1                                                                                                                      | 0                                                                                                                      | 0.0047108087                                                                                                           | 0                                                                                                                      | 0.0000000                                                                                                              | 0.000000000                                                                                                            | 0.011990408                                                                                                            | ...                                                                                                                    | 0.0065268065                                                                                                           | 0.008505468                                                                                                            | 0.005792904                                                                                                            | 0.01748252                                                                                                             | 0.019661336                                                                                                            | 0.1875000                                                                                                              | 0.13953488                                                                                                             | 0.037009346                                                                                                            | 0.08533333                                                                                                             | FALSE                                                                                                                  |\n",
       "| eclipse\\org.eclipse.jdt.core\\dom\\org\\eclipse\\jdt\\core\\dom\\ThisExpression.java                                  | 0                                                                                                                      | 0                                                                                                                      | 1                                                                                                                      | 0                                                                                                                      | 0.0088981942                                                                                                           | 0                                                                                                                      | 0.0078125                                                                                                              | 0.006430868                                                                                                            | 0.028776978                                                                                                            | ...                                                                                                                    | 0.0074592075                                                                                                           | 0.003645200                                                                                                            | 0.014482259                                                                                                            | 0.02097902                                                                                                             | 0.018540295                                                                                                            | 0.2343750                                                                                                              | 0.12790698                                                                                                             | 0.006853583                                                                                                            | 0.08888889                                                                                                             | FALSE                                                                                                                  |\n",
       "\n"
      ],
      "text/plain": [
       "  file                                                                                                                  \n",
       "1 eclipse\\\\org.eclipse.jdt.core\\\\compiler\\\\org\\\\eclipse\\\\jdt\\\\internal\\\\compiler\\\\lookup\\\\MethodVerifier.java           \n",
       "2 eclipse\\\\org.eclipse.jdt.core\\\\model\\\\org\\\\eclipse\\\\jdt\\\\core\\\\IClassFile.java                                        \n",
       "3 eclipse\\\\org.eclipse.jdt.core\\\\search\\\\org\\\\eclipse\\\\jdt\\\\core\\\\search\\\\TypeNameRequestor.java                        \n",
       "4 eclipse\\\\org.eclipse.jdt.core\\\\compiler\\\\org\\\\eclipse\\\\jdt\\\\internal\\\\compiler\\\\flow\\\\InsideSubRoutineFlowContext.java\n",
       "5 eclipse\\\\org.eclipse.jdt.core\\\\model\\\\org\\\\eclipse\\\\jdt\\\\internal\\\\core\\\\RenameElementsOperation.java                 \n",
       "6 eclipse\\\\org.eclipse.jdt.core\\\\dom\\\\org\\\\eclipse\\\\jdt\\\\core\\\\dom\\\\ThisExpression.java                                 \n",
       "  pre post NOT NOI TLOC         ACD NSM       NSF         NOM         ...\n",
       "1 1   0    1   0   0.0671290238 0   0.0000000 0.000000000 0.079136691 ...\n",
       "2 0   0    0   1   0.0010468464 0   0.0000000 0.000000000 0.016786571 ...\n",
       "3 0   0    1   0   0.0002617116 0   0.0000000 0.000000000 0.002398082 ...\n",
       "4 0   0    1   0   0.0041873855 0   0.0000000 0.000000000 0.014388489 ...\n",
       "5 0   0    1   0   0.0047108087 0   0.0000000 0.000000000 0.011990408 ...\n",
       "6 0   0    1   0   0.0088981942 0   0.0078125 0.006430868 0.028776978 ...\n",
       "  VG_total     VG_max      FOUT_total  FOUT_max   MLOC_avg    NBD_avg  \n",
       "1 0.0951048951 0.053462940 0.102824041 0.06993007 0.065067419 0.3806818\n",
       "2 0.0032634033 0.001215067 0.000000000 0.00000000 0.000000000 0.0000000\n",
       "3 0.0004662005 0.001215067 0.000000000 0.00000000 0.005174036 0.1875000\n",
       "4 0.0041958042 0.004860267 0.005068791 0.01398601 0.018971464 0.2500000\n",
       "5 0.0065268065 0.008505468 0.005792904 0.01748252 0.019661336 0.1875000\n",
       "6 0.0074592075 0.003645200 0.014482259 0.02097902 0.018540295 0.2343750\n",
       "  PAR_avg    VG_avg      FOUT_avg   buggy\n",
       "1 0.20718816 0.106542056 0.22949495 FALSE\n",
       "2 0.15946844 0.000000000 0.00000000 FALSE\n",
       "3 0.69767442 0.000000000 0.00000000 FALSE\n",
       "4 0.06976744 0.010280374 0.06222222 FALSE\n",
       "5 0.13953488 0.037009346 0.08533333 FALSE\n",
       "6 0.12790698 0.006853583 0.08888889 FALSE"
      ]
     },
     "metadata": {},
     "output_type": "display_data"
    }
   ],
   "source": [
    "head(files_32)"
   ]
  },
  {
   "cell_type": "code",
   "execution_count": 7,
   "metadata": {},
   "outputs": [],
   "source": [
    "# col_name <- names(files_32)\n",
    "# env_vars <- col_name\n",
    "# for (env in env_vars){\n",
    "#    print(paste(env, \"+\"))\n",
    "# }\n",
    "# env_vars"
   ]
  },
  {
   "cell_type": "markdown",
   "metadata": {},
   "source": [
    "### Logistic Regression"
   ]
  },
  {
   "cell_type": "code",
   "execution_count": 11,
   "metadata": {},
   "outputs": [
    {
     "name": "stdout",
     "output_type": "stream",
     "text": [
      "Logistic regression classification fileLevel. \n",
      "x.y means that trained on x, predict on y\n",
      "\n",
      "------------------- 2.2 -------------------\n",
      "defects, precision, recall, accuracy \n"
     ]
    },
    {
     "data": {
      "text/html": [
       "<ol class=list-inline>\n",
       "\t<li>0.125</li>\n",
       "\t<li>0.631578947368421</li>\n",
       "\t<li>0.172661870503597</li>\n",
       "\t<li>0.883992805755396</li>\n",
       "</ol>\n"
      ],
      "text/latex": [
       "\\begin{enumerate*}\n",
       "\\item 0.125\n",
       "\\item 0.631578947368421\n",
       "\\item 0.172661870503597\n",
       "\\item 0.883992805755396\n",
       "\\end{enumerate*}\n"
      ],
      "text/markdown": [
       "1. 0.125\n",
       "2. 0.631578947368421\n",
       "3. 0.172661870503597\n",
       "4. 0.883992805755396\n",
       "\n",
       "\n"
      ],
      "text/plain": [
       "[1] 0.1250000 0.6315789 0.1726619 0.8839928"
      ]
     },
     "metadata": {},
     "output_type": "display_data"
    },
    {
     "name": "stdout",
     "output_type": "stream",
     "text": [
      "------------------- 2.4 -------------------\n",
      "defects, precision, recall, accuracy \n"
     ]
    },
    {
     "data": {
      "text/html": [
       "<ol class=list-inline>\n",
       "\t<li>0.136363636363636</li>\n",
       "\t<li>0.648648648648649</li>\n",
       "\t<li>0.16</li>\n",
       "\t<li>0.873636363636364</li>\n",
       "</ol>\n"
      ],
      "text/latex": [
       "\\begin{enumerate*}\n",
       "\\item 0.136363636363636\n",
       "\\item 0.648648648648649\n",
       "\\item 0.16\n",
       "\\item 0.873636363636364\n",
       "\\end{enumerate*}\n"
      ],
      "text/markdown": [
       "1. 0.136363636363636\n",
       "2. 0.648648648648649\n",
       "3. 0.16\n",
       "4. 0.873636363636364\n",
       "\n",
       "\n"
      ],
      "text/plain": [
       "[1] 0.1363636 0.6486486 0.1600000 0.8736364"
      ]
     },
     "metadata": {},
     "output_type": "display_data"
    },
    {
     "name": "stdout",
     "output_type": "stream",
     "text": [
      "------------------- 2.5 -------------------\n",
      "defects, precision, recall, accuracy \n"
     ]
    },
    {
     "data": {
      "text/html": [
       "<ol class=list-inline>\n",
       "\t<li>0.0786106032906764</li>\n",
       "\t<li>0.393939393939394</li>\n",
       "\t<li>0.151162790697674</li>\n",
       "\t<li>0.914990859232175</li>\n",
       "</ol>\n"
      ],
      "text/latex": [
       "\\begin{enumerate*}\n",
       "\\item 0.0786106032906764\n",
       "\\item 0.393939393939394\n",
       "\\item 0.151162790697674\n",
       "\\item 0.914990859232175\n",
       "\\end{enumerate*}\n"
      ],
      "text/markdown": [
       "1. 0.0786106032906764\n",
       "2. 0.393939393939394\n",
       "3. 0.151162790697674\n",
       "4. 0.914990859232175\n",
       "\n",
       "\n"
      ],
      "text/plain": [
       "[1] 0.0786106 0.3939394 0.1511628 0.9149909"
      ]
     },
     "metadata": {},
     "output_type": "display_data"
    },
    {
     "name": "stdout",
     "output_type": "stream",
     "text": [
      "------------------- 4.2 -------------------\n",
      "defects, precision, recall, accuracy \n"
     ]
    },
    {
     "data": {
      "text/html": [
       "<ol class=list-inline>\n",
       "\t<li>0.125</li>\n",
       "\t<li>0.286885245901639</li>\n",
       "\t<li>0.251798561151079</li>\n",
       "\t<li>0.828237410071942</li>\n",
       "</ol>\n"
      ],
      "text/latex": [
       "\\begin{enumerate*}\n",
       "\\item 0.125\n",
       "\\item 0.286885245901639\n",
       "\\item 0.251798561151079\n",
       "\\item 0.828237410071942\n",
       "\\end{enumerate*}\n"
      ],
      "text/markdown": [
       "1. 0.125\n",
       "2. 0.286885245901639\n",
       "3. 0.251798561151079\n",
       "4. 0.828237410071942\n",
       "\n",
       "\n"
      ],
      "text/plain": [
       "[1] 0.1250000 0.2868852 0.2517986 0.8282374"
      ]
     },
     "metadata": {},
     "output_type": "display_data"
    },
    {
     "name": "stdout",
     "output_type": "stream",
     "text": [
      "------------------- 4.4 -------------------\n",
      "defects, precision, recall, accuracy \n"
     ]
    },
    {
     "data": {
      "text/html": [
       "<ol class=list-inline>\n",
       "\t<li>0.136363636363636</li>\n",
       "\t<li>0.726027397260274</li>\n",
       "\t<li>0.353333333333333</li>\n",
       "\t<li>0.893636363636364</li>\n",
       "</ol>\n"
      ],
      "text/latex": [
       "\\begin{enumerate*}\n",
       "\\item 0.136363636363636\n",
       "\\item 0.726027397260274\n",
       "\\item 0.353333333333333\n",
       "\\item 0.893636363636364\n",
       "\\end{enumerate*}\n"
      ],
      "text/markdown": [
       "1. 0.136363636363636\n",
       "2. 0.726027397260274\n",
       "3. 0.353333333333333\n",
       "4. 0.893636363636364\n",
       "\n",
       "\n"
      ],
      "text/plain": [
       "[1] 0.1363636 0.7260274 0.3533333 0.8936364"
      ]
     },
     "metadata": {},
     "output_type": "display_data"
    },
    {
     "name": "stdout",
     "output_type": "stream",
     "text": [
      "------------------- 4.5 -------------------\n",
      "defects, precision, recall, accuracy \n"
     ]
    },
    {
     "data": {
      "text/html": [
       "<ol class=list-inline>\n",
       "\t<li>0.0786106032906764</li>\n",
       "\t<li>0.259615384615385</li>\n",
       "\t<li>0.313953488372093</li>\n",
       "\t<li>0.875685557586837</li>\n",
       "</ol>\n"
      ],
      "text/latex": [
       "\\begin{enumerate*}\n",
       "\\item 0.0786106032906764\n",
       "\\item 0.259615384615385\n",
       "\\item 0.313953488372093\n",
       "\\item 0.875685557586837\n",
       "\\end{enumerate*}\n"
      ],
      "text/markdown": [
       "1. 0.0786106032906764\n",
       "2. 0.259615384615385\n",
       "3. 0.313953488372093\n",
       "4. 0.875685557586837\n",
       "\n",
       "\n"
      ],
      "text/plain": [
       "[1] 0.0786106 0.2596154 0.3139535 0.8756856"
      ]
     },
     "metadata": {},
     "output_type": "display_data"
    },
    {
     "name": "stdout",
     "output_type": "stream",
     "text": [
      "------------------- 5.2 -------------------\n",
      "defects, precision, recall, accuracy \n"
     ]
    },
    {
     "data": {
      "text/html": [
       "<ol class=list-inline>\n",
       "\t<li>0.125</li>\n",
       "\t<li>0.571428571428571</li>\n",
       "\t<li>0.0863309352517986</li>\n",
       "\t<li>0.877697841726619</li>\n",
       "</ol>\n"
      ],
      "text/latex": [
       "\\begin{enumerate*}\n",
       "\\item 0.125\n",
       "\\item 0.571428571428571\n",
       "\\item 0.0863309352517986\n",
       "\\item 0.877697841726619\n",
       "\\end{enumerate*}\n"
      ],
      "text/markdown": [
       "1. 0.125\n",
       "2. 0.571428571428571\n",
       "3. 0.0863309352517986\n",
       "4. 0.877697841726619\n",
       "\n",
       "\n"
      ],
      "text/plain": [
       "[1] 0.12500000 0.57142857 0.08633094 0.87769784"
      ]
     },
     "metadata": {},
     "output_type": "display_data"
    },
    {
     "name": "stdout",
     "output_type": "stream",
     "text": [
      "------------------- 5.3 -------------------\n",
      "defects, precision, recall, accuracy \n"
     ]
    },
    {
     "data": {
      "text/html": [
       "<ol class=list-inline>\n",
       "\t<li>0.136363636363636</li>\n",
       "\t<li>0.708333333333333</li>\n",
       "\t<li>0.113333333333333</li>\n",
       "\t<li>0.872727272727273</li>\n",
       "</ol>\n"
      ],
      "text/latex": [
       "\\begin{enumerate*}\n",
       "\\item 0.136363636363636\n",
       "\\item 0.708333333333333\n",
       "\\item 0.113333333333333\n",
       "\\item 0.872727272727273\n",
       "\\end{enumerate*}\n"
      ],
      "text/markdown": [
       "1. 0.136363636363636\n",
       "2. 0.708333333333333\n",
       "3. 0.113333333333333\n",
       "4. 0.872727272727273\n",
       "\n",
       "\n"
      ],
      "text/plain": [
       "[1] 0.1363636 0.7083333 0.1133333 0.8727273"
      ]
     },
     "metadata": {},
     "output_type": "display_data"
    },
    {
     "name": "stdout",
     "output_type": "stream",
     "text": [
      "------------------- 5.4 -------------------\n",
      "defects, precision, recall, accuracy \n"
     ]
    },
    {
     "data": {
      "text/html": [
       "<ol class=list-inline>\n",
       "\t<li>0.0786106032906764</li>\n",
       "\t<li>0.8125</li>\n",
       "\t<li>0.151162790697674</li>\n",
       "\t<li>0.930530164533821</li>\n",
       "</ol>\n"
      ],
      "text/latex": [
       "\\begin{enumerate*}\n",
       "\\item 0.0786106032906764\n",
       "\\item 0.8125\n",
       "\\item 0.151162790697674\n",
       "\\item 0.930530164533821\n",
       "\\end{enumerate*}\n"
      ],
      "text/markdown": [
       "1. 0.0786106032906764\n",
       "2. 0.8125\n",
       "3. 0.151162790697674\n",
       "4. 0.930530164533821\n",
       "\n",
       "\n"
      ],
      "text/plain": [
       "[1] 0.0786106 0.8125000 0.1511628 0.9305302"
      ]
     },
     "metadata": {},
     "output_type": "display_data"
    }
   ],
   "source": [
    "test_classification <- function (label, train, test) \n",
    "{\n",
    "    cat(\"-------------------\", label, \"-------------------\\n\")\n",
    "    model.glm <- glm((post>0) ~ \n",
    "                    NOT +\n",
    "                    NOI +\n",
    "                    TLOC +\n",
    "                    ACD +\n",
    "                    NSM +\n",
    "                    NSF +\n",
    "                    NOM +\n",
    "                    NOF +\n",
    "                    MLOC_total +\n",
    "                    MLOC_max +\n",
    "                    NBD_total +\n",
    "                    NBD_max +\n",
    "                    PAR_total +\n",
    "                    PAR_max +\n",
    "                    VG_total +\n",
    "                    VG_max +\n",
    "                    FOUT_total +\n",
    "                    FOUT_max +\n",
    "                    pre +\n",
    "                    MLOC_avg +\n",
    "                    NBD_avg +\n",
    "                    PAR_avg +\n",
    "                    VG_avg +\n",
    "                    FOUT_avg\n",
    "                    , data=train, family = \"binomial\")\n",
    "    test.prob <- predict(model.glm, test, type=\"response\")\n",
    "    test.pred <- test.prob>=0.50\n",
    "\n",
    "    outcome <- table(factor(test$post>0, levels=c(F,T)), factor(test.pred, levels=c(F,T)))\n",
    "    TN <- outcome[1,1]\n",
    "    FN <- outcome[2,1]\n",
    "    FP <- outcome[1,2]\n",
    "    TP <- outcome[2,2]\n",
    "    precision <- if (TP + FP ==0) { 1 } else { TP / (TP + FP) }\n",
    "    recall <- TP / (TP + FN)\n",
    "    accuracy <- (TP + TN) / (TN + FN + FP + TP)\n",
    "    defects <- (TP + FN) / (TN + FN + FP + TP)\n",
    "    cat(\"defects, precision, recall, accuracy \\n\")\n",
    "    return (c(defects, precision, recall, accuracy))\n",
    "}\n",
    "\n",
    "cat(\"Logistic regression classification fileLevel. \\nx.y means that trained on x, predict on y\\n\\n\")\n",
    "test_classification(2.2, files_32, files_32)\n",
    "test_classification(2.4, files_32, files_34)\n",
    "test_classification(2.5, files_32, files_35)\n",
    "\n",
    "test_classification(4.2,files_34, files_32)\n",
    "test_classification(4.4,files_34, files_34)\n",
    "test_classification(4.5,files_34, files_35)\n",
    "\n",
    "test_classification(5.2,files_35, files_32)\n",
    "test_classification(5.3,files_35, files_34)\n",
    "test_classification(5.4,files_35, files_35)"
   ]
  },
  {
   "cell_type": "markdown",
   "metadata": {},
   "source": [
    "Recall is low. Which means there are still a lot of the buggy file are not identified.\n",
    "\n",
    "But the precision are generally higher than `0.6`, it means when this model say \"this file is defect-prone\", this decision is most likely to be true. "
   ]
  },
  {
   "cell_type": "markdown",
   "metadata": {},
   "source": [
    "### Random Forest"
   ]
  },
  {
   "cell_type": "code",
   "execution_count": 9,
   "metadata": {},
   "outputs": [
    {
     "name": "stdout",
     "output_type": "stream",
     "text": [
      "Random Forest classification fileLevel. \n",
      "x.y means that trained on x, predict on y\n",
      "\n",
      "--------------- 2.2 ------------------- \n",
      "defects, precision, recall, accuracy, auc \n"
     ]
    },
    {
     "data": {
      "text/html": [
       "<ol class=list-inline>\n",
       "\t<li>0.125</li>\n",
       "\t<li>0.6</li>\n",
       "\t<li>0.151079136690647</li>\n",
       "\t<li>0.881294964028777</li>\n",
       "\t<li>0.998317892448631</li>\n",
       "</ol>\n"
      ],
      "text/latex": [
       "\\begin{enumerate*}\n",
       "\\item 0.125\n",
       "\\item 0.6\n",
       "\\item 0.151079136690647\n",
       "\\item 0.881294964028777\n",
       "\\item 0.998317892448631\n",
       "\\end{enumerate*}\n"
      ],
      "text/markdown": [
       "1. 0.125\n",
       "2. 0.6\n",
       "3. 0.151079136690647\n",
       "4. 0.881294964028777\n",
       "5. 0.998317892448631\n",
       "\n",
       "\n"
      ],
      "text/plain": [
       "[1] 0.1250000 0.6000000 0.1510791 0.8812950 0.9983179"
      ]
     },
     "metadata": {},
     "output_type": "display_data"
    },
    {
     "name": "stdout",
     "output_type": "stream",
     "text": [
      "--------------- 2.4 ------------------- \n",
      "defects, precision, recall, accuracy, auc \n"
     ]
    },
    {
     "data": {
      "text/html": [
       "<ol class=list-inline>\n",
       "\t<li>0.125</li>\n",
       "\t<li>0.617647058823529</li>\n",
       "\t<li>0.151079136690647</li>\n",
       "\t<li>0.882194244604317</li>\n",
       "\t<li>0.801094736842105</li>\n",
       "</ol>\n"
      ],
      "text/latex": [
       "\\begin{enumerate*}\n",
       "\\item 0.125\n",
       "\\item 0.617647058823529\n",
       "\\item 0.151079136690647\n",
       "\\item 0.882194244604317\n",
       "\\item 0.801094736842105\n",
       "\\end{enumerate*}\n"
      ],
      "text/markdown": [
       "1. 0.125\n",
       "2. 0.617647058823529\n",
       "3. 0.151079136690647\n",
       "4. 0.882194244604317\n",
       "5. 0.801094736842105\n",
       "\n",
       "\n"
      ],
      "text/plain": [
       "[1] 0.1250000 0.6176471 0.1510791 0.8821942 0.8010947"
      ]
     },
     "metadata": {},
     "output_type": "display_data"
    },
    {
     "name": "stdout",
     "output_type": "stream",
     "text": [
      "--------------- 2.5 ------------------- \n",
      "defects, precision, recall, accuracy, auc \n"
     ]
    },
    {
     "data": {
      "text/html": [
       "<ol class=list-inline>\n",
       "\t<li>0.125</li>\n",
       "\t<li>0.51219512195122</li>\n",
       "\t<li>0.151079136690647</li>\n",
       "\t<li>0.87589928057554</li>\n",
       "\t<li>0.806755260243632</li>\n",
       "</ol>\n"
      ],
      "text/latex": [
       "\\begin{enumerate*}\n",
       "\\item 0.125\n",
       "\\item 0.51219512195122\n",
       "\\item 0.151079136690647\n",
       "\\item 0.87589928057554\n",
       "\\item 0.806755260243632\n",
       "\\end{enumerate*}\n"
      ],
      "text/markdown": [
       "1. 0.125\n",
       "2. 0.51219512195122\n",
       "3. 0.151079136690647\n",
       "4. 0.87589928057554\n",
       "5. 0.806755260243632\n",
       "\n",
       "\n"
      ],
      "text/plain": [
       "[1] 0.1250000 0.5121951 0.1510791 0.8758993 0.8067553"
      ]
     },
     "metadata": {},
     "output_type": "display_data"
    },
    {
     "name": "stdout",
     "output_type": "stream",
     "text": [
      "--------------- 4.2 ------------------- \n",
      "defects, precision, recall, accuracy, auc \n"
     ]
    },
    {
     "data": {
      "text/html": [
       "<ol class=list-inline>\n",
       "\t<li>0.136363636363636</li>\n",
       "\t<li>0.670886075949367</li>\n",
       "\t<li>0.353333333333333</li>\n",
       "\t<li>0.888181818181818</li>\n",
       "\t<li>0.793141437518023</li>\n",
       "</ol>\n"
      ],
      "text/latex": [
       "\\begin{enumerate*}\n",
       "\\item 0.136363636363636\n",
       "\\item 0.670886075949367\n",
       "\\item 0.353333333333333\n",
       "\\item 0.888181818181818\n",
       "\\item 0.793141437518023\n",
       "\\end{enumerate*}\n"
      ],
      "text/markdown": [
       "1. 0.136363636363636\n",
       "2. 0.670886075949367\n",
       "3. 0.353333333333333\n",
       "4. 0.888181818181818\n",
       "5. 0.793141437518023\n",
       "\n",
       "\n"
      ],
      "text/plain": [
       "[1] 0.1363636 0.6708861 0.3533333 0.8881818 0.7931414"
      ]
     },
     "metadata": {},
     "output_type": "display_data"
    },
    {
     "name": "stdout",
     "output_type": "stream",
     "text": [
      "--------------- 4.4 ------------------- \n",
      "defects, precision, recall, accuracy, auc \n"
     ]
    },
    {
     "data": {
      "text/html": [
       "<ol class=list-inline>\n",
       "\t<li>0.136363636363636</li>\n",
       "\t<li>0.662921348314607</li>\n",
       "\t<li>0.393333333333333</li>\n",
       "\t<li>0.89</li>\n",
       "\t<li>0.999982456140351</li>\n",
       "</ol>\n"
      ],
      "text/latex": [
       "\\begin{enumerate*}\n",
       "\\item 0.136363636363636\n",
       "\\item 0.662921348314607\n",
       "\\item 0.393333333333333\n",
       "\\item 0.89\n",
       "\\item 0.999982456140351\n",
       "\\end{enumerate*}\n"
      ],
      "text/markdown": [
       "1. 0.136363636363636\n",
       "2. 0.662921348314607\n",
       "3. 0.393333333333333\n",
       "4. 0.89\n",
       "5. 0.999982456140351\n",
       "\n",
       "\n"
      ],
      "text/plain": [
       "[1] 0.1363636 0.6629213 0.3933333 0.8900000 0.9999825"
      ]
     },
     "metadata": {},
     "output_type": "display_data"
    },
    {
     "name": "stdout",
     "output_type": "stream",
     "text": [
      "--------------- 4.5 ------------------- \n",
      "defects, precision, recall, accuracy, auc \n"
     ]
    },
    {
     "data": {
      "text/html": [
       "<ol class=list-inline>\n",
       "\t<li>0.136363636363636</li>\n",
       "\t<li>0.654320987654321</li>\n",
       "\t<li>0.353333333333333</li>\n",
       "\t<li>0.886363636363636</li>\n",
       "\t<li>0.789053848283499</li>\n",
       "</ol>\n"
      ],
      "text/latex": [
       "\\begin{enumerate*}\n",
       "\\item 0.136363636363636\n",
       "\\item 0.654320987654321\n",
       "\\item 0.353333333333333\n",
       "\\item 0.886363636363636\n",
       "\\item 0.789053848283499\n",
       "\\end{enumerate*}\n"
      ],
      "text/markdown": [
       "1. 0.136363636363636\n",
       "2. 0.654320987654321\n",
       "3. 0.353333333333333\n",
       "4. 0.886363636363636\n",
       "5. 0.789053848283499\n",
       "\n",
       "\n"
      ],
      "text/plain": [
       "[1] 0.1363636 0.6543210 0.3533333 0.8863636 0.7890538"
      ]
     },
     "metadata": {},
     "output_type": "display_data"
    },
    {
     "name": "stdout",
     "output_type": "stream",
     "text": [
      "--------------- 5.2 ------------------- \n",
      "defects, precision, recall, accuracy, auc \n"
     ]
    },
    {
     "data": {
      "text/html": [
       "<ol class=list-inline>\n",
       "\t<li>0.0786106032906764</li>\n",
       "\t<li>0.615384615384615</li>\n",
       "\t<li>0.0930232558139535</li>\n",
       "\t<li>0.924131627056673</li>\n",
       "\t<li>0.777828713391055</li>\n",
       "</ol>\n"
      ],
      "text/latex": [
       "\\begin{enumerate*}\n",
       "\\item 0.0786106032906764\n",
       "\\item 0.615384615384615\n",
       "\\item 0.0930232558139535\n",
       "\\item 0.924131627056673\n",
       "\\item 0.777828713391055\n",
       "\\end{enumerate*}\n"
      ],
      "text/markdown": [
       "1. 0.0786106032906764\n",
       "2. 0.615384615384615\n",
       "3. 0.0930232558139535\n",
       "4. 0.924131627056673\n",
       "5. 0.777828713391055\n",
       "\n",
       "\n"
      ],
      "text/plain": [
       "[1] 0.07861060 0.61538462 0.09302326 0.92413163 0.77782871"
      ]
     },
     "metadata": {},
     "output_type": "display_data"
    },
    {
     "name": "stdout",
     "output_type": "stream",
     "text": [
      "--------------- 5.4 ------------------- \n",
      "defects, precision, recall, accuracy, auc \n"
     ]
    },
    {
     "data": {
      "text/html": [
       "<ol class=list-inline>\n",
       "\t<li>0.0786106032906764</li>\n",
       "\t<li>0.409090909090909</li>\n",
       "\t<li>0.104651162790698</li>\n",
       "\t<li>0.917733089579525</li>\n",
       "\t<li>0.775617543859649</li>\n",
       "</ol>\n"
      ],
      "text/latex": [
       "\\begin{enumerate*}\n",
       "\\item 0.0786106032906764\n",
       "\\item 0.409090909090909\n",
       "\\item 0.104651162790698\n",
       "\\item 0.917733089579525\n",
       "\\item 0.775617543859649\n",
       "\\end{enumerate*}\n"
      ],
      "text/markdown": [
       "1. 0.0786106032906764\n",
       "2. 0.409090909090909\n",
       "3. 0.104651162790698\n",
       "4. 0.917733089579525\n",
       "5. 0.775617543859649\n",
       "\n",
       "\n"
      ],
      "text/plain": [
       "[1] 0.0786106 0.4090909 0.1046512 0.9177331 0.7756175"
      ]
     },
     "metadata": {},
     "output_type": "display_data"
    },
    {
     "name": "stdout",
     "output_type": "stream",
     "text": [
      "--------------- 5.5 ------------------- \n",
      "defects, precision, recall, accuracy, auc \n"
     ]
    },
    {
     "data": {
      "text/html": [
       "<ol class=list-inline>\n",
       "\t<li>0.0786106032906764</li>\n",
       "\t<li>0.352941176470588</li>\n",
       "\t<li>0.0697674418604651</li>\n",
       "\t<li>0.916819012797075</li>\n",
       "\t<li>0.990979143595423</li>\n",
       "</ol>\n"
      ],
      "text/latex": [
       "\\begin{enumerate*}\n",
       "\\item 0.0786106032906764\n",
       "\\item 0.352941176470588\n",
       "\\item 0.0697674418604651\n",
       "\\item 0.916819012797075\n",
       "\\item 0.990979143595423\n",
       "\\end{enumerate*}\n"
      ],
      "text/markdown": [
       "1. 0.0786106032906764\n",
       "2. 0.352941176470588\n",
       "3. 0.0697674418604651\n",
       "4. 0.916819012797075\n",
       "5. 0.990979143595423\n",
       "\n",
       "\n"
      ],
      "text/plain": [
       "[1] 0.07861060 0.35294118 0.06976744 0.91681901 0.99097914"
      ]
     },
     "metadata": {},
     "output_type": "display_data"
    }
   ],
   "source": [
    "# Perform training:\n",
    "test_classification <- function (label, train, testSet, graph_name) {\n",
    "    cat(\"---------------\", label, \"-------------------\", \"\\n\")\n",
    "    rf_classifier2 = randomForest(as.factor(buggy) ~\n",
    "\n",
    "                                                NOT +\n",
    "                                                NOI +\n",
    "                                                TLOC +\n",
    "                                                ACD +\n",
    "                                                NSM +\n",
    "                                                NSF +\n",
    "                                                NOM +\n",
    "                                                NOF +\n",
    "                                                MLOC_total +\n",
    "                                                MLOC_max +\n",
    "                                                NBD_total +\n",
    "                                                NBD_max +\n",
    "                                                PAR_total +\n",
    "                                                PAR_max +\n",
    "                                                VG_total +\n",
    "                                                VG_max +\n",
    "                                                FOUT_total +\n",
    "                                                FOUT_max +\n",
    "                                                pre +\n",
    "                                                MLOC_avg +\n",
    "                                                NBD_avg +\n",
    "                                                PAR_avg +\n",
    "                                                VG_avg +\n",
    "                                                FOUT_avg\n",
    "\n",
    "                                  , data=train, ntree=100, mtry=2, importance=TRUE)\n",
    "    # because of the as.factor(...), randomforest can fit a classification model. \n",
    "#     print(rf_classifier2$confusion)\n",
    "    \n",
    "    TN <- rf_classifier2$confusion[1,1]\n",
    "    FN <- rf_classifier2$confusion[2,1]\n",
    "    FP <- rf_classifier2$confusion[1,2]\n",
    "    TP <- rf_classifier2$confusion[2,2]\n",
    "    precision <- if (TP + FP ==0) { 1 } else { TP / (TP + FP) }\n",
    "    recall <- TP / (TP + FN)\n",
    "    accuracy <- (TP + TN) / (TN + FN + FP + TP)\n",
    "    defects <- (TP + FN) / (TN + FN + FP + TP)\n",
    "    \n",
    "    # print(importance(rf_classifier2))\n",
    "    pdf(file=graph_name, width = 11, height = 8.5)\n",
    "    varImpPlot(rf_classifier2, main = label)\n",
    "    dev.off()\n",
    "\n",
    "    rf_p_train <- predict(rf_classifier2, type=\"prob\", newdata = testSet)[,2]\n",
    "    rf_pr_train <- prediction(rf_p_train, testSet$buggy)\n",
    "    r_auc_train <- performance(rf_pr_train, measure = \"auc\")@y.values[[1]] \n",
    "#     print(r_auc_train)\n",
    "#     cat(\"--------------------------------------\\n\\n\\n\\n\")\n",
    "    cat(\"defects, precision, recall, accuracy, auc \\n\")\n",
    "    return (c(defects, precision, recall, accuracy, r_auc_train))\n",
    "}\n",
    "\n",
    "cat(\"Random Forest classification fileLevel. \\nx.y means that trained on x, predict on y\\n\\n\")\n",
    "test_classification(2.2, files_32, files_32, \"RF_2.2_fileLevel.pdf\")\n",
    "test_classification(2.4, files_32, files_34, \"RF_2.4_fileLevel.pdf\")\n",
    "test_classification(2.5, files_32, files_35, \"RF_2.5_fileLevel.pdf\")\n",
    "\n",
    "test_classification(4.2, files_34, files_32, \"RF_4.2_fileLevel.pdf\")\n",
    "test_classification(4.4, files_34, files_34, \"RF_4.4_fileLevel.pdf\")\n",
    "test_classification(4.5, files_34, files_35, \"RF_4.5_fileLevel.pdf\")\n",
    "\n",
    "test_classification(5.2, files_35, files_32, \"RF_5.2_fileLevel.pdf\")\n",
    "test_classification(5.4, files_35, files_34, \"RF_5.4_fileLevel.pdf\")\n",
    "test_classification(5.5, files_35, files_35, \"RF_5.5_fileLevel.pdf\")"
   ]
  },
  {
   "cell_type": "markdown",
   "metadata": {},
   "source": [
    "### XGBoost"
   ]
  },
  {
   "cell_type": "code",
   "execution_count": 10,
   "metadata": {},
   "outputs": [
    {
     "name": "stdout",
     "output_type": "stream",
     "text": [
      "XGBoost classification fileLevel \n",
      "x.y means that trained on x, predict on y\n",
      "\n",
      "--------------- 2.2 ------------------- \n",
      "defects, precision, recall, accuracy \n"
     ]
    },
    {
     "data": {
      "text/html": [
       "<ol class=list-inline>\n",
       "\t<li>0.125</li>\n",
       "\t<li>1</li>\n",
       "\t<li>0.992805755395683</li>\n",
       "\t<li>0.99910071942446</li>\n",
       "</ol>\n"
      ],
      "text/latex": [
       "\\begin{enumerate*}\n",
       "\\item 0.125\n",
       "\\item 1\n",
       "\\item 0.992805755395683\n",
       "\\item 0.99910071942446\n",
       "\\end{enumerate*}\n"
      ],
      "text/markdown": [
       "1. 0.125\n",
       "2. 1\n",
       "3. 0.992805755395683\n",
       "4. 0.99910071942446\n",
       "\n",
       "\n"
      ],
      "text/plain": [
       "[1] 0.1250000 1.0000000 0.9928058 0.9991007"
      ]
     },
     "metadata": {},
     "output_type": "display_data"
    },
    {
     "name": "stdout",
     "output_type": "stream",
     "text": [
      "--------------- 2.4 ------------------- \n",
      "defects, precision, recall, accuracy \n"
     ]
    },
    {
     "data": {
      "text/html": [
       "<ol class=list-inline>\n",
       "\t<li>0.136363636363636</li>\n",
       "\t<li>0.428571428571429</li>\n",
       "\t<li>0.38</li>\n",
       "\t<li>0.846363636363636</li>\n",
       "</ol>\n"
      ],
      "text/latex": [
       "\\begin{enumerate*}\n",
       "\\item 0.136363636363636\n",
       "\\item 0.428571428571429\n",
       "\\item 0.38\n",
       "\\item 0.846363636363636\n",
       "\\end{enumerate*}\n"
      ],
      "text/markdown": [
       "1. 0.136363636363636\n",
       "2. 0.428571428571429\n",
       "3. 0.38\n",
       "4. 0.846363636363636\n",
       "\n",
       "\n"
      ],
      "text/plain": [
       "[1] 0.1363636 0.4285714 0.3800000 0.8463636"
      ]
     },
     "metadata": {},
     "output_type": "display_data"
    },
    {
     "name": "stdout",
     "output_type": "stream",
     "text": [
      "--------------- 2.5 ------------------- \n",
      "defects, precision, recall, accuracy \n"
     ]
    },
    {
     "data": {
      "text/html": [
       "<ol class=list-inline>\n",
       "\t<li>0.0786106032906764</li>\n",
       "\t<li>0.297520661157025</li>\n",
       "\t<li>0.418604651162791</li>\n",
       "\t<li>0.876599634369287</li>\n",
       "</ol>\n"
      ],
      "text/latex": [
       "\\begin{enumerate*}\n",
       "\\item 0.0786106032906764\n",
       "\\item 0.297520661157025\n",
       "\\item 0.418604651162791\n",
       "\\item 0.876599634369287\n",
       "\\end{enumerate*}\n"
      ],
      "text/markdown": [
       "1. 0.0786106032906764\n",
       "2. 0.297520661157025\n",
       "3. 0.418604651162791\n",
       "4. 0.876599634369287\n",
       "\n",
       "\n"
      ],
      "text/plain": [
       "[1] 0.0786106 0.2975207 0.4186047 0.8765996"
      ]
     },
     "metadata": {},
     "output_type": "display_data"
    },
    {
     "name": "stdout",
     "output_type": "stream",
     "text": [
      "--------------- 4.2 ------------------- \n",
      "defects, precision, recall, accuracy \n"
     ]
    },
    {
     "data": {
      "text/html": [
       "<ol class=list-inline>\n",
       "\t<li>0.125</li>\n",
       "\t<li>0.3875</li>\n",
       "\t<li>0.446043165467626</li>\n",
       "\t<li>0.842625899280576</li>\n",
       "</ol>\n"
      ],
      "text/latex": [
       "\\begin{enumerate*}\n",
       "\\item 0.125\n",
       "\\item 0.3875\n",
       "\\item 0.446043165467626\n",
       "\\item 0.842625899280576\n",
       "\\end{enumerate*}\n"
      ],
      "text/markdown": [
       "1. 0.125\n",
       "2. 0.3875\n",
       "3. 0.446043165467626\n",
       "4. 0.842625899280576\n",
       "\n",
       "\n"
      ],
      "text/plain": [
       "[1] 0.1250000 0.3875000 0.4460432 0.8426259"
      ]
     },
     "metadata": {},
     "output_type": "display_data"
    },
    {
     "name": "stdout",
     "output_type": "stream",
     "text": [
      "--------------- 4.4 ------------------- \n",
      "defects, precision, recall, accuracy \n"
     ]
    },
    {
     "data": {
      "text/html": [
       "<ol class=list-inline>\n",
       "\t<li>0.136363636363636</li>\n",
       "\t<li>1</li>\n",
       "\t<li>0.993333333333333</li>\n",
       "\t<li>0.999090909090909</li>\n",
       "</ol>\n"
      ],
      "text/latex": [
       "\\begin{enumerate*}\n",
       "\\item 0.136363636363636\n",
       "\\item 1\n",
       "\\item 0.993333333333333\n",
       "\\item 0.999090909090909\n",
       "\\end{enumerate*}\n"
      ],
      "text/markdown": [
       "1. 0.136363636363636\n",
       "2. 1\n",
       "3. 0.993333333333333\n",
       "4. 0.999090909090909\n",
       "\n",
       "\n"
      ],
      "text/plain": [
       "[1] 0.1363636 1.0000000 0.9933333 0.9990909"
      ]
     },
     "metadata": {},
     "output_type": "display_data"
    },
    {
     "name": "stdout",
     "output_type": "stream",
     "text": [
      "--------------- 4.5 ------------------- \n",
      "defects, precision, recall, accuracy \n"
     ]
    },
    {
     "data": {
      "text/html": [
       "<ol class=list-inline>\n",
       "\t<li>0.0786106032906764</li>\n",
       "\t<li>0.24025974025974</li>\n",
       "\t<li>0.430232558139535</li>\n",
       "\t<li>0.848263254113345</li>\n",
       "</ol>\n"
      ],
      "text/latex": [
       "\\begin{enumerate*}\n",
       "\\item 0.0786106032906764\n",
       "\\item 0.24025974025974\n",
       "\\item 0.430232558139535\n",
       "\\item 0.848263254113345\n",
       "\\end{enumerate*}\n"
      ],
      "text/markdown": [
       "1. 0.0786106032906764\n",
       "2. 0.24025974025974\n",
       "3. 0.430232558139535\n",
       "4. 0.848263254113345\n",
       "\n",
       "\n"
      ],
      "text/plain": [
       "[1] 0.0786106 0.2402597 0.4302326 0.8482633"
      ]
     },
     "metadata": {},
     "output_type": "display_data"
    },
    {
     "name": "stdout",
     "output_type": "stream",
     "text": [
      "--------------- 5.2 ------------------- \n",
      "defects, precision, recall, accuracy \n"
     ]
    },
    {
     "data": {
      "text/html": [
       "<ol class=list-inline>\n",
       "\t<li>0.125</li>\n",
       "\t<li>0.452380952380952</li>\n",
       "\t<li>0.273381294964029</li>\n",
       "\t<li>0.867805755395683</li>\n",
       "</ol>\n"
      ],
      "text/latex": [
       "\\begin{enumerate*}\n",
       "\\item 0.125\n",
       "\\item 0.452380952380952\n",
       "\\item 0.273381294964029\n",
       "\\item 0.867805755395683\n",
       "\\end{enumerate*}\n"
      ],
      "text/markdown": [
       "1. 0.125\n",
       "2. 0.452380952380952\n",
       "3. 0.273381294964029\n",
       "4. 0.867805755395683\n",
       "\n",
       "\n"
      ],
      "text/plain": [
       "[1] 0.1250000 0.4523810 0.2733813 0.8678058"
      ]
     },
     "metadata": {},
     "output_type": "display_data"
    },
    {
     "name": "stdout",
     "output_type": "stream",
     "text": [
      "--------------- 5.4 ------------------- \n",
      "defects, precision, recall, accuracy \n"
     ]
    },
    {
     "data": {
      "text/html": [
       "<ol class=list-inline>\n",
       "\t<li>0.136363636363636</li>\n",
       "\t<li>0.441558441558442</li>\n",
       "\t<li>0.226666666666667</li>\n",
       "\t<li>0.855454545454545</li>\n",
       "</ol>\n"
      ],
      "text/latex": [
       "\\begin{enumerate*}\n",
       "\\item 0.136363636363636\n",
       "\\item 0.441558441558442\n",
       "\\item 0.226666666666667\n",
       "\\item 0.855454545454545\n",
       "\\end{enumerate*}\n"
      ],
      "text/markdown": [
       "1. 0.136363636363636\n",
       "2. 0.441558441558442\n",
       "3. 0.226666666666667\n",
       "4. 0.855454545454545\n",
       "\n",
       "\n"
      ],
      "text/plain": [
       "[1] 0.1363636 0.4415584 0.2266667 0.8554545"
      ]
     },
     "metadata": {},
     "output_type": "display_data"
    },
    {
     "name": "stdout",
     "output_type": "stream",
     "text": [
      "--------------- 5.5 ------------------- \n",
      "defects, precision, recall, accuracy \n"
     ]
    },
    {
     "data": {
      "text/html": [
       "<ol class=list-inline>\n",
       "\t<li>0.0786106032906764</li>\n",
       "\t<li>1</li>\n",
       "\t<li>0.988372093023256</li>\n",
       "\t<li>0.99908592321755</li>\n",
       "</ol>\n"
      ],
      "text/latex": [
       "\\begin{enumerate*}\n",
       "\\item 0.0786106032906764\n",
       "\\item 1\n",
       "\\item 0.988372093023256\n",
       "\\item 0.99908592321755\n",
       "\\end{enumerate*}\n"
      ],
      "text/markdown": [
       "1. 0.0786106032906764\n",
       "2. 1\n",
       "3. 0.988372093023256\n",
       "4. 0.99908592321755\n",
       "\n",
       "\n"
      ],
      "text/plain": [
       "[1] 0.0786106 1.0000000 0.9883721 0.9990859"
      ]
     },
     "metadata": {},
     "output_type": "display_data"
    }
   ],
   "source": [
    "test_classification_xgb <- function (label, train, test, graph_name) {\n",
    "    cat(\"---------------\", label, \"-------------------\", \"\\n\")\n",
    "    \n",
    "    setDT(train)\n",
    "    setDT(test)\n",
    "    \n",
    "    labels <- train$buggy\n",
    "    ts_label <- test$buggy\n",
    "    new_tr <- model.matrix(~.+0,data = train[,-c(\"buggy\", \"post\", \"file\"),with=F])\n",
    "    new_ts <- model.matrix(~.+0,data = test[,-c(\"buggy\", \"post\", \"file\"),with=F])\n",
    "    labels <- as.numeric(labels) #-1\n",
    "    ts_label <- as.numeric(ts_label) #-1\n",
    "    dtrain <- xgb.DMatrix(data = new_tr, label = labels)\n",
    "    dtest <- xgb.DMatrix(data = new_ts,label=ts_label)\n",
    "\n",
    "    params <- list(\n",
    "            booster = \"gbtree\",\n",
    "            objective = \"binary:logistic\",\n",
    "            eta=0.3,\n",
    "            gamma=0,\n",
    "            max_depth=6,\n",
    "            min_child_weight=1,\n",
    "            subsample=1,\n",
    "            colsample_bytree=1\n",
    "    )\n",
    "\n",
    "#     xgbcv <- xgb.cv(params = params\n",
    "#                     ,data = dtrain\n",
    "#                     ,nrounds = 1000\n",
    "#                     ,nfold = 5\n",
    "#                     ,showsd = T\n",
    "#                     ,stratified = T\n",
    "#                     ,print.every.n = 10\n",
    "#                     ,early.stop.round = 20\n",
    "#                     ,maximize = F\n",
    "#     )\n",
    "\n",
    "    xgb1 <- xgb.train(\n",
    "               params = params\n",
    "              ,data = dtrain\n",
    "              ,nrounds = 57\n",
    "              ,watchlist = list(val=dtest,train=dtrain)\n",
    "              ,print.every.n = 10\n",
    "              ,early.stop.round = 10\n",
    "              ,maximize = F\n",
    "              ,eval_metric = \"error\"\n",
    "                ,verbose = 0\n",
    "    )\n",
    "\n",
    "    xgbpred <- predict(xgb1,dtest)\n",
    "    xgbpred <- ifelse(xgbpred > 0.5,1,0)\n",
    "    xgbpred[xgbpred == 1] <- TRUE\n",
    "    \n",
    "    cm <- confusionMatrix(factor(xgbpred), factor(ts_label))\n",
    "#     print(cm$table)\n",
    "    \n",
    "    TN <- as.numeric(cm$table[1])\n",
    "    FN <- as.numeric(cm$table[3])\n",
    "    FP <- as.numeric(cm$table[2])\n",
    "    TP <- as.numeric(cm$table[4])\n",
    "    precision <- if (TP + FP ==0) { 1 } else { TP / (TP + FP) }\n",
    "    recall <- TP / (TP + FN)\n",
    "    accuracy <- (TP + TN) / (TN + FN + FP + TP)\n",
    "    defects <- (TP + FN) / (TN + FN + FP + TP)\n",
    "\n",
    "    pdf(file=graph_name, width = 11, height = 8.5)\n",
    "    mat <- xgb.importance(feature_names = colnames(new_tr),model = xgb1)\n",
    "    xgb.plot.importance(importance_matrix = mat[1:20]) #first 20 variables\n",
    "    dev.off()\n",
    "    \n",
    "    cat(\"defects, precision, recall, accuracy \\n\")\n",
    "    return (c(defects, precision, recall, accuracy))\n",
    "}\n",
    "\n",
    "cat(\"XGBoost classification fileLevel \\nx.y means that trained on x, predict on y\\n\\n\")\n",
    "test_classification_xgb(2.2, files_32, files_32, \"XGB_2.2_fileLevel.pdf\")\n",
    "test_classification_xgb(2.4, files_32, files_34, \"XGB_2.4_fileLevel.pdf\")\n",
    "test_classification_xgb(2.5, files_32, files_35, \"XGB_2.5_fileLevel.pdf\")\n",
    "\n",
    "test_classification_xgb(4.2, files_34, files_32, \"XGB_4.2_fileLevel.pdf\")\n",
    "test_classification_xgb(4.4, files_34, files_34, \"XGB_4.4_fileLevel.pdf\")\n",
    "test_classification_xgb(4.5, files_34, files_35, \"XGB_4.5_fileLevel.pdf\")\n",
    "\n",
    "test_classification_xgb(5.2, files_35, files_32, \"XGB_5.2_fileLevel.pdf\")\n",
    "test_classification_xgb(5.4, files_35, files_34, \"XGB_5.4_fileLevel.pdf\")\n",
    "test_classification_xgb(5.5, files_35, files_35, \"XGB_5.5_fileLevel.pdf\")"
   ]
  },
  {
   "cell_type": "markdown",
   "metadata": {},
   "source": [
    "------------------------------------"
   ]
  },
  {
   "cell_type": "code",
   "execution_count": 19,
   "metadata": {},
   "outputs": [
    {
     "data": {
      "text/html": [
       "<ol class=list-inline>\n",
       "\t<li>'file'</li>\n",
       "\t<li>'pre'</li>\n",
       "\t<li>'post'</li>\n",
       "\t<li>'NOT'</li>\n",
       "\t<li>'NOI'</li>\n",
       "\t<li>'TLOC'</li>\n",
       "\t<li>'ACD'</li>\n",
       "\t<li>'NSM'</li>\n",
       "\t<li>'NSF'</li>\n",
       "\t<li>'NOM'</li>\n",
       "\t<li>'NOF'</li>\n",
       "\t<li>'MLOC_total'</li>\n",
       "\t<li>'MLOC_max'</li>\n",
       "\t<li>'NBD_total'</li>\n",
       "\t<li>'NBD_max'</li>\n",
       "\t<li>'PAR_total'</li>\n",
       "\t<li>'PAR_max'</li>\n",
       "\t<li>'VG_total'</li>\n",
       "\t<li>'VG_max'</li>\n",
       "\t<li>'FOUT_total'</li>\n",
       "\t<li>'FOUT_max'</li>\n",
       "\t<li>'MLOC_avg'</li>\n",
       "\t<li>'NBD_avg'</li>\n",
       "\t<li>'PAR_avg'</li>\n",
       "\t<li>'VG_avg'</li>\n",
       "\t<li>'FOUT_avg'</li>\n",
       "\t<li>'buggy'</li>\n",
       "</ol>\n"
      ],
      "text/latex": [
       "\\begin{enumerate*}\n",
       "\\item 'file'\n",
       "\\item 'pre'\n",
       "\\item 'post'\n",
       "\\item 'NOT'\n",
       "\\item 'NOI'\n",
       "\\item 'TLOC'\n",
       "\\item 'ACD'\n",
       "\\item 'NSM'\n",
       "\\item 'NSF'\n",
       "\\item 'NOM'\n",
       "\\item 'NOF'\n",
       "\\item 'MLOC\\_total'\n",
       "\\item 'MLOC\\_max'\n",
       "\\item 'NBD\\_total'\n",
       "\\item 'NBD\\_max'\n",
       "\\item 'PAR\\_total'\n",
       "\\item 'PAR\\_max'\n",
       "\\item 'VG\\_total'\n",
       "\\item 'VG\\_max'\n",
       "\\item 'FOUT\\_total'\n",
       "\\item 'FOUT\\_max'\n",
       "\\item 'MLOC\\_avg'\n",
       "\\item 'NBD\\_avg'\n",
       "\\item 'PAR\\_avg'\n",
       "\\item 'VG\\_avg'\n",
       "\\item 'FOUT\\_avg'\n",
       "\\item 'buggy'\n",
       "\\end{enumerate*}\n"
      ],
      "text/markdown": [
       "1. 'file'\n",
       "2. 'pre'\n",
       "3. 'post'\n",
       "4. 'NOT'\n",
       "5. 'NOI'\n",
       "6. 'TLOC'\n",
       "7. 'ACD'\n",
       "8. 'NSM'\n",
       "9. 'NSF'\n",
       "10. 'NOM'\n",
       "11. 'NOF'\n",
       "12. 'MLOC_total'\n",
       "13. 'MLOC_max'\n",
       "14. 'NBD_total'\n",
       "15. 'NBD_max'\n",
       "16. 'PAR_total'\n",
       "17. 'PAR_max'\n",
       "18. 'VG_total'\n",
       "19. 'VG_max'\n",
       "20. 'FOUT_total'\n",
       "21. 'FOUT_max'\n",
       "22. 'MLOC_avg'\n",
       "23. 'NBD_avg'\n",
       "24. 'PAR_avg'\n",
       "25. 'VG_avg'\n",
       "26. 'FOUT_avg'\n",
       "27. 'buggy'\n",
       "\n",
       "\n"
      ],
      "text/plain": [
       " [1] \"file\"       \"pre\"        \"post\"       \"NOT\"        \"NOI\"       \n",
       " [6] \"TLOC\"       \"ACD\"        \"NSM\"        \"NSF\"        \"NOM\"       \n",
       "[11] \"NOF\"        \"MLOC_total\" \"MLOC_max\"   \"NBD_total\"  \"NBD_max\"   \n",
       "[16] \"PAR_total\"  \"PAR_max\"    \"VG_total\"   \"VG_max\"     \"FOUT_total\"\n",
       "[21] \"FOUT_max\"   \"MLOC_avg\"   \"NBD_avg\"    \"PAR_avg\"    \"VG_avg\"    \n",
       "[26] \"FOUT_avg\"   \"buggy\"     "
      ]
     },
     "metadata": {},
     "output_type": "display_data"
    },
    {
     "data": {
      "text/html": [
       "<ol class=list-inline>\n",
       "\t<li>'file'</li>\n",
       "\t<li>'pre'</li>\n",
       "\t<li>'post'</li>\n",
       "\t<li>'NOT'</li>\n",
       "\t<li>'NOI'</li>\n",
       "\t<li>'TLOC'</li>\n",
       "\t<li>'ACD'</li>\n",
       "\t<li>'NSM'</li>\n",
       "\t<li>'NSF'</li>\n",
       "\t<li>'NOM'</li>\n",
       "\t<li>'NOF'</li>\n",
       "\t<li>'MLOC_total'</li>\n",
       "\t<li>'MLOC_max'</li>\n",
       "\t<li>'NBD_total'</li>\n",
       "\t<li>'NBD_max'</li>\n",
       "\t<li>'PAR_total'</li>\n",
       "\t<li>'PAR_max'</li>\n",
       "\t<li>'VG_total'</li>\n",
       "\t<li>'VG_max'</li>\n",
       "\t<li>'FOUT_total'</li>\n",
       "\t<li>'FOUT_max'</li>\n",
       "\t<li>'MLOC_avg'</li>\n",
       "\t<li>'NBD_avg'</li>\n",
       "\t<li>'PAR_avg'</li>\n",
       "\t<li>'VG_avg'</li>\n",
       "\t<li>'FOUT_avg'</li>\n",
       "\t<li>'buggy'</li>\n",
       "</ol>\n"
      ],
      "text/latex": [
       "\\begin{enumerate*}\n",
       "\\item 'file'\n",
       "\\item 'pre'\n",
       "\\item 'post'\n",
       "\\item 'NOT'\n",
       "\\item 'NOI'\n",
       "\\item 'TLOC'\n",
       "\\item 'ACD'\n",
       "\\item 'NSM'\n",
       "\\item 'NSF'\n",
       "\\item 'NOM'\n",
       "\\item 'NOF'\n",
       "\\item 'MLOC\\_total'\n",
       "\\item 'MLOC\\_max'\n",
       "\\item 'NBD\\_total'\n",
       "\\item 'NBD\\_max'\n",
       "\\item 'PAR\\_total'\n",
       "\\item 'PAR\\_max'\n",
       "\\item 'VG\\_total'\n",
       "\\item 'VG\\_max'\n",
       "\\item 'FOUT\\_total'\n",
       "\\item 'FOUT\\_max'\n",
       "\\item 'MLOC\\_avg'\n",
       "\\item 'NBD\\_avg'\n",
       "\\item 'PAR\\_avg'\n",
       "\\item 'VG\\_avg'\n",
       "\\item 'FOUT\\_avg'\n",
       "\\item 'buggy'\n",
       "\\end{enumerate*}\n"
      ],
      "text/markdown": [
       "1. 'file'\n",
       "2. 'pre'\n",
       "3. 'post'\n",
       "4. 'NOT'\n",
       "5. 'NOI'\n",
       "6. 'TLOC'\n",
       "7. 'ACD'\n",
       "8. 'NSM'\n",
       "9. 'NSF'\n",
       "10. 'NOM'\n",
       "11. 'NOF'\n",
       "12. 'MLOC_total'\n",
       "13. 'MLOC_max'\n",
       "14. 'NBD_total'\n",
       "15. 'NBD_max'\n",
       "16. 'PAR_total'\n",
       "17. 'PAR_max'\n",
       "18. 'VG_total'\n",
       "19. 'VG_max'\n",
       "20. 'FOUT_total'\n",
       "21. 'FOUT_max'\n",
       "22. 'MLOC_avg'\n",
       "23. 'NBD_avg'\n",
       "24. 'PAR_avg'\n",
       "25. 'VG_avg'\n",
       "26. 'FOUT_avg'\n",
       "27. 'buggy'\n",
       "\n",
       "\n"
      ],
      "text/plain": [
       " [1] \"file\"       \"pre\"        \"post\"       \"NOT\"        \"NOI\"       \n",
       " [6] \"TLOC\"       \"ACD\"        \"NSM\"        \"NSF\"        \"NOM\"       \n",
       "[11] \"NOF\"        \"MLOC_total\" \"MLOC_max\"   \"NBD_total\"  \"NBD_max\"   \n",
       "[16] \"PAR_total\"  \"PAR_max\"    \"VG_total\"   \"VG_max\"     \"FOUT_total\"\n",
       "[21] \"FOUT_max\"   \"MLOC_avg\"   \"NBD_avg\"    \"PAR_avg\"    \"VG_avg\"    \n",
       "[26] \"FOUT_avg\"   \"buggy\"     "
      ]
     },
     "metadata": {},
     "output_type": "display_data"
    },
    {
     "name": "stderr",
     "output_type": "stream",
     "text": [
      "Warning message:\n",
      "\"'print.every.n' is deprecated.\n",
      "Use 'print_every_n' instead.\n",
      "See help(\"Deprecated\") and help(\"xgboost-deprecated\").\"Warning message:\n",
      "\"'early.stop.round' is deprecated.\n",
      "Use 'early_stopping_rounds' instead.\n",
      "See help(\"Deprecated\") and help(\"xgboost-deprecated\").\""
     ]
    },
    {
     "name": "stdout",
     "output_type": "stream",
     "text": [
      "[1]\ttrain-error:0.080377+0.006523\ttest-error:0.149976+0.023357 \n",
      "Multiple eval metrics are present. Will use test_error for early stopping.\n",
      "Will train until test_error hasn't improved in 20 rounds.\n",
      "\n",
      "[11]\ttrain-error:0.041701+0.005741\ttest-error:0.135062+0.021756 \n",
      "[21]\ttrain-error:0.016078+0.002895\ttest-error:0.133231+0.024041 \n",
      "Stopping. Best iteration:\n",
      "[4]\ttrain-error:0.057078+0.006252\ttest-error:0.127585+0.027410\n",
      "\n"
     ]
    },
    {
     "name": "stderr",
     "output_type": "stream",
     "text": [
      "Warning message:\n",
      "\"'print.every.n' is deprecated.\n",
      "Use 'print_every_n' instead.\n",
      "See help(\"Deprecated\") and help(\"xgboost-deprecated\").\"Warning message:\n",
      "\"'early.stop.round' is deprecated.\n",
      "Use 'early_stopping_rounds' instead.\n",
      "See help(\"Deprecated\") and help(\"xgboost-deprecated\").\""
     ]
    },
    {
     "name": "stdout",
     "output_type": "stream",
     "text": [
      "[1]\tval-error:0.128181\ttrain-error:0.076421 \n",
      "Multiple eval metrics are present. Will use train_error for early stopping.\n",
      "Will train until train_error hasn't improved in 10 rounds.\n",
      "\n",
      "[11]\tval-error:0.129123\ttrain-error:0.046598 \n",
      "[21]\tval-error:0.139491\ttrain-error:0.019571 \n",
      "[31]\tval-error:0.147031\ttrain-error:0.008388 \n",
      "[41]\tval-error:0.151744\ttrain-error:0.003728 \n",
      "[51]\tval-error:0.150801\ttrain-error:0.001864 \n",
      "[57]\tval-error:0.150801\ttrain-error:0.001864 \n"
     ]
    },
    {
     "data": {
      "text/plain": [
       "Confusion Matrix and Statistics\n",
       "\n",
       "          Reference\n",
       "Prediction   0   1\n",
       "         0 843  89\n",
       "         1  70  59\n",
       "                                          \n",
       "               Accuracy : 0.8501          \n",
       "                 95% CI : (0.8272, 0.8711)\n",
       "    No Information Rate : 0.8605          \n",
       "    P-Value [Acc > NIR] : 0.8459          \n",
       "                                          \n",
       "                  Kappa : 0.3403          \n",
       " Mcnemar's Test P-Value : 0.1534          \n",
       "                                          \n",
       "            Sensitivity : 0.9233          \n",
       "            Specificity : 0.3986          \n",
       "         Pos Pred Value : 0.9045          \n",
       "         Neg Pred Value : 0.4574          \n",
       "             Prevalence : 0.8605          \n",
       "         Detection Rate : 0.7945          \n",
       "   Detection Prevalence : 0.8784          \n",
       "      Balanced Accuracy : 0.6610          \n",
       "                                          \n",
       "       'Positive' Class : 0               \n",
       "                                          "
      ]
     },
     "metadata": {},
     "output_type": "display_data"
    },
    {
     "data": {
      "image/png": "[encoded data removed]",
      "text/plain": [
       "plot without title"
      ]
     },
     "metadata": {},
     "output_type": "display_data"
    }
   ],
   "source": [
    "train <- files_32\n",
    "test <- files_34\n",
    "\n",
    "names(train)\n",
    "names(test)\n",
    "\n",
    "labels <- train$buggy\n",
    "ts_label <- test$buggy\n",
    "\n",
    "new_tr <- model.matrix(~.+0, data = train[,-c(\"buggy\", \"post\", \"file\"),with=F])\n",
    "new_ts <- model.matrix(~.+0, data = test[,-c(\"buggy\", \"post\", \"file\"),with=F])\n",
    "\n",
    "labels <- as.numeric(labels) #-1\n",
    "ts_label <- as.numeric(ts_label) #-1\n",
    "\n",
    "dtrain <- xgb.DMatrix(data = new_tr, label=labels)\n",
    "dtest <- xgb.DMatrix(data = new_ts, label=ts_label)\n",
    "\n",
    "# length(dtrain)\n",
    "\n",
    "# length(dtest)\n",
    "\n",
    "params <- list(\n",
    "        booster = \"gbtree\",\n",
    "        objective = \"binary:logistic\",\n",
    "        eta=0.3,\n",
    "        gamma=0,\n",
    "        max_depth=6,\n",
    "        min_child_weight=1,\n",
    "        subsample=1,\n",
    "        colsample_bytree=1\n",
    ")\n",
    "\n",
    "# xgbcv <- xgb.cv(params = params\n",
    "#                 ,data = dtrain\n",
    "#                 ,nrounds = 1000\n",
    "#                 ,nfold = 5\n",
    "#                 ,showsd = T\n",
    "#                 ,stratified = T\n",
    "#                 ,print.every.n = 10\n",
    "#                 ,early.stop.round = 20\n",
    "#                 ,maximize = F\n",
    "# )\n",
    "\n",
    "xgb1 <- xgb.train(\n",
    "           params = params\n",
    "          ,data = dtrain\n",
    "          ,nrounds = 57\n",
    "          ,watchlist = list(val=dtest,train=dtrain)\n",
    "          ,print.every.n = 10\n",
    "          ,early.stop.round = 10\n",
    "          ,maximize = F\n",
    "          ,eval_metric = \"error\"\n",
    ")\n",
    "\n",
    "xgbpred <- predict(xgb1,dtest)\n",
    "xgbpred <- ifelse(xgbpred > 0.5,1,0)\n",
    "\n",
    "xgbpred[xgbpred == 1] <- TRUE\n",
    "\n",
    "library(caret)\n",
    "confusionMatrix(factor(xgbpred), factor(ts_label))\n",
    "\n",
    "mat <- xgb.importance(feature_names = colnames(new_tr),model = xgb1)\n",
    "xgb.plot.importance(importance_matrix = mat[1:20]) #first 20 variables"
   ]
  },
  {
   "cell_type": "code",
   "execution_count": 67,
   "metadata": {},
   "outputs": [
    {
     "data": {
      "text/html": [
       "<table>\n",
       "<thead><tr><th scope=col>files_32[, 19]</th><th scope=col>pre</th><th scope=col>post</th><th scope=col>NOT</th><th scope=col>NOI</th><th scope=col>TLOC</th><th scope=col>ACD</th><th scope=col>NSM</th><th scope=col>NSF</th><th scope=col>NOM</th><th scope=col>...</th><th scope=col>VG_total</th><th scope=col>VG_max</th><th scope=col>FOUT_total</th><th scope=col>FOUT_max</th><th scope=col>MLOC_avg</th><th scope=col>NBD_avg</th><th scope=col>PAR_avg</th><th scope=col>VG_avg</th><th scope=col>FOUT_avg</th><th scope=col>buggy</th></tr></thead>\n",
       "<tbody>\n",
       "\t<tr><td>eclipse\\org.eclipse.jdt.core\\compiler\\org\\eclipse\\jdt\\internal\\compiler\\lookup\\MethodVerifier.java           </td><td>1                                                                                                                     </td><td>0                                                                                                                     </td><td>1                                                                                                                     </td><td>0                                                                                                                     </td><td>516                                                                                                                   </td><td>0                                                                                                                     </td><td>0                                                                                                                     </td><td>0                                                                                                                     </td><td>33                                                                                                                    </td><td>...                                                                                                                   </td><td>204                                                                                                                   </td><td>44                                                                                                                    </td><td>142                                                                                                                   </td><td>20                                                                                                                    </td><td>13.575758                                                                                                             </td><td> 1.0303030                                                                                                            </td><td>1.4848485                                                                                                             </td><td>6.181818                                                                                                              </td><td>4.303030                                                                                                              </td><td>FALSE                                                                                                                 </td></tr>\n",
       "\t<tr><td>eclipse\\org.eclipse.jdt.core\\model\\org\\eclipse\\jdt\\core\\IClassFile.java                                        </td><td>0                                                                                                                     </td><td>0                                                                                                                     </td><td>0                                                                                                                     </td><td>1                                                                                                                     </td><td> 11                                                                                                                   </td><td>0                                                                                                                     </td><td>0                                                                                                                     </td><td>0                                                                                                                     </td><td> 7                                                                                                                    </td><td>...                                                                                                                   </td><td>  7                                                                                                                   </td><td> 1                                                                                                                    </td><td>  0                                                                                                                   </td><td> 0                                                                                                                    </td><td> 1.000000                                                                                                             </td><td>-1.0000000                                                                                                            </td><td>1.1428571                                                                                                             </td><td>1.000000                                                                                                              </td><td>0.000000                                                                                                              </td><td>FALSE                                                                                                                 </td></tr>\n",
       "\t<tr><td>eclipse\\org.eclipse.jdt.core\\search\\org\\eclipse\\jdt\\core\\search\\TypeNameRequestor.java                        </td><td>0                                                                                                                     </td><td>0                                                                                                                     </td><td>1                                                                                                                     </td><td>0                                                                                                                     </td><td>  5                                                                                                                   </td><td>0                                                                                                                     </td><td>0                                                                                                                     </td><td>0                                                                                                                     </td><td> 1                                                                                                                    </td><td>...                                                                                                                   </td><td>  1                                                                                                                   </td><td> 1                                                                                                                    </td><td>  0                                                                                                                   </td><td> 0                                                                                                                    </td><td> 2.000000                                                                                                             </td><td> 0.0000000                                                                                                            </td><td>5.0000000                                                                                                             </td><td>1.000000                                                                                                              </td><td>0.000000                                                                                                              </td><td>FALSE                                                                                                                 </td></tr>\n",
       "\t<tr><td>eclipse\\org.eclipse.jdt.core\\compiler\\org\\eclipse\\jdt\\internal\\compiler\\flow\\InsideSubRoutineFlowContext.java</td><td>0                                                                                                                     </td><td>0                                                                                                                     </td><td>1                                                                                                                     </td><td>0                                                                                                                     </td><td> 35                                                                                                                   </td><td>0                                                                                                                     </td><td>0                                                                                                                     </td><td>0                                                                                                                     </td><td> 6                                                                                                                    </td><td>...                                                                                                                   </td><td>  9                                                                                                                   </td><td> 4                                                                                                                    </td><td>  7                                                                                                                   </td><td> 4                                                                                                                    </td><td> 4.666667                                                                                                             </td><td> 0.3333333                                                                                                            </td><td>0.5000000                                                                                                             </td><td>1.500000                                                                                                              </td><td>1.166667                                                                                                              </td><td>FALSE                                                                                                                 </td></tr>\n",
       "\t<tr><td>eclipse\\org.eclipse.jdt.core\\model\\org\\eclipse\\jdt\\internal\\core\\RenameElementsOperation.java                 </td><td>0                                                                                                                     </td><td>0                                                                                                                     </td><td>1                                                                                                                     </td><td>0                                                                                                                     </td><td> 39                                                                                                                   </td><td>0                                                                                                                     </td><td>0                                                                                                                     </td><td>0                                                                                                                     </td><td> 5                                                                                                                    </td><td>...                                                                                                                   </td><td> 14                                                                                                                   </td><td> 7                                                                                                                    </td><td>  8                                                                                                                   </td><td> 5                                                                                                                    </td><td> 4.800000                                                                                                             </td><td> 0.0000000                                                                                                            </td><td>1.0000000                                                                                                             </td><td>2.800000                                                                                                              </td><td>1.600000                                                                                                              </td><td>FALSE                                                                                                                 </td></tr>\n",
       "\t<tr><td>eclipse\\org.eclipse.jdt.core\\dom\\org\\eclipse\\jdt\\core\\dom\\ThisExpression.java                                 </td><td>0                                                                                                                     </td><td>0                                                                                                                     </td><td>1                                                                                                                     </td><td>0                                                                                                                     </td><td> 71                                                                                                                   </td><td>0                                                                                                                     </td><td>1                                                                                                                     </td><td>2                                                                                                                     </td><td>12                                                                                                                    </td><td>...                                                                                                                   </td><td> 16                                                                                                                   </td><td> 3                                                                                                                    </td><td> 20                                                                                                                   </td><td> 6                                                                                                                    </td><td> 4.583333                                                                                                             </td><td> 0.2500000                                                                                                            </td><td>0.9166667                                                                                                             </td><td>1.333333                                                                                                              </td><td>1.666667                                                                                                              </td><td>FALSE                                                                                                                 </td></tr>\n",
       "</tbody>\n",
       "</table>\n"
      ],
      "text/latex": [
       "\\begin{tabular}{r|lllllllllllllllllllllllllll}\n",
       " files\\_32{[}, 19{]} & pre & post & NOT & NOI & TLOC & ACD & NSM & NSF & NOM & ... & VG\\_total & VG\\_max & FOUT\\_total & FOUT\\_max & MLOC\\_avg & NBD\\_avg & PAR\\_avg & VG\\_avg & FOUT\\_avg & buggy\\\\\n",
       "\\hline\n",
       "\t eclipse\\textbackslash{}org.eclipse.jdt.core\\textbackslash{}compiler\\textbackslash{}org\\textbackslash{}eclipse\\textbackslash{}jdt\\textbackslash{}internal\\textbackslash{}compiler\\textbackslash{}lookup\\textbackslash{}MethodVerifier.java            & 1                                                                                                                                                                                                                                                             & 0                                                                                                                                                                                                                                                             & 1                                                                                                                                                                                                                                                             & 0                                                                                                                                                                                                                                                             & 516                                                                                                                                                                                                                                                           & 0                                                                                                                                                                                                                                                             & 0                                                                                                                                                                                                                                                             & 0                                                                                                                                                                                                                                                             & 33                                                                                                                                                                                                                                                            & ...                                                                                                                                                                                                                                                           & 204                                                                                                                                                                                                                                                           & 44                                                                                                                                                                                                                                                            & 142                                                                                                                                                                                                                                                           & 20                                                                                                                                                                                                                                                            & 13.575758                                                                                                                                                                                                                                                     &  1.0303030                                                                                                                                                                                                                                                    & 1.4848485                                                                                                                                                                                                                                                     & 6.181818                                                                                                                                                                                                                                                      & 4.303030                                                                                                                                                                                                                                                      & FALSE                                                                                                                                                                                                                                                        \\\\\n",
       "\t eclipse\\textbackslash{}org.eclipse.jdt.core\\textbackslash{}model\\textbackslash{}org\\textbackslash{}eclipse\\textbackslash{}jdt\\textbackslash{}core\\textbackslash{}IClassFile.java                                         & 0                                                                                                                                                                                                                               & 0                                                                                                                                                                                                                               & 0                                                                                                                                                                                                                               & 1                                                                                                                                                                                                                               &  11                                                                                                                                                                                                                             & 0                                                                                                                                                                                                                               & 0                                                                                                                                                                                                                               & 0                                                                                                                                                                                                                               &  7                                                                                                                                                                                                                              & ...                                                                                                                                                                                                                             &   7                                                                                                                                                                                                                             &  1                                                                                                                                                                                                                              &   0                                                                                                                                                                                                                             &  0                                                                                                                                                                                                                              &  1.000000                                                                                                                                                                                                                       & -1.0000000                                                                                                                                                                                                                      & 1.1428571                                                                                                                                                                                                                       & 1.000000                                                                                                                                                                                                                        & 0.000000                                                                                                                                                                                                                        & FALSE                                                                                                                                                                                                                          \\\\\n",
       "\t eclipse\\textbackslash{}org.eclipse.jdt.core\\textbackslash{}search\\textbackslash{}org\\textbackslash{}eclipse\\textbackslash{}jdt\\textbackslash{}core\\textbackslash{}search\\textbackslash{}TypeNameRequestor.java                         & 0                                                                                                                                                                                                                                              & 0                                                                                                                                                                                                                                              & 1                                                                                                                                                                                                                                              & 0                                                                                                                                                                                                                                              &   5                                                                                                                                                                                                                                            & 0                                                                                                                                                                                                                                              & 0                                                                                                                                                                                                                                              & 0                                                                                                                                                                                                                                              &  1                                                                                                                                                                                                                                             & ...                                                                                                                                                                                                                                            &   1                                                                                                                                                                                                                                            &  1                                                                                                                                                                                                                                             &   0                                                                                                                                                                                                                                            &  0                                                                                                                                                                                                                                             &  2.000000                                                                                                                                                                                                                                      &  0.0000000                                                                                                                                                                                                                                     & 5.0000000                                                                                                                                                                                                                                      & 1.000000                                                                                                                                                                                                                                       & 0.000000                                                                                                                                                                                                                                       & FALSE                                                                                                                                                                                                                                         \\\\\n",
       "\t eclipse\\textbackslash{}org.eclipse.jdt.core\\textbackslash{}compiler\\textbackslash{}org\\textbackslash{}eclipse\\textbackslash{}jdt\\textbackslash{}internal\\textbackslash{}compiler\\textbackslash{}flow\\textbackslash{}InsideSubRoutineFlowContext.java & 0                                                                                                                                                                                                                                                             & 0                                                                                                                                                                                                                                                             & 1                                                                                                                                                                                                                                                             & 0                                                                                                                                                                                                                                                             &  35                                                                                                                                                                                                                                                           & 0                                                                                                                                                                                                                                                             & 0                                                                                                                                                                                                                                                             & 0                                                                                                                                                                                                                                                             &  6                                                                                                                                                                                                                                                            & ...                                                                                                                                                                                                                                                           &   9                                                                                                                                                                                                                                                           &  4                                                                                                                                                                                                                                                            &   7                                                                                                                                                                                                                                                           &  4                                                                                                                                                                                                                                                            &  4.666667                                                                                                                                                                                                                                                     &  0.3333333                                                                                                                                                                                                                                                    & 0.5000000                                                                                                                                                                                                                                                     & 1.500000                                                                                                                                                                                                                                                      & 1.166667                                                                                                                                                                                                                                                      & FALSE                                                                                                                                                                                                                                                        \\\\\n",
       "\t eclipse\\textbackslash{}org.eclipse.jdt.core\\textbackslash{}model\\textbackslash{}org\\textbackslash{}eclipse\\textbackslash{}jdt\\textbackslash{}internal\\textbackslash{}core\\textbackslash{}RenameElementsOperation.java                  & 0                                                                                                                                                                                                                                              & 0                                                                                                                                                                                                                                              & 1                                                                                                                                                                                                                                              & 0                                                                                                                                                                                                                                              &  39                                                                                                                                                                                                                                            & 0                                                                                                                                                                                                                                              & 0                                                                                                                                                                                                                                              & 0                                                                                                                                                                                                                                              &  5                                                                                                                                                                                                                                             & ...                                                                                                                                                                                                                                            &  14                                                                                                                                                                                                                                            &  7                                                                                                                                                                                                                                             &   8                                                                                                                                                                                                                                            &  5                                                                                                                                                                                                                                             &  4.800000                                                                                                                                                                                                                                      &  0.0000000                                                                                                                                                                                                                                     & 1.0000000                                                                                                                                                                                                                                      & 2.800000                                                                                                                                                                                                                                       & 1.600000                                                                                                                                                                                                                                       & FALSE                                                                                                                                                                                                                                         \\\\\n",
       "\t eclipse\\textbackslash{}org.eclipse.jdt.core\\textbackslash{}dom\\textbackslash{}org\\textbackslash{}eclipse\\textbackslash{}jdt\\textbackslash{}core\\textbackslash{}dom\\textbackslash{}ThisExpression.java                                  & 0                                                                                                                                                                                                                                              & 0                                                                                                                                                                                                                                              & 1                                                                                                                                                                                                                                              & 0                                                                                                                                                                                                                                              &  71                                                                                                                                                                                                                                            & 0                                                                                                                                                                                                                                              & 1                                                                                                                                                                                                                                              & 2                                                                                                                                                                                                                                              & 12                                                                                                                                                                                                                                             & ...                                                                                                                                                                                                                                            &  16                                                                                                                                                                                                                                            &  3                                                                                                                                                                                                                                             &  20                                                                                                                                                                                                                                            &  6                                                                                                                                                                                                                                             &  4.583333                                                                                                                                                                                                                                      &  0.2500000                                                                                                                                                                                                                                     & 0.9166667                                                                                                                                                                                                                                      & 1.333333                                                                                                                                                                                                                                       & 1.666667                                                                                                                                                                                                                                       & FALSE                                                                                                                                                                                                                                         \\\\\n",
       "\\end{tabular}\n"
      ],
      "text/markdown": [
       "\n",
       "| files_32[, 19] | pre | post | NOT | NOI | TLOC | ACD | NSM | NSF | NOM | ... | VG_total | VG_max | FOUT_total | FOUT_max | MLOC_avg | NBD_avg | PAR_avg | VG_avg | FOUT_avg | buggy |\n",
       "|---|---|---|---|---|---|---|---|---|---|---|---|---|---|---|---|---|---|---|---|---|\n",
       "| eclipse\\org.eclipse.jdt.core\\compiler\\org\\eclipse\\jdt\\internal\\compiler\\lookup\\MethodVerifier.java            | 1                                                                                                                      | 0                                                                                                                      | 1                                                                                                                      | 0                                                                                                                      | 516                                                                                                                    | 0                                                                                                                      | 0                                                                                                                      | 0                                                                                                                      | 33                                                                                                                     | ...                                                                                                                    | 204                                                                                                                    | 44                                                                                                                     | 142                                                                                                                    | 20                                                                                                                     | 13.575758                                                                                                              |  1.0303030                                                                                                             | 1.4848485                                                                                                              | 6.181818                                                                                                               | 4.303030                                                                                                               | FALSE                                                                                                                  |\n",
       "| eclipse\\org.eclipse.jdt.core\\model\\org\\eclipse\\jdt\\core\\IClassFile.java                                         | 0                                                                                                                      | 0                                                                                                                      | 0                                                                                                                      | 1                                                                                                                      |  11                                                                                                                    | 0                                                                                                                      | 0                                                                                                                      | 0                                                                                                                      |  7                                                                                                                     | ...                                                                                                                    |   7                                                                                                                    |  1                                                                                                                     |   0                                                                                                                    |  0                                                                                                                     |  1.000000                                                                                                              | -1.0000000                                                                                                             | 1.1428571                                                                                                              | 1.000000                                                                                                               | 0.000000                                                                                                               | FALSE                                                                                                                  |\n",
       "| eclipse\\org.eclipse.jdt.core\\search\\org\\eclipse\\jdt\\core\\search\\TypeNameRequestor.java                         | 0                                                                                                                      | 0                                                                                                                      | 1                                                                                                                      | 0                                                                                                                      |   5                                                                                                                    | 0                                                                                                                      | 0                                                                                                                      | 0                                                                                                                      |  1                                                                                                                     | ...                                                                                                                    |   1                                                                                                                    |  1                                                                                                                     |   0                                                                                                                    |  0                                                                                                                     |  2.000000                                                                                                              |  0.0000000                                                                                                             | 5.0000000                                                                                                              | 1.000000                                                                                                               | 0.000000                                                                                                               | FALSE                                                                                                                  |\n",
       "| eclipse\\org.eclipse.jdt.core\\compiler\\org\\eclipse\\jdt\\internal\\compiler\\flow\\InsideSubRoutineFlowContext.java | 0                                                                                                                      | 0                                                                                                                      | 1                                                                                                                      | 0                                                                                                                      |  35                                                                                                                    | 0                                                                                                                      | 0                                                                                                                      | 0                                                                                                                      |  6                                                                                                                     | ...                                                                                                                    |   9                                                                                                                    |  4                                                                                                                     |   7                                                                                                                    |  4                                                                                                                     |  4.666667                                                                                                              |  0.3333333                                                                                                             | 0.5000000                                                                                                              | 1.500000                                                                                                               | 1.166667                                                                                                               | FALSE                                                                                                                  |\n",
       "| eclipse\\org.eclipse.jdt.core\\model\\org\\eclipse\\jdt\\internal\\core\\RenameElementsOperation.java                  | 0                                                                                                                      | 0                                                                                                                      | 1                                                                                                                      | 0                                                                                                                      |  39                                                                                                                    | 0                                                                                                                      | 0                                                                                                                      | 0                                                                                                                      |  5                                                                                                                     | ...                                                                                                                    |  14                                                                                                                    |  7                                                                                                                     |   8                                                                                                                    |  5                                                                                                                     |  4.800000                                                                                                              |  0.0000000                                                                                                             | 1.0000000                                                                                                              | 2.800000                                                                                                               | 1.600000                                                                                                               | FALSE                                                                                                                  |\n",
       "| eclipse\\org.eclipse.jdt.core\\dom\\org\\eclipse\\jdt\\core\\dom\\ThisExpression.java                                  | 0                                                                                                                      | 0                                                                                                                      | 1                                                                                                                      | 0                                                                                                                      |  71                                                                                                                    | 0                                                                                                                      | 1                                                                                                                      | 2                                                                                                                      | 12                                                                                                                     | ...                                                                                                                    |  16                                                                                                                    |  3                                                                                                                     |  20                                                                                                                    |  6                                                                                                                     |  4.583333                                                                                                              |  0.2500000                                                                                                             | 0.9166667                                                                                                              | 1.333333                                                                                                               | 1.666667                                                                                                               | FALSE                                                                                                                  |\n",
       "\n"
      ],
      "text/plain": [
       "  files_32[, 19]                                                                                                        \n",
       "1 eclipse\\\\org.eclipse.jdt.core\\\\compiler\\\\org\\\\eclipse\\\\jdt\\\\internal\\\\compiler\\\\lookup\\\\MethodVerifier.java           \n",
       "2 eclipse\\\\org.eclipse.jdt.core\\\\model\\\\org\\\\eclipse\\\\jdt\\\\core\\\\IClassFile.java                                        \n",
       "3 eclipse\\\\org.eclipse.jdt.core\\\\search\\\\org\\\\eclipse\\\\jdt\\\\core\\\\search\\\\TypeNameRequestor.java                        \n",
       "4 eclipse\\\\org.eclipse.jdt.core\\\\compiler\\\\org\\\\eclipse\\\\jdt\\\\internal\\\\compiler\\\\flow\\\\InsideSubRoutineFlowContext.java\n",
       "5 eclipse\\\\org.eclipse.jdt.core\\\\model\\\\org\\\\eclipse\\\\jdt\\\\internal\\\\core\\\\RenameElementsOperation.java                 \n",
       "6 eclipse\\\\org.eclipse.jdt.core\\\\dom\\\\org\\\\eclipse\\\\jdt\\\\core\\\\dom\\\\ThisExpression.java                                 \n",
       "  pre post NOT NOI TLOC ACD NSM NSF NOM ... VG_total VG_max FOUT_total FOUT_max\n",
       "1 1   0    1   0   516  0   0   0   33  ... 204      44     142        20      \n",
       "2 0   0    0   1    11  0   0   0    7  ...   7       1       0         0      \n",
       "3 0   0    1   0     5  0   0   0    1  ...   1       1       0         0      \n",
       "4 0   0    1   0    35  0   0   0    6  ...   9       4       7         4      \n",
       "5 0   0    1   0    39  0   0   0    5  ...  14       7       8         5      \n",
       "6 0   0    1   0    71  0   1   2   12  ...  16       3      20         6      \n",
       "  MLOC_avg  NBD_avg    PAR_avg   VG_avg   FOUT_avg buggy\n",
       "1 13.575758  1.0303030 1.4848485 6.181818 4.303030 FALSE\n",
       "2  1.000000 -1.0000000 1.1428571 1.000000 0.000000 FALSE\n",
       "3  2.000000  0.0000000 5.0000000 1.000000 0.000000 FALSE\n",
       "4  4.666667  0.3333333 0.5000000 1.500000 1.166667 FALSE\n",
       "5  4.800000  0.0000000 1.0000000 2.800000 1.600000 FALSE\n",
       "6  4.583333  0.2500000 0.9166667 1.333333 1.666667 FALSE"
      ]
     },
     "metadata": {},
     "output_type": "display_data"
    }
   ],
   "source": [
    "head(train)"
   ]
  },
  {
   "cell_type": "markdown",
   "metadata": {},
   "source": [
    "Recall is low. Which means there are still a lot of the buggy file are not identified.\n",
    "\n",
    "But the precision are generally higher than `0.6`, it means when this model say \"this file is defect-prone\", this decision is most likely to be true. "
   ]
  }
 ],
 "metadata": {
  "kernelspec": {
   "display_name": "R",
   "language": "R",
   "name": "ir"
  },
  "language_info": {
   "codemirror_mode": "r",
   "file_extension": ".r",
   "mimetype": "text/x-r-source",
   "name": "R",
   "pygments_lexer": "r",
   "version": "3.5.1"
  }
 },
 "nbformat": 4,
 "nbformat_minor": 2
}
