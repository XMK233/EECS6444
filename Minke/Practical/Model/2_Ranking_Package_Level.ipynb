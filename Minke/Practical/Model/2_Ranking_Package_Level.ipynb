{
 "cells": [
  {
   "cell_type": "markdown",
   "metadata": {},
   "source": [
    "### Fit the old code to our dataset. \n",
    "\n",
    "纸上得来终觉浅，绝知此事要躬行。"
   ]
  },
  {
   "cell_type": "code",
   "execution_count": 1,
   "metadata": {},
   "outputs": [
    {
     "data": {
      "text/html": [
       "44"
      ],
      "text/latex": [
       "44"
      ],
      "text/markdown": [
       "44"
      ],
      "text/plain": [
       "[1] 44"
      ]
     },
     "metadata": {},
     "output_type": "display_data"
    },
    {
     "data": {
      "text/html": [
       "44"
      ],
      "text/latex": [
       "44"
      ],
      "text/markdown": [
       "44"
      ],
      "text/plain": [
       "[1] 44"
      ]
     },
     "metadata": {},
     "output_type": "display_data"
    },
    {
     "data": {
      "text/html": [
       "44"
      ],
      "text/latex": [
       "44"
      ],
      "text/markdown": [
       "44"
      ],
      "text/plain": [
       "[1] 44"
      ]
     },
     "metadata": {},
     "output_type": "display_data"
    }
   ],
   "source": [
    "options(warn=-1)\n",
    "files_32 <- read.table(\"../org.eclipse.jdt.core_3.2/dataset-_3.2-packagelevel.csv\", header=T, sep=\",\")\n",
    "files_34 <- read.table(\"../org.eclipse.jdt.core_3.4/dataset-_3.4-packagelevel.csv\", header=T, sep=\",\")\n",
    "files_35 <- read.table(\"../org.eclipse.jdt.core_3.5/dataset-_3.5-packagelevel.csv\", header=T, sep=\",\")\n",
    "\n",
    "nrow(files_32)\n",
    "nrow(files_34)\n",
    "nrow(files_35)"
   ]
  },
  {
   "cell_type": "markdown",
   "metadata": {},
   "source": [
    "### preprocess the dataframe to make it the same as example csv files. "
   ]
  },
  {
   "cell_type": "code",
   "execution_count": 2,
   "metadata": {},
   "outputs": [
    {
     "data": {
      "text/html": [
       "<table>\n",
       "<thead><tr><th scope=col>plugin</th><th scope=col>package</th><th scope=col>NOCU</th><th scope=col>NOT_total</th><th scope=col>NOT_max</th><th scope=col>NOT_avg</th><th scope=col>NOI_total</th><th scope=col>NOI_max</th><th scope=col>NOI_avg</th><th scope=col>TLOC_total</th><th scope=col>...</th><th scope=col>MLOC_max</th><th scope=col>NBD_max</th><th scope=col>PAR_max</th><th scope=col>VG_max</th><th scope=col>FOUT_max</th><th scope=col>MLOC_avg</th><th scope=col>NBD_avg</th><th scope=col>PAR_avg</th><th scope=col>VG_avg</th><th scope=col>FOUT_avg</th></tr></thead>\n",
       "<tbody>\n",
       "\t<tr><td>org.eclipse.jdt.core            </td><td>org.eclipse.jdt.core            </td><td> 64                             </td><td> 20                             </td><td>1                               </td><td>0.3125000                       </td><td>44                              </td><td>1                               </td><td>0.68750000                      </td><td> 5949                           </td><td>...                             </td><td>168                             </td><td> 7                              </td><td>13                              </td><td> 39                             </td><td>30                              </td><td> 5.740489                       </td><td>-0.2282609                      </td><td>1.5625000                       </td><td>2.125000                        </td><td>1.1073370                       </td></tr>\n",
       "\t<tr><td>org.eclipse.jdt.core            </td><td>org.eclipse.jdt.core.compiler   </td><td>  9                             </td><td>  6                             </td><td>1                               </td><td>0.6666667                       </td><td> 3                              </td><td>1                               </td><td>0.33333333                      </td><td> 1984                           </td><td>...                             </td><td> 86                             </td><td> 4                              </td><td> 7                              </td><td> 37                             </td><td>10                              </td><td> 8.094017                       </td><td> 0.2222222                      </td><td>1.7179487                       </td><td>3.743590                        </td><td>0.6153846                       </td></tr>\n",
       "\t<tr><td>org.eclipse.jdt.core            </td><td>org.eclipse.jdt.core.dom        </td><td>133                             </td><td>124                             </td><td>1                               </td><td>0.9323308                       </td><td> 9                              </td><td>1                               </td><td>0.06766917                      </td><td>27428                           </td><td>...                             </td><td>285                             </td><td> 9                              </td><td> 9                              </td><td>103                             </td><td>48                              </td><td> 8.612487                       </td><td> 0.5809114                      </td><td>0.8937926                       </td><td>2.508791                        </td><td>2.3738787                       </td></tr>\n",
       "\t<tr><td>org.eclipse.jdt.core            </td><td>org.eclipse.jdt.core.dom.rewrite</td><td>  5                             </td><td>  4                             </td><td>1                               </td><td>0.8000000                       </td><td> 1                              </td><td>1                               </td><td>0.20000000                      </td><td> 1012                           </td><td>...                             </td><td> 55                             </td><td> 4                              </td><td> 6                              </td><td> 16                             </td><td>29                              </td><td> 9.606383                       </td><td> 0.7765957                      </td><td>1.4468085                       </td><td>2.914894                        </td><td>3.4680851                       </td></tr>\n",
       "\t<tr><td>org.eclipse.jdt.core            </td><td>org.eclipse.jdt.core.eval       </td><td>  3                             </td><td>  0                             </td><td>0                               </td><td>0.0000000                       </td><td> 3                              </td><td>1                               </td><td>1.00000000                      </td><td>   97                           </td><td>...                             </td><td>  1                             </td><td>-1                              </td><td> 9                              </td><td>  1                             </td><td> 0                              </td><td> 1.000000                       </td><td>-1.0000000                      </td><td>2.1666667                       </td><td>1.000000                        </td><td>0.0000000                       </td></tr>\n",
       "\t<tr><td>org.eclipse.jdt.core            </td><td>org.eclipse.jdt.core.formatter  </td><td>  4                             </td><td>  4                             </td><td>1                               </td><td>1.0000000                       </td><td> 0                              </td><td>0                               </td><td>0.00000000                      </td><td>  932                           </td><td>...                             </td><td> 76                             </td><td> 3                              </td><td> 6                              </td><td> 19                             </td><td>16                              </td><td>18.531250                       </td><td> 1.2187500                      </td><td>1.9062500                       </td><td>5.312500                        </td><td>3.5000000                       </td></tr>\n",
       "</tbody>\n",
       "</table>\n"
      ],
      "text/latex": [
       "\\begin{tabular}{r|llllllllllllllllllllllllllllllllllllllllllll}\n",
       " plugin & package & NOCU & NOT\\_total & NOT\\_max & NOT\\_avg & NOI\\_total & NOI\\_max & NOI\\_avg & TLOC\\_total & ... & MLOC\\_max & NBD\\_max & PAR\\_max & VG\\_max & FOUT\\_max & MLOC\\_avg & NBD\\_avg & PAR\\_avg & VG\\_avg & FOUT\\_avg\\\\\n",
       "\\hline\n",
       "\t org.eclipse.jdt.core             & org.eclipse.jdt.core             &  64                              &  20                              & 1                                & 0.3125000                        & 44                               & 1                                & 0.68750000                       &  5949                            & ...                              & 168                              &  7                               & 13                               &  39                              & 30                               &  5.740489                        & -0.2282609                       & 1.5625000                        & 2.125000                         & 1.1073370                       \\\\\n",
       "\t org.eclipse.jdt.core             & org.eclipse.jdt.core.compiler    &   9                              &   6                              & 1                                & 0.6666667                        &  3                               & 1                                & 0.33333333                       &  1984                            & ...                              &  86                              &  4                               &  7                               &  37                              & 10                               &  8.094017                        &  0.2222222                       & 1.7179487                        & 3.743590                         & 0.6153846                       \\\\\n",
       "\t org.eclipse.jdt.core             & org.eclipse.jdt.core.dom         & 133                              & 124                              & 1                                & 0.9323308                        &  9                               & 1                                & 0.06766917                       & 27428                            & ...                              & 285                              &  9                               &  9                               & 103                              & 48                               &  8.612487                        &  0.5809114                       & 0.8937926                        & 2.508791                         & 2.3738787                       \\\\\n",
       "\t org.eclipse.jdt.core             & org.eclipse.jdt.core.dom.rewrite &   5                              &   4                              & 1                                & 0.8000000                        &  1                               & 1                                & 0.20000000                       &  1012                            & ...                              &  55                              &  4                               &  6                               &  16                              & 29                               &  9.606383                        &  0.7765957                       & 1.4468085                        & 2.914894                         & 3.4680851                       \\\\\n",
       "\t org.eclipse.jdt.core             & org.eclipse.jdt.core.eval        &   3                              &   0                              & 0                                & 0.0000000                        &  3                               & 1                                & 1.00000000                       &    97                            & ...                              &   1                              & -1                               &  9                               &   1                              &  0                               &  1.000000                        & -1.0000000                       & 2.1666667                        & 1.000000                         & 0.0000000                       \\\\\n",
       "\t org.eclipse.jdt.core             & org.eclipse.jdt.core.formatter   &   4                              &   4                              & 1                                & 1.0000000                        &  0                               & 0                                & 0.00000000                       &   932                            & ...                              &  76                              &  3                               &  6                               &  19                              & 16                               & 18.531250                        &  1.2187500                       & 1.9062500                        & 5.312500                         & 3.5000000                       \\\\\n",
       "\\end{tabular}\n"
      ],
      "text/markdown": [
       "\n",
       "| plugin | package | NOCU | NOT_total | NOT_max | NOT_avg | NOI_total | NOI_max | NOI_avg | TLOC_total | ... | MLOC_max | NBD_max | PAR_max | VG_max | FOUT_max | MLOC_avg | NBD_avg | PAR_avg | VG_avg | FOUT_avg |\n",
       "|---|---|---|---|---|---|---|---|---|---|---|---|---|---|---|---|---|---|---|---|---|\n",
       "| org.eclipse.jdt.core             | org.eclipse.jdt.core             |  64                              |  20                              | 1                                | 0.3125000                        | 44                               | 1                                | 0.68750000                       |  5949                            | ...                              | 168                              |  7                               | 13                               |  39                              | 30                               |  5.740489                        | -0.2282609                       | 1.5625000                        | 2.125000                         | 1.1073370                        |\n",
       "| org.eclipse.jdt.core             | org.eclipse.jdt.core.compiler    |   9                              |   6                              | 1                                | 0.6666667                        |  3                               | 1                                | 0.33333333                       |  1984                            | ...                              |  86                              |  4                               |  7                               |  37                              | 10                               |  8.094017                        |  0.2222222                       | 1.7179487                        | 3.743590                         | 0.6153846                        |\n",
       "| org.eclipse.jdt.core             | org.eclipse.jdt.core.dom         | 133                              | 124                              | 1                                | 0.9323308                        |  9                               | 1                                | 0.06766917                       | 27428                            | ...                              | 285                              |  9                               |  9                               | 103                              | 48                               |  8.612487                        |  0.5809114                       | 0.8937926                        | 2.508791                         | 2.3738787                        |\n",
       "| org.eclipse.jdt.core             | org.eclipse.jdt.core.dom.rewrite |   5                              |   4                              | 1                                | 0.8000000                        |  1                               | 1                                | 0.20000000                       |  1012                            | ...                              |  55                              |  4                               |  6                               |  16                              | 29                               |  9.606383                        |  0.7765957                       | 1.4468085                        | 2.914894                         | 3.4680851                        |\n",
       "| org.eclipse.jdt.core             | org.eclipse.jdt.core.eval        |   3                              |   0                              | 0                                | 0.0000000                        |  3                               | 1                                | 1.00000000                       |    97                            | ...                              |   1                              | -1                               |  9                               |   1                              |  0                               |  1.000000                        | -1.0000000                       | 2.1666667                        | 1.000000                         | 0.0000000                        |\n",
       "| org.eclipse.jdt.core             | org.eclipse.jdt.core.formatter   |   4                              |   4                              | 1                                | 1.0000000                        |  0                               | 0                                | 0.00000000                       |   932                            | ...                              |  76                              |  3                               |  6                               |  19                              | 16                               | 18.531250                        |  1.2187500                       | 1.9062500                        | 5.312500                         | 3.5000000                        |\n",
       "\n"
      ],
      "text/plain": [
       "  plugin               package                          NOCU NOT_total NOT_max\n",
       "1 org.eclipse.jdt.core org.eclipse.jdt.core              64   20       1      \n",
       "2 org.eclipse.jdt.core org.eclipse.jdt.core.compiler      9    6       1      \n",
       "3 org.eclipse.jdt.core org.eclipse.jdt.core.dom         133  124       1      \n",
       "4 org.eclipse.jdt.core org.eclipse.jdt.core.dom.rewrite   5    4       1      \n",
       "5 org.eclipse.jdt.core org.eclipse.jdt.core.eval          3    0       0      \n",
       "6 org.eclipse.jdt.core org.eclipse.jdt.core.formatter     4    4       1      \n",
       "  NOT_avg   NOI_total NOI_max NOI_avg    TLOC_total ... MLOC_max NBD_max\n",
       "1 0.3125000 44        1       0.68750000  5949      ... 168       7     \n",
       "2 0.6666667  3        1       0.33333333  1984      ...  86       4     \n",
       "3 0.9323308  9        1       0.06766917 27428      ... 285       9     \n",
       "4 0.8000000  1        1       0.20000000  1012      ...  55       4     \n",
       "5 0.0000000  3        1       1.00000000    97      ...   1      -1     \n",
       "6 1.0000000  0        0       0.00000000   932      ...  76       3     \n",
       "  PAR_max VG_max FOUT_max MLOC_avg  NBD_avg    PAR_avg   VG_avg   FOUT_avg \n",
       "1 13       39    30        5.740489 -0.2282609 1.5625000 2.125000 1.1073370\n",
       "2  7       37    10        8.094017  0.2222222 1.7179487 3.743590 0.6153846\n",
       "3  9      103    48        8.612487  0.5809114 0.8937926 2.508791 2.3738787\n",
       "4  6       16    29        9.606383  0.7765957 1.4468085 2.914894 3.4680851\n",
       "5  9        1     0        1.000000 -1.0000000 2.1666667 1.000000 0.0000000\n",
       "6  6       19    16       18.531250  1.2187500 1.9062500 5.312500 3.5000000"
      ]
     },
     "metadata": {},
     "output_type": "display_data"
    }
   ],
   "source": [
    "head(files_32)"
   ]
  },
  {
   "cell_type": "code",
   "execution_count": 3,
   "metadata": {},
   "outputs": [
    {
     "name": "stderr",
     "output_type": "stream",
     "text": [
      "Loading required package: lattice\n",
      "Loading required package: ggplot2\n"
     ]
    }
   ],
   "source": [
    "library(caret)\n",
    "library(RANN)\n",
    "data_preprocess <- function(dataset){\n",
    "    subSet_that_dont_need_preProcess <- dataset[c(\"pre\", \"post\")]\n",
    "    hehe <- preProcess(dataset, method = c(\"range\", \"knnImpute\")) \n",
    "    new_set <- predict(hehe, dataset)\n",
    "    new_set[c(\"pre\", \"post\")] <- subSet_that_dont_need_preProcess\n",
    "    return (new_set)\n",
    "}\n",
    "files_32 <- data_preprocess(files_32)\n",
    "files_34 <- data_preprocess(files_34)\n",
    "files_35 <- data_preprocess(files_35)"
   ]
  },
  {
   "cell_type": "code",
   "execution_count": 4,
   "metadata": {},
   "outputs": [
    {
     "data": {
      "text/html": [
       "<table>\n",
       "<thead><tr><th scope=col>plugin</th><th scope=col>package</th><th scope=col>pre</th><th scope=col>post</th><th scope=col>NOCU</th><th scope=col>NOT_total</th><th scope=col>NOT_max</th><th scope=col>NOT_avg</th><th scope=col>NOI_total</th><th scope=col>NOI_max</th><th scope=col>...</th><th scope=col>MLOC_max</th><th scope=col>NBD_max</th><th scope=col>PAR_max</th><th scope=col>VG_max</th><th scope=col>FOUT_max</th><th scope=col>MLOC_avg</th><th scope=col>NBD_avg</th><th scope=col>PAR_avg</th><th scope=col>VG_avg</th><th scope=col>FOUT_avg</th></tr></thead>\n",
       "<tbody>\n",
       "\t<tr><td>org.eclipse.jdt.core            </td><td>org.eclipse.jdt.core            </td><td>90                              </td><td>21                              </td><td>0.45985401                      </td><td>0.14925373                      </td><td>1                               </td><td>0.3125000                       </td><td>1.00000000                      </td><td>1                               </td><td>...                             </td><td>0.06763872                      </td><td>0.6666667                       </td><td>0.4782609                       </td><td>0.04622871                      </td><td>0.10489510                      </td><td>0.07075357                      </td><td>0.1929348                       </td><td>0.4810456                       </td><td>0.09909972                      </td><td>0.11150511                      </td></tr>\n",
       "\t<tr><td>org.eclipse.jdt.core            </td><td>org.eclipse.jdt.core.compiler   </td><td> 0                              </td><td> 0                              </td><td>0.05839416                      </td><td>0.04477612                      </td><td>1                               </td><td>0.6666667                       </td><td>0.06818182                      </td><td>1                               </td><td>...                             </td><td>0.03442689                      </td><td>0.4166667                       </td><td>0.2173913                       </td><td>0.04379562                      </td><td>0.03496503                      </td><td>0.10588085                      </td><td>0.3055556                       </td><td>0.5376598                       </td><td>0.24167910                      </td><td>0.06196717                      </td></tr>\n",
       "\t<tr><td>org.eclipse.jdt.core            </td><td>org.eclipse.jdt.core.dom        </td><td>66                              </td><td> 8                              </td><td>0.95620438                      </td><td>0.91791045                      </td><td>1                               </td><td>0.9318182                       </td><td>0.20454545                      </td><td>1                               </td><td>...                             </td><td>0.11502633                      </td><td>0.8333333                       </td><td>0.3043478                       </td><td>0.12408759                      </td><td>0.16783217                      </td><td>0.11135391                      </td><td>0.3916790                       </td><td>0.2367673                       </td><td>0.13105553                      </td><td>0.22591430                      </td></tr>\n",
       "\t<tr><td>org.eclipse.jdt.core            </td><td>org.eclipse.jdt.core.dom.rewrite</td><td> 0                              </td><td> 0                              </td><td>0.02919708                      </td><td>0.02985075                      </td><td>1                               </td><td>0.8000000                       </td><td>0.02272727                      </td><td>1                               </td><td>...                             </td><td>0.02187120                      </td><td>0.4166667                       </td><td>0.1739130                       </td><td>0.01824818                      </td><td>0.10139860                      </td><td>0.12845348                      </td><td>0.4441489                       </td><td>0.4389110                       </td><td>0.16868038                      </td><td>0.34922453                      </td></tr>\n",
       "\t<tr><td>org.eclipse.jdt.core            </td><td>org.eclipse.jdt.core.eval       </td><td> 0                              </td><td> 0                              </td><td>0.01459854                      </td><td>0.00000000                      </td><td>0                               </td><td>0.0000000                       </td><td>0.06818182                      </td><td>1                               </td><td>...                             </td><td>0.00000000                      </td><td>0.0000000                       </td><td>0.3043478                       </td><td>0.00000000                      </td><td>0.00000000                      </td><td>0.00000000                      </td><td>0.0000000                       </td><td>0.7010823                       </td><td>0.00000000                      </td><td>0.00000000                      </td></tr>\n",
       "\t<tr><td>org.eclipse.jdt.core            </td><td>org.eclipse.jdt.core.formatter  </td><td> 0                              </td><td>21                              </td><td>0.02189781                      </td><td>0.02985075                      </td><td>1                               </td><td>1.0000000                       </td><td>0.00000000                      </td><td>0                               </td><td>...                             </td><td>0.03037667                      </td><td>0.3333333                       </td><td>0.1739130                       </td><td>0.02189781                      </td><td>0.05594406                      </td><td>0.26166045                      </td><td>0.5546875                       </td><td>0.6062389                       </td><td>0.37988227                      </td><td>0.35243825                      </td></tr>\n",
       "</tbody>\n",
       "</table>\n"
      ],
      "text/latex": [
       "\\begin{tabular}{r|llllllllllllllllllllllllllllllllllllllllllll}\n",
       " plugin & package & pre & post & NOCU & NOT\\_total & NOT\\_max & NOT\\_avg & NOI\\_total & NOI\\_max & ... & MLOC\\_max & NBD\\_max & PAR\\_max & VG\\_max & FOUT\\_max & MLOC\\_avg & NBD\\_avg & PAR\\_avg & VG\\_avg & FOUT\\_avg\\\\\n",
       "\\hline\n",
       "\t org.eclipse.jdt.core             & org.eclipse.jdt.core             & 90                               & 21                               & 0.45985401                       & 0.14925373                       & 1                                & 0.3125000                        & 1.00000000                       & 1                                & ...                              & 0.06763872                       & 0.6666667                        & 0.4782609                        & 0.04622871                       & 0.10489510                       & 0.07075357                       & 0.1929348                        & 0.4810456                        & 0.09909972                       & 0.11150511                      \\\\\n",
       "\t org.eclipse.jdt.core             & org.eclipse.jdt.core.compiler    &  0                               &  0                               & 0.05839416                       & 0.04477612                       & 1                                & 0.6666667                        & 0.06818182                       & 1                                & ...                              & 0.03442689                       & 0.4166667                        & 0.2173913                        & 0.04379562                       & 0.03496503                       & 0.10588085                       & 0.3055556                        & 0.5376598                        & 0.24167910                       & 0.06196717                      \\\\\n",
       "\t org.eclipse.jdt.core             & org.eclipse.jdt.core.dom         & 66                               &  8                               & 0.95620438                       & 0.91791045                       & 1                                & 0.9318182                        & 0.20454545                       & 1                                & ...                              & 0.11502633                       & 0.8333333                        & 0.3043478                        & 0.12408759                       & 0.16783217                       & 0.11135391                       & 0.3916790                        & 0.2367673                        & 0.13105553                       & 0.22591430                      \\\\\n",
       "\t org.eclipse.jdt.core             & org.eclipse.jdt.core.dom.rewrite &  0                               &  0                               & 0.02919708                       & 0.02985075                       & 1                                & 0.8000000                        & 0.02272727                       & 1                                & ...                              & 0.02187120                       & 0.4166667                        & 0.1739130                        & 0.01824818                       & 0.10139860                       & 0.12845348                       & 0.4441489                        & 0.4389110                        & 0.16868038                       & 0.34922453                      \\\\\n",
       "\t org.eclipse.jdt.core             & org.eclipse.jdt.core.eval        &  0                               &  0                               & 0.01459854                       & 0.00000000                       & 0                                & 0.0000000                        & 0.06818182                       & 1                                & ...                              & 0.00000000                       & 0.0000000                        & 0.3043478                        & 0.00000000                       & 0.00000000                       & 0.00000000                       & 0.0000000                        & 0.7010823                        & 0.00000000                       & 0.00000000                      \\\\\n",
       "\t org.eclipse.jdt.core             & org.eclipse.jdt.core.formatter   &  0                               & 21                               & 0.02189781                       & 0.02985075                       & 1                                & 1.0000000                        & 0.00000000                       & 0                                & ...                              & 0.03037667                       & 0.3333333                        & 0.1739130                        & 0.02189781                       & 0.05594406                       & 0.26166045                       & 0.5546875                        & 0.6062389                        & 0.37988227                       & 0.35243825                      \\\\\n",
       "\\end{tabular}\n"
      ],
      "text/markdown": [
       "\n",
       "| plugin | package | pre | post | NOCU | NOT_total | NOT_max | NOT_avg | NOI_total | NOI_max | ... | MLOC_max | NBD_max | PAR_max | VG_max | FOUT_max | MLOC_avg | NBD_avg | PAR_avg | VG_avg | FOUT_avg |\n",
       "|---|---|---|---|---|---|---|---|---|---|---|---|---|---|---|---|---|---|---|---|---|\n",
       "| org.eclipse.jdt.core             | org.eclipse.jdt.core             | 90                               | 21                               | 0.45985401                       | 0.14925373                       | 1                                | 0.3125000                        | 1.00000000                       | 1                                | ...                              | 0.06763872                       | 0.6666667                        | 0.4782609                        | 0.04622871                       | 0.10489510                       | 0.07075357                       | 0.1929348                        | 0.4810456                        | 0.09909972                       | 0.11150511                       |\n",
       "| org.eclipse.jdt.core             | org.eclipse.jdt.core.compiler    |  0                               |  0                               | 0.05839416                       | 0.04477612                       | 1                                | 0.6666667                        | 0.06818182                       | 1                                | ...                              | 0.03442689                       | 0.4166667                        | 0.2173913                        | 0.04379562                       | 0.03496503                       | 0.10588085                       | 0.3055556                        | 0.5376598                        | 0.24167910                       | 0.06196717                       |\n",
       "| org.eclipse.jdt.core             | org.eclipse.jdt.core.dom         | 66                               |  8                               | 0.95620438                       | 0.91791045                       | 1                                | 0.9318182                        | 0.20454545                       | 1                                | ...                              | 0.11502633                       | 0.8333333                        | 0.3043478                        | 0.12408759                       | 0.16783217                       | 0.11135391                       | 0.3916790                        | 0.2367673                        | 0.13105553                       | 0.22591430                       |\n",
       "| org.eclipse.jdt.core             | org.eclipse.jdt.core.dom.rewrite |  0                               |  0                               | 0.02919708                       | 0.02985075                       | 1                                | 0.8000000                        | 0.02272727                       | 1                                | ...                              | 0.02187120                       | 0.4166667                        | 0.1739130                        | 0.01824818                       | 0.10139860                       | 0.12845348                       | 0.4441489                        | 0.4389110                        | 0.16868038                       | 0.34922453                       |\n",
       "| org.eclipse.jdt.core             | org.eclipse.jdt.core.eval        |  0                               |  0                               | 0.01459854                       | 0.00000000                       | 0                                | 0.0000000                        | 0.06818182                       | 1                                | ...                              | 0.00000000                       | 0.0000000                        | 0.3043478                        | 0.00000000                       | 0.00000000                       | 0.00000000                       | 0.0000000                        | 0.7010823                        | 0.00000000                       | 0.00000000                       |\n",
       "| org.eclipse.jdt.core             | org.eclipse.jdt.core.formatter   |  0                               | 21                               | 0.02189781                       | 0.02985075                       | 1                                | 1.0000000                        | 0.00000000                       | 0                                | ...                              | 0.03037667                       | 0.3333333                        | 0.1739130                        | 0.02189781                       | 0.05594406                       | 0.26166045                       | 0.5546875                        | 0.6062389                        | 0.37988227                       | 0.35243825                       |\n",
       "\n"
      ],
      "text/plain": [
       "  plugin               package                          pre post NOCU      \n",
       "1 org.eclipse.jdt.core org.eclipse.jdt.core             90  21   0.45985401\n",
       "2 org.eclipse.jdt.core org.eclipse.jdt.core.compiler     0   0   0.05839416\n",
       "3 org.eclipse.jdt.core org.eclipse.jdt.core.dom         66   8   0.95620438\n",
       "4 org.eclipse.jdt.core org.eclipse.jdt.core.dom.rewrite  0   0   0.02919708\n",
       "5 org.eclipse.jdt.core org.eclipse.jdt.core.eval         0   0   0.01459854\n",
       "6 org.eclipse.jdt.core org.eclipse.jdt.core.formatter    0  21   0.02189781\n",
       "  NOT_total  NOT_max NOT_avg   NOI_total  NOI_max ... MLOC_max   NBD_max  \n",
       "1 0.14925373 1       0.3125000 1.00000000 1       ... 0.06763872 0.6666667\n",
       "2 0.04477612 1       0.6666667 0.06818182 1       ... 0.03442689 0.4166667\n",
       "3 0.91791045 1       0.9318182 0.20454545 1       ... 0.11502633 0.8333333\n",
       "4 0.02985075 1       0.8000000 0.02272727 1       ... 0.02187120 0.4166667\n",
       "5 0.00000000 0       0.0000000 0.06818182 1       ... 0.00000000 0.0000000\n",
       "6 0.02985075 1       1.0000000 0.00000000 0       ... 0.03037667 0.3333333\n",
       "  PAR_max   VG_max     FOUT_max   MLOC_avg   NBD_avg   PAR_avg   VG_avg    \n",
       "1 0.4782609 0.04622871 0.10489510 0.07075357 0.1929348 0.4810456 0.09909972\n",
       "2 0.2173913 0.04379562 0.03496503 0.10588085 0.3055556 0.5376598 0.24167910\n",
       "3 0.3043478 0.12408759 0.16783217 0.11135391 0.3916790 0.2367673 0.13105553\n",
       "4 0.1739130 0.01824818 0.10139860 0.12845348 0.4441489 0.4389110 0.16868038\n",
       "5 0.3043478 0.00000000 0.00000000 0.00000000 0.0000000 0.7010823 0.00000000\n",
       "6 0.1739130 0.02189781 0.05594406 0.26166045 0.5546875 0.6062389 0.37988227\n",
       "  FOUT_avg  \n",
       "1 0.11150511\n",
       "2 0.06196717\n",
       "3 0.22591430\n",
       "4 0.34922453\n",
       "5 0.00000000\n",
       "6 0.35243825"
      ]
     },
     "metadata": {},
     "output_type": "display_data"
    }
   ],
   "source": [
    "files_32 = cbind(files_32[,1:2], files_32[c(\"pre\", \"post\")], files_32[,3:32], files_32[,35:44])\n",
    "# files_32 <- na.omit(files_32)\n",
    "\n",
    "files_34 = cbind(files_34[,1:2], files_34[c(\"pre\", \"post\")], files_34[,3:32], files_34[,35:44])\n",
    "# files_34 <- na.omit(files_34)\n",
    "\n",
    "files_35 = cbind(files_35[,1:2], files_35[c(\"pre\", \"post\")], files_35[,3:32], files_35[,35:44])\n",
    "# files_35 <- na.omit(files_35)\n",
    "\n",
    "head(files_35)"
   ]
  },
  {
   "cell_type": "code",
   "execution_count": 5,
   "metadata": {},
   "outputs": [],
   "source": [
    "# col_name <- names(files_32)\n",
    "# env_vars <- col_name\n",
    "# for (env in env_vars){\n",
    "#    print(paste(env, \"+\"))\n",
    "# }\n",
    "# env_vars"
   ]
  },
  {
   "cell_type": "raw",
   "metadata": {},
   "source": [
    "test_classification_pkg <- function (label, train, test) \n",
    "{\n",
    "    cat(\"-------------------\", label, \"-------------------\\n\")\n",
    "    model.glm <- glm((post>0) ~ \n",
    "                        pre +\n",
    "                        NOCU +\n",
    "                        NOT_total +\n",
    "                        NOT_max +\n",
    "                        NOT_avg +\n",
    "                        NOI_total +\n",
    "                        NOI_max +\n",
    "                        NOI_avg +\n",
    "                        TLOC_total +\n",
    "                        TLOC_max +\n",
    "                        TLOC_avg +\n",
    "                        ACD_total +\n",
    "                        ACD_max +\n",
    "                        ACD_avg +\n",
    "                        NSM_total +\n",
    "                        NSM_max +\n",
    "                        NSM_avg +\n",
    "                        NSF_total +\n",
    "                        NSF_max +\n",
    "                        NSF_avg +\n",
    "                        NOM_total +\n",
    "                        NOM_max +\n",
    "                        NOM_avg +\n",
    "                        NOF_total +\n",
    "                        NOF_max +\n",
    "                        NOF_avg +\n",
    "                        MLOC_total +\n",
    "                        NBD_total +\n",
    "                        PAR_total +\n",
    "                        VG_total +\n",
    "                        FOUT_total +\n",
    "                        MLOC_max +\n",
    "                        NBD_max +\n",
    "                        PAR_max +\n",
    "                        VG_max +\n",
    "                        FOUT_max +\n",
    "                        MLOC_avg +\n",
    "                        NBD_avg +\n",
    "                        PAR_avg +\n",
    "                        VG_avg +\n",
    "                        FOUT_avg\n",
    "                     \n",
    "                     , data=train, family = \"binomial\")\n",
    "    test.prob <- predict(model.glm, test, type=\"response\")\n",
    "    test.pred <- test.prob>=0.50\n",
    "\n",
    "    outcome <- table(factor(test$post>0, levels=c(F,T)), factor(test.pred, levels=c(F,T)))\n",
    "    TN <- outcome[1,1]\n",
    "    FN <- outcome[2,1]\n",
    "    FP <- outcome[1,2]\n",
    "    TP <- outcome[2,2]\n",
    "    precision <- if (TP + FP ==0) { 1 } else { TP / (TP + FP) }\n",
    "    recall <- TP / (TP + FN)\n",
    "    accuracy <- (TP + TN) / (TN + FN + FP + TP)\n",
    "    defects <- (TP + FN) / (TN + FN + FP + TP)\n",
    "    cat(\"defects, precision, recall, accuracy \\n\")\n",
    "    return (c(defects, precision, recall, accuracy))\n",
    "}\n",
    "\n",
    "cat(\"Logistic regression classification packageLevel. \\nx.y means that trained on x, predict on y\\n\\n\")\n",
    "test_classification_pkg(2.2, files_32, files_32)\n",
    "test_classification_pkg(2.4, files_32, files_34)\n",
    "test_classification_pkg(2.5, files_32, files_35)\n",
    "\n",
    "test_classification_pkg(4.2,files_34, files_32)\n",
    "test_classification_pkg(4.4,files_34, files_34)\n",
    "test_classification_pkg(4.5,files_34, files_35)\n",
    "\n",
    "test_classification_pkg(5.2,files_35, files_32)\n",
    "test_classification_pkg(5.3,files_35, files_34)\n",
    "test_classification_pkg(5.4,files_35, files_35)"
   ]
  },
  {
   "cell_type": "markdown",
   "metadata": {},
   "source": [
    "Prrecision increased, but accuracy decreased.\n",
    "\n",
    "Defect higher. \n",
    "\n",
    "\"However, the recall increases substantially. \""
   ]
  },
  {
   "cell_type": "code",
   "execution_count": 6,
   "metadata": {},
   "outputs": [
    {
     "name": "stdout",
     "output_type": "stream",
     "text": [
      "linear regression ranking packageLevel. \n",
      "x.y means that trained on x, predict on y\n",
      "\n",
      "------------------- 2.2 -------------------\n",
      "r.squared, pearson, spearman, pearson.p<0.01, spearman.p<0.01 \n"
     ]
    },
    {
     "data": {
      "text/html": [
       "<ol class=list-inline>\n",
       "\t<li>0.990155576360544</li>\n",
       "\t<li>0.995065614098158</li>\n",
       "\t<li>0.927136709631445</li>\n",
       "\t<li>1</li>\n",
       "\t<li>1</li>\n",
       "</ol>\n"
      ],
      "text/latex": [
       "\\begin{enumerate*}\n",
       "\\item 0.990155576360544\n",
       "\\item 0.995065614098158\n",
       "\\item 0.927136709631445\n",
       "\\item 1\n",
       "\\item 1\n",
       "\\end{enumerate*}\n"
      ],
      "text/markdown": [
       "1. 0.990155576360544\n",
       "2. 0.995065614098158\n",
       "3. 0.927136709631445\n",
       "4. 1\n",
       "5. 1\n",
       "\n",
       "\n"
      ],
      "text/plain": [
       "[1] 0.9901556 0.9950656 0.9271367 1.0000000 1.0000000"
      ]
     },
     "metadata": {},
     "output_type": "display_data"
    },
    {
     "name": "stdout",
     "output_type": "stream",
     "text": [
      "------------------- 2.4 -------------------\n",
      "r.squared, pearson, spearman, pearson.p<0.01, spearman.p<0.01 \n"
     ]
    },
    {
     "data": {
      "text/html": [
       "<ol class=list-inline>\n",
       "\t<li>0.990155576360544</li>\n",
       "\t<li>0.84127346894146</li>\n",
       "\t<li>0.639058631199772</li>\n",
       "\t<li>1</li>\n",
       "\t<li>1</li>\n",
       "</ol>\n"
      ],
      "text/latex": [
       "\\begin{enumerate*}\n",
       "\\item 0.990155576360544\n",
       "\\item 0.84127346894146\n",
       "\\item 0.639058631199772\n",
       "\\item 1\n",
       "\\item 1\n",
       "\\end{enumerate*}\n"
      ],
      "text/markdown": [
       "1. 0.990155576360544\n",
       "2. 0.84127346894146\n",
       "3. 0.639058631199772\n",
       "4. 1\n",
       "5. 1\n",
       "\n",
       "\n"
      ],
      "text/plain": [
       "[1] 0.9901556 0.8412735 0.6390586 1.0000000 1.0000000"
      ]
     },
     "metadata": {},
     "output_type": "display_data"
    },
    {
     "name": "stdout",
     "output_type": "stream",
     "text": [
      "------------------- 2.5 -------------------\n",
      "r.squared, pearson, spearman, pearson.p<0.01, spearman.p<0.01 \n"
     ]
    },
    {
     "data": {
      "text/html": [
       "<ol class=list-inline>\n",
       "\t<li>0.990155576360544</li>\n",
       "\t<li>0.877417311417841</li>\n",
       "\t<li>0.470810895481287</li>\n",
       "\t<li>1</li>\n",
       "\t<li>1</li>\n",
       "</ol>\n"
      ],
      "text/latex": [
       "\\begin{enumerate*}\n",
       "\\item 0.990155576360544\n",
       "\\item 0.877417311417841\n",
       "\\item 0.470810895481287\n",
       "\\item 1\n",
       "\\item 1\n",
       "\\end{enumerate*}\n"
      ],
      "text/markdown": [
       "1. 0.990155576360544\n",
       "2. 0.877417311417841\n",
       "3. 0.470810895481287\n",
       "4. 1\n",
       "5. 1\n",
       "\n",
       "\n"
      ],
      "text/plain": [
       "[1] 0.9901556 0.8774173 0.4708109 1.0000000 1.0000000"
      ]
     },
     "metadata": {},
     "output_type": "display_data"
    },
    {
     "name": "stdout",
     "output_type": "stream",
     "text": [
      "------------------- 4.2 -------------------\n",
      "r.squared, pearson, spearman, pearson.p<0.01, spearman.p<0.01 \n"
     ]
    },
    {
     "data": {
      "text/html": [
       "<ol class=list-inline>\n",
       "\t<li>0.987343410474809</li>\n",
       "\t<li>0.658376960299199</li>\n",
       "\t<li>0.493599023060435</li>\n",
       "\t<li>1</li>\n",
       "\t<li>1</li>\n",
       "</ol>\n"
      ],
      "text/latex": [
       "\\begin{enumerate*}\n",
       "\\item 0.987343410474809\n",
       "\\item 0.658376960299199\n",
       "\\item 0.493599023060435\n",
       "\\item 1\n",
       "\\item 1\n",
       "\\end{enumerate*}\n"
      ],
      "text/markdown": [
       "1. 0.987343410474809\n",
       "2. 0.658376960299199\n",
       "3. 0.493599023060435\n",
       "4. 1\n",
       "5. 1\n",
       "\n",
       "\n"
      ],
      "text/plain": [
       "[1] 0.9873434 0.6583770 0.4935990 1.0000000 1.0000000"
      ]
     },
     "metadata": {},
     "output_type": "display_data"
    },
    {
     "name": "stdout",
     "output_type": "stream",
     "text": [
      "------------------- 4.4 -------------------\n",
      "r.squared, pearson, spearman, pearson.p<0.01, spearman.p<0.01 \n"
     ]
    },
    {
     "data": {
      "text/html": [
       "<ol class=list-inline>\n",
       "\t<li>0.987343410474809</li>\n",
       "\t<li>0.993651553853165</li>\n",
       "\t<li>0.844817795119353</li>\n",
       "\t<li>1</li>\n",
       "\t<li>1</li>\n",
       "</ol>\n"
      ],
      "text/latex": [
       "\\begin{enumerate*}\n",
       "\\item 0.987343410474809\n",
       "\\item 0.993651553853165\n",
       "\\item 0.844817795119353\n",
       "\\item 1\n",
       "\\item 1\n",
       "\\end{enumerate*}\n"
      ],
      "text/markdown": [
       "1. 0.987343410474809\n",
       "2. 0.993651553853165\n",
       "3. 0.844817795119353\n",
       "4. 1\n",
       "5. 1\n",
       "\n",
       "\n"
      ],
      "text/plain": [
       "[1] 0.9873434 0.9936516 0.8448178 1.0000000 1.0000000"
      ]
     },
     "metadata": {},
     "output_type": "display_data"
    },
    {
     "name": "stdout",
     "output_type": "stream",
     "text": [
      "------------------- 4.5 -------------------\n",
      "r.squared, pearson, spearman, pearson.p<0.01, spearman.p<0.01 \n"
     ]
    },
    {
     "data": {
      "text/html": [
       "<ol class=list-inline>\n",
       "\t<li>0.987343410474809</li>\n",
       "\t<li>0.872996739995015</li>\n",
       "\t<li>0.614843554924288</li>\n",
       "\t<li>1</li>\n",
       "\t<li>1</li>\n",
       "</ol>\n"
      ],
      "text/latex": [
       "\\begin{enumerate*}\n",
       "\\item 0.987343410474809\n",
       "\\item 0.872996739995015\n",
       "\\item 0.614843554924288\n",
       "\\item 1\n",
       "\\item 1\n",
       "\\end{enumerate*}\n"
      ],
      "text/markdown": [
       "1. 0.987343410474809\n",
       "2. 0.872996739995015\n",
       "3. 0.614843554924288\n",
       "4. 1\n",
       "5. 1\n",
       "\n",
       "\n"
      ],
      "text/plain": [
       "[1] 0.9873434 0.8729967 0.6148436 1.0000000 1.0000000"
      ]
     },
     "metadata": {},
     "output_type": "display_data"
    },
    {
     "name": "stdout",
     "output_type": "stream",
     "text": [
      "------------------- 5.2 -------------------\n",
      "r.squared, pearson, spearman, pearson.p<0.01, spearman.p<0.01 \n"
     ]
    },
    {
     "data": {
      "text/html": [
       "<ol class=list-inline>\n",
       "\t<li>0.987163290688056</li>\n",
       "\t<li>0.817839343873286</li>\n",
       "\t<li>0.487526236880246</li>\n",
       "\t<li>1</li>\n",
       "\t<li>1</li>\n",
       "</ol>\n"
      ],
      "text/latex": [
       "\\begin{enumerate*}\n",
       "\\item 0.987163290688056\n",
       "\\item 0.817839343873286\n",
       "\\item 0.487526236880246\n",
       "\\item 1\n",
       "\\item 1\n",
       "\\end{enumerate*}\n"
      ],
      "text/markdown": [
       "1. 0.987163290688056\n",
       "2. 0.817839343873286\n",
       "3. 0.487526236880246\n",
       "4. 1\n",
       "5. 1\n",
       "\n",
       "\n"
      ],
      "text/plain": [
       "[1] 0.9871633 0.8178393 0.4875262 1.0000000 1.0000000"
      ]
     },
     "metadata": {},
     "output_type": "display_data"
    },
    {
     "name": "stdout",
     "output_type": "stream",
     "text": [
      "------------------- 5.3 -------------------\n",
      "r.squared, pearson, spearman, pearson.p<0.01, spearman.p<0.01 \n"
     ]
    },
    {
     "data": {
      "text/html": [
       "<ol class=list-inline>\n",
       "\t<li>0.987163290688056</li>\n",
       "\t<li>0.905492689957102</li>\n",
       "\t<li>0.53015293399463</li>\n",
       "\t<li>1</li>\n",
       "\t<li>1</li>\n",
       "</ol>\n"
      ],
      "text/latex": [
       "\\begin{enumerate*}\n",
       "\\item 0.987163290688056\n",
       "\\item 0.905492689957102\n",
       "\\item 0.53015293399463\n",
       "\\item 1\n",
       "\\item 1\n",
       "\\end{enumerate*}\n"
      ],
      "text/markdown": [
       "1. 0.987163290688056\n",
       "2. 0.905492689957102\n",
       "3. 0.53015293399463\n",
       "4. 1\n",
       "5. 1\n",
       "\n",
       "\n"
      ],
      "text/plain": [
       "[1] 0.9871633 0.9054927 0.5301529 1.0000000 1.0000000"
      ]
     },
     "metadata": {},
     "output_type": "display_data"
    },
    {
     "name": "stdout",
     "output_type": "stream",
     "text": [
      "------------------- 5.4 -------------------\n",
      "r.squared, pearson, spearman, pearson.p<0.01, spearman.p<0.01 \n"
     ]
    },
    {
     "data": {
      "text/html": [
       "<ol class=list-inline>\n",
       "\t<li>0.987163290688056</li>\n",
       "\t<li>0.993560914432556</li>\n",
       "\t<li>0.80936492380924</li>\n",
       "\t<li>1</li>\n",
       "\t<li>1</li>\n",
       "</ol>\n"
      ],
      "text/latex": [
       "\\begin{enumerate*}\n",
       "\\item 0.987163290688056\n",
       "\\item 0.993560914432556\n",
       "\\item 0.80936492380924\n",
       "\\item 1\n",
       "\\item 1\n",
       "\\end{enumerate*}\n"
      ],
      "text/markdown": [
       "1. 0.987163290688056\n",
       "2. 0.993560914432556\n",
       "3. 0.80936492380924\n",
       "4. 1\n",
       "5. 1\n",
       "\n",
       "\n"
      ],
      "text/plain": [
       "[1] 0.9871633 0.9935609 0.8093649 1.0000000 1.0000000"
      ]
     },
     "metadata": {},
     "output_type": "display_data"
    }
   ],
   "source": [
    "## need to understand how to interprete the r^2, pearson, spearman, and their p.value. \n",
    "test_ranking_pkg <- function (label, train, test) \n",
    "{\n",
    "    cat(\"-------------------\", label, \"-------------------\\n\")\n",
    "    model.lm <- lm(post ~ \n",
    "                   \n",
    "                        pre +\n",
    "                        NOCU +\n",
    "                        NOT_total +\n",
    "                        NOT_max +\n",
    "                        NOT_avg +\n",
    "                        NOI_total +\n",
    "                        NOI_max +\n",
    "                        NOI_avg +\n",
    "                        TLOC_total +\n",
    "                        TLOC_max +\n",
    "                        TLOC_avg +\n",
    "                        ACD_total +\n",
    "                        ACD_max +\n",
    "                        ACD_avg +\n",
    "                        NSM_total +\n",
    "                        NSM_max +\n",
    "                        NSM_avg +\n",
    "                        NSF_total +\n",
    "                        NSF_max +\n",
    "                        NSF_avg +\n",
    "                        NOM_total +\n",
    "                        NOM_max +\n",
    "                        NOM_avg +\n",
    "                        NOF_total +\n",
    "                        NOF_max +\n",
    "                        NOF_avg +\n",
    "                        MLOC_total +\n",
    "                        NBD_total +\n",
    "                        PAR_total +\n",
    "                        VG_total +\n",
    "                        FOUT_total +\n",
    "                        MLOC_max +\n",
    "                        NBD_max +\n",
    "                        PAR_max +\n",
    "                        VG_max +\n",
    "                        FOUT_max +\n",
    "                        MLOC_avg +\n",
    "                        NBD_avg +\n",
    "                        PAR_avg +\n",
    "                        VG_avg +\n",
    "                        FOUT_avg\n",
    "                   \n",
    "                   , data=train)\n",
    "    test.pred <- predict(model.lm, test)\n",
    "\n",
    "    r.squared <- summary(model.lm)$r.squared\n",
    "    pearson <- cor(test$post, test.pred, method=\"pearson\")\n",
    "    spearman <- cor(test$post, test.pred, method=\"spearman\")\n",
    "    pearson.p <- cor.test(test$post, test.pred, method=\"pearson\")$p.value\n",
    "    spearman.p <- cor.test(test$post, test.pred, method=\"spearman\", exact=FALSE)$p.value\n",
    "\n",
    "    cat(\"r.squared, pearson, spearman, pearson.p<0.01, spearman.p<0.01 \\n\")\n",
    "    return (c(r.squared, pearson, spearman, pearson.p<0.01, spearman.p<0.01))\n",
    "}\n",
    "\n",
    "cat(\"linear regression ranking packageLevel. \\nx.y means that trained on x, predict on y\\n\\n\")\n",
    "test_ranking_pkg(2.2, files_32, files_32)\n",
    "test_ranking_pkg(2.4, files_32, files_34)\n",
    "test_ranking_pkg(2.5, files_32, files_35)\n",
    "\n",
    "test_ranking_pkg(4.2,files_34, files_32)\n",
    "test_ranking_pkg(4.4,files_34, files_34)\n",
    "test_ranking_pkg(4.5,files_34, files_35)\n",
    "\n",
    "test_ranking_pkg(5.2,files_35, files_32)\n",
    "test_ranking_pkg(5.3,files_35, files_34)\n",
    "test_ranking_pkg(5.4,files_35, files_35)"
   ]
  },
  {
   "cell_type": "markdown",
   "metadata": {},
   "source": [
    "According to r.square, around `99%` \"of variance are explained by complexity metrics\".\n",
    "\n",
    "Except for training and predicting on it self, the spearman correlation value ρ are various, some are as high as `0.640`, some are as low as `0.425`. And they are also positive. \n",
    "\n",
    "\"Also, models learned from earlier releases can be used to predict for future releases; for instance the model trained from release `3.2` showed a correlation of `0.640` on release `3.4`\". \n",
    "\n",
    "\"Again the increase in correlation and R2 values demonstrates that it is easier to make predictions for packages than for files.\""
   ]
  }
 ],
 "metadata": {
  "kernelspec": {
   "display_name": "R",
   "language": "R",
   "name": "ir"
  },
  "language_info": {
   "codemirror_mode": "r",
   "file_extension": ".r",
   "mimetype": "text/x-r-source",
   "name": "R",
   "pygments_lexer": "r",
   "version": "3.5.1"
  }
 },
 "nbformat": 4,
 "nbformat_minor": 2
}
