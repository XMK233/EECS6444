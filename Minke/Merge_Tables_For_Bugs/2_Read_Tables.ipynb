{
 "cells": [
  {
   "cell_type": "code",
   "execution_count": 1,
   "metadata": {},
   "outputs": [],
   "source": [
    "import pandas as pd\n",
    "import re, os"
   ]
  },
  {
   "cell_type": "code",
   "execution_count": null,
   "metadata": {},
   "outputs": [],
   "source": [
    "def describe_bug_files(PATH, bug_type):\n",
    "    df = pd.read_csv(os.path.join(PATH, \"{}_bug.csv\".format(bug_type)) )\n",
    "    print(\n",
    "    df[\"releaseNo\"].value_counts()\n",
    "    )\n",
    "    \n",
    "    return"
   ]
  },
  {
   "cell_type": "code",
   "execution_count": 10,
   "metadata": {},
   "outputs": [
    {
     "name": "stdout",
     "output_type": "stream",
     "text": [
      "R3_1      360\n",
      "R3_0      353\n",
      "R3_0_1    330\n",
      "R3_1_1    264\n",
      "R3_2      166\n",
      "R3_3      163\n",
      "R3_2_1    124\n",
      "R3_3_1    111\n",
      "R3_2_2    109\n",
      "R3_5       92\n",
      "R3_4_1     91\n",
      "R3_1_2     88\n",
      "R3_5_1     80\n",
      "R3_4       64\n",
      "R3_3_2     40\n",
      "R3_4_2     40\n",
      "R2_1_2     31\n",
      "R2_1_1     29\n",
      "R3_5_2     28\n",
      "R2_0       23\n",
      "R2_1_3     21\n",
      "R2_1        5\n",
      "R3_0_2      2\n",
      "Name: releaseNo, dtype: int64\n",
      "R3_3_1    14\n",
      "R3_1_2    14\n",
      "R3_0      13\n",
      "R3_5_2    12\n",
      "R3_2       9\n",
      "R3_3       9\n",
      "R3_1_1     8\n",
      "R3_4_2     8\n",
      "R3_3_2     6\n",
      "R3_5       5\n",
      "R3_2_2     5\n",
      "R2_1       5\n",
      "R3_4       5\n",
      "R3_1       5\n",
      "R3_5_1     4\n",
      "R2_1_3     3\n",
      "R3_2_1     3\n",
      "R2_1_1     2\n",
      "R3_4_1     2\n",
      "R3_0_1     1\n",
      "Name: releaseNo, dtype: int64\n"
     ]
    }
   ],
   "source": [
    "describe_bug_files(r\"J:\\EECS6444\\Minke\\Merge_Tables_For_Bugs\\Bug_Result\\org.eclipse.jdt.core\", \"pre\")\n",
    "describe_bug_files(r\"J:\\EECS6444\\Minke\\Merge_Tables_For_Bugs\\Bug_Result\\org.eclipse.jdt.core\", \"post\")"
   ]
  },
  {
   "cell_type": "code",
   "execution_count": 11,
   "metadata": {},
   "outputs": [
    {
     "name": "stdout",
     "output_type": "stream",
     "text": [
      "R3_1_2    3\n",
      "R3_1_1    2\n",
      "R3_2      2\n",
      "R3_2_1    2\n",
      "R3_3_1    1\n",
      "R2_1      1\n",
      "R3_1      1\n",
      "R2_1_1    1\n",
      "R3_0_1    1\n",
      "R2_0      1\n",
      "Name: releaseNo, dtype: int64\n",
      "R3_1      2\n",
      "R3_1_1    1\n",
      "Name: releaseNo, dtype: int64\n"
     ]
    }
   ],
   "source": [
    "describe_bug_files(r\"J:\\EECS6444\\Minke\\Merge_Tables_For_Bugs\\Bug_Result\\org.eclipse.platform\", \"pre\")\n",
    "describe_bug_files(r\"J:\\EECS6444\\Minke\\Merge_Tables_For_Bugs\\Bug_Result\\org.eclipse.platform\", \"post\")"
   ]
  },
  {
   "cell_type": "code",
   "execution_count": 1,
   "metadata": {},
   "outputs": [],
   "source": [
    "import pandas as pd\n",
    "import re\n",
    "\n",
    "def change_versions(x):\n",
    "    if x[-2:] == \".0\":\n",
    "        return \"R{}\".format( \"_\".join(   x[0:-2].split(\".\")) )\n",
    "    else:\n",
    "        return \"R{}\".format( \"_\".join(   x.split(\".\")) )\n",
    "\n",
    "def merge_tables(TAB_PATH_1, TAB_PATH_2, TAB_PATH_3, Bug_List, how = \"outer\"):\n",
    "    df1 = pd.read_csv(TAB_PATH_1)\n",
    "    df1[\"date\"] = df1[\"date\"].map(lambda x: x[0:10].replace(\".\", \"-\"))  #pd.to_datetime(, format=\"%Y.%m.%d\")\n",
    "    df2 = pd.read_csv(TAB_PATH_2)\n",
    "    df3 = pd.read_csv(TAB_PATH_3)\n",
    "    df4 = pd.read_csv(Bug_List)\n",
    "    ####\n",
    "    df1.rename(columns={\"fileVersion\": \"commitNo\"}, inplace= True)\n",
    "    df3.rename(columns={\"Version\": \"releaseNo\"}, inplace=True)\n",
    "    df3[\"releaseNo\"] = df3[\"releaseNo\"].map(lambda x: change_versions(x))\n",
    "    df4 = df4[[\"Bug ID\", \"Changed\"]]\n",
    "    df4[\"Changed\"] = df4[\"Changed\"].map(lambda x: x[0:10])\n",
    "    df4.rename(columns={\"Bug ID\": \"bugID\"}, inplace=True)\n",
    "    ####\n",
    "    _ = pd.merge(df1,df2,on=['file','commitNo'],how= how)\n",
    "    _1 = pd.merge(_, df3, on = [\"releaseNo\"], how = how)\n",
    "    df_merge = pd.merge(_1, df4, on = [\"bugID\"], how = how)\n",
    "    df_merge[\"date\"] = pd.to_datetime(df_merge[\"date\"], format = '%Y-%m-%d')\n",
    "    df_merge[\"Date\"] = pd.to_datetime(df_merge[\"Date\"], format = '%Y-%m-%d')\n",
    "    df_merge[\"Changed\"] = pd.to_datetime(df_merge[\"Changed\"], format = '%Y-%m-%d')\n",
    "    ##\n",
    "    df_merge[\"Changed-Date\"] = df_merge[\"Changed\"] - df_merge[\"Date\"]\n",
    "    ## \n",
    "    pre_bug = df_merge[(df_merge['Changed-Date'].dt.days > -180) & (df_merge['Changed-Date'].dt.days <= 0)]\n",
    "    post_bug = df_merge[(df_merge['Changed-Date'].dt.days > 0) & (df_merge['Changed-Date'].dt.days <= 180)]\n",
    "    return df_merge, pre_bug, post_bug"
   ]
  },
  {
   "cell_type": "code",
   "execution_count": 2,
   "metadata": {},
   "outputs": [],
   "source": [
    "df, pre_bug, post_bug = merge_tables(\n",
    "    r\"org.eclipse.platform/org.eclipse.platform_no_pattern.csv\", \n",
    "    r\"org.eclipse.platform/org.eclipse.platform_release_commit.csv\", \n",
    "    r\"release-info.csv\", \n",
    "    r\"Platform_Bugs.csv\",\n",
    "    \"inner\"\n",
    ")\n",
    "pre_bug.to_csv(\"platform_pre_bug.csv\", index=False)\n",
    "post_bug.to_csv(\"platform_post_bug.csv\", index=False)"
   ]
  },
  {
   "cell_type": "code",
   "execution_count": 3,
   "metadata": {},
   "outputs": [],
   "source": [
    "df, pre_bug, post_bug = merge_tables(\n",
    "    r\"org.eclipse.jdt.core/org.eclipse.jdt.core_no_pattern.csv\", \n",
    "    r\"org.eclipse.jdt.core/org.eclipse.jdt.core_release_commit.csv\", \n",
    "    r\"release-info.csv\",\n",
    "    r\"JDT_Bugs.csv\",\n",
    "    \"inner\"\n",
    ")\n",
    "pre_bug.to_csv(\"jdt.core_pre_bug.csv\", index=False)\n",
    "post_bug.to_csv(\"jdt.core_post_bug.csv\", index=False)"
   ]
  },
  {
   "cell_type": "code",
   "execution_count": null,
   "metadata": {},
   "outputs": [],
   "source": []
  }
 ],
 "metadata": {
  "kernelspec": {
   "display_name": "Python 3",
   "language": "python",
   "name": "python3"
  },
  "language_info": {
   "codemirror_mode": {
    "name": "ipython",
    "version": 3
   },
   "file_extension": ".py",
   "mimetype": "text/x-python",
   "name": "python",
   "nbconvert_exporter": "python",
   "pygments_lexer": "ipython3",
   "version": "3.6.8"
  }
 },
 "nbformat": 4,
 "nbformat_minor": 2
}
