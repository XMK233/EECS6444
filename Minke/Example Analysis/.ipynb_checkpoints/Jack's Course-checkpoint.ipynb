{
 "cells": [
  {
   "cell_type": "code",
   "execution_count": 1,
   "metadata": {},
   "outputs": [
    {
     "data": {
      "text/html": [
       "6729"
      ],
      "text/latex": [
       "6729"
      ],
      "text/markdown": [
       "6729"
      ],
      "text/plain": [
       "[1] 6729"
      ]
     },
     "metadata": {},
     "output_type": "display_data"
    },
    {
     "data": {
      "text/html": [
       "7888"
      ],
      "text/latex": [
       "7888"
      ],
      "text/markdown": [
       "7888"
      ],
      "text/plain": [
       "[1] 7888"
      ]
     },
     "metadata": {},
     "output_type": "display_data"
    },
    {
     "data": {
      "text/html": [
       "10593"
      ],
      "text/latex": [
       "10593"
      ],
      "text/markdown": [
       "10593"
      ],
      "text/plain": [
       "[1] 10593"
      ]
     },
     "metadata": {},
     "output_type": "display_data"
    },
    {
     "data": {
      "text/html": [
       "377"
      ],
      "text/latex": [
       "377"
      ],
      "text/markdown": [
       "377"
      ],
      "text/plain": [
       "[1] 377"
      ]
     },
     "metadata": {},
     "output_type": "display_data"
    },
    {
     "data": {
      "text/html": [
       "434"
      ],
      "text/latex": [
       "434"
      ],
      "text/markdown": [
       "434"
      ],
      "text/plain": [
       "[1] 434"
      ]
     },
     "metadata": {},
     "output_type": "display_data"
    },
    {
     "data": {
      "text/html": [
       "661"
      ],
      "text/latex": [
       "661"
      ],
      "text/markdown": [
       "661"
      ],
      "text/plain": [
       "[1] 661"
      ]
     },
     "metadata": {},
     "output_type": "display_data"
    },
    {
     "data": {
      "text/html": [
       "<table>\n",
       "<tbody>\n",
       "\t<tr><th scope=row>pre</th><td> 1.00000000</td><td> 0.39035102</td><td>1          </td><td>1          </td></tr>\n",
       "\t<tr><th scope=row>post</th><td> 0.39035102</td><td> 1.00000000</td><td>1          </td><td>1          </td></tr>\n",
       "\t<tr><th scope=row>ACD</th><td> 0.25753633</td><td> 0.18001680</td><td>1          </td><td>1          </td></tr>\n",
       "\t<tr><th scope=row>FOUT_avg</th><td> 0.31319026</td><td> 0.24154283</td><td>1          </td><td>1          </td></tr>\n",
       "\t<tr><th scope=row>FOUT_max</th><td> 0.37517651</td><td> 0.29146284</td><td>1          </td><td>1          </td></tr>\n",
       "\t<tr><th scope=row>FOUT_sum</th><td> 0.39956576</td><td> 0.31941097</td><td>1          </td><td>1          </td></tr>\n",
       "\t<tr><th scope=row>MLOC_avg</th><td> 0.31409722</td><td> 0.24315219</td><td>1          </td><td>1          </td></tr>\n",
       "\t<tr><th scope=row>MLOC_max</th><td> 0.37978934</td><td> 0.29301400</td><td>1          </td><td>1          </td></tr>\n",
       "\t<tr><th scope=row>MLOC_sum</th><td> 0.40282147</td><td> 0.32234451</td><td>1          </td><td>1          </td></tr>\n",
       "\t<tr><th scope=row>NBD_avg</th><td> 0.30257967</td><td> 0.23720157</td><td>1          </td><td>1          </td></tr>\n",
       "\t<tr><th scope=row>NBD_max</th><td> 0.36825360</td><td> 0.28952256</td><td>1          </td><td>1          </td></tr>\n",
       "\t<tr><th scope=row>NBD_sum</th><td> 0.39167798</td><td> 0.31996872</td><td>1          </td><td>1          </td></tr>\n",
       "\t<tr><th scope=row>NOF_avg</th><td> 0.24184693</td><td> 0.19137270</td><td>1          </td><td>1          </td></tr>\n",
       "\t<tr><th scope=row>NOF_max</th><td> 0.25560825</td><td> 0.20084848</td><td>1          </td><td>1          </td></tr>\n",
       "\t<tr><th scope=row>NOF_sum</th><td> 0.25986212</td><td> 0.20449351</td><td>1          </td><td>1          </td></tr>\n",
       "\t<tr><th scope=row>NOI</th><td>-0.16027268</td><td>-0.12901286</td><td>1          </td><td>1          </td></tr>\n",
       "\t<tr><th scope=row>NOM_avg</th><td> 0.29621777</td><td> 0.25515216</td><td>1          </td><td>1          </td></tr>\n",
       "\t<tr><th scope=row>NOM_max</th><td> 0.31351322</td><td> 0.26630475</td><td>1          </td><td>1          </td></tr>\n",
       "\t<tr><th scope=row>NOM_sum</th><td> 0.31865840</td><td> 0.26849383</td><td>1          </td><td>1          </td></tr>\n",
       "\t<tr><th scope=row>NOT</th><td> 0.16029769</td><td> 0.12913849</td><td>1          </td><td>1          </td></tr>\n",
       "\t<tr><th scope=row>NSF_avg</th><td> 0.17447220</td><td> 0.16217570</td><td>1          </td><td>1          </td></tr>\n",
       "\t<tr><th scope=row>NSF_max</th><td> 0.18562744</td><td> 0.17012308</td><td>1          </td><td>1          </td></tr>\n",
       "\t<tr><th scope=row>NSF_sum</th><td> 0.18627338</td><td> 0.17026016</td><td>1          </td><td>1          </td></tr>\n",
       "\t<tr><th scope=row>NSM_avg</th><td> 0.19720208</td><td> 0.17646657</td><td>1          </td><td>1          </td></tr>\n",
       "\t<tr><th scope=row>NSM_max</th><td> 0.20219685</td><td> 0.17888908</td><td>1          </td><td>1          </td></tr>\n",
       "\t<tr><th scope=row>NSM_sum</th><td> 0.20238360</td><td> 0.17906116</td><td>1          </td><td>1          </td></tr>\n",
       "\t<tr><th scope=row>PAR_avg</th><td> 0.09446341</td><td> 0.06433339</td><td>1          </td><td>1          </td></tr>\n",
       "\t<tr><th scope=row>PAR_max</th><td> 0.25718369</td><td> 0.20922451</td><td>1          </td><td>1          </td></tr>\n",
       "\t<tr><th scope=row>PAR_sum</th><td> 0.34979935</td><td> 0.28294031</td><td>1          </td><td>1          </td></tr>\n",
       "\t<tr><th scope=row>TLOC</th><td> 0.42063178</td><td> 0.33310838</td><td>1          </td><td>1          </td></tr>\n",
       "\t<tr><th scope=row>VG_avg</th><td> 0.30014104</td><td> 0.23424179</td><td>1          </td><td>1          </td></tr>\n",
       "\t<tr><th scope=row>VG_max</th><td> 0.35868211</td><td> 0.27879915</td><td>1          </td><td>1          </td></tr>\n",
       "\t<tr><th scope=row>VG_sum</th><td> 0.38854899</td><td> 0.31507908</td><td>1          </td><td>1          </td></tr>\n",
       "</tbody>\n",
       "</table>\n"
      ],
      "text/latex": [
       "\\begin{tabular}{r|llll}\n",
       "\tpre &  1.00000000 &  0.39035102 & 1           & 1          \\\\\n",
       "\tpost &  0.39035102 &  1.00000000 & 1           & 1          \\\\\n",
       "\tACD &  0.25753633 &  0.18001680 & 1           & 1          \\\\\n",
       "\tFOUT\\_avg &  0.31319026 &  0.24154283 & 1           & 1          \\\\\n",
       "\tFOUT\\_max &  0.37517651 &  0.29146284 & 1           & 1          \\\\\n",
       "\tFOUT\\_sum &  0.39956576 &  0.31941097 & 1           & 1          \\\\\n",
       "\tMLOC\\_avg &  0.31409722 &  0.24315219 & 1           & 1          \\\\\n",
       "\tMLOC\\_max &  0.37978934 &  0.29301400 & 1           & 1          \\\\\n",
       "\tMLOC\\_sum &  0.40282147 &  0.32234451 & 1           & 1          \\\\\n",
       "\tNBD\\_avg &  0.30257967 &  0.23720157 & 1           & 1          \\\\\n",
       "\tNBD\\_max &  0.36825360 &  0.28952256 & 1           & 1          \\\\\n",
       "\tNBD\\_sum &  0.39167798 &  0.31996872 & 1           & 1          \\\\\n",
       "\tNOF\\_avg &  0.24184693 &  0.19137270 & 1           & 1          \\\\\n",
       "\tNOF\\_max &  0.25560825 &  0.20084848 & 1           & 1          \\\\\n",
       "\tNOF\\_sum &  0.25986212 &  0.20449351 & 1           & 1          \\\\\n",
       "\tNOI & -0.16027268 & -0.12901286 & 1           & 1          \\\\\n",
       "\tNOM\\_avg &  0.29621777 &  0.25515216 & 1           & 1          \\\\\n",
       "\tNOM\\_max &  0.31351322 &  0.26630475 & 1           & 1          \\\\\n",
       "\tNOM\\_sum &  0.31865840 &  0.26849383 & 1           & 1          \\\\\n",
       "\tNOT &  0.16029769 &  0.12913849 & 1           & 1          \\\\\n",
       "\tNSF\\_avg &  0.17447220 &  0.16217570 & 1           & 1          \\\\\n",
       "\tNSF\\_max &  0.18562744 &  0.17012308 & 1           & 1          \\\\\n",
       "\tNSF\\_sum &  0.18627338 &  0.17026016 & 1           & 1          \\\\\n",
       "\tNSM\\_avg &  0.19720208 &  0.17646657 & 1           & 1          \\\\\n",
       "\tNSM\\_max &  0.20219685 &  0.17888908 & 1           & 1          \\\\\n",
       "\tNSM\\_sum &  0.20238360 &  0.17906116 & 1           & 1          \\\\\n",
       "\tPAR\\_avg &  0.09446341 &  0.06433339 & 1           & 1          \\\\\n",
       "\tPAR\\_max &  0.25718369 &  0.20922451 & 1           & 1          \\\\\n",
       "\tPAR\\_sum &  0.34979935 &  0.28294031 & 1           & 1          \\\\\n",
       "\tTLOC &  0.42063178 &  0.33310838 & 1           & 1          \\\\\n",
       "\tVG\\_avg &  0.30014104 &  0.23424179 & 1           & 1          \\\\\n",
       "\tVG\\_max &  0.35868211 &  0.27879915 & 1           & 1          \\\\\n",
       "\tVG\\_sum &  0.38854899 &  0.31507908 & 1           & 1          \\\\\n",
       "\\end{tabular}\n"
      ],
      "text/markdown": [
       "\n",
       "| pre |  1.00000000 |  0.39035102 | 1           | 1           |\n",
       "| post |  0.39035102 |  1.00000000 | 1           | 1           |\n",
       "| ACD |  0.25753633 |  0.18001680 | 1           | 1           |\n",
       "| FOUT_avg |  0.31319026 |  0.24154283 | 1           | 1           |\n",
       "| FOUT_max |  0.37517651 |  0.29146284 | 1           | 1           |\n",
       "| FOUT_sum |  0.39956576 |  0.31941097 | 1           | 1           |\n",
       "| MLOC_avg |  0.31409722 |  0.24315219 | 1           | 1           |\n",
       "| MLOC_max |  0.37978934 |  0.29301400 | 1           | 1           |\n",
       "| MLOC_sum |  0.40282147 |  0.32234451 | 1           | 1           |\n",
       "| NBD_avg |  0.30257967 |  0.23720157 | 1           | 1           |\n",
       "| NBD_max |  0.36825360 |  0.28952256 | 1           | 1           |\n",
       "| NBD_sum |  0.39167798 |  0.31996872 | 1           | 1           |\n",
       "| NOF_avg |  0.24184693 |  0.19137270 | 1           | 1           |\n",
       "| NOF_max |  0.25560825 |  0.20084848 | 1           | 1           |\n",
       "| NOF_sum |  0.25986212 |  0.20449351 | 1           | 1           |\n",
       "| NOI | -0.16027268 | -0.12901286 | 1           | 1           |\n",
       "| NOM_avg |  0.29621777 |  0.25515216 | 1           | 1           |\n",
       "| NOM_max |  0.31351322 |  0.26630475 | 1           | 1           |\n",
       "| NOM_sum |  0.31865840 |  0.26849383 | 1           | 1           |\n",
       "| NOT |  0.16029769 |  0.12913849 | 1           | 1           |\n",
       "| NSF_avg |  0.17447220 |  0.16217570 | 1           | 1           |\n",
       "| NSF_max |  0.18562744 |  0.17012308 | 1           | 1           |\n",
       "| NSF_sum |  0.18627338 |  0.17026016 | 1           | 1           |\n",
       "| NSM_avg |  0.19720208 |  0.17646657 | 1           | 1           |\n",
       "| NSM_max |  0.20219685 |  0.17888908 | 1           | 1           |\n",
       "| NSM_sum |  0.20238360 |  0.17906116 | 1           | 1           |\n",
       "| PAR_avg |  0.09446341 |  0.06433339 | 1           | 1           |\n",
       "| PAR_max |  0.25718369 |  0.20922451 | 1           | 1           |\n",
       "| PAR_sum |  0.34979935 |  0.28294031 | 1           | 1           |\n",
       "| TLOC |  0.42063178 |  0.33310838 | 1           | 1           |\n",
       "| VG_avg |  0.30014104 |  0.23424179 | 1           | 1           |\n",
       "| VG_max |  0.35868211 |  0.27879915 | 1           | 1           |\n",
       "| VG_sum |  0.38854899 |  0.31507908 | 1           | 1           |\n",
       "\n"
      ],
      "text/plain": [
       "         [,1]        [,2]        [,3] [,4]\n",
       "pre       1.00000000  0.39035102 1    1   \n",
       "post      0.39035102  1.00000000 1    1   \n",
       "ACD       0.25753633  0.18001680 1    1   \n",
       "FOUT_avg  0.31319026  0.24154283 1    1   \n",
       "FOUT_max  0.37517651  0.29146284 1    1   \n",
       "FOUT_sum  0.39956576  0.31941097 1    1   \n",
       "MLOC_avg  0.31409722  0.24315219 1    1   \n",
       "MLOC_max  0.37978934  0.29301400 1    1   \n",
       "MLOC_sum  0.40282147  0.32234451 1    1   \n",
       "NBD_avg   0.30257967  0.23720157 1    1   \n",
       "NBD_max   0.36825360  0.28952256 1    1   \n",
       "NBD_sum   0.39167798  0.31996872 1    1   \n",
       "NOF_avg   0.24184693  0.19137270 1    1   \n",
       "NOF_max   0.25560825  0.20084848 1    1   \n",
       "NOF_sum   0.25986212  0.20449351 1    1   \n",
       "NOI      -0.16027268 -0.12901286 1    1   \n",
       "NOM_avg   0.29621777  0.25515216 1    1   \n",
       "NOM_max   0.31351322  0.26630475 1    1   \n",
       "NOM_sum   0.31865840  0.26849383 1    1   \n",
       "NOT       0.16029769  0.12913849 1    1   \n",
       "NSF_avg   0.17447220  0.16217570 1    1   \n",
       "NSF_max   0.18562744  0.17012308 1    1   \n",
       "NSF_sum   0.18627338  0.17026016 1    1   \n",
       "NSM_avg   0.19720208  0.17646657 1    1   \n",
       "NSM_max   0.20219685  0.17888908 1    1   \n",
       "NSM_sum   0.20238360  0.17906116 1    1   \n",
       "PAR_avg   0.09446341  0.06433339 1    1   \n",
       "PAR_max   0.25718369  0.20922451 1    1   \n",
       "PAR_sum   0.34979935  0.28294031 1    1   \n",
       "TLOC      0.42063178  0.33310838 1    1   \n",
       "VG_avg    0.30014104  0.23424179 1    1   \n",
       "VG_max    0.35868211  0.27879915 1    1   \n",
       "VG_sum    0.38854899  0.31507908 1    1   "
      ]
     },
     "metadata": {},
     "output_type": "display_data"
    },
    {
     "data": {
      "text/html": [
       "<table>\n",
       "<tbody>\n",
       "\t<tr><th scope=row>pre</th><td> 1.00000000</td><td> 0.76842634</td><td>1          </td><td>1          </td></tr>\n",
       "\t<tr><th scope=row>post</th><td> 0.76842634</td><td> 1.00000000</td><td>1          </td><td>1          </td></tr>\n",
       "\t<tr><th scope=row>ACD_avg</th><td> 0.31585474</td><td> 0.30127791</td><td>1          </td><td>1          </td></tr>\n",
       "\t<tr><th scope=row>ACD_max</th><td> 0.41632686</td><td> 0.38921558</td><td>1          </td><td>1          </td></tr>\n",
       "\t<tr><th scope=row>ACD_sum</th><td> 0.44183314</td><td> 0.41415275</td><td>1          </td><td>1          </td></tr>\n",
       "\t<tr><th scope=row>FOUT_avg</th><td> 0.25791990</td><td> 0.26585639</td><td>1          </td><td>1          </td></tr>\n",
       "\t<tr><th scope=row>FOUT_max</th><td> 0.42944131</td><td> 0.41313163</td><td>1          </td><td>1          </td></tr>\n",
       "\t<tr><th scope=row>FOUT_sum</th><td> 0.53673242</td><td> 0.52286371</td><td>1          </td><td>1          </td></tr>\n",
       "\t<tr><th scope=row>MLOC_avg</th><td> 0.24174276</td><td> 0.28223014</td><td>1          </td><td>1          </td></tr>\n",
       "\t<tr><th scope=row>MLOC_max</th><td> 0.42875698</td><td> 0.45451235</td><td>1          </td><td>1          </td></tr>\n",
       "\t<tr><th scope=row>MLOC_sum</th><td> 0.54527045</td><td> 0.54388747</td><td>1          </td><td>1          </td></tr>\n",
       "\t<tr><th scope=row>NBD_avg</th><td> 0.24083840</td><td> 0.27989510</td><td>1          </td><td>1          </td></tr>\n",
       "\t<tr><th scope=row>NBD_max</th><td> 0.48663748</td><td> 0.50802964</td><td>1          </td><td>1          </td></tr>\n",
       "\t<tr><th scope=row>NBD_sum</th><td> 0.55186518</td><td> 0.54600549</td><td>1          </td><td>1          </td></tr>\n",
       "\t<tr><th scope=row>NOCU</th><td> 0.51395459</td><td> 0.46101774</td><td>1          </td><td>1          </td></tr>\n",
       "\t<tr><th scope=row>NOF_avg</th><td> 0.26814711</td><td> 0.26404477</td><td>1          </td><td>1          </td></tr>\n",
       "\t<tr><th scope=row>NOF_max</th><td> 0.45603472</td><td> 0.41688475</td><td>1          </td><td>1          </td></tr>\n",
       "\t<tr><th scope=row>NOF_sum</th><td> 0.50664953</td><td> 0.48013963</td><td>1          </td><td>1          </td></tr>\n",
       "\t<tr><th scope=row>NOI_avg</th><td>-0.02108653</td><td>-0.03662111</td><td>0          </td><td>0          </td></tr>\n",
       "\t<tr><th scope=row>NOI_max</th><td> 0.11754941</td><td> 0.09370136</td><td>1          </td><td>0          </td></tr>\n",
       "\t<tr><th scope=row>NOI_sum</th><td> 0.12925972</td><td> 0.11011712</td><td>1          </td><td>1          </td></tr>\n",
       "\t<tr><th scope=row>NOM_avg</th><td> 0.24095241</td><td> 0.27305827</td><td>1          </td><td>1          </td></tr>\n",
       "\t<tr><th scope=row>NOM_max</th><td> 0.41827141</td><td> 0.41700340</td><td>1          </td><td>1          </td></tr>\n",
       "\t<tr><th scope=row>NOM_sum</th><td> 0.50243389</td><td> 0.49089981</td><td>1          </td><td>1          </td></tr>\n",
       "\t<tr><th scope=row>NOT_avg</th><td> 0.02949585</td><td> 0.04329062</td><td>0          </td><td>0          </td></tr>\n",
       "\t<tr><th scope=row>NOT_max</th><td> 0.19034177</td><td> 0.17365297</td><td>1          </td><td>1          </td></tr>\n",
       "\t<tr><th scope=row>NOT_sum</th><td> 0.51810239</td><td> 0.47046882</td><td>1          </td><td>1          </td></tr>\n",
       "\t<tr><th scope=row>NSF_avg</th><td> 0.25585248</td><td> 0.21575883</td><td>1          </td><td>1          </td></tr>\n",
       "\t<tr><th scope=row>NSF_max</th><td> 0.39691823</td><td> 0.35354955</td><td>1          </td><td>1          </td></tr>\n",
       "\t<tr><th scope=row>NSF_sum</th><td> 0.45917787</td><td> 0.41356948</td><td>1          </td><td>1          </td></tr>\n",
       "\t<tr><th scope=row>NSM_avg</th><td> 0.24973849</td><td> 0.17501624</td><td>1          </td><td>1          </td></tr>\n",
       "\t<tr><th scope=row>NSM_max</th><td> 0.39138496</td><td> 0.32326944</td><td>1          </td><td>1          </td></tr>\n",
       "\t<tr><th scope=row>NSM_sum</th><td> 0.44769503</td><td> 0.37091616</td><td>1          </td><td>1          </td></tr>\n",
       "\t<tr><th scope=row>PAR_avg</th><td> 0.11147019</td><td> 0.12182253</td><td>1          </td><td>1          </td></tr>\n",
       "\t<tr><th scope=row>PAR_max</th><td> 0.39860801</td><td> 0.37832626</td><td>1          </td><td>1          </td></tr>\n",
       "\t<tr><th scope=row>PAR_sum</th><td> 0.55393046</td><td> 0.52601790</td><td>1          </td><td>1          </td></tr>\n",
       "\t<tr><th scope=row>TLOC_avg</th><td> 0.35434462</td><td> 0.37693606</td><td>1          </td><td>1          </td></tr>\n",
       "\t<tr><th scope=row>TLOC_max</th><td> 0.52665686</td><td> 0.50542635</td><td>1          </td><td>1          </td></tr>\n",
       "\t<tr><th scope=row>TLOC_sum</th><td> 0.58107076</td><td> 0.55914020</td><td>1          </td><td>1          </td></tr>\n",
       "\t<tr><th scope=row>VG_avg</th><td> 0.25362280</td><td> 0.26821875</td><td>1          </td><td>1          </td></tr>\n",
       "\t<tr><th scope=row>VG_max</th><td> 0.43524815</td><td> 0.42969367</td><td>1          </td><td>1          </td></tr>\n",
       "\t<tr><th scope=row>VG_sum</th><td> 0.54579705</td><td> 0.53759003</td><td>1          </td><td>1          </td></tr>\n",
       "</tbody>\n",
       "</table>\n"
      ],
      "text/latex": [
       "\\begin{tabular}{r|llll}\n",
       "\tpre &  1.00000000 &  0.76842634 & 1           & 1          \\\\\n",
       "\tpost &  0.76842634 &  1.00000000 & 1           & 1          \\\\\n",
       "\tACD\\_avg &  0.31585474 &  0.30127791 & 1           & 1          \\\\\n",
       "\tACD\\_max &  0.41632686 &  0.38921558 & 1           & 1          \\\\\n",
       "\tACD\\_sum &  0.44183314 &  0.41415275 & 1           & 1          \\\\\n",
       "\tFOUT\\_avg &  0.25791990 &  0.26585639 & 1           & 1          \\\\\n",
       "\tFOUT\\_max &  0.42944131 &  0.41313163 & 1           & 1          \\\\\n",
       "\tFOUT\\_sum &  0.53673242 &  0.52286371 & 1           & 1          \\\\\n",
       "\tMLOC\\_avg &  0.24174276 &  0.28223014 & 1           & 1          \\\\\n",
       "\tMLOC\\_max &  0.42875698 &  0.45451235 & 1           & 1          \\\\\n",
       "\tMLOC\\_sum &  0.54527045 &  0.54388747 & 1           & 1          \\\\\n",
       "\tNBD\\_avg &  0.24083840 &  0.27989510 & 1           & 1          \\\\\n",
       "\tNBD\\_max &  0.48663748 &  0.50802964 & 1           & 1          \\\\\n",
       "\tNBD\\_sum &  0.55186518 &  0.54600549 & 1           & 1          \\\\\n",
       "\tNOCU &  0.51395459 &  0.46101774 & 1           & 1          \\\\\n",
       "\tNOF\\_avg &  0.26814711 &  0.26404477 & 1           & 1          \\\\\n",
       "\tNOF\\_max &  0.45603472 &  0.41688475 & 1           & 1          \\\\\n",
       "\tNOF\\_sum &  0.50664953 &  0.48013963 & 1           & 1          \\\\\n",
       "\tNOI\\_avg & -0.02108653 & -0.03662111 & 0           & 0          \\\\\n",
       "\tNOI\\_max &  0.11754941 &  0.09370136 & 1           & 0          \\\\\n",
       "\tNOI\\_sum &  0.12925972 &  0.11011712 & 1           & 1          \\\\\n",
       "\tNOM\\_avg &  0.24095241 &  0.27305827 & 1           & 1          \\\\\n",
       "\tNOM\\_max &  0.41827141 &  0.41700340 & 1           & 1          \\\\\n",
       "\tNOM\\_sum &  0.50243389 &  0.49089981 & 1           & 1          \\\\\n",
       "\tNOT\\_avg &  0.02949585 &  0.04329062 & 0           & 0          \\\\\n",
       "\tNOT\\_max &  0.19034177 &  0.17365297 & 1           & 1          \\\\\n",
       "\tNOT\\_sum &  0.51810239 &  0.47046882 & 1           & 1          \\\\\n",
       "\tNSF\\_avg &  0.25585248 &  0.21575883 & 1           & 1          \\\\\n",
       "\tNSF\\_max &  0.39691823 &  0.35354955 & 1           & 1          \\\\\n",
       "\tNSF\\_sum &  0.45917787 &  0.41356948 & 1           & 1          \\\\\n",
       "\tNSM\\_avg &  0.24973849 &  0.17501624 & 1           & 1          \\\\\n",
       "\tNSM\\_max &  0.39138496 &  0.32326944 & 1           & 1          \\\\\n",
       "\tNSM\\_sum &  0.44769503 &  0.37091616 & 1           & 1          \\\\\n",
       "\tPAR\\_avg &  0.11147019 &  0.12182253 & 1           & 1          \\\\\n",
       "\tPAR\\_max &  0.39860801 &  0.37832626 & 1           & 1          \\\\\n",
       "\tPAR\\_sum &  0.55393046 &  0.52601790 & 1           & 1          \\\\\n",
       "\tTLOC\\_avg &  0.35434462 &  0.37693606 & 1           & 1          \\\\\n",
       "\tTLOC\\_max &  0.52665686 &  0.50542635 & 1           & 1          \\\\\n",
       "\tTLOC\\_sum &  0.58107076 &  0.55914020 & 1           & 1          \\\\\n",
       "\tVG\\_avg &  0.25362280 &  0.26821875 & 1           & 1          \\\\\n",
       "\tVG\\_max &  0.43524815 &  0.42969367 & 1           & 1          \\\\\n",
       "\tVG\\_sum &  0.54579705 &  0.53759003 & 1           & 1          \\\\\n",
       "\\end{tabular}\n"
      ],
      "text/markdown": [
       "\n",
       "| pre |  1.00000000 |  0.76842634 | 1           | 1           |\n",
       "| post |  0.76842634 |  1.00000000 | 1           | 1           |\n",
       "| ACD_avg |  0.31585474 |  0.30127791 | 1           | 1           |\n",
       "| ACD_max |  0.41632686 |  0.38921558 | 1           | 1           |\n",
       "| ACD_sum |  0.44183314 |  0.41415275 | 1           | 1           |\n",
       "| FOUT_avg |  0.25791990 |  0.26585639 | 1           | 1           |\n",
       "| FOUT_max |  0.42944131 |  0.41313163 | 1           | 1           |\n",
       "| FOUT_sum |  0.53673242 |  0.52286371 | 1           | 1           |\n",
       "| MLOC_avg |  0.24174276 |  0.28223014 | 1           | 1           |\n",
       "| MLOC_max |  0.42875698 |  0.45451235 | 1           | 1           |\n",
       "| MLOC_sum |  0.54527045 |  0.54388747 | 1           | 1           |\n",
       "| NBD_avg |  0.24083840 |  0.27989510 | 1           | 1           |\n",
       "| NBD_max |  0.48663748 |  0.50802964 | 1           | 1           |\n",
       "| NBD_sum |  0.55186518 |  0.54600549 | 1           | 1           |\n",
       "| NOCU |  0.51395459 |  0.46101774 | 1           | 1           |\n",
       "| NOF_avg |  0.26814711 |  0.26404477 | 1           | 1           |\n",
       "| NOF_max |  0.45603472 |  0.41688475 | 1           | 1           |\n",
       "| NOF_sum |  0.50664953 |  0.48013963 | 1           | 1           |\n",
       "| NOI_avg | -0.02108653 | -0.03662111 | 0           | 0           |\n",
       "| NOI_max |  0.11754941 |  0.09370136 | 1           | 0           |\n",
       "| NOI_sum |  0.12925972 |  0.11011712 | 1           | 1           |\n",
       "| NOM_avg |  0.24095241 |  0.27305827 | 1           | 1           |\n",
       "| NOM_max |  0.41827141 |  0.41700340 | 1           | 1           |\n",
       "| NOM_sum |  0.50243389 |  0.49089981 | 1           | 1           |\n",
       "| NOT_avg |  0.02949585 |  0.04329062 | 0           | 0           |\n",
       "| NOT_max |  0.19034177 |  0.17365297 | 1           | 1           |\n",
       "| NOT_sum |  0.51810239 |  0.47046882 | 1           | 1           |\n",
       "| NSF_avg |  0.25585248 |  0.21575883 | 1           | 1           |\n",
       "| NSF_max |  0.39691823 |  0.35354955 | 1           | 1           |\n",
       "| NSF_sum |  0.45917787 |  0.41356948 | 1           | 1           |\n",
       "| NSM_avg |  0.24973849 |  0.17501624 | 1           | 1           |\n",
       "| NSM_max |  0.39138496 |  0.32326944 | 1           | 1           |\n",
       "| NSM_sum |  0.44769503 |  0.37091616 | 1           | 1           |\n",
       "| PAR_avg |  0.11147019 |  0.12182253 | 1           | 1           |\n",
       "| PAR_max |  0.39860801 |  0.37832626 | 1           | 1           |\n",
       "| PAR_sum |  0.55393046 |  0.52601790 | 1           | 1           |\n",
       "| TLOC_avg |  0.35434462 |  0.37693606 | 1           | 1           |\n",
       "| TLOC_max |  0.52665686 |  0.50542635 | 1           | 1           |\n",
       "| TLOC_sum |  0.58107076 |  0.55914020 | 1           | 1           |\n",
       "| VG_avg |  0.25362280 |  0.26821875 | 1           | 1           |\n",
       "| VG_max |  0.43524815 |  0.42969367 | 1           | 1           |\n",
       "| VG_sum |  0.54579705 |  0.53759003 | 1           | 1           |\n",
       "\n"
      ],
      "text/plain": [
       "         [,1]        [,2]        [,3] [,4]\n",
       "pre       1.00000000  0.76842634 1    1   \n",
       "post      0.76842634  1.00000000 1    1   \n",
       "ACD_avg   0.31585474  0.30127791 1    1   \n",
       "ACD_max   0.41632686  0.38921558 1    1   \n",
       "ACD_sum   0.44183314  0.41415275 1    1   \n",
       "FOUT_avg  0.25791990  0.26585639 1    1   \n",
       "FOUT_max  0.42944131  0.41313163 1    1   \n",
       "FOUT_sum  0.53673242  0.52286371 1    1   \n",
       "MLOC_avg  0.24174276  0.28223014 1    1   \n",
       "MLOC_max  0.42875698  0.45451235 1    1   \n",
       "MLOC_sum  0.54527045  0.54388747 1    1   \n",
       "NBD_avg   0.24083840  0.27989510 1    1   \n",
       "NBD_max   0.48663748  0.50802964 1    1   \n",
       "NBD_sum   0.55186518  0.54600549 1    1   \n",
       "NOCU      0.51395459  0.46101774 1    1   \n",
       "NOF_avg   0.26814711  0.26404477 1    1   \n",
       "NOF_max   0.45603472  0.41688475 1    1   \n",
       "NOF_sum   0.50664953  0.48013963 1    1   \n",
       "NOI_avg  -0.02108653 -0.03662111 0    0   \n",
       "NOI_max   0.11754941  0.09370136 1    0   \n",
       "NOI_sum   0.12925972  0.11011712 1    1   \n",
       "NOM_avg   0.24095241  0.27305827 1    1   \n",
       "NOM_max   0.41827141  0.41700340 1    1   \n",
       "NOM_sum   0.50243389  0.49089981 1    1   \n",
       "NOT_avg   0.02949585  0.04329062 0    0   \n",
       "NOT_max   0.19034177  0.17365297 1    1   \n",
       "NOT_sum   0.51810239  0.47046882 1    1   \n",
       "NSF_avg   0.25585248  0.21575883 1    1   \n",
       "NSF_max   0.39691823  0.35354955 1    1   \n",
       "NSF_sum   0.45917787  0.41356948 1    1   \n",
       "NSM_avg   0.24973849  0.17501624 1    1   \n",
       "NSM_max   0.39138496  0.32326944 1    1   \n",
       "NSM_sum   0.44769503  0.37091616 1    1   \n",
       "PAR_avg   0.11147019  0.12182253 1    1   \n",
       "PAR_max   0.39860801  0.37832626 1    1   \n",
       "PAR_sum   0.55393046  0.52601790 1    1   \n",
       "TLOC_avg  0.35434462  0.37693606 1    1   \n",
       "TLOC_max  0.52665686  0.50542635 1    1   \n",
       "TLOC_sum  0.58107076  0.55914020 1    1   \n",
       "VG_avg    0.25362280  0.26821875 1    1   \n",
       "VG_max    0.43524815  0.42969367 1    1   \n",
       "VG_sum    0.54579705  0.53759003 1    1   "
      ]
     },
     "metadata": {},
     "output_type": "display_data"
    },
    {
     "data": {
      "text/html": [
       "<ol class=list-inline>\n",
       "\t<li>0.14489522960321</li>\n",
       "\t<li>0.691689008042895</li>\n",
       "\t<li>0.264615384615385</li>\n",
       "\t<li>0.876356070738594</li>\n",
       "</ol>\n"
      ],
      "text/latex": [
       "\\begin{enumerate*}\n",
       "\\item 0.14489522960321\n",
       "\\item 0.691689008042895\n",
       "\\item 0.264615384615385\n",
       "\\item 0.876356070738594\n",
       "\\end{enumerate*}\n"
      ],
      "text/markdown": [
       "1. 0.14489522960321\n",
       "2. 0.691689008042895\n",
       "3. 0.264615384615385\n",
       "4. 0.876356070738594\n",
       "\n",
       "\n"
      ],
      "text/plain": [
       "[1] 0.1448952 0.6916890 0.2646154 0.8763561"
      ]
     },
     "metadata": {},
     "output_type": "display_data"
    },
    {
     "data": {
      "text/html": [
       "<ol class=list-inline>\n",
       "\t<li>0.108265720081136</li>\n",
       "\t<li>0.478005865102639</li>\n",
       "\t<li>0.190866510538642</li>\n",
       "\t<li>0.889832657200811</li>\n",
       "</ol>\n"
      ],
      "text/latex": [
       "\\begin{enumerate*}\n",
       "\\item 0.108265720081136\n",
       "\\item 0.478005865102639\n",
       "\\item 0.190866510538642\n",
       "\\item 0.889832657200811\n",
       "\\end{enumerate*}\n"
      ],
      "text/markdown": [
       "1. 0.108265720081136\n",
       "2. 0.478005865102639\n",
       "3. 0.190866510538642\n",
       "4. 0.889832657200811\n",
       "\n",
       "\n"
      ],
      "text/plain": [
       "[1] 0.1082657 0.4780059 0.1908665 0.8898327"
      ]
     },
     "metadata": {},
     "output_type": "display_data"
    },
    {
     "data": {
      "text/html": [
       "<ol class=list-inline>\n",
       "\t<li>0.1480222788634</li>\n",
       "\t<li>0.613272311212815</li>\n",
       "\t<li>0.170918367346939</li>\n",
       "\t<li>0.861323515529123</li>\n",
       "</ol>\n"
      ],
      "text/latex": [
       "\\begin{enumerate*}\n",
       "\\item 0.1480222788634\n",
       "\\item 0.613272311212815\n",
       "\\item 0.170918367346939\n",
       "\\item 0.861323515529123\n",
       "\\end{enumerate*}\n"
      ],
      "text/markdown": [
       "1. 0.1480222788634\n",
       "2. 0.613272311212815\n",
       "3. 0.170918367346939\n",
       "4. 0.861323515529123\n",
       "\n",
       "\n"
      ],
      "text/plain": [
       "[1] 0.1480223 0.6132723 0.1709184 0.8613235"
      ]
     },
     "metadata": {},
     "output_type": "display_data"
    },
    {
     "data": {
      "text/html": [
       "<ol class=list-inline>\n",
       "\t<li>0.14489522960321</li>\n",
       "\t<li>0.664429530201342</li>\n",
       "\t<li>0.203076923076923</li>\n",
       "\t<li>0.869668598603061</li>\n",
       "</ol>\n"
      ],
      "text/latex": [
       "\\begin{enumerate*}\n",
       "\\item 0.14489522960321\n",
       "\\item 0.664429530201342\n",
       "\\item 0.203076923076923\n",
       "\\item 0.869668598603061\n",
       "\\end{enumerate*}\n"
      ],
      "text/markdown": [
       "1. 0.14489522960321\n",
       "2. 0.664429530201342\n",
       "3. 0.203076923076923\n",
       "4. 0.869668598603061\n",
       "\n",
       "\n"
      ],
      "text/plain": [
       "[1] 0.1448952 0.6644295 0.2030769 0.8696686"
      ]
     },
     "metadata": {},
     "output_type": "display_data"
    },
    {
     "data": {
      "text/html": [
       "<ol class=list-inline>\n",
       "\t<li>0.108265720081136</li>\n",
       "\t<li>0.668292682926829</li>\n",
       "\t<li>0.160421545667447</li>\n",
       "\t<li>0.900481744421907</li>\n",
       "</ol>\n"
      ],
      "text/latex": [
       "\\begin{enumerate*}\n",
       "\\item 0.108265720081136\n",
       "\\item 0.668292682926829\n",
       "\\item 0.160421545667447\n",
       "\\item 0.900481744421907\n",
       "\\end{enumerate*}\n"
      ],
      "text/markdown": [
       "1. 0.108265720081136\n",
       "2. 0.668292682926829\n",
       "3. 0.160421545667447\n",
       "4. 0.900481744421907\n",
       "\n",
       "\n"
      ],
      "text/plain": [
       "[1] 0.1082657 0.6682927 0.1604215 0.9004817"
      ]
     },
     "metadata": {},
     "output_type": "display_data"
    },
    {
     "data": {
      "text/html": [
       "<ol class=list-inline>\n",
       "\t<li>0.1480222788634</li>\n",
       "\t<li>0.717105263157895</li>\n",
       "\t<li>0.139030612244898</li>\n",
       "\t<li>0.864438780326631</li>\n",
       "</ol>\n"
      ],
      "text/latex": [
       "\\begin{enumerate*}\n",
       "\\item 0.1480222788634\n",
       "\\item 0.717105263157895\n",
       "\\item 0.139030612244898\n",
       "\\item 0.864438780326631\n",
       "\\end{enumerate*}\n"
      ],
      "text/markdown": [
       "1. 0.1480222788634\n",
       "2. 0.717105263157895\n",
       "3. 0.139030612244898\n",
       "4. 0.864438780326631\n",
       "\n",
       "\n"
      ],
      "text/plain": [
       "[1] 0.1480223 0.7171053 0.1390306 0.8644388"
      ]
     },
     "metadata": {},
     "output_type": "display_data"
    },
    {
     "data": {
      "text/html": [
       "<ol class=list-inline>\n",
       "\t<li>0.14489522960321</li>\n",
       "\t<li>0.578158458244111</li>\n",
       "\t<li>0.276923076923077</li>\n",
       "\t<li>0.865953336305543</li>\n",
       "</ol>\n"
      ],
      "text/latex": [
       "\\begin{enumerate*}\n",
       "\\item 0.14489522960321\n",
       "\\item 0.578158458244111\n",
       "\\item 0.276923076923077\n",
       "\\item 0.865953336305543\n",
       "\\end{enumerate*}\n"
      ],
      "text/markdown": [
       "1. 0.14489522960321\n",
       "2. 0.578158458244111\n",
       "3. 0.276923076923077\n",
       "4. 0.865953336305543\n",
       "\n",
       "\n"
      ],
      "text/plain": [
       "[1] 0.1448952 0.5781585 0.2769231 0.8659533"
      ]
     },
     "metadata": {},
     "output_type": "display_data"
    },
    {
     "data": {
      "text/html": [
       "<ol class=list-inline>\n",
       "\t<li>0.108265720081136</li>\n",
       "\t<li>0.528089887640449</li>\n",
       "\t<li>0.220140515222482</li>\n",
       "\t<li>0.894269776876268</li>\n",
       "</ol>\n"
      ],
      "text/latex": [
       "\\begin{enumerate*}\n",
       "\\item 0.108265720081136\n",
       "\\item 0.528089887640449\n",
       "\\item 0.220140515222482\n",
       "\\item 0.894269776876268\n",
       "\\end{enumerate*}\n"
      ],
      "text/markdown": [
       "1. 0.108265720081136\n",
       "2. 0.528089887640449\n",
       "3. 0.220140515222482\n",
       "4. 0.894269776876268\n",
       "\n",
       "\n"
      ],
      "text/plain": [
       "[1] 0.1082657 0.5280899 0.2201405 0.8942698"
      ]
     },
     "metadata": {},
     "output_type": "display_data"
    },
    {
     "data": {
      "text/html": [
       "<ol class=list-inline>\n",
       "\t<li>0.1480222788634</li>\n",
       "\t<li>0.675</li>\n",
       "\t<li>0.223852040816327</li>\n",
       "\t<li>0.869158878504673</li>\n",
       "</ol>\n"
      ],
      "text/latex": [
       "\\begin{enumerate*}\n",
       "\\item 0.1480222788634\n",
       "\\item 0.675\n",
       "\\item 0.223852040816327\n",
       "\\item 0.869158878504673\n",
       "\\end{enumerate*}\n"
      ],
      "text/markdown": [
       "1. 0.1480222788634\n",
       "2. 0.675\n",
       "3. 0.223852040816327\n",
       "4. 0.869158878504673\n",
       "\n",
       "\n"
      ],
      "text/plain": [
       "[1] 0.1480223 0.6750000 0.2238520 0.8691589"
      ]
     },
     "metadata": {},
     "output_type": "display_data"
    },
    {
     "name": "stderr",
     "output_type": "stream",
     "text": [
      "Warning message:\n",
      "\"glm.fit: fitted probabilities numerically 0 or 1 occurred\""
     ]
    },
    {
     "data": {
      "text/html": [
       "<ol class=list-inline>\n",
       "\t<li>0.503978779840849</li>\n",
       "\t<li>0.852941176470588</li>\n",
       "\t<li>0.763157894736842</li>\n",
       "\t<li>0.814323607427056</li>\n",
       "</ol>\n"
      ],
      "text/latex": [
       "\\begin{enumerate*}\n",
       "\\item 0.503978779840849\n",
       "\\item 0.852941176470588\n",
       "\\item 0.763157894736842\n",
       "\\item 0.814323607427056\n",
       "\\end{enumerate*}\n"
      ],
      "text/markdown": [
       "1. 0.503978779840849\n",
       "2. 0.852941176470588\n",
       "3. 0.763157894736842\n",
       "4. 0.814323607427056\n",
       "\n",
       "\n"
      ],
      "text/plain": [
       "[1] 0.5039788 0.8529412 0.7631579 0.8143236"
      ]
     },
     "metadata": {},
     "output_type": "display_data"
    },
    {
     "name": "stderr",
     "output_type": "stream",
     "text": [
      "Warning message:\n",
      "\"glm.fit: fitted probabilities numerically 0 or 1 occurred\""
     ]
    },
    {
     "data": {
      "text/html": [
       "<ol class=list-inline>\n",
       "\t<li>0.447004608294931</li>\n",
       "\t<li>0.740963855421687</li>\n",
       "\t<li>0.634020618556701</li>\n",
       "\t<li>0.737327188940092</li>\n",
       "</ol>\n"
      ],
      "text/latex": [
       "\\begin{enumerate*}\n",
       "\\item 0.447004608294931\n",
       "\\item 0.740963855421687\n",
       "\\item 0.634020618556701\n",
       "\\item 0.737327188940092\n",
       "\\end{enumerate*}\n"
      ],
      "text/markdown": [
       "1. 0.447004608294931\n",
       "2. 0.740963855421687\n",
       "3. 0.634020618556701\n",
       "4. 0.737327188940092\n",
       "\n",
       "\n"
      ],
      "text/plain": [
       "[1] 0.4470046 0.7409639 0.6340206 0.7373272"
      ]
     },
     "metadata": {},
     "output_type": "display_data"
    },
    {
     "name": "stderr",
     "output_type": "stream",
     "text": [
      "Warning message:\n",
      "\"glm.fit: fitted probabilities numerically 0 or 1 occurred\""
     ]
    },
    {
     "data": {
      "text/html": [
       "<ol class=list-inline>\n",
       "\t<li>0.473524962178517</li>\n",
       "\t<li>0.786324786324786</li>\n",
       "\t<li>0.587859424920128</li>\n",
       "\t<li>0.729198184568835</li>\n",
       "</ol>\n"
      ],
      "text/latex": [
       "\\begin{enumerate*}\n",
       "\\item 0.473524962178517\n",
       "\\item 0.786324786324786\n",
       "\\item 0.587859424920128\n",
       "\\item 0.729198184568835\n",
       "\\end{enumerate*}\n"
      ],
      "text/markdown": [
       "1. 0.473524962178517\n",
       "2. 0.786324786324786\n",
       "3. 0.587859424920128\n",
       "4. 0.729198184568835\n",
       "\n",
       "\n"
      ],
      "text/plain": [
       "[1] 0.4735250 0.7863248 0.5878594 0.7291982"
      ]
     },
     "metadata": {},
     "output_type": "display_data"
    },
    {
     "name": "stderr",
     "output_type": "stream",
     "text": [
      "Warning message:\n",
      "\"glm.fit: fitted probabilities numerically 0 or 1 occurred\""
     ]
    },
    {
     "data": {
      "text/html": [
       "<ol class=list-inline>\n",
       "\t<li>0.503978779840849</li>\n",
       "\t<li>0.806060606060606</li>\n",
       "\t<li>0.7</li>\n",
       "\t<li>0.763925729442971</li>\n",
       "</ol>\n"
      ],
      "text/latex": [
       "\\begin{enumerate*}\n",
       "\\item 0.503978779840849\n",
       "\\item 0.806060606060606\n",
       "\\item 0.7\n",
       "\\item 0.763925729442971\n",
       "\\end{enumerate*}\n"
      ],
      "text/markdown": [
       "1. 0.503978779840849\n",
       "2. 0.806060606060606\n",
       "3. 0.7\n",
       "4. 0.763925729442971\n",
       "\n",
       "\n"
      ],
      "text/plain": [
       "[1] 0.5039788 0.8060606 0.7000000 0.7639257"
      ]
     },
     "metadata": {},
     "output_type": "display_data"
    },
    {
     "name": "stderr",
     "output_type": "stream",
     "text": [
      "Warning message:\n",
      "\"glm.fit: fitted probabilities numerically 0 or 1 occurred\""
     ]
    },
    {
     "data": {
      "text/html": [
       "<ol class=list-inline>\n",
       "\t<li>0.447004608294931</li>\n",
       "\t<li>0.857142857142857</li>\n",
       "\t<li>0.742268041237113</li>\n",
       "\t<li>0.829493087557604</li>\n",
       "</ol>\n"
      ],
      "text/latex": [
       "\\begin{enumerate*}\n",
       "\\item 0.447004608294931\n",
       "\\item 0.857142857142857\n",
       "\\item 0.742268041237113\n",
       "\\item 0.829493087557604\n",
       "\\end{enumerate*}\n"
      ],
      "text/markdown": [
       "1. 0.447004608294931\n",
       "2. 0.857142857142857\n",
       "3. 0.742268041237113\n",
       "4. 0.829493087557604\n",
       "\n",
       "\n"
      ],
      "text/plain": [
       "[1] 0.4470046 0.8571429 0.7422680 0.8294931"
      ]
     },
     "metadata": {},
     "output_type": "display_data"
    },
    {
     "name": "stderr",
     "output_type": "stream",
     "text": [
      "Warning message:\n",
      "\"glm.fit: fitted probabilities numerically 0 or 1 occurred\""
     ]
    },
    {
     "data": {
      "text/html": [
       "<ol class=list-inline>\n",
       "\t<li>0.473524962178517</li>\n",
       "\t<li>0.861224489795918</li>\n",
       "\t<li>0.674121405750799</li>\n",
       "\t<li>0.794251134644478</li>\n",
       "</ol>\n"
      ],
      "text/latex": [
       "\\begin{enumerate*}\n",
       "\\item 0.473524962178517\n",
       "\\item 0.861224489795918\n",
       "\\item 0.674121405750799\n",
       "\\item 0.794251134644478\n",
       "\\end{enumerate*}\n"
      ],
      "text/markdown": [
       "1. 0.473524962178517\n",
       "2. 0.861224489795918\n",
       "3. 0.674121405750799\n",
       "4. 0.794251134644478\n",
       "\n",
       "\n"
      ],
      "text/plain": [
       "[1] 0.4735250 0.8612245 0.6741214 0.7942511"
      ]
     },
     "metadata": {},
     "output_type": "display_data"
    },
    {
     "name": "stderr",
     "output_type": "stream",
     "text": [
      "Warning message:\n",
      "\"glm.fit: fitted probabilities numerically 0 or 1 occurred\""
     ]
    },
    {
     "data": {
      "text/html": [
       "<ol class=list-inline>\n",
       "\t<li>0.503978779840849</li>\n",
       "\t<li>0.760204081632653</li>\n",
       "\t<li>0.784210526315789</li>\n",
       "\t<li>0.76657824933687</li>\n",
       "</ol>\n"
      ],
      "text/latex": [
       "\\begin{enumerate*}\n",
       "\\item 0.503978779840849\n",
       "\\item 0.760204081632653\n",
       "\\item 0.784210526315789\n",
       "\\item 0.76657824933687\n",
       "\\end{enumerate*}\n"
      ],
      "text/markdown": [
       "1. 0.503978779840849\n",
       "2. 0.760204081632653\n",
       "3. 0.784210526315789\n",
       "4. 0.76657824933687\n",
       "\n",
       "\n"
      ],
      "text/plain": [
       "[1] 0.5039788 0.7602041 0.7842105 0.7665782"
      ]
     },
     "metadata": {},
     "output_type": "display_data"
    },
    {
     "name": "stderr",
     "output_type": "stream",
     "text": [
      "Warning message:\n",
      "\"glm.fit: fitted probabilities numerically 0 or 1 occurred\""
     ]
    },
    {
     "data": {
      "text/html": [
       "<ol class=list-inline>\n",
       "\t<li>0.447004608294931</li>\n",
       "\t<li>0.781914893617021</li>\n",
       "\t<li>0.757731958762887</li>\n",
       "\t<li>0.797235023041475</li>\n",
       "</ol>\n"
      ],
      "text/latex": [
       "\\begin{enumerate*}\n",
       "\\item 0.447004608294931\n",
       "\\item 0.781914893617021\n",
       "\\item 0.757731958762887\n",
       "\\item 0.797235023041475\n",
       "\\end{enumerate*}\n"
      ],
      "text/markdown": [
       "1. 0.447004608294931\n",
       "2. 0.781914893617021\n",
       "3. 0.757731958762887\n",
       "4. 0.797235023041475\n",
       "\n",
       "\n"
      ],
      "text/plain": [
       "[1] 0.4470046 0.7819149 0.7577320 0.7972350"
      ]
     },
     "metadata": {},
     "output_type": "display_data"
    },
    {
     "name": "stderr",
     "output_type": "stream",
     "text": [
      "Warning message:\n",
      "\"glm.fit: fitted probabilities numerically 0 or 1 occurred\""
     ]
    },
    {
     "data": {
      "text/html": [
       "<ol class=list-inline>\n",
       "\t<li>0.473524962178517</li>\n",
       "\t<li>0.891696750902527</li>\n",
       "\t<li>0.789137380191693</li>\n",
       "\t<li>0.854765506807867</li>\n",
       "</ol>\n"
      ],
      "text/latex": [
       "\\begin{enumerate*}\n",
       "\\item 0.473524962178517\n",
       "\\item 0.891696750902527\n",
       "\\item 0.789137380191693\n",
       "\\item 0.854765506807867\n",
       "\\end{enumerate*}\n"
      ],
      "text/markdown": [
       "1. 0.473524962178517\n",
       "2. 0.891696750902527\n",
       "3. 0.789137380191693\n",
       "4. 0.854765506807867\n",
       "\n",
       "\n"
      ],
      "text/plain": [
       "[1] 0.4735250 0.8916968 0.7891374 0.8547655"
      ]
     },
     "metadata": {},
     "output_type": "display_data"
    },
    {
     "data": {
      "text/html": [
       "<ol class=list-inline>\n",
       "\t<li>0.324042518180663</li>\n",
       "\t<li>0.569247326019774</li>\n",
       "\t<li>0.398233220755808</li>\n",
       "\t<li>1</li>\n",
       "\t<li>1</li>\n",
       "</ol>\n"
      ],
      "text/latex": [
       "\\begin{enumerate*}\n",
       "\\item 0.324042518180663\n",
       "\\item 0.569247326019774\n",
       "\\item 0.398233220755808\n",
       "\\item 1\n",
       "\\item 1\n",
       "\\end{enumerate*}\n"
      ],
      "text/markdown": [
       "1. 0.324042518180663\n",
       "2. 0.569247326019774\n",
       "3. 0.398233220755808\n",
       "4. 1\n",
       "5. 1\n",
       "\n",
       "\n"
      ],
      "text/plain": [
       "[1] 0.3240425 0.5692473 0.3982332 1.0000000 1.0000000"
      ]
     },
     "metadata": {},
     "output_type": "display_data"
    },
    {
     "data": {
      "text/html": [
       "<ol class=list-inline>\n",
       "\t<li>0.324042518180663</li>\n",
       "\t<li>0.429725170992398</li>\n",
       "\t<li>0.285775559229982</li>\n",
       "\t<li>1</li>\n",
       "\t<li>1</li>\n",
       "</ol>\n"
      ],
      "text/latex": [
       "\\begin{enumerate*}\n",
       "\\item 0.324042518180663\n",
       "\\item 0.429725170992398\n",
       "\\item 0.285775559229982\n",
       "\\item 1\n",
       "\\item 1\n",
       "\\end{enumerate*}\n"
      ],
      "text/markdown": [
       "1. 0.324042518180663\n",
       "2. 0.429725170992398\n",
       "3. 0.285775559229982\n",
       "4. 1\n",
       "5. 1\n",
       "\n",
       "\n"
      ],
      "text/plain": [
       "[1] 0.3240425 0.4297252 0.2857756 1.0000000 1.0000000"
      ]
     },
     "metadata": {},
     "output_type": "display_data"
    },
    {
     "data": {
      "text/html": [
       "<ol class=list-inline>\n",
       "\t<li>0.324042518180663</li>\n",
       "\t<li>0.544398335769975</li>\n",
       "\t<li>0.34002517768872</li>\n",
       "\t<li>1</li>\n",
       "\t<li>1</li>\n",
       "</ol>\n"
      ],
      "text/latex": [
       "\\begin{enumerate*}\n",
       "\\item 0.324042518180663\n",
       "\\item 0.544398335769975\n",
       "\\item 0.34002517768872\n",
       "\\item 1\n",
       "\\item 1\n",
       "\\end{enumerate*}\n"
      ],
      "text/markdown": [
       "1. 0.324042518180663\n",
       "2. 0.544398335769975\n",
       "3. 0.34002517768872\n",
       "4. 1\n",
       "5. 1\n",
       "\n",
       "\n"
      ],
      "text/plain": [
       "[1] 0.3240425 0.5443983 0.3400252 1.0000000 1.0000000"
      ]
     },
     "metadata": {},
     "output_type": "display_data"
    },
    {
     "data": {
      "text/html": [
       "<ol class=list-inline>\n",
       "\t<li>0.239091513607535</li>\n",
       "\t<li>0.517064126630014</li>\n",
       "\t<li>0.376633596748684</li>\n",
       "\t<li>1</li>\n",
       "\t<li>1</li>\n",
       "</ol>\n"
      ],
      "text/latex": [
       "\\begin{enumerate*}\n",
       "\\item 0.239091513607535\n",
       "\\item 0.517064126630014\n",
       "\\item 0.376633596748684\n",
       "\\item 1\n",
       "\\item 1\n",
       "\\end{enumerate*}\n"
      ],
      "text/markdown": [
       "1. 0.239091513607535\n",
       "2. 0.517064126630014\n",
       "3. 0.376633596748684\n",
       "4. 1\n",
       "5. 1\n",
       "\n",
       "\n"
      ],
      "text/plain": [
       "[1] 0.2390915 0.5170641 0.3766336 1.0000000 1.0000000"
      ]
     },
     "metadata": {},
     "output_type": "display_data"
    },
    {
     "data": {
      "text/html": [
       "<ol class=list-inline>\n",
       "\t<li>0.239091513607535</li>\n",
       "\t<li>0.488969849384944</li>\n",
       "\t<li>0.311390465698399</li>\n",
       "\t<li>1</li>\n",
       "\t<li>1</li>\n",
       "</ol>\n"
      ],
      "text/latex": [
       "\\begin{enumerate*}\n",
       "\\item 0.239091513607535\n",
       "\\item 0.488969849384944\n",
       "\\item 0.311390465698399\n",
       "\\item 1\n",
       "\\item 1\n",
       "\\end{enumerate*}\n"
      ],
      "text/markdown": [
       "1. 0.239091513607535\n",
       "2. 0.488969849384944\n",
       "3. 0.311390465698399\n",
       "4. 1\n",
       "5. 1\n",
       "\n",
       "\n"
      ],
      "text/plain": [
       "[1] 0.2390915 0.4889698 0.3113905 1.0000000 1.0000000"
      ]
     },
     "metadata": {},
     "output_type": "display_data"
    },
    {
     "data": {
      "text/html": [
       "<ol class=list-inline>\n",
       "\t<li>0.239091513607535</li>\n",
       "\t<li>0.561923322814289</li>\n",
       "\t<li>0.358771989453616</li>\n",
       "\t<li>1</li>\n",
       "\t<li>1</li>\n",
       "</ol>\n"
      ],
      "text/latex": [
       "\\begin{enumerate*}\n",
       "\\item 0.239091513607535\n",
       "\\item 0.561923322814289\n",
       "\\item 0.358771989453616\n",
       "\\item 1\n",
       "\\item 1\n",
       "\\end{enumerate*}\n"
      ],
      "text/markdown": [
       "1. 0.239091513607535\n",
       "2. 0.561923322814289\n",
       "3. 0.358771989453616\n",
       "4. 1\n",
       "5. 1\n",
       "\n",
       "\n"
      ],
      "text/plain": [
       "[1] 0.2390915 0.5619233 0.3587720 1.0000000 1.0000000"
      ]
     },
     "metadata": {},
     "output_type": "display_data"
    },
    {
     "data": {
      "text/html": [
       "<ol class=list-inline>\n",
       "\t<li>0.373698328469937</li>\n",
       "\t<li>0.51774054460915</li>\n",
       "\t<li>0.383243826297455</li>\n",
       "\t<li>1</li>\n",
       "\t<li>1</li>\n",
       "</ol>\n"
      ],
      "text/latex": [
       "\\begin{enumerate*}\n",
       "\\item 0.373698328469937\n",
       "\\item 0.51774054460915\n",
       "\\item 0.383243826297455\n",
       "\\item 1\n",
       "\\item 1\n",
       "\\end{enumerate*}\n"
      ],
      "text/markdown": [
       "1. 0.373698328469937\n",
       "2. 0.51774054460915\n",
       "3. 0.383243826297455\n",
       "4. 1\n",
       "5. 1\n",
       "\n",
       "\n"
      ],
      "text/plain": [
       "[1] 0.3736983 0.5177405 0.3832438 1.0000000 1.0000000"
      ]
     },
     "metadata": {},
     "output_type": "display_data"
    },
    {
     "data": {
      "text/html": [
       "<ol class=list-inline>\n",
       "\t<li>0.373698328469937</li>\n",
       "\t<li>0.433541812084677</li>\n",
       "\t<li>0.305300940224514</li>\n",
       "\t<li>1</li>\n",
       "\t<li>1</li>\n",
       "</ol>\n"
      ],
      "text/latex": [
       "\\begin{enumerate*}\n",
       "\\item 0.373698328469937\n",
       "\\item 0.433541812084677\n",
       "\\item 0.305300940224514\n",
       "\\item 1\n",
       "\\item 1\n",
       "\\end{enumerate*}\n"
      ],
      "text/markdown": [
       "1. 0.373698328469937\n",
       "2. 0.433541812084677\n",
       "3. 0.305300940224514\n",
       "4. 1\n",
       "5. 1\n",
       "\n",
       "\n"
      ],
      "text/plain": [
       "[1] 0.3736983 0.4335418 0.3053009 1.0000000 1.0000000"
      ]
     },
     "metadata": {},
     "output_type": "display_data"
    },
    {
     "data": {
      "text/html": [
       "<ol class=list-inline>\n",
       "\t<li>0.373698328469937</li>\n",
       "\t<li>0.611308701451187</li>\n",
       "\t<li>0.361783374594786</li>\n",
       "\t<li>1</li>\n",
       "\t<li>1</li>\n",
       "</ol>\n"
      ],
      "text/latex": [
       "\\begin{enumerate*}\n",
       "\\item 0.373698328469937\n",
       "\\item 0.611308701451187\n",
       "\\item 0.361783374594786\n",
       "\\item 1\n",
       "\\item 1\n",
       "\\end{enumerate*}\n"
      ],
      "text/markdown": [
       "1. 0.373698328469937\n",
       "2. 0.611308701451187\n",
       "3. 0.361783374594786\n",
       "4. 1\n",
       "5. 1\n",
       "\n",
       "\n"
      ],
      "text/plain": [
       "[1] 0.3736983 0.6113087 0.3617834 1.0000000 1.0000000"
      ]
     },
     "metadata": {},
     "output_type": "display_data"
    },
    {
     "data": {
      "text/html": [
       "<ol class=list-inline>\n",
       "\t<li>0.792889201045279</li>\n",
       "\t<li>0.890443260991558</li>\n",
       "\t<li>0.646542250606413</li>\n",
       "\t<li>1</li>\n",
       "\t<li>1</li>\n",
       "</ol>\n"
      ],
      "text/latex": [
       "\\begin{enumerate*}\n",
       "\\item 0.792889201045279\n",
       "\\item 0.890443260991558\n",
       "\\item 0.646542250606413\n",
       "\\item 1\n",
       "\\item 1\n",
       "\\end{enumerate*}\n"
      ],
      "text/markdown": [
       "1. 0.792889201045279\n",
       "2. 0.890443260991558\n",
       "3. 0.646542250606413\n",
       "4. 1\n",
       "5. 1\n",
       "\n",
       "\n"
      ],
      "text/plain": [
       "[1] 0.7928892 0.8904433 0.6465423 1.0000000 1.0000000"
      ]
     },
     "metadata": {},
     "output_type": "display_data"
    },
    {
     "data": {
      "text/html": [
       "<ol class=list-inline>\n",
       "\t<li>0.792889201045279</li>\n",
       "\t<li>0.869654607722228</li>\n",
       "\t<li>0.49242235884632</li>\n",
       "\t<li>1</li>\n",
       "\t<li>1</li>\n",
       "</ol>\n"
      ],
      "text/latex": [
       "\\begin{enumerate*}\n",
       "\\item 0.792889201045279\n",
       "\\item 0.869654607722228\n",
       "\\item 0.49242235884632\n",
       "\\item 1\n",
       "\\item 1\n",
       "\\end{enumerate*}\n"
      ],
      "text/markdown": [
       "1. 0.792889201045279\n",
       "2. 0.869654607722228\n",
       "3. 0.49242235884632\n",
       "4. 1\n",
       "5. 1\n",
       "\n",
       "\n"
      ],
      "text/plain": [
       "[1] 0.7928892 0.8696546 0.4924224 1.0000000 1.0000000"
      ]
     },
     "metadata": {},
     "output_type": "display_data"
    },
    {
     "data": {
      "text/html": [
       "<ol class=list-inline>\n",
       "\t<li>0.792889201045279</li>\n",
       "\t<li>0.732626416185187</li>\n",
       "\t<li>0.545740728884089</li>\n",
       "\t<li>1</li>\n",
       "\t<li>1</li>\n",
       "</ol>\n"
      ],
      "text/latex": [
       "\\begin{enumerate*}\n",
       "\\item 0.792889201045279\n",
       "\\item 0.732626416185187\n",
       "\\item 0.545740728884089\n",
       "\\item 1\n",
       "\\item 1\n",
       "\\end{enumerate*}\n"
      ],
      "text/markdown": [
       "1. 0.792889201045279\n",
       "2. 0.732626416185187\n",
       "3. 0.545740728884089\n",
       "4. 1\n",
       "5. 1\n",
       "\n",
       "\n"
      ],
      "text/plain": [
       "[1] 0.7928892 0.7326264 0.5457407 1.0000000 1.0000000"
      ]
     },
     "metadata": {},
     "output_type": "display_data"
    },
    {
     "data": {
      "text/html": [
       "<ol class=list-inline>\n",
       "\t<li>0.865456657977683</li>\n",
       "\t<li>0.833220940751403</li>\n",
       "\t<li>0.641249744180771</li>\n",
       "\t<li>1</li>\n",
       "\t<li>1</li>\n",
       "</ol>\n"
      ],
      "text/latex": [
       "\\begin{enumerate*}\n",
       "\\item 0.865456657977683\n",
       "\\item 0.833220940751403\n",
       "\\item 0.641249744180771\n",
       "\\item 1\n",
       "\\item 1\n",
       "\\end{enumerate*}\n"
      ],
      "text/markdown": [
       "1. 0.865456657977683\n",
       "2. 0.833220940751403\n",
       "3. 0.641249744180771\n",
       "4. 1\n",
       "5. 1\n",
       "\n",
       "\n"
      ],
      "text/plain": [
       "[1] 0.8654567 0.8332209 0.6412497 1.0000000 1.0000000"
      ]
     },
     "metadata": {},
     "output_type": "display_data"
    },
    {
     "data": {
      "text/html": [
       "<ol class=list-inline>\n",
       "\t<li>0.865456657977683</li>\n",
       "\t<li>0.930299230343486</li>\n",
       "\t<li>0.703607046161672</li>\n",
       "\t<li>1</li>\n",
       "\t<li>1</li>\n",
       "</ol>\n"
      ],
      "text/latex": [
       "\\begin{enumerate*}\n",
       "\\item 0.865456657977683\n",
       "\\item 0.930299230343486\n",
       "\\item 0.703607046161672\n",
       "\\item 1\n",
       "\\item 1\n",
       "\\end{enumerate*}\n"
      ],
      "text/markdown": [
       "1. 0.865456657977683\n",
       "2. 0.930299230343486\n",
       "3. 0.703607046161672\n",
       "4. 1\n",
       "5. 1\n",
       "\n",
       "\n"
      ],
      "text/plain": [
       "[1] 0.8654567 0.9302992 0.7036070 1.0000000 1.0000000"
      ]
     },
     "metadata": {},
     "output_type": "display_data"
    },
    {
     "data": {
      "text/html": [
       "<ol class=list-inline>\n",
       "\t<li>0.865456657977683</li>\n",
       "\t<li>0.730928375262663</li>\n",
       "\t<li>0.703930813762089</li>\n",
       "\t<li>1</li>\n",
       "\t<li>1</li>\n",
       "</ol>\n"
      ],
      "text/latex": [
       "\\begin{enumerate*}\n",
       "\\item 0.865456657977683\n",
       "\\item 0.730928375262663\n",
       "\\item 0.703930813762089\n",
       "\\item 1\n",
       "\\item 1\n",
       "\\end{enumerate*}\n"
      ],
      "text/markdown": [
       "1. 0.865456657977683\n",
       "2. 0.730928375262663\n",
       "3. 0.703930813762089\n",
       "4. 1\n",
       "5. 1\n",
       "\n",
       "\n"
      ],
      "text/plain": [
       "[1] 0.8654567 0.7309284 0.7039308 1.0000000 1.0000000"
      ]
     },
     "metadata": {},
     "output_type": "display_data"
    },
    {
     "data": {
      "text/html": [
       "<ol class=list-inline>\n",
       "\t<li>0.77859194950823</li>\n",
       "\t<li>0.72726694308396</li>\n",
       "\t<li>0.654544086158431</li>\n",
       "\t<li>1</li>\n",
       "\t<li>1</li>\n",
       "</ol>\n"
      ],
      "text/latex": [
       "\\begin{enumerate*}\n",
       "\\item 0.77859194950823\n",
       "\\item 0.72726694308396\n",
       "\\item 0.654544086158431\n",
       "\\item 1\n",
       "\\item 1\n",
       "\\end{enumerate*}\n"
      ],
      "text/markdown": [
       "1. 0.77859194950823\n",
       "2. 0.72726694308396\n",
       "3. 0.654544086158431\n",
       "4. 1\n",
       "5. 1\n",
       "\n",
       "\n"
      ],
      "text/plain": [
       "[1] 0.7785919 0.7272669 0.6545441 1.0000000 1.0000000"
      ]
     },
     "metadata": {},
     "output_type": "display_data"
    },
    {
     "data": {
      "text/html": [
       "<ol class=list-inline>\n",
       "\t<li>0.77859194950823</li>\n",
       "\t<li>0.782450938165668</li>\n",
       "\t<li>0.558195160797902</li>\n",
       "\t<li>1</li>\n",
       "\t<li>1</li>\n",
       "</ol>\n"
      ],
      "text/latex": [
       "\\begin{enumerate*}\n",
       "\\item 0.77859194950823\n",
       "\\item 0.782450938165668\n",
       "\\item 0.558195160797902\n",
       "\\item 1\n",
       "\\item 1\n",
       "\\end{enumerate*}\n"
      ],
      "text/markdown": [
       "1. 0.77859194950823\n",
       "2. 0.782450938165668\n",
       "3. 0.558195160797902\n",
       "4. 1\n",
       "5. 1\n",
       "\n",
       "\n"
      ],
      "text/plain": [
       "[1] 0.7785919 0.7824509 0.5581952 1.0000000 1.0000000"
      ]
     },
     "metadata": {},
     "output_type": "display_data"
    },
    {
     "data": {
      "text/html": [
       "<ol class=list-inline>\n",
       "\t<li>0.77859194950823</li>\n",
       "\t<li>0.882378574937215</li>\n",
       "\t<li>0.690579968483975</li>\n",
       "\t<li>1</li>\n",
       "\t<li>1</li>\n",
       "</ol>\n"
      ],
      "text/latex": [
       "\\begin{enumerate*}\n",
       "\\item 0.77859194950823\n",
       "\\item 0.882378574937215\n",
       "\\item 0.690579968483975\n",
       "\\item 1\n",
       "\\item 1\n",
       "\\end{enumerate*}\n"
      ],
      "text/markdown": [
       "1. 0.77859194950823\n",
       "2. 0.882378574937215\n",
       "3. 0.690579968483975\n",
       "4. 1\n",
       "5. 1\n",
       "\n",
       "\n"
      ],
      "text/plain": [
       "[1] 0.7785919 0.8823786 0.6905800 1.0000000 1.0000000"
      ]
     },
     "metadata": {},
     "output_type": "display_data"
    },
    {
     "data": {
      "image/png": "[encoded data removed]",
      "text/plain": [
       "Plot with title \"\""
      ]
     },
     "metadata": {},
     "output_type": "display_data"
    }
   ],
   "source": [
    "files_20 <- read.table(\"eclipse-metrics-files-2.0.csv\", header=T, sep=\";\")\n",
    "files_21 <- read.table(\"eclipse-metrics-files-2.1.csv\", header=T, sep=\";\")\n",
    "files_30 <- read.table(\"eclipse-metrics-files-3.0.csv\", header=T, sep=\";\")\n",
    "\n",
    "packages_20 <- read.table(\"eclipse-metrics-packages-2.0.csv\", header=T, sep=\";\")\n",
    "packages_21 <- read.table(\"eclipse-metrics-packages-2.1.csv\", header=T, sep=\";\")\n",
    "packages_30 <- read.table(\"eclipse-metrics-packages-3.0.csv\", header=T, sep=\";\")\n",
    "\n",
    "# setwd()\n",
    "\n",
    "\n",
    "nrow(files_20)\n",
    "nrow(files_21)\n",
    "nrow(files_30)\n",
    "nrow(packages_20)\n",
    "nrow(packages_21)\n",
    "nrow(packages_30)\n",
    "\n",
    "\n",
    "\n",
    "par(mar=c(5, 5, 2, 1) + 0.1)\n",
    "hist(packages_30$post, freq=T, breaks=100, xlim=c(0,70), axes=F, main=\"\", xlab=\"Number of Post-Release Defects (per Package)\", ylab=\"Percentage\", col=\"darkgray\")\n",
    "axis(1)\n",
    "\n",
    "## this line, can draw the 0, 10%, 20% etc.. E.g., the 66.1 means the 661 (total number of lines) / 100 + 10. \n",
    "axis(2, at=c(0,66.1,66.1*2,66.1*3,66.1*4,66.1*5,66.1*6), labels=c(\"0%\",\"10%\",\"20%\",\"30%\",\"40%\",\"50%\",\"60%\"), las=1)\n",
    "\n",
    "\n",
    "\n",
    "pre.p <- rep (-1, 33)\n",
    "post.p <- rep (-1, 33)\n",
    "for (i in 3:35) {\n",
    "\tpre.p[i-2] <- cor.test(files_30[,i], files_30$pre, method=\"spearman\", exact=FALSE)$p.value\n",
    "\tpost.p[i-2] <- cor.test(files_30[,i], files_30$post, method=\"spearman\", exact=FALSE)$p.value\n",
    "}\n",
    "\n",
    "cbind(cor(files_30[,3:35], files_30$pre, method=\"spearman\"), cor(files_30[,3:35], files_30$post, method=\"spearman\"), (pre.p<0.01), (post.p<0.01))\n",
    "\n",
    "pre.p <- rep (-1, 42)\n",
    "post.p <- rep (-1, 42)\n",
    "for (i in 3:44) {\n",
    "\tpre.p[i-2] <- cor.test(packages_30[,i], packages_30 $pre, method=\"spearman\", exact=FALSE)$p.value\n",
    "\tpost.p[i-2] <- cor.test(packages_30[,i], packages_30 $post, method=\"spearman\", exact=FALSE)$p.value\n",
    "}\n",
    "\n",
    "cbind(cor(packages_30[,3:44], packages_30$pre, method=\"spearman\"), cor(packages_30[,3:44], packages_30$post, method=\"spearman\"), (pre.p<0.01), (post.p<0.01))\n",
    "\n",
    "\n",
    "\n",
    "test_classification <- function (train, test) \n",
    "{\n",
    "\tmodel.glm <- glm((post>0) ~ pre + ACD + FOUT_avg + FOUT_max + FOUT_sum + MLOC_avg + MLOC_max + MLOC_sum + NBD_avg + NBD_max + NBD_sum + NOF_avg + NOF_max + NOF_sum + NOI + NOM_avg + NOM_max + NOM_sum + NOT + NSF_avg + NSF_max + NSF_sum + NSM_avg + NSM_max + NSM_sum + PAR_avg + PAR_max + PAR_sum + + + TLOC + VG_avg + VG_max + VG_sum, data=train, family = \"binomial\")\n",
    "\ttest.prob <- predict(model.glm, test, type=\"response\")\n",
    "\ttest.pred <- test.prob>=0.50\n",
    "\t\n",
    "\toutcome <- table(factor(test$post>0, levels=c(F,T)), factor(test.pred, levels=c(F,T)))\n",
    "\tTN <- outcome[1,1]\n",
    "\tFN <- outcome[2,1]\n",
    "\tFP <- outcome[1,2]\n",
    "\tTP <- outcome[2,2]\n",
    "\tprecision <- if (TP + FP ==0) { 1 } else { TP / (TP + FP) }\n",
    "\trecall <- TP / (TP + FN)\n",
    "\taccuracy <- (TP + TN) / (TN + FN + FP + TP)\n",
    "\tdefects <- (TP + FN) / (TN + FN + FP + TP)\n",
    "\treturn (c(defects, precision, recall, accuracy))\n",
    "}\n",
    "\n",
    "test_classification_pkg <- function (train, test) \n",
    "{\n",
    "\tmodel.glm <- glm((post>0) ~ pre + ACD_avg + ACD_max + ACD_sum + FOUT_avg + FOUT_max + FOUT_sum + MLOC_avg + MLOC_max + MLOC_sum + NBD_avg + NBD_max + NBD_sum + NOCU + NOF_avg + NOF_max + NOF_sum + NOI_avg + NOI_max + NOI_sum + NOM_avg + NOM_max + NOM_sum + NOT_avg + NOT_max + NOT_sum + NSF_avg + NSF_max + NSF_sum + NSM_avg + NSM_max + NSM_sum + PAR_avg + PAR_max + PAR_sum + TLOC_avg + TLOC_max + TLOC_sum + VG_avg + VG_max + VG_sum, data=train, family = \"binomial\")\n",
    "\ttest.prob <- predict(model.glm, test, type=\"response\")\n",
    "\ttest.pred <- test.prob>=0.50\n",
    "\t\n",
    "\toutcome <- table(factor(test$post>0, levels=c(F,T)), factor(test.pred, levels=c(F,T)))\n",
    "\tTN <- outcome[1,1]\n",
    "\tFN <- outcome[2,1]\n",
    "\tFP <- outcome[1,2]\n",
    "\tTP <- outcome[2,2]\n",
    "\tprecision <- if (TP + FP ==0) { 1 } else { TP / (TP + FP) }\n",
    "\trecall <- TP / (TP + FN)\n",
    "\taccuracy <- (TP + TN) / (TN + FN + FP + TP)\n",
    "\tdefects <- (TP + FN) / (TN + FN + FP + TP)\n",
    "\treturn (c(defects, precision, recall, accuracy))\n",
    "}\n",
    "\n",
    "\n",
    "test_classification(files_20, files_20)\n",
    "test_classification(files_20, files_21)\n",
    "test_classification(files_20, files_30)\n",
    "test_classification(files_21, files_20)\n",
    "test_classification(files_21, files_21)\n",
    "test_classification(files_21, files_30)\n",
    "test_classification(files_30, files_20)\n",
    "test_classification(files_30, files_21)\n",
    "test_classification(files_30, files_30)\n",
    "\n",
    "test_classification_pkg(packages_20, packages_20)\n",
    "test_classification_pkg(packages_20, packages_21)\n",
    "test_classification_pkg(packages_20, packages_30)\n",
    "test_classification_pkg(packages_21, packages_20)\n",
    "test_classification_pkg(packages_21, packages_21)\n",
    "test_classification_pkg(packages_21, packages_30)\n",
    "test_classification_pkg(packages_30, packages_20)\n",
    "test_classification_pkg(packages_30, packages_21)\n",
    "test_classification_pkg(packages_30, packages_30)\n",
    "\n",
    "\n",
    "\n",
    "test_ranking <- function (train, test) \n",
    "{\n",
    "\tmodel.lm <- lm(post ~ pre + ACD + FOUT_avg + FOUT_max + FOUT_sum + MLOC_avg + MLOC_max + MLOC_sum + NBD_avg + NBD_max + NBD_sum + NOF_avg + NOF_max + NOF_sum + NOI + NOM_avg + NOM_max + NOM_sum + NOT + NSF_avg + NSF_max + NSF_sum + NSM_avg + NSM_max + NSM_sum + PAR_avg + PAR_max + PAR_sum + + + TLOC + VG_avg + VG_max + VG_sum, data=train)\n",
    "\ttest.pred <- predict(model.lm, test)\n",
    "\t\n",
    "\tr.squared <- summary(model.lm)$r.squared\n",
    "\tpearson <- cor(test$post, test.pred, method=\"pearson\")\n",
    "\tspearman <- cor(test$post, test.pred, method=\"spearman\")\n",
    "\tpearson.p <- cor.test(test$post, test.pred, method=\"pearson\")$p.value\n",
    "\tspearman.p <- cor.test(test$post, test.pred, method=\"spearman\", exact=FALSE)$p.value\n",
    "\t\n",
    "\treturn (c(r.squared, pearson, spearman, pearson.p<0.01, spearman.p<0.01))\n",
    "}\n",
    "\n",
    "test_ranking_pkg <- function (train, test) \n",
    "{\n",
    "\tmodel.lm <- lm(post ~ pre + ACD_avg + ACD_max + ACD_sum + FOUT_avg + FOUT_max + FOUT_sum + MLOC_avg + MLOC_max + MLOC_sum + NBD_avg + NBD_max + NBD_sum + NOCU + NOF_avg + NOF_max + NOF_sum + NOI_avg + NOI_max + NOI_sum + NOM_avg + NOM_max + NOM_sum + NOT_avg + NOT_max + NOT_sum + NSF_avg + NSF_max + NSF_sum + NSM_avg + NSM_max + NSM_sum + PAR_avg + PAR_max + PAR_sum + TLOC_avg + TLOC_max + TLOC_sum + VG_avg + VG_max + VG_sum, data=train)\n",
    "\ttest.pred <- predict(model.lm, test)\n",
    "\t\n",
    "\tr.squared <- summary(model.lm)$r.squared\n",
    "\tpearson <- cor(test$post, test.pred, method=\"pearson\")\n",
    "\tspearman <- cor(test$post, test.pred, method=\"spearman\")\n",
    "\tpearson.p <- cor.test(test$post, test.pred, method=\"pearson\")$p.value\n",
    "\tspearman.p <- cor.test(test$post, test.pred, method=\"spearman\", exact=FALSE)$p.value\n",
    "\t\n",
    "\treturn (c(r.squared, pearson, spearman, pearson.p<0.01, spearman.p<0.01))\n",
    "}\n",
    "\n",
    "\n",
    "test_ranking(files_20, files_20)\n",
    "test_ranking(files_20, files_21)\n",
    "test_ranking(files_20, files_30)\n",
    "test_ranking(files_21, files_20)\n",
    "test_ranking(files_21, files_21)\n",
    "test_ranking(files_21, files_30)\n",
    "test_ranking(files_30, files_20)\n",
    "test_ranking(files_30, files_21)\n",
    "test_ranking(files_30, files_30)\n",
    "\n",
    "test_ranking_pkg(packages_20, packages_20)\n",
    "test_ranking_pkg(packages_20, packages_21)\n",
    "test_ranking_pkg(packages_20, packages_30)\n",
    "test_ranking_pkg(packages_21, packages_20)\n",
    "test_ranking_pkg(packages_21, packages_21)\n",
    "test_ranking_pkg(packages_21, packages_30)\n",
    "test_ranking_pkg(packages_30, packages_20)\n",
    "test_ranking_pkg(packages_30, packages_21)\n",
    "test_ranking_pkg(packages_30, packages_30)\n"
   ]
  },
  {
   "cell_type": "code",
   "execution_count": null,
   "metadata": {},
   "outputs": [],
   "source": []
  }
 ],
 "metadata": {
  "kernelspec": {
   "display_name": "R",
   "language": "R",
   "name": "ir"
  },
  "language_info": {
   "codemirror_mode": "r",
   "file_extension": ".r",
   "mimetype": "text/x-r-source",
   "name": "R",
   "pygments_lexer": "r",
   "version": "3.5.1"
  }
 },
 "nbformat": 4,
 "nbformat_minor": 2
}
