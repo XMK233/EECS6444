{
 "cells": [
  {
   "cell_type": "code",
   "execution_count": 1,
   "metadata": {},
   "outputs": [],
   "source": [
    "import pandas as pd\n",
    "import re\n",
    "\n",
    "def change_versions(x):\n",
    "    if x[-2:] == \".0\":\n",
    "        return \"R{}\".format( \"_\".join(   x[0:-2].split(\".\")) )\n",
    "    else:\n",
    "        return \"R{}\".format( \"_\".join(   x.split(\".\")) )\n",
    "\n",
    "def merge_tables(TAB_PATH_1, TAB_PATH_2, TAB_PATH_3, Bug_List, how = \"outer\"):\n",
    "    df1 = pd.read_csv(TAB_PATH_1)\n",
    "    df1[\"date\"] = df1[\"date\"].map(lambda x: x[0:10].replace(\".\", \"-\"))  #pd.to_datetime(, format=\"%Y.%m.%d\")\n",
    "    df2 = pd.read_csv(TAB_PATH_2)\n",
    "    df3 = pd.read_csv(TAB_PATH_3)\n",
    "    df4 = pd.read_csv(Bug_List)\n",
    "    ####\n",
    "    df1.rename(columns={\"fileVersion\": \"commitNo\"}, inplace= True)\n",
    "    df3.rename(columns={\"Version\": \"releaseNo\"}, inplace=True)\n",
    "    df3[\"releaseNo\"] = df3[\"releaseNo\"].map(lambda x: change_versions(x))\n",
    "    df4 = df4[[\"Bug ID\", \"Changed\"]]\n",
    "    df4[\"Changed\"] = df4[\"Changed\"].map(lambda x: x[0:10])\n",
    "    df4.rename(columns={\"Bug ID\": \"bugID\"}, inplace=True)\n",
    "    ####\n",
    "    _ = pd.merge(df1,df2,on=['file','commitNo'],how= how)\n",
    "    _1 = pd.merge(_, df3, on = [\"releaseNo\"], how = how)\n",
    "    df_merge = pd.merge(_1, df4, on = [\"bugID\"], how = how)\n",
    "    df_merge[\"date\"] = pd.to_datetime(df_merge[\"date\"], format = '%Y-%m-%d')\n",
    "    df_merge[\"Date\"] = pd.to_datetime(df_merge[\"Date\"], format = '%Y-%m-%d')\n",
    "    df_merge[\"Changed\"] = pd.to_datetime(df_merge[\"Changed\"], format = '%Y-%m-%d')\n",
    "    ##\n",
    "    df_merge[\"Changed-Date\"] = df_merge[\"Changed\"] - df_merge[\"Date\"]\n",
    "    ## \n",
    "    pre_bug = df_merge[(df_merge['Changed-Date'].dt.days > -180) & (df_merge['Changed-Date'].dt.days <= 0)]\n",
    "    post_bug = df_merge[(df_merge['Changed-Date'].dt.days) > 0 & (df_merge['Changed-Date'].dt.days <= 180)]\n",
    "    return df_merge, pre_bug, post_bug"
   ]
  },
  {
   "cell_type": "code",
   "execution_count": 3,
   "metadata": {},
   "outputs": [
    {
     "name": "stdout",
     "output_type": "stream",
     "text": [
      "    bugID     Changed\n",
      "0   33836  2003-03-12\n",
      "1   13002  2002-05-14\n",
      "2  121939  2006-02-14\n",
      "3   41601  2003-08-15\n",
      "4   54963  2004-03-16\n"
     ]
    }
   ],
   "source": [
    "df, pre_bug, post_bug = merge_tables(\n",
    "    r\"org.eclipse.platform/org.eclipse.platform_no_pattern.csv\", \n",
    "    r\"org.eclipse.platform/org.eclipse.platform_release_commit.csv\", \n",
    "    r\"release-info.csv\", \n",
    "    r\"Platform_Bugs.csv\",\n",
    "    \"inner\"\n",
    ")\n",
    "pre_bug.to_csv(\"platform_pre_bug.csv\")\n",
    "pre_bug.to_csv(\"platform_post_bug.csv\")"
   ]
  },
  {
   "cell_type": "code",
   "execution_count": 4,
   "metadata": {},
   "outputs": [
    {
     "name": "stdout",
     "output_type": "stream",
     "text": [
      "    bugID     Changed\n",
      "0  512739  2017-03-19\n",
      "1  528905  2018-01-17\n",
      "2   11201  2002-03-15\n",
      "3   40495  2003-07-18\n",
      "4    9785  2002-02-14\n"
     ]
    }
   ],
   "source": [
    "df, pre_bug, post_bug = merge_tables(\n",
    "    r\"org.eclipse.jdt.core/org.eclipse.jdt.core_no_pattern.csv\", \n",
    "    r\"org.eclipse.jdt.core/org.eclipse.jdt.core_release_commit.csv\", \n",
    "    r\"release-info.csv\",\n",
    "    r\"JDT_Bugs.csv\",\n",
    "    \"inner\"\n",
    ")\n",
    "pre_bug.to_csv(\"jdt.core_pre_bug.csv\")\n",
    "pre_bug.to_csv(\"jdt.core_post_bug.csv\")"
   ]
  }
 ],
 "metadata": {
  "kernelspec": {
   "display_name": "Python 3",
   "language": "python",
   "name": "python3"
  },
  "language_info": {
   "codemirror_mode": {
    "name": "ipython",
    "version": 3
   },
   "file_extension": ".py",
   "mimetype": "text/x-python",
   "name": "python",
   "nbconvert_exporter": "python",
   "pygments_lexer": "ipython3",
   "version": "3.6.8"
  }
 },
 "nbformat": 4,
 "nbformat_minor": 2
}
