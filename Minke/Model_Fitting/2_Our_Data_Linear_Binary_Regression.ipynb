{
 "cells": [
  {
   "cell_type": "markdown",
   "metadata": {},
   "source": [
    "### Fit the old code to our dataset. \n",
    "\n",
    "纸上得来终觉浅，绝知此事要躬行。"
   ]
  },
  {
   "cell_type": "code",
   "execution_count": 1,
   "metadata": {},
   "outputs": [
    {
     "data": {
      "text/html": [
       "7806"
      ],
      "text/latex": [
       "7806"
      ],
      "text/markdown": [
       "7806"
      ],
      "text/plain": [
       "[1] 7806"
      ]
     },
     "metadata": {},
     "output_type": "display_data"
    },
    {
     "data": {
      "text/html": [
       "10537"
      ],
      "text/latex": [
       "10537"
      ],
      "text/markdown": [
       "10537"
      ],
      "text/plain": [
       "[1] 10537"
      ]
     },
     "metadata": {},
     "output_type": "display_data"
    }
   ],
   "source": [
    "files_211 <- read.table(\"Version 2.1.1/dataset-eclipse_2.1.1-filelevel.csv\", header=T, sep=\",\")\n",
    "files_301 <- read.table(\"Version 3.0.1/dataset-eclipse_3.0.1-filelevel.csv\", header=T, sep=\",\")\n",
    "\n",
    "nrow(files_211)\n",
    "nrow(files_301)"
   ]
  },
  {
   "cell_type": "markdown",
   "metadata": {},
   "source": [
    "### preprocess the dataframe to make it the same as example csv files. "
   ]
  },
  {
   "cell_type": "code",
   "execution_count": 2,
   "metadata": {},
   "outputs": [
    {
     "data": {
      "text/html": [
       "<table>\n",
       "<thead><tr><th scope=col>file</th><th scope=col>NOF_num</th><th scope=col>NOF_max</th><th scope=col>NOF_total</th><th scope=col>NSF_num</th><th scope=col>NSF_max</th><th scope=col>NSF_total</th><th scope=col>NOM_num</th><th scope=col>NOM_max</th><th scope=col>NOM_total</th><th scope=col>...</th><th scope=col>NSM_total</th><th scope=col>NOI</th><th scope=col>NOT</th><th scope=col>TLOC</th><th scope=col>pre</th><th scope=col>post</th><th scope=col>NOF_avg</th><th scope=col>NSF_avg</th><th scope=col>NOM_avg</th><th scope=col>NSM_avg</th></tr></thead>\n",
       "<tbody>\n",
       "\t<tr><td>eclipse\\org.apache.lucene\\src\\org\\apache\\lucene\\demo\\html\\Entities.java              </td><td>1                                                                                            </td><td> 0                                                                                           </td><td> 0                                                                                           </td><td>1                                                                                            </td><td>2                                                                                            </td><td>2                                                                                            </td><td>1                                                                                            </td><td> 0                                                                                           </td><td> 0                                                                                           </td><td>...                                                                                          </td><td>3                                                                                            </td><td>0                                                                                            </td><td>1                                                                                            </td><td> 365                                                                                         </td><td>0                                                                                            </td><td>0                                                                                            </td><td> 0                                                                                           </td><td> 2                                                                                           </td><td> 0                                                                                           </td><td> 3                                                                                           </td></tr>\n",
       "\t<tr><td>eclipse\\org.apache.lucene\\src\\org\\apache\\lucene\\demo\\html\\HTMLParserConstants.java   </td><td>0                                                                                            </td><td> 0                                                                                           </td><td> 0                                                                                           </td><td>0                                                                                            </td><td>0                                                                                            </td><td>0                                                                                            </td><td>0                                                                                            </td><td> 0                                                                                           </td><td> 0                                                                                           </td><td>...                                                                                          </td><td>0                                                                                            </td><td>1                                                                                            </td><td>0                                                                                            </td><td>  73                                                                                         </td><td>0                                                                                            </td><td>0                                                                                            </td><td>NA                                                                                           </td><td>NA                                                                                           </td><td>NA                                                                                           </td><td>NA                                                                                           </td></tr>\n",
       "\t<tr><td>eclipse\\org.apache.lucene\\src\\org\\apache\\lucene\\demo\\html\\HTMLParserTokenManager.java</td><td>1                                                                                            </td><td>11                                                                                           </td><td>11                                                                                           </td><td>1                                                                                            </td><td>8                                                                                            </td><td>8                                                                                            </td><td>1                                                                                            </td><td>47                                                                                           </td><td>47                                                                                           </td><td>...                                                                                          </td><td>1                                                                                            </td><td>0                                                                                            </td><td>1                                                                                            </td><td>1426                                                                                         </td><td>0                                                                                            </td><td>0                                                                                            </td><td>11                                                                                           </td><td> 8                                                                                           </td><td>47                                                                                           </td><td> 1                                                                                           </td></tr>\n",
       "\t<tr><td>eclipse\\org.apache.lucene\\src\\org\\apache\\lucene\\demo\\html\\ParseException.java        </td><td>1                                                                                            </td><td> 5                                                                                           </td><td> 5                                                                                           </td><td>1                                                                                            </td><td>0                                                                                            </td><td>0                                                                                            </td><td>1                                                                                            </td><td> 2                                                                                           </td><td> 2                                                                                           </td><td>...                                                                                          </td><td>0                                                                                            </td><td>0                                                                                            </td><td>1                                                                                            </td><td> 192                                                                                         </td><td>0                                                                                            </td><td>0                                                                                            </td><td> 5                                                                                           </td><td> 0                                                                                           </td><td> 2                                                                                           </td><td> 0                                                                                           </td></tr>\n",
       "\t<tr><td>eclipse\\org.apache.lucene\\src\\org\\apache\\lucene\\demo\\html\\ParserThread.java          </td><td>1                                                                                            </td><td> 1                                                                                           </td><td> 1                                                                                           </td><td>1                                                                                            </td><td>0                                                                                            </td><td>0                                                                                            </td><td>1                                                                                            </td><td> 1                                                                                           </td><td> 1                                                                                           </td><td>...                                                                                          </td><td>0                                                                                            </td><td>0                                                                                            </td><td>1                                                                                            </td><td>  95                                                                                         </td><td>0                                                                                            </td><td>0                                                                                            </td><td> 1                                                                                           </td><td> 0                                                                                           </td><td> 1                                                                                           </td><td> 0                                                                                           </td></tr>\n",
       "\t<tr><td>eclipse\\org.apache.lucene\\src\\org\\apache\\lucene\\demo\\html\\SimpleCharStream.java      </td><td>1                                                                                            </td><td>14                                                                                           </td><td>14                                                                                           </td><td>1                                                                                            </td><td>1                                                                                            </td><td>1                                                                                            </td><td>1                                                                                            </td><td>22                                                                                           </td><td>22                                                                                           </td><td>...                                                                                          </td><td>0                                                                                            </td><td>0                                                                                            </td><td>1                                                                                            </td><td> 401                                                                                         </td><td>0                                                                                            </td><td>0                                                                                            </td><td>14                                                                                           </td><td> 1                                                                                           </td><td>22                                                                                           </td><td> 0                                                                                           </td></tr>\n",
       "</tbody>\n",
       "</table>\n"
      ],
      "text/latex": [
       "\\begin{tabular}{r|llllllllllllllllllllll}\n",
       " file & NOF\\_num & NOF\\_max & NOF\\_total & NSF\\_num & NSF\\_max & NSF\\_total & NOM\\_num & NOM\\_max & NOM\\_total & ... & NSM\\_total & NOI & NOT & TLOC & pre & post & NOF\\_avg & NSF\\_avg & NOM\\_avg & NSM\\_avg\\\\\n",
       "\\hline\n",
       "\t eclipse\\textbackslash{}org.apache.lucene\\textbackslash{}src\\textbackslash{}org\\textbackslash{}apache\\textbackslash{}lucene\\textbackslash{}demo\\textbackslash{}html\\textbackslash{}Entities.java               & 1                                                                                                                                                                                                                     &  0                                                                                                                                                                                                                    &  0                                                                                                                                                                                                                    & 1                                                                                                                                                                                                                     & 2                                                                                                                                                                                                                     & 2                                                                                                                                                                                                                     & 1                                                                                                                                                                                                                     &  0                                                                                                                                                                                                                    &  0                                                                                                                                                                                                                    & ...                                                                                                                                                                                                                   & 3                                                                                                                                                                                                                     & 0                                                                                                                                                                                                                     & 1                                                                                                                                                                                                                     &  365                                                                                                                                                                                                                  & 0                                                                                                                                                                                                                     & 0                                                                                                                                                                                                                     &  0                                                                                                                                                                                                                    &  2                                                                                                                                                                                                                    &  0                                                                                                                                                                                                                    &  3                                                                                                                                                                                                                   \\\\\n",
       "\t eclipse\\textbackslash{}org.apache.lucene\\textbackslash{}src\\textbackslash{}org\\textbackslash{}apache\\textbackslash{}lucene\\textbackslash{}demo\\textbackslash{}html\\textbackslash{}HTMLParserConstants.java    & 0                                                                                                                                                                                                                     &  0                                                                                                                                                                                                                    &  0                                                                                                                                                                                                                    & 0                                                                                                                                                                                                                     & 0                                                                                                                                                                                                                     & 0                                                                                                                                                                                                                     & 0                                                                                                                                                                                                                     &  0                                                                                                                                                                                                                    &  0                                                                                                                                                                                                                    & ...                                                                                                                                                                                                                   & 0                                                                                                                                                                                                                     & 1                                                                                                                                                                                                                     & 0                                                                                                                                                                                                                     &   73                                                                                                                                                                                                                  & 0                                                                                                                                                                                                                     & 0                                                                                                                                                                                                                     & NA                                                                                                                                                                                                                    & NA                                                                                                                                                                                                                    & NA                                                                                                                                                                                                                    & NA                                                                                                                                                                                                                   \\\\\n",
       "\t eclipse\\textbackslash{}org.apache.lucene\\textbackslash{}src\\textbackslash{}org\\textbackslash{}apache\\textbackslash{}lucene\\textbackslash{}demo\\textbackslash{}html\\textbackslash{}HTMLParserTokenManager.java & 1                                                                                                                                                                                                                     & 11                                                                                                                                                                                                                    & 11                                                                                                                                                                                                                    & 1                                                                                                                                                                                                                     & 8                                                                                                                                                                                                                     & 8                                                                                                                                                                                                                     & 1                                                                                                                                                                                                                     & 47                                                                                                                                                                                                                    & 47                                                                                                                                                                                                                    & ...                                                                                                                                                                                                                   & 1                                                                                                                                                                                                                     & 0                                                                                                                                                                                                                     & 1                                                                                                                                                                                                                     & 1426                                                                                                                                                                                                                  & 0                                                                                                                                                                                                                     & 0                                                                                                                                                                                                                     & 11                                                                                                                                                                                                                    &  8                                                                                                                                                                                                                    & 47                                                                                                                                                                                                                    &  1                                                                                                                                                                                                                   \\\\\n",
       "\t eclipse\\textbackslash{}org.apache.lucene\\textbackslash{}src\\textbackslash{}org\\textbackslash{}apache\\textbackslash{}lucene\\textbackslash{}demo\\textbackslash{}html\\textbackslash{}ParseException.java         & 1                                                                                                                                                                                                                     &  5                                                                                                                                                                                                                    &  5                                                                                                                                                                                                                    & 1                                                                                                                                                                                                                     & 0                                                                                                                                                                                                                     & 0                                                                                                                                                                                                                     & 1                                                                                                                                                                                                                     &  2                                                                                                                                                                                                                    &  2                                                                                                                                                                                                                    & ...                                                                                                                                                                                                                   & 0                                                                                                                                                                                                                     & 0                                                                                                                                                                                                                     & 1                                                                                                                                                                                                                     &  192                                                                                                                                                                                                                  & 0                                                                                                                                                                                                                     & 0                                                                                                                                                                                                                     &  5                                                                                                                                                                                                                    &  0                                                                                                                                                                                                                    &  2                                                                                                                                                                                                                    &  0                                                                                                                                                                                                                   \\\\\n",
       "\t eclipse\\textbackslash{}org.apache.lucene\\textbackslash{}src\\textbackslash{}org\\textbackslash{}apache\\textbackslash{}lucene\\textbackslash{}demo\\textbackslash{}html\\textbackslash{}ParserThread.java           & 1                                                                                                                                                                                                                     &  1                                                                                                                                                                                                                    &  1                                                                                                                                                                                                                    & 1                                                                                                                                                                                                                     & 0                                                                                                                                                                                                                     & 0                                                                                                                                                                                                                     & 1                                                                                                                                                                                                                     &  1                                                                                                                                                                                                                    &  1                                                                                                                                                                                                                    & ...                                                                                                                                                                                                                   & 0                                                                                                                                                                                                                     & 0                                                                                                                                                                                                                     & 1                                                                                                                                                                                                                     &   95                                                                                                                                                                                                                  & 0                                                                                                                                                                                                                     & 0                                                                                                                                                                                                                     &  1                                                                                                                                                                                                                    &  0                                                                                                                                                                                                                    &  1                                                                                                                                                                                                                    &  0                                                                                                                                                                                                                   \\\\\n",
       "\t eclipse\\textbackslash{}org.apache.lucene\\textbackslash{}src\\textbackslash{}org\\textbackslash{}apache\\textbackslash{}lucene\\textbackslash{}demo\\textbackslash{}html\\textbackslash{}SimpleCharStream.java       & 1                                                                                                                                                                                                                     & 14                                                                                                                                                                                                                    & 14                                                                                                                                                                                                                    & 1                                                                                                                                                                                                                     & 1                                                                                                                                                                                                                     & 1                                                                                                                                                                                                                     & 1                                                                                                                                                                                                                     & 22                                                                                                                                                                                                                    & 22                                                                                                                                                                                                                    & ...                                                                                                                                                                                                                   & 0                                                                                                                                                                                                                     & 0                                                                                                                                                                                                                     & 1                                                                                                                                                                                                                     &  401                                                                                                                                                                                                                  & 0                                                                                                                                                                                                                     & 0                                                                                                                                                                                                                     & 14                                                                                                                                                                                                                    &  1                                                                                                                                                                                                                    & 22                                                                                                                                                                                                                    &  0                                                                                                                                                                                                                   \\\\\n",
       "\\end{tabular}\n"
      ],
      "text/markdown": [
       "\n",
       "| file | NOF_num | NOF_max | NOF_total | NSF_num | NSF_max | NSF_total | NOM_num | NOM_max | NOM_total | ... | NSM_total | NOI | NOT | TLOC | pre | post | NOF_avg | NSF_avg | NOM_avg | NSM_avg |\n",
       "|---|---|---|---|---|---|---|---|---|---|---|---|---|---|---|---|---|---|---|---|---|\n",
       "| eclipse\\org.apache.lucene\\src\\org\\apache\\lucene\\demo\\html\\Entities.java               | 1                                                                                             |  0                                                                                            |  0                                                                                            | 1                                                                                             | 2                                                                                             | 2                                                                                             | 1                                                                                             |  0                                                                                            |  0                                                                                            | ...                                                                                           | 3                                                                                             | 0                                                                                             | 1                                                                                             |  365                                                                                          | 0                                                                                             | 0                                                                                             |  0                                                                                            |  2                                                                                            |  0                                                                                            |  3                                                                                            |\n",
       "| eclipse\\org.apache.lucene\\src\\org\\apache\\lucene\\demo\\html\\HTMLParserConstants.java    | 0                                                                                             |  0                                                                                            |  0                                                                                            | 0                                                                                             | 0                                                                                             | 0                                                                                             | 0                                                                                             |  0                                                                                            |  0                                                                                            | ...                                                                                           | 0                                                                                             | 1                                                                                             | 0                                                                                             |   73                                                                                          | 0                                                                                             | 0                                                                                             | NA                                                                                            | NA                                                                                            | NA                                                                                            | NA                                                                                            |\n",
       "| eclipse\\org.apache.lucene\\src\\org\\apache\\lucene\\demo\\html\\HTMLParserTokenManager.java | 1                                                                                             | 11                                                                                            | 11                                                                                            | 1                                                                                             | 8                                                                                             | 8                                                                                             | 1                                                                                             | 47                                                                                            | 47                                                                                            | ...                                                                                           | 1                                                                                             | 0                                                                                             | 1                                                                                             | 1426                                                                                          | 0                                                                                             | 0                                                                                             | 11                                                                                            |  8                                                                                            | 47                                                                                            |  1                                                                                            |\n",
       "| eclipse\\org.apache.lucene\\src\\org\\apache\\lucene\\demo\\html\\ParseException.java         | 1                                                                                             |  5                                                                                            |  5                                                                                            | 1                                                                                             | 0                                                                                             | 0                                                                                             | 1                                                                                             |  2                                                                                            |  2                                                                                            | ...                                                                                           | 0                                                                                             | 0                                                                                             | 1                                                                                             |  192                                                                                          | 0                                                                                             | 0                                                                                             |  5                                                                                            |  0                                                                                            |  2                                                                                            |  0                                                                                            |\n",
       "| eclipse\\org.apache.lucene\\src\\org\\apache\\lucene\\demo\\html\\ParserThread.java           | 1                                                                                             |  1                                                                                            |  1                                                                                            | 1                                                                                             | 0                                                                                             | 0                                                                                             | 1                                                                                             |  1                                                                                            |  1                                                                                            | ...                                                                                           | 0                                                                                             | 0                                                                                             | 1                                                                                             |   95                                                                                          | 0                                                                                             | 0                                                                                             |  1                                                                                            |  0                                                                                            |  1                                                                                            |  0                                                                                            |\n",
       "| eclipse\\org.apache.lucene\\src\\org\\apache\\lucene\\demo\\html\\SimpleCharStream.java       | 1                                                                                             | 14                                                                                            | 14                                                                                            | 1                                                                                             | 1                                                                                             | 1                                                                                             | 1                                                                                             | 22                                                                                            | 22                                                                                            | ...                                                                                           | 0                                                                                             | 0                                                                                             | 1                                                                                             |  401                                                                                          | 0                                                                                             | 0                                                                                             | 14                                                                                            |  1                                                                                            | 22                                                                                            |  0                                                                                            |\n",
       "\n"
      ],
      "text/plain": [
       "  file                                                                                         \n",
       "1 eclipse\\\\org.apache.lucene\\\\src\\\\org\\\\apache\\\\lucene\\\\demo\\\\html\\\\Entities.java              \n",
       "2 eclipse\\\\org.apache.lucene\\\\src\\\\org\\\\apache\\\\lucene\\\\demo\\\\html\\\\HTMLParserConstants.java   \n",
       "3 eclipse\\\\org.apache.lucene\\\\src\\\\org\\\\apache\\\\lucene\\\\demo\\\\html\\\\HTMLParserTokenManager.java\n",
       "4 eclipse\\\\org.apache.lucene\\\\src\\\\org\\\\apache\\\\lucene\\\\demo\\\\html\\\\ParseException.java        \n",
       "5 eclipse\\\\org.apache.lucene\\\\src\\\\org\\\\apache\\\\lucene\\\\demo\\\\html\\\\ParserThread.java          \n",
       "6 eclipse\\\\org.apache.lucene\\\\src\\\\org\\\\apache\\\\lucene\\\\demo\\\\html\\\\SimpleCharStream.java      \n",
       "  NOF_num NOF_max NOF_total NSF_num NSF_max NSF_total NOM_num NOM_max NOM_total\n",
       "1 1        0       0        1       2       2         1        0       0       \n",
       "2 0        0       0        0       0       0         0        0       0       \n",
       "3 1       11      11        1       8       8         1       47      47       \n",
       "4 1        5       5        1       0       0         1        2       2       \n",
       "5 1        1       1        1       0       0         1        1       1       \n",
       "6 1       14      14        1       1       1         1       22      22       \n",
       "  ... NSM_total NOI NOT TLOC pre post NOF_avg NSF_avg NOM_avg NSM_avg\n",
       "1 ... 3         0   1    365 0   0     0       2       0       3     \n",
       "2 ... 0         1   0     73 0   0    NA      NA      NA      NA     \n",
       "3 ... 1         0   1   1426 0   0    11       8      47       1     \n",
       "4 ... 0         0   1    192 0   0     5       0       2       0     \n",
       "5 ... 0         0   1     95 0   0     1       0       1       0     \n",
       "6 ... 0         0   1    401 0   0    14       1      22       0     "
      ]
     },
     "metadata": {},
     "output_type": "display_data"
    }
   ],
   "source": [
    "head(files_211)"
   ]
  },
  {
   "cell_type": "code",
   "execution_count": 3,
   "metadata": {},
   "outputs": [
    {
     "name": "stdout",
     "output_type": "stream",
     "text": [
      "[1] \"file +\"\n",
      "[1] \"NOF_num +\"\n",
      "[1] \"NOF_max +\"\n",
      "[1] \"NOF_total +\"\n",
      "[1] \"NSF_num +\"\n",
      "[1] \"NSF_max +\"\n",
      "[1] \"NSF_total +\"\n",
      "[1] \"NOM_num +\"\n",
      "[1] \"NOM_max +\"\n",
      "[1] \"NOM_total +\"\n",
      "[1] \"NSM_num +\"\n",
      "[1] \"NSM_max +\"\n",
      "[1] \"NSM_total +\"\n",
      "[1] \"NOI +\"\n",
      "[1] \"NOT +\"\n",
      "[1] \"TLOC +\"\n",
      "[1] \"pre +\"\n",
      "[1] \"post +\"\n",
      "[1] \"NOF_avg +\"\n",
      "[1] \"NSF_avg +\"\n",
      "[1] \"NOM_avg +\"\n",
      "[1] \"NSM_avg +\"\n"
     ]
    },
    {
     "data": {
      "text/html": [
       "<ol class=list-inline>\n",
       "\t<li>'file'</li>\n",
       "\t<li>'NOF_num'</li>\n",
       "\t<li>'NOF_max'</li>\n",
       "\t<li>'NOF_total'</li>\n",
       "\t<li>'NSF_num'</li>\n",
       "\t<li>'NSF_max'</li>\n",
       "\t<li>'NSF_total'</li>\n",
       "\t<li>'NOM_num'</li>\n",
       "\t<li>'NOM_max'</li>\n",
       "\t<li>'NOM_total'</li>\n",
       "\t<li>'NSM_num'</li>\n",
       "\t<li>'NSM_max'</li>\n",
       "\t<li>'NSM_total'</li>\n",
       "\t<li>'NOI'</li>\n",
       "\t<li>'NOT'</li>\n",
       "\t<li>'TLOC'</li>\n",
       "\t<li>'pre'</li>\n",
       "\t<li>'post'</li>\n",
       "\t<li>'NOF_avg'</li>\n",
       "\t<li>'NSF_avg'</li>\n",
       "\t<li>'NOM_avg'</li>\n",
       "\t<li>'NSM_avg'</li>\n",
       "</ol>\n"
      ],
      "text/latex": [
       "\\begin{enumerate*}\n",
       "\\item 'file'\n",
       "\\item 'NOF\\_num'\n",
       "\\item 'NOF\\_max'\n",
       "\\item 'NOF\\_total'\n",
       "\\item 'NSF\\_num'\n",
       "\\item 'NSF\\_max'\n",
       "\\item 'NSF\\_total'\n",
       "\\item 'NOM\\_num'\n",
       "\\item 'NOM\\_max'\n",
       "\\item 'NOM\\_total'\n",
       "\\item 'NSM\\_num'\n",
       "\\item 'NSM\\_max'\n",
       "\\item 'NSM\\_total'\n",
       "\\item 'NOI'\n",
       "\\item 'NOT'\n",
       "\\item 'TLOC'\n",
       "\\item 'pre'\n",
       "\\item 'post'\n",
       "\\item 'NOF\\_avg'\n",
       "\\item 'NSF\\_avg'\n",
       "\\item 'NOM\\_avg'\n",
       "\\item 'NSM\\_avg'\n",
       "\\end{enumerate*}\n"
      ],
      "text/markdown": [
       "1. 'file'\n",
       "2. 'NOF_num'\n",
       "3. 'NOF_max'\n",
       "4. 'NOF_total'\n",
       "5. 'NSF_num'\n",
       "6. 'NSF_max'\n",
       "7. 'NSF_total'\n",
       "8. 'NOM_num'\n",
       "9. 'NOM_max'\n",
       "10. 'NOM_total'\n",
       "11. 'NSM_num'\n",
       "12. 'NSM_max'\n",
       "13. 'NSM_total'\n",
       "14. 'NOI'\n",
       "15. 'NOT'\n",
       "16. 'TLOC'\n",
       "17. 'pre'\n",
       "18. 'post'\n",
       "19. 'NOF_avg'\n",
       "20. 'NSF_avg'\n",
       "21. 'NOM_avg'\n",
       "22. 'NSM_avg'\n",
       "\n",
       "\n"
      ],
      "text/plain": [
       " [1] \"file\"      \"NOF_num\"   \"NOF_max\"   \"NOF_total\" \"NSF_num\"   \"NSF_max\"  \n",
       " [7] \"NSF_total\" \"NOM_num\"   \"NOM_max\"   \"NOM_total\" \"NSM_num\"   \"NSM_max\"  \n",
       "[13] \"NSM_total\" \"NOI\"       \"NOT\"       \"TLOC\"      \"pre\"       \"post\"     \n",
       "[19] \"NOF_avg\"   \"NSF_avg\"   \"NOM_avg\"   \"NSM_avg\"  "
      ]
     },
     "metadata": {},
     "output_type": "display_data"
    }
   ],
   "source": [
    "col_name <- names(files_211)\n",
    "env_vars <- col_name\n",
    "for (env in env_vars){\n",
    "   print(paste(env, \"+\"))\n",
    "}\n",
    "env_vars"
   ]
  },
  {
   "cell_type": "code",
   "execution_count": 4,
   "metadata": {},
   "outputs": [
    {
     "data": {
      "text/html": [
       "<table>\n",
       "<thead><tr><th></th><th scope=col>files_301[, 1]</th><th scope=col>pre</th><th scope=col>post</th><th scope=col>NOF_num</th><th scope=col>NOF_max</th><th scope=col>NOF_total</th><th scope=col>NSF_num</th><th scope=col>NSF_max</th><th scope=col>NSF_total</th><th scope=col>NOM_num</th><th scope=col>...</th><th scope=col>NSM_num</th><th scope=col>NSM_max</th><th scope=col>NSM_total</th><th scope=col>NOI</th><th scope=col>NOT</th><th scope=col>TLOC</th><th scope=col>NOF_avg</th><th scope=col>NSF_avg</th><th scope=col>NOM_avg</th><th scope=col>NSM_avg</th></tr></thead>\n",
       "<tbody>\n",
       "\t<tr><th scope=row>1</th><td>eclipse\\org.apache.lucene\\src\\org\\apache\\lucene\\demo\\html\\Entities.java              </td><td>0                                                                                            </td><td>0                                                                                            </td><td>1                                                                                            </td><td> 0                                                                                           </td><td> 0                                                                                           </td><td>1                                                                                            </td><td>2                                                                                            </td><td>2                                                                                            </td><td>1                                                                                            </td><td>...                                                                                          </td><td>1                                                                                            </td><td>3                                                                                            </td><td>3                                                                                            </td><td>0                                                                                            </td><td>1                                                                                            </td><td> 365                                                                                         </td><td> 0.00                                                                                        </td><td>2.0                                                                                          </td><td> 0.0                                                                                         </td><td>3.00                                                                                         </td></tr>\n",
       "\t<tr><th scope=row>2</th><td>eclipse\\org.apache.lucene\\src\\org\\apache\\lucene\\demo\\html\\HTMLParser.java            </td><td>2                                                                                            </td><td>0                                                                                            </td><td>4                                                                                            </td><td>41                                                                                           </td><td>45                                                                                           </td><td>4                                                                                            </td><td>2                                                                                            </td><td>2                                                                                            </td><td>4                                                                                            </td><td>...                                                                                          </td><td>4                                                                                            </td><td>1                                                                                            </td><td>1                                                                                            </td><td>0                                                                                            </td><td>4                                                                                            </td><td> 768                                                                                         </td><td>11.25                                                                                        </td><td>0.5                                                                                          </td><td> 8.5                                                                                         </td><td>0.25                                                                                         </td></tr>\n",
       "\t<tr><th scope=row>4</th><td>eclipse\\org.apache.lucene\\src\\org\\apache\\lucene\\demo\\html\\HTMLParserTokenManager.java</td><td>0                                                                                            </td><td>0                                                                                            </td><td>1                                                                                            </td><td>11                                                                                           </td><td>11                                                                                           </td><td>1                                                                                            </td><td>8                                                                                            </td><td>8                                                                                            </td><td>1                                                                                            </td><td>...                                                                                          </td><td>1                                                                                            </td><td>1                                                                                            </td><td>1                                                                                            </td><td>0                                                                                            </td><td>1                                                                                            </td><td>1683                                                                                         </td><td>11.00                                                                                        </td><td>8.0                                                                                          </td><td>52.0                                                                                         </td><td>1.00                                                                                         </td></tr>\n",
       "\t<tr><th scope=row>5</th><td>eclipse\\org.apache.lucene\\src\\org\\apache\\lucene\\demo\\html\\ParseException.java        </td><td>0                                                                                            </td><td>0                                                                                            </td><td>1                                                                                            </td><td> 5                                                                                           </td><td> 5                                                                                           </td><td>1                                                                                            </td><td>0                                                                                            </td><td>0                                                                                            </td><td>1                                                                                            </td><td>...                                                                                          </td><td>1                                                                                            </td><td>0                                                                                            </td><td>0                                                                                            </td><td>0                                                                                            </td><td>1                                                                                            </td><td> 192                                                                                         </td><td> 5.00                                                                                        </td><td>0.0                                                                                          </td><td> 2.0                                                                                         </td><td>0.00                                                                                         </td></tr>\n",
       "\t<tr><th scope=row>6</th><td>eclipse\\org.apache.lucene\\src\\org\\apache\\lucene\\demo\\html\\ParserThread.java          </td><td>0                                                                                            </td><td>0                                                                                            </td><td>1                                                                                            </td><td> 1                                                                                           </td><td> 1                                                                                           </td><td>1                                                                                            </td><td>0                                                                                            </td><td>0                                                                                            </td><td>1                                                                                            </td><td>...                                                                                          </td><td>1                                                                                            </td><td>0                                                                                            </td><td>0                                                                                            </td><td>0                                                                                            </td><td>1                                                                                            </td><td>  95                                                                                         </td><td> 1.00                                                                                        </td><td>0.0                                                                                          </td><td> 1.0                                                                                         </td><td>0.00                                                                                         </td></tr>\n",
       "\t<tr><th scope=row>7</th><td>eclipse\\org.apache.lucene\\src\\org\\apache\\lucene\\demo\\html\\SimpleCharStream.java      </td><td>0                                                                                            </td><td>0                                                                                            </td><td>1                                                                                            </td><td>14                                                                                           </td><td>14                                                                                           </td><td>1                                                                                            </td><td>1                                                                                            </td><td>1                                                                                            </td><td>1                                                                                            </td><td>...                                                                                          </td><td>1                                                                                            </td><td>0                                                                                            </td><td>0                                                                                            </td><td>0                                                                                            </td><td>1                                                                                            </td><td> 401                                                                                         </td><td>14.00                                                                                        </td><td>1.0                                                                                          </td><td>22.0                                                                                         </td><td>0.00                                                                                         </td></tr>\n",
       "</tbody>\n",
       "</table>\n"
      ],
      "text/latex": [
       "\\begin{tabular}{r|llllllllllllllllllllll}\n",
       "  & files\\_301{[}, 1{]} & pre & post & NOF\\_num & NOF\\_max & NOF\\_total & NSF\\_num & NSF\\_max & NSF\\_total & NOM\\_num & ... & NSM\\_num & NSM\\_max & NSM\\_total & NOI & NOT & TLOC & NOF\\_avg & NSF\\_avg & NOM\\_avg & NSM\\_avg\\\\\n",
       "\\hline\n",
       "\t1 & eclipse\\textbackslash{}org.apache.lucene\\textbackslash{}src\\textbackslash{}org\\textbackslash{}apache\\textbackslash{}lucene\\textbackslash{}demo\\textbackslash{}html\\textbackslash{}Entities.java               & 0                                                                                                                                                                                                                     & 0                                                                                                                                                                                                                     & 1                                                                                                                                                                                                                     &  0                                                                                                                                                                                                                    &  0                                                                                                                                                                                                                    & 1                                                                                                                                                                                                                     & 2                                                                                                                                                                                                                     & 2                                                                                                                                                                                                                     & 1                                                                                                                                                                                                                     & ...                                                                                                                                                                                                                   & 1                                                                                                                                                                                                                     & 3                                                                                                                                                                                                                     & 3                                                                                                                                                                                                                     & 0                                                                                                                                                                                                                     & 1                                                                                                                                                                                                                     &  365                                                                                                                                                                                                                  &  0.00                                                                                                                                                                                                                 & 2.0                                                                                                                                                                                                                   &  0.0                                                                                                                                                                                                                  & 3.00                                                                                                                                                                                                                 \\\\\n",
       "\t2 & eclipse\\textbackslash{}org.apache.lucene\\textbackslash{}src\\textbackslash{}org\\textbackslash{}apache\\textbackslash{}lucene\\textbackslash{}demo\\textbackslash{}html\\textbackslash{}HTMLParser.java             & 2                                                                                                                                                                                                                     & 0                                                                                                                                                                                                                     & 4                                                                                                                                                                                                                     & 41                                                                                                                                                                                                                    & 45                                                                                                                                                                                                                    & 4                                                                                                                                                                                                                     & 2                                                                                                                                                                                                                     & 2                                                                                                                                                                                                                     & 4                                                                                                                                                                                                                     & ...                                                                                                                                                                                                                   & 4                                                                                                                                                                                                                     & 1                                                                                                                                                                                                                     & 1                                                                                                                                                                                                                     & 0                                                                                                                                                                                                                     & 4                                                                                                                                                                                                                     &  768                                                                                                                                                                                                                  & 11.25                                                                                                                                                                                                                 & 0.5                                                                                                                                                                                                                   &  8.5                                                                                                                                                                                                                  & 0.25                                                                                                                                                                                                                 \\\\\n",
       "\t4 & eclipse\\textbackslash{}org.apache.lucene\\textbackslash{}src\\textbackslash{}org\\textbackslash{}apache\\textbackslash{}lucene\\textbackslash{}demo\\textbackslash{}html\\textbackslash{}HTMLParserTokenManager.java & 0                                                                                                                                                                                                                     & 0                                                                                                                                                                                                                     & 1                                                                                                                                                                                                                     & 11                                                                                                                                                                                                                    & 11                                                                                                                                                                                                                    & 1                                                                                                                                                                                                                     & 8                                                                                                                                                                                                                     & 8                                                                                                                                                                                                                     & 1                                                                                                                                                                                                                     & ...                                                                                                                                                                                                                   & 1                                                                                                                                                                                                                     & 1                                                                                                                                                                                                                     & 1                                                                                                                                                                                                                     & 0                                                                                                                                                                                                                     & 1                                                                                                                                                                                                                     & 1683                                                                                                                                                                                                                  & 11.00                                                                                                                                                                                                                 & 8.0                                                                                                                                                                                                                   & 52.0                                                                                                                                                                                                                  & 1.00                                                                                                                                                                                                                 \\\\\n",
       "\t5 & eclipse\\textbackslash{}org.apache.lucene\\textbackslash{}src\\textbackslash{}org\\textbackslash{}apache\\textbackslash{}lucene\\textbackslash{}demo\\textbackslash{}html\\textbackslash{}ParseException.java         & 0                                                                                                                                                                                                                     & 0                                                                                                                                                                                                                     & 1                                                                                                                                                                                                                     &  5                                                                                                                                                                                                                    &  5                                                                                                                                                                                                                    & 1                                                                                                                                                                                                                     & 0                                                                                                                                                                                                                     & 0                                                                                                                                                                                                                     & 1                                                                                                                                                                                                                     & ...                                                                                                                                                                                                                   & 1                                                                                                                                                                                                                     & 0                                                                                                                                                                                                                     & 0                                                                                                                                                                                                                     & 0                                                                                                                                                                                                                     & 1                                                                                                                                                                                                                     &  192                                                                                                                                                                                                                  &  5.00                                                                                                                                                                                                                 & 0.0                                                                                                                                                                                                                   &  2.0                                                                                                                                                                                                                  & 0.00                                                                                                                                                                                                                 \\\\\n",
       "\t6 & eclipse\\textbackslash{}org.apache.lucene\\textbackslash{}src\\textbackslash{}org\\textbackslash{}apache\\textbackslash{}lucene\\textbackslash{}demo\\textbackslash{}html\\textbackslash{}ParserThread.java           & 0                                                                                                                                                                                                                     & 0                                                                                                                                                                                                                     & 1                                                                                                                                                                                                                     &  1                                                                                                                                                                                                                    &  1                                                                                                                                                                                                                    & 1                                                                                                                                                                                                                     & 0                                                                                                                                                                                                                     & 0                                                                                                                                                                                                                     & 1                                                                                                                                                                                                                     & ...                                                                                                                                                                                                                   & 1                                                                                                                                                                                                                     & 0                                                                                                                                                                                                                     & 0                                                                                                                                                                                                                     & 0                                                                                                                                                                                                                     & 1                                                                                                                                                                                                                     &   95                                                                                                                                                                                                                  &  1.00                                                                                                                                                                                                                 & 0.0                                                                                                                                                                                                                   &  1.0                                                                                                                                                                                                                  & 0.00                                                                                                                                                                                                                 \\\\\n",
       "\t7 & eclipse\\textbackslash{}org.apache.lucene\\textbackslash{}src\\textbackslash{}org\\textbackslash{}apache\\textbackslash{}lucene\\textbackslash{}demo\\textbackslash{}html\\textbackslash{}SimpleCharStream.java       & 0                                                                                                                                                                                                                     & 0                                                                                                                                                                                                                     & 1                                                                                                                                                                                                                     & 14                                                                                                                                                                                                                    & 14                                                                                                                                                                                                                    & 1                                                                                                                                                                                                                     & 1                                                                                                                                                                                                                     & 1                                                                                                                                                                                                                     & 1                                                                                                                                                                                                                     & ...                                                                                                                                                                                                                   & 1                                                                                                                                                                                                                     & 0                                                                                                                                                                                                                     & 0                                                                                                                                                                                                                     & 0                                                                                                                                                                                                                     & 1                                                                                                                                                                                                                     &  401                                                                                                                                                                                                                  & 14.00                                                                                                                                                                                                                 & 1.0                                                                                                                                                                                                                   & 22.0                                                                                                                                                                                                                  & 0.00                                                                                                                                                                                                                 \\\\\n",
       "\\end{tabular}\n"
      ],
      "text/markdown": [
       "\n",
       "| <!--/--> | files_301[, 1] | pre | post | NOF_num | NOF_max | NOF_total | NSF_num | NSF_max | NSF_total | NOM_num | ... | NSM_num | NSM_max | NSM_total | NOI | NOT | TLOC | NOF_avg | NSF_avg | NOM_avg | NSM_avg |\n",
       "|---|---|---|---|---|---|---|---|---|---|---|---|---|---|---|---|---|---|---|---|---|---|\n",
       "| 1 | eclipse\\org.apache.lucene\\src\\org\\apache\\lucene\\demo\\html\\Entities.java               | 0                                                                                             | 0                                                                                             | 1                                                                                             |  0                                                                                            |  0                                                                                            | 1                                                                                             | 2                                                                                             | 2                                                                                             | 1                                                                                             | ...                                                                                           | 1                                                                                             | 3                                                                                             | 3                                                                                             | 0                                                                                             | 1                                                                                             |  365                                                                                          |  0.00                                                                                         | 2.0                                                                                           |  0.0                                                                                          | 3.00                                                                                          |\n",
       "| 2 | eclipse\\org.apache.lucene\\src\\org\\apache\\lucene\\demo\\html\\HTMLParser.java             | 2                                                                                             | 0                                                                                             | 4                                                                                             | 41                                                                                            | 45                                                                                            | 4                                                                                             | 2                                                                                             | 2                                                                                             | 4                                                                                             | ...                                                                                           | 4                                                                                             | 1                                                                                             | 1                                                                                             | 0                                                                                             | 4                                                                                             |  768                                                                                          | 11.25                                                                                         | 0.5                                                                                           |  8.5                                                                                          | 0.25                                                                                          |\n",
       "| 4 | eclipse\\org.apache.lucene\\src\\org\\apache\\lucene\\demo\\html\\HTMLParserTokenManager.java | 0                                                                                             | 0                                                                                             | 1                                                                                             | 11                                                                                            | 11                                                                                            | 1                                                                                             | 8                                                                                             | 8                                                                                             | 1                                                                                             | ...                                                                                           | 1                                                                                             | 1                                                                                             | 1                                                                                             | 0                                                                                             | 1                                                                                             | 1683                                                                                          | 11.00                                                                                         | 8.0                                                                                           | 52.0                                                                                          | 1.00                                                                                          |\n",
       "| 5 | eclipse\\org.apache.lucene\\src\\org\\apache\\lucene\\demo\\html\\ParseException.java         | 0                                                                                             | 0                                                                                             | 1                                                                                             |  5                                                                                            |  5                                                                                            | 1                                                                                             | 0                                                                                             | 0                                                                                             | 1                                                                                             | ...                                                                                           | 1                                                                                             | 0                                                                                             | 0                                                                                             | 0                                                                                             | 1                                                                                             |  192                                                                                          |  5.00                                                                                         | 0.0                                                                                           |  2.0                                                                                          | 0.00                                                                                          |\n",
       "| 6 | eclipse\\org.apache.lucene\\src\\org\\apache\\lucene\\demo\\html\\ParserThread.java           | 0                                                                                             | 0                                                                                             | 1                                                                                             |  1                                                                                            |  1                                                                                            | 1                                                                                             | 0                                                                                             | 0                                                                                             | 1                                                                                             | ...                                                                                           | 1                                                                                             | 0                                                                                             | 0                                                                                             | 0                                                                                             | 1                                                                                             |   95                                                                                          |  1.00                                                                                         | 0.0                                                                                           |  1.0                                                                                          | 0.00                                                                                          |\n",
       "| 7 | eclipse\\org.apache.lucene\\src\\org\\apache\\lucene\\demo\\html\\SimpleCharStream.java       | 0                                                                                             | 0                                                                                             | 1                                                                                             | 14                                                                                            | 14                                                                                            | 1                                                                                             | 1                                                                                             | 1                                                                                             | 1                                                                                             | ...                                                                                           | 1                                                                                             | 0                                                                                             | 0                                                                                             | 0                                                                                             | 1                                                                                             |  401                                                                                          | 14.00                                                                                         | 1.0                                                                                           | 22.0                                                                                          | 0.00                                                                                          |\n",
       "\n"
      ],
      "text/plain": [
       "  files_301[, 1]                                                                               \n",
       "1 eclipse\\\\org.apache.lucene\\\\src\\\\org\\\\apache\\\\lucene\\\\demo\\\\html\\\\Entities.java              \n",
       "2 eclipse\\\\org.apache.lucene\\\\src\\\\org\\\\apache\\\\lucene\\\\demo\\\\html\\\\HTMLParser.java            \n",
       "4 eclipse\\\\org.apache.lucene\\\\src\\\\org\\\\apache\\\\lucene\\\\demo\\\\html\\\\HTMLParserTokenManager.java\n",
       "5 eclipse\\\\org.apache.lucene\\\\src\\\\org\\\\apache\\\\lucene\\\\demo\\\\html\\\\ParseException.java        \n",
       "6 eclipse\\\\org.apache.lucene\\\\src\\\\org\\\\apache\\\\lucene\\\\demo\\\\html\\\\ParserThread.java          \n",
       "7 eclipse\\\\org.apache.lucene\\\\src\\\\org\\\\apache\\\\lucene\\\\demo\\\\html\\\\SimpleCharStream.java      \n",
       "  pre post NOF_num NOF_max NOF_total NSF_num NSF_max NSF_total NOM_num ...\n",
       "1 0   0    1        0       0        1       2       2         1       ...\n",
       "2 2   0    4       41      45        4       2       2         4       ...\n",
       "4 0   0    1       11      11        1       8       8         1       ...\n",
       "5 0   0    1        5       5        1       0       0         1       ...\n",
       "6 0   0    1        1       1        1       0       0         1       ...\n",
       "7 0   0    1       14      14        1       1       1         1       ...\n",
       "  NSM_num NSM_max NSM_total NOI NOT TLOC NOF_avg NSF_avg NOM_avg NSM_avg\n",
       "1 1       3       3         0   1    365  0.00   2.0      0.0    3.00   \n",
       "2 4       1       1         0   4    768 11.25   0.5      8.5    0.25   \n",
       "4 1       1       1         0   1   1683 11.00   8.0     52.0    1.00   \n",
       "5 1       0       0         0   1    192  5.00   0.0      2.0    0.00   \n",
       "6 1       0       0         0   1     95  1.00   0.0      1.0    0.00   \n",
       "7 1       0       0         0   1    401 14.00   1.0     22.0    0.00   "
      ]
     },
     "metadata": {},
     "output_type": "display_data"
    }
   ],
   "source": [
    "files_211 = cbind(files_211[,1], files_211[c(\"pre\", \"post\")], files_211[,2:16], files_211[,19:22])\n",
    "files_211 <- na.omit(files_211)\n",
    "\n",
    "files_301 = cbind(files_301[,1], files_301[c(\"pre\", \"post\")], files_301[,2:16], files_301[,19:22])\n",
    "files_301 <- na.omit(files_301)\n",
    "\n",
    "head(files_301)"
   ]
  },
  {
   "cell_type": "code",
   "execution_count": 5,
   "metadata": {},
   "outputs": [
    {
     "data": {
      "image/png": "[encoded data removed]",
      "text/plain": [
       "Plot with title \"\""
      ]
     },
     "metadata": {},
     "output_type": "display_data"
    }
   ],
   "source": [
    "## set the parameter for drawing graphic. \n",
    "par(mar=c(5, 5, 2, 1) + 0.1)\n",
    "## drawing the histogram\n",
    "hist(files_301$post, freq=T, breaks=100, xlim=c(0,400), axes=F, main=\"\", xlab=\"Number of Post-Release Defects (per Package)\", ylab=\"Percentage\", col=\"darkgray\")\n",
    "axis(1)\n",
    "\n",
    "## this line, can draw the 0, 10%, 20% etc.. E.g., the 66.1 means the 661 (total number of lines) / 100 + 10. \n",
    "## the first param is: 2 means y axis. 1 means x. \n",
    "## \n",
    "axis(2, at=c(0, 1054, 1054*2, 1054*3, 1054*4, 1054*5, 1054*6), labels=c(\"0%\",\"10%\",\"20%\",\"30%\",\"40%\",\"50%\",\"60%\"), las=1)"
   ]
  },
  {
   "cell_type": "code",
   "execution_count": 9,
   "metadata": {},
   "outputs": [
    {
     "name": "stderr",
     "output_type": "stream",
     "text": [
      "Your code contains a unicode char which cannot be displayed in your\n",
      "current locale and R will silently convert it to an escaped form when the\n",
      "R kernel executes this code. This can lead to subtle errors if you use\n",
      "such chars to do comparisons. For more information, please see\n",
      "https://github.com/IRkernel/repr/wiki/Problems-with-unicode-on-windows"
     ]
    },
    {
     "data": {
      "text/html": [
       "<table>\n",
       "<tbody>\n",
       "\t<tr><th scope=row>pre</th><td>1.00000000 </td><td>1          </td><td>0.199091195</td><td>1          </td></tr>\n",
       "\t<tr><th scope=row>post</th><td>0.19909119 </td><td>1          </td><td>1.000000000</td><td>1          </td></tr>\n",
       "\t<tr><th scope=row>NOF_num</th><td>0.02607281 </td><td>0          </td><td>0.009750028</td><td>0          </td></tr>\n",
       "\t<tr><th scope=row>NOF_max</th><td>0.09261626 </td><td>1          </td><td>0.107986359</td><td>1          </td></tr>\n",
       "\t<tr><th scope=row>NOF_total</th><td>0.09252264 </td><td>1          </td><td>0.107003159</td><td>1          </td></tr>\n",
       "\t<tr><th scope=row>NSF_num</th><td>0.02607281 </td><td>0          </td><td>0.009750028</td><td>0          </td></tr>\n",
       "\t<tr><th scope=row>NSF_max</th><td>0.06865491 </td><td>1          </td><td>0.091593574</td><td>1          </td></tr>\n",
       "\t<tr><th scope=row>NSF_total</th><td>0.06858261 </td><td>1          </td><td>0.091438079</td><td>1          </td></tr>\n",
       "\t<tr><th scope=row>NOM_num</th><td>0.02607281 </td><td>0          </td><td>0.009750028</td><td>0          </td></tr>\n",
       "\t<tr><th scope=row>NOM_max</th><td>0.13087424 </td><td>1          </td><td>0.163860502</td><td>1          </td></tr>\n",
       "\t<tr><th scope=row>NOM_total</th><td>0.13150021 </td><td>1          </td><td>0.161463071</td><td>1          </td></tr>\n",
       "\t<tr><th scope=row>NSM_num</th><td>0.02607281 </td><td>0          </td><td>0.009750028</td><td>0          </td></tr>\n",
       "\t<tr><th scope=row>NSM_max</th><td>0.09204795 </td><td>1          </td><td>0.105654435</td><td>1          </td></tr>\n",
       "\t<tr><th scope=row>NSM_total</th><td>0.09183918 </td><td>1          </td><td>0.105384134</td><td>1          </td></tr>\n",
       "\t<tr><th scope=row>NOI</th><td>0.05360840 </td><td>1          </td><td>0.003267757</td><td>0          </td></tr>\n",
       "\t<tr><th scope=row>NOT</th><td>0.02607281 </td><td>0          </td><td>0.009750028</td><td>0          </td></tr>\n",
       "\t<tr><th scope=row>TLOC</th><td>0.16603693 </td><td>1          </td><td>0.210488853</td><td>1          </td></tr>\n",
       "\t<tr><th scope=row>NOF_avg</th><td>0.09337386 </td><td>1          </td><td>0.109884739</td><td>1          </td></tr>\n",
       "\t<tr><th scope=row>NSF_avg</th><td>0.06646582 </td><td>1          </td><td>0.089226479</td><td>1          </td></tr>\n",
       "\t<tr><th scope=row>NOM_avg</th><td>0.13260290 </td><td>1          </td><td>0.166118726</td><td>1          </td></tr>\n",
       "\t<tr><th scope=row>NSM_avg</th><td>0.09099035 </td><td>1          </td><td>0.106046133</td><td>1          </td></tr>\n",
       "</tbody>\n",
       "</table>\n"
      ],
      "text/latex": [
       "\\begin{tabular}{r|llll}\n",
       "\tpre & 1.00000000  & 1           & 0.199091195 & 1          \\\\\n",
       "\tpost & 0.19909119  & 1           & 1.000000000 & 1          \\\\\n",
       "\tNOF\\_num & 0.02607281  & 0           & 0.009750028 & 0          \\\\\n",
       "\tNOF\\_max & 0.09261626  & 1           & 0.107986359 & 1          \\\\\n",
       "\tNOF\\_total & 0.09252264  & 1           & 0.107003159 & 1          \\\\\n",
       "\tNSF\\_num & 0.02607281  & 0           & 0.009750028 & 0          \\\\\n",
       "\tNSF\\_max & 0.06865491  & 1           & 0.091593574 & 1          \\\\\n",
       "\tNSF\\_total & 0.06858261  & 1           & 0.091438079 & 1          \\\\\n",
       "\tNOM\\_num & 0.02607281  & 0           & 0.009750028 & 0          \\\\\n",
       "\tNOM\\_max & 0.13087424  & 1           & 0.163860502 & 1          \\\\\n",
       "\tNOM\\_total & 0.13150021  & 1           & 0.161463071 & 1          \\\\\n",
       "\tNSM\\_num & 0.02607281  & 0           & 0.009750028 & 0          \\\\\n",
       "\tNSM\\_max & 0.09204795  & 1           & 0.105654435 & 1          \\\\\n",
       "\tNSM\\_total & 0.09183918  & 1           & 0.105384134 & 1          \\\\\n",
       "\tNOI & 0.05360840  & 1           & 0.003267757 & 0          \\\\\n",
       "\tNOT & 0.02607281  & 0           & 0.009750028 & 0          \\\\\n",
       "\tTLOC & 0.16603693  & 1           & 0.210488853 & 1          \\\\\n",
       "\tNOF\\_avg & 0.09337386  & 1           & 0.109884739 & 1          \\\\\n",
       "\tNSF\\_avg & 0.06646582  & 1           & 0.089226479 & 1          \\\\\n",
       "\tNOM\\_avg & 0.13260290  & 1           & 0.166118726 & 1          \\\\\n",
       "\tNSM\\_avg & 0.09099035  & 1           & 0.106046133 & 1          \\\\\n",
       "\\end{tabular}\n"
      ],
      "text/markdown": [
       "\n",
       "| pre | 1.00000000  | 1           | 0.199091195 | 1           |\n",
       "| post | 0.19909119  | 1           | 1.000000000 | 1           |\n",
       "| NOF_num | 0.02607281  | 0           | 0.009750028 | 0           |\n",
       "| NOF_max | 0.09261626  | 1           | 0.107986359 | 1           |\n",
       "| NOF_total | 0.09252264  | 1           | 0.107003159 | 1           |\n",
       "| NSF_num | 0.02607281  | 0           | 0.009750028 | 0           |\n",
       "| NSF_max | 0.06865491  | 1           | 0.091593574 | 1           |\n",
       "| NSF_total | 0.06858261  | 1           | 0.091438079 | 1           |\n",
       "| NOM_num | 0.02607281  | 0           | 0.009750028 | 0           |\n",
       "| NOM_max | 0.13087424  | 1           | 0.163860502 | 1           |\n",
       "| NOM_total | 0.13150021  | 1           | 0.161463071 | 1           |\n",
       "| NSM_num | 0.02607281  | 0           | 0.009750028 | 0           |\n",
       "| NSM_max | 0.09204795  | 1           | 0.105654435 | 1           |\n",
       "| NSM_total | 0.09183918  | 1           | 0.105384134 | 1           |\n",
       "| NOI | 0.05360840  | 1           | 0.003267757 | 0           |\n",
       "| NOT | 0.02607281  | 0           | 0.009750028 | 0           |\n",
       "| TLOC | 0.16603693  | 1           | 0.210488853 | 1           |\n",
       "| NOF_avg | 0.09337386  | 1           | 0.109884739 | 1           |\n",
       "| NSF_avg | 0.06646582  | 1           | 0.089226479 | 1           |\n",
       "| NOM_avg | 0.13260290  | 1           | 0.166118726 | 1           |\n",
       "| NSM_avg | 0.09099035  | 1           | 0.106046133 | 1           |\n",
       "\n"
      ],
      "text/plain": [
       "          [,1]       [,2] [,3]        [,4]\n",
       "pre       1.00000000 1    0.199091195 1   \n",
       "post      0.19909119 1    1.000000000 1   \n",
       "NOF_num   0.02607281 0    0.009750028 0   \n",
       "NOF_max   0.09261626 1    0.107986359 1   \n",
       "NOF_total 0.09252264 1    0.107003159 1   \n",
       "NSF_num   0.02607281 0    0.009750028 0   \n",
       "NSF_max   0.06865491 1    0.091593574 1   \n",
       "NSF_total 0.06858261 1    0.091438079 1   \n",
       "NOM_num   0.02607281 0    0.009750028 0   \n",
       "NOM_max   0.13087424 1    0.163860502 1   \n",
       "NOM_total 0.13150021 1    0.161463071 1   \n",
       "NSM_num   0.02607281 0    0.009750028 0   \n",
       "NSM_max   0.09204795 1    0.105654435 1   \n",
       "NSM_total 0.09183918 1    0.105384134 1   \n",
       "NOI       0.05360840 1    0.003267757 0   \n",
       "NOT       0.02607281 0    0.009750028 0   \n",
       "TLOC      0.16603693 1    0.210488853 1   \n",
       "NOF_avg   0.09337386 1    0.109884739 1   \n",
       "NSF_avg   0.06646582 1    0.089226479 1   \n",
       "NOM_avg   0.13260290 1    0.166118726 1   \n",
       "NSM_avg   0.09099035 1    0.106046133 1   "
      ]
     },
     "metadata": {},
     "output_type": "display_data"
    }
   ],
   "source": [
    "## till now 2019年10月12日 there are only 22 lines in files. 21 of them are useful (the useless one is line ID)\n",
    "pre.p <- rep (-1, 21)\n",
    "post.p <- rep (-1, 21)\n",
    "for (i in 2:22) {\n",
    "    pre.p[i-1] <- cor.test(files_211[,i], files_211$pre, method=\"spearman\", exact=FALSE)$p.value\n",
    "    post.p[i-1] <- cor.test(files_211[,i], files_211$post, method=\"spearman\", exact=FALSE)$p.value\n",
    "}\n",
    "\n",
    "# p.value is the significance. If the significance is not enough (p is not small enough), the correlation results may not hold. \n",
    "cbind(\n",
    "    cor(files_211[,2:22], files_211$pre, method=\"spearman\"),\n",
    "    (pre.p<0.01),\n",
    "    cor(files_211[,2:22], files_211$post, method=\"spearman\"), \n",
    "    (post.p<0.1)\n",
    ")"
   ]
  },
  {
   "cell_type": "code",
   "execution_count": 10,
   "metadata": {},
   "outputs": [
    {
     "name": "stderr",
     "output_type": "stream",
     "text": [
      "Warning message in predict.lm(object, newdata, se.fit, scale = 1, type = ifelse(type == :\n",
      "\"prediction from a rank-deficient fit may be misleading\""
     ]
    },
    {
     "data": {
      "text/html": [
       "<ol class=list-inline>\n",
       "\t<li>0.140474299330534</li>\n",
       "\t<li>0.361538461538462</li>\n",
       "\t<li>0.0379644588045234</li>\n",
       "\t<li>0.855440826052423</li>\n",
       "</ol>\n"
      ],
      "text/latex": [
       "\\begin{enumerate*}\n",
       "\\item 0.140474299330534\n",
       "\\item 0.361538461538462\n",
       "\\item 0.0379644588045234\n",
       "\\item 0.855440826052423\n",
       "\\end{enumerate*}\n"
      ],
      "text/markdown": [
       "1. 0.140474299330534\n",
       "2. 0.361538461538462\n",
       "3. 0.0379644588045234\n",
       "4. 0.855440826052423\n",
       "\n",
       "\n"
      ],
      "text/plain": [
       "[1] 0.14047430 0.36153846 0.03796446 0.85544083"
      ]
     },
     "metadata": {},
     "output_type": "display_data"
    }
   ],
   "source": [
    "test_classification <- function (train, test) \n",
    "{\n",
    "    model.glm <- glm((post>0) ~ \n",
    "                                pre + \n",
    "                                NOF_num +\n",
    "                                NOF_max +\n",
    "                                NOF_total +\n",
    "                                NSF_num +\n",
    "                                NSF_max +\n",
    "                                NSF_total +\n",
    "                                NOM_num +\n",
    "                                NOM_max +\n",
    "                                NOM_total +\n",
    "                                NSM_num +\n",
    "                                NSM_max +\n",
    "                                NSM_total +\n",
    "                                NOI +\n",
    "                                NOT +\n",
    "                                TLOC +\n",
    "                                NOF_avg +\n",
    "                                NSF_avg +\n",
    "                                NOM_avg +\n",
    "                                NSM_avg, data=train, family = \"binomial\")\n",
    "    test.prob <- predict(model.glm, test, type=\"response\")\n",
    "    test.pred <- test.prob>=0.50\n",
    "\n",
    "    outcome <- table(factor(test$post>0, levels=c(F,T)), factor(test.pred, levels=c(F,T)))\n",
    "    TN <- outcome[1,1]\n",
    "    FN <- outcome[2,1]\n",
    "    FP <- outcome[1,2]\n",
    "    TP <- outcome[2,2]\n",
    "    precision <- if (TP + FP ==0) { 1 } else { TP / (TP + FP) }\n",
    "    recall <- TP / (TP + FN)\n",
    "    accuracy <- (TP + TN) / (TN + FN + FP + TP)\n",
    "    defects <- (TP + FN) / (TN + FN + FP + TP)\n",
    "    return (c(defects, precision, recall, accuracy))\n",
    "}\n",
    "\n",
    "\n",
    "test_classification(files_211, files_301)"
   ]
  },
  {
   "cell_type": "code",
   "execution_count": 11,
   "metadata": {},
   "outputs": [
    {
     "name": "stderr",
     "output_type": "stream",
     "text": [
      "Warning message in predict.lm(model.lm, test):\n",
      "\"prediction from a rank-deficient fit may be misleading\""
     ]
    },
    {
     "data": {
      "text/html": [
       "<ol class=list-inline>\n",
       "\t<li>0.0639109961988068</li>\n",
       "\t<li>0.200204982346417</li>\n",
       "\t<li>0.281481759006778</li>\n",
       "\t<li>1</li>\n",
       "\t<li>1</li>\n",
       "</ol>\n"
      ],
      "text/latex": [
       "\\begin{enumerate*}\n",
       "\\item 0.0639109961988068\n",
       "\\item 0.200204982346417\n",
       "\\item 0.281481759006778\n",
       "\\item 1\n",
       "\\item 1\n",
       "\\end{enumerate*}\n"
      ],
      "text/markdown": [
       "1. 0.0639109961988068\n",
       "2. 0.200204982346417\n",
       "3. 0.281481759006778\n",
       "4. 1\n",
       "5. 1\n",
       "\n",
       "\n"
      ],
      "text/plain": [
       "[1] 0.0639110 0.2002050 0.2814818 1.0000000 1.0000000"
      ]
     },
     "metadata": {},
     "output_type": "display_data"
    }
   ],
   "source": [
    "## need to understand how to interprete the r^2, pearson, spearman, and their p.value. \n",
    "test_ranking <- function (train, test) \n",
    "{\n",
    "    model.lm <- lm(post ~ \n",
    "                                pre + \n",
    "                                NOF_num +\n",
    "                                NOF_max +\n",
    "                                NOF_total +\n",
    "                                NSF_num +\n",
    "                                NSF_max +\n",
    "                                NSF_total +\n",
    "                                NOM_num +\n",
    "                                NOM_max +\n",
    "                                NOM_total +\n",
    "                                NSM_num +\n",
    "                                NSM_max +\n",
    "                                NSM_total +\n",
    "                                NOI +\n",
    "                                NOT +\n",
    "                                TLOC +\n",
    "                                NOF_avg +\n",
    "                                NSF_avg +\n",
    "                                NOM_avg +\n",
    "                                NSM_avg, data=train)\n",
    "    test.pred <- predict(model.lm, test)\n",
    "\n",
    "    r.squared <- summary(model.lm)$r.squared\n",
    "    pearson <- cor(test$post, test.pred, method=\"pearson\")\n",
    "    spearman <- cor(test$post, test.pred, method=\"spearman\")\n",
    "    pearson.p <- cor.test(test$post, test.pred, method=\"pearson\")$p.value\n",
    "    spearman.p <- cor.test(test$post, test.pred, method=\"spearman\", exact=FALSE)$p.value\n",
    "\n",
    "    return (c(r.squared, pearson, spearman, pearson.p<0.01, spearman.p<0.01))\n",
    "}\n",
    "\n",
    "\n",
    "test_ranking(files_211, files_301)"
   ]
  }
 ],
 "metadata": {
  "kernelspec": {
   "display_name": "R",
   "language": "R",
   "name": "ir"
  },
  "language_info": {
   "codemirror_mode": "r",
   "file_extension": ".r",
   "mimetype": "text/x-r-source",
   "name": "R",
   "pygments_lexer": "r",
   "version": "3.5.1"
  }
 },
 "nbformat": 4,
 "nbformat_minor": 2
}
